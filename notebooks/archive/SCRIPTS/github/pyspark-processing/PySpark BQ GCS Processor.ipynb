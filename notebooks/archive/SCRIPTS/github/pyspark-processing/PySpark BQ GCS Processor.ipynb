{
 "cells": [
  {
   "cell_type": "code",
   "execution_count": 1,
   "metadata": {},
   "outputs": [],
   "source": [
    "import os\n",
    "\n",
    "# os.environ['JAVA_HOME'] = '/etc/alternatives/java_sdk'\n",
    "os.environ[\"PYSPARK_PYTHON\"] = os.environ['HOME'] + \"/anaconda3/bin/python\"\n",
    "os.environ['SPARK_HOME'] = os.environ['HOME'] + '/spark-2.4.4-bin-hadoop2.7'  # Download spark from https://spark.apache.org/downloads.html\n",
    "os.environ[\"PYLIB\"] = os.environ[\"SPARK_HOME\"] + \"/python/lib\""
   ]
  },
  {
   "cell_type": "code",
   "execution_count": 2,
   "metadata": {},
   "outputs": [],
   "source": [
    "# os.environ['PYTHONPATH'] = ';'.join([\n",
    "#     os.environ['SPARK_HOME'] + '/python',\n",
    "#     os.environ[\"PYLIB\"] + '/py4j-0.10.7-src.zip',\n",
    "#     os.environ.get('PYTHONPATH', '')\n",
    "# ])"
   ]
  },
  {
   "cell_type": "code",
   "execution_count": 3,
   "metadata": {},
   "outputs": [],
   "source": [
    "import pyspark\n",
    "from pyspark import SparkConf\n",
    "from pyspark import SparkContext\n",
    "from pyspark.sql import SparkSession"
   ]
  },
  {
   "cell_type": "code",
   "execution_count": 4,
   "metadata": {},
   "outputs": [],
   "source": [
    "spark = (\n",
    "    SparkSession\n",
    "    .builder\n",
    "    .appName(\"Python Spark SQL basic example\")\n",
    "    .master('local[64]')\n",
    "    .config(\"spark.driver.memory\", \"200G\")\n",
    "    .config(\"spark.executor.memory\", \"16G\")\n",
    "    .config('spark.driver.maxResultSize', '200G')\n",
    "    .getOrCreate()\n",
    ")"
   ]
  },
  {
   "cell_type": "code",
   "execution_count": 5,
   "metadata": {},
   "outputs": [
    {
     "name": "stdout",
     "output_type": "stream",
     "text": [
      "CPU times: user 4.54 ms, sys: 3.38 ms, total: 7.92 ms\n",
      "Wall time: 15.6 s\n"
     ]
    }
   ],
   "source": [
    "%%time\n",
    "df = spark.read.json('../data/ipython_notebooks_python_and_R_scripts_imports_full/*.json')"
   ]
  },
  {
   "cell_type": "code",
   "execution_count": 6,
   "metadata": {},
   "outputs": [],
   "source": [
    "from pyspark.sql.functions import countDistinct"
   ]
  },
  {
   "cell_type": "code",
   "execution_count": 7,
   "metadata": {},
   "outputs": [
    {
     "name": "stdout",
     "output_type": "stream",
     "text": [
      "CPU times: user 1.73 ms, sys: 1.59 ms, total: 3.32 ms\n",
      "Wall time: 51.9 ms\n"
     ]
    }
   ],
   "source": [
    "%%time\n",
    "counts = df.groupBy('script_type').agg(countDistinct('repo_name'))"
   ]
  },
  {
   "cell_type": "code",
   "execution_count": 8,
   "metadata": {},
   "outputs": [
    {
     "name": "stdout",
     "output_type": "stream",
     "text": [
      "CPU times: user 6.55 ms, sys: 6.55 ms, total: 13.1 ms\n",
      "Wall time: 23.6 s\n"
     ]
    }
   ],
   "source": [
    "%%time\n",
    "c = counts.collect()"
   ]
  },
  {
   "cell_type": "code",
   "execution_count": 9,
   "metadata": {},
   "outputs": [],
   "source": [
    "cc = counts.toPandas()"
   ]
  },
  {
   "cell_type": "code",
   "execution_count": 10,
   "metadata": {},
   "outputs": [
    {
     "data": {
      "text/html": [
       "<div>\n",
       "<style scoped>\n",
       "    .dataframe tbody tr th:only-of-type {\n",
       "        vertical-align: middle;\n",
       "    }\n",
       "\n",
       "    .dataframe tbody tr th {\n",
       "        vertical-align: top;\n",
       "    }\n",
       "\n",
       "    .dataframe thead th {\n",
       "        text-align: right;\n",
       "    }\n",
       "</style>\n",
       "<table border=\"1\" class=\"dataframe\">\n",
       "  <thead>\n",
       "    <tr style=\"text-align: right;\">\n",
       "      <th></th>\n",
       "      <th>script_type</th>\n",
       "      <th>count(DISTINCT repo_name)</th>\n",
       "    </tr>\n",
       "  </thead>\n",
       "  <tbody>\n",
       "    <tr>\n",
       "      <td>0</td>\n",
       "      <td>R</td>\n",
       "      <td>20756</td>\n",
       "    </tr>\n",
       "    <tr>\n",
       "      <td>1</td>\n",
       "      <td>Python</td>\n",
       "      <td>562209</td>\n",
       "    </tr>\n",
       "    <tr>\n",
       "      <td>2</td>\n",
       "      <td>IPython</td>\n",
       "      <td>23776</td>\n",
       "    </tr>\n",
       "  </tbody>\n",
       "</table>\n",
       "</div>"
      ],
      "text/plain": [
       "  script_type  count(DISTINCT repo_name)\n",
       "0           R                      20756\n",
       "1      Python                     562209\n",
       "2     IPython                      23776"
      ]
     },
     "execution_count": 10,
     "metadata": {},
     "output_type": "execute_result"
    }
   ],
   "source": [
    "cc"
   ]
  },
  {
   "cell_type": "code",
   "execution_count": 7,
   "metadata": {},
   "outputs": [
    {
     "name": "stdout",
     "output_type": "stream",
     "text": [
      "CPU times: user 22min 19s, sys: 5min, total: 27min 20s\n",
      "Wall time: 42min 14s\n"
     ]
    }
   ],
   "source": [
    "# %%time\n",
    "# # 34.5G 4:00pm\n",
    "# pdf = df.toPandas()"
   ]
  },
  {
   "cell_type": "code",
   "execution_count": 14,
   "metadata": {},
   "outputs": [
    {
     "data": {
      "text/plain": [
       "951"
      ]
     },
     "execution_count": 14,
     "metadata": {},
     "output_type": "execute_result"
    }
   ],
   "source": [
    "import gc\n",
    "gc.collect()"
   ]
  },
  {
   "cell_type": "markdown",
   "metadata": {},
   "source": [
    "<h1><span style=\"color:red;\">Store full data to parquet file if we want to load the full data to pandas</span></h1>\n",
    "\n",
    "```python\n",
    "%%time\n",
    "df.write.parquet('ipython_notebooks_python_and_R_scripts_imports_full.parquet')\n",
    "\n",
    "# CPU times: user 13.9 ms, sys: 20.1 ms, total: 34 ms\n",
    "# Wall time: 46.2 s\n",
    "\n",
    "# Directly converting the full dataframe to pandas is really slow!\n",
    "# %%time\n",
    "# # 34.5G 4:00pm\n",
    "# pdf = df.toPandas()\n",
    "# # CPU times: user 22min 19s, sys: 5min, total: 27min 20s\n",
    "# # Wall time: 42min 14s\n",
    "\n",
    "```"
   ]
  },
  {
   "cell_type": "code",
   "execution_count": null,
   "metadata": {},
   "outputs": [],
   "source": []
  }
 ],
 "metadata": {
  "kernelspec": {
   "display_name": "Python 3",
   "language": "python",
   "name": "python3"
  },
  "language_info": {
   "codemirror_mode": {
    "name": "ipython",
    "version": 3
   },
   "file_extension": ".py",
   "mimetype": "text/x-python",
   "name": "python",
   "nbconvert_exporter": "python",
   "pygments_lexer": "ipython3",
   "version": "3.8.3-final"
  }
 },
 "nbformat": 4,
 "nbformat_minor": 4
}