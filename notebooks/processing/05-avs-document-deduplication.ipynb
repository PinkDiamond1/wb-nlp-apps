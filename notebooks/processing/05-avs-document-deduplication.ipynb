{
 "cells": [
  {
   "cell_type": "markdown",
   "metadata": {},
   "source": [
    "# Document deduplication\n",
    "\n",
    "Perform a basic deduplication of documents using cosine similarity.\n",
    "\n",
    "\n",
    "Use **scipy=1.3.1** to avoid library load error `(Library not loaded: @rpath/libopenblas.dylib)`."
   ]
  },
  {
   "cell_type": "code",
   "execution_count": 1,
   "metadata": {},
   "outputs": [],
   "source": [
    "import os\n",
    "import re\n",
    "import glob\n",
    "import warnings\n",
    "import importlib\n",
    "\n",
    "from gensim.utils import simple_preprocess\n",
    "from gensim.models.phrases import Phrases, Phraser\n",
    "from gensim import corpora\n",
    "from gensim.similarities import Similarity"
   ]
  },
  {
   "cell_type": "code",
   "execution_count": 2,
   "metadata": {},
   "outputs": [
    {
     "output_type": "execute_result",
     "data": {
      "text/plain": "<module 'wb_nlp.cleaning.cleaner' from '/Users/avsolatorio/WBG/wb_nlp/src/wb_nlp/cleaning/cleaner.py'>"
     },
     "metadata": {},
     "execution_count": 2
    }
   ],
   "source": [
    "from wb_nlp.cleaning import cleaner\n",
    "importlib.reload(cleaner)"
   ]
  },
  {
   "cell_type": "code",
   "execution_count": 3,
   "metadata": {},
   "outputs": [],
   "source": [
    "DATA_DIR = '../../src/wb_nlp'\n",
    "EXTENSION = 'py'\n",
    "\n",
    "simple_cleaner = cleaner.SimpleCleaner()\n",
    "lda_cleaner = cleaner.LDACleaner()\n",
    "word2vec_cleaner = cleaner.Word2VecCleaner()\n",
    "\n",
    "simple_corpus_generator = cleaner.CorpusCleaner(DATA_DIR, simple_cleaner.clean_text, extension=EXTENSION)\n",
    "lda_corpus_generator = cleaner.CorpusCleaner(DATA_DIR, lda_cleaner.clean_text, extension=EXTENSION)\n",
    "word2vec_corpus_generator = cleaner.CorpusCleaner(DATA_DIR, word2vec_cleaner.clean_text, extension=EXTENSION)"
   ]
  },
  {
   "cell_type": "code",
   "execution_count": 4,
   "metadata": {},
   "outputs": [],
   "source": [
    "corpus_generator = simple_corpus_generator"
   ]
  },
  {
   "cell_type": "markdown",
   "metadata": {},
   "source": [
    "## Load documents and compute phrases"
   ]
  },
  {
   "cell_type": "code",
   "execution_count": 5,
   "metadata": {},
   "outputs": [],
   "source": [
    "try:\n",
    "    corpus_generator.reset()\n",
    "except ValueError:\n",
    "    pass\n",
    "\n",
    "bigram = Phrases(corpus_generator, min_count=1)\n",
    "bigram_phraser = Phraser(bigram)"
   ]
  },
  {
   "cell_type": "code",
   "execution_count": 6,
   "metadata": {},
   "outputs": [],
   "source": [
    "doc_bigrams = list(corpus_generator.stream_gensim_transformer(bigram_phraser))\n",
    "dictionary = corpora.Dictionary(doc_bigrams)\n",
    "corpus = [dictionary.doc2bow(doc) for doc in doc_bigrams]\n",
    "\n",
    "index = Similarity(\n",
    "    corpus=corpus,\n",
    "    num_features=len(dictionary),\n",
    "    output_prefix='corpus_similarities')"
   ]
  },
  {
   "cell_type": "code",
   "execution_count": 7,
   "metadata": {},
   "outputs": [
    {
     "output_type": "execute_result",
     "data": {
      "text/plain": "array([0.17149858, 0.17149858, 0.17149858, 0.17149858, 0.34299716,\n       0.17149858, 0.17149858, 0.17149858, 0.17149858, 0.17149858,\n       0.17149858, 0.17149858, 0.34299716, 0.17149858, 0.17149858,\n       0.17149858, 0.17149858, 0.17149858, 0.17149858, 0.17149858,\n       0.17149858, 0.17149858, 0.17149858, 0.17149858, 0.17149858,\n       0.17149858, 0.17149858, 0.17149858, 0.        , 0.        ,\n       0.        , 0.        , 0.        , 0.        , 0.        ,\n       0.        , 0.        , 0.        , 0.        , 0.        ,\n       0.        , 0.        ], dtype=float32)"
     },
     "metadata": {},
     "execution_count": 7
    }
   ],
   "source": [
    "index.vector_by_id(0)"
   ]
  },
  {
   "cell_type": "code",
   "execution_count": 8,
   "metadata": {},
   "outputs": [
    {
     "output_type": "execute_result",
     "data": {
      "text/plain": "array([0.99999994, 0.01642659], dtype=float32)"
     },
     "metadata": {},
     "execution_count": 8
    }
   ],
   "source": [
    "index.similarity_by_id(0)"
   ]
  },
  {
   "cell_type": "code",
   "execution_count": 9,
   "metadata": {},
   "outputs": [
    {
     "output_type": "execute_result",
     "data": {
      "text/plain": "array([0.01642659, 1.        ], dtype=float32)"
     },
     "metadata": {},
     "execution_count": 9
    }
   ],
   "source": [
    "index.similarity_by_id(1)"
   ]
  },
  {
   "cell_type": "code",
   "execution_count": null,
   "metadata": {},
   "outputs": [],
   "source": []
  }
 ],
 "metadata": {
  "kernelspec": {
   "display_name": "wb_nlp",
   "language": "python",
   "name": "wb_nlp"
  },
  "language_info": {
   "codemirror_mode": {
    "name": "ipython",
    "version": 3
   },
   "file_extension": ".py",
   "mimetype": "text/x-python",
   "name": "python",
   "nbconvert_exporter": "python",
   "pygments_lexer": "ipython3",
   "version": "3.8.3"
  },
  "pycharm": {
   "stem_cell": {
    "cell_type": "raw",
    "metadata": {
     "collapsed": false
    },
    "source": []
   }
  }
 },
 "nbformat": 4,
 "nbformat_minor": 4
}