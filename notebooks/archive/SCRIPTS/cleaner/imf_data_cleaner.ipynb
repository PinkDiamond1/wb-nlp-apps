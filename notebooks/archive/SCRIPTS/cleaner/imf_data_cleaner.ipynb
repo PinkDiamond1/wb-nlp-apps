{
 "cells": [
  {
   "cell_type": "code",
   "execution_count": 1,
   "metadata": {
    "collapsed": true,
    "scrolled": true
   },
   "outputs": [],
   "source": [
    "%%capture\n",
    "\n",
    "# get_corpus_path\n",
    "# get_txt_orig_path\n",
    "# get_txt_clean_path\n",
    "%run ../path_manager.ipynb\n",
    "\n",
    "\n",
    "# CorpusCleaner\n",
    "%run ../DataCleanerModule.ipynb\n",
    "\n",
    "## Jupyter.notebook.save_checkpoint()"
   ]
  },
  {
   "cell_type": "code",
   "execution_count": 2,
   "metadata": {
    "scrolled": true
   },
   "outputs": [
    {
     "data": {
      "text/plain": [
       "True"
      ]
     },
     "execution_count": 2,
     "metadata": {},
     "output_type": "execute_result"
    }
   ],
   "source": [
    "ENCHANT_INSTALLED"
   ]
  },
  {
   "cell_type": "code",
   "execution_count": 3,
   "metadata": {
    "collapsed": true
   },
   "outputs": [],
   "source": [
    "import logging"
   ]
  },
  {
   "cell_type": "markdown",
   "metadata": {},
   "source": [
    "# Misspelling correction"
   ]
  },
  {
   "cell_type": "code",
   "execution_count": 4,
   "metadata": {
    "collapsed": true
   },
   "outputs": [],
   "source": [
    "CORPUS_ID = 'IMF'"
   ]
  },
  {
   "cell_type": "code",
   "execution_count": 5,
   "metadata": {
    "collapsed": true
   },
   "outputs": [],
   "source": [
    "logging.basicConfig(filename=f'../logs/{CORPUS_ID.lower()}-data-cleaning.log', format='%(asctime)s - %(message)s', level=logging.ERROR)\n",
    "logger = logging.getLogger(f'{CORPUS_ID.lower()}-cleaning')"
   ]
  },
  {
   "cell_type": "code",
   "execution_count": 6,
   "metadata": {
    "collapsed": true
   },
   "outputs": [],
   "source": [
    "TXT_ORIG_DIR = get_txt_orig_path(CORPUS_ID)\n",
    "TXT_CLEAN_DIR = get_txt_clean_path(CORPUS_ID)"
   ]
  },
  {
   "cell_type": "code",
   "execution_count": 7,
   "metadata": {
    "collapsed": true
   },
   "outputs": [],
   "source": [
    "metadata_file = pd.read_csv(os.path.join(get_corpus_path(CORPUS_ID), f'{CORPUS_ID.lower()}_metadata.csv'), low_memory=False)\n",
    "# metadata_file = metadata_file.dropna(axis=0, subset=['url_txt'])"
   ]
  },
  {
   "cell_type": "code",
   "execution_count": 8,
   "metadata": {},
   "outputs": [
    {
     "data": {
      "text/plain": [
       "(14147, 29)"
      ]
     },
     "execution_count": 8,
     "metadata": {},
     "output_type": "execute_result"
    }
   ],
   "source": [
    "metadata_file.shape"
   ]
  },
  {
   "cell_type": "code",
   "execution_count": 9,
   "metadata": {
    "scrolled": true
   },
   "outputs": [
    {
     "data": {
      "text/html": [
       "<div>\n",
       "<style scoped>\n",
       "    .dataframe tbody tr th:only-of-type {\n",
       "        vertical-align: middle;\n",
       "    }\n",
       "\n",
       "    .dataframe tbody tr th {\n",
       "        vertical-align: top;\n",
       "    }\n",
       "\n",
       "    .dataframe thead th {\n",
       "        text-align: right;\n",
       "    }\n",
       "</style>\n",
       "<table border=\"1\" class=\"dataframe\">\n",
       "  <thead>\n",
       "    <tr style=\"text-align: right;\">\n",
       "      <th></th>\n",
       "      <th>corpus</th>\n",
       "      <th>id</th>\n",
       "      <th>path_original</th>\n",
       "      <th>path_clean</th>\n",
       "      <th>filename_original</th>\n",
       "      <th>year</th>\n",
       "      <th>major_doc_type</th>\n",
       "      <th>doc_type</th>\n",
       "      <th>author</th>\n",
       "      <th>collection</th>\n",
       "      <th>...</th>\n",
       "      <th>adm_region</th>\n",
       "      <th>geo_region</th>\n",
       "      <th>country</th>\n",
       "      <th>wb_lending_instrument</th>\n",
       "      <th>wb_product_line</th>\n",
       "      <th>wb_major_theme</th>\n",
       "      <th>wb_theme</th>\n",
       "      <th>wb_sector</th>\n",
       "      <th>wb_subtopic_src</th>\n",
       "      <th>wb_project_id</th>\n",
       "    </tr>\n",
       "  </thead>\n",
       "  <tbody>\n",
       "    <tr>\n",
       "      <th>0</th>\n",
       "      <td>imf</td>\n",
       "      <td>imf_6cba1c84a4fb1d3dbf4dfbbd011f115eb03d1d68</td>\n",
       "      <td>/NLP/CORPUS/IMF/TXT_ORIG/imf_6cba1c84a4fb1d3db...</td>\n",
       "      <td>/NLP/CORPUS/IMF/TXT_CLEAN/imf_6cba1c84a4fb1d3d...</td>\n",
       "      <td>wp18185.ashx</td>\n",
       "      <td>2018</td>\n",
       "      <td>NaN</td>\n",
       "      <td>NaN</td>\n",
       "      <td>Nigel A Chalk,Michael Keen,Victoria J Perry</td>\n",
       "      <td>NaN</td>\n",
       "      <td>...</td>\n",
       "      <td>NaN</td>\n",
       "      <td>NaN</td>\n",
       "      <td>NaN</td>\n",
       "      <td>NaN</td>\n",
       "      <td>NaN</td>\n",
       "      <td>NaN</td>\n",
       "      <td>NaN</td>\n",
       "      <td>NaN</td>\n",
       "      <td>NaN</td>\n",
       "      <td>NaN</td>\n",
       "    </tr>\n",
       "    <tr>\n",
       "      <th>1</th>\n",
       "      <td>imf</td>\n",
       "      <td>imf_b5b7de057454edbaad791b1eb067d6a3cc88cbfd</td>\n",
       "      <td>/NLP/CORPUS/IMF/TXT_ORIG/imf_b5b7de057454edbaa...</td>\n",
       "      <td>/NLP/CORPUS/IMF/TXT_CLEAN/imf_b5b7de057454edba...</td>\n",
       "      <td>cr18255.ashx</td>\n",
       "      <td>2018</td>\n",
       "      <td>NaN</td>\n",
       "      <td>NaN</td>\n",
       "      <td>International Monetary Fund. Asia and Pacific ...</td>\n",
       "      <td>NaN</td>\n",
       "      <td>...</td>\n",
       "      <td>NaN</td>\n",
       "      <td>NaN</td>\n",
       "      <td>NaN</td>\n",
       "      <td>NaN</td>\n",
       "      <td>NaN</td>\n",
       "      <td>NaN</td>\n",
       "      <td>NaN</td>\n",
       "      <td>NaN</td>\n",
       "      <td>NaN</td>\n",
       "      <td>NaN</td>\n",
       "    </tr>\n",
       "  </tbody>\n",
       "</table>\n",
       "<p>2 rows × 29 columns</p>\n",
       "</div>"
      ],
      "text/plain": [
       "  corpus                                            id  \\\n",
       "0    imf  imf_6cba1c84a4fb1d3dbf4dfbbd011f115eb03d1d68   \n",
       "1    imf  imf_b5b7de057454edbaad791b1eb067d6a3cc88cbfd   \n",
       "\n",
       "                                       path_original  \\\n",
       "0  /NLP/CORPUS/IMF/TXT_ORIG/imf_6cba1c84a4fb1d3db...   \n",
       "1  /NLP/CORPUS/IMF/TXT_ORIG/imf_b5b7de057454edbaa...   \n",
       "\n",
       "                                          path_clean filename_original  year  \\\n",
       "0  /NLP/CORPUS/IMF/TXT_CLEAN/imf_6cba1c84a4fb1d3d...      wp18185.ashx  2018   \n",
       "1  /NLP/CORPUS/IMF/TXT_CLEAN/imf_b5b7de057454edba...      cr18255.ashx  2018   \n",
       "\n",
       "   major_doc_type  doc_type  \\\n",
       "0             NaN       NaN   \n",
       "1             NaN       NaN   \n",
       "\n",
       "                                              author  collection  \\\n",
       "0        Nigel A Chalk,Michael Keen,Victoria J Perry         NaN   \n",
       "1  International Monetary Fund. Asia and Pacific ...         NaN   \n",
       "\n",
       "       ...       adm_region  geo_region  country wb_lending_instrument  \\\n",
       "0      ...              NaN         NaN      NaN                   NaN   \n",
       "1      ...              NaN         NaN      NaN                   NaN   \n",
       "\n",
       "  wb_product_line  wb_major_theme wb_theme  wb_sector wb_subtopic_src  \\\n",
       "0             NaN             NaN      NaN        NaN             NaN   \n",
       "1             NaN             NaN      NaN        NaN             NaN   \n",
       "\n",
       "   wb_project_id  \n",
       "0            NaN  \n",
       "1            NaN  \n",
       "\n",
       "[2 rows x 29 columns]"
      ]
     },
     "execution_count": 9,
     "metadata": {},
     "output_type": "execute_result"
    }
   ],
   "source": [
    "metadata_file.head(2)"
   ]
  },
  {
   "cell_type": "code",
   "execution_count": 10,
   "metadata": {},
   "outputs": [
    {
     "name": "stdout",
     "output_type": "stream",
     "text": [
      "Doclen 18 < 50 = None\n",
      "CPU times: user 169 ms, sys: 6 ms, total: 175 ms\n",
      "Wall time: 174 ms\n"
     ]
    }
   ],
   "source": [
    "%%time\n",
    "cleaner=ParallelCorpusCleaner(\n",
    "    use_spellchecker=True, use_respeller=True, use_lemmatizer=True, use_spacy=True,\n",
    "    replacements_plurals_to_singular_file='../whitelists/whitelist_replacements_plurals_to_singular.csv',\n",
    "    acronyms_file='../whitelists/whitelist_acronyms.csv',\n",
    ")\n",
    "\n",
    "cleaner.set_input_folder(TXT_ORIG_DIR)\n",
    "cleaner.set_output_folder(TXT_CLEAN_DIR)"
   ]
  },
  {
   "cell_type": "code",
   "execution_count": null,
   "metadata": {},
   "outputs": [],
   "source": []
  },
  {
   "cell_type": "code",
   "execution_count": 11,
   "metadata": {
    "scrolled": true
   },
   "outputs": [],
   "source": [
    "# %%time\n",
    "# cleaner=CorpusCleaner(\n",
    "#     use_spellchecker=True, use_respeller=True, use_lemmatizer=True, use_spacy=True,\n",
    "#     replacements_plurals_to_singular_file='whitelist_replacements_plurals_to_singular.csv',\n",
    "# #     logger=logger\n",
    "# )\n",
    "\n",
    "# cleaner.set_input_folder(TXT_ORIG_DIR)\n",
    "# cleaner.set_output_folder(TXT_CLEAN_DIR)"
   ]
  },
  {
   "cell_type": "markdown",
   "metadata": {},
   "source": [
    "# Run with subset dataset"
   ]
  },
  {
   "cell_type": "raw",
   "metadata": {},
   "source": [
    "2018-09-14 07:02:22.451123\n",
    "Docset 0\n",
    "Docset 100\n",
    "Set 100: 100 items for 217.14 seconds.\n",
    "Docset 200\n",
    "Set 201: 100 items for 275.97 seconds.\n",
    "Docset 300\n",
    "Empty doc post lemmatizer = wb_30355620"
   ]
  },
  {
   "cell_type": "code",
   "execution_count": 12,
   "metadata": {
    "scrolled": true
   },
   "outputs": [
    {
     "name": "stdout",
     "output_type": "stream",
     "text": [
      "14147\n",
      "2018-11-06 06:35:40.686042\n",
      "Docset 96\n",
      "Failed lemmatization for imf_041398b287b8f9e64316ca841eb313075a21cf14\n",
      "Failed lemmatization for imf_0343c2c99febf5c2adde40a15e835d7cd77df68e\n",
      "Docset 192\n",
      "No input file: imf_b1ea6114df35a493f8d9679447c6c1acd3541cd7.txt\n",
      "Failed lemmatization for imf_f49a39b5bfb36804c10c64da0f5f3724ead30ce1\n",
      "Docset 288\n",
      "Docset 384\n",
      "Docset 480\n",
      "Docset 576\n",
      "Failed lemmatization for imf_795a94a59b8a97ffceb84433d4df6eac48d86dec\n",
      "Docset 672\n",
      "Failed lemmatization for imf_a1e25821ffa7ba4234d5b152a865090a97f771eb\n",
      "Docset 768\n",
      "Docset 864\n",
      "Failed lemmatization for imf_4247ec74701e5ffce391e62cd7d0e031c3505fc1\n",
      "Docset 960\n",
      "Docset 1056\n",
      "Docset 1152\n",
      "Failed lemmatization for imf_f1c084a95d4a9e2d128ba8671b9e19735c3c3554\n",
      "Docset 1248\n",
      "Docset 1344\n",
      "Docset 1440\n",
      "Failed lemmatization for imf_63ccf571d5e238603cb2a30e0213a9485b3dc07a\n",
      "Failed lemmatization for imf_abdf6d072007438da976e58795291b86509c60fe\n",
      "Docset 1536\n",
      "Docset 1632\n",
      "Failed lemmatization for imf_bfad6a46f663bab82f098cb6f379392196931fb5\n",
      "Docset 1728\n",
      "Docset 1824\n",
      "Failed lemmatization for imf_c2d90f4d1b30947c9a4ac8ea740bc1a30e063268\n",
      "Docset 1920\n",
      "Docset 2016\n",
      "Failed lemmatization for imf_208a1b14b55f7779bb5fd1b3470a801cabf0a05a\n",
      "Docset 2112\n",
      "Docset 2208\n",
      "Docset 2304\n",
      "Docset 2400\n",
      "Failed lemmatization for imf_7dcda94e3292d67d7baf36beb7a2234a9b0bf7b1\n",
      "Failed lemmatization for imf_c657064ab54886ff9cf6892235ca50345ea78d91\n",
      "Docset 2496\n",
      "Failed lemmatization for imf_906d0c93dee03bd850835d93f93bd18a9b454b31\n",
      "Docset 2592\n",
      "Failed lemmatization for imf_c5c56e0a683ad356e8bcf81e3701c8b97b8e74e5\n",
      "Docset 2688\n",
      "Docset 2784\n",
      "Docset 2880\n",
      "Docset 2976\n",
      "Failed lemmatization for imf_db53937ab5bbe20a95f36155bf7b28f0ce582fe2\n",
      "Failed lemmatization for imf_697cff74ca39bdf33afc961cfaa9d4ce287d95f0\n",
      "Docset 3072\n",
      "Failed lemmatization for imf_c2bd84adf32d03971d1a937e05e7961afe6174af\n",
      "Docset 3168\n",
      "Docset 3264\n",
      "Docset 3360\n",
      "Failed lemmatization for imf_fcbff81d0187d74c78ade90ebc1e8ee2917f6452\n",
      "Docset 3456\n",
      "Failed lemmatization for imf_a0678e31d2aa8e4a0a9185dd08588c24909a49c0\n",
      "Docset 3552\n",
      "Docset 3648\n",
      "No input file: imf_a65d54d780d537eb50925de909dabb42d5a2689e.txt\n",
      "Docset 3744\n",
      "Docset 3840\n",
      "Docset 3936\n",
      "No input file: imf_96fc0790b8950485920f0563bad35c1bbf4c6abb.txt\n",
      "No input file: imf_5562b06febc053048e03b14f205db420e82c088d.txt\n",
      "Docset 4032\n",
      "Failed lemmatization for imf_faf80a2ac89926d77b78446beb061185835a76c1\n",
      "Docset 4128\n",
      "Docset 4224\n",
      "Docset 4320\n",
      "Failed lemmatization for imf_b2c074a9da68669cac13513bb2b3dcf9d0987504\n",
      "Failed lemmatization for imf_fbff7174b886297dcfb907460596a37195ef9127\n",
      "Docset 4416\n",
      "Docset 4512\n",
      "No input file: imf_2939e6b3fd9ac06ee7c5f90cdc26f236f6cdb8cb.txt\n",
      "Docset 4608\n",
      "Docset 4704\n",
      "Docset 4800\n",
      "Failed lemmatization for imf_e8c18497cf008b29ed6437511379bf5319c5d073\n",
      "Docset 4896\n",
      "Docset 4992\n",
      "Docset 5088\n",
      "Failed lemmatization for imf_b3ce582c261f7e87f16d9725f4506f57df1d354f\n",
      "Docset 5184\n",
      "Docset 5280\n",
      "Docset 5376\n",
      "Docset 5472\n",
      "Docset 5568\n",
      "Docset 5664\n",
      "Docset 5760\n",
      "Docset 5856\n",
      "Docset 5952\n",
      "Docset 6048\n",
      "Docset 6144\n",
      "Docset 6240\n",
      "Failed lemmatization for imf_438508d938e2e9aecdea2050e21568f0c1d531d6\n",
      "Docset 6336\n",
      "Docset 6432\n",
      "Failed lemmatization for imf_883a404bb50bc9ef4582205704b9d883d51f4a6d\n",
      "Failed lemmatization for imf_9f43a9cc79f055a9d035b7c5aebc853cbf7d0328\n",
      "Docset 6528\n",
      "Failed lemmatization for imf_21752946795a00314d34c2b5328a4befdd02dc49\n",
      "Docset 6624\n",
      "Docset 6720\n",
      "Failed lemmatization for imf_a116738b7c647e9fb8119a84fc4f434fde86b371\n",
      "Failed lemmatization for imf_d26fac518adceea0c003f0ba6c4e2846766df6dc\n",
      "Docset 6816\n",
      "Failed lemmatization for imf_6add349b6d112d6cf87875685110c7cf4b3ae8ac\n",
      "Docset 6912\n",
      "Docset 7008\n",
      "No input file: imf_ddf53e56e157b48a917fa04bdd9672529750f171.txt\n",
      "Docset 7104\n",
      "Failed lemmatization for imf_d56114225d63fd4c92cbb51c1b33ad9a218d38ee\n",
      "No input file: imf_4957f47a3eeaaf5a2b5fc7c488bd7234db966081.txt\n",
      "Docset 7200\n",
      "Failed lemmatization for imf_cfc16a802f74577d3f06b6e186f45b5bc21e0c45\n",
      "Docset 7296\n",
      "No input file: imf_4a0d628c1326a585bed95ac9f9141b489985ddf1.txt\n",
      "Docset 7392\n",
      "Failed lemmatization for imf_b1573ad84fe7cb178bcba50266370d5692cd84a6\n",
      "Docset 7488\n",
      "No input file: imf_e010237fa8c805e81452dcaa5c9f802eca0ed108.txt\n",
      "Docset 7584\n",
      "No input file: imf_88066b8b6a3a3a96a0bbb8edcd64fe320b10efac.txt\n",
      "Docset 7680\n",
      "Docset 7776\n",
      "Failed lemmatization for imf_dff555459382b0e515aed0ad32b3c08c1e8bbe98\n",
      "Docset 7872\n",
      "Docset 7968\n",
      "Failed lemmatization for imf_634383b56764a48903f79daf9ad1b2652245366c\n",
      "Docset 8064\n",
      "Docset 8160\n",
      "Docset 8256\n",
      "Docset 8352\n",
      "Docset 8448\n",
      "Failed lemmatization for imf_87522dfcdaa249ba8cf5355ba28d99397ff92c95\n",
      "Failed lemmatization for imf_8a3231c190bd8e800ea5959a7631d5ae0c8073f6\n",
      "Failed lemmatization for imf_0d584b14e8ea8891349923bdee91e5a1b988cbc3\n",
      "Failed lemmatization for imf_32e61e1a48e85762474439d874605433a81742d9\n",
      "Docset 8544\n",
      "Failed lemmatization for imf_d3098ca7f5243390d2d9a9a55a86b37baf52ddb8\n",
      "Failed lemmatization for imf_cc9dec8d3c5c7a9ada5808641afbaadebdde1c5a\n",
      "Docset 8640\n",
      "No input file: imf_bbc5817ac9262611b8aa6c294b5fed04370ef45e.txt\n",
      "Docset 8736\n",
      "Docset 8832\n",
      "Docset 8928\n",
      "Docset 9024\n",
      "Docset 9120\n",
      "Docset 9216\n",
      "Docset 9312\n",
      "Docset 9408\n",
      "Docset 9504\n",
      "Docset 9600\n",
      "No input file: imf_4692c181f3af9664684dcac1c77aa564d873392a.txt\n",
      "Failed lemmatization for imf_797f8ea3c384d00767742447c96890ea8cae4aec\n",
      "Docset 9696\n",
      "Docset 9792\n",
      "Docset 9888\n",
      "Failed lemmatization for imf_e838b57b3a5f17d07e8332c5bbb32e088eb7e5ba\n",
      "No input file: imf_13e69970afbec0238eb635bd93aede8f789c78c5.txt\n",
      "Docset 9984\n",
      "No input file: imf_58e04e46ab021e06203e8043aca2c486148ed628.txt\n",
      "Docset 10080\n",
      "Docset 10176\n",
      "Docset 10272\n",
      "Docset 10368\n",
      "Docset 10464\n",
      "Docset 10560\n",
      "Docset 10656\n",
      "Docset 10752\n",
      "No input file: imf_4800152982327b71b0b3c2aa44c730ce5cd54680.txt\n",
      "Failed lemmatization for imf_0dd7d80a0b294ef5bd410daa95b05b427d072967\n",
      "Docset 10848\n",
      "Docset 10944\n",
      "Docset 11040\n",
      "Docset 11136\n",
      "Docset 11232\n",
      "Failed lemmatization for imf_c411ab43d85ca43c50ebf761c6c26d7c91f3eb96\n",
      "Docset 11328\n",
      "Docset 11424\n",
      "Docset 11520\n",
      "Docset 11616\n",
      "Docset 11712\n",
      "Failed lemmatization for imf_b09c03075ddacf737f535d7d21999cd86ea98448\n",
      "Failed lemmatization for imf_6382c86b102a050610e0af197988019556136a8c\n",
      "Docset 11808\n",
      "Docset 11904\n",
      "Docset 12000\n",
      "Docset 12096\n",
      "Docset 12192\n",
      "Docset 12288\n",
      "No input file: imf_d28bdff7163b6dd3d394902a9c0ad38c2647f183.txt\n",
      "Docset 12384\n",
      "Docset 12480\n",
      "Failed lemmatization for imf_7e4e218e872df78478524aaa06024a83dae05774\n",
      "Docset 12576\n",
      "Docset 12672\n",
      "No input file: imf_8666837beef4220285b1819aac64f2d1dfa33c9b.txt\n",
      "Docset 12768\n",
      "Docset 12864\n",
      "No input file: imf_6de29ecfba74d568113d5b65f0330fa0dea109f5.txt\n",
      "Docset 12960\n",
      "Docset 13056\n",
      "Docset 13152\n",
      "Failed lemmatization for imf_fec1db62d10b9282f03b82896efeea133ceec028\n",
      "Docset 13248\n",
      "Docset 13344\n",
      "Docset 13440\n",
      "Failed lemmatization for imf_aba704aa6a1c6681db68941eb97de6fce4c3f8d1\n",
      "Failed lemmatization for imf_5b84b03fc32f55581a7355cba894a071310f8ed7\n",
      "Docset 13536\n",
      "Failed lemmatization for imf_e057eab21c98c283c43c202e12fdedee9913adf1\n",
      "Docset 13632\n",
      "Docset 13728\n",
      "Failed lemmatization for imf_305f011332ee5f282fba7c78b85652fe3dba064b\n",
      "Docset 13824\n",
      "Docset 13920\n",
      "Docset 14016\n",
      "Docset 14112\n",
      "Exception received: pop from empty list\n",
      "2018-11-06 08:55:41.792424\n",
      "CPU times: user 7min 56s, sys: 4min 43s, total: 12min 39s\n",
      "Wall time: 2h 20min 1s\n"
     ]
    }
   ],
   "source": [
    "%%time\n",
    "# # doclist=['436966.txt', '2002839.txt']\n",
    "\n",
    "doclist = [f\"{id}.txt\" for id in metadata_file['id'].sample(n=len(metadata_file), random_state=1029)]\n",
    "\n",
    "print(len(doclist))\n",
    "\n",
    "print(pd.datetime.now())\n",
    "output=cleaner.batch_clean_docs(\n",
    "    doclist,\n",
    "#     default_docs_per_worker=10,\n",
    "    batch_size=96,\n",
    "    save_docs=True,\n",
    "    skip_existing=False,\n",
    "    collect_spell_errors=False)\n",
    "print(pd.datetime.now())"
   ]
  },
  {
   "cell_type": "markdown",
   "metadata": {},
   "source": [
    "### Convert the output into a dataframe for easier processing"
   ]
  },
  {
   "cell_type": "code",
   "execution_count": 13,
   "metadata": {
    "collapsed": true
   },
   "outputs": [],
   "source": [
    "misc_metadata = pd.DataFrame(output)"
   ]
  },
  {
   "cell_type": "code",
   "execution_count": 14,
   "metadata": {},
   "outputs": [
    {
     "data": {
      "text/plain": [
       "(13984, 7)"
      ]
     },
     "execution_count": 14,
     "metadata": {},
     "output_type": "execute_result"
    }
   ],
   "source": [
    "# old\n",
    "misc_metadata.shape"
   ]
  },
  {
   "cell_type": "code",
   "execution_count": 14,
   "metadata": {},
   "outputs": [
    {
     "data": {
      "text/plain": [
       "(14129, 7)"
      ]
     },
     "execution_count": 14,
     "metadata": {},
     "output_type": "execute_result"
    }
   ],
   "source": [
    "# new\n",
    "misc_metadata.shape"
   ]
  },
  {
   "cell_type": "markdown",
   "metadata": {},
   "source": [
    "Log items that were skipped due to some unexpected errors"
   ]
  },
  {
   "cell_type": "code",
   "execution_count": 15,
   "metadata": {
    "collapsed": true
   },
   "outputs": [],
   "source": [
    "misc_metadata[misc_metadata.skipped != ''].skipped.to_csv(f'{CORPUS_ID.lower()}_skipped-items-{pd.datetime.now()}.log')"
   ]
  },
  {
   "cell_type": "markdown",
   "metadata": {},
   "source": [
    "Generate new attributes based on the `lang` column from `misc_metadata`."
   ]
  },
  {
   "cell_type": "code",
   "execution_count": 16,
   "metadata": {
    "collapsed": true
   },
   "outputs": [],
   "source": [
    "misc_metadata['language_detected'] = misc_metadata.lang.map(lambda x: x[0])\n",
    "misc_metadata['language_score'] = misc_metadata.lang.map(lambda x: x[1])\n",
    "misc_metadata = misc_metadata.drop('lang', axis=1)\n",
    "\n",
    "misc_metadata.index.name = 'id'\n",
    "misc_metadata = misc_metadata.reset_index()"
   ]
  },
  {
   "cell_type": "code",
   "execution_count": 17,
   "metadata": {},
   "outputs": [
    {
     "data": {
      "text/html": [
       "<div>\n",
       "<style scoped>\n",
       "    .dataframe tbody tr th:only-of-type {\n",
       "        vertical-align: middle;\n",
       "    }\n",
       "\n",
       "    .dataframe tbody tr th {\n",
       "        vertical-align: top;\n",
       "    }\n",
       "\n",
       "    .dataframe thead th {\n",
       "        text-align: right;\n",
       "    }\n",
       "</style>\n",
       "<table border=\"1\" class=\"dataframe\">\n",
       "  <thead>\n",
       "    <tr style=\"text-align: right;\">\n",
       "      <th></th>\n",
       "      <th>id</th>\n",
       "      <th>tokens</th>\n",
       "      <th>text</th>\n",
       "      <th>spell_errors</th>\n",
       "      <th>skipped</th>\n",
       "      <th>exception</th>\n",
       "      <th>write_status</th>\n",
       "      <th>language_detected</th>\n",
       "      <th>language_score</th>\n",
       "    </tr>\n",
       "  </thead>\n",
       "  <tbody>\n",
       "    <tr>\n",
       "      <th>0</th>\n",
       "      <td>imf_000169111a90a98ac66bb6d07e4682d6be8b6ac3</td>\n",
       "      <td>8482</td>\n",
       "      <td>NaN</td>\n",
       "      <td>NaN</td>\n",
       "      <td></td>\n",
       "      <td>None</td>\n",
       "      <td>True</td>\n",
       "      <td>en</td>\n",
       "      <td>0.999996</td>\n",
       "    </tr>\n",
       "    <tr>\n",
       "      <th>1</th>\n",
       "      <td>imf_0004fdded18df40f3680c5a2f343f773d8f18d6f</td>\n",
       "      <td>11825</td>\n",
       "      <td>NaN</td>\n",
       "      <td>NaN</td>\n",
       "      <td></td>\n",
       "      <td>None</td>\n",
       "      <td>True</td>\n",
       "      <td>en</td>\n",
       "      <td>0.999995</td>\n",
       "    </tr>\n",
       "  </tbody>\n",
       "</table>\n",
       "</div>"
      ],
      "text/plain": [
       "                                             id  tokens  text  spell_errors  \\\n",
       "0  imf_000169111a90a98ac66bb6d07e4682d6be8b6ac3    8482   NaN           NaN   \n",
       "1  imf_0004fdded18df40f3680c5a2f343f773d8f18d6f   11825   NaN           NaN   \n",
       "\n",
       "  skipped exception  write_status language_detected  language_score  \n",
       "0              None          True                en        0.999996  \n",
       "1              None          True                en        0.999995  "
      ]
     },
     "execution_count": 17,
     "metadata": {},
     "output_type": "execute_result"
    }
   ],
   "source": [
    "misc_metadata.head(2)"
   ]
  },
  {
   "cell_type": "code",
   "execution_count": 18,
   "metadata": {
    "collapsed": true
   },
   "outputs": [
    {
     "data": {
      "text/plain": [
       "13168"
      ]
     },
     "execution_count": 18,
     "metadata": {},
     "output_type": "execute_result"
    }
   ],
   "source": [
    "valid_processed_ids = misc_metadata[(misc_metadata.skipped == '') & (misc_metadata.write_status == True)].set_index('id').index\n",
    "len(valid_processed_ids)"
   ]
  },
  {
   "cell_type": "code",
   "execution_count": 19,
   "metadata": {
    "collapsed": true
   },
   "outputs": [
    {
     "name": "stderr",
     "output_type": "stream",
     "text": [
      "/home/wb536061/anaconda3/lib/python3.7/site-packages/ipykernel_launcher.py:1: FutureWarning: Sorting because non-concatenation axis is not aligned. A future version\n",
      "of pandas will change to not sort by default.\n",
      "\n",
      "To accept the future behavior, pass 'sort=False'.\n",
      "\n",
      "To retain the current behavior and silence the warning, pass 'sort=True'.\n",
      "\n",
      "  \"\"\"Entry point for launching an IPython kernel.\n"
     ]
    },
    {
     "data": {
      "text/plain": [
       "(13168, 32)"
      ]
     },
     "execution_count": 19,
     "metadata": {},
     "output_type": "execute_result"
    }
   ],
   "source": [
    "complete_metadata_file = pd.concat([metadata_file.drop_duplicates('id').set_index('id'), misc_metadata.set_index('id')[['language_detected', 'language_score', 'tokens', 'write_status']]], axis=1)\n",
    "complete_metadata_file = complete_metadata_file.loc[valid_processed_ids]\n",
    "complete_metadata_file.shape"
   ]
  },
  {
   "cell_type": "code",
   "execution_count": 20,
   "metadata": {
    "collapsed": true
   },
   "outputs": [
    {
     "data": {
      "text/html": [
       "<div>\n",
       "<style scoped>\n",
       "    .dataframe tbody tr th:only-of-type {\n",
       "        vertical-align: middle;\n",
       "    }\n",
       "\n",
       "    .dataframe tbody tr th {\n",
       "        vertical-align: top;\n",
       "    }\n",
       "\n",
       "    .dataframe thead th {\n",
       "        text-align: right;\n",
       "    }\n",
       "</style>\n",
       "<table border=\"1\" class=\"dataframe\">\n",
       "  <thead>\n",
       "    <tr style=\"text-align: right;\">\n",
       "      <th></th>\n",
       "      <th>corpus</th>\n",
       "      <th>path_original</th>\n",
       "      <th>path_clean</th>\n",
       "      <th>filename_original</th>\n",
       "      <th>year</th>\n",
       "      <th>major_doc_type</th>\n",
       "      <th>doc_type</th>\n",
       "      <th>author</th>\n",
       "      <th>collection</th>\n",
       "      <th>title</th>\n",
       "      <th>...</th>\n",
       "      <th>wb_product_line</th>\n",
       "      <th>wb_major_theme</th>\n",
       "      <th>wb_theme</th>\n",
       "      <th>wb_sector</th>\n",
       "      <th>wb_subtopic_src</th>\n",
       "      <th>wb_project_id</th>\n",
       "      <th>language_detected</th>\n",
       "      <th>language_score</th>\n",
       "      <th>tokens</th>\n",
       "      <th>write_status</th>\n",
       "    </tr>\n",
       "    <tr>\n",
       "      <th>id</th>\n",
       "      <th></th>\n",
       "      <th></th>\n",
       "      <th></th>\n",
       "      <th></th>\n",
       "      <th></th>\n",
       "      <th></th>\n",
       "      <th></th>\n",
       "      <th></th>\n",
       "      <th></th>\n",
       "      <th></th>\n",
       "      <th></th>\n",
       "      <th></th>\n",
       "      <th></th>\n",
       "      <th></th>\n",
       "      <th></th>\n",
       "      <th></th>\n",
       "      <th></th>\n",
       "      <th></th>\n",
       "      <th></th>\n",
       "      <th></th>\n",
       "      <th></th>\n",
       "    </tr>\n",
       "  </thead>\n",
       "  <tbody>\n",
       "    <tr>\n",
       "      <th>imf_000169111a90a98ac66bb6d07e4682d6be8b6ac3</th>\n",
       "      <td>imf</td>\n",
       "      <td>/NLP/CORPUS/IMF/TXT_ORIG/imf_000169111a90a98ac...</td>\n",
       "      <td>/NLP/CORPUS/IMF/TXT_CLEAN/imf_000169111a90a98a...</td>\n",
       "      <td>_cr12278.ashx</td>\n",
       "      <td>2012</td>\n",
       "      <td>NaN</td>\n",
       "      <td>NaN</td>\n",
       "      <td>International Monetary Fund</td>\n",
       "      <td>NaN</td>\n",
       "      <td>Indonesia : Selected Issues</td>\n",
       "      <td>...</td>\n",
       "      <td>NaN</td>\n",
       "      <td>NaN</td>\n",
       "      <td>NaN</td>\n",
       "      <td>NaN</td>\n",
       "      <td>NaN</td>\n",
       "      <td>NaN</td>\n",
       "      <td>en</td>\n",
       "      <td>0.999996</td>\n",
       "      <td>8482.0</td>\n",
       "      <td>True</td>\n",
       "    </tr>\n",
       "    <tr>\n",
       "      <th>imf_0004fdded18df40f3680c5a2f343f773d8f18d6f</th>\n",
       "      <td>imf</td>\n",
       "      <td>/NLP/CORPUS/IMF/TXT_ORIG/imf_0004fdded18df40f3...</td>\n",
       "      <td>/NLP/CORPUS/IMF/TXT_CLEAN/imf_0004fdded18df40f...</td>\n",
       "      <td>_cr0089.ashx</td>\n",
       "      <td>2000</td>\n",
       "      <td>NaN</td>\n",
       "      <td>NaN</td>\n",
       "      <td>International Monetary Fund</td>\n",
       "      <td>NaN</td>\n",
       "      <td>United States : Staff Report for the 2000 Arti...</td>\n",
       "      <td>...</td>\n",
       "      <td>NaN</td>\n",
       "      <td>NaN</td>\n",
       "      <td>NaN</td>\n",
       "      <td>NaN</td>\n",
       "      <td>NaN</td>\n",
       "      <td>NaN</td>\n",
       "      <td>en</td>\n",
       "      <td>0.999995</td>\n",
       "      <td>11825.0</td>\n",
       "      <td>True</td>\n",
       "    </tr>\n",
       "  </tbody>\n",
       "</table>\n",
       "<p>2 rows × 32 columns</p>\n",
       "</div>"
      ],
      "text/plain": [
       "                                             corpus  \\\n",
       "id                                                    \n",
       "imf_000169111a90a98ac66bb6d07e4682d6be8b6ac3    imf   \n",
       "imf_0004fdded18df40f3680c5a2f343f773d8f18d6f    imf   \n",
       "\n",
       "                                                                                  path_original  \\\n",
       "id                                                                                                \n",
       "imf_000169111a90a98ac66bb6d07e4682d6be8b6ac3  /NLP/CORPUS/IMF/TXT_ORIG/imf_000169111a90a98ac...   \n",
       "imf_0004fdded18df40f3680c5a2f343f773d8f18d6f  /NLP/CORPUS/IMF/TXT_ORIG/imf_0004fdded18df40f3...   \n",
       "\n",
       "                                                                                     path_clean  \\\n",
       "id                                                                                                \n",
       "imf_000169111a90a98ac66bb6d07e4682d6be8b6ac3  /NLP/CORPUS/IMF/TXT_CLEAN/imf_000169111a90a98a...   \n",
       "imf_0004fdded18df40f3680c5a2f343f773d8f18d6f  /NLP/CORPUS/IMF/TXT_CLEAN/imf_0004fdded18df40f...   \n",
       "\n",
       "                                             filename_original  year  \\\n",
       "id                                                                     \n",
       "imf_000169111a90a98ac66bb6d07e4682d6be8b6ac3     _cr12278.ashx  2012   \n",
       "imf_0004fdded18df40f3680c5a2f343f773d8f18d6f      _cr0089.ashx  2000   \n",
       "\n",
       "                                              major_doc_type  doc_type  \\\n",
       "id                                                                       \n",
       "imf_000169111a90a98ac66bb6d07e4682d6be8b6ac3             NaN       NaN   \n",
       "imf_0004fdded18df40f3680c5a2f343f773d8f18d6f             NaN       NaN   \n",
       "\n",
       "                                                                   author  \\\n",
       "id                                                                          \n",
       "imf_000169111a90a98ac66bb6d07e4682d6be8b6ac3  International Monetary Fund   \n",
       "imf_0004fdded18df40f3680c5a2f343f773d8f18d6f  International Monetary Fund   \n",
       "\n",
       "                                              collection  \\\n",
       "id                                                         \n",
       "imf_000169111a90a98ac66bb6d07e4682d6be8b6ac3         NaN   \n",
       "imf_0004fdded18df40f3680c5a2f343f773d8f18d6f         NaN   \n",
       "\n",
       "                                                                                          title  \\\n",
       "id                                                                                                \n",
       "imf_000169111a90a98ac66bb6d07e4682d6be8b6ac3                        Indonesia : Selected Issues   \n",
       "imf_0004fdded18df40f3680c5a2f343f773d8f18d6f  United States : Staff Report for the 2000 Arti...   \n",
       "\n",
       "                                                  ...       wb_product_line  \\\n",
       "id                                                ...                         \n",
       "imf_000169111a90a98ac66bb6d07e4682d6be8b6ac3      ...                   NaN   \n",
       "imf_0004fdded18df40f3680c5a2f343f773d8f18d6f      ...                   NaN   \n",
       "\n",
       "                                              wb_major_theme wb_theme  \\\n",
       "id                                                                      \n",
       "imf_000169111a90a98ac66bb6d07e4682d6be8b6ac3             NaN      NaN   \n",
       "imf_0004fdded18df40f3680c5a2f343f773d8f18d6f             NaN      NaN   \n",
       "\n",
       "                                             wb_sector  wb_subtopic_src  \\\n",
       "id                                                                        \n",
       "imf_000169111a90a98ac66bb6d07e4682d6be8b6ac3       NaN              NaN   \n",
       "imf_0004fdded18df40f3680c5a2f343f773d8f18d6f       NaN              NaN   \n",
       "\n",
       "                                             wb_project_id  language_detected  \\\n",
       "id                                                                              \n",
       "imf_000169111a90a98ac66bb6d07e4682d6be8b6ac3           NaN                 en   \n",
       "imf_0004fdded18df40f3680c5a2f343f773d8f18d6f           NaN                 en   \n",
       "\n",
       "                                             language_score   tokens  \\\n",
       "id                                                                     \n",
       "imf_000169111a90a98ac66bb6d07e4682d6be8b6ac3       0.999996   8482.0   \n",
       "imf_0004fdded18df40f3680c5a2f343f773d8f18d6f       0.999995  11825.0   \n",
       "\n",
       "                                              write_status  \n",
       "id                                                          \n",
       "imf_000169111a90a98ac66bb6d07e4682d6be8b6ac3          True  \n",
       "imf_0004fdded18df40f3680c5a2f343f773d8f18d6f          True  \n",
       "\n",
       "[2 rows x 32 columns]"
      ]
     },
     "execution_count": 20,
     "metadata": {},
     "output_type": "execute_result"
    }
   ],
   "source": [
    "complete_metadata_file.to_csv(os.path.join(get_corpus_path(CORPUS_ID), f'{CORPUS_ID.lower()}_metadata_complete.csv'))\n",
    "complete_metadata_file.head(2)"
   ]
  },
  {
   "cell_type": "code",
   "execution_count": 21,
   "metadata": {
    "collapsed": true
   },
   "outputs": [
    {
     "data": {
      "text/plain": [
       "(13168, 32)"
      ]
     },
     "execution_count": 21,
     "metadata": {},
     "output_type": "execute_result"
    }
   ],
   "source": [
    "complete_metadata_file.shape"
   ]
  },
  {
   "cell_type": "code",
   "execution_count": null,
   "metadata": {
    "collapsed": true
   },
   "outputs": [],
   "source": [
    "# Processing output"
   ]
  },
  {
   "cell_type": "code",
   "execution_count": 16,
   "metadata": {
    "collapsed": true
   },
   "outputs": [],
   "source": [
    "s = '''%%time\n",
    "cleaner = CorpusCleaner(\n",
    "    use_spellchecker=True, use_respeller=True, use_lemmatizer=True, use_spacy=True,\n",
    "    replacements_plurals_to_singular_file='whitelist_replacements_plurals_to_singular.csv',\n",
    ")\n",
    "\n",
    "cleaner.set_input_folder(TXT_ORIG_DIR)\n",
    "cleaner.set_output_folder(TXT_CLEAN_DIR)'''"
   ]
  },
  {
   "cell_type": "code",
   "execution_count": 21,
   "metadata": {},
   "outputs": [
    {
     "name": "stdout",
     "output_type": "stream",
     "text": [
      "Pretty printing has been turned OFF\n",
      "%%time\n",
      "cleaner=CorpusCleaner(\n",
      "    use_spellchecker=True, use_respeller=True, use_lemmatizer=True, use_spacy=True,\n",
      "    replacements_plurals_to_singular_excel='replacements_plurals_to_singular_white_list.xlsx'\n",
      ")\n",
      "cleaner.set_input_folder(raw_data_dir)\n",
      "cleaner.set_output_folder('./processed_files/')\n"
     ]
    }
   ],
   "source": [
    "%pprint\n",
    "print(s)"
   ]
  },
  {
   "cell_type": "code",
   "execution_count": null,
   "metadata": {
    "collapsed": true
   },
   "outputs": [],
   "source": []
  }
 ],
 "metadata": {
  "kernelspec": {
   "display_name": "Python 3",
   "language": "python",
   "name": "python3"
  },
  "language_info": {
   "codemirror_mode": {
    "name": "ipython",
    "version": 3
   },
   "file_extension": ".py",
   "mimetype": "text/x-python",
   "name": "python",
   "nbconvert_exporter": "python",
   "pygments_lexer": "ipython3",
   "version": "3.8.3-final"
  }
 },
 "nbformat": 4,
 "nbformat_minor": 2
}