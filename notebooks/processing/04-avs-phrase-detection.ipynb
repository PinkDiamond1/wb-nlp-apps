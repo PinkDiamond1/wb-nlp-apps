{
 "cells": [
  {
   "cell_type": "markdown",
   "metadata": {},
   "source": [
    "# Wikipedia-based vocabulary\n",
    "\n",
    "Part of the text cleaning is to recover misspelled tokens in documents. The base toolkit to implement the spell checking component is the [pyenchant](https://github.com/pyenchant/pyenchant) library.\n",
    "\n",
    "While the existing solution works, there are some issues that this implementation face. The most important of which is the detection of emerging or novel words. Recently, Covid has become a common term but the vocabulary of the dictionary that we're using doesn't contain it. This means that when a document containing this term is processed, it will be classified as misspelled and the pipeline will be try to \"fix\" it.\n",
    "\n",
    "To remedy this, we modify the solution by updating the standard vocabulary with the vocabulary from a dynamically updating corpus. In this case, we choose the [Wikipedia corpus](https://dumps.wikimedia.org/enwiki/latest/) as the source of our updated vocabulary.\n",
    "\n",
    "\n",
    "\n",
    "The solution for this is summarized as follows:\n",
    "\n",
    "1. Download the latest wikipedia corpus from https://dumps.wikimedia.org/enwiki/latest/enwiki-latest-pages-articles.xml.bz2.\n",
    "2. Use gensim to process and collect the tokens in the corpus.\n",
    "\n",
    "        ```python\n",
    "        from gensim.corpora import WikiCorpus\n",
    "        from wb_nlp.dir_manager import get_data_dir\n",
    "        import os\n",
    "\n",
    "        wiki_dump = get_data_dir('raw', 'wiki', 'enwiki-latest-pages-articles.xml.bz2')\n",
    "        wiki_dict = get_data_dir('processed', 'wiki')\n",
    "        if not os.path.isdir(wiki_dict):\n",
    "            os.makedirs(wiki_dict)\n",
    "\n",
    "        wiki = WikiCorpus(\n",
    "                wiki_dump, processes=max(1, os.cpu_count() - 4),\n",
    "                lemmatize=False,\n",
    "                article_min_tokens=50, token_min_len=2,\n",
    "                token_max_len=50, lower=True)\n",
    "\n",
    "        wiki.dictionary.save(os.path.join(wiki_dict, 'wiki_en.gensim.dict.pickle'))\n",
    "        ```\n",
    "\n",
    "3. Filter the tokens using the `.cfs` and `.idf` attributes of the `wiki.dictionary`.\n",
    "4. Update use an updated dictionary.\n",
    "\n",
    "        ```\n",
    "        import enchant\n",
    "        en_dict = enchant.DictWithPWL(\"en_US\", \"wiki_en.txt\")\n",
    "        ```"
   ]
  },
  {
   "cell_type": "code",
   "execution_count": null,
   "metadata": {},
   "outputs": [],
   "source": [
    "import spacy\n"
   ]
  },
  {
   "cell_type": "code",
   "execution_count": 1,
   "metadata": {},
   "outputs": [],
   "source": [
    "from wb_nlp.extraction import phrase"
   ]
  },
  {
   "cell_type": "code",
   "execution_count": 2,
   "metadata": {},
   "outputs": [
    {
     "output_type": "stream",
     "text": "\u001b[0;31mSignature:\u001b[0m \u001b[0mphrase\u001b[0m\u001b[0;34m.\u001b[0m\u001b[0mget_phrases\u001b[0m\u001b[0;34m(\u001b[0m\u001b[0mdoc\u001b[0m\u001b[0;34m:\u001b[0m \u001b[0mspacy\u001b[0m\u001b[0;34m.\u001b[0m\u001b[0mtokens\u001b[0m\u001b[0;34m.\u001b[0m\u001b[0mdoc\u001b[0m\u001b[0;34m.\u001b[0m\u001b[0mDoc\u001b[0m\u001b[0;34m,\u001b[0m \u001b[0mmin_token_length\u001b[0m\u001b[0;34m:\u001b[0m \u001b[0mint\u001b[0m \u001b[0;34m=\u001b[0m \u001b[0;36m3\u001b[0m\u001b[0;34m)\u001b[0m\u001b[0;34m\u001b[0m\u001b[0;34m\u001b[0m\u001b[0m\n\u001b[0;31mDocstring:\u001b[0m <no docstring>\n\u001b[0;31mFile:\u001b[0m      ~/WBG/wb_nlp/src/wb_nlp/extraction/phrase.py\n\u001b[0;31mType:\u001b[0m      function\n"
    }
   ],
   "source": [
    "phrase.get_phrases?"
   ]
  },
  {
   "cell_type": "code",
   "execution_count": null,
   "metadata": {},
   "outputs": [],
   "source": []
  }
 ],
 "metadata": {
  "kernelspec": {
   "display_name": "wb_nlp",
   "language": "python",
   "name": "wb_nlp"
  },
  "language_info": {
   "codemirror_mode": {
    "name": "ipython",
    "version": 3
   },
   "file_extension": ".py",
   "mimetype": "text/x-python",
   "name": "python",
   "nbconvert_exporter": "python",
   "pygments_lexer": "ipython3",
   "version": "3.8.3"
  },
  "pycharm": {
   "stem_cell": {
    "cell_type": "raw",
    "metadata": {
     "collapsed": false
    },
    "source": []
   }
  }
 },
 "nbformat": 4,
 "nbformat_minor": 4
}