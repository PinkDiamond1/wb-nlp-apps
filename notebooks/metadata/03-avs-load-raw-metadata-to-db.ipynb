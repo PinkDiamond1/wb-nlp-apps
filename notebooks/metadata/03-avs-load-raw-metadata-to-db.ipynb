{
 "cells": [
  {
   "cell_type": "code",
   "execution_count": 1,
   "metadata": {},
   "outputs": [],
   "source": [
    "%load_ext autotime"
   ]
  },
  {
   "cell_type": "code",
   "execution_count": null,
   "metadata": {},
   "outputs": [],
   "source": [
    "import json\n",
    "from wb_nlp.interfaces import mongodb\n",
    "from wb_nlp.types import metadata as meta_type\n",
    "from wb_nlp.types import metadata_enums\n",
    "import importlib\n",
    "\n",
    "importlib.reload(meta_type)\n",
    "importlib.reload(metadata_enums)"
   ]
  },
  {
   "cell_type": "markdown",
   "metadata": {},
   "source": [
    "# World Bank Metadata\n",
    "\n",
    "Load the metadata from the API scraper notebook: `wb_nlp/notebooks/scrapers/wb_api_scraper_latest.ipynb`"
   ]
  },
  {
   "cell_type": "code",
   "execution_count": null,
   "metadata": {},
   "outputs": [],
   "source": [
    "# fname = f\"wb_metadata-{datetime.now()}.csv\"\n",
    "fname = \"wb_metadata-2021-03-27 19:17:44.764136.csv\"\n",
    "wb_metadata = pd.read_csv(dir_manager.get_data_dir(\"corpus\", \"WB\", fname))\n",
    "\n",
    "collection = mongodb.get_collection(\"test_nlp\", \"docs_metadata\")\n",
    "errors_list = []\n",
    "no_url = []\n",
    "metadata_list = []\n",
    "for i, row in wb_metadata.iterrows():\n",
    "    if i % 10000 == 0:\n",
    "        print(i)\n",
    "\n",
    "    row[\"_id\"] = row[\"id\"]\n",
    "\n",
    "    if row[\"url_txt\"] == \"not to be displayed--\":\n",
    "        print(row[\"id\"])\n",
    "        no_url.append(row)\n",
    "        continue\n",
    "\n",
    "    try:\n",
    "        meta = json.loads(meta_type.make_metadata_model_from_nlp_schema(row.fillna(\"\")).json())\n",
    "        meta[\"_id\"] = meta[\"id\"]\n",
    "        metadata_list.append(meta)\n",
    "    except:\n",
    "        errors_list.append(row)\n",
    "\n",
    "collection.insert_many(metadata_list)"
   ]
  }
 ],
 "metadata": {
  "kernelspec": {
   "display_name": "wb_nlp",
   "language": "python",
   "name": "wb_nlp"
  },
  "language_info": {
   "codemirror_mode": {
    "name": "ipython",
    "version": 3
   },
   "file_extension": ".py",
   "mimetype": "text/x-python",
   "name": "python",
   "nbconvert_exporter": "python",
   "pygments_lexer": "ipython3",
   "version": "3.8.5"
  }
 },
 "nbformat": 4,
 "nbformat_minor": 4
}
