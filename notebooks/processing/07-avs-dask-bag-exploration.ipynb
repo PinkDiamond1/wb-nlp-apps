{
 "metadata": {
  "language_info": {
   "codemirror_mode": {
    "name": "ipython",
    "version": 3
   },
   "file_extension": ".py",
   "mimetype": "text/x-python",
   "name": "python",
   "nbconvert_exporter": "python",
   "pygments_lexer": "ipython3",
   "version": "3.8.3-final"
  },
  "orig_nbformat": 2,
  "kernelspec": {
   "name": "wb_nlp",
   "display_name": "wb_nlp"
  }
 },
 "nbformat": 4,
 "nbformat_minor": 2,
 "cells": [
  {
   "cell_type": "code",
   "execution_count": 1,
   "metadata": {},
   "outputs": [],
   "source": [
    "import dask\n",
    "import dask.bag as db\n",
    "import dask.dataframe as dd\n",
    "from dask.distributed import get_worker\n",
    "from dask.distributed import Client, LocalCluster, progress\n"
   ]
  },
  {
   "cell_type": "code",
   "execution_count": 2,
   "metadata": {},
   "outputs": [],
   "source": [
    "# cluster.close()"
   ]
  },
  {
   "cell_type": "code",
   "execution_count": 3,
   "metadata": {},
   "outputs": [
    {
     "output_type": "execute_result",
     "data": {
      "text/plain": "<Client: 'tcp://127.0.0.1:44403' processes=4 threads=4, memory=16.00 GB>",
      "text/html": "<table style=\"border: 2px solid white;\">\n<tr>\n<td style=\"vertical-align: top; border: 0px solid white\">\n<h3 style=\"text-align: left;\">Client</h3>\n<ul style=\"text-align: left; list-style: none; margin: 0; padding: 0;\">\n  <li><b>Scheduler: </b>tcp://127.0.0.1:44403</li>\n  <li><b>Dashboard: </b><a href='http://127.0.0.1:8787/status' target='_blank'>http://127.0.0.1:8787/status</a></li>\n</ul>\n</td>\n<td style=\"vertical-align: top; border: 0px solid white\">\n<h3 style=\"text-align: left;\">Cluster</h3>\n<ul style=\"text-align: left; list-style:none; margin: 0; padding: 0;\">\n  <li><b>Workers: </b>4</li>\n  <li><b>Cores: </b>4</li>\n  <li><b>Memory: </b>16.00 GB</li>\n</ul>\n</td>\n</tr>\n</table>"
     },
     "metadata": {},
     "execution_count": 3
    }
   ],
   "source": [
    "# client = Client(processes=True)\n",
    "cluster = LocalCluster(n_workers=4, threads_per_worker=1, memory_limit='4GB', processes=True)\n",
    "client = Client(cluster)\n",
    "# client = Client()\n",
    "client"
   ]
  },
  {
   "cell_type": "code",
   "execution_count": 4,
   "metadata": {},
   "outputs": [],
   "source": [
    "# client.close()\n",
    "# cluster.close()"
   ]
  },
  {
   "cell_type": "code",
   "execution_count": 5,
   "metadata": {},
   "outputs": [],
   "source": [
    "import glob\n",
    "import pickle\n",
    "import spacy\n",
    "import pandas as pd\n",
    "\n",
    "from wb_nlp import dir_manager\n",
    "from wb_nlp.cleaning import cleaner"
   ]
  },
  {
   "cell_type": "code",
   "execution_count": 6,
   "metadata": {},
   "outputs": [
    {
     "output_type": "execute_result",
     "data": {
      "text/plain": "(107, '/workspace/data/preprocessed/sample_data/TXT_SAMPLE/wb_13720575.txt')"
     },
     "metadata": {},
     "execution_count": 6
    }
   ],
   "source": [
    "SOURCE_DIR = dir_manager.get_data_dir('raw', 'sample_data', 'TXT_SAMPLE')\n",
    "TARGET_DIR = dir_manager.get_data_dir('preprocessed', 'sample_data', 'TXT_SAMPLE')\n",
    "\n",
    "# Create TARGET_DIR if not available\n",
    "if not os.path.isdir(TARGET_DIR):\n",
    "    os.makedirs(TARGET_DIR)\n",
    "\n",
    "f = [f for f in glob.glob(os.path.join(SOURCE_DIR, '*.txt'))]\n",
    "len(f), f[0].replace(SOURCE_DIR, TARGET_DIR)"
   ]
  },
  {
   "cell_type": "code",
   "execution_count": 7,
   "metadata": {},
   "outputs": [],
   "source": [
    "def dask_clean_file(f):\n",
    "\n",
    "    worker = get_worker()\n",
    "\n",
    "    try:\n",
    "        nlp = worker.nlp\n",
    "        lda_cleaner = worker.lda_cleaner\n",
    "    except AttributeError:\n",
    "        nlp = spacy.load('en_core_web_sm')\n",
    "        lda_cleaner = cleaner.LDACleaner()\n",
    "        worker.nlp = nlp\n",
    "        worker.lda_cleaner = lda_cleaner\n",
    "\n",
    "    with open(f, 'rb') as fl:\n",
    "        text = fl.read().decode('utf-8', errors='ignore')\n",
    "        tokens = lda_cleaner.get_tokens_and_phrases(text)\n",
    "\n",
    "        f = f.replace(SOURCE_DIR, TARGET_DIR)\n",
    "\n",
    "        with open(f + '.pickle', 'wb') as ff:\n",
    "            pickle.dump(tokens, ff)\n",
    "\n",
    "    return True"
   ]
  },
  {
   "cell_type": "code",
   "execution_count": 8,
   "metadata": {},
   "outputs": [],
   "source": [
    "b = db.from_sequence(f, npartitions=10)\n",
    "file_reader = b.map(dask_clean_file)"
   ]
  },
  {
   "cell_type": "code",
   "execution_count": 10,
   "metadata": {
    "tags": []
   },
   "outputs": [
    {
     "output_type": "stream",
     "name": "stdout",
     "text": "CPU times: user 35 s, sys: 23 s, total: 58 s\nWall time: 6min 35s\n"
    }
   ],
   "source": [
    "%%time\n",
    "res = file_reader.all().compute()\n",
    "# res = file_reader.compute()"
   ]
  },
  {
   "cell_type": "code",
   "execution_count": 11,
   "metadata": {},
   "outputs": [],
   "source": [
    "with open(os.path.join(TARGET_DIR, 'wb_725385.txt.pickle'), 'rb') as ff:\n",
    "    data = pickle.load(ff)"
   ]
  },
  {
   "cell_type": "code",
   "execution_count": 12,
   "metadata": {},
   "outputs": [
    {
     "output_type": "execute_result",
     "data": {
      "text/plain": "(45512, 13294)"
     },
     "metadata": {},
     "execution_count": 12
    }
   ],
   "source": [
    "len(data['tokens']), len(data['phrases'])"
   ]
  },
  {
   "cell_type": "code",
   "execution_count": 13,
   "metadata": {},
   "outputs": [
    {
     "output_type": "execute_result",
     "data": {
      "text/plain": "['public',\n 'resource',\n 'structural',\n 'adjustment',\n 'volume',\n 'volume',\n 'recent',\n 'economic',\n 'development',\n 'term',\n 'outlook',\n 'public',\n 'resource',\n 'management',\n 'part',\n 'sectoral',\n 'adjustment',\n 'policy',\n 'issue',\n 'investment',\n 'program',\n 'country',\n 'official',\n 'use',\n 'only',\n 'document',\n 'document',\n 'distribution',\n 'recipient',\n 'performance',\n 'official',\n 'duty',\n 'content',\n 'authorization',\n 'currency',\n 'equivalent',\n 'baht',\n 'baht',\n 'fiscal',\n 'year',\n 'weight',\n 'measure',\n 'barrel',\n 'day',\n 'mmscfd',\n 'day',\n 'tcf',\n 'metric',\n 'barrel',\n 'approx',\n 'ton',\n 'fuel',\n 'oil',\n 'british',\n 'thermal',\n 'unit',\n 'equal',\n 'toe',\n 'ton',\n 'oil',\n 'equivalent',\n 'kcal',\n 'btus',\n 'kwh',\n 'primary',\n 'electricity',\n 'thermal',\n 'replacement',\n 'value',\n 'natural',\n 'gas',\n 'lignite',\n 'acre',\n 'ofiicial',\n 'use',\n 'only',\n 'report',\n 'mission',\n 'mission',\n 'foreign',\n 'public',\n 'debt',\n 'public',\n 'expenditure',\n 'energy',\n 'transport',\n 'energy',\n 'agriculture',\n 'foreign',\n 'public',\n 'debt',\n 'agricultural',\n 'public',\n 'expenditure',\n 'health',\n 'education',\n 'industry',\n 'consultant',\n 'fiscal',\n 'planning',\n 'consultant',\n 'fiscal',\n 'planning',\n 'consultant',\n 'agriculture',\n 'mission',\n 'senior',\n 'economist',\n 'tite',\n 'mission',\n 'sal',\n 'identification',\n 'mission',\n 'economic',\n 'mission',\n 'term',\n 'timing',\n 'staffing',\n 'nesdb',\n 'mission',\n 'work',\n 'writing',\n 'report',\n 'mission',\n 'analysis',\n 'ing',\n 'stalff',\n 'particular',\n 'many',\n 'official',\n 'royal',\n 'draft',\n 'version',\n 'report',\n 'royal',\n 'thai',\n 'government',\n 'mission',\n 'chief',\n 'economist',\n 'region',\n 'messr',\n 'thiese',\n 'discussion',\n 'burn',\n 'bank',\n 'regional',\n 'misslon',\n 'restriced',\n 'distribution',\n 'recipient',\n 'content',\n 'disclo',\n 'aulthoion',\n 'ii',\n 'abstract',\n 'economic',\n 'report',\n 'economic',\n 'adjustment',\n 'international',\n 'economic',\n 'change',\n 'retrospective',\n 'vantage',\n 'point',\n 'remainder',\n 'particular',\n 'emphasis',\n 'plan',\n 'period',\n 'role',\n 'public',\n 'sector',\n 'management',\n 'resource',\n 'part',\n 'country',\n 'overall',\n 'economic',\n 'performance',\n 'outlook',\n 'most',\n 'other',\n 'country',\n 'effect',\n 'successive',\n 'oil',\n 'price',\n 'shock',\n 'international',\n 'recession',\n 'high',\n 'interest',\n 'rate',\n 'deterioration',\n 'term',\n 'trade',\n 'above',\n 'average',\n 'economic',\n 'performance',\n 'future',\n 'continued',\n 'mentation',\n 'government',\n 'structural',\n 'adjustment',\n 'policy',\n 'able',\n 'sustainable',\n 'balance',\n 'payment',\n 'rapid',\n 'economic',\n 'growth',\n 'rate',\n 'high',\n 'rate',\n 'assessment',\n 'aggregate',\n 'public',\n 'resource',\n 'management',\n 'term',\n 'revenue',\n 'mobilization',\n 'expenditure',\n 'allocation',\n 'foreign',\n 'borrowing',\n 'rapid',\n 'growth',\n 'public',\n 'expenditure',\n 'enterprise',\n 'commensurate',\n 'increase',\n 'public',\n 'resource',\n 'mobilization',\n 'external',\n 'domestic',\n 'financial',\n 'imbalance',\n 'light',\n 'experience',\n 'role',\n 'public',\n 'sector',\n 'thai',\n 'economy',\n 'report',\n 'attention',\n 'planning',\n 'public',\n 'resource',\n 'mobilization',\n 'use',\n 'indicative',\n 'fiscal',\n 'plan',\n 'report',\n 'remainder',\n 'plan',\n 'period',\n 'plan',\n 'revenue',\n 'expenditure',\n 'projection',\n 'consistent',\n 'government',\n 'economic',\n 'sectoral',\n 'objective',\n 'substantial',\n 'effort',\n 'public',\n 'resource',\n 'mobilization',\n 'public',\n 'expenditure',\n 'program',\n 'energy',\n 'transport',\n 'communication',\n 'sector',\n 'structural',\n 'adjustment',\n 'program',\n 'government',\n 'important',\n 'step',\n 'direction',\n 'part',\n 'major',\n 'sectoral',\n 'policy',\n 'issue',\n 'public',\n 'investment',\n 'program',\n 'agriculture',\n 'industry',\n 'energy',\n 'transport',\n 'communication',\n 'human',\n 'resource',\n 'development',\n 'population',\n 'health',\n 'education',\n 'main',\n 'finding',\n 'implementation',\n 'government',\n 'structural',\n 'adjustment',\n 'program',\n 'agriculture',\n 'industry',\n 'energy',\n 'essential',\n 'efficient',\n 'development',\n 'sector',\n 'major',\n 'public',\n 'investment',\n 'decision',\n 'transport',\n 'communication',\n 'sector',\n 'caution',\n 'problem',\n 'human',\n 'resource',\n 'development',\n 'attention',\n 'future',\n 'preparation',\n 'plan',\n 'efficient',\n 'equitable',\n 'devrelopment',\n 'public',\n 'resource',\n 'structural',\n 'adjustment',\n 'volume',\n 'content',\n 'page',\n 'country',\n 'data',\n 'abbreviation',\n 'introduction',\n 'part',\n 'recent',\n 'economic',\n 'development',\n 'dium',\n 'term',\n 'outlook',\n 'recent',\n 'economic',\n 'development',\n 'international',\n 'perspective',\n 'deceade',\n 'growth',\n 'development',\n 'oil',\n 'price',\n 'shock',\n 'aspect',\n 'recent',\n 'macroeconomic',\n 'development',\n 'growth',\n 'aggregate',\n 'production',\n 'income',\n 'agricultural',\n 'growth',\n 'income',\n 'industrial',\n 'growth',\n 'inflation',\n 'interest',\n 'rate',\n 'employment',\n 'wage',\n 'growth',\n 'structure',\n 'demand',\n 'balamce',\n 'payment',\n 'foreign',\n 'debt',\n 'economic',\n 'prospect',\n 'fift',\n 'plan',\n 'objective',\n 'policy',\n 'major',\n 'plan',\n 'objective',\n 'concern',\n 'major',\n 'policy',\n 'thrust',\n 'plan',\n 'plan',\n 'macroeconomic',\n 'scenario',\n 'medium',\n 'term',\n 'prospect',\n 'central',\n 'case',\n 'medium',\n 'term',\n 'prospect',\n 'alternative',\n 'scenario',\n 'impact',\n 'policy',\n 'intervention',\n 'impact',\n 'change',\n 'international',\n 'environment',\n 'economic',\n 'prospect',\n 'issue',\n 'trade',\n 'off',\n 'uncertainty',\n 'economic',\n 'growth',\n 'downward',\n 'revision',\n 'medium',\n 'term',\n 'outlook',\n 'implication',\n 'public',\n 'foreign',\n 'borrowing',\n 'policy',\n 'implication',\n 'employment',\n 'growth',\n 'poverty',\n 'eradication',\n 'unctsrtaintie',\n 'risk',\n 'iv',\n 'page',\n 'public',\n 'resource',\n 'management',\n 'planning',\n 'trend',\n 'issue',\n 'public',\n 'resource',\n 'management',\n 'overall',\n 'trend',\n 'public',\n 'resource',\n 'mobilization',\n 'use',\n 'growth',\n 'composition',\n 'public',\n 'expenditure',\n 'public',\n 'sector',\n 'resource',\n 'mobilization',\n 'tax',\n 'revenue',\n 'trend',\n 'structure',\n 'buoyancy',\n 'elasticity',\n 'tax',\n 'system',\n 'tax',\n 'administration',\n 'tax',\n 'structure',\n 'state',\n 'enterprise',\n 'finance',\n 'public',\n 'borrowing',\n 'public',\n 'resource',\n 'management',\n 'plan',\n 'period',\n 'fiscal',\n 'planning',\n 'general',\n 'objective',\n 'approach',\n 'central',\n 'government',\n 'state',\n 'enterprise',\n 'local',\n 'government',\n 'extrabudgetary',\n 'fund',\n 'consolidated',\n 'fiscal',\n 'planning',\n 'fiscal',\n 'planning',\n 'fiscal',\n 'planning',\n 'practice',\n 'current',\n 'fiscal',\n 'planning',\n 'approach',\n 'issue',\n 'result',\n 'current',\n 'fiscal',\n 'planning',\n 'exercise',\n 'central',\n 'government',\n 'central',\n 'government',\n 'program',\n 'enterprise',\n 'program',\n 'consolidated',\n 'government',\n 'expenditure',\n 'public',\n 'sector',\n 'resource',\n 'management',\n 'macroeconomic',\n 'context',\n 'part',\n 'sectoral',\n 'adjustment',\n 'policy',\n 'issue',\n 'investment',\n 'program',\n 'agriculture',\n 'rural',\n 'development',\n 'overview',\n 'international',\n 'comparison',\n 'agricultural',\n 'production',\n 'income',\n 'agricultural',\n 'export',\n 'land',\n 'recent',\n 'development',\n 'prospect',\n 'recent',\n 'development',\n 'agriculture',\n 'agricultural',\n 'policy',\n 'public',\n 'expenditure',\n 'agriculture',\n 'rural',\n 'development',\n 'irrigation',\n 'other',\n 'agricultural',\n 'program',\n 'rural',\n 'development',\n 'program',\n 'investment',\n 'planning',\n 'budgeting',\n 'agricultural',\n 'policy',\n 'page',\n 'no',\n 'industrial',\n 'growth',\n 'policy',\n 'trend',\n 'structure',\n 'recent',\n 'development',\n 'industry',\n 'industrial',\n 'development',\n 'policy',\n 'institutional',\n 'framework',\n 'protective',\n 'structure',\n 'investment',\n 'incentive',\n 'export',\n 'incentive',\n 'large',\n 'scale',\n 'industry',\n 'petrochemical',\n 'complex',\n 'summary',\n 'assessment',\n 'large',\n 'scale',\n 'industrial',\n 'development',\n 'industrial',\n 'development',\n 'policy',\n 'energy',\n 'trend',\n 'issue',\n 'investment',\n 'requirement',\n 'domestic',\n 'energy',\n 'resource',\n 'hydropow',\n 'natural',\n 'gas',\n 'oil',\n 'lignit',\n 'noncotamercial',\n 'energy',\n 'alternative',\n 'energy',\n 'source',\n 'energy',\n 'demand',\n 'import',\n 'trend',\n 'outlook',\n 'energy',\n 'sector',\n 'issue',\n 'natural',\n 'gas',\n 'development',\n 'utilization',\n 'energy',\n 'pricing',\n 'fiscal',\n 'implication',\n 'energy',\n 'conservation',\n 'institutional',\n 'issue',\n 'public',\n 'investment',\n 'program',\n 'requirement',\n 'energy',\n 'sector',\n 'power',\n 'subsector',\n 'oil',\n 'gas',\n 'subsector',\n 'summary',\n 'assessment',\n 'energy',\n 'sector',\n 'issue',\n 'transport',\n 'communication',\n 'objective',\n 'sectoral',\n 'planning',\n 'issue',\n 'transport',\n 'sector',\n 'telecommunication',\n 'public',\n 'investment',\n 'program',\n 'transport',\n 'communication',\n 'road',\n 'railway',\n 'urban',\n 'transit',\n 'water',\n 'transport',\n 'aviat',\n 'ion',\n 'telecommunication',\n 'summary',\n 'assessment',\n 'page',\n 'no',\n 'human',\n 'resource',\n 'development',\n 'population',\n 'health',\n 'education',\n 'policy',\n 'issue',\n 'priority',\n 'human',\n 'resource',\n 'development',\n 'population',\n 'growth',\n 'policy',\n 'health',\n 'education',\n 'public',\n 'expenditure',\n 'population',\n 'health',\n 'education',\n 'sector',\n 'health',\n 'population',\n 'planning',\n 'education',\n 'summary',\n 'assessment',\n 'public',\n 'expenditure',\n 'human',\n 'resource',\n 'development',\n 'map',\n 'ibrd',\n 'vii',\n 'list',\n 'table',\n 'growrth',\n 'income',\n 'population',\n 'term',\n 'trade',\n 'oral',\n 'growth',\n 'structure',\n 'production',\n 'urbanization',\n 'absolute',\n 'poverty',\n 'east',\n 'asian',\n 'country',\n 'indicator',\n 'econtomic',\n 'trend',\n 'east',\n 'asian',\n 'country',\n 'growyth',\n 'production',\n 'income',\n 'distribution',\n 'production',\n 'induistrialization',\n 'data',\n 'price',\n 'term',\n 'trade',\n 'intetrest',\n 'rate',\n 'growth',\n 'structure',\n 'demand',\n 'international',\n 'compariisiion',\n 'growth',\n 'expetnditure',\n 'share',\n 'merchandise',\n 'export',\n 'trade',\n 'effect',\n 'balatnce',\n 'payment',\n 'current',\n 'account',\n 'debt',\n 'indicator',\n 'growth',\n 'external',\n 'indebtedness',\n 'economic',\n 'projection',\n 'macro',\n 'economic',\n 'outlook',\n 'impacet',\n 'policy',\n 'intervention',\n 'change',\n 'wlorld',\n 'environemnt',\n 'public',\n 'expenditure',\n 'financing',\n 'investment',\n 'sectoral',\n 'flow',\n 'fund',\n 'trerid',\n 'distribution',\n 'public',\n 'sector',\n 'deficit',\n 'estilmate',\n 'gross',\n 'public',\n 'saving',\n 'savilng',\n 'investment',\n 'gap',\n 'growth',\n 'structure',\n 'consolidated',\n 'public',\n 'expendituire',\n 'public',\n 'capital',\n 'expend',\n 'iture',\n 'central',\n 'government',\n 'expenditure',\n 'finiancing',\n 'consolidated',\n 'public',\n 'expenditure',\n 'trend',\n 'composition',\n 'ceneral',\n 'goivernment',\n 'revenue',\n 'comparative',\n 'data',\n 'tax',\n 'gdp',\n 'ratio',\n 'source',\n 'tcax',\n 'revenue',\n 'middle',\n 'income',\n 'country',\n 'cenatral',\n 'government',\n 'revenue',\n 'elasticity',\n 'reform',\n 'tax',\n 'structure',\n 'aggregate',\n 'indicator',\n 'state',\n 'enterprise',\n 'finance',\n 'financing',\n 'public',\n 'sector',\n 'cash',\n 'evoluation',\n 'disbursed',\n 'external',\n 'detbt',\n 'sectoral',\n 'allocation',\n 'external',\n 'debt',\n 'major',\n 'public',\n 'enterprise',\n 'borrower',\n 'central',\n 'government',\n 'foreign',\n 'borrowing',\n 'counterpart',\n 'fund',\n 'source',\n 'public',\n 'sector',\n 'external',\n 'finance',\n 'viii',\n 'assumption',\n 'underlying',\n 'central',\n 'government',\n 'expenditure',\n 'central',\n 'government',\n 'expenditure',\n 'projection',\n 'alternative',\n 'scenario',\n 'central',\n 'government',\n 'revenue',\n 'projection',\n 'distribution',\n 'central',\n 'government',\n 'revenue',\n 'impact',\n 'tax',\n 'package',\n 'additional',\n 'future',\n 'tax',\n 'measure',\n 'central',\n 'government',\n 'deficit',\n 'summary',\n 'new',\n 'tax',\n 'measure',\n 'distribution',\n 'central',\n 'government',\n 'expenditure',\n 'nesdb',\n 'trend',\n 'state',\n 'enterprise',\n 'expenditure',\n 'plan',\n 'composition',\n 'state',\n 'enterprise',\n 'expenditure',\n 'plan',\n 'financing',\n 'state',\n 'enterprise',\n 'investment',\n 'plan',\n 'financing',\n 'plan',\n 'state',\n 'enterprise',\n 'investment',\n 'sector',\n 'public',\n 'sector',\n 'expenditure',\n 'plan',\n 'macroeconomic',\n 'indicator',\n 'alternative',\n 'fiscal',\n 'scenario',\n 'fiscal',\n 'indicator',\n 'alternative',\n 'fiscal',\n 'scenario',\n 'financing',\n 'public',\n 'sector',\n 'deficit',\n 'alternative',\n 'fiscal',\n 'scenario',\n 'value',\n 'agriculture',\n 'agriculture',\n 'economy',\n 'regional',\n 'perspective',\n 'agricultural',\n 'economy',\n 'regional',\n 'perspective',\n 'change',\n 'regional',\n ...]"
     },
     "metadata": {},
     "execution_count": 13
    }
   ],
   "source": [
    "data['tokens']"
   ]
  },
  {
   "cell_type": "markdown",
   "metadata": {},
   "source": [
    "# Train gensim phraser"
   ]
  },
  {
   "cell_type": "code",
   "execution_count": 9,
   "metadata": {},
   "outputs": [],
   "source": [
    "from gensim.models.phrases import Phrases, Phraser\n",
    "from gensim import corpora"
   ]
  },
  {
   "cell_type": "code",
   "execution_count": 12,
   "metadata": {},
   "outputs": [],
   "source": [
    "def generate_cleaned_data(file_list):\n",
    "\n",
    "    for f in file_list:\n",
    "        with open(os.path.join(f.replace(SOURCE_DIR, TARGET_DIR) + '.pickle'), 'rb') as ff:\n",
    "            data = pickle.load(ff)\n",
    "            yield(data['tokens'])\n",
    "\n"
   ]
  },
  {
   "cell_type": "code",
   "execution_count": 13,
   "metadata": {
    "tags": []
   },
   "outputs": [
    {
     "output_type": "stream",
     "name": "stdout",
     "text": "CPU times: user 13 s, sys: 651 ms, total: 13.7 s\nWall time: 14.4 s\n"
    }
   ],
   "source": [
    "%%time\n",
    "\n",
    "corpus_generator = generate_cleaned_data(f)\n",
    "bigram = Phrases(corpus_generator, min_count=1)\n",
    "bigram_phraser = Phraser(bigram)\n",
    "del(bigram)"
   ]
  },
  {
   "cell_type": "code",
   "execution_count": 14,
   "metadata": {
    "tags": []
   },
   "outputs": [
    {
     "output_type": "stream",
     "name": "stdout",
     "text": "CPU times: user 22.5 s, sys: 1.15 s, total: 23.7 s\nWall time: 24.2 s\n"
    }
   ],
   "source": [
    "%%time\n",
    "\n",
    "corpus_generator = generate_cleaned_data(f)\n",
    "trigram = Phrases(bigram_phraser[corpus_generator], min_count=1)\n",
    "trigram_phraser = Phraser(trigram)\n",
    "del(trigram)"
   ]
  },
  {
   "cell_type": "markdown",
   "metadata": {},
   "source": [
    "# Compare gensim and custom phrasers"
   ]
  },
  {
   "cell_type": "code",
   "execution_count": null,
   "metadata": {},
   "outputs": [],
   "source": [
    "phrased_doc = trigram_phraser[data['tokens']]"
   ]
  },
  {
   "cell_type": "code",
   "execution_count": 23,
   "metadata": {},
   "outputs": [
    {
     "output_type": "execute_result",
     "data": {
      "text/plain": "['financial_viability',\n 'foreign_currency',\n 'lpg_project',\n 'fertility_decline',\n 'universal_access',\n 'incentive_structure',\n 'immediate_impact',\n 'educational_material',\n 'great_care',\n 'further_investigation']"
     },
     "metadata": {},
     "execution_count": 23
    }
   ],
   "source": [
    "common_phrases = list(set(data['phrases']).intersection(phrased_doc))\n",
    "common_phrases[:10]"
   ]
  },
  {
   "cell_type": "code",
   "execution_count": 15,
   "metadata": {
    "tags": []
   },
   "outputs": [
    {
     "output_type": "stream",
     "name": "stderr",
     "text": "distributed.nanny - WARNING - Worker process still alive after 1 seconds, killing\ndistributed.nanny - WARNING - Worker process still alive after 1 seconds, killing\n"
    },
    {
     "output_type": "execute_result",
     "data": {
      "text/plain": "<Client: 'tcp://127.0.0.1:34733' processes=0 threads=0, memory=0 B>",
      "text/html": "<table style=\"border: 2px solid white;\">\n<tr>\n<td style=\"vertical-align: top; border: 0px solid white\">\n<h3 style=\"text-align: left;\">Client</h3>\n<ul style=\"text-align: left; list-style: none; margin: 0; padding: 0;\">\n  <li><b>Scheduler: </b>tcp://127.0.0.1:34733</li>\n  <li><b>Dashboard: </b><a href='http://127.0.0.1:8787/status' target='_blank'>http://127.0.0.1:8787/status</a></li>\n</ul>\n</td>\n<td style=\"vertical-align: top; border: 0px solid white\">\n<h3 style=\"text-align: left;\">Cluster</h3>\n<ul style=\"text-align: left; list-style:none; margin: 0; padding: 0;\">\n  <li><b>Workers: </b>2</li>\n  <li><b>Cores: </b>4</li>\n  <li><b>Memory: </b>2.00 GB</li>\n</ul>\n</td>\n</tr>\n</table>"
     },
     "metadata": {},
     "execution_count": 15
    }
   ],
   "source": [
    "# client.restart()"
   ]
  },
  {
   "cell_type": "code",
   "execution_count": null,
   "metadata": {},
   "outputs": [],
   "source": []
  }
 ]
}