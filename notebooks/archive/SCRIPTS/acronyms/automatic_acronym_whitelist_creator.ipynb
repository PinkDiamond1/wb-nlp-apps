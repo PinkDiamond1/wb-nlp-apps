{
 "cells": [
  {
   "cell_type": "code",
   "execution_count": 1,
   "metadata": {},
   "outputs": [
    {
     "name": "stderr",
     "output_type": "stream",
     "text": [
      "/home/wb329102/anaconda3/lib/python3.6/site-packages/h5py/__init__.py:34: FutureWarning: Conversion of the second argument of issubdtype from `float` to `np.floating` is deprecated. In future, it will be treated as `np.float64 == np.dtype(float).type`.\n",
      "  from ._conv import register_converters as _register_converters\n",
      "Using Theano backend.\n"
     ]
    }
   ],
   "source": [
    "import keras"
   ]
  },
  {
   "cell_type": "code",
   "execution_count": 2,
   "metadata": {
    "collapsed": true
   },
   "outputs": [],
   "source": [
    "%%capture\n",
    "\n",
    "%run ./path_manager.ipynb"
   ]
  },
  {
   "cell_type": "code",
   "execution_count": 3,
   "metadata": {
    "collapsed": true
   },
   "outputs": [],
   "source": [
    "import xlrd\n",
    "import pandas as pd\n",
    "import numpy as np"
   ]
  },
  {
   "cell_type": "code",
   "execution_count": 4,
   "metadata": {},
   "outputs": [
    {
     "name": "stdout",
     "output_type": "stream",
     "text": [
      "sheets are: ['imf_detected_acronyms_prototype', 'Selected_list']\n"
     ]
    }
   ],
   "source": [
    "# https://stackoverflow.com/questions/7991209/identifying-excel-sheet-cell-color-code-using-xlrd-package\n",
    "book = xlrd.open_workbook(os.path.join(get_corpus_path('IMF'), \"imf_detected_acronyms_prototypes_OD - Copy.xls\"), formatting_info=True)\n",
    "sheets = book.sheet_names()\n",
    "print(f\"sheets are: {sheets}\")"
   ]
  },
  {
   "cell_type": "code",
   "execution_count": null,
   "metadata": {
    "collapsed": true
   },
   "outputs": [],
   "source": [
    "# Energy Information Agency?"
   ]
  },
  {
   "cell_type": "code",
   "execution_count": 5,
   "metadata": {
    "collapsed": true
   },
   "outputs": [],
   "source": [
    "# cell bgx == 13 (yellow highlight - positive samples)\n",
    "# cell bgx == 64 (no highlight - negative samples or duplicates)\n",
    "# column (0) 1 is the acronym"
   ]
  },
  {
   "cell_type": "code",
   "execution_count": 6,
   "metadata": {},
   "outputs": [
    {
     "name": "stdout",
     "output_type": "stream",
     "text": [
      "Sheet: imf_detected_acronyms_prototype\n",
      "Number of rows: 3554   Number of cols: 12\n",
      "Sheet: Selected_list\n"
     ]
    }
   ],
   "source": [
    "acronym_dataset = []\n",
    "\n",
    "for index, sh in enumerate(sheets):\n",
    "    sheet = book.sheet_by_index(index)\n",
    "    print(\"Sheet:\", sheet.name)\n",
    "    if sheet.name != 'imf_detected_acronyms_prototype':\n",
    "        continue\n",
    "        \n",
    "    rows, cols = sheet.nrows, sheet.ncols\n",
    "    print(\"Number of rows: %s   Number of cols: %s\" % (rows, cols))\n",
    "    for row in range(rows):\n",
    "        if row == 0:\n",
    "            continue\n",
    "        goto_next_row = False\n",
    "        for col in range(cols):\n",
    "            cell = sheet.cell(row, col)      \n",
    "            # could get 'dump', 'value', 'xf_index'\n",
    "            cell_value = cell.value\n",
    "            xfx = sheet.cell_xf_index(row, col)\n",
    "            xf = book.xf_list[xfx]\n",
    "            bgx = xf.background.pattern_colour_index\n",
    "            \n",
    "            # print(f\"row={row + 1}, col={col + 1}, val={cell_value}, bg={bgx}\")\n",
    "\n",
    "            if (col + 1) == 1:\n",
    "                acr = cell_value\n",
    "                if not acr:\n",
    "                    goto_next_row = True\n",
    "                    break\n",
    "\n",
    "            elif (col + 1) % 2 != 0:\n",
    "                acronym_dataset.append({\n",
    "                    'acronym': acr,\n",
    "                    'full_name': cell_value,\n",
    "                    'is_valid': bgx == 13\n",
    "                })\n",
    "                \n",
    "acronym_dataset = pd.DataFrame(acronym_dataset)"
   ]
  },
  {
   "cell_type": "code",
   "execution_count": 7,
   "metadata": {},
   "outputs": [
    {
     "data": {
      "text/plain": [
       "(17710, 3)"
      ]
     },
     "execution_count": 7,
     "metadata": {},
     "output_type": "execute_result"
    }
   ],
   "source": [
    "acronym_dataset.shape"
   ]
  },
  {
   "cell_type": "markdown",
   "metadata": {},
   "source": [
    "# Remove unlabelled data"
   ]
  },
  {
   "cell_type": "code",
   "execution_count": 8,
   "metadata": {
    "collapsed": true
   },
   "outputs": [],
   "source": [
    "labeled_acronyms = acronym_dataset.groupby('acronym')['is_valid'].sum() > 0\n",
    "labeled_acronyms = set(labeled_acronyms[labeled_acronyms].index)"
   ]
  },
  {
   "cell_type": "code",
   "execution_count": 9,
   "metadata": {
    "collapsed": true
   },
   "outputs": [],
   "source": [
    "working_dataset = acronym_dataset[acronym_dataset.acronym.isin(labeled_acronyms)]"
   ]
  },
  {
   "cell_type": "markdown",
   "metadata": {},
   "source": [
    "# Remove duplicates in negative samples"
   ]
  },
  {
   "cell_type": "code",
   "execution_count": 10,
   "metadata": {
    "collapsed": true
   },
   "outputs": [],
   "source": [
    "from sklearn.feature_extraction.text import HashingVectorizer\n",
    "from sklearn.metrics.pairwise import cosine_similarity"
   ]
  },
  {
   "cell_type": "code",
   "execution_count": 46,
   "metadata": {
    "collapsed": true
   },
   "outputs": [],
   "source": [
    "hvec = HashingVectorizer(analyzer='char', ngram_range=(2, 3))"
   ]
  },
  {
   "cell_type": "code",
   "execution_count": 51,
   "metadata": {
    "collapsed": true
   },
   "outputs": [],
   "source": [
    "from nltk.metrics.distance import edit_distance"
   ]
  },
  {
   "cell_type": "code",
   "execution_count": 55,
   "metadata": {
    "collapsed": true
   },
   "outputs": [],
   "source": [
    "def get_valid_negative_samples(df, max_dissimilarity_thresh=2):\n",
    "    if not df[False]:\n",
    "        return []\n",
    "    \n",
    "    negatives = np.array(df[False])\n",
    "    positives = df[True]\n",
    "    true_negatives = set()\n",
    "    \n",
    "    for p in positives:\n",
    "        for n in negatives:\n",
    "            e = edit_distance(p, n)\n",
    "            if e > max_dissimilarity_thresh:\n",
    "                true_negatives.add(n)\n",
    "                \n",
    "#     neg_vec = hvec.transform(negatives)\n",
    "#     sim = cosine_similarity(neg_vec, hvec.transform(positives))\n",
    "#     print(sim)\n",
    "#     sim = sim.max(axis=1) # Get maximum similarity, meaning, remove term regardless of which prototype it's a duplicate of.\n",
    "    \n",
    "#     true_negatives = negatives[np.where(sim < max_dissimilarity_thresh)]\n",
    "    \n",
    "    return list(true_negatives)"
   ]
  },
  {
   "cell_type": "code",
   "execution_count": 57,
   "metadata": {
    "collapsed": true
   },
   "outputs": [],
   "source": [
    "q = working_dataset.groupby(['acronym', 'is_valid']).apply(lambda x: x['full_name'].tolist()).unstack()"
   ]
  },
  {
   "cell_type": "code",
   "execution_count": 58,
   "metadata": {
    "scrolled": true
   },
   "outputs": [
    {
     "name": "stdout",
     "output_type": "stream",
     "text": [
      "CPU times: user 3.62 s, sys: 21 ms, total: 3.64 s\n",
      "Wall time: 17 s\n"
     ]
    }
   ],
   "source": [
    "%%time\n",
    "negative_samples = q.apply(get_valid_negative_samples, axis=1)"
   ]
  },
  {
   "cell_type": "code",
   "execution_count": 59,
   "metadata": {
    "collapsed": true
   },
   "outputs": [],
   "source": [
    "full_valid_data = pd.DataFrame(q)\n",
    "full_valid_data[False] = negative_samples\n",
    "\n",
    "# Redundant but this is fast... :D\n",
    "negatives = [{'acronym': k, 'full_name': v, 'is_valid': False} for k, vs in full_valid_data[False].items() for v in vs]\n",
    "positives = [{'acronym': k, 'full_name': v, 'is_valid': True} for k, vs in full_valid_data[True].items() for v in vs]\n",
    "\n",
    "full_valid_data = pd.DataFrame(positives + negatives)"
   ]
  },
  {
   "cell_type": "markdown",
   "metadata": {},
   "source": [
    "# Features\n",
    "\n",
    "1. Match in first letters\n",
    "2. "
   ]
  },
  {
   "cell_type": "code",
   "execution_count": 64,
   "metadata": {},
   "outputs": [
    {
     "data": {
      "text/plain": [
       "['World Health Organi', 'Index (UNDP) Health', 'World Health Organiza']"
      ]
     },
     "execution_count": 64,
     "metadata": {},
     "output_type": "execute_result"
    }
   ],
   "source": [
    "q.loc['WHO'][False]"
   ]
  },
  {
   "cell_type": "code",
   "execution_count": 65,
   "metadata": {},
   "outputs": [
    {
     "data": {
      "text/plain": [
       "['World Health Organi', 'Index (UNDP) Health', 'World Health Organiza']"
      ]
     },
     "execution_count": 65,
     "metadata": {},
     "output_type": "execute_result"
    }
   ],
   "source": [
    "get_valid_negative_samples(q.loc['WHO'])"
   ]
  },
  {
   "cell_type": "code",
   "execution_count": 66,
   "metadata": {},
   "outputs": [
    {
     "data": {
      "text/html": [
       "<div>\n",
       "<style scoped>\n",
       "    .dataframe tbody tr th:only-of-type {\n",
       "        vertical-align: middle;\n",
       "    }\n",
       "\n",
       "    .dataframe tbody tr th {\n",
       "        vertical-align: top;\n",
       "    }\n",
       "\n",
       "    .dataframe thead th {\n",
       "        text-align: right;\n",
       "    }\n",
       "</style>\n",
       "<table border=\"1\" class=\"dataframe\">\n",
       "  <thead>\n",
       "    <tr style=\"text-align: right;\">\n",
       "      <th></th>\n",
       "      <th>acronym</th>\n",
       "      <th>full_name</th>\n",
       "      <th>is_valid</th>\n",
       "    </tr>\n",
       "  </thead>\n",
       "  <tbody>\n",
       "    <tr>\n",
       "      <th>1090</th>\n",
       "      <td>WFP</td>\n",
       "      <td>World Food Program</td>\n",
       "      <td>True</td>\n",
       "    </tr>\n",
       "    <tr>\n",
       "      <th>3327</th>\n",
       "      <td>WFP</td>\n",
       "      <td>Simon Giampiero Lucarini</td>\n",
       "      <td>False</td>\n",
       "    </tr>\n",
       "    <tr>\n",
       "      <th>3328</th>\n",
       "      <td>WFP</td>\n",
       "      <td>World Food Progranune</td>\n",
       "      <td>False</td>\n",
       "    </tr>\n",
       "    <tr>\n",
       "      <th>3329</th>\n",
       "      <td>WFP</td>\n",
       "      <td>Working Family Payment</td>\n",
       "      <td>False</td>\n",
       "    </tr>\n",
       "  </tbody>\n",
       "</table>\n",
       "</div>"
      ],
      "text/plain": [
       "     acronym                 full_name  is_valid\n",
       "1090     WFP        World Food Program      True\n",
       "3327     WFP  Simon Giampiero Lucarini     False\n",
       "3328     WFP     World Food Progranune     False\n",
       "3329     WFP    Working Family Payment     False"
      ]
     },
     "execution_count": 66,
     "metadata": {},
     "output_type": "execute_result"
    }
   ],
   "source": [
    "full_valid_data[full_valid_data.acronym == 'WFP']"
   ]
  },
  {
   "cell_type": "code",
   "execution_count": 67,
   "metadata": {
    "scrolled": true
   },
   "outputs": [
    {
     "data": {
      "text/html": [
       "<div>\n",
       "<style scoped>\n",
       "    .dataframe tbody tr th:only-of-type {\n",
       "        vertical-align: middle;\n",
       "    }\n",
       "\n",
       "    .dataframe tbody tr th {\n",
       "        vertical-align: top;\n",
       "    }\n",
       "\n",
       "    .dataframe thead th {\n",
       "        text-align: right;\n",
       "    }\n",
       "</style>\n",
       "<table border=\"1\" class=\"dataframe\">\n",
       "  <thead>\n",
       "    <tr style=\"text-align: right;\">\n",
       "      <th></th>\n",
       "      <th>acronym</th>\n",
       "      <th>full_name</th>\n",
       "      <th>is_valid</th>\n",
       "    </tr>\n",
       "  </thead>\n",
       "  <tbody>\n",
       "    <tr>\n",
       "      <th>0</th>\n",
       "      <td>AAA</td>\n",
       "      <td>Analytical Advisory Activities</td>\n",
       "      <td>True</td>\n",
       "    </tr>\n",
       "    <tr>\n",
       "      <th>1</th>\n",
       "      <td>AAP</td>\n",
       "      <td>Assessment Action Plan</td>\n",
       "      <td>True</td>\n",
       "    </tr>\n",
       "    <tr>\n",
       "      <th>2</th>\n",
       "      <td>ABS</td>\n",
       "      <td>Australian Bureau Statistics</td>\n",
       "      <td>True</td>\n",
       "    </tr>\n",
       "    <tr>\n",
       "      <th>3</th>\n",
       "      <td>ACC</td>\n",
       "      <td>Anti Corruption Commission</td>\n",
       "      <td>True</td>\n",
       "    </tr>\n",
       "    <tr>\n",
       "      <th>4</th>\n",
       "      <td>ACE</td>\n",
       "      <td>Allowance Corporate Equity</td>\n",
       "      <td>True</td>\n",
       "    </tr>\n",
       "  </tbody>\n",
       "</table>\n",
       "</div>"
      ],
      "text/plain": [
       "  acronym                       full_name  is_valid\n",
       "0     AAA  Analytical Advisory Activities      True\n",
       "1     AAP          Assessment Action Plan      True\n",
       "2     ABS    Australian Bureau Statistics      True\n",
       "3     ACC      Anti Corruption Commission      True\n",
       "4     ACE      Allowance Corporate Equity      True"
      ]
     },
     "execution_count": 67,
     "metadata": {},
     "output_type": "execute_result"
    }
   ],
   "source": [
    "full_valid_data.head()"
   ]
  },
  {
   "cell_type": "code",
   "execution_count": null,
   "metadata": {
    "collapsed": true
   },
   "outputs": [],
   "source": []
  },
  {
   "cell_type": "code",
   "execution_count": null,
   "metadata": {
    "collapsed": true
   },
   "outputs": [],
   "source": []
  }
 ],
 "metadata": {
  "kernelspec": {
   "display_name": "Python 3",
   "language": "python",
   "name": "python3"
  },
  "language_info": {
   "codemirror_mode": {
    "name": "ipython",
    "version": 3
   },
   "file_extension": ".py",
   "mimetype": "text/x-python",
   "name": "python",
   "nbconvert_exporter": "python",
   "pygments_lexer": "ipython3",
   "version": "3.8.3-final"
  }
 },
 "nbformat": 4,
 "nbformat_minor": 2
}