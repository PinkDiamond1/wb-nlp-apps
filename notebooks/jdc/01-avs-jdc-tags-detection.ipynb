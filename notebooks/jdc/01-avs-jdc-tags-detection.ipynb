{
 "cells": [
  {
   "cell_type": "code",
   "execution_count": 68,
   "metadata": {},
   "outputs": [],
   "source": [
    "import pandas as pd\n",
    "import numpy as np\n",
    "\n",
    "from flashtext import KeywordProcessor\n",
    "import inflect"
   ]
  },
  {
   "cell_type": "code",
   "execution_count": 2,
   "metadata": {},
   "outputs": [],
   "source": [
    "from wb_nlp import dir_manager"
   ]
  },
  {
   "cell_type": "code",
   "execution_count": 69,
   "metadata": {},
   "outputs": [],
   "source": [
    "inflect_engine = inflect.engine()"
   ]
  },
  {
   "cell_type": "code",
   "execution_count": 30,
   "metadata": {},
   "outputs": [],
   "source": [
    "jdc_tags_processor = KeywordProcessor()"
   ]
  },
  {
   "cell_type": "code",
   "execution_count": 12,
   "metadata": {},
   "outputs": [],
   "source": [
    "tags_sheet = pd.read_excel(dir_manager.get_data_dir(\"whitelists\", \"jdc\", \"List_filtering_keywords.xlsx\"), header=None, index_col=0).rename(columns={1: \"tag_keyword\"})"
   ]
  },
  {
   "source": [
    "### Definition of data input:\n",
    "\n",
    "The input to the tag extractor is an excel or csv file. The first column of the data must be the intended tag keyword. To remove ambiguity, a header with name \"tag_keyword\" must be present. Additionally, all non-empty values in the columns to the right of the tag keyword are considered as prototypes. Occurences of these prototypes will be mapped to the tag keyword.\n"
   ],
   "cell_type": "markdown",
   "metadata": {}
  },
  {
   "cell_type": "code",
   "execution_count": 72,
   "metadata": {},
   "outputs": [],
   "source": [
    "def get_keywords_mapping(tags_sheet):\n",
    "    tags_mapping = tags_sheet.set_index(\"tag_keyword\").T.apply(\n",
    "        # If prototypes have \"underscores\" create a copy with the underscore replaced with a space.\n",
    "        lambda x: [[i] if \"_\" not in i else [i, i.replace(\"_\", \" \")] for i in x.dropna().tolist()] +\n",
    "\n",
    "        # Add the tag keyword as well\n",
    "        [[x.name, x.name.replace(\"_\", \" \")]])\n",
    "\n",
    "    # Clean up the keywords to remove duplicates.\n",
    "    tags_mapping = tags_mapping.map(lambda x: sorted(set([j for i in x for j in i])))\n",
    "\n",
    "    tags_mapping = tags_mapping.map(\n",
    "        lambda x: x + [inflect_engine.plural(i) for i in x if \"_\" not in i])\n",
    "\n",
    "    # Clean up the keywords to remove duplicates.\n",
    "    tags_mapping = tags_mapping.map(\n",
    "        lambda x: sorted(set(x)))\n",
    "\n",
    "    return tags_mapping"
   ]
  },
  {
   "cell_type": "code",
   "execution_count": 73,
   "metadata": {},
   "outputs": [
    {
     "output_type": "execute_result",
     "data": {
      "text/plain": [
       "['Dagahaley (Kenya)',\n",
       " 'Dagahaley (Kenya)s',\n",
       " 'Hagadera (Kenya)',\n",
       " 'Hagadera (Kenya)s',\n",
       " 'Ifo (Kenya)',\n",
       " 'Ifo (Kenya)s',\n",
       " 'Kakuma (Kenya)',\n",
       " 'Kakuma (Kenya)s',\n",
       " 'Katumba (Tanzania)',\n",
       " 'Katumba (Tanzania)s',\n",
       " \"Kutupalong (Ukhia, Cox's Bazar, Bangladesh)\",\n",
       " \"Kutupalong (Ukhia, Cox's Bazar, Bangladesh)s\",\n",
       " 'Mishamo (Tanzania)',\n",
       " 'Mishamo (Tanzania)s',\n",
       " 'Panian (Pakistan)',\n",
       " 'Panian (Pakistan)s',\n",
       " 'Pugnido (Ethiopia)',\n",
       " 'Pugnido (Ethiopia)s',\n",
       " 'Yida (South Sudan)',\n",
       " 'Yida (South Sudan)s',\n",
       " 'Zaatari (Jordan)',\n",
       " 'Zaatari (Jordan)s']"
      ]
     },
     "metadata": {},
     "execution_count": 73
    }
   ],
   "source": [
    "tags_mapping = get_keywords_mapping(tags_sheet)\n",
    "tags_mapping.pop(\"Kakuma (Kenya)\")"
   ]
  },
  {
   "cell_type": "code",
   "execution_count": 74,
   "metadata": {},
   "outputs": [
    {
     "output_type": "execute_result",
     "data": {
      "text/plain": [
       "tag_keyword\n",
       "population_of_concern              [PoC, PoCs, population of concern, population_...\n",
       "refugee                                                          [refugee, refugees]\n",
       "internally_displaced_population    [idp, idps, internally displaced, internally d...\n",
       "stateless                                                   [stateless, statelesses]\n",
       "climate_refugee                    [climate refugee, climate refugees, climate_re...\n",
       "returnee                                                       [returnee, returnees]\n",
       "refugee_camp                             [refugee camp, refugee camps, refugee_camp]\n",
       "host_community                     [host communities, host community, host_commun...\n",
       "asylum_seeker                      [asylum, asylum seeker, asylum seekers, asylum...\n",
       "country_of_asylum                  [countries of asylum, country of asylum, count...\n",
       "forced_displacement                [displaced people, displaced person, displaced...\n",
       "ocha                                                  [ocha, ochas, unocha, unochas]\n",
       "repatriate                         [repatriate, repatriated, repatriateds, repatr...\n",
       "exile                                                                [exile, exiles]\n",
       "resettlement_area                  [resettled, resettleds, resettlement, resettle...\n",
       "unhcr                              [High Commission for Refugees, High Commission...\n",
       "dtype: object"
      ]
     },
     "metadata": {},
     "execution_count": 74
    }
   ],
   "source": [
    "tags_mapping"
   ]
  },
  {
   "cell_type": "code",
   "execution_count": 75,
   "metadata": {},
   "outputs": [
    {
     "output_type": "execute_result",
     "data": {
      "text/plain": [
       "['High Commission for Refugees',\n",
       " 'High Commissions for Refugees',\n",
       " 'United Nations High Commission for Refugees',\n",
       " 'United Nations High Commissions for Refugees',\n",
       " 'unhcr',\n",
       " 'unhcrs']"
      ]
     },
     "metadata": {},
     "execution_count": 75
    }
   ],
   "source": [
    "tags_mapping[\"unhcr\"]"
   ]
  },
  {
   "cell_type": "code",
   "execution_count": 31,
   "metadata": {},
   "outputs": [],
   "source": [
    "jdc_tags_processor.add_keywords_from_dict(tags_mapping)"
   ]
  },
  {
   "cell_type": "code",
   "execution_count": 49,
   "metadata": {},
   "outputs": [],
   "source": [
    "with open(dir_manager.get_data_dir(\"corpus\", \"WB\", \"TXT_ORIG\", \"wb_731917.txt\"), \"rb\") as open_file:\n",
    "    txt = open_file.read().decode(\"utf-8\", errors=\"ignore\")"
   ]
  },
  {
   "cell_type": "code",
   "execution_count": 63,
   "metadata": {},
   "outputs": [],
   "source": [
    "txt += \" the refugee, asylum seeker, internally displaced population  and stateless people are suffering in exile with other refugee, asylum seeker, and stateless people and climate refugees under the high Commission for refugees.\""
   ]
  },
  {
   "cell_type": "code",
   "execution_count": 64,
   "metadata": {},
   "outputs": [
    {
     "output_type": "execute_result",
     "data": {
      "text/plain": [
       "['refugee',\n",
       " 'asylum_seeker',\n",
       " 'stateless',\n",
       " 'exile',\n",
       " 'refugee',\n",
       " 'asylum_seeker',\n",
       " 'stateless',\n",
       " 'climate_refugee',\n",
       " 'refugee',\n",
       " 'asylum_seeker',\n",
       " 'stateless',\n",
       " 'exile',\n",
       " 'refugee',\n",
       " 'asylum_seeker',\n",
       " 'stateless',\n",
       " 'refugee',\n",
       " 'asylum_seeker',\n",
       " 'internally_displaced_population',\n",
       " 'stateless',\n",
       " 'exile',\n",
       " 'refugee',\n",
       " 'asylum_seeker',\n",
       " 'stateless',\n",
       " 'refugee',\n",
       " 'asylum_seeker',\n",
       " 'internally_displaced_population',\n",
       " 'stateless',\n",
       " 'exile',\n",
       " 'refugee',\n",
       " 'asylum_seeker',\n",
       " 'stateless',\n",
       " 'unhcr',\n",
       " 'refugee',\n",
       " 'asylum_seeker',\n",
       " 'internally_displaced_population',\n",
       " 'stateless',\n",
       " 'exile',\n",
       " 'refugee',\n",
       " 'asylum_seeker',\n",
       " 'stateless',\n",
       " 'unhcr']"
      ]
     },
     "metadata": {},
     "execution_count": 64
    }
   ],
   "source": [
    "jdc_tags_processor.extract_keywords(txt)"
   ]
  },
  {
   "cell_type": "code",
   "execution_count": 66,
   "metadata": {},
   "outputs": [
    {
     "output_type": "execute_result",
     "data": {
      "text/plain": [
       "['Dagahaley (Kenya)',\n",
       " 'Hagadera (Kenya)',\n",
       " 'Ifo (Kenya)',\n",
       " 'Kakuma (Kenya)',\n",
       " 'Katumba (Tanzania)',\n",
       " \"Kutupalong (Ukhia, Cox's Bazar, Bangladesh)\",\n",
       " 'Mishamo (Tanzania)',\n",
       " 'Panian (Pakistan)',\n",
       " 'Pugnido (Ethiopia)',\n",
       " 'Yida (South Sudan)',\n",
       " 'Zaatari (Jordan)']"
      ]
     },
     "metadata": {},
     "execution_count": 66
    }
   ],
   "source": [
    "tags_mapping.pop(\"Kakuma (Kenya)\")"
   ]
  },
  {
   "cell_type": "code",
   "execution_count": 67,
   "metadata": {},
   "outputs": [
    {
     "output_type": "execute_result",
     "data": {
      "text/plain": [
       "tag_keyword\n",
       "population_of_concern              [PoC, population of concern, population_of_con...\n",
       "refugee                                                                    [refugee]\n",
       "internally_displaced_population    [idp, internally displaced, internally displac...\n",
       "stateless                                                                [stateless]\n",
       "climate_refugee                                   [climate refugee, climate_refugee]\n",
       "returnee                                                                  [returnee]\n",
       "refugee_camp                                            [refugee camp, refugee_camp]\n",
       "host_community                                      [host community, host_community]\n",
       "asylum_seeker                                 [asylum, asylum seeker, asylum_seeker]\n",
       "country_of_asylum                             [country of asylum, country_of_asylum]\n",
       "forced_displacement                [displaced person, displaced population, displ...\n",
       "ocha                                                                  [ocha, unocha]\n",
       "repatriate                                   [repatriate, repatriated, repatriation]\n",
       "exile                                                                        [exile]\n",
       "resettlement_area                  [resettled, resettlement, resettlement area, r...\n",
       "unhcr                              [High Commission for Refugees, United Nations ...\n",
       "dtype: object"
      ]
     },
     "metadata": {},
     "execution_count": 67
    }
   ],
   "source": [
    "tags_mapping"
   ]
  },
  {
   "cell_type": "code",
   "execution_count": null,
   "metadata": {},
   "outputs": [],
   "source": []
  }
 ],
 "metadata": {
  "kernelspec": {
   "display_name": "wb_nlp",
   "language": "python",
   "name": "wb_nlp"
  },
  "language_info": {
   "codemirror_mode": {
    "name": "ipython",
    "version": 3
   },
   "file_extension": ".py",
   "mimetype": "text/x-python",
   "name": "python",
   "nbconvert_exporter": "python",
   "pygments_lexer": "ipython3",
   "version": "3.8.5"
  },
  "pycharm": {
   "stem_cell": {
    "cell_type": "raw",
    "metadata": {
     "collapsed": false
    },
    "source": []
   }
  }
 },
 "nbformat": 4,
 "nbformat_minor": 4
}