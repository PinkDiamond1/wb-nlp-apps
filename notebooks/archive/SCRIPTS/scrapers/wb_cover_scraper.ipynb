{
 "cells": [
  {
   "cell_type": "markdown",
   "metadata": {},
   "source": [
    "# World Bank Publication and Research Cover Page Snapshot"
   ]
  },
  {
   "cell_type": "code",
   "execution_count": 1,
   "metadata": {},
   "outputs": [],
   "source": [
    "%load_ext autotime"
   ]
  },
  {
   "cell_type": "code",
   "execution_count": 2,
   "metadata": {},
   "outputs": [
    {
     "name": "stdout",
     "output_type": "stream",
     "text": [
      "time: 90.8 ms\n"
     ]
    }
   ],
   "source": [
    "%%capture\n",
    "\n",
    "# get_corpus_path\n",
    "# get_txt_orig_path\n",
    "\n",
    "%run ../path_manager.ipynb"
   ]
  },
  {
   "cell_type": "code",
   "execution_count": 3,
   "metadata": {},
   "outputs": [
    {
     "name": "stdout",
     "output_type": "stream",
     "text": [
      "time: 316 ms\n"
     ]
    }
   ],
   "source": [
    "import requests\n",
    "import json\n",
    "import os\n",
    "import time\n",
    "import glob\n",
    "import pandas as pd\n",
    "import re\n",
    "from joblib import Parallel, delayed\n",
    "import pdf2image\n",
    "import PIL"
   ]
  },
  {
   "cell_type": "code",
   "execution_count": 4,
   "metadata": {},
   "outputs": [
    {
     "name": "stdout",
     "output_type": "stream",
     "text": [
      "time: 2.94 ms\n"
     ]
    }
   ],
   "source": [
    "class DocumentCover:\n",
    "    def __init__(self, doc_id, pdf_url, cover_dir, fixed_width=200, fixed_height=None):\n",
    "        self.doc_id = doc_id\n",
    "        self.pdf_url = pdf_url\n",
    "        self.cover_dir = cover_dir\n",
    "        self.fixed_width = fixed_width\n",
    "        self.fixed_height = fixed_height\n",
    "        \n",
    "        self.fname = os.path.join(self.cover_dir, f'{self.doc_id}.png')\n",
    "\n",
    "        self.orig_cover = None\n",
    "        self.cover = None\n",
    "        self.resized = None\n",
    "        \n",
    "    def get_content(self):\n",
    "        self.resized = False\n",
    "        res = requests.get(self.pdf_url)\n",
    "        \n",
    "        try:\n",
    "            pages = pdf2image.convert_from_bytes(res.content, size=(self.fixed_width, self.fixed_height), single_file=True)\n",
    "            self.resized = True\n",
    "        except:\n",
    "            pages = pdf2image.convert_from_bytes(res.content)\n",
    "            \n",
    "        self.orig_cover = pages[0]\n",
    "\n",
    "    def standardize_size(self):\n",
    "        # Not useful if `size` is set in pdf2image.convert_from_bytes\n",
    "        c = self.orig_cover\n",
    "        \n",
    "        if c is None:\n",
    "            self.get_content()\n",
    "            c = self.orig_cover\n",
    "            assert(c)\n",
    "\n",
    "        if not self.resized:\n",
    "            width = self.fixed_width\n",
    "            w0, h0 = c.size\n",
    "            c = c.resize((width, int(h0 * width / w0)), resample=PIL.Image.BICUBIC)\n",
    "            \n",
    "        self.cover = c\n",
    "        \n",
    "    def save(self):\n",
    "        if not os.path.isfile(self.fname):        \n",
    "            cover = self.cover\n",
    "\n",
    "            if cover is None:\n",
    "                self.standardize_size()\n",
    "                cover = self.cover\n",
    "\n",
    "            cover.save(self.fname)\n",
    "        \n",
    "        return self.doc_id\n",
    "    \n",
    "    def cleanup(self):\n",
    "        del(self.orig_cover)\n",
    "        del(self.cover)\n",
    "        \n",
    "        self.orig_cover = None\n",
    "        self.cover = None"
   ]
  },
  {
   "cell_type": "code",
   "execution_count": 5,
   "metadata": {},
   "outputs": [
    {
     "name": "stdout",
     "output_type": "stream",
     "text": [
      "time: 588 µs\n"
     ]
    }
   ],
   "source": [
    "COVER_DIR = os.path.join(get_corpus_path('WB'), 'cover')\n",
    "if not os.path.isdir(COVER_DIR):\n",
    "    os.makedirs(COVER_DIR)"
   ]
  },
  {
   "cell_type": "code",
   "execution_count": 6,
   "metadata": {},
   "outputs": [
    {
     "data": {
      "text/plain": [
       "'/home/wb536061/wbes2474/NLP/CORPUS/WB/cover'"
      ]
     },
     "execution_count": 6,
     "metadata": {},
     "output_type": "execute_result"
    },
    {
     "name": "stdout",
     "output_type": "stream",
     "text": [
      "time: 5.54 ms\n"
     ]
    }
   ],
   "source": [
    "COVER_DIR"
   ]
  },
  {
   "cell_type": "code",
   "execution_count": 7,
   "metadata": {},
   "outputs": [
    {
     "name": "stdout",
     "output_type": "stream",
     "text": [
      "time: 207 µs\n"
     ]
    }
   ],
   "source": [
    "# !ls -l /R/NLP/CORPUS/WB/cover | wc -l"
   ]
  },
  {
   "cell_type": "code",
   "execution_count": 8,
   "metadata": {},
   "outputs": [
    {
     "name": "stdout",
     "output_type": "stream",
     "text": [
      "time: 2.65 s\n"
     ]
    }
   ],
   "source": [
    "# df = pd.read_csv('../../Subtopic Prediction/data/wb_metadata.csv')\n",
    "df = pd.read_csv(os.path.join(get_corpus_path('WB'), 'wb_metadata.csv'))\n",
    "pr = df[df.major_doc_type == 'Publications & Research'][['id', 'major_doc_type', 'url_pdf']]\n",
    "\n",
    "pr.dropna(subset=['url_pdf'], inplace=True)"
   ]
  },
  {
   "cell_type": "code",
   "execution_count": 9,
   "metadata": {},
   "outputs": [
    {
     "data": {
      "text/html": [
       "<div>\n",
       "<style scoped>\n",
       "    .dataframe tbody tr th:only-of-type {\n",
       "        vertical-align: middle;\n",
       "    }\n",
       "\n",
       "    .dataframe tbody tr th {\n",
       "        vertical-align: top;\n",
       "    }\n",
       "\n",
       "    .dataframe thead th {\n",
       "        text-align: right;\n",
       "    }\n",
       "</style>\n",
       "<table border=\"1\" class=\"dataframe\">\n",
       "  <thead>\n",
       "    <tr style=\"text-align: right;\">\n",
       "      <th></th>\n",
       "      <th>id</th>\n",
       "      <th>major_doc_type</th>\n",
       "      <th>url_pdf</th>\n",
       "    </tr>\n",
       "  </thead>\n",
       "  <tbody>\n",
       "    <tr>\n",
       "      <td>36</td>\n",
       "      <td>wb_19774480</td>\n",
       "      <td>Publications &amp; Research</td>\n",
       "      <td>http://documents.worldbank.org/curated/en/3919...</td>\n",
       "    </tr>\n",
       "    <tr>\n",
       "      <td>42</td>\n",
       "      <td>wb_19623158</td>\n",
       "      <td>Publications &amp; Research</td>\n",
       "      <td>http://documents.worldbank.org/curated/en/9647...</td>\n",
       "    </tr>\n",
       "    <tr>\n",
       "      <td>62</td>\n",
       "      <td>wb_31405767</td>\n",
       "      <td>Publications &amp; Research</td>\n",
       "      <td>http://documents.worldbank.org/curated/en/5452...</td>\n",
       "    </tr>\n",
       "    <tr>\n",
       "      <td>63</td>\n",
       "      <td>wb_19583798</td>\n",
       "      <td>Publications &amp; Research</td>\n",
       "      <td>http://documents.worldbank.org/curated/en/1980...</td>\n",
       "    </tr>\n",
       "    <tr>\n",
       "      <td>64</td>\n",
       "      <td>wb_19550113</td>\n",
       "      <td>Publications &amp; Research</td>\n",
       "      <td>http://documents.worldbank.org/curated/en/2009...</td>\n",
       "    </tr>\n",
       "  </tbody>\n",
       "</table>\n",
       "</div>"
      ],
      "text/plain": [
       "             id           major_doc_type  \\\n",
       "36  wb_19774480  Publications & Research   \n",
       "42  wb_19623158  Publications & Research   \n",
       "62  wb_31405767  Publications & Research   \n",
       "63  wb_19583798  Publications & Research   \n",
       "64  wb_19550113  Publications & Research   \n",
       "\n",
       "                                              url_pdf  \n",
       "36  http://documents.worldbank.org/curated/en/3919...  \n",
       "42  http://documents.worldbank.org/curated/en/9647...  \n",
       "62  http://documents.worldbank.org/curated/en/5452...  \n",
       "63  http://documents.worldbank.org/curated/en/1980...  \n",
       "64  http://documents.worldbank.org/curated/en/2009...  "
      ]
     },
     "execution_count": 9,
     "metadata": {},
     "output_type": "execute_result"
    },
    {
     "name": "stdout",
     "output_type": "stream",
     "text": [
      "time: 7.21 ms\n"
     ]
    }
   ],
   "source": [
    "pr.head()"
   ]
  },
  {
   "cell_type": "code",
   "execution_count": 10,
   "metadata": {},
   "outputs": [
    {
     "data": {
      "text/plain": [
       "(53497, 3)"
      ]
     },
     "execution_count": 10,
     "metadata": {},
     "output_type": "execute_result"
    },
    {
     "name": "stdout",
     "output_type": "stream",
     "text": [
      "time: 1.45 ms\n"
     ]
    }
   ],
   "source": [
    "pr.shape"
   ]
  },
  {
   "cell_type": "code",
   "execution_count": 11,
   "metadata": {},
   "outputs": [
    {
     "data": {
      "image/png": "[encoded data removed]",
      "text/plain": [
       "<PIL.PpmImagePlugin.PpmImageFile image mode=RGB size=200x259 at 0x7FF03B949E50>"
      ]
     },
     "execution_count": 11,
     "metadata": {},
     "output_type": "execute_result"
    },
    {
     "name": "stdout",
     "output_type": "stream",
     "text": [
      "time: 805 ms\n"
     ]
    }
   ],
   "source": [
    "row = pr.iloc[0]\n",
    "dc = DocumentCover(row['id'], row['url_pdf'], COVER_DIR)\n",
    "dc.standardize_size()\n",
    "dc.cover"
   ]
  },
  {
   "cell_type": "code",
   "execution_count": null,
   "metadata": {},
   "outputs": [],
   "source": [
    "def parallel_process(row):\n",
    "    ret = dict(status='ok', doc_id=row['id'])\n",
    "    try:\n",
    "        dc = DocumentCover(row['id'], row['url_pdf'], COVER_DIR)\n",
    "        r = dc.save()\n",
    "        dc.cleanup()\n",
    "    except Exception as e:\n",
    "        ret['status'] = e.__str__()\n",
    "        \n",
    "    return ret"
   ]
  },
  {
   "cell_type": "code",
   "execution_count": null,
   "metadata": {},
   "outputs": [],
   "source": [
    "NUM_JOBS = 24\n",
    "\n",
    "pres = Parallel(n_jobs=NUM_JOBS)(delayed(parallel_process)(row) for _, row in pr.iterrows())"
   ]
  },
  {
   "cell_type": "code",
   "execution_count": null,
   "metadata": {},
   "outputs": [],
   "source": []
  }
 ],
 "metadata": {
  "kernelspec": {
   "display_name": "Python 3",
   "language": "python",
   "name": "python3"
  },
  "language_info": {
   "codemirror_mode": {
    "name": "ipython",
    "version": 3
   },
   "file_extension": ".py",
   "mimetype": "text/x-python",
   "name": "python",
   "nbconvert_exporter": "python",
   "pygments_lexer": "ipython3",
   "version": "3.8.3-final"
  }
 },
 "nbformat": 4,
 "nbformat_minor": 4
}