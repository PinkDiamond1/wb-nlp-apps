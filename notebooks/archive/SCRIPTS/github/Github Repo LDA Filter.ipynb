{
 "cells": [
  {
   "cell_type": "code",
   "execution_count": 1,
   "metadata": {},
   "outputs": [],
   "source": [
    "%load_ext autotime"
   ]
  },
  {
   "cell_type": "code",
   "execution_count": 2,
   "metadata": {},
   "outputs": [
    {
     "name": "stdout",
     "output_type": "stream",
     "text": [
      "time: 25 ms\n"
     ]
    }
   ],
   "source": [
    "import pymongo\n",
    "\n",
    "mongo = pymongo.MongoClient(port=27018)\n",
    "db = mongo['nlp']\n",
    "collection = db['github-bq']"
   ]
  },
  {
   "cell_type": "code",
   "execution_count": 3,
   "metadata": {},
   "outputs": [
    {
     "name": "stdout",
     "output_type": "stream",
     "text": [
      "time: 370 ms\n"
     ]
    }
   ],
   "source": [
    "import re\n",
    "import pandas as pd"
   ]
  },
  {
   "cell_type": "code",
   "execution_count": 4,
   "metadata": {},
   "outputs": [
    {
     "name": "stdout",
     "output_type": "stream",
     "text": [
      "time: 2.11 s\n"
     ]
    }
   ],
   "source": [
    "import gensim\n",
    "from gensim.corpora import Dictionary\n",
    "from gensim.models.ldamodel import LdaModel"
   ]
  },
  {
   "cell_type": "code",
   "execution_count": 5,
   "metadata": {},
   "outputs": [
    {
     "name": "stdout",
     "output_type": "stream",
     "text": [
      "time: 97.3 ms\n"
     ]
    }
   ],
   "source": [
    "lda = LdaModel.load('../../MODELS.staging/LDA/WB-ALL_100/data/WB_lda_model_ALL_100.mallet.gensim.lda')"
   ]
  },
  {
   "cell_type": "code",
   "execution_count": null,
   "metadata": {},
   "outputs": [],
   "source": [
    "dictionary = Dictionary()\n",
    "dictionary.id2token = lda.id2word\n",
    "dictionary.token2id = {j: i for i, j in dictionary.id2token.items()}"
   ]
  },
  {
   "cell_type": "code",
   "execution_count": 36,
   "metadata": {},
   "outputs": [
    {
     "name": "stdout",
     "output_type": "stream",
     "text": [
      "Keyword: poverty\tTopic: 60\n",
      "Keyword: poverty\tTopic: 94\n",
      "Keyword: climate_change\tTopic: 16\n",
      "Keyword: refugee\tTopic: 44\n",
      "Keyword: agriculture\tTopic: 19\n",
      "CPU times: user 10.2 s, sys: 85.5 ms, total: 10.3 s\n",
      "Wall time: 12.3 s\n",
      "time: 12.3 s\n"
     ]
    }
   ],
   "source": [
    "%%time\n",
    "# keywords = ['economic', 'nutrition', 'income inequality', 'agriculture', 'climate change', 'poverty', 'fragility', 'refugee']\n",
    "keywords = ['poverty', 'climate change', 'refugee', 'fragility', 'agriculture']\n",
    "payloads = []\n",
    "keyword_topic = {}\n",
    "\n",
    "for kw in keywords:\n",
    "    for data in collection.find({'$text': {'$search': f'\"{kw}\"'}, 'readme': {'$exists': True}}):\n",
    "        payloads.append(data['readme'])\n",
    "        \n",
    "    for i in range(lda.num_topics):\n",
    "        k = kw.replace(' ', '_')\n",
    "        if k in lda.print_topic(i):\n",
    "            print(f'Keyword: {k}\\tTopic: {i}')\n",
    "            keyword_topic.setdefault(k, []).append(i)"
   ]
  },
  {
   "cell_type": "code",
   "execution_count": 39,
   "metadata": {},
   "outputs": [
    {
     "name": "stdout",
     "output_type": "stream",
     "text": [
      "time: 547 µs\n"
     ]
    }
   ],
   "source": [
    "topic_targets = [i for v in keyword_topic.values() for i in v]"
   ]
  },
  {
   "cell_type": "code",
   "execution_count": 40,
   "metadata": {},
   "outputs": [
    {
     "data": {
      "text/plain": [
       "423"
      ]
     },
     "execution_count": 40,
     "metadata": {},
     "output_type": "execute_result"
    },
    {
     "name": "stdout",
     "output_type": "stream",
     "text": [
      "time: 1.89 ms\n"
     ]
    }
   ],
   "source": [
    "len(payloads)"
   ]
  },
  {
   "cell_type": "code",
   "execution_count": 47,
   "metadata": {},
   "outputs": [
    {
     "name": "stdout",
     "output_type": "stream",
     "text": [
      "time: 6.83 s\n"
     ]
    }
   ],
   "source": [
    "relevant_payloads = []\n",
    "\n",
    "for payload in payloads:\n",
    "    bow = dictionary.doc2bow(re.findall('[a-z]+', payload.lower()))\n",
    "\n",
    "    d = pd.DataFrame(lda[bow], columns=['topic', 'score'])\n",
    "    d = d.sort_values('score', ascending=False).head(10)\n",
    "    if set(d['topic']).intersection(topic_targets):\n",
    "        relevant_payloads.append(payload)"
   ]
  },
  {
   "cell_type": "code",
   "execution_count": 48,
   "metadata": {},
   "outputs": [
    {
     "data": {
      "text/plain": [
       "244"
      ]
     },
     "execution_count": 48,
     "metadata": {},
     "output_type": "execute_result"
    },
    {
     "name": "stdout",
     "output_type": "stream",
     "text": [
      "time: 1.62 ms\n"
     ]
    }
   ],
   "source": [
    "len(relevant_payloads)"
   ]
  },
  {
   "cell_type": "code",
   "execution_count": 74,
   "metadata": {},
   "outputs": [
    {
     "name": "stdout",
     "output_type": "stream",
     "text": [
      "# Synopsis\n",
      "CO-NCRN is the University of Colorado at Boulder branch of the [NSF-Census Research Network](https://www.ncrn.info/node/university-colorado-boulder-university-tennessee). The ACS Regionalization code is one project to emerge from our work, providing an algorithm that takes in small-area American Community Survey estimates and produces optimized regions that reduce high levels of uncertainty in the data. The results are maps and tables with new geographies that maintain granularity but improve data quality, thereby enhancing researchers' ability to ensure their results are not comprised by high uncertainty.\n",
      "\n",
      "Please visit the main page of this repository, [co-ncrn.github.io](co-ncrn.github.io) to acess information about this project and obtain regionalization results for a selection of input data applied to all metropolitan statistical areas in the United States. To use your own input variables and geographies, you can access the regionalization algorithm at [this repository](https://github.com/geoss/ACS_Regionalization).\n",
      "\n",
      "# Results \n",
      "\n",
      "Regionalization results are provided for four scenarios, housing, poverty, transportation, and a general scenario, and applied to 388 Metropolitan Statistical Areas as defined in 2013. The input data derives from the 2008-2012 American Community Survey.\n",
      "\n",
      "Each result can be downloaded from the website as a zip file containing:\n",
      "- A crosswalk between input tracts and output regions\n",
      "- Input values for original and derived ACS variables for original tracts and computed regions\n",
      "- Output values for the original and derived ACS variables for the computed regions\n",
      "- Shapefiles for the input tracts and output regions\n",
      "- A weights matrix for the output regions\n",
      "- A data dictionary\n",
      "- A metadata file\n",
      "\n",
      "GeoJSON maps of the input tracts and output regions with associated data are displayed and available for download as well.\n",
      "\n",
      "time: 669 µs\n"
     ]
    }
   ],
   "source": [
    "print(relevant_payloads[25])"
   ]
  },
  {
   "cell_type": "code",
   "execution_count": null,
   "metadata": {},
   "outputs": [],
   "source": []
  },
  {
   "cell_type": "code",
   "execution_count": 27,
   "metadata": {},
   "outputs": [
    {
     "name": "stdout",
     "output_type": "stream",
     "text": [
      "time: 1.02 ms\n"
     ]
    }
   ],
   "source": [
    "p = 3\n",
    "bow = dictionary.doc2bow(re.findall('[a-z]+', payloads[p].lower()))"
   ]
  },
  {
   "cell_type": "code",
   "execution_count": 46,
   "metadata": {},
   "outputs": [
    {
     "data": {
      "text/plain": [
       "set()"
      ]
     },
     "execution_count": 46,
     "metadata": {},
     "output_type": "execute_result"
    },
    {
     "name": "stdout",
     "output_type": "stream",
     "text": [
      "time: 2.34 ms\n"
     ]
    }
   ],
   "source": []
  },
  {
   "cell_type": "code",
   "execution_count": 29,
   "metadata": {},
   "outputs": [
    {
     "data": {
      "text/plain": [
       "'0.070*\"datum\" + 0.035*\"survey\" + 0.023*\"report\" + 0.020*\"information\" + 0.016*\"table\" + 0.016*\"indicator\" + 0.015*\"number\" + 0.013*\"source\" + 0.013*\"figure\" + 0.013*\"analysis\"'"
      ]
     },
     "execution_count": 29,
     "metadata": {},
     "output_type": "execute_result"
    },
    {
     "name": "stdout",
     "output_type": "stream",
     "text": [
      "time: 24.5 ms\n"
     ]
    }
   ],
   "source": [
    "lda.print_topic(35)"
   ]
  },
  {
   "cell_type": "code",
   "execution_count": 30,
   "metadata": {},
   "outputs": [
    {
     "name": "stdout",
     "output_type": "stream",
     "text": [
      "# Climate change and conflict\n",
      "## Isaac Menninga, Nov. 2015, Quest University Canada\n",
      "\n",
      "## Usage: \n",
      "bash shell.sh\n",
      "Script file is contained in the bin directory, outputs are saved in results directory.\n",
      "\n",
      "##Ten Minute Plan\n",
      "\n",
      "Climate change has many effects on natural systems. Rainfall, humidity, temperature and wind patterns will drastically change into the future. Each of these can affect a variety of things such as crop yield, human health, and infrastructure integrity. These effects will be felt soonest, and in the most extremes in developing countries, where people do not have access to the same infrastructure or technology for crisis response. As the effects of climate change continue to escalate in severity, billions of people may be displaced or unable to cope with the severe changes. The goal of the study is to determine if there is a relationship between climate change and the occurrence of conflict in developing countries. \n",
      "\n",
      "The code analyzes data about climate change and conflict in 30 different countries in Africa. Five main variables will be assessed, for each country, to determine their interaction with the occurrence of conflict. These variables are:\n",
      "\n",
      "Mean temperature\n",
      "Mean monthly precipitation\n",
      "The frequency of exceptionally hot days\n",
      "The frequency of exceptionally cold days\n",
      "The proportion of rain that falls during heavy rainfall events\n",
      "\n",
      "Each of these will be compared with the frequency of conflict events in each country. For each comparison, standard statistical methods will be used to determine if the two are correlated. \n",
      "\n",
      "The flow of the program is outlined below.\n",
      "\n",
      "Data formatting and loading - loads climate data for each country, and the data about conflicts for each of those countries. The format for the data is pandas data frame. \n",
      "\n",
      "Data analysis - for each climate variable, a simple regression and correlation analysis will be performed. This data will not be visualized at this stage, but instead will be compared between countries to see if the relationship between variables is similar in different countries. One set of tests will also be performed on the combined data from all the countries involved.\n",
      "\n",
      "Data visualization - the results from above will be plotted. Most plots will be simple scatter plots, with lines of best fit overlaid. Other data will be visualized to show the variance in the data, and the strength of the correlation, if it exists. Plots will be saved in pdf format.\n",
      "\n",
      "time: 634 µs\n"
     ]
    }
   ],
   "source": [
    "print(payloads[p])"
   ]
  },
  {
   "cell_type": "code",
   "execution_count": 36,
   "metadata": {},
   "outputs": [
    {
     "data": {
      "text/plain": [
       "['refugee',\n",
       " 'data',\n",
       " 'analysis',\n",
       " 'repository',\n",
       " 'data',\n",
       " 'analysis',\n",
       " 'supporting',\n",
       " 'news',\n",
       " 'article',\n",
       " 'come',\n",
       " 'go',\n",
       " 'in',\n",
       " 'com',\n",
       " 'come',\n",
       " 'go',\n",
       " 'in',\n",
       " 'published',\n",
       " 'data',\n",
       " 'refugee',\n",
       " 'data',\n",
       " 'department',\n",
       " 'state',\n",
       " 'refugee',\n",
       " 'processing',\n",
       " 'center',\n",
       " 'org',\n",
       " 'data',\n",
       " 'portal',\n",
       " 'org',\n",
       " 'default',\n",
       " 'specifically',\n",
       " 'destination',\n",
       " 'nationality',\n",
       " 'nationality',\n",
       " 'religion',\n",
       " 'generated',\n",
       " 'raw',\n",
       " 'can',\n",
       " 'in',\n",
       " 'repository',\n",
       " 'data',\n",
       " 'directory',\n",
       " 'data',\n",
       " 'calculate',\n",
       " 'state',\n",
       " 'analysis',\n",
       " 'census',\n",
       " 'bureau',\n",
       " 'population',\n",
       " 'census',\n",
       " 'gov',\n",
       " 'data',\n",
       " 'state',\n",
       " 'index',\n",
       " 'analysis',\n",
       " 'code',\n",
       " 'analysis',\n",
       " 'written',\n",
       " 'in',\n",
       " 'python',\n",
       " 'can',\n",
       " 'refugee',\n",
       " 'analysis',\n",
       " 'run',\n",
       " 'analysis',\n",
       " 'you',\n",
       " 'need',\n",
       " 'install',\n",
       " 'python',\n",
       " 'listed',\n",
       " 'in',\n",
       " 'alternatively',\n",
       " 'you',\n",
       " 'can',\n",
       " 'run',\n",
       " 'analysis',\n",
       " 'in',\n",
       " 'browser',\n",
       " 'binder',\n",
       " 'org',\n",
       " 'in',\n",
       " 'united',\n",
       " 'installation',\n",
       " 'required',\n",
       " 'feedback',\n",
       " 'email',\n",
       " 'author',\n",
       " 'singer',\n",
       " 'vine',\n",
       " 'singer',\n",
       " 'vine',\n",
       " 'com']"
      ]
     },
     "execution_count": 36,
     "metadata": {},
     "output_type": "execute_result"
    },
    {
     "name": "stdout",
     "output_type": "stream",
     "text": [
      "time: 2.65 ms\n"
     ]
    }
   ],
   "source": [
    "# [i for i in re.findall('[a-z]+', payloads[4].lower()) if i in dictionary.token2id]"
   ]
  },
  {
   "cell_type": "code",
   "execution_count": null,
   "metadata": {},
   "outputs": [],
   "source": []
  }
 ],
 "metadata": {
  "kernelspec": {
   "display_name": "Python 3",
   "language": "python",
   "name": "python3"
  },
  "language_info": {
   "codemirror_mode": {
    "name": "ipython",
    "version": 3
   },
   "file_extension": ".py",
   "mimetype": "text/x-python",
   "name": "python",
   "nbconvert_exporter": "python",
   "pygments_lexer": "ipython3",
   "version": "3.8.3-final"
  }
 },
 "nbformat": 4,
 "nbformat_minor": 4
}