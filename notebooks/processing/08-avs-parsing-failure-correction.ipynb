{
 "cells": [
  {
   "cell_type": "markdown",
   "metadata": {},
   "source": [
    "# Document deduplication\n",
    "\n",
    "Perform a basic deduplication of documents using cosine similarity.\n",
    "\n",
    "\n",
    "Use **scipy=1.3.1** to avoid library load error `(Library not loaded: @rpath/libopenblas.dylib)`."
   ]
  },
  {
   "cell_type": "code",
   "execution_count": 8,
   "metadata": {},
   "outputs": [],
   "source": [
    "from gensim.utils import simple_preprocess\n",
    "from gensim.models.phrases import Phrases, Phraser\n",
    "from gensim import corpora\n",
    "from gensim.similarities import Similarity\n",
    "import glob\n",
    "\n",
    "import hashlib"
   ]
  },
  {
   "cell_type": "code",
   "execution_count": 240,
   "metadata": {},
   "outputs": [
    {
     "output_type": "execute_result",
     "data": {
      "text/plain": "5858237244395855732"
     },
     "metadata": {},
     "execution_count": 240
    }
   ],
   "source": [
    "hash('aivin')"
   ]
  },
  {
   "cell_type": "code",
   "execution_count": null,
   "metadata": {},
   "outputs": [],
   "source": [
    "clean_doc_cache = {}\n",
    "\n",
    "def cleaned_doc_generator(dir, id_pattern):\n",
    "    '''A generator that loads files from a directory and returns a cleaned document.\n",
    "    This also caches the cleaned data.\n",
    "    '''\n",
    "\n",
    "    for fname in glob.glob(os.path.join(dir, '*.txt')):\n",
    "        file_hash = hash(fname)\n",
    "\n",
    "        if file_hash not in clean_doc_cache:\n",
    "            with open(fname, 'rb') as fl:\n",
    "                doc = fl.read().decode('utf-8', errors='ignore')\n",
    "                text = simple_preprocess(doc, deacc=True)\n",
    "                clean_doc_cache[file_hash] = text\n",
    "\n",
    "        yield clean_doc_cache[file_hash]"
   ]
  },
  {
   "cell_type": "code",
   "execution_count": 5,
   "metadata": {},
   "outputs": [],
   "source": [
    "\n",
    "cache = {}\n",
    "\n",
    "def sample_generator(lst):\n",
    "    for ix, l in enumerate(lst):\n",
    "        if l not in cache:\n",
    "            cache[l] = ix\n",
    "        yield cache[l]\n"
   ]
  },
  {
   "cell_type": "code",
   "execution_count": 6,
   "metadata": {},
   "outputs": [],
   "source": [
    "sg = sample_generator(range(100, 0, -1))\n",
    "for r in sg:\n",
    "    pass"
   ]
  },
  {
   "cell_type": "code",
   "execution_count": 8,
   "metadata": {},
   "outputs": [],
   "source": [
    "bigram = Phrases(texts, min_count=1)\n",
    "bigram_phraser = Phraser(bigram)"
   ]
  },
  {
   "cell_type": "code",
   "execution_count": 2,
   "metadata": {},
   "outputs": [
    {
     "output_type": "stream",
     "text": "\u001b[0;31mSignature:\u001b[0m \u001b[0mphrase\u001b[0m\u001b[0;34m.\u001b[0m\u001b[0mget_phrases\u001b[0m\u001b[0;34m(\u001b[0m\u001b[0mdoc\u001b[0m\u001b[0;34m:\u001b[0m \u001b[0mspacy\u001b[0m\u001b[0;34m.\u001b[0m\u001b[0mtokens\u001b[0m\u001b[0;34m.\u001b[0m\u001b[0mdoc\u001b[0m\u001b[0;34m.\u001b[0m\u001b[0mDoc\u001b[0m\u001b[0;34m,\u001b[0m \u001b[0mmin_token_length\u001b[0m\u001b[0;34m:\u001b[0m \u001b[0mint\u001b[0m \u001b[0;34m=\u001b[0m \u001b[0;36m3\u001b[0m\u001b[0;34m)\u001b[0m\u001b[0;34m\u001b[0m\u001b[0;34m\u001b[0m\u001b[0m\n\u001b[0;31mDocstring:\u001b[0m <no docstring>\n\u001b[0;31mFile:\u001b[0m      ~/WBG/wb_nlp/src/wb_nlp/extraction/phrase.py\n\u001b[0;31mType:\u001b[0m      function\n"
    }
   ],
   "source": [
    "phrase.get_phrases?"
   ]
  },
  {
   "cell_type": "code",
   "execution_count": 7,
   "metadata": {},
   "outputs": [],
   "source": [
    "nlp = spacy.load('en_core_web_sm')"
   ]
  },
  {
   "cell_type": "code",
   "execution_count": 9,
   "metadata": {},
   "outputs": [],
   "source": [
    "txt_path = dir_manager.get_path_from_root('notebooks/archive/SCRIPTS/acronyms/imf_00ae75cce82e5c915d5bead7a7bb2165e9ef215a.txt')\n",
    "\n",
    "with open(txt_path) as fl:\n",
    "    text = fl.read()"
   ]
  },
  {
   "cell_type": "code",
   "execution_count": 17,
   "metadata": {},
   "outputs": [],
   "source": [
    "e = phrase.get_phrases(nlp(re.sub('\\s+', ' ', text[:20000])))"
   ]
  },
  {
   "cell_type": "code",
   "execution_count": 18,
   "metadata": {},
   "outputs": [
    {
     "output_type": "execute_result",
     "data": {
      "text/plain": "['second_review',\n 'year_arrangement',\n 'performance_criterion',\n 'staff_report',\n 'staff_team',\n 'economic_development',\n 'information_available',\n 'staff_report',\n 'staff_report',\n 'staff_team',\n 'staff_report',\n 'staff_report',\n 'other_document',\n 'market_sensitive_information',\n 'publication_policy',\n 'reader_comment',\n 'monetary_fund',\n 'other_department',\n 'second_review',\n 'mission_team',\n 'other_senior_government_official',\n 'donor_representative',\n 'amount_equivalent',\n 'first_review',\n 'time_director',\n 'additional_resource',\n 'food_relief_program',\n 'second_review',\n 'debt_relief',\n 'debt_relief',\n 'quantitative_performance_criterion',\n 'structural_performance_criterion',\n 'recent_development',\n 'exchange_rate',\n 'external_tariff',\n 'other_member',\n 'exchange_rate_policy',\n 'regional_level',\n 'proposed_schedule',\n 'common_indicator',\n 'executive_summary',\n 'severe_drought',\n 'strong_recovery',\n 'agriculture_sector',\n 'macroeconomic_performance',\n 'real_growth',\n 'record_agriculture_harvest',\n 'food_price',\n 'inflationary_pressure',\n 'end_year',\n 'food_insecurity',\n 'serious_concern',\n 'food_shortage_due',\n 'high_level',\n 'fiscal_target',\n 'high_revenue',\n 'food_security',\n 'limited_time_available',\n 'year_end',\n 'external_budget_support',\n 'structural_measure',\n 'performance_criterion',\n 'related_measure',\n 'taxpayer_audits',\n 'performance_criterion',\n 'domestic_pricing_mechanism',\n 'petroleum_product',\n 'retail_fuel_price',\n 'margin_payment',\n 'petroleum_company',\n 'domestic_price',\n 'volatile_world_market',\n 'macroeconomic_framework',\n 'food_security_need',\n 'priority_investment_project',\n 'domestic_petroleum_pricing_policy',\n 'real_growth',\n 'agricultural_output_return',\n 'end_period_basis',\n 'recent_decline',\n 'food_price',\n 'food_security',\n 'additional_donor_pledge',\n 'budgetary_resource',\n 'ment_project',\n 'food_security',\n 'medium_term',\n 'additional_resource',\n 'poverty_reduction_strategy_paper',\n 'domestic_resource',\n 'fiscal_program',\n 'food_security_need',\n 'fiscal_deficit',\n 'original_program',\n 'high_spending',\n 'food_security',\n 'high_financing_requirement',\n 'domestic_financing',\n 'unspent_resource',\n 'debt_relief',\n 'new_measure',\n 'fiscal_revenue',\n 'precise_policy',\n 'domestic_petroleum_pricing',\n 'structural_performance_criterion',\n 'timely_implementation',\n 'real_gdp',\n 'annual_percentage_change',\n 'right_scale',\n 'left_scale',\n 'metric_tonne',\n 'cereal_price_index',\n 'right_scale',\n 'inf_lation',\n 'serious_social',\n 'economic_challenge',\n 'combined_effect',\n 'locust_infestation',\n 'food_crisis',\n 'fuel_price',\n 'household_income',\n 'poor_socio_economic_condition',\n 'government_attempt',\n 'vat_exemption',\n 'key_food_item',\n 'widespread_social_unrest',\n 'avian_flu',\n 'fourth_quarter',\n 'cereal_harvest',\n 'cereal_price',\n 'pre_drought_level',\n 'overall_inflationary_pressure',\n 'external_current_account_deficit',\n 'export_receipt',\n 'high_uranium',\n 'gold_price',\n 'high_import',\n 'average_real_effective_exchange_rate',\n 'annual_percentage_change',\n 'right_scale',\n 'quantitative_performance_criterion',\n 'fiscal_revenue',\n 'high_trade',\n 'buoyant_import',\n 'food_relief',\n 'tax_administration',\n 'overall_expenditure',\n 'food_security',\n 'limited_time_available',\n 'year_end',\n 'external_budget_support',\n 'coordination_constraint',\n 'external_budget_support',\n 'immediate_need',\n 'food_security_spending',\n 'recent_good_harvest',\n 'overall_fiscal_deficit',\n 'net_domestic_financing',\n 'structural_reform',\n 'structural_performance_criterion',\n 'main_custom_office',\n 'joint_import_verification_team',\n 'petroleum_pricing_mechanism',\n 'domestic_fuel_price',\n 'margin_payment',\n 'structural_performance_criterion',\n 'turnover_threshold',\n 'large_taxpayer',\n 'medium_sized_taxpayer',\n 'targeted_number',\n 'recent_creation',\n 'audit_office',\n 'further_progress',\n 'expenditure_management',\n 'financial_sector',\n 'fiscal_target',\n 'entire_amount',\n 'food_security',\n 'margin_payment',\n 'key_macroeconomic_policy',\n 'macroeconomic_framework',\n 'food_security',\n 'extent_possible',\n 'unfinanced_priority_investment_project',\n 'revenue_performance',\n 'expenditure_management',\n 'domestic_petroleum_product',\n 'debt_sustainability',\n 'other_structural_reform',\n 'agricultural_production',\n 'recent_decline',\n 'domestic_food_price',\n 'year_inflation',\n 'external_current_account_deficit',\n 'food_security_increase',\n 'exchange_rate_policy',\n 'regional_level',\n 'exchange_rate_peg',\n 'inflation_low',\n 'medium_term_outlook',\n 'previous_staff',\n 'constant_price',\n 'current_account',\n 'fiscal_balance',\n 'cash_basis',\n 'external_public_debt',\n 'staff_estimate',\n 'annual_percentage_change',\n 'fiscal_program',\n 'food_security_need',\n 'new_priority_investment_project',\n 'economic_growth',\n 'new_real_estate_tax',\n 'total_revenue',\n 'total_expenditure',\n 'net_lending',\n 'basic_balance',\n 'MDRI_assistance',\n 'domestic_financing',\n 'financing_gap',\n 'financing_gap',\n 'staff_estimate']"
     },
     "metadata": {},
     "execution_count": 18
    }
   ],
   "source": [
    "e"
   ]
  },
  {
   "cell_type": "code",
   "execution_count": 2,
   "metadata": {},
   "outputs": [],
   "source": [
    "import re"
   ]
  },
  {
   "cell_type": "code",
   "execution_count": 3,
   "metadata": {},
   "outputs": [],
   "source": [
    "s = '''Government estimate).\\n\\n42% b e low 3 , 0 0 0 u s d More than 4.4 million refugees, representing 42 per cent of the world's refugees, resided in countries whose GDP per capita was below USD 3,000. top three h o st p e r g d p Pakistan hosted the largest number of refugees in relation to the size of its economy with 710 refugees per 1 USD GDP (PPP) per capita. The Democratic Republic of the Congo (475) and Kenya (247) were second and third respectively.\\n\\n2010 in Review\\nBy end 2010, there were 43.7 million forcibly displaced people worldwide, the highest number in 15 years. Of these, 15.4 million were refugees: 10.55 million under UNHCR's mandate and 4.82 million Palestinian refugees registered with UNRWA. The overall figure also includes 837,500 asylum-seekers and 27.5 million internally displaced persons (IDPs).\\n\\nTrends at a glance top two o r i g i n Afghan and Iraqi refugees accounted for almost half of all refugees under UNHCR's responsibility worldwide; three out of ten refugees in the world were from Afghanistan (3 million). Afghans were located in 75 different asylum countries. Iraqis were the second largest refugee group, with 1.7 million people located primarily in neighbouring countries.\\n\\n2 million n atu r a l d i sa ste r s More than 2 million people in situations of natural disasters benefited from UNHCR's interventions in 2010.\\n\\n22 countries r e s et tl e m e nt During the year, UNHCR submitted to States more than 108,000 refugee cases for resettlement. Close to 73,000 refugees departed for resettlement with UNHCR's assistance. According to government statistics, 22 countries reported the admission of 98,800 resettled refugees during 2010 (with or without UNHCR assistance). The United States of America received the highest number (71,400).\\n\\n845,800 a sy lu m c l a i m s More than 845,800 people submitted an individual application for asylum or refugee status in 2010. UNHCR offices registered 11 per cent of these claims. With more than 180,600 asylum claims - one fifth of applications globally - South Africa was the world's largest recipient of individual applications, followed by the United States of America (54,300) and France (48,100).\\n\\n15,500 u n ac c om pa n i e d c h i l d r e n More than 15,500 asylum applications were lodged by unaccompanied or separated children in 69 countries in 2010. The applications came mostly from Afghan and Somali children.\\n\\n11.8 million ru r a l \\/u r ba n a r e a s Available data (covering 11.8 million people) reveals that while IDPs (including returned IDPs) had a tendency to gather in rural areas, refugees and asylum-seekers gravitated towards urban areas. Returned refugees were found equally in rural and urban areas.\\n\\n49% wom e n a n d g i r l s Women and girls represented, on average, 49 per cent of persons of concern to UNHCR. They constituted 47 per cent of refugees, and half of all IDPs and returnees (former refugees). Forty-four per cent of refugees and 31 per cent of asylum-seekers were children below 18 years of age.\\n\\n2 UNHCR Global Trends 2010 3UNHCR Global Trends 2010\",\"U N H C R  \\/\\n\\nE .\\n\\nH o C k s T E iN Newly arrived Somali \\nrefugees� waiting to be registered in Dadaab, kenya.\\n\\nPakis�tan |� Return to Swat Valley Thousands of displaced Pakistanis board buses and trucks to…\\n\\nUNHCR |� 60 years� in photos� The agency's first task was to help an estimated 1 million…\\n\\n1 See page 37 for a definition of each population group.\\n2 This figure includes 4.82 million Palestinian refugees who are registered with the United Nations Relief and Works Agency for Palestine Refugees in the Near East (UNRWA).\\n3 Source: Internal Displacement Monitoring Centre (IDMC) of the Norwegian Refugee Council (NRC).\\n\\nA\\nT THe eND OF 2010, some 43.7 million people worldwide were forcibly displaced due to conflict and persecution, the highest number in more than 15 years. This included 15.4 million refugees,(2) 27.5 million IDPs (3) and more than 837,500 individuals whose asylum application had not yet been adjudicated by the end of the reporting period. [see Figure 1 below]\\n\\nThe total number of refugees and IDPs under UNHCR's care remained high, standing at 25.2 million by yearend [see Figure 2 below]. While the number of refugees increased marginally to 10.55 million, the number of IDPs protected or assisted by UNHCR dropped to 14.7 million. This was the result of a large number of IDPs being able to return during the course of 2010. In addition, UNHCR estimated that up to 12 million people were stateless, with the Office having reliable statistics for some 3.5 million of them. returns and resettlement\\nFinding durable solutions for those who have sought international protection is central to UNHCR's mandate. Despite the Office's efforts however, humanitarian crises and the political situation in a number of countries continued to prevent the return of a number of people. The number of refugee returns has continuously decreased since 2004, and the 2010 figure of 197,600 was the lowest level in more than two decades. UNHCR's submissions for refugee resettlement consideration by States increased steadily in recent years. However, in 2010 the number dropped by one-sixth to 108,000, largely due to security requirements and processing backlogs. As a consequence, the number of refugees consid'''"
   ]
  },
  {
   "cell_type": "code",
   "execution_count": 117,
   "metadata": {
    "tags": []
   },
   "outputs": [
    {
     "output_type": "stream",
     "name": "stdout",
     "text": "CPU times: user 2.51 ms, sys: 1.91 ms, total: 4.42 ms\nWall time: 4.33 ms\n"
    }
   ],
   "source": []
  },
  {
   "cell_type": "code",
   "execution_count": 4,
   "metadata": {},
   "outputs": [],
   "source": [
    "import wordninja"
   ]
  },
  {
   "cell_type": "code",
   "execution_count": 5,
   "metadata": {},
   "outputs": [],
   "source": [
    "import requests"
   ]
  },
  {
   "cell_type": "code",
   "execution_count": 6,
   "metadata": {},
   "outputs": [],
   "source": [
    "d = requests.get('http://explore.ihsn.org/api/tables/data/raw/unhcr?fields=_txt,title,_id')\n",
    "d = d.json()"
   ]
  },
  {
   "cell_type": "code",
   "execution_count": 7,
   "metadata": {},
   "outputs": [
    {
     "output_type": "execute_result",
     "data": {
      "text/plain": "116415"
     },
     "metadata": {},
     "execution_count": 7
    }
   ],
   "source": [
    "s = '\\n'.join(d['data'][0]['_txt'])\n",
    "len(s)"
   ]
  },
  {
   "cell_type": "code",
   "execution_count": 8,
   "metadata": {},
   "outputs": [],
   "source": [
    "import spacy\n",
    "nlp = spacy.load('en_core_web_sm')"
   ]
  },
  {
   "cell_type": "code",
   "execution_count": 9,
   "metadata": {},
   "outputs": [],
   "source": [
    "doc = nlp(s)"
   ]
  },
  {
   "cell_type": "code",
   "execution_count": 10,
   "metadata": {},
   "outputs": [
    {
     "output_type": "execute_result",
     "data": {
      "text/plain": "60"
     },
     "metadata": {},
     "execution_count": 10
    }
   ],
   "source": [
    "doc[4] #.whitespace_"
   ]
  },
  {
   "cell_type": "code",
   "execution_count": 19,
   "metadata": {},
   "outputs": [
    {
     "output_type": "execute_result",
     "data": {
      "text/plain": "h c r Of the world's displaced, more than 25.2 million people – 10.55 million refugees and 14.7 million IDPs – were receiving protection or assistance from UNHCR"
     },
     "metadata": {},
     "execution_count": 19
    }
   ],
   "source": [
    "doc[20:50]"
   ]
  },
  {
   "cell_type": "code",
   "execution_count": 24,
   "metadata": {},
   "outputs": [
    {
     "output_type": "execute_result",
     "data": {
      "text/plain": "True"
     },
     "metadata": {},
     "execution_count": 24
    }
   ],
   "source": []
  },
  {
   "cell_type": "code",
   "execution_count": null,
   "metadata": {},
   "outputs": [],
   "source": [
    "def build_span_map(val_span):\n",
    "    \n",
    "    {''}"
   ]
  },
  {
   "cell_type": "code",
   "execution_count": 29,
   "metadata": {},
   "outputs": [
    {
     "output_type": "execute_result",
     "data": {
      "text/plain": "24061"
     },
     "metadata": {},
     "execution_count": 29
    }
   ],
   "source": []
  },
  {
   "cell_type": "code",
   "execution_count": 310,
   "metadata": {},
   "outputs": [],
   "source": [
    "from wb_nlp import dir_manager\n",
    "\n",
    "SOURCE_PATH = dir_manager.get_data_dir('raw', 'sample_data', 'TXT_SAMPLE', 'wb_30633578.txt')\n",
    "with open(SOURCE_PATH, 'rb') as fl:\n",
    "    sss = fl.read().decode('utf-8', errors='ignore')"
   ]
  },
  {
   "cell_type": "code",
   "execution_count": 331,
   "metadata": {
    "tags": []
   },
   "outputs": [
    {
     "output_type": "stream",
     "name": "stdout",
     "text": "CPU times: user 14 s, sys: 0 ns, total: 14 s\nWall time: 14.1 s\n"
    }
   ],
   "source": [
    "%%time\n",
    "alpha_streak = 0\n",
    "word_streak = 0\n",
    "subs = []\n",
    "val_span = ''\n",
    "temp_span = ''\n",
    "ends_space = False\n",
    "spaces = {' ', '\\n', '\\t'}\n",
    "\n",
    "MAX_LEN = 4\n",
    "# ss = \"million p rote c te d   by u n h\\n c r Of the world's displaced, more than 25.2 million people\"\n",
    "\n",
    "# Handle plural form of acronyms, e.g., IDPs -> IDP\n",
    "ss = re.sub('(\\W[A-Z]{2,})(s)(\\W)', r'\\1\\3', sss)\n",
    "\n",
    "for ix, i in enumerate(ss):\n",
    "    if i.isalpha():\n",
    "        alpha_streak += 1\n",
    "        temp_span += i\n",
    "        ends_space = False\n",
    "    else:\n",
    "\n",
    "        if (alpha_streak and alpha_streak <= MAX_LEN) or (val_span and ends_space):\n",
    "            if i in spaces:\n",
    "                val_span += temp_span + i\n",
    "                word_streak += 1\n",
    "                temp_span = ''\n",
    "                ends_space = True\n",
    "                alpha_streak = 0\n",
    "                continue\n",
    "\n",
    "        if word_streak >= 2:\n",
    "            subs.append(val_span)\n",
    "        word_streak = 0\n",
    "        temp_span = ''\n",
    "        val_span = ''\n",
    "        ends_space = False\n",
    "        alpha_streak = 0\n",
    "\n",
    "k = {i: ' '.join(wordninja.split(''.join(i.split()))) for i in subs}\n",
    "\n",
    "for i, j in k.items():\n",
    "    ss = re.sub(i, j, ss)"
   ]
  },
  {
   "cell_type": "code",
   "execution_count": null,
   "metadata": {},
   "outputs": [],
   "source": []
  },
  {
   "cell_type": "code",
   "execution_count": 25,
   "metadata": {
    "tags": []
   },
   "outputs": [
    {
     "output_type": "stream",
     "name": "stdout",
     "text": "CPU times: user 55.8 ms, sys: 687 µs, total: 56.5 ms\nWall time: 72.6 ms\n"
    },
    {
     "output_type": "execute_result",
     "data": {
      "text/plain": "1378"
     },
     "metadata": {},
     "execution_count": 25
    }
   ],
   "source": [
    "%%time\n",
    "subs = []\n",
    "val_span = []\n",
    "prev_len = len(s)\n",
    "MAX_LEN = 4\n",
    "\n",
    "for t in doc:\n",
    "    if not t.is_alpha:\n",
    "        if len(val_span) > 1:\n",
    "            subs.append(val_span)\n",
    "        val_span = []\n",
    "        continue\n",
    "\n",
    "    if val_span:\n",
    "        if len(t) <= MAX_LEN:\n",
    "            if prev_len <= MAX_LEN:\n",
    "                val_span.append(t)\n",
    "            else:\n",
    "                val_span = []\n",
    "        else:\n",
    "            if len(val_span) > 1:\n",
    "                subs.append(val_span)\n",
    "            val_span = []\n",
    "    else:\n",
    "        if len(t) <= MAX_LEN:\n",
    "            val_span.append(t)\n",
    "\n",
    "    prev_len = len(t)\n",
    "\n",
    "if len(val_span) > 1:\n",
    "    subs.append(val_span)\n",
    "    \n",
    "len(subs)\n"
   ]
  },
  {
   "cell_type": "code",
   "execution_count": null,
   "metadata": {},
   "outputs": [],
   "source": []
  }
 ],
 "metadata": {
  "kernelspec": {
   "display_name": "wb_nlp",
   "language": "python",
   "name": "wb_nlp"
  },
  "language_info": {
   "codemirror_mode": {
    "name": "ipython",
    "version": 3
   },
   "file_extension": ".py",
   "mimetype": "text/x-python",
   "name": "python",
   "nbconvert_exporter": "python",
   "pygments_lexer": "ipython3",
   "version": "3.8.3-final"
  },
  "pycharm": {
   "stem_cell": {
    "cell_type": "raw",
    "metadata": {
     "collapsed": false
    },
    "source": []
   }
  }
 },
 "nbformat": 4,
 "nbformat_minor": 4
}