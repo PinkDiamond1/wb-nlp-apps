{
 "cells": [
  {
   "cell_type": "code",
   "execution_count": 1,
   "metadata": {},
   "outputs": [],
   "source": [
    "import os\n",
    "import re\n",
    "import sys\n",
    "import glob\n",
    "import math\n",
    "import logging\n",
    "from pathlib import Path\n",
    "from pprint import pprint\n",
    "\n",
    "import numpy as np\n",
    "import scipy as sp\n",
    "import sklearn\n",
    "\n",
    "import spacy\n",
    "import tika\n",
    "from tika import parser\n",
    "\n",
    "%load_ext autoreload\n",
    "%autoreload 2\n",
    "\n",
    "import matplotlib as mpl\n",
    "import matplotlib.pyplot as plt\n",
    "%matplotlib inline\n",
    "%config InlineBackend.figure_format = 'retina'\n",
    "\n",
    "import seaborn as sns\n",
    "sns.set_context(\"poster\")\n",
    "sns.set(rc={'figure.figsize': (16, 9.)})\n",
    "sns.set_style(\"whitegrid\")\n",
    "\n",
    "import pandas as pd\n",
    "pd.set_option(\"display.max_rows\", 120)\n",
    "pd.set_option(\"display.max_columns\", 120)\n",
    "\n",
    "logging.basicConfig(level=logging.INFO, stream=sys.stdout)"
   ]
  },
  {
   "cell_type": "code",
   "execution_count": 2,
   "metadata": {},
   "outputs": [],
   "source": [
    "from wb_nlp.processing import document"
   ]
  },
  {
   "cell_type": "code",
   "execution_count": 3,
   "metadata": {},
   "outputs": [],
   "source": [
    "## Hints\n",
    "\n",
    "# nlp = spacy.load('en_core_web_sm')"
   ]
  },
  {
   "cell_type": "markdown",
   "metadata": {},
   "source": [
    "This notebook contains examples of how the `PDFDoc2Txt` class can be used to convert pdf documents into formatted text. Additional methods implemented in this class can also be applied to raw texts extracted from PDFs.\n",
    "\n",
    "We start by creating an instance of the `PDFDoc2Txt`—`pdf_parser`."
   ]
  },
  {
   "cell_type": "code",
   "execution_count": 4,
   "metadata": {},
   "outputs": [],
   "source": [
    "pdf_parser = document.PDFDoc2Txt()"
   ]
  },
  {
   "cell_type": "markdown",
   "metadata": {},
   "source": [
    "# Parsing a pdf file\n",
    "\n",
    "Parsing a pdf file starts with the `parse` method. This method accepts a buffer of byte object or a string to a url or file path. The source type must be specified for the parser to correctly execute the processing.\n",
    "\n",
    "Below is the implementation of the `parse` method. Tika is the main driver of the parser. We use the `xmlContent` flag to specify that we want to get an xml formatted output. The xml output contains relevant structure that we can leverage to generate an informed reconstruction of the document."
   ]
  },
  {
   "cell_type": "code",
   "execution_count": 5,
   "metadata": {},
   "outputs": [
    {
     "output_type": "stream",
     "text": "\u001b[0;31mSignature:\u001b[0m \u001b[0mpdf_parser\u001b[0m\u001b[0;34m.\u001b[0m\u001b[0mparse\u001b[0m\u001b[0;34m(\u001b[0m\u001b[0msource\u001b[0m\u001b[0;34m:\u001b[0m \u001b[0mUnion\u001b[0m\u001b[0;34m[\u001b[0m\u001b[0mbytes\u001b[0m\u001b[0;34m,\u001b[0m \u001b[0mstr\u001b[0m\u001b[0;34m]\u001b[0m\u001b[0;34m,\u001b[0m \u001b[0msource_type\u001b[0m\u001b[0;34m:\u001b[0m \u001b[0mstr\u001b[0m \u001b[0;34m=\u001b[0m \u001b[0;34m'buffer'\u001b[0m\u001b[0;34m)\u001b[0m \u001b[0;34m->\u001b[0m \u001b[0mstr\u001b[0m\u001b[0;34m\u001b[0m\u001b[0;34m\u001b[0m\u001b[0m\n\u001b[0;31mSource:\u001b[0m   \n    \u001b[0;32mdef\u001b[0m \u001b[0mparse\u001b[0m\u001b[0;34m(\u001b[0m\u001b[0mself\u001b[0m\u001b[0;34m,\u001b[0m \u001b[0msource\u001b[0m\u001b[0;34m:\u001b[0m \u001b[0mUnion\u001b[0m\u001b[0;34m[\u001b[0m\u001b[0mbytes\u001b[0m\u001b[0;34m,\u001b[0m \u001b[0mstr\u001b[0m\u001b[0;34m]\u001b[0m\u001b[0;34m,\u001b[0m \u001b[0msource_type\u001b[0m\u001b[0;34m:\u001b[0m \u001b[0mstr\u001b[0m\u001b[0;34m=\u001b[0m\u001b[0;34m'buffer'\u001b[0m\u001b[0;34m)\u001b[0m \u001b[0;34m->\u001b[0m \u001b[0mstr\u001b[0m\u001b[0;34m:\u001b[0m\u001b[0;34m\u001b[0m\n\u001b[0;34m\u001b[0m        \u001b[0;34m\"\"\"Parse a PDF document to text from different source types.\u001b[0m\n\u001b[0;34m\u001b[0m\n\u001b[0;34m        Args:\u001b[0m\n\u001b[0;34m            source:\u001b[0m\n\u001b[0;34m                Source of the PDF that needs to be converted.\u001b[0m\n\u001b[0;34m                The source could be a url, a path, or a buffer/file-like object\u001b[0m\n\u001b[0;34m                to the PDF file.\u001b[0m\n\u001b[0;34m            source_type:\u001b[0m\n\u001b[0;34m                Specification of which source type is being provided in `source`.\u001b[0m\n\u001b[0;34m\u001b[0m\n\u001b[0;34m        Returns:\u001b[0m\n\u001b[0;34m            A string containing the parsed pdf file.\u001b[0m\n\u001b[0;34m\u001b[0m\n\u001b[0;34m        \"\"\"\u001b[0m\u001b[0;34m\u001b[0m\n\u001b[0;34m\u001b[0m        \u001b[0;32mif\u001b[0m \u001b[0msource_type\u001b[0m \u001b[0;34m==\u001b[0m \u001b[0;34m'url'\u001b[0m\u001b[0;34m:\u001b[0m\u001b[0;34m\u001b[0m\n\u001b[0;34m\u001b[0m            \u001b[0mbuf\u001b[0m \u001b[0;34m=\u001b[0m \u001b[0mrequests\u001b[0m\u001b[0;34m.\u001b[0m\u001b[0mget\u001b[0m\u001b[0;34m(\u001b[0m\u001b[0msource\u001b[0m\u001b[0;34m)\u001b[0m\u001b[0;34m\u001b[0m\n\u001b[0;34m\u001b[0m            \u001b[0mpdf_text\u001b[0m \u001b[0;34m=\u001b[0m \u001b[0mparser\u001b[0m\u001b[0;34m.\u001b[0m\u001b[0mfrom_buffer\u001b[0m\u001b[0;34m(\u001b[0m\u001b[0mbuf\u001b[0m\u001b[0;34m.\u001b[0m\u001b[0mcontent\u001b[0m\u001b[0;34m,\u001b[0m \u001b[0mxmlContent\u001b[0m\u001b[0;34m=\u001b[0m\u001b[0;32mTrue\u001b[0m\u001b[0;34m)\u001b[0m\u001b[0;34m\u001b[0m\n\u001b[0;34m\u001b[0m\u001b[0;34m\u001b[0m\n\u001b[0;34m\u001b[0m        \u001b[0;32melif\u001b[0m \u001b[0msource_type\u001b[0m \u001b[0;34m==\u001b[0m \u001b[0;34m'file'\u001b[0m\u001b[0;34m:\u001b[0m\u001b[0;34m\u001b[0m\n\u001b[0;34m\u001b[0m            \u001b[0mpdf_text\u001b[0m \u001b[0;34m=\u001b[0m \u001b[0mparser\u001b[0m\u001b[0;34m.\u001b[0m\u001b[0mfrom_file\u001b[0m\u001b[0;34m(\u001b[0m\u001b[0msource\u001b[0m\u001b[0;34m,\u001b[0m \u001b[0mxmlContent\u001b[0m\u001b[0;34m=\u001b[0m\u001b[0;32mTrue\u001b[0m\u001b[0;34m)\u001b[0m\u001b[0;34m\u001b[0m\n\u001b[0;34m\u001b[0m\u001b[0;34m\u001b[0m\n\u001b[0;34m\u001b[0m        \u001b[0;32melif\u001b[0m \u001b[0msource_type\u001b[0m \u001b[0;34m==\u001b[0m \u001b[0;34m'buffer'\u001b[0m\u001b[0;34m:\u001b[0m\u001b[0;34m\u001b[0m\n\u001b[0;34m\u001b[0m            \u001b[0mpdf_text\u001b[0m \u001b[0;34m=\u001b[0m \u001b[0mparser\u001b[0m\u001b[0;34m.\u001b[0m\u001b[0mfrom_buffer\u001b[0m\u001b[0;34m(\u001b[0m\u001b[0msource\u001b[0m\u001b[0;34m,\u001b[0m \u001b[0mxmlContent\u001b[0m\u001b[0;34m=\u001b[0m\u001b[0;32mTrue\u001b[0m\u001b[0;34m)\u001b[0m\u001b[0;34m\u001b[0m\n\u001b[0;34m\u001b[0m\u001b[0;34m\u001b[0m\n\u001b[0;34m\u001b[0m        \u001b[0;32melse\u001b[0m\u001b[0;34m:\u001b[0m\u001b[0;34m\u001b[0m\n\u001b[0;34m\u001b[0m            \u001b[0;32mraise\u001b[0m \u001b[0mValueError\u001b[0m\u001b[0;34m(\u001b[0m\u001b[0;34mf'Unknown source_type: `{source_type}`'\u001b[0m\u001b[0;34m)\u001b[0m\u001b[0;34m\u001b[0m\n\u001b[0;34m\u001b[0m\u001b[0;34m\u001b[0m\n\u001b[0;34m\u001b[0m        \u001b[0msoup\u001b[0m \u001b[0;34m=\u001b[0m \u001b[0mBeautifulSoup\u001b[0m\u001b[0;34m(\u001b[0m\u001b[0mpdf_text\u001b[0m\u001b[0;34m[\u001b[0m\u001b[0;34m'content'\u001b[0m\u001b[0;34m]\u001b[0m\u001b[0;34m,\u001b[0m \u001b[0mfeatures\u001b[0m\u001b[0;34m=\u001b[0m\u001b[0;34m\"html.parser\"\u001b[0m\u001b[0;34m)\u001b[0m\u001b[0;34m\u001b[0m\n\u001b[0;34m\u001b[0m        \u001b[0mpages\u001b[0m \u001b[0;34m=\u001b[0m \u001b[0msoup\u001b[0m\u001b[0;34m.\u001b[0m\u001b[0mfind_all\u001b[0m\u001b[0;34m(\u001b[0m\u001b[0;34m'div'\u001b[0m\u001b[0;34m,\u001b[0m \u001b[0;34m{\u001b[0m\u001b[0;34m'class'\u001b[0m\u001b[0;34m:\u001b[0m\u001b[0;34m'page'\u001b[0m\u001b[0;34m}\u001b[0m\u001b[0;34m)\u001b[0m\u001b[0;34m\u001b[0m\n\u001b[0;34m\u001b[0m\u001b[0;34m\u001b[0m\n\u001b[0;34m\u001b[0m        \u001b[0mtext_pages\u001b[0m \u001b[0;34m=\u001b[0m \u001b[0;34m[\u001b[0m\u001b[0;34m]\u001b[0m\u001b[0;34m\u001b[0m\n\u001b[0;34m\u001b[0m        \u001b[0;32mfor\u001b[0m \u001b[0mpage\u001b[0m \u001b[0;32min\u001b[0m \u001b[0mpages\u001b[0m\u001b[0;34m:\u001b[0m\u001b[0;34m\u001b[0m\n\u001b[0;34m\u001b[0m            \u001b[0mtext_pages\u001b[0m\u001b[0;34m.\u001b[0m\u001b[0mappend\u001b[0m\u001b[0;34m(\u001b[0m\u001b[0mPDFDoc2Txt\u001b[0m\u001b[0;34m.\u001b[0m\u001b[0mprocess_page\u001b[0m\u001b[0;34m(\u001b[0m\u001b[0mpage\u001b[0m\u001b[0;34m)\u001b[0m\u001b[0;34m)\u001b[0m\u001b[0;34m\u001b[0m\n\u001b[0;34m\u001b[0m\u001b[0;34m\u001b[0m\n\u001b[0;34m\u001b[0m        \u001b[0;32mreturn\u001b[0m \u001b[0mtext_pages\u001b[0m\u001b[0;34m\u001b[0m\u001b[0;34m\u001b[0m\u001b[0m\n\u001b[0;31mFile:\u001b[0m      ~/WBG/wb_nlp/src/wb_nlp/processing/document.py\n\u001b[0;31mType:\u001b[0m      method\n"
    }
   ],
   "source": [
    "??pdf_parser.parse"
   ]
  },
  {
   "cell_type": "markdown",
   "metadata": {},
   "source": [
    "## Processing a single page\n",
    "\n",
    "The xml returned by Tika contains page information captured by div tags. We used this to process documents by page.\n",
    "\n",
    "The `process_page` method takes a tag element corresponding to the extracted page. Page level processing is then applied such as consolidation of paragraphs in the page and fixing footnote citations. We also perform concatenation of likely fragmented paragraphs."
   ]
  },
  {
   "cell_type": "code",
   "execution_count": 6,
   "metadata": {},
   "outputs": [
    {
     "output_type": "stream",
     "text": "\u001b[0;31mSignature:\u001b[0m \u001b[0mpdf_parser\u001b[0m\u001b[0;34m.\u001b[0m\u001b[0mprocess_page\u001b[0m\u001b[0;34m(\u001b[0m\u001b[0mpage\u001b[0m\u001b[0;34m:\u001b[0m \u001b[0mbs4\u001b[0m\u001b[0;34m.\u001b[0m\u001b[0melement\u001b[0m\u001b[0;34m.\u001b[0m\u001b[0mTag\u001b[0m\u001b[0;34m)\u001b[0m \u001b[0;34m->\u001b[0m \u001b[0mstr\u001b[0m\u001b[0;34m\u001b[0m\u001b[0;34m\u001b[0m\u001b[0m\n\u001b[0;31mDocstring:\u001b[0m <no docstring>\n\u001b[0;31mSource:\u001b[0m   \n    \u001b[0;34m@\u001b[0m\u001b[0mstaticmethod\u001b[0m\u001b[0;34m\u001b[0m\n\u001b[0;34m\u001b[0m    \u001b[0;32mdef\u001b[0m \u001b[0mprocess_page\u001b[0m\u001b[0;34m(\u001b[0m\u001b[0mpage\u001b[0m\u001b[0;34m:\u001b[0m \u001b[0mbs4\u001b[0m\u001b[0;34m.\u001b[0m\u001b[0melement\u001b[0m\u001b[0;34m.\u001b[0m\u001b[0mTag\u001b[0m\u001b[0;34m)\u001b[0m \u001b[0;34m->\u001b[0m \u001b[0mstr\u001b[0m\u001b[0;34m:\u001b[0m\u001b[0;34m\u001b[0m\n\u001b[0;34m\u001b[0m        \u001b[0mparagraphs\u001b[0m \u001b[0;34m=\u001b[0m \u001b[0;34m[\u001b[0m\u001b[0;34m]\u001b[0m\u001b[0;34m\u001b[0m\n\u001b[0;34m\u001b[0m\u001b[0;34m\u001b[0m\n\u001b[0;34m\u001b[0m        \u001b[0;32mfor\u001b[0m \u001b[0mp\u001b[0m \u001b[0;32min\u001b[0m \u001b[0mpage\u001b[0m\u001b[0;34m.\u001b[0m\u001b[0mfind_all\u001b[0m\u001b[0;34m(\u001b[0m\u001b[0;34m'p'\u001b[0m\u001b[0;34m)\u001b[0m\u001b[0;34m:\u001b[0m\u001b[0;34m\u001b[0m\n\u001b[0;34m\u001b[0m            \u001b[0mparagraph\u001b[0m \u001b[0;34m=\u001b[0m \u001b[0mPDFDoc2Txt\u001b[0m\u001b[0;34m.\u001b[0m\u001b[0mconsolidate_paragraph\u001b[0m\u001b[0;34m(\u001b[0m\u001b[0mp\u001b[0m\u001b[0;34m.\u001b[0m\u001b[0mtext\u001b[0m\u001b[0;34m)\u001b[0m\u001b[0;34m\u001b[0m\n\u001b[0;34m\u001b[0m            \u001b[0mparagraph\u001b[0m \u001b[0;34m=\u001b[0m \u001b[0mPDFDoc2Txt\u001b[0m\u001b[0;34m.\u001b[0m\u001b[0mnormalize_footnote_citations\u001b[0m\u001b[0;34m(\u001b[0m\u001b[0mparagraph\u001b[0m\u001b[0;34m)\u001b[0m\u001b[0;34m\u001b[0m\n\u001b[0;34m\u001b[0m            \u001b[0;32mif\u001b[0m \u001b[0;32mnot\u001b[0m \u001b[0mparagraph\u001b[0m\u001b[0;34m:\u001b[0m\u001b[0;34m\u001b[0m\n\u001b[0;34m\u001b[0m                \u001b[0;32mcontinue\u001b[0m\u001b[0;34m\u001b[0m\n\u001b[0;34m\u001b[0m\u001b[0;34m\u001b[0m\n\u001b[0;34m\u001b[0m            \u001b[0mprev_paragraph_end\u001b[0m \u001b[0;34m=\u001b[0m \u001b[0mparagraphs\u001b[0m\u001b[0;34m[\u001b[0m\u001b[0;34m-\u001b[0m\u001b[0;36m1\u001b[0m\u001b[0;34m]\u001b[0m\u001b[0;34m[\u001b[0m\u001b[0;34m-\u001b[0m\u001b[0;36m1\u001b[0m\u001b[0;34m]\u001b[0m \u001b[0;32mif\u001b[0m \u001b[0mparagraphs\u001b[0m \u001b[0;32mand\u001b[0m \u001b[0mparagraphs\u001b[0m\u001b[0;34m[\u001b[0m\u001b[0;34m-\u001b[0m\u001b[0;36m1\u001b[0m\u001b[0;34m]\u001b[0m \u001b[0;32melse\u001b[0m \u001b[0;34m''\u001b[0m\u001b[0;34m\u001b[0m\n\u001b[0;34m\u001b[0m\u001b[0;34m\u001b[0m\n\u001b[0;34m\u001b[0m            \u001b[0;32mif\u001b[0m \u001b[0mprev_paragraph_end\u001b[0m \u001b[0;32mand\u001b[0m \u001b[0;34m(\u001b[0m\u001b[0mre\u001b[0m\u001b[0;34m.\u001b[0m\u001b[0msearch\u001b[0m\u001b[0;34m(\u001b[0m\u001b[0;34mr'[a-zA-Z\\-\\,]'\u001b[0m\u001b[0;34m,\u001b[0m \u001b[0mprev_paragraph_end\u001b[0m\u001b[0;34m)\u001b[0m \u001b[0;32mor\u001b[0m \u001b[0;34m(\u001b[0m\u001b[0mparagraph\u001b[0m\u001b[0;34m[\u001b[0m\u001b[0;36m0\u001b[0m\u001b[0;34m]\u001b[0m\u001b[0;34m.\u001b[0m\u001b[0mislower\u001b[0m\u001b[0;34m(\u001b[0m\u001b[0;34m)\u001b[0m\u001b[0;34m)\u001b[0m\u001b[0;34m)\u001b[0m\u001b[0;34m:\u001b[0m  \u001b[0;31m# .isalpha():\u001b[0m\u001b[0;34m\u001b[0m\n\u001b[0;34m\u001b[0m                \u001b[0mparagraph\u001b[0m \u001b[0;34m=\u001b[0m \u001b[0mparagraphs\u001b[0m\u001b[0;34m[\u001b[0m\u001b[0;34m-\u001b[0m\u001b[0;36m1\u001b[0m\u001b[0;34m]\u001b[0m \u001b[0;34m+\u001b[0m \u001b[0;34m' '\u001b[0m \u001b[0;34m+\u001b[0m \u001b[0mparagraph\u001b[0m\u001b[0;34m\u001b[0m\n\u001b[0;34m\u001b[0m                \u001b[0mparagraphs\u001b[0m\u001b[0;34m[\u001b[0m\u001b[0;34m-\u001b[0m\u001b[0;36m1\u001b[0m\u001b[0;34m]\u001b[0m \u001b[0;34m=\u001b[0m \u001b[0mparagraph\u001b[0m\u001b[0;34m\u001b[0m\n\u001b[0;34m\u001b[0m            \u001b[0;32melse\u001b[0m\u001b[0;34m:\u001b[0m\u001b[0;34m\u001b[0m\n\u001b[0;34m\u001b[0m                \u001b[0mparagraphs\u001b[0m\u001b[0;34m.\u001b[0m\u001b[0mappend\u001b[0m\u001b[0;34m(\u001b[0m\u001b[0mparagraph\u001b[0m\u001b[0;34m)\u001b[0m\u001b[0;34m\u001b[0m\n\u001b[0;34m\u001b[0m\u001b[0;34m\u001b[0m\n\u001b[0;34m\u001b[0m        \u001b[0;31m# for p in paragraphs:\u001b[0m\u001b[0;34m\u001b[0m\n\u001b[0;34m\u001b[0m        \u001b[0;31m#     doc = self.nlp(p)\u001b[0m\u001b[0;34m\u001b[0m\n\u001b[0;34m\u001b[0m        \u001b[0;31m#     self.sentences.extend(list(doc.sents))\u001b[0m\u001b[0;34m\u001b[0m\n\u001b[0;34m\u001b[0m\u001b[0;34m\u001b[0m\n\u001b[0;34m\u001b[0m        \u001b[0mparagraphs\u001b[0m \u001b[0;34m=\u001b[0m \u001b[0;34m'\\n\\n'\u001b[0m\u001b[0;34m.\u001b[0m\u001b[0mjoin\u001b[0m\u001b[0;34m(\u001b[0m\u001b[0mparagraphs\u001b[0m\u001b[0;34m)\u001b[0m\u001b[0;34m\u001b[0m\n\u001b[0;34m\u001b[0m        \u001b[0;32mreturn\u001b[0m \u001b[0mparagraphs\u001b[0m\u001b[0;34m\u001b[0m\u001b[0;34m\u001b[0m\u001b[0m\n\u001b[0;31mFile:\u001b[0m      ~/WBG/wb_nlp/src/wb_nlp/processing/document.py\n\u001b[0;31mType:\u001b[0m      function\n"
    }
   ],
   "source": [
    "??pdf_parser.process_page"
   ]
  },
  {
   "cell_type": "markdown",
   "metadata": {},
   "source": [
    "# Paragraph consolidation algorithm\n",
    "\n",
    "The following method `consolidate_paragraph` contains the different heuristics for identifying fragmentation of paragraphs/sentences extracted from the pdf file.\n",
    "\n",
    "This method is a static method allowing us to use this on arbitrary text document that may contain sentence level fragmentation due to OCR or other X-to-text conversion."
   ]
  },
  {
   "cell_type": "code",
   "execution_count": 7,
   "metadata": {},
   "outputs": [
    {
     "output_type": "stream",
     "text": "\u001b[0;31mSignature:\u001b[0m\n\u001b[0mpdf_parser\u001b[0m\u001b[0;34m.\u001b[0m\u001b[0mconsolidate_paragraph\u001b[0m\u001b[0;34m(\u001b[0m\u001b[0;34m\u001b[0m\n\u001b[0;34m\u001b[0m    \u001b[0mtext_paragraph\u001b[0m\u001b[0;34m:\u001b[0m \u001b[0mstr\u001b[0m\u001b[0;34m,\u001b[0m\u001b[0;34m\u001b[0m\n\u001b[0;34m\u001b[0m    \u001b[0mmin_fragment_len\u001b[0m\u001b[0;34m:\u001b[0m \u001b[0mint\u001b[0m \u001b[0;34m=\u001b[0m \u001b[0;36m3\u001b[0m\u001b[0;34m,\u001b[0m\u001b[0;34m\u001b[0m\n\u001b[0;34m\u001b[0m\u001b[0;34m)\u001b[0m \u001b[0;34m->\u001b[0m \u001b[0mstr\u001b[0m\u001b[0;34m\u001b[0m\u001b[0;34m\u001b[0m\u001b[0m\n\u001b[0;31mSource:\u001b[0m   \n    \u001b[0;34m@\u001b[0m\u001b[0mstaticmethod\u001b[0m\u001b[0;34m\u001b[0m\n\u001b[0;34m\u001b[0m    \u001b[0;32mdef\u001b[0m \u001b[0mconsolidate_paragraph\u001b[0m\u001b[0;34m(\u001b[0m\u001b[0mtext_paragraph\u001b[0m\u001b[0;34m:\u001b[0m \u001b[0mstr\u001b[0m\u001b[0;34m,\u001b[0m \u001b[0mmin_fragment_len\u001b[0m\u001b[0;34m:\u001b[0m \u001b[0mint\u001b[0m\u001b[0;34m=\u001b[0m\u001b[0;36m3\u001b[0m\u001b[0;34m)\u001b[0m \u001b[0;34m->\u001b[0m \u001b[0mstr\u001b[0m\u001b[0;34m:\u001b[0m\u001b[0;34m\u001b[0m\n\u001b[0;34m\u001b[0m        \u001b[0;34m\"\"\"Consolidate a `text_paragraph` with possible multiple newlines into one logical paragraph.\u001b[0m\n\u001b[0;34m\u001b[0m\n\u001b[0;34m        Tika provides access to extracted text by paragraph. These paragraphs, however, may contain\u001b[0m\n\u001b[0;34m        multiple newlines that break the paragraph arbitrarily. This function implements some heuristics\u001b[0m\n\u001b[0;34m        to recover a logical representation of the paragraph.\u001b[0m\n\u001b[0;34m\u001b[0m\n\u001b[0;34m        Args:\u001b[0m\n\u001b[0;34m            text_paragraph:\u001b[0m\n\u001b[0;34m                Text corresponding to an extracted paragraph from Tika.\u001b[0m\n\u001b[0;34m\u001b[0m\n\u001b[0;34m        Returns:\u001b[0m\n\u001b[0;34m            A string corresponding to a logical paragraph.\u001b[0m\n\u001b[0;34m\u001b[0m\n\u001b[0;34m        \"\"\"\u001b[0m\u001b[0;34m\u001b[0m\n\u001b[0;34m\u001b[0m        \u001b[0mreplace_chars\u001b[0m \u001b[0;34m=\u001b[0m \u001b[0;34m{\u001b[0m\u001b[0;34m'’'\u001b[0m\u001b[0;34m:\u001b[0m \u001b[0;34m\"'\"\u001b[0m\u001b[0;34m,\u001b[0m \u001b[0;34m'“'\u001b[0m\u001b[0;34m:\u001b[0m \u001b[0;34m'\"'\u001b[0m\u001b[0;34m,\u001b[0m \u001b[0;34m'”'\u001b[0m\u001b[0;34m:\u001b[0m \u001b[0;34m'\"'\u001b[0m\u001b[0;34m}\u001b[0m\u001b[0;34m\u001b[0m\n\u001b[0;34m\u001b[0m        \u001b[0mline_seps\u001b[0m \u001b[0;34m=\u001b[0m \u001b[0mset\u001b[0m\u001b[0;34m(\u001b[0m\u001b[0;34m[\u001b[0m\u001b[0;34m' '\u001b[0m\u001b[0;34m,\u001b[0m \u001b[0;34m'-'\u001b[0m\u001b[0;34m]\u001b[0m\u001b[0;34m)\u001b[0m\u001b[0;34m\u001b[0m\n\u001b[0;34m\u001b[0m        \u001b[0mline_groups\u001b[0m \u001b[0;34m=\u001b[0m \u001b[0;34m[\u001b[0m\u001b[0;34m[\u001b[0m\u001b[0;34m]\u001b[0m\u001b[0;34m]\u001b[0m\u001b[0;34m\u001b[0m\n\u001b[0;34m\u001b[0m\u001b[0;34m\u001b[0m\n\u001b[0;34m\u001b[0m        \u001b[0mtext_paragraph\u001b[0m \u001b[0;34m=\u001b[0m \u001b[0mtext_paragraph\u001b[0m\u001b[0;34m.\u001b[0m\u001b[0mreplace\u001b[0m\u001b[0;34m(\u001b[0m\u001b[0;34m'\\r'\u001b[0m\u001b[0;34m,\u001b[0m \u001b[0;34m''\u001b[0m\u001b[0;34m)\u001b[0m\u001b[0;34m\u001b[0m\n\u001b[0;34m\u001b[0m\u001b[0;34m\u001b[0m\n\u001b[0;34m\u001b[0m        \u001b[0mlines\u001b[0m \u001b[0;34m=\u001b[0m \u001b[0;34m[\u001b[0m\u001b[0;34m]\u001b[0m\u001b[0;34m\u001b[0m\n\u001b[0;34m\u001b[0m        \u001b[0;32mfor\u001b[0m \u001b[0mline\u001b[0m \u001b[0;32min\u001b[0m \u001b[0mre\u001b[0m\u001b[0;34m.\u001b[0m\u001b[0mfindall\u001b[0m\u001b[0;34m(\u001b[0m\u001b[0;34mr'(.+)(?:$|\\r?\\n)'\u001b[0m\u001b[0;34m,\u001b[0m \u001b[0mtext_paragraph\u001b[0m\u001b[0;34m)\u001b[0m\u001b[0;34m:\u001b[0m\u001b[0;34m\u001b[0m\n\u001b[0;34m\u001b[0m            \u001b[0mprev_line\u001b[0m \u001b[0;34m=\u001b[0m \u001b[0mlines\u001b[0m\u001b[0;34m[\u001b[0m\u001b[0;34m-\u001b[0m\u001b[0;36m1\u001b[0m\u001b[0;34m]\u001b[0m \u001b[0;32mif\u001b[0m \u001b[0mlines\u001b[0m \u001b[0;32melse\u001b[0m \u001b[0;34m''\u001b[0m\u001b[0;34m\u001b[0m\n\u001b[0;34m\u001b[0m            \u001b[0mprev_line_end\u001b[0m \u001b[0;34m=\u001b[0m \u001b[0mprev_line\u001b[0m\u001b[0;34m[\u001b[0m\u001b[0;34m-\u001b[0m\u001b[0;36m1\u001b[0m\u001b[0;34m]\u001b[0m \u001b[0;32mif\u001b[0m \u001b[0mprev_line\u001b[0m \u001b[0;32melse\u001b[0m \u001b[0;34m''\u001b[0m\u001b[0;34m\u001b[0m\n\u001b[0;34m\u001b[0m\u001b[0;34m\u001b[0m\n\u001b[0;34m\u001b[0m            \u001b[0mlen_prev_line\u001b[0m \u001b[0;34m=\u001b[0m \u001b[0mlen\u001b[0m\u001b[0;34m(\u001b[0m\u001b[0mprev_line\u001b[0m\u001b[0;34m.\u001b[0m\u001b[0msplit\u001b[0m\u001b[0;34m(\u001b[0m\u001b[0;34m)\u001b[0m\u001b[0;34m)\u001b[0m\u001b[0;34m\u001b[0m\n\u001b[0;34m\u001b[0m            \u001b[0mlen_line\u001b[0m \u001b[0;34m=\u001b[0m \u001b[0mlen\u001b[0m\u001b[0;34m(\u001b[0m\u001b[0mline\u001b[0m\u001b[0;34m.\u001b[0m\u001b[0msplit\u001b[0m\u001b[0;34m(\u001b[0m\u001b[0;34m)\u001b[0m\u001b[0;34m)\u001b[0m\u001b[0;34m\u001b[0m\n\u001b[0;34m\u001b[0m\u001b[0;34m\u001b[0m\n\u001b[0;34m\u001b[0m            \u001b[0;32mif\u001b[0m \u001b[0mline\u001b[0m\u001b[0;34m.\u001b[0m\u001b[0mlstrip\u001b[0m\u001b[0;34m(\u001b[0m\u001b[0;34m)\u001b[0m\u001b[0;34m.\u001b[0m\u001b[0mstartswith\u001b[0m\u001b[0;34m(\u001b[0m\u001b[0;34m'•'\u001b[0m\u001b[0;34m)\u001b[0m\u001b[0;34m:\u001b[0m\u001b[0;34m\u001b[0m\n\u001b[0;34m\u001b[0m                \u001b[0mlines\u001b[0m\u001b[0;34m.\u001b[0m\u001b[0mappend\u001b[0m\u001b[0;34m(\u001b[0m\u001b[0mline\u001b[0m\u001b[0;34m)\u001b[0m\u001b[0;34m\u001b[0m\n\u001b[0;34m\u001b[0m            \u001b[0;32melif\u001b[0m \u001b[0mlen_prev_line\u001b[0m \u001b[0;34m<=\u001b[0m \u001b[0mmin_fragment_len\u001b[0m \u001b[0;32mand\u001b[0m \u001b[0mlen_line\u001b[0m \u001b[0;34m>\u001b[0m \u001b[0mmin_fragment_len\u001b[0m\u001b[0;34m:\u001b[0m\u001b[0;34m\u001b[0m\n\u001b[0;34m\u001b[0m                \u001b[0;31m# We consider joining consecutive lines if the previous line is\u001b[0m\u001b[0;34m\u001b[0m\n\u001b[0;34m\u001b[0m                \u001b[0;31m# reasonably long enough to be considered a valid fragment.\u001b[0m\u001b[0;34m\u001b[0m\n\u001b[0;34m\u001b[0m                \u001b[0mlines\u001b[0m\u001b[0;34m.\u001b[0m\u001b[0mappend\u001b[0m\u001b[0;34m(\u001b[0m\u001b[0mline\u001b[0m\u001b[0;34m)\u001b[0m\u001b[0;34m\u001b[0m\n\u001b[0;34m\u001b[0m            \u001b[0;32melif\u001b[0m \u001b[0mprev_line_end\u001b[0m \u001b[0;32min\u001b[0m \u001b[0mline_seps\u001b[0m\u001b[0;34m:\u001b[0m\u001b[0;34m\u001b[0m\n\u001b[0;34m\u001b[0m                \u001b[0;32mif\u001b[0m \u001b[0;34m'-'\u001b[0m \u001b[0;34m==\u001b[0m \u001b[0mprev_line_end\u001b[0m\u001b[0;34m:\u001b[0m\u001b[0;34m\u001b[0m\n\u001b[0;34m\u001b[0m                    \u001b[0mlines\u001b[0m\u001b[0;34m[\u001b[0m\u001b[0;34m-\u001b[0m\u001b[0;36m1\u001b[0m\u001b[0;34m]\u001b[0m \u001b[0;34m=\u001b[0m \u001b[0mprev_line\u001b[0m\u001b[0;34m.\u001b[0m\u001b[0mrstrip\u001b[0m\u001b[0;34m(\u001b[0m\u001b[0;34m'-'\u001b[0m\u001b[0;34m)\u001b[0m \u001b[0;34m+\u001b[0m \u001b[0mline\u001b[0m\u001b[0;34m\u001b[0m\n\u001b[0;34m\u001b[0m                \u001b[0;32melse\u001b[0m\u001b[0;34m:\u001b[0m\u001b[0;34m\u001b[0m\n\u001b[0;34m\u001b[0m                    \u001b[0mlines\u001b[0m\u001b[0;34m[\u001b[0m\u001b[0;34m-\u001b[0m\u001b[0;36m1\u001b[0m\u001b[0;34m]\u001b[0m \u001b[0;34m=\u001b[0m \u001b[0mprev_line\u001b[0m\u001b[0;34m.\u001b[0m\u001b[0mstrip\u001b[0m\u001b[0;34m(\u001b[0m\u001b[0;34m)\u001b[0m \u001b[0;34m+\u001b[0m \u001b[0;34m' '\u001b[0m \u001b[0;34m+\u001b[0m \u001b[0mline\u001b[0m\u001b[0;34m\u001b[0m\n\u001b[0;34m\u001b[0m            \u001b[0;32melif\u001b[0m \u001b[0mre\u001b[0m\u001b[0;34m.\u001b[0m\u001b[0msearch\u001b[0m\u001b[0;34m(\u001b[0m\u001b[0;34mr'[^\\.\\:\\?]'\u001b[0m\u001b[0;34m,\u001b[0m \u001b[0mprev_line_end\u001b[0m\u001b[0;34m)\u001b[0m\u001b[0;34m:\u001b[0m\u001b[0;34m\u001b[0m\n\u001b[0;34m\u001b[0m                \u001b[0mlines\u001b[0m\u001b[0;34m[\u001b[0m\u001b[0;34m-\u001b[0m\u001b[0;36m1\u001b[0m\u001b[0;34m]\u001b[0m \u001b[0;34m=\u001b[0m \u001b[0mprev_line\u001b[0m\u001b[0;34m.\u001b[0m\u001b[0mrstrip\u001b[0m\u001b[0;34m(\u001b[0m\u001b[0;34m'-'\u001b[0m\u001b[0;34m)\u001b[0m\u001b[0;34m.\u001b[0m\u001b[0mstrip\u001b[0m\u001b[0;34m(\u001b[0m\u001b[0;34m)\u001b[0m \u001b[0;34m+\u001b[0m \u001b[0;34m' '\u001b[0m \u001b[0;34m+\u001b[0m \u001b[0mline\u001b[0m\u001b[0;34m\u001b[0m\n\u001b[0;34m\u001b[0m            \u001b[0;32melse\u001b[0m\u001b[0;34m:\u001b[0m\u001b[0;34m\u001b[0m\n\u001b[0;34m\u001b[0m                \u001b[0mlines\u001b[0m\u001b[0;34m.\u001b[0m\u001b[0mappend\u001b[0m\u001b[0;34m(\u001b[0m\u001b[0mline\u001b[0m\u001b[0;34m)\u001b[0m\u001b[0;34m\u001b[0m\n\u001b[0;34m\u001b[0m\u001b[0;34m\u001b[0m\n\u001b[0;34m\u001b[0m        \u001b[0;32mif\u001b[0m \u001b[0mlines\u001b[0m\u001b[0;34m:\u001b[0m\u001b[0;34m\u001b[0m\n\u001b[0;34m\u001b[0m            \u001b[0mlines\u001b[0m\u001b[0;34m[\u001b[0m\u001b[0;34m-\u001b[0m\u001b[0;36m1\u001b[0m\u001b[0;34m]\u001b[0m \u001b[0;34m=\u001b[0m \u001b[0mlines\u001b[0m\u001b[0;34m[\u001b[0m\u001b[0;34m-\u001b[0m\u001b[0;36m1\u001b[0m\u001b[0;34m]\u001b[0m\u001b[0;34m.\u001b[0m\u001b[0mstrip\u001b[0m\u001b[0;34m(\u001b[0m\u001b[0;34m)\u001b[0m\u001b[0;34m\u001b[0m\n\u001b[0;34m\u001b[0m\u001b[0;34m\u001b[0m\n\u001b[0;34m\u001b[0m        \u001b[0mparagraph\u001b[0m \u001b[0;34m=\u001b[0m \u001b[0;34m'\\n'\u001b[0m\u001b[0;34m.\u001b[0m\u001b[0mjoin\u001b[0m\u001b[0;34m(\u001b[0m\u001b[0mlines\u001b[0m\u001b[0;34m)\u001b[0m\u001b[0;34m\u001b[0m\n\u001b[0;34m\u001b[0m\u001b[0;34m\u001b[0m\n\u001b[0;34m\u001b[0m        \u001b[0;32mfor\u001b[0m \u001b[0mrc\u001b[0m \u001b[0;32min\u001b[0m \u001b[0mreplace_chars\u001b[0m\u001b[0;34m:\u001b[0m\u001b[0;34m\u001b[0m\n\u001b[0;34m\u001b[0m            \u001b[0mparagraph\u001b[0m \u001b[0;34m=\u001b[0m \u001b[0mparagraph\u001b[0m\u001b[0;34m.\u001b[0m\u001b[0mreplace\u001b[0m\u001b[0;34m(\u001b[0m\u001b[0mrc\u001b[0m\u001b[0;34m,\u001b[0m \u001b[0mreplace_chars\u001b[0m\u001b[0;34m[\u001b[0m\u001b[0mrc\u001b[0m\u001b[0;34m]\u001b[0m\u001b[0;34m)\u001b[0m\u001b[0;34m\u001b[0m\n\u001b[0;34m\u001b[0m\u001b[0;34m\u001b[0m\n\u001b[0;34m\u001b[0m        \u001b[0;32mreturn\u001b[0m \u001b[0mparagraph\u001b[0m\u001b[0;34m\u001b[0m\u001b[0;34m\u001b[0m\u001b[0m\n\u001b[0;31mFile:\u001b[0m      ~/WBG/wb_nlp/src/wb_nlp/processing/document.py\n\u001b[0;31mType:\u001b[0m      function\n"
    }
   ],
   "source": [
    "??pdf_parser.consolidate_paragraph"
   ]
  },
  {
   "cell_type": "markdown",
   "metadata": {},
   "source": [
    "# Example\n",
    "\n",
    "### Run tika docker image first.\n",
    "\n",
    "https://hub.docker.com/r/apache/tika\n",
    "\n",
    "```\n",
    "sudo docker pull apache/tika\n",
    "sudo docker run -d -p 9998:9998 apache/tika\n",
    "```"
   ]
  },
  {
   "cell_type": "markdown",
   "metadata": {},
   "source": [
    "The WB Docs repository contains pdf and txt versions of documents. However, some text versions are not formatted properly."
   ]
  },
  {
   "cell_type": "code",
   "execution_count": 129,
   "metadata": {},
   "outputs": [],
   "source": [
    "import requests\n",
    "\n",
    "url = 'http://documents1.worldbank.org/curated/en/735931527600661308/text/126663-WP-PUBLIC-P164538-Malawi-Economic-Monitor-7-Realizing-Safety-Nets-Potential.txt'\n",
    "txt_original = requests.get(url).content.decode('utf-8')\n",
    "\n",
    "# pdf_url = 'http://documents1.worldbank.org/curated/en/735931527600661308/pdf/126663-WP-PUBLIC-P164538-Malawi-Economic-Monitor-7-Realizing-Safety-Nets-Potential.pdf'\n",
    "\n",
    "pdf_url = 'https://openknowledge.worldbank.org/bitstream/handle/10986/34013/Designing-a-Credit-Facility-for-Women-Entrepreneurs-Lessons-from-the-Ethiopia-Women-Entrepreneurship-Development-Project.pdf?sequence=4&isAllowed=y'\n",
    "txt_parsed = pdf_parser.parse(source=pdf_url, source_type='url')"
   ]
  },
  {
   "cell_type": "code",
   "execution_count": 130,
   "metadata": {},
   "outputs": [],
   "source": [
    "buffer = requests.get(pdf_url).content\n",
    "xml = document.parser.from_buffer(buffer, xmlContent=True)['content']"
   ]
  },
  {
   "cell_type": "code",
   "execution_count": 131,
   "metadata": {},
   "outputs": [],
   "source": [
    "xmlB = document.BeautifulSoup(xml, features='html.parser')"
   ]
  },
  {
   "cell_type": "code",
   "execution_count": 286,
   "metadata": {},
   "outputs": [],
   "source": [
    "nlp = spacy.load('en_core_web_sm')"
   ]
  },
  {
   "cell_type": "markdown",
   "metadata": {},
   "source": [
    "Cleaning process:\n",
    "\n",
    "- If coming from pdf, parse with tika to convert into xml using xmlContent=True.\n",
    "- Process text per page. If page contains very few or no sentences, we could drop it since it may be a page full of tables or other details.\n",
    "- Expand acronyms.\n",
    "- Check length of text.\n",
    "- Lemmatize.\n",
    "- Remove noise.\n",
    "- Detect language.\n",
    "- Spell check.\n",
    "- Respeller.\n",
    "- Plural-singular map?\n",
    "- Create recognizers of entities, e.g., countries, names, places, etc.\n",
    "\n",
    "\n",
    "\n"
   ]
  },
  {
   "cell_type": "code",
   "execution_count": 468,
   "metadata": {},
   "outputs": [],
   "source": [
    "import importlib\n",
    "import wb_nlp.extraction.extractor as extractor\n",
    "\n",
    "importlib.reload(extractor)\n",
    "ce = extractor.CountryExtractor(nlp, lower=True)"
   ]
  },
  {
   "cell_type": "code",
   "execution_count": 555,
   "metadata": {},
   "outputs": [],
   "source": [
    "from wb_nlp.cleaning import cleaner\n",
    "importlib.reload(cleaner)\n",
    "lda_cleaner = cleaner.LDACleaner()"
   ]
  },
  {
   "cell_type": "code",
   "execution_count": 540,
   "metadata": {},
   "outputs": [],
   "source": [
    "from enchant.checker import SpellChecker \n",
    "\n",
    "# https://spacy.io/api/annotation\n",
    "POS_TAGS = ['POS', 'ADJ', 'ADP', 'ADV', 'AUX', 'CONJ', 'CCONJ', 'DET', 'INTJ', 'NOUN', 'NUM', 'PART', 'PRON', 'PROPN', 'PUNCT', 'SCONJ', 'SYM', 'VERB', 'X', 'SPACE']\n",
    "\n",
    "LDA_POS_TAGS = [\n",
    "    'ADJ', 'NOUN', 'PROPN', 'VERB'\n",
    "]\n",
    "\n",
    "LDA_INVALID_ENT_TYPE = [\n",
    "    'GPE', 'COUNTRY', 'PERSON','ORG',\n",
    "    'DATE', 'TIME', 'PERCENT', 'MONEY', 'QUANTITY',\n",
    "    'ORDINAL',\n",
    "    'CARDINAL',\n",
    "]\n",
    "\n",
    "EMBEDDING_POS_TAGS = [\n",
    "    'ADJ',\n",
    "    # 'ADP', 'ADV', 'AUX', 'CONJ', 'CCONJ', 'DET', 'INTJ',\n",
    "    # 'NUM', 'PART',\n",
    "    'NOUN', 'PROPN', 'VERB'\n",
    "]\n",
    "\n",
    "EMBEDDING_INVALID_ENT_TYPE = [\n",
    "    # 'DATE',\n",
    "    'TIME', 'PERCENT', 'MONEY',\n",
    "    # 'QUANTITY',\n",
    "    # 'ORDINAL',\n",
    "    'CARDINAL',\n",
    "]\n",
    "\n",
    "en = SpellChecker(\"en_US\")\n",
    "\n",
    "def clean_text(text, pos_tag, exclude_ent_type, reverse=True):    \n",
    "    # text = xmlB.find_all('div', attrs={'class': 'page'})[page_num].text\n",
    "    text = (\n",
    "        text\n",
    "        .replace('\\n', ' ')\n",
    "        .replace('’', \"'\")\n",
    "        .replace('“', '\"')\n",
    "        .replace('”', '\"')\n",
    "    )\n",
    "\n",
    "    text = re.sub('\\s+', ' ', text).strip().lower()\n",
    "\n",
    "    doc = nlp(text)\n",
    "    doc = ce(doc)\n",
    "\n",
    "    tokens = []\n",
    "\n",
    "    for t in doc:\n",
    "        condition = (\n",
    "            t.ent_type_ not in exclude_ent_type and\n",
    "            t.pos_ in pos_tag and\n",
    "            len(t) > 2 and\n",
    "            t.is_alpha)\n",
    "\n",
    "        if condition:\n",
    "\n",
    "            # if not en.check(t.text):\n",
    "            print((t.text, t.lemma_, t.pos_, t.ent_type_, t.ent_iob_, t._.normalized))\n",
    "\n",
    "            # tokens.append(t.lemma_)"
   ]
  },
  {
   "cell_type": "code",
   "execution_count": 563,
   "metadata": {
    "tags": []
   },
   "outputs": [
    {
     "output_type": "stream",
     "name": "stdout",
     "text": "CPU times: user 7.15 s, sys: 1.16 s, total: 8.31 s\nWall time: 8.37 s\n"
    }
   ],
   "source": [
    "%%time\n",
    "\n",
    "ct = lda_cleaner.clean_text(xmlB.text)"
   ]
  },
  {
   "cell_type": "code",
   "execution_count": 566,
   "metadata": {},
   "outputs": [
    {
     "output_type": "execute_result",
     "data": {
      "text/plain": "['document',\n 'credit',\n 'facility',\n 'woman',\n 'entrepreneur',\n 'ay',\n 'lesson',\n 'woman',\n 'entrepreneurship',\n 'development',\n 'project',\n 'lic',\n 'th',\n 'ri',\n 'lic',\n 'th',\n 'ri',\n 'lic',\n 'th',\n 'ri',\n 'lic',\n 'th',\n 'ri',\n 'ze',\n 'report',\n 'study',\n 'collaborative',\n 'effort',\n 'current',\n 'former',\n 'team',\n 'leader',\n 'task',\n 'team',\n 'member',\n 'report',\n 'senior',\n 'operation',\n 'officer',\n 'financial',\n 'sector',\n 'specialist',\n 'senior',\n 'financial',\n 'sector',\n 'economist',\n 'analyst',\n 'contribution',\n 'background',\n 'piece',\n 'senior',\n 'economist',\n 'economist',\n 'report',\n 'guidance',\n 'practice',\n 'manager',\n 'lead',\n 'economist',\n 'writing',\n 'introductory',\n 'section',\n 'report',\n 'overall',\n 'editing',\n 'consultant',\n 'ay',\n 'introduction',\n 'government',\n 'woman',\n 'entrepreneurship',\n 'development',\n 'project',\n 'aim',\n 'earning',\n 'employment',\n 'growth',\n 'micro',\n 'small',\n 'enterprise',\n 'woman',\n 'entrepreneur',\n 'woman',\n 'entrepreneur',\n 'line',\n 'credit',\n 'few',\n 'such',\n 'operation',\n 'world',\n 'addition',\n 'financing',\n 'variety',\n 'innovative',\n 'training',\n 'opportunity',\n 'business',\n 'skill',\n 'client',\n 'entrepreneurial']"
     },
     "metadata": {},
     "execution_count": 566
    }
   ],
   "source": [
    "ct[:100]"
   ]
  },
  {
   "cell_type": "code",
   "execution_count": 643,
   "metadata": {
    "tags": []
   },
   "outputs": [
    {
     "output_type": "stream",
     "name": "stdout",
     "text": "CPU times: user 88.5 ms, sys: 10.4 ms, total: 98.9 ms\nWall time: 98.7 ms\n"
    }
   ],
   "source": [
    "%%time\n",
    "doc = nlp(text)\n",
    "# doc = nlp(xmlB.text)"
   ]
  },
  {
   "cell_type": "code",
   "execution_count": 668,
   "metadata": {
    "tags": []
   },
   "outputs": [
    {
     "output_type": "stream",
     "name": "stdout",
     "text": "D D  PROPN\ni i  NOUN\ns s  VERB\nr r  NOUN\nu u  NOUN\np p  NOUN\nt t  NOUN\ni i  NOUN\nve ve  PROPN\nF F  PROPN\ni i  PROPN\nn n  CCONJ\na a  DET\nn n  ADJ\nce ce  NOUN\nU u  NOUN\ns s  NOUN\ni i  NOUN\nn n  CCONJ\ng g  NOUN\nP P  PROPN\nsyc syc  PROPN\nh h  NOUN\no o  NOUN\nm m  NOUN\net et  NOUN\nr r  NOUN\ni i  NOUN\nc c  NOUN\ns s  VERB\nto to  ADP\nO o  INTJ\nve ve  PROPN\nrco rco  PROPN\nm m  PROPN\ne e  PROPN\nCo Co  PROPN\nl l  PROPN\nl l  PROPN\nate ate  PROPN\nra ra  PROPN\nl l  PROPN\nCo Co  PROPN\nn n  PROPN\nst st  PROPN\nra ra  PROPN\ni i  PRON\nnt nt  PART\ns s  VERB\ni i  NOUN\nn n  CCONJ\nEt Et  PROPN\nh h  NOUN\ni i  NOUN\no o  NOUN\np p  NOUN\ni i  NOUN\na50 a50  NOUN\n5 5 CARDINAL NUM\nDisruptive Disruptive  PROPN\nFinance finance  NOUN\n: :  PUNCT\nUsing use  VERB\nPsychometrics Psychometrics  PROPN\nto to  PART\nOvercome overcome ORG VERB\nCollateral Collateral ORG PROPN\nConstraints Constraints ORG PROPN\nin in  ADP\nEthiopia Ethiopia GPE PROPN\nFebruary February DATE PROPN\n2019 2019 DATE NUM\nThe the  DET\nSituation situation  NOUN\nin in  ADP\nEthiopia Ethiopia GPE PROPN\nOver over  ADP\nthe the DATE DET\npast past DATE ADJ\ndecade decade DATE NOUN\n, ,  PUNCT\nEthiopia Ethiopia GPE PROPN\nhas have  AUX\nachieved achieve  VERB\nhigh high  ADJ\neconomic economic  ADJ\ngrowth growth  NOUN\n, ,  PUNCT\nestablishing establish  VERB\nthe the  DET\ncountry country  NOUN\namong among  ADP\nthe the  DET\nfastest fast  ADJ\ngrowing grow  VERB\neconomies economy  NOUN\nboth both  DET\nin in  ADP\nAfrica Africa LOC PROPN\nand and  CCONJ\nthe the  DET\ndeveloping develop  VERB\nworld world  NOUN\n. .  PUNCT\nHowever however  ADV\n, ,  PUNCT\nEthiopia Ethiopia GPE PROPN\nis be  AUX\nfalling fall  VERB\nbehind behind  ADP\nits -PRON-  DET\npeers peer  NOUN\nin in  ADP\nthe the  DET\narea area  NOUN\nof of  ADP\nprovision provision  NOUN\nof of  ADP\ncredit credit  NOUN\nto to  ADP\nthe the  DET\nprivate private  ADJ\nsector sector  NOUN\n. .  PUNCT\nAccording accord  VERB\nto to  ADP\nthe the ORG DET\nWorld World ORG PROPN\nBank Bank ORG PROPN\n's 's ORG PART\nEnterprise Enterprise ORG PROPN\nSurveys survey ORG NOUN\naccess access  NOUN\nto to  ADP\nfinance finance  NOUN\nis be  AUX\nperceived perceive  VERB\nas as  SCONJ\nthe the  DET\nmain main  ADJ\nbusiness business  NOUN\nenvironment environment  NOUN\nconstraint constraint  NOUN\nby by  ADP\nmicro micro  PROPN\n( (  PUNCT\n41 41 PERCENT NUM\n% % PERCENT NOUN\n) )  PUNCT\n, ,  PUNCT\nsmall small  ADJ\n( (  PUNCT\n36 36 PERCENT NUM\n% % PERCENT NOUN\n) )  PUNCT\nand and  CCONJ\nmedium medium  NOUN\n( (  PUNCT\n29 29 PERCENT NUM\n% % PERCENT NOUN\n) )  PUNCT\nenterprises enterprise  NOUN\nin in  ADP\nEthiopia Ethiopia GPE PROPN\n, ,  PUNCT\ncompared compare  VERB\nto to  ADP\na a  DET\nSub Sub PERSON PROPN\n- - PERSON PUNCT\nSaharan Saharan PERSON PROPN\naverage average  NOUN\nof of  ADP\n24 24 PERCENT NUM\n% % PERCENT NOUN\n, ,  PUNCT\n20 20 PERCENT NUM\n% % PERCENT NOUN\nand and  CCONJ\n16 16 PERCENT NUM\n% % PERCENT NOUN\nrespectively.13 respectively.13  PROPN\nAccess Access  PROPN\nto to  ADP\nfinance finance  NOUN\nis be  AUX\na a  DET\nchallenge challenge  NOUN\nfor for  ADP\nmen man  NOUN\nand and  CCONJ\nwomen woman  NOUN\nalike alike  ADV\nbut but  CCONJ\ndifficulties difficulty  NOUN\nare be  AUX\namplified amplify  VERB\nfor for  ADP\nwomen woman  NOUN\n, ,  PUNCT\nwho who  PRON\nare be  AUX\nless less  ADV\nlikely likely  ADJ\nto to  PART\nown own  VERB\nassets asset  NOUN\n, ,  PUNCT\nand and  CCONJ\nopportunities opportunity  NOUN\nfor for  ADP\nwomen woman  NOUN\nentrepreneurs entrepreneur  NOUN\nin in  ADP\nEthiopia Ethiopia GPE PROPN\nlag lag  VERB\nfar far  ADV\nbehind behind  ADP\nthose those  DET\nof of  ADP\nmen man  NOUN\n. .  PUNCT\nIn in  ADP\nthe the  DET\nEconomist Economist  PROPN\n's 's  PART\nWomen Women ORG PROPN\n's 's ORG PART\nEconomic Economic ORG PROPN\nOpportunity Opportunity ORG PROPN\nindex index  NOUN\n, ,  PUNCT\nEthiopia Ethiopia GPE PROPN\noccupies occupy  VERB\nthe the  DET\n123rd 123rd NORP ADJ\nrank rank  NOUN\nout out  SCONJ\nof of  ADP\n128 128 CARDINAL NUM\ncountries country  NOUN\n. .  PUNCT\n_ _  NOUN\n14 14 CARDINAL NUM\nMost Most  ADJ\ngrowth growth  NOUN\n- -  PUNCT\noriented orient  VERB\nwomen woman  NOUN\nentrepreneurs entrepreneur  NOUN\nfall fall  VERB\ninto into  ADP\na a  DET\n‘ '  PUNCT\nmissing miss  VERB\nmiddle middle  NOUN\n' '  PUNCT\ntrap trap  NOUN\n, ,  PUNCT\nin in  ADP\nwhich which  DET\nthey -PRON-  PRON\nare be  AUX\nserved serve  VERB\nneither neither  CCONJ\nby by  ADP\ncommercial commercial  ADJ\nbanks bank  NOUN\nnor nor  CCONJ\nby by  ADP\nmicrofinance microfinance  NOUN\nsituations situation  NOUN\n. .  PUNCT\nHigh high  ADJ\nminimum minimum  ADJ\nloan loan  NOUN\nsizes size  NOUN\nand and  CCONJ\nexcessive excessive  ADJ\ncollateral collateral  ADJ\nconstraints constraint  NOUN\nrestrict restrict  VERB\nwomen woman  NOUN\n's 's  PART\naccess access  NOUN\nto to  ADP\nloans loan  NOUN\nfrom from  ADP\ncommercial commercial  ADJ\nbanks bank  NOUN\n. .  PUNCT\nMicrofinance microfinance  NOUN\ninstitutions institution  NOUN\n( (  PUNCT\nMFIs MFIs  PROPN\n) )  PUNCT\noften often  ADV\nlend lend  VERB\nwithout without  ADP\nasset asset  NOUN\ncollateral collateral  NOUN\n, ,  PUNCT\nbut but  CCONJ\nthey -PRON-  PRON\nprimarily primarily  ADV\ncater cater  VERB\nto to  ADP\nmicro micro  NOUN\n- -  NOUN\nfirms firm  NOUN\nwith with  ADP\ngroup group  NOUN\nlending lending  NOUN\nschemes scheme  NOUN\nthat that  DET\nprovide provide  VERB\nvery very  ADV\nsmall small  ADJ\nloans loan  NOUN\n, ,  PUNCT\nwhich which  DET\nare be  AUX\nnot not  PART\nsufficient sufficient  ADJ\nin in  ADP\nsize size  NOUN\nto to  PART\nsupport support  VERB\nbusiness business  NOUN\ngrowth growth  NOUN\n. .  PUNCT\nIn in  ADP\n2012 2012 DATE NUM\n, ,  PUNCT\na a  DET\n$ $ MONEY SYM\n50 50 MONEY NUM\nmillion million MONEY NUM\nWorld World ORG PROPN\nBank Bank ORG PROPN\ninvestment investment  NOUN\nlending lending  NOUN\noperation operation  NOUN\nwas be  AUX\ndesigned design  VERB\nto to  PART\naddress address  VERB\nthis this  DET\nmissing miss  VERB\nmiddle middle  ADJ\nchallenge challenge  NOUN\n. .  PUNCT\nThe the ORG DET\nWomen Women ORG PROPN\nEntrepreneurship Entrepreneurship ORG PROPN\nDevelopment Development ORG PROPN\nProject Project ORG PROPN\n( (  PUNCT\nWEDP WEDP ORG PROPN\n) )  PUNCT\naimed aim  VERB\nto to  PART\nincrease increase  VERB\nthe the  DET\nearnings earning  NOUN\nand and  CCONJ\nemployment employment  NOUN\nof of  ADP\nfemale female  NOUN\n- -  PUNCT\nowned own  VERB\nmicro micro  ADJ\nand and  CCONJ\nsmall small  ADJ\nenterprises enterprise  NOUN\nin in  ADP\nEthiopia Ethiopia GPE PROPN\n, ,  PUNCT\nby by  ADP\nimproving improve  VERB\nthe the  DET\ncapacity capacity  NOUN\nof of  ADP\nexisting exist  VERB\nmicrofinance microfinance  NOUN\ninstitutions institution  NOUN\nto to  PART\nserve serve  VERB\nfemale female  ADJ\nentrepreneurs entrepreneur  NOUN\n. .  PUNCT\nTo to  PART\ndo do  AUX\nthis this  DET\n, ,  PUNCT\nMFIs mfi  NOUN\nwere be  AUX\nprovided provide  VERB\nwith with  ADP\ntools tool  NOUN\n, ,  PUNCT\ntechnical technical  ADJ\nassistance assistance  NOUN\n, ,  PUNCT\nand and  CCONJ\nliquidity liquidity  NOUN\nto to  PART\nallow allow  VERB\nthem -PRON-  PRON\nto to  PART\n‘ '  PUNCT\nupscale upscale  VERB\n' '  PUNCT\nand and  CCONJ\nprovider provider  NOUN\nlarger large  ADJ\n, ,  PUNCT\nindividual individual  ADJ\nloans loan  NOUN\nto to  ADP\ngrowth growth  NOUN\n- -  PUNCT\noriented orient  VERB\nwomen woman  NOUN\nentrepreneurs entrepreneur  NOUN\nwho who  PRON\nneeded need  VERB\nthem -PRON-  PRON\n. .  PUNCT\nIn in  ADP\naddition addition  NOUN\nto to  ADP\nintroducing introduce  VERB\nMFIs mfi  NOUN\nto to  ADP\nexisting exist  VERB\nbest good  ADJ\npractices practice  NOUN\nin in  ADP\nindividual individual  ADJ\nlending lending  NOUN\n, ,  PUNCT\nthe the  DET\nWorld World ORG PROPN\nBank Bank ORG PROPN\nteam team  NOUN\nalso also  ADV\nsought seek  VERB\nto to  PART\nintroduce introduce  VERB\ninnovations innovation  NOUN\nthat that  DET\ncould could  VERB\nenable enable  VERB\nMFIs mfi  NOUN\nto to  PART\nreach reach  VERB\na a  DET\ngreater great  ADJ\nnumber number  NOUN\nof of  ADP\nwomen woman  NOUN\nentrepreneurs entrepreneur  NOUN\nwith with  ADP\nindividual individual  ADJ\nloans loan  NOUN\n( (  PUNCT\nSee see  VERB\nExhibit exhibit  NOUN\n3 3  NUM\n) )  PUNCT\n. .  PUNCT\nThe the  DET\nLender Lender  PROPN\nand and  CCONJ\nthe the  DET\nFintech Fintech ORG PROPN\nAfter after  ADP\ndeciding decide  VERB\non on  ADP\nEFL EFL ORG PROPN\n's 's  PART\npsychometric psychometric  ADJ\ncredit credit  NOUN\nassessment assessment  NOUN\ntool tool  NOUN\n, ,  PUNCT\nthe the  DET\nnext next  ADJ\nstep step  NOUN\nwas be  AUX\nto to  PART\ndecide decide  VERB\nwhich which  DET\nmicrofinance microfinance  NOUN\ninstitution institution  NOUN\nin in  ADP\nEthiopia Ethiopia GPE PROPN\nwould would  VERB\nbe be  AUX\nthe the  DET\nbest good  ADJ\npartner partner  NOUN\nfor for  ADP\na a  DET\npilot pilot  NOUN\n. .  PUNCT\nAt at  ADP\nthe the  DET\ntime time  NOUN\n, ,  PUNCT\nthe the  DET\nWEDP WEDP FAC PROPN\nproject project  NOUN\ninvolved involve  VERB\n7 7 CARDINAL NUM\nof of  ADP\nthe the  DET\ncountry country  NOUN\n's 's  PART\nleading lead  VERB\nMFIs mfi  NOUN\n. .  PUNCT\nAfter after  ADP\nintroducing introduce  VERB\nthe the  DET\ntechnology technology  NOUN\nto to  ADP\neach each  DET\nof of  ADP\nthem -PRON-  PRON\nand and  CCONJ\nconducting conduct  VERB\na a  DET\ncareful careful  ADJ\nassessment assessment  NOUN\n, ,  PUNCT\none one CARDINAL NUM\nMFI MFI  PROPN\n- -  PUNCT\nthe the ORG DET\nAmhara Amhara ORG PROPN\nCredit Credit ORG PROPN\nand and ORG CCONJ\nSavings Savings ORG PROPN\nInstitute Institute ORG PROPN\n( (  PUNCT\nACSI ACSI  PROPN\n) )  PUNCT\n- -  PUNCT\ncame come  VERB\nout out  ADP\nas as  SCONJ\nthe the  DET\nleading lead  VERB\ncandidate candidate  NOUN\n. .  PUNCT\nLocated locate  VERB\nin in  ADP\nthe the  DET\nAmhara Amhara GPE PROPN\nregion region  NOUN\nof of  ADP\nEthiopia Ethiopia GPE PROPN\n, ,  PUNCT\nACSI ACSI  PROPN\nwas be  AUX\nthe the  DET\nlargest large  ADJ\nMFI MFI  PROPN\nin in  ADP\nthe the  DET\ncountry country  NOUN\n, ,  PUNCT\nwith with  ADP\nover over  ADP\n1 1 CARDINAL NUM\nmillion million CARDINAL NUM\nactive active  ADJ\nborrowers borrower  NOUN\nand and  CCONJ\n440 440 CARDINAL NUM\nbranches branch  NOUN\n( (  PUNCT\nSee see  VERB\nExhibit Exhibit  PROPN\n4 4  NUM\n) )  PUNCT\n. .  PUNCT\nACSI ACSI  PROPN\nhad have  AUX\na a  DET\nwell well  ADV\n- -  PUNCT\nestablished establish  VERB\nbusiness business  NOUN\nin in  ADP\nthe the  DET\ngroup group  NOUN\nlending lending  NOUN\nmarket market  NOUN\nbut but  CCONJ\nindividual individual  ADJ\nlending lending  NOUN\nwas be  AUX\nstill still  ADV\na a  DET\nnew new  ADJ\nproduct product  NOUN\nline line  NOUN\n. .  PUNCT\nIndividual individual  ADJ\nloans loan  NOUN\nmade make  VERB\nup up  ADP\njust just PERCENT ADV\nover over PERCENT ADP\n10 10 PERCENT NUM\n% % PERCENT NOUN\nof of  ADP\nACSI ACSI ORG PROPN\n's 's  PART\nlending lending  NOUN\nportfolio portfolio  NOUN\nand and  CCONJ\nscreening screening  NOUN\nfor for  ADP\nindividual individual  ADJ\nloans loan  NOUN\nwas be  AUX\nstill still  ADV\nbased base  VERB\non on  ADP\na a  DET\ntraditional traditional  ADJ\nappraisal appraisal  NOUN\nmechanism mechanism  NOUN\nthat that  DET\nrelied rely  VERB\nheavily heavily  ADV\non on  ADP\nthe the  DET\nexistence existence  NOUN\nof of  ADP\nfixed fix  VERB\nasset asset  NOUN\ncollateral collateral  NOUN\n, ,  PUNCT\nsuch such  ADJ\nas as  SCONJ\nhouses house  NOUN\nor or  CCONJ\nbuildings building  NOUN\n. .  PUNCT\nACSI ACSI  PROPN\nsaw see  VERB\nthe the  DET\npilot pilot  NOUN\nproject project  NOUN\nas as  SCONJ\nan an  DET\nopportunity opportunity  NOUN\nto to  PART\nimprove improve  VERB\ntheir -PRON-  DET\nability ability  NOUN\nto to  PART\nlend lend  VERB\non on  ADP\nan an  DET\nindividual individual  ADJ\nbasis basis  NOUN\n. .  PUNCT\nThey -PRON-  PRON\nwere be  AUX\noptimistic optimistic  ADJ\nthat that  SCONJ\nthe the  DET\npsychometric psychometric  ADJ\nscore score  NOUN\ncould could  VERB\nbe be  AUX\nused use  VERB\nto to  PART\nhelp help  VERB\ngraduate graduate  VERB\ngroup group  NOUN\nborrowers borrower  NOUN\nwho who  PRON\nlacked lack  VERB\ncollateral collateral  NOUN\nand and  CCONJ\ntherefore therefore  ADV\ndid do  AUX\nnot not  PART\nqualify qualify  VERB\nfor for  ADP\nindividual individual  ADJ\nloans loan  NOUN\nunder under  ADP\nthe the  DET\ncurrent current  ADJ\ncredit credit  NOUN\nassessment assessment  NOUN\nprocesses process  VERB\n. .  PUNCT\nThis this  DET\nwould would  VERB\nallow allow  VERB\nformer former  ADJ\ngroup group  NOUN\nborrowers borrower  NOUN\nto to  PART\naccess access  VERB\n13 13 CARDINAL NUM\n\" \"  PUNCT\nSME SME  PROPN\nFinance Finance  PROPN\nin in  ADP\nEthiopia Ethiopia GPE PROPN\n: :  PUNCT\nAddressing address  VERB\nthe the  DET\nMissing miss  VERB\nMiddle Middle  PROPN\nChallenge\",World Challenge\",World  PROPN\nBank Bank  PROPN\nGroup Group  PROPN\n, ,  PUNCT\n2015 2015 DATE NUM\n, ,  PUNCT\ndocuments.worldbank.org/curated/en/805371468247458154/ documents.worldbank.org/curated/en/805371468247458154/  PROPN\npdf/943650WP0Box380nt0Feb01002015040Web.pdf pdf/943650WP0Box380nt0Feb01002015040Web.pdf  PROPN\n. .  PROPN\n14 14 CARDINAL NUM\n\" \"  PUNCT\nWomen Women  PROPN\n's 's  PART\nEconomic Economic  PROPN\nOpportunity Opportunity  PROPN\nIndex Index  PROPN\n2012 2012 DATE NUM\n\" \"  PUNCT\n, ,  PUNCT\nThe the  DET\nEconomist Economist  PROPN\n, ,  PUNCT\nwww.eiu.com/Handlers/WhitepaperHandler.ashx?fi=WEO_full_report_final www.eiu.com/Handlers/WhitepaperHandler.ashx?fi=WEO_full_report_final  PROPN\n. .  PUNCT\npdf&mode pdf&mode  PROPN\n= =  PUNCT\nwp&campaignid wp&campaignid  PROPN\n= =  SYM\nweoindex2012 weoindex2012  PROPN\n. .  PUNCT\nEXHIBIT exhibit DATE NOUN\n4 4 DATE NUM\nName name  NOUN\nACSI ACSI  PROPN\nNo no  INTJ\n. .  NOUN\nof of  ADP\nActive Active ORG PROPN\nBorrowers Borrowers ORG PROPN\n1,056,390 1,056,390 ORG NUM\nNo no  INTJ\n. .  PUNCT\nof of  ADP\nWomen Women  PROPN\nBorrowers Borrowers  PROPN\n621,245 621,245 CARDINAL NUM\nLoans loan  NOUN\nOutstanding outstanding  ADJ\n8,568,663,201 8,568,663,201 CARDINAL NUM\nVoluntary voluntary  ADJ\nSaving Saving  PROPN\n7,431,441,029 7,431,441,029 CARDINAL NUM\nCompulsory Compulsory  PROPN\nSaving Saving  PROPN\n787,699,181 787,699,181 CARDINAL NUM\nTotal total  ADJ\nSaving Saving  PROPN\n8,219,140,210 8,219,140,210  NUM\nTotal Total  PROPN\nAsset Asset  PROPN\n13,898,277,412 13,898,277,412 CARDINAL NUM\nTotal Total  PROPN\nLiabilities Liabilities  PROPN\n10,668,396,923 10,668,396,923  NUM\nTotal Total ORG PROPN\nCapital Capital ORG PROPN\n3,229,880,489 3,229,880,489 ORG PROPN\nAssociation Association ORG PROPN\nof of ORG ADP\nEthiopian Ethiopian ORG PROPN\nMicrofinance Microfinance ORG PROPN\nInstitutions Institutions ORG PROPN\n( (  PUNCT\nAEMFI AEMFI  PROPN\n) )  PUNCT\nData Data  PROPN\non on  ADP\nACSI ACSI  PROPN\nMFI MFI  PROPN\n1st 1st  NOUN\nQuarter Quarter DATE PROPN\n- - DATE PUNCT\nMarch March DATE PROPN\n31 31 DATE NUM\n, , DATE PUNCT\n2016 2016 DATE NUM\nETB ETB  PROPN\n= =  SYM\n.046 .046  NUM\nUSD usd  NOUN\ntomorrow tomorrow  NOUN\nwe -PRON-  PRON\nsee see  VERB\nclimate climate  NOUN\nchange change  NOUN\nin in  ADP\nJanuary January DATE PROPN\n2019 2019 DATE NUM\nof of DATE ADP\n2020 2020 DATE NUM\nwith with  ADP\n10 10 QUANTITY NUM\nkilograms kilogram QUANTITY NOUN\nof of  ADP\nrice rice  NOUN\n. .  PUNCT\nWe -PRON-  PRON\nalso also  ADV\nexpect expect  VERB\nthat that  SCONJ\nthe the  DET\nprivate private  ADJ\n- -  PUNCT\npublic public  ADJ\npartnership partnership  NOUN\nin in  ADP\nthis this  DET\nproject project  NOUN\nwill will  VERB\nwork work  VERB\n. .  PUNCT\nWe -PRON-  PRON\nthink think  VERB\nthat that  SCONJ\nthe the  DET\npurchasing purchasing  NOUN\npower power  NOUN\nparity parity  NOUN\nof of  ADP\nthe the  DET\ncountry country  NOUN\nis be  AUX\nlow low  ADJ\n. .  PUNCT\nCPU times: user 268 ms, sys: 95.6 ms, total: 364 ms\nWall time: 501 ms\n"
    }
   ],
   "source": [
    "%%time\n",
    "\n",
    "comp_nouns = []\n",
    "curr_noun = []\n",
    "for t in doc:\n",
    "    print(t.text, t.lemma_, t.ent_type_, t.pos_)\n",
    "\n",
    "    if not (t.is_alpha and len(t) >= 3):\n",
    "        if t.text == '-':\n",
    "            continue\n",
    "        \n",
    "        if len(curr_noun) > 1:\n",
    "            comp_nouns.append('_'.join(curr_noun))\n",
    "\n",
    "        curr_noun = []\n",
    "        continue\n",
    "\n",
    "    # if not curr_noun and t.pos_\n",
    "    if t.pos_ in ['ADJ', 'NOUN']:\n",
    "        curr_noun.append(t.lemma_ if t.lower_ != 'data' else t.lower_)\n",
    "    else:\n",
    "        if len(curr_noun) > 1:\n",
    "            comp_nouns.append('_'.join(curr_noun))\n",
    "        curr_noun = []"
   ]
  },
  {
   "cell_type": "code",
   "execution_count": 670,
   "metadata": {},
   "outputs": [
    {
     "output_type": "execute_result",
     "data": {
      "text/plain": "['past_decade',\n 'high_economic_growth',\n 'private_sector',\n 'survey_access',\n 'main_business_environment_constraint',\n 'woman_entrepreneur',\n 'Most_growth',\n 'woman_entrepreneur',\n 'commercial_bank',\n 'microfinance_situation',\n 'high_minimum_loan_size',\n 'excessive_collateral_constraint',\n 'commercial_bank',\n 'microfinance_institution',\n 'asset_collateral',\n 'micro_firm',\n 'group_lending_scheme',\n 'small_loan',\n 'business_growth',\n 'investment_lending_operation',\n 'middle_challenge',\n 'small_enterprise',\n 'microfinance_institution',\n 'female_entrepreneur',\n 'technical_assistance',\n 'provider_large',\n 'individual_loan',\n 'woman_entrepreneur',\n 'good_practice',\n 'individual_lending',\n 'great_number',\n 'woman_entrepreneur',\n 'individual_loan',\n 'psychometric_credit_assessment_tool',\n 'next_step',\n 'microfinance_institution',\n 'good_partner',\n 'careful_assessment',\n 'active_borrower',\n 'group_lending_market',\n 'individual_lending',\n 'new_product_line',\n 'individual_loan',\n 'lending_portfolio',\n 'individual_loan',\n 'traditional_appraisal_mechanism',\n 'asset_collateral',\n 'pilot_project',\n 'individual_basis',\n 'psychometric_score',\n 'group_borrower',\n 'individual_loan',\n 'current_credit_assessment',\n 'former_group_borrower',\n 'loan_outstanding',\n 'usd_tomorrow',\n 'climate_change',\n 'private_public_partnership',\n 'purchasing_power_parity']"
     },
     "metadata": {},
     "execution_count": 670
    }
   ],
   "source": [
    "comp_nouns[:1000]"
   ]
  },
  {
   "cell_type": "code",
   "execution_count": 649,
   "metadata": {},
   "outputs": [
    {
     "output_type": "execute_result",
     "data": {
      "text/plain": "['area_provision_credit',\n 'survey_access_finance',\n 'business_environment_constraint',\n 'medium_enterprise',\n 'finance_challenge',\n 'woman_entrepreneur',\n 'woman_entrepreneur',\n 'middle_trap',\n 'microfinance_situation',\n 'loan_size',\n 'woman_access_loan',\n 'bank_microfinance_institution',\n 'asset_collateral',\n 'micro_firm',\n 'group_lending_scheme',\n 'business_growth',\n 'investment_lending_operation',\n 'employment_female',\n 'microfinance_institution',\n 'loan_growth',\n 'woman_entrepreneur',\n 'number_woman_entrepreneur',\n 'credit_assessment_tool',\n 'microfinance_institution',\n 'group_lending_market',\n 'product_line',\n 'lending_portfolio',\n 'appraisal_mechanism',\n 'asset_collateral',\n 'house_building',\n 'pilot_project_opportunity',\n 'group_borrower',\n 'credit_assessment',\n 'group_borrower',\n 'exhibit_name',\n 'usd_tomorrow',\n 'climate_change',\n 'kilogram_rice',\n 'purchasing_power_parity']"
     },
     "metadata": {},
     "execution_count": 649
    }
   ],
   "source": [
    "comp_nouns[:1000]"
   ]
  },
  {
   "cell_type": "code",
   "execution_count": 626,
   "metadata": {
    "tags": []
   },
   "outputs": [
    {
     "output_type": "stream",
     "name": "stdout",
     "text": "CPU times: user 69 µs, sys: 1e+03 ns, total: 70 µs\nWall time: 72 µs\n"
    }
   ],
   "source": [
    "%%time\n",
    "\n",
    "from spacy.matcher import Matcher\n",
    "matcher = Matcher(nlp.vocab)\n",
    "\n",
    "pattern = [{'POS': 'NOUN'}, {'POS': 'NOUN', 'OP': '+'}]\n",
    "matcher.add('NOUN_SEQUENCE', None, pattern)\n"
   ]
  },
  {
   "cell_type": "code",
   "execution_count": 627,
   "metadata": {
    "tags": []
   },
   "outputs": [
    {
     "output_type": "stream",
     "name": "stdout",
     "text": "CPU times: user 273 ms, sys: 8.19 ms, total: 282 ms\nWall time: 283 ms\n"
    },
    {
     "output_type": "execute_result",
     "data": {
      "text/plain": "2316"
     },
     "metadata": {},
     "execution_count": 627
    }
   ],
   "source": [
    "%%time\n",
    "m = matcher(doc)\n",
    "\n",
    "d = pd.DataFrame(m, columns=['id', 'start', 'end'])\n",
    "d = d.sort_values(['end', 'start'], ascending=[False, True]).drop_duplicates('end').drop_duplicates('start')\n",
    "nn = []\n",
    "for _, row in d.iterrows():\n",
    "    nn.append(doc[row['start']: row['end']])\n",
    "len(nn)"
   ]
  },
  {
   "cell_type": "code",
   "execution_count": 597,
   "metadata": {},
   "outputs": [
    {
     "output_type": "execute_result",
     "data": {
      "text/plain": "r u p t i"
     },
     "metadata": {},
     "execution_count": 597
    }
   ],
   "source": [
    "doc[3:8]"
   ]
  },
  {
   "cell_type": "code",
   "execution_count": 612,
   "metadata": {
    "tags": []
   },
   "outputs": [
    {
     "output_type": "stream",
     "name": "stdout",
     "text": "CPU times: user 8.79 ms, sys: 273 µs, total: 9.07 ms\nWall time: 8.82 ms\n"
    },
    {
     "output_type": "execute_result",
     "data": {
      "text/plain": "33"
     },
     "metadata": {},
     "execution_count": 612
    }
   ],
   "source": []
  },
  {
   "cell_type": "code",
   "execution_count": 610,
   "metadata": {},
   "outputs": [
    {
     "output_type": "execute_result",
     "data": {
      "text/plain": "33"
     },
     "metadata": {},
     "execution_count": 610
    }
   ],
   "source": []
  },
  {
   "cell_type": "code",
   "execution_count": 583,
   "metadata": {
    "tags": []
   },
   "outputs": [
    {
     "output_type": "stream",
     "name": "stdout",
     "text": "('syc', 'syc', 'PROPN', '', 'O', '')\n('rco', 'rco', 'PROPN', 'FAC', 'B', '')\n('ate', 'ate', 'PROPN', '', 'O', '')\n('disruptive', 'disruptive', 'ADJ', '', 'O', '')\n('finance', 'finance', 'NOUN', '', 'O', '')\n('using', 'use', 'VERB', '', 'O', '')\n('psychometrics', 'psychometric', 'NOUN', '', 'O', '')\n('overcome', 'overcome', 'VERB', '', 'O', '')\n('collateral', 'collateral', 'ADJ', '', 'O', '')\n('constraints', 'constraint', 'NOUN', '', 'O', '')\n('ethiopia', 'ethiopia', 'PROPN', 'COUNTRY', 'B', 'Ethiopia')\n('february', 'february', 'PROPN', 'DATE', 'B', '')\n('situation', 'situation', 'NOUN', '', 'O', '')\n('ethiopia', 'ethiopia', 'PROPN', 'COUNTRY', 'B', 'Ethiopia')\n('past', 'past', 'ADJ', 'DATE', 'I', '')\n('decade', 'decade', 'NOUN', 'DATE', 'I', '')\n('ethiopia', 'ethiopia', 'PROPN', 'COUNTRY', 'B', 'Ethiopia')\n('achieved', 'achieve', 'VERB', '', 'O', '')\n('high', 'high', 'ADJ', '', 'O', '')\n('economic', 'economic', 'ADJ', '', 'O', '')\n('growth', 'growth', 'NOUN', '', 'O', '')\n('establishing', 'establish', 'VERB', '', 'O', '')\n('country', 'country', 'NOUN', '', 'O', '')\n('fastest', 'fast', 'ADJ', '', 'O', '')\n('growing', 'grow', 'VERB', '', 'O', '')\n('economies', 'economy', 'NOUN', '', 'O', '')\n('africa', 'africa', 'PROPN', 'LOC', 'B', '')\n('developing', 'develop', 'VERB', '', 'O', '')\n('world', 'world', 'NOUN', '', 'O', '')\n('ethiopia', 'ethiopia', 'PROPN', 'COUNTRY', 'B', 'Ethiopia')\n('falling', 'fall', 'VERB', '', 'O', '')\n('peers', 'peer', 'NOUN', '', 'O', '')\n('area', 'area', 'NOUN', '', 'O', '')\n('provision', 'provision', 'NOUN', '', 'O', '')\n('credit', 'credit', 'NOUN', '', 'O', '')\n('private', 'private', 'ADJ', '', 'O', '')\n('sector', 'sector', 'NOUN', '', 'O', '')\n('according', 'accord', 'VERB', '', 'O', '')\n('world', 'world', 'PROPN', 'ORG', 'I', '')\n('bank', 'bank', 'PROPN', 'ORG', 'I', '')\n('enterprise', 'enterprise', 'NOUN', '', 'O', '')\n('surveys', 'survey', 'NOUN', '', 'O', '')\n('access', 'access', 'VERB', '', 'O', '')\n('finance', 'finance', 'NOUN', '', 'O', '')\n('perceived', 'perceive', 'VERB', '', 'O', '')\n('main', 'main', 'ADJ', '', 'O', '')\n('business', 'business', 'NOUN', '', 'O', '')\n('environment', 'environment', 'NOUN', '', 'O', '')\n('constraint', 'constraint', 'NOUN', '', 'O', '')\n('micro', 'micro', 'PROPN', 'ORG', 'B', '')\n('small', 'small', 'ADJ', '', 'O', '')\n('medium', 'medium', 'NOUN', '', 'O', '')\n('enterprises', 'enterprise', 'NOUN', '', 'O', '')\n('ethiopia', 'ethiopia', 'PROPN', 'COUNTRY', 'B', 'Ethiopia')\n('compared', 'compare', 'VERB', '', 'O', '')\n('sub', 'sub', 'ADJ', '', 'O', '')\n('saharan', 'saharan', 'ADJ', '', 'O', '')\n('average', 'average', 'NOUN', '', 'O', '')\n('access', 'access', 'NOUN', '', 'O', '')\n('finance', 'finance', 'NOUN', '', 'O', '')\n('challenge', 'challenge', 'NOUN', '', 'O', '')\n('men', 'man', 'NOUN', '', 'O', '')\n('women', 'woman', 'NOUN', '', 'O', '')\n('difficulties', 'difficulty', 'NOUN', '', 'O', '')\n('amplified', 'amplify', 'VERB', '', 'O', '')\n('women', 'woman', 'NOUN', '', 'O', '')\n('likely', 'likely', 'ADJ', '', 'O', '')\n('own', 'own', 'VERB', '', 'O', '')\n('assets', 'asset', 'NOUN', '', 'O', '')\n('opportunities', 'opportunity', 'NOUN', '', 'O', '')\n('women', 'woman', 'NOUN', '', 'O', '')\n('entrepreneurs', 'entrepreneur', 'NOUN', '', 'O', '')\n('ethiopia', 'ethiopia', 'PROPN', 'COUNTRY', 'B', 'Ethiopia')\n('lag', 'lag', 'VERB', '', 'O', '')\n('men', 'man', 'NOUN', '', 'O', '')\n('economist', 'economist', 'NOUN', '', 'O', '')\n('women', 'woman', 'NOUN', '', 'O', '')\n('economic', 'economic', 'ADJ', '', 'O', '')\n('opportunity', 'opportunity', 'NOUN', '', 'O', '')\n('index', 'index', 'NOUN', '', 'O', '')\n('ethiopia', 'ethiopia', 'PROPN', 'COUNTRY', 'B', 'Ethiopia')\n('occupies', 'occupy', 'VERB', '', 'O', '')\n('rank', 'rank', 'NOUN', '', 'O', '')\n('countries', 'country', 'NOUN', '', 'O', '')\n('most', 'most', 'ADJ', '', 'O', '')\n('growth', 'growth', 'NOUN', '', 'O', '')\n('oriented', 'orient', 'VERB', '', 'O', '')\n('women', 'woman', 'NOUN', '', 'O', '')\n('entrepreneurs', 'entrepreneur', 'NOUN', '', 'O', '')\n('fall', 'fall', 'VERB', '', 'O', '')\n('missing', 'miss', 'VERB', '', 'O', '')\n('middle', 'middle', 'NOUN', '', 'O', '')\n('trap', 'trap', 'NOUN', '', 'O', '')\n('served', 'serve', 'VERB', '', 'O', '')\n('commercial', 'commercial', 'ADJ', '', 'O', '')\n('banks', 'bank', 'NOUN', '', 'O', '')\n('microfinance', 'microfinance', 'NOUN', '', 'O', '')\n('situations', 'situation', 'NOUN', '', 'O', '')\n('high', 'high', 'ADJ', '', 'O', '')\n('minimum', 'minimum', 'ADJ', '', 'O', '')\n('loan', 'loan', 'NOUN', '', 'O', '')\n('sizes', 'size', 'NOUN', '', 'O', '')\n('excessive', 'excessive', 'ADJ', '', 'O', '')\n('collateral', 'collateral', 'ADJ', '', 'O', '')\n('constraints', 'constraint', 'NOUN', '', 'O', '')\n('restrict', 'restrict', 'VERB', '', 'O', '')\n('women', 'woman', 'NOUN', '', 'O', '')\n('access', 'access', 'NOUN', '', 'O', '')\n('loans', 'loan', 'NOUN', '', 'O', '')\n('commercial', 'commercial', 'ADJ', '', 'O', '')\n('banks', 'bank', 'NOUN', '', 'O', '')\n('microfinance', 'microfinance', 'NOUN', '', 'O', '')\n('institutions', 'institution', 'NOUN', '', 'O', '')\n('mfis', 'mfis', 'NOUN', '', 'O', '')\n('lend', 'lend', 'VERB', '', 'O', '')\n('asset', 'asset', 'NOUN', '', 'O', '')\n('collateral', 'collateral', 'NOUN', '', 'O', '')\n('cater', 'cater', 'VERB', '', 'O', '')\n('micro', 'micro', 'NOUN', '', 'O', '')\n('firms', 'firm', 'NOUN', '', 'O', '')\n('group', 'group', 'NOUN', '', 'O', '')\n('lending', 'lending', 'NOUN', '', 'O', '')\n('schemes', 'scheme', 'NOUN', '', 'O', '')\n('provide', 'provide', 'VERB', '', 'O', '')\n('small', 'small', 'ADJ', '', 'O', '')\n('loans', 'loan', 'NOUN', '', 'O', '')\n('sufficient', 'sufficient', 'ADJ', '', 'O', '')\n('size', 'size', 'NOUN', '', 'O', '')\n('support', 'support', 'VERB', '', 'O', '')\n('business', 'business', 'NOUN', '', 'O', '')\n('growth', 'growth', 'NOUN', '', 'O', '')\n('world', 'world', 'PROPN', '', 'O', '')\n('bank', 'bank', 'PROPN', '', 'O', '')\n('investment', 'investment', 'NOUN', '', 'O', '')\n('lending', 'lending', 'NOUN', '', 'O', '')\n('operation', 'operation', 'NOUN', '', 'O', '')\n('designed', 'design', 'VERB', '', 'O', '')\n('address', 'address', 'VERB', '', 'O', '')\n('missing', 'miss', 'VERB', '', 'O', '')\n('middle', 'middle', 'ADJ', '', 'O', '')\n('challenge', 'challenge', 'NOUN', '', 'O', '')\n('women', 'woman', 'NOUN', '', 'O', '')\n('entrepreneurship', 'entrepreneurship', 'VERB', '', 'O', '')\n('development', 'development', 'NOUN', '', 'O', '')\n('project', 'project', 'NOUN', '', 'O', '')\n('wedp', 'wedp', 'PROPN', '', 'O', '')\n('aimed', 'aim', 'VERB', '', 'O', '')\n('increase', 'increase', 'VERB', '', 'O', '')\n('earnings', 'earning', 'NOUN', '', 'O', '')\n('employment', 'employment', 'NOUN', '', 'O', '')\n('female', 'female', 'NOUN', '', 'O', '')\n('owned', 'own', 'VERB', '', 'O', '')\n('micro', 'micro', 'ADJ', '', 'O', '')\n('small', 'small', 'ADJ', '', 'O', '')\n('enterprises', 'enterprise', 'NOUN', '', 'O', '')\n('ethiopia', 'ethiopia', 'PROPN', 'COUNTRY', 'B', 'Ethiopia')\n('improving', 'improve', 'VERB', '', 'O', '')\n('capacity', 'capacity', 'NOUN', '', 'O', '')\n('existing', 'exist', 'VERB', '', 'O', '')\n('microfinance', 'microfinance', 'NOUN', '', 'O', '')\n('institutions', 'institution', 'NOUN', '', 'O', '')\n('serve', 'serve', 'VERB', '', 'O', '')\n('female', 'female', 'ADJ', '', 'O', '')\n('entrepreneurs', 'entrepreneur', 'NOUN', '', 'O', '')\n('mfis', 'mfi', 'NOUN', '', 'O', '')\n('provided', 'provide', 'VERB', '', 'O', '')\n('tools', 'tool', 'NOUN', '', 'O', '')\n('technical', 'technical', 'ADJ', '', 'O', '')\n('assistance', 'assistance', 'NOUN', '', 'O', '')\n('liquidity', 'liquidity', 'NOUN', '', 'O', '')\n('allow', 'allow', 'VERB', '', 'O', '')\n('upscale', 'upscale', 'VERB', '', 'O', '')\n('provider', 'provider', 'NOUN', '', 'O', '')\n('larger', 'large', 'ADJ', '', 'O', '')\n('individual', 'individual', 'ADJ', '', 'O', '')\n('loans', 'loan', 'NOUN', '', 'O', '')\n('growth', 'growth', 'NOUN', '', 'O', '')\n('oriented', 'orient', 'VERB', '', 'O', '')\n('women', 'woman', 'NOUN', '', 'O', '')\n('entrepreneurs', 'entrepreneur', 'NOUN', '', 'O', '')\n('needed', 'need', 'VERB', '', 'O', '')\n('addition', 'addition', 'NOUN', '', 'O', '')\n('introducing', 'introduce', 'VERB', '', 'O', '')\n('mfis', 'mfis', 'NOUN', '', 'O', '')\n('existing', 'exist', 'VERB', '', 'O', '')\n('best', 'good', 'ADJ', '', 'O', '')\n('practices', 'practice', 'NOUN', '', 'O', '')\n('individual', 'individual', 'ADJ', '', 'O', '')\n('lending', 'lending', 'NOUN', '', 'O', '')\n('world', 'world', 'PROPN', '', 'O', '')\n('bank', 'bank', 'PROPN', '', 'O', '')\n('team', 'team', 'NOUN', '', 'O', '')\n('sought', 'seek', 'VERB', '', 'O', '')\n('introduce', 'introduce', 'VERB', '', 'O', '')\n('innovations', 'innovation', 'NOUN', '', 'O', '')\n('could', 'could', 'VERB', '', 'O', '')\n('enable', 'enable', 'VERB', '', 'O', '')\n('mfis', 'mfis', 'NOUN', '', 'O', '')\n('reach', 'reach', 'VERB', '', 'O', '')\n('greater', 'great', 'ADJ', '', 'O', '')\n('number', 'number', 'NOUN', '', 'O', '')\n('women', 'woman', 'NOUN', '', 'O', '')\n('entrepreneurs', 'entrepreneur', 'NOUN', '', 'O', '')\n('individual', 'individual', 'ADJ', '', 'O', '')\n('loans', 'loan', 'NOUN', '', 'O', '')\n('see', 'see', 'VERB', '', 'O', '')\n('exhibit', 'exhibit', 'NOUN', '', 'O', '')\n('lender', 'lender', 'NOUN', '', 'O', '')\n('fintech', 'fintech', 'NOUN', '', 'O', '')\n('deciding', 'decide', 'VERB', '', 'O', '')\n('psychometric', 'psychometric', 'ADJ', '', 'O', '')\n('credit', 'credit', 'NOUN', '', 'O', '')\n('assessment', 'assessment', 'NOUN', '', 'O', '')\n('tool', 'tool', 'NOUN', '', 'O', '')\n('next', 'next', 'ADJ', '', 'O', '')\n('step', 'step', 'NOUN', '', 'O', '')\n('decide', 'decide', 'VERB', '', 'O', '')\n('microfinance', 'microfinance', 'NOUN', '', 'O', '')\n('institution', 'institution', 'NOUN', '', 'O', '')\n('ethiopia', 'ethiopia', 'PROPN', 'COUNTRY', 'B', 'Ethiopia')\n('would', 'would', 'VERB', '', 'O', '')\n('best', 'good', 'ADJ', '', 'O', '')\n('partner', 'partner', 'NOUN', '', 'O', '')\n('pilot', 'pilot', 'NOUN', '', 'O', '')\n('time', 'time', 'NOUN', '', 'O', '')\n('wedp', 'wedp', 'PROPN', '', 'O', '')\n('project', 'project', 'NOUN', '', 'O', '')\n('involved', 'involve', 'VERB', '', 'O', '')\n('country', 'country', 'NOUN', '', 'O', '')\n('leading', 'lead', 'VERB', '', 'O', '')\n('mfis', 'mfis', 'NOUN', '', 'O', '')\n('introducing', 'introduce', 'VERB', '', 'O', '')\n('technology', 'technology', 'NOUN', '', 'O', '')\n('conducting', 'conduct', 'VERB', '', 'O', '')\n('careful', 'careful', 'ADJ', '', 'O', '')\n('assessment', 'assessment', 'NOUN', '', 'O', '')\n('mfi', 'mfi', 'PROPN', '', 'O', '')\n('amhara', 'amhara', 'PROPN', '', 'O', '')\n('credit', 'credit', 'NOUN', '', 'O', '')\n('savings', 'savings', 'PROPN', '', 'O', '')\n('institute', 'institute', 'PROPN', '', 'O', '')\n('acsi', 'acsi', 'PROPN', '', 'O', '')\n('came', 'come', 'VERB', '', 'O', '')\n('leading', 'lead', 'VERB', '', 'O', '')\n('candidate', 'candidate', 'NOUN', '', 'O', '')\n('located', 'locate', 'VERB', '', 'O', '')\n('amhara', 'amhara', 'PROPN', '', 'O', '')\n('region', 'region', 'NOUN', '', 'O', '')\n('ethiopia', 'ethiopia', 'PROPN', 'COUNTRY', 'B', 'Ethiopia')\n('acsi', 'acsi', 'PROPN', '', 'O', '')\n('largest', 'large', 'ADJ', '', 'O', '')\n('mfi', 'mfi', 'PROPN', '', 'O', '')\n('country', 'country', 'NOUN', '', 'O', '')\n('active', 'active', 'ADJ', '', 'O', '')\n('borrowers', 'borrower', 'NOUN', '', 'O', '')\n('branches', 'branch', 'NOUN', '', 'O', '')\n('see', 'see', 'VERB', '', 'O', '')\n('exhibit', 'exhibit', 'NOUN', '', 'O', '')\n('acsi', 'acsi', 'PROPN', '', 'O', '')\n('established', 'establish', 'VERB', '', 'O', '')\n('business', 'business', 'NOUN', '', 'O', '')\n('group', 'group', 'NOUN', '', 'O', '')\n('lending', 'lending', 'NOUN', '', 'O', '')\n('market', 'market', 'NOUN', '', 'O', '')\n('individual', 'individual', 'ADJ', '', 'O', '')\n('lending', 'lending', 'NOUN', '', 'O', '')\n('new', 'new', 'ADJ', '', 'O', '')\n('product', 'product', 'NOUN', '', 'O', '')\n('line', 'line', 'NOUN', '', 'O', '')\n('individual', 'individual', 'ADJ', '', 'O', '')\n('loans', 'loan', 'NOUN', '', 'O', '')\n('made', 'make', 'VERB', '', 'O', '')\n('acsi', 'acsi', 'PROPN', 'ORG', 'B', '')\n('lending', 'lending', 'NOUN', '', 'O', '')\n('portfolio', 'portfolio', 'NOUN', '', 'O', '')\n('screening', 'screening', 'NOUN', '', 'O', '')\n('individual', 'individual', 'ADJ', '', 'O', '')\n('loans', 'loan', 'NOUN', '', 'O', '')\n('based', 'base', 'VERB', '', 'O', '')\n('traditional', 'traditional', 'ADJ', '', 'O', '')\n('appraisal', 'appraisal', 'NOUN', '', 'O', '')\n('mechanism', 'mechanism', 'NOUN', '', 'O', '')\n('relied', 'rely', 'VERB', '', 'O', '')\n('existence', 'existence', 'NOUN', '', 'O', '')\n('fixed', 'fix', 'VERB', '', 'O', '')\n('asset', 'asset', 'NOUN', '', 'O', '')\n('collateral', 'collateral', 'NOUN', '', 'O', '')\n('such', 'such', 'ADJ', '', 'O', '')\n('houses', 'house', 'NOUN', '', 'O', '')\n('buildings', 'building', 'NOUN', '', 'O', '')\n('acsi', 'acsi', 'PROPN', '', 'O', '')\n('saw', 'see', 'VERB', '', 'O', '')\n('pilot', 'pilot', 'NOUN', '', 'O', '')\n('project', 'project', 'NOUN', '', 'O', '')\n('opportunity', 'opportunity', 'NOUN', '', 'O', '')\n('improve', 'improve', 'VERB', '', 'O', '')\n('ability', 'ability', 'NOUN', '', 'O', '')\n('lend', 'lend', 'VERB', '', 'O', '')\n('individual', 'individual', 'ADJ', '', 'O', '')\n('basis', 'basis', 'NOUN', '', 'O', '')\n('optimistic', 'optimistic', 'ADJ', '', 'O', '')\n('psychometric', 'psychometric', 'ADJ', '', 'O', '')\n('score', 'score', 'NOUN', '', 'O', '')\n('could', 'could', 'VERB', '', 'O', '')\n('used', 'use', 'VERB', '', 'O', '')\n('help', 'help', 'VERB', '', 'O', '')\n('graduate', 'graduate', 'VERB', '', 'O', '')\n('group', 'group', 'NOUN', '', 'O', '')\n('borrowers', 'borrower', 'NOUN', '', 'O', '')\n('lacked', 'lack', 'VERB', '', 'O', '')\n('collateral', 'collateral', 'NOUN', '', 'O', '')\n('qualify', 'qualify', 'VERB', '', 'O', '')\n('individual', 'individual', 'ADJ', '', 'O', '')\n('loans', 'loan', 'NOUN', '', 'O', '')\n('current', 'current', 'ADJ', '', 'O', '')\n('credit', 'credit', 'NOUN', '', 'O', '')\n('assessment', 'assessment', 'NOUN', '', 'O', '')\n('processes', 'process', 'VERB', '', 'O', '')\n('would', 'would', 'VERB', '', 'O', '')\n('allow', 'allow', 'VERB', '', 'O', '')\n('former', 'former', 'ADJ', '', 'O', '')\n('group', 'group', 'NOUN', '', 'O', '')\n('borrowers', 'borrower', 'NOUN', '', 'O', '')\n('access', 'access', 'VERB', '', 'O', '')\n('sme', 'sme', 'NOUN', '', 'O', '')\n('finance', 'finance', 'NOUN', '', 'O', '')\n('ethiopia', 'ethiopia', 'PROPN', 'COUNTRY', 'B', 'Ethiopia')\n('addressing', 'address', 'VERB', '', 'O', '')\n('missing', 'miss', 'VERB', '', 'O', '')\n('middle', 'middle', 'ADJ', 'ORG', 'B', '')\n('bank', 'bank', 'PROPN', 'ORG', 'I', '')\n('group', 'group', 'NOUN', '', 'O', '')\n('women', 'woman', 'NOUN', '', 'O', '')\n('economic', 'economic', 'ADJ', '', 'O', '')\n('opportunity', 'opportunity', 'NOUN', '', 'O', '')\n('index', 'index', 'NOUN', '', 'O', '')\n('economist', 'economist', 'NOUN', '', 'O', '')\n('exhibit', 'exhibit', 'NOUN', 'LAW', 'B', '')\n('name', 'name', 'NOUN', '', 'O', '')\n('acsi', 'acsi', 'NOUN', '', 'O', '')\n('active', 'active', 'ADJ', '', 'O', '')\n('borrowers', 'borrower', 'NOUN', '', 'O', '')\n('women', 'woman', 'NOUN', '', 'O', '')\n('borrowers', 'borrower', 'VERB', '', 'O', '')\n('loans', 'loan', 'NOUN', '', 'O', '')\n('outstanding', 'outstanding', 'ADJ', '', 'O', '')\n('voluntary', 'voluntary', 'ADJ', '', 'O', '')\n('saving', 'saving', 'NOUN', '', 'O', '')\n('compulsory', 'compulsory', 'ADJ', '', 'O', '')\n('saving', 'saving', 'NOUN', '', 'O', '')\n('total', 'total', 'ADJ', '', 'O', '')\n('saving', 'saving', 'NOUN', '', 'O', '')\n('total', 'total', 'ADJ', '', 'O', '')\n('asset', 'asset', 'NOUN', '', 'O', '')\n('total', 'total', 'ADJ', '', 'O', '')\n('liabilities', 'liability', 'NOUN', '', 'O', '')\n('total', 'total', 'ADJ', '', 'O', '')\n('capital', 'capital', 'PROPN', '', 'O', '')\n('association', 'association', 'PROPN', '', 'O', '')\n('ethiopian', 'ethiopian', 'PROPN', '', 'O', '')\n('microfinance', 'microfinance', 'PROPN', '', 'O', '')\n('institutions', 'institution', 'NOUN', '', 'O', '')\n('aemfi', 'aemfi', 'PROPN', '', 'O', '')\n('data', 'data', 'PROPN', '', 'O', '')\n('acsi', 'acsi', 'PROPN', '', 'O', '')\n('mfi', 'mfi', 'PROPN', '', 'O', '')\n('quarter', 'quarter', 'NOUN', 'DATE', 'B', '')\n('march', 'march', 'PROPN', 'DATE', 'I', '')\n('etb', 'etb', 'PROPN', '', 'O', '')\n('usd', 'usd', 'NOUN', '', 'O', '')\n('tomorrow', 'tomorrow', 'NOUN', 'DATE', 'B', '')\n('see', 'see', 'VERB', '', 'O', '')\n('climate', 'climate', 'NOUN', '', 'O', '')\n('change', 'change', 'NOUN', '', 'O', '')\n('january', 'january', 'PROPN', 'DATE', 'B', '')\n('kilograms', 'kilogram', 'NOUN', 'QUANTITY', 'I', '')\n('rice', 'rice', 'NOUN', '', 'O', '')\n('expect', 'expect', 'VERB', '', 'O', '')\n('private', 'private', 'ADJ', '', 'O', '')\n('public', 'public', 'ADJ', '', 'O', '')\n('partnership', 'partnership', 'NOUN', '', 'O', '')\n('project', 'project', 'NOUN', '', 'O', '')\n('will', 'will', 'VERB', '', 'O', '')\n('work', 'work', 'VERB', '', 'O', '')\n('think', 'think', 'VERB', '', 'O', '')\n('purchasing', 'purchasing', 'NOUN', '', 'O', '')\n('power', 'power', 'NOUN', '', 'O', '')\n('parity', 'parity', 'NOUN', '', 'O', '')\n('country', 'country', 'NOUN', '', 'O', '')\n('low', 'low', 'ADJ', '', 'O', '')\nCPU times: user 103 ms, sys: 15 ms, total: 118 ms\nWall time: 117 ms\n"
    }
   ],
   "source": [
    "%%time\n",
    "page_num = 49\n",
    "text = re.sub('\\s+', ' ', txt_parsed[page_num].replace('\\n', ' '))\n",
    "text += ' tomorrow we see climate change in January 2019 of 2020 with 10 kilograms of rice. We also expect that the private-public partnership in this project will work. We think that the purchasing power parity of the country is low.'\n",
    "# text = re.sub('\\s+', ' ', xmlB.text.replace('\\n', ' ').replace('’', \"'\").replace('“', '\"').replace('”', '\"')).strip()\n",
    "\n",
    "clean_text(text, EMBEDDING_POS_TAGS, EMBEDDING_INVALID_ENT_TYPE, reverse=False)"
   ]
  },
  {
   "cell_type": "code",
   "execution_count": 480,
   "metadata": {},
   "outputs": [
    {
     "output_type": "execute_result",
     "data": {
      "text/plain": "'B ette r Lo a n s o r B ette r B o r rowe r s? I m p a ct o f M e s o - C re d i t o n Fe m a l e - O w n e d E nte r p r i s e s i n Et h i o p i a44 IMPACT OF WEDP LOANS 25 Figure 3. Probability of receiving a loan based on observable characteristics Figure 4. Probit regression of propensity score and test of balancing property Probit Regression of Propensity Score Figure 4. Probit Regression of Propensity Score and Test of Balancing Property'"
     },
     "metadata": {},
     "execution_count": 480
    }
   ],
   "source": [
    "text = re.sub('\\s+', ' ', xmlB.find_all('div', attrs={'class': 'page'})[page_num].text.replace('\\n', ' ').replace('’', \"'\").replace('“', '\"').replace('”', '\"')).strip()\n",
    "text"
   ]
  },
  {
   "cell_type": "code",
   "execution_count": 561,
   "metadata": {
    "tags": [
     "outputPrepend"
    ]
   },
   "outputs": [
    {
     "output_type": "stream",
     "name": "stdout",
     "text": "addition, \nexperience suggested that pull‐down menus with fixed choices simplified data entry and minimized \nlikelihood of errors. \n\nIn the initial phase, tests were run on the database to ensure data quality. The database could be \nexported to Excel and then used with any statistical software. This was helpful for detecting errors in \nthe  system  and  refining  data  entry  procedures.  Moreover,  WEDP  M&E  staff  used  exported  data \nregularly to conduct advanced analysis. Although the built‐in reporting functions shown in the previous \nsection worked well for basic monitoring and provided some standard evaluation tools, the richness \nof the database could be used in a range of ways when not restricted to prespecified parameters.  \n\nThe WEDP also had a database expert conduct in‐depth advanced data quality assessments and check \nfor errors,8 which provided useful technical inputs for refining the system.  \n\n                                                            \n8 It was necessary in this case to inquire into errors leading to incorrect identifications when uploading data \nfrom the first‐phase Excel‐based system into the final version of the MIS. It is difficult to guard against human \nerrors, but the MIS minimizes the likelihood of such errors. \n\n\n\n125M ay  2 02 0\n\n \n22 \n\n \n\nFinally, the role of users in ensuring data quality should not be underestimated. Users have a unique \nopportunity to detect errors in their daily work with the system, and it is important to create feedback \nloops  from  them  to  the  system  manager.  Users  had  good  suggestions  for  developing  automatic \naggregations for key figures and for how the data should be displayed, such as how it should appear in \nterms of tables, graphs, charts, and the like. \n\nAlthough the MIS has generally been a success, there were many rounds of fixing problems until it was \nworking in an acceptable manner. Some of the challenges encountered stemmed from lack of Internet \nreliability in Ethiopia. Frequent Internet interruptions can lead to duplication errors with automatic \ndatabase  updates  and  data  not  being  automatically  uploaded  to  the  central  server  from  satellite \noffices. Close monitoring and checking data transfer was therefore needed, even when the MIS was in \nregular operation. \n\n \n\n6. Sustainability \n\nAt the time of our fieldwork, the MIS was functioning well and was popular among users, although its \nsustainability depends on the sustainability of the WEDP. If the WEDP is discontinued, there will be no \nneed for joint reporting even if training and finance continue to be provided to growth‐oriented female \nentrepreneurs. M&E of the services would then be integrated into the regular government system, \nand it would probably not be possible to continue to identify growth‐oriented female entrepreneurs \nregistered in the WEDP (under the current government SME registry).  \n\nOur sustainability assessment is therefore split into two parts. First, we assess sustainability based on \nthe assumption that the WEDP would continue as a dedicated program after donor support ends and \nassess the likelihood that the government will continue with the MIS, as opposed to integrating it into \ntheir regular M&E system. Then, we assess spillovers from the MIS and the benefits generated beyond \nits functions as an MIS project. \n\nContinuation of the MIS beyond project life \n\nIf the WEDP is maintained after donor financing ends, it is mostly a question of the costs of running \nthe MIS in relation to FUJCFSA IT operating costs. We inquired into the operating costs of the MIS and \nthose of the regular FUJCFSA IT system. \n\nThe operating costs for the MIS at the TVET colleges are minor, and the TVET colleges could take them \non  easily  if  they  continue  to  provide  training  after  project  closure.  One  relatively  costly  support \nfunction has been the WEDP city coordinators, who have facilitated data transfer. They have acted as \na link between the implementing institutions (mainly OSS and TVETS) and the head office. In the first \nphase of the WEDP, they were instrumental in collecting and submitting data. As the MIS started to \nfunction  and  gradually  improved,  their  contributions  decreased,  although  they  still  represent  a \nsubstantial cost in operating the MIS.  \n\nThe city coordinators have mainly provided temporary support in the start‐up phase. Challenges such \nas poor Internet connections, high OSS staff turnover, and limited administrative resources for WEDP \nmanagement have made the role of city coordinators important. For the TVETs, for example, once \n\n\n\nTa k i n g  M a n a g e m e nt  D i g i t a l  Le s s o n s  f ro m  t h e  D eve l o p m e nt  o f  a n  I n n ovat i ve  M a n a g e m e nt  I nfo r m at i o n  Syste m  fo r  S m a l l  B u s i n e s s e s  i n  Et h i o p i a126\n\n \n23 \n\n \n\ntheir new fiber cables are installed, there will be no need for city coordinator support as long as TVET \nmanagement assigns administrative personnel capable of basic data entry. Only a short training is \nneeded, depending on staff knowledge of the Internet and basic use of Excel. \n\nMicrofinance \n\nDuplication of efforts in the registration process needs to be avoided to obtain microfinance support. \nThis is an inherent challenge for any finance project; loans provided to clients from project funds must \nbe recorded to account for resources provided, and if the client’s MIS is not compatible with that of \nthe MFI, loan transactions must be recorded twice—first as a WEDP loan and then entered into the \nMIS of the MFI. If the WEDP is discontinued, all stakeholders indicated that the MFIs would be unlikely \nto continue to maintain such a double registry. WEDP clients would then be treated like any other \ncustomer and be registered in the ordinary system. The proposed solution was to make the WEDP MIS \ncompatible with the MFI MIS. Our interviews with AEMFI made it clear that it was important to align \ndonor reporting needs with the current MFI systems. AEMFI has initiated a large MIS project with the \ngoal of connecting all MFI reporting and information sharing in real time. \n\nSpillovers \n\nA qualitatively different benefit of the MIS is the learning effect on other government entities and on \nother projects.  \n\nThere were two initiatives in which there were direct influences of the WEDP MIS on government \nlearning and using the knowledge generated. First, the FUJCFSA has developed a new MIS that will \nconnect the 1,600 OSSs in the country. They used experiences and took many components of the new \nsystem from the WEDP MIS. \n\nSecond, the newly created Federal Small and Medium Manufacturing Industry Development Agency, \nwhich has de facto responsibility for support to SMEs in Ethiopia, expressed strong interest in obtaining \ntheir own MIS, with a similar structure to that of the WEDP MIS. The Director General stated that, with \nthe churn in the SME sector, it is necessary to have a system that can easily be updated. Moreover, the \nagency had recently developed a catalog of SMEs in Ethiopia, but it was already outdated and no longer \nused. The WEDP MIS could easily connect  information from licensing offices with the agency and \nprovide real‐time information about the number of SMEs in the country. \n\nThe WEDP MIS has also influenced other World Bank–supported projects in Ethiopia, especially the \nSME finance and urban food security and safety projects. \n\nThe government’s commitment to the project is one aspect of its success. Moreover, for this approach \nto be sustainable, the MIS must serve the government’s needs and be seen as a useful tool, be based \non simple technical solutions that can be maintained and refined locally, and have low development \nand maintenance costs that are compatible with the government’s M&E budgets. \n\n \n\n\n\n127M ay  2 02 0\n\n \n24 \n\n \n\n7. Lessons learned and conclusions \n\nAn important lesson from the WEDP experience is that the government’s commitment to the project \nwas critical to its success. By developing a system that served the government’s needs and was seen \nas a useful tool beyond project purposes, the WEDP MIS generated extensive local support.  \n\nA second lesson from the WEDP experience is that the MIS must be integrated into local cost and \nimplementation structures. The WEDP MIS achieved a high degree of sustainability by developing a \nsimple technical solution that can be maintained and refined locally and is compatible with the skills \nof the involved parties.  \n\nA final lesson from the WEDP experience was that building an IT culture was important for making the \nsystem  work  in  practice.  Creating  an  IT  culture  in  a  low‐tech,  largely  analog  environment  is  a \nchallenging but achievable task. In this case, government commitment and willingness to endure were \ncentral to success.  \n\nThe main reason for the success of the WEDP MIS was the interplay of these critical factors to make \nthe system work; government commitment helped generate an IT culture of working with a system \nthat the local staff was able to operate. In addition, because local government entities can afford to \nmaintain and operate it, the sustainability of the MIS is high. As long as the WEDP continues, the MIS \nwill continue in its current form. Once the WEDP closes, the MIS is likely to transform into a broader \ntool to help  manage  future government  initiatives  providing  support to private enterprises  in the \ncountry.  \n\nGiven the high failure rate of IS interventions around the world, the WEDP lessons seem particularly \ngermane. By garnering deep government support, developing a locally relevant solution, and staying \nthe course in a challenging context, an effective system for information management was developed, \nand  a  lasting  technological  solution  was  provided  to  manage  complex  public  sector  programs  in \nEthiopia. \n\n \n\n \n\n \n\n \n\n   \n\n\n\nTa k i n g  M a n a g e m e nt  D i g i t a l  Le s s o n s  f ro m  t h e  D eve l o p m e nt  o f  a n  I n n ovat i ve  M a n a g e m e nt  I nfo r m at i o n  Syste m  fo r  S m a l l  B u s i n e s s e s  i n  Et h i o p i a128\n\n \n25 \n\n \n\nReferences \n\nAvgerou, C. 2008. “Information Systems in Developing Countries: A Critical Research Review.” Journal \nof Information Technology 23 (3): 133‐146. \n\nBartis,  E.,  and  N.  Mitev.  2008.  “A  Multiple  Narrative  Approach  to  Information  Systems  Failure:  A \nSuccessful System That Failed.” European Journal of Information Systems 17 (2): 112‐124. \n\nChan,  C.M.L.,  and  S.L.  Pan.  2008.  “User  Engagement  in  Egovernment  Systems  Implementation: \nComparative  Case  Study  of  two  Singaporean  E‐Government  Initiatives.”  The  Journal  of \nStrategic Information Systems 17 (2): 124‐139. \n\nChianca, T. K. 2008. \"International Aid Evaluation: An Analysis and Policy Proposals.\" PhD Dissertation. \nWestern Michigan University, Kalamazoo, MI. \n\nCiborra,  C.  2005.  “Interpreting  E‐Government  and  Development:  Efficiency,  Transparency  or \nGovernance at a Distance?” Information Technology & People 18 (3): 260‐279. \n\nCiborra, C., and D.D. Navarra. 2005. “Good Governance, Development Theory, and Aid Policy: Risks \nand Challenges of E‐Government in Jordan.” Information Technology for Development 11 (2): \n141‐159. \n\nDener, C., J.A. Watkins, and W.L. Dorotinsky. 2010. Financial Management Information Systems: 25 \nYears of World Bank Experience on What Works and What Doesn't. Washington, DC: World \nBank.  \n\nDhillon, G. 2004. “Dimensions of Power and IS Implementation. Information & Management 41 (5): \n635‐644. \n\nDwivedi,  Y.K.,  D.  Wastell,  S.  Laumer,  H.  Z.  Henriksen,  M.D.  Myers,  D.  Bunker,  A.  Elbanna,  M.N. \nRavishankar,  and  S.C.  Srivastava.  2015.  “Research  on  Information  Systems  Failures  and \nSuccesses: Status Update and Future Directions.” Information Systems Frontiers,17 (1): 143‐\n157. \n\nDorotinsky, W., and J. Cho. 2003. The World Bank’s Experience with Financial Management Information \nSystem (FMIS) Projects. Washington, DC: World Bank Group, PRMPS.  \n\nHeeks,  R.  2002.  “Information  Systems  and  Developing  Countries:  Failure,  Success,  and  Local \nImprovisations.” The Information Society 18 (2): 101‐112. \n\nHeeks, R. 2003. “Most E‐Government‐for‐Development Project Fails: How Can Risks Be Reduced?” \niGovernment \n\nHeeks,  R.,  and  C.  Stanforth.  2007.  “Understanding  E‐Government  Project  Trajectories  from  an \nActornetwork Perspective.” European Journal of Information Systems 16 (2): 165‐177. \n\nIEG (Independent Evaluation Group). 2011. Capturing Technology for Development: An Evaluation of \nWorld Bank Group Activities in Information and Communication Technologies. Washington, DC: \nWorld Bank Group. \n\nReferences\n\n\n\n129M ay  2 02 0\n\n \n26 \n\n \n\nImran,  A.,  and  S.  Gregor.  2010.  “Uncovering  Hidden  Issues  in  E‐Government  Adoption  in  a  Least \nDeveloped Country: The Case of Bangladesh.” Journal of Global Information Management 18 \n(2): 30‐56. \n\nImran,  A.,  and  S.  Gregor.  2011.  “Vested  Interests  Obstructing  Information  Systems  Use:  Land \nAdministration  in  a  Least  Developed  Country.”  Presented  at  the  SIG  Globdev  4th  Annual \nConference, Shanghai, China. \n\nJensen, T.B., and M. Aanestad. 2007. “Hospitality and Hostility in Hospitals: A Case Study of an EPR \nAdoption Among Surgeons,” European Journal of Information Systems 16 (6): 672‐680. \n\nJoia, L.A., and C. Magalhães. 2009. “Implementation of an Electronic Prescription System in a Brazilian \nGeneral  Hospital:  Understanding  Sources  of  Resistance.”  Electronic  Journal  of  Information \nSystems in Developing Countries 39 (2): 1‐18. \n\nKenny, K.M. 2003. “Power and the Construction of Independence in ICTD Organizations.” Information \nTechnology for Development : 1‐17. \n\nKimaro, H., and J. Nhampossa. 2004. “The Challenges of Sustainability of Health Information Systems \nin Developing Countries: Comparative Case Studies of Mozambique and Tanzania.” Presented \nat the Twelfth European Conference on Information Systems. Turku School of Economics and \nBusiness Administration, Turku, Finland. \n\nKimaro, H.C., and J.L. Nhampossa. 2005. “Analyzing the Problem of Unsustainable Health Information \nSystems  in  Less‐Developed  Economies:  Case  Studies  from  Tanzania  and  Mozambique. \nInformation Technology for Development 11 (3): 273‐298. \n\nKumar, R., and M.L. Best. 2006. “Impact and Sustainability of E‐Government Services in Developing \nCountries: Lessons Learned from Tamil Nadu, India.” The Information Society: An International \nJournal 22 (1): 1‐12. \n\nLee, J.‐W. 2001. “Education for Technology Readiness: Prospects for Developing Countries.” Journal of \nHuman Development 2 (1): 115‐151. \n\nLeidner, D.E., and T. Kayworth. 2006. “Review: A Review of Culture in Information Systems Research: \nToward a Theory of Information Technology Culture Conflict.” MIS Quarterly 30 (2): 357‐399. \n\nLin, A., and L. Silva. 2005. “The Social and Political Construction of Technological Frames.” European \nJournal of Information Systems 14 (1): 39‐49. \n\nMontealegre, R., and M. Keil. 2000. “De‐Escalation Information Technology Projects: Lesson from the \nDenver International Airport.” MIS Quarterly, 24 (3): 417‐447. \n\nNelson, R.R. 2007. “IT Project Management: Infamous Failures, Classic Mistakes, and Best Practices.” \nMIS Quarterly Executive, 6 (2), 67‐78.  \n\nNguyen, V., and W. Fernández. 2009. “Bridging the Gaps: Packaged Software Implementation Projects \nin Vietnam.” Presented at the 17th European Conference on Information Systems, Verona, \nItaly. \n\n\n\nTa k i n g  M a n a g e m e nt  D i g i t a l  Le s s o n s  f ro m  t h e  D eve l o p m e nt  o f  a n  I n n ovat i ve  M a n a g e m e nt  I nfo r m at i o n  Syste m  fo r  S m a l l  B u s i n e s s e s  i n  Et h i o p i a130\n\n \n27 \n\n \n\nNyella,  E.,  and  M.  Mndeme.  2010.  “Power  Tensions  in  Health  Information  System  Integration  in \nDeveloping Countries: The Need for Distributed Control.”  Electronic Journal of Information \nSystems in Developing Countries 43 (4): 1‐19. \n\nNORAD  (Norwegian  Agency  for  Development  Cooperation).  2014.  Can  We  Demonstrate  the \nDifferences That Norwegian Aid Makes? Evaluation of Results Measurement and How This Can \nBe Improved. Evaluation Department evaluation report 1/2014, Oslo. \n\nOECD (Organization for Economic Cooperation and Development). 2010a. “Glossary of Key Terms in \nEvaluation  and  Results  Based  Management.” \nhttp://www.oecd.org/dac/evaluation/2754804.pdf  \n\n———.  2010b.  “Quality  Standards  for  Development  Evaluation.” \nhttps://www.oecd.org/development/evaluation/qualitystandards.pdf  \n\nScott,  M.,  W.  Golden,  and  M.  Hughes.  2004.  “Implementation  of  Strategies  for  eGovernment:  A \nStakeholder  Analysis  Approach.”  Presented  at  the  European  Conference  on  Information \nSystems, Turku, Finland. \n\nSilva, da A., and W. D. Fernández. 2016. “Sustainability of ICTD Projects and Its Influencing Factors: A \nComprehensive Literature Review.” System Sciences (HICSS), 2016 49th Hawaii International \nConference on System Sciences.  \n\nVaidya,  R.,  M.  Myers,  and  L.  Gardner.  2013.  “Major  Issues  in  the  Successful  Implementation  of \nInformation Systems in Developing Countries, in Grand Successes and Failures in IT.” In Public \nand Private Sectors, edited by Y. Dwivedi, et al., 151‐163. Berlin Heidelberg: Springer. \n\nWalsham,  G.,  and  J.  Sahay.  1999.  “GIS  for  District‐Level  Administration  in  India:  Problems  and \nOpportunities.” MIS Quarterly, 23 (1): 39‐65. \n\nWestrup, C., et al., 2003. “Taking Culture Seriously: ICTs, Cultures and Development.” In The Digital \nChallenge: Information Technology, edited by S. Krishna and S. Madon. Hampshire: Ashgate. \n\nYogesh,  D.K.,  D.  Wastell,  S.  Laumer,  H.  Z.  Henriksen,  M.D.  Myers,  D.  Bunker,  A.  Elbanna,  M.  N. \nRavishankar,  and  S.C.  Srivastava.  2015.  “Research  on  Information  Systems  Failures  and \nSuccesses: Status Update and Future Directions.” Information Systems Frontier 17 (1): 143‐157. \nhttps://dspace.lboro.ac.uk/dspace‐jspui/bitstream/2134/16922/3/ISFI‐D‐13‐00185‐05‐04‐\n2014.pdf  \n\nYoung,  R.,  and  E.  Jordan.  2008.  “Top  Management  Support:  Mantra  or  Necessity?”  International \nJournal of Project Management 26 (7): 713‐725.   \n\n\n\n131M ay  2 02 0\n\n \n28 \n\n \n\nStakeholders interviewed \n\nName  Affiliation  Role  Date \nAto Asfaw Abebe Eregnaw  Federal  Small  and \n\nMedium  Manufacturing \nIndustry  Development \nAgency \n\nDirector General  15.06.17 \n\nAto Yohannes Solomon  FUJCFSA  WEDP project leader  14‐15.06.17 \nAto Getachew Yimer  Federal  Small  and \n\nMedium  Manufacturing \nIndustry  Development \nAgency \n\nAdvisor  to  Director \nGeneral of FUJCSA \n\n15.06.17 \n\nDr. Behailu Kassaye  Development  Bank  of \nEthiopia,  Special  Funds \nAdministration \n\nDirector  19.06.17 \n\nAto Teklit Berhe  FUJCFSA  FUJCSA  Information \nand  Communications \nTechnology Director \n\n15.06.17 \n\nAto Ahmed M  FUJCFSA  WEDP  Information \nTechnology Specialist \n\n14‐15.06.17 \n\nAto Dagnachew Amberbir  FUJCFSA  WEDP  Monitoring \nand  Evaluation \nCoordinator \n\n14.06.17 \n\nAto Mulugeta Alemu  Nefas  Silk  technical  and \nvocational education and \ntraining  college,  Addis \nAbaba \n\nRegular  and \nextension  division \ntraining  program \ncoordinator,  WEDP \nfocal person at Nefas \nSilk college \n\n16.06.17 \n\nW/ru Tsigereda Worku  Association  of  Ethiopian \nMicrofinance Institutions \n\nEthiopia  Inclusive \nFinance  Training  and \nResearch  Institute \nManagement \nInformation  System \nOfficer \n\n21.06.17 \n\nW/ru Seblewongel Ayalew  World Bank    14‐15.06.17 \nW/ru Tsedey Asheber  World Bank  WEDP  Skills \n\nDevelopment \nSpecialist \n\n14‐15.06.17 \n\nNotes:  FUJCFSA,  Federal  Urban  Job  Creation  and  Food  Security  Agency;  WEDP,  Women \nEntrepreneurship Development Project. \n\nIf they want to do more complex larger projects, it might require much more resources and complex \nIT solutions.  \n\n \n\n\n\n\n\n"
    }
   ],
   "source": []
  },
  {
   "cell_type": "code",
   "execution_count": 483,
   "metadata": {},
   "outputs": [
    {
     "output_type": "execute_result",
     "data": {
      "text/plain": "<div class=\"page\"><p></p>\n<p>B ette r  Lo a n s  o r  B ette r  B o r rowe r s?  I m p a ct  o f  M e s o - C re d i t  o n  Fe m a l e - O w n e d  E nte r p r i s e s  i n  Et h i o p i a44\n</p>\n<p>IMPACT OF WEDP LOANS 25\n</p>\n<p>Figure 3. Probability of receiving a loan based on observable characteristics\n</p>\n<p>Figure 4. Probit regression of propensity score and test of balancing property\n</p>\n<p>Probit Regression of Propensity Score\nFigure 4. Probit Regression of Propensity Score and  \n</p>\n<p>Test of Balancing Property</p>\n<p></p>\n</div>"
     },
     "metadata": {},
     "execution_count": 483
    }
   ],
   "source": [
    "xmlB.find_all('div', attrs={'class': 'page'})[page_num]"
   ]
  },
  {
   "cell_type": "code",
   "execution_count": null,
   "metadata": {},
   "outputs": [],
   "source": []
  },
  {
   "cell_type": "code",
   "execution_count": 456,
   "metadata": {
    "tags": []
   },
   "outputs": [
    {
     "output_type": "stream",
     "name": "stdout",
     "text": "CPU times: user 2.98 ms, sys: 2 µs, total: 2.98 ms\nWall time: 2.99 ms\n"
    },
    {
     "output_type": "execute_result",
     "data": {
      "text/plain": "[('Ethiopia', True, 'Ethiopia', 'COUNTRY', 'PROPN', 'ETH'),\n ('Ethiopia', True, 'Ethiopia', 'COUNTRY', 'PROPN', 'ETH'),\n ('Ethiopia', True, 'Ethiopia', 'COUNTRY', 'PROPN', 'ETH'),\n ('Ethiopia', True, 'Ethiopia', 'COUNTRY', 'PROPN', 'ETH'),\n ('Ethiopia', True, 'Ethiopia', 'COUNTRY', 'PROPN', 'ETH'),\n ('Ethiopia', True, 'Ethiopia', 'COUNTRY', 'PROPN', 'ETH'),\n ('Ethiopia', True, 'Ethiopia', 'COUNTRY', 'PROPN', 'ETH'),\n ('Ethiopia', True, 'Ethiopia', 'COUNTRY', 'PROPN', 'ETH'),\n ('Ethiopia', True, 'Ethiopia', 'COUNTRY', 'PROPN', 'ETH'),\n ('Ethiopia', True, 'Ethiopia', 'COUNTRY', 'PROPN', 'ETH'),\n ('Ethiopia', True, 'Ethiopia', 'COUNTRY', 'PROPN', 'ETH')]"
     },
     "metadata": {},
     "execution_count": 456
    }
   ],
   "source": [
    "page_num = 49\n",
    "text = re.sub('\\s+', ' ', xmlB.find_all('div', attrs={'class': 'page'})[page_num].text.replace('\\n', ' ').replace('’', \"'\").replace('“', '\"').replace('”', '\"')).strip()\n",
    "doc1 = nlp(text)\n",
    "\n",
    "docs1 = [s for s in doc1.sents]\n",
    "\n",
    "# for s in docs1:\n",
    "#     print(s)\n",
    "#     print('------')\n",
    "\n",
    "text = re.sub('\\s+', ' ', txt_parsed[page_num].replace('\\n', ' '))\n",
    "# doc2 = nlp(re.sub('\\s+', ' ', txt_parsed[page_num].replace('\\n', ' ')))\n",
    "doc2 = nlp(text)\n",
    "\n",
    "docs2 = [s for s in doc2.sents]\n",
    "\n",
    "# for s in docs2:\n",
    "#     print(s)\n",
    "#     print('------')\n",
    "\n",
    "# len(docs1) == len(docs2)\n",
    "\n",
    "# np.where(np.array([d1.text.strip() == d2.text.strip() for d1, d2 in zip(docs1, docs2)]) != True)\n",
    "\n",
    "%time countries = [(t._.normalized, t._.is_country, t.lemma_, t.ent_type_, t.pos_, t._.code) for t in ce(doc2) if t._.is_country]\n",
    "countries"
   ]
  },
  {
   "cell_type": "code",
   "execution_count": 457,
   "metadata": {},
   "outputs": [
    {
     "output_type": "execute_result",
     "data": {
      "text/plain": "D i s r u p t i ve F i n a n ce U s i n g P syc h o m et r i c s to O ve rco m e Co l l ate ra l Co n st ra i nt s i n Et h i o p i a50 5 Disruptive Finance: Using Psychometrics to Overcome Collateral Constraints in Ethiopia February 2019 The Situation in Ethiopia Over the past decade, Ethiopia has achieved high economic growth, establishing the country among the fastest growing economies both in Africa and the developing world. However, Ethiopia is falling behind its peers in the area of provision of credit to the private sector. According to the World Bank's Enterprise Surveys access to finance is perceived as the main business environment constraint by micro (41%), small (36%) and medium (29%) enterprises in Ethiopia, compared to a Sub-Saharan average of 24%, 20% and 16% respectively.13 Access to finance is a challenge for men and women alike but difficulties are amplified for women, who are less likely to own assets, and opportunities for women entrepreneurs in Ethiopia lag far behind those of men. In the Economist's Women's Economic Opportunity index, Ethiopia occupies the 123rd rank out of 128 countries. _14 Most growth-oriented women entrepreneurs fall into a ‘missing middle' trap, in which they are served neither by commercial banks nor by microfinance situations. High minimum loan sizes and excessive collateral constraints restrict women's access to loans from commercial banks. Microfinance institutions (MFIs) often lend without asset collateral, but they primarily cater to micro-firms with group lending schemes that provide very small loans, which are not sufficient in size to support business growth. In 2012, a $50 million World Bank investment lending operation was designed to address this missing middle challenge. The Women Entrepreneurship Development Project (WEDP) aimed to increase the earnings and employment of female-owned micro and small enterprises in Ethiopia, by improving the capacity of existing microfinance institutions to serve female entrepreneurs. To do this, MFIs were provided with tools, technical assistance, and liquidity to allow them to ‘upscale' and provider larger, individual loans to growth-oriented women entrepreneurs who needed them. In addition to introducing MFIs to existing best practices in individual lending, the World Bank team also sought to introduce innovations that could enable MFIs to reach a greater number of women entrepreneurs with individual loans (See Exhibit 3). The Lender and the Fintech After deciding on EFL's psychometric credit assessment tool, the next step was to decide which microfinance institution in Ethiopia would be the best partner for a pilot. At the time, the WEDP project involved 7 of the country's leading MFIs. After introducing the technology to each of them and conducting a careful assessment, one MFI - the Amhara Credit and Savings Institute (ACSI) - came out as the leading candidate. Located in the Amhara region of Ethiopia, ACSI was the largest MFI in the country, with over 1 million active borrowers and 440 branches (See Exhibit 4). ACSI had a well-established business in the group lending market but individual lending was still a new product line. Individual loans made up just over 10% of ACSI's lending portfolio and screening for individual loans was still based on a traditional appraisal mechanism that relied heavily on the existence of fixed asset collateral, such as houses or buildings. ACSI saw the pilot project as an opportunity to improve their ability to lend on an individual basis. They were optimistic that the psychometric score could be used to help graduate group borrowers who lacked collateral and therefore did not qualify for individual loans under the current credit assessment processes. This would allow former group borrowers to access 13 \"SME Finance in Ethiopia: Addressing the Missing Middle Challenge\",World Bank Group, 2015, documents.worldbank.org/curated/en/805371468247458154/ pdf/943650WP0Box380nt0Feb01002015040Web.pdf. 14 \"Women's Economic Opportunity Index 2012\", The Economist, www.eiu.com/Handlers/WhitepaperHandler.ashx?fi=WEO_full_report_final. pdf&mode=wp&campaignid=weoindex2012. EXHIBIT 4 Name ACSI No. of Active Borrowers 1,056,390 No. of Women Borrowers 621,245 Loans Outstanding 8,568,663,201 Voluntary Saving 7,431,441,029 Compulsory Saving 787,699,181 Total Saving 8,219,140,210 Total Asset 13,898,277,412 Total Liabilities 10,668,396,923 Total Capital 3,229,880,489 Association of Ethiopian Microfinance Institutions (AEMFI) Data on ACSI MFI 1st Quarter - March 31, 2016 ETB = .046 USD"
     },
     "metadata": {},
     "execution_count": 457
    }
   ],
   "source": [
    "doc2"
   ]
  },
  {
   "cell_type": "code",
   "execution_count": 288,
   "metadata": {},
   "outputs": [
    {
     "output_type": "execute_result",
     "data": {
      "text/plain": "(At the end of 2017, after securing external financing from Italy (USD 15.8 million) and Japan (USD 50 million), WEDP entered its second phase, expanding into 4 additional cities,4 adopting new technologies and innovations, and consolidating its interventions.,\n _3 Shortly thereafter, a WEDP revolving fund was approved to replenish the line of credit from repaid principals.)"
     },
     "metadata": {},
     "execution_count": 288
    }
   ],
   "source": [
    "ix = 29\n",
    "docs1[ix - 1], docs2[ix]"
   ]
  },
  {
   "cell_type": "code",
   "execution_count": 289,
   "metadata": {
    "tags": []
   },
   "outputs": [],
   "source": [
    "for e, s in enumerate(doc2.sents):\n",
    "    # print(s)\n",
    "    # print('------')\n",
    "    if e == ix:\n",
    "        break"
   ]
  },
  {
   "cell_type": "code",
   "execution_count": 290,
   "metadata": {},
   "outputs": [
    {
     "output_type": "execute_result",
     "data": {
      "text/plain": "_3 Shortly thereafter, a WEDP revolving fund was approved to replenish the line of credit from repaid principals."
     },
     "metadata": {},
     "execution_count": 290
    }
   ],
   "source": [
    "t = s[0]\n",
    "s"
   ]
  },
  {
   "cell_type": "code",
   "execution_count": 437,
   "metadata": {},
   "outputs": [],
   "source": []
  },
  {
   "cell_type": "code",
   "execution_count": 439,
   "metadata": {},
   "outputs": [],
   "source": []
  },
  {
   "cell_type": "code",
   "execution_count": 454,
   "metadata": {
    "tags": []
   },
   "outputs": [
    {
     "output_type": "stream",
     "name": "stdout",
     "text": "CPU times: user 5.06 ms, sys: 48 µs, total: 5.11 ms\nWall time: 5.14 ms\n"
    },
    {
     "output_type": "execute_result",
     "data": {
      "text/plain": "[('Ethiopia', True, 'Ethiopia', 'COUNTRY', 'PROPN', 'ETH'),\n ('Ethiopia', True, 'Ethiopia', 'COUNTRY', 'PROPN', 'ETH'),\n ('Peru', True, 'Peru', 'COUNTRY', 'PROPN', 'PER'),\n ('Mexico', True, 'Mexico', 'COUNTRY', 'PROPN', 'MEX'),\n ('Guatemala', True, 'Guatemala', 'COUNTRY', 'PROPN', 'GTM'),\n ('Ecuador', True, 'Ecuador', 'COUNTRY', 'PROPN', 'ECU'),\n ('India', True, 'India', 'COUNTRY', 'PROPN', 'IND'),\n ('Indonesia', True, 'Indonesia', 'COUNTRY', 'PROPN', 'IDN'),\n ('Kenya', True, 'Kenya', 'COUNTRY', 'PROPN', 'KEN'),\n ('Ghana', True, 'Ghana', 'COUNTRY', 'PROPN', 'GHA'),\n ('Ethiopia', True, 'Ethiopia', 'COUNTRY', 'PROPN', 'ETH'),\n ('Ethiopia', True, 'Ethiopia', 'COUNTRY', 'PROPN', 'ETH'),\n ('Ethiopia', True, 'Ethiopia', 'COUNTRY', 'PROPN', 'ETH'),\n ('Japan', True, 'Japan', 'COUNTRY', 'PROPN', 'JPN'),\n ('Italy', True, 'Italy', 'COUNTRY', 'PROPN', 'ITA'),\n ('Canada', True, 'Canada', 'COUNTRY', 'PROPN', 'CAN')]"
     },
     "metadata": {},
     "execution_count": 454
    }
   ],
   "source": []
  },
  {
   "cell_type": "code",
   "execution_count": 453,
   "metadata": {},
   "outputs": [
    {
     "output_type": "execute_result",
     "data": {
      "text/plain": "[('Ethiopia', True, 'Ethiopia', 'COUNTRY', 'PROPN', 'ETH'),\n ('Ethiopia', True, 'Ethiopia', 'COUNTRY', 'PROPN', 'ETH'),\n ('Peru', True, 'Peru', 'COUNTRY', 'PROPN', 'PER'),\n ('Mexico', True, 'Mexico', 'COUNTRY', 'PROPN', 'MEX'),\n ('Guatemala', True, 'Guatemala', 'COUNTRY', 'PROPN', 'GTM'),\n ('Ecuador', True, 'Ecuador', 'COUNTRY', 'PROPN', 'ECU'),\n ('India', True, 'India', 'COUNTRY', 'PROPN', 'IND'),\n ('Indonesia', True, 'Indonesia', 'COUNTRY', 'PROPN', 'IDN'),\n ('Kenya', True, 'Kenya', 'COUNTRY', 'PROPN', 'KEN'),\n ('Ghana', True, 'Ghana', 'COUNTRY', 'PROPN', 'GHA'),\n ('Ethiopia', True, 'Ethiopia', 'COUNTRY', 'PROPN', 'ETH'),\n ('Ethiopia', True, 'Ethiopia', 'COUNTRY', 'PROPN', 'ETH'),\n ('Ethiopia', True, 'Ethiopia', 'COUNTRY', 'PROPN', 'ETH'),\n ('Japan', True, 'Japan', 'COUNTRY', 'PROPN', 'JPN'),\n ('Italy', True, 'Italy', 'COUNTRY', 'PROPN', 'ITA'),\n ('Canada', True, 'Canada', 'COUNTRY', 'PROPN', 'CAN')]"
     },
     "metadata": {},
     "execution_count": 453
    }
   ],
   "source": []
  },
  {
   "cell_type": "code",
   "execution_count": 448,
   "metadata": {},
   "outputs": [
    {
     "output_type": "execute_result",
     "data": {
      "text/plain": "5M ay 2 02 0 As of December 2019, approximately 36,000 women entrepreneurs registered for WEDP. Of these, ETB 3.96 billion (USD 158.1 million) _5 has been disbursed to 13,870 clients, of which 59.8 percent (ETB 2.37 billion) were from donor funds, while the MFI internal funds (ETB 1.05 billion) and revolving fund (ETB 540 million) comprised the remaining 26.6 percent and 13.6 percent, respectively. Moreover, a total of 20,744 women entrepreneurs have participated in entrepreneurial trainings across 10 cities, with a 98.6 percent completion rate. Demand for loans and training shows little sign of abating, as women entrepreneurs from across various sectors, including trade, services, manufacturing, construction and agriculture, continue to register for the project. WEDP has been widely recognized for its achievements in empowering women entrepreneurs and for raising their profile throughout Ethiopia's financial system. The project model has demonstrated how an incentives-based strategy, coupled with hands-on management and a robust monitoring and evaluation system, can converge to successfully address a persistent constraint. In this document, we articulate some of the main conceptual and practical elements underpinning WEDP's model. Following this lessons piece, we present a collection of research and knowledge documents produced by the project thus far. We hope these lessons and experiences can inform practitioners with insights on working with the MSE sector, with a focus on applying a strong gender lens to reach a promising but underserved market segment: women entrepreneurs. 1 The response to and results of WEDP's line of credit demonstrated that growth-oriented women entrepreneurs are a high-value investment for financial institutions. Although access to finance is crucial to any business' productivity and growth trajectory, major gaps persist in Ethiopia. According to the World Bank's 2015 Enterprise Survey, access to finance was perceived as the top business environment constraint by enterprises in Ethiopia. _6 Like in many emerging markets, Ethiopia is characterized by the \"missing middle\" phenomenon, where small firms are neither being served by commercial banks nor by microfinance institutions (MFIs). Commercial banks rarely lend in amounts below USD 50,000, whereas MFIs mostly offer group loans that do not exceed USD 1,500. The financing difficulties are especially acute for women entrepreneurs, who face greater structural and cultural barriers than their male counterparts. Women entrepreneurs tend to have less education than men, shorter histories of viable businesses, less mobility and limited business networks. Most importantly, they often lack the assets, such as a house, needed as collateral for loans. All in all, they are typically deemed \"riskier\" by financial institutions. The response to WEDP's line of credit highlights an urgent need that had been previously unmet. In January 2014, the first month of disbursement, the average WEDP loan was ETB 242,364 (USD 12,354) – which was nine times the size of the average pre-WEDP MFI loan of ETB 27,000 (USD 1,376). _7 Since then, the average WEDP loan size has been steadily increasing, with the average loan size in December 2019 amounting to ETB 417,634 (USD 14,297).8 To investigate the impact of WEDP loans, a baseline study was carried out in 2014 with 2,369 women entrepreneurs from six Ethiopian cities. The survey instrument included questions about household demographic characteristics, socioeconomic status, business sales, profits, costs, employees, entrepreneurial profile, business knowledge and level of financial literacy. A midline survey was conducted approximately three years later for 2,139 firms, which is 90 percent of the baseline sample. Since receiving a loan is not a random assignment, the study utilized a propensity score matching (PSM) technique to compare the impact of WEDP loans between borrowers and a statistically matched group of non-borrowers. 5 The total cumulative disbursement in USD was calculated by utilizing the average annual exchange rates for each given year's total disbursement: 2014 (USD 1 = ETB 19.6175): USD 23.28 million; 2015 (USD 1 = ETB 20.6862): USD 24.83 million; 2016 (USD 1 = ETB 21.8377): USD 17.88 million; 2017 (USD 1 = ETB 23.9673): USD 24.52 million; 2018 (USD 1 = ETB 27.6677): USD 28.76 million; 2019 (USD 1 = ETB 29.2123): USD 39.06 million. 6 World Bank (2016). Enterprise Survey: Ethiopia, 2015-2016. https://www.enterprisesurveys.org/en/data/exploreeconomies/2015/ethiopia 7 2014 average exchange rate of USD 1 = ETB 19.6175. 8 2019 average exchange rate of USD 1 = ETB 29.2123."
     },
     "metadata": {},
     "execution_count": 448
    }
   ],
   "source": [
    "doc2"
   ]
  },
  {
   "cell_type": "code",
   "execution_count": 292,
   "metadata": {
    "tags": []
   },
   "outputs": [
    {
     "output_type": "stream",
     "name": "stdout",
     "text": "CPU times: user 1.37 s, sys: 53.8 ms, total: 1.43 s\nWall time: 1.57 s\n"
    }
   ],
   "source": [
    "%%time\n",
    "\n",
    "import pkg_resources\n",
    "from symspellpy.symspellpy import SymSpell\n",
    "\n",
    "# Set max_dictionary_edit_distance to avoid spelling correction\n",
    "sym_spell = SymSpell(max_dictionary_edit_distance=0, prefix_length=7)\n",
    "dictionary_path = pkg_resources.resource_filename(\n",
    "    \"symspellpy\", \"frequency_dictionary_en_82_765.txt\")\n",
    "# term_index is the column of the term and count_index is the\n",
    "# column of the term frequency\n",
    "sym_spell.load_dictionary(dictionary_path, term_index=0, count_index=1)\n",
    "\n",
    "# a sentence without any spaces\n",
    "# input_term = \"thequickbrownfoxjumpsoverthelazydog\"\n",
    "input_term = re.sub('\\s+', '', text)\n",
    "result = sym_spell.word_segmentation(input_term)\n",
    "# print(\"{}, {}, {}\".format(result.corrected_string, result.distance_sum,\n",
    "#                           result.log_prob_sum))"
   ]
  },
  {
   "cell_type": "code",
   "execution_count": 296,
   "metadata": {
    "tags": []
   },
   "outputs": [
    {
     "output_type": "stream",
     "name": "stdout",
     "text": "De signing aCr edit Facility for Wo men Ent rep rene ursLes sons from the EthiopiaWo men Ent rep rene ur ship D eve lop men tProject(WEDP)4WEDP loans began disbursing in J anu ary2014 through 12 partner micro finance institutions (MFIs) across 6 targeted cities in Ethi-opia.1By the end of the calendar year , the project had issued ETB456.6 million (USD23.3 million )to1,863 women entrepreneurs – over half the dedicated line of credit .2WEDP clients represented abroad spectrum of Ethiopia's business community , ranging from retail stores to restaurants to beauty salons .A mong those who borrowed ,66 percent were first - time borrowers , and yet repayment rates were healthy , standing at 99.1 percent .In tandem ,3,083 women had participated in entrepreneurship trainings .By mid -2015, the high demand for credit had led to a rapid depletion of WEDP funds , prompting the project leadership to explore additional sources of financing .In light of the declining balance , partner MFIs began disbursing from their internal funds .T his was an unexpected positive development , given MFIs' liquidity challenges .3S hort ly thereafter ,aWEDP revolving fund was approved to replenish the line of credit from repaid principals .At the end of 2017, after securing external financing from Italy(USD15.8 million ) and Japan(USD50 million ),WEDP entered its second phase , expanding into 4 additional cities ,4 adopting new technologies and innovations , and consolidating its interventions .Add it ion al funds from the Eu rope an In vestment Bank(EIB,USD34 million ) allowed WEDP to further refine and scale its efforts .In total , the externally funded line of credit reached USD145.7 million , while loans also continued to be disbursed from the revolving fund and MFIs' internal funds .TotalCumu lati veD is burse men tan dC lien tsJ anu ary2014-Dec ember 2019YEARCUMULATIVEWEDPLOANCL IENTSCUMULATIVETOTALDISBURSE MENT(ETB)20K18K16K14K12K10K8 K6K4K2K0K4.0B3.5B3.0B2.5B2.0 B1.5B1.0B0.5B0.0B20142015201 62017201820193.96B13,8701Add is A baba ,Adama,BahirDar,DireDawa,Ha was sa, and Mek ell e.22014 average exchange rate of USD1=ETB19.6175.3T rio dos F ace t(2011).EthiopianWo men Ent rep rene ur ship Capa city Buil ding Stu dies .4Assela,Axum,D ill a, and Gondar.\n"
    }
   ],
   "source": [
    "print(result.corrected_string)"
   ]
  },
  {
   "cell_type": "code",
   "execution_count": 280,
   "metadata": {
    "tags": []
   },
   "outputs": [
    {
     "output_type": "stream",
     "name": "stdout",
     "text": "True\n"
    },
    {
     "output_type": "execute_result",
     "data": {
      "text/plain": "[('repaid', 'repay', 'VERB', '', 'O'),\n ('principal', 'principal', 'NOUN', '', 'O'),\n ('is', 'be', 'AUX', '', 'O'),\n ('beng', 'beng', 'NOUN', 'PERSON', 'B'),\n ('given', 'give', 'VERB', '', 'O'),\n ('to', 'to', 'ADP', '', 'O'),\n ('the', 'the', 'DET', '', 'O'),\n ('authority', 'authority', 'NOUN', '', 'O')]"
     },
     "metadata": {},
     "execution_count": 280
    }
   ],
   "source": [
    "s = nlp('repaid principal is beng given to the authority')\n",
    "print(s._.performed_spellCheck) \n",
    "[(t.text, t.lemma_, t.pos_, t.ent_type_, t.ent_iob_) for t in s]"
   ]
  },
  {
   "cell_type": "markdown",
   "metadata": {},
   "source": [
    "# Result from direct txt version"
   ]
  },
  {
   "cell_type": "code",
   "execution_count": 36,
   "metadata": {
    "tags": []
   },
   "outputs": [
    {
     "output_type": "stream",
     "name": "stdout",
     "text": "MALAWI ECONOMIC MONITOR MAY 2018\n\fOVERVIEW\n                                                          challenges related to erratic energy and water\nThe Malawi Economic Monitor (MEM) provides an\n                                                          supply, which had a particularly negative impact\nanalysis of economic and structural development\n                                                          on      manufacturing.    Within  services,    the\nissues in Malawi. This edition was published in May\n                                                          performance of the wholesale and retail trade and\n2018. It follows on from the six previous editions of\n                                                          distribution sub-sectors declined as a result of\nthe MEM and is part of an ongoing series, with\n                                                          subdued domestic demand.\nfuture editions to follow twice per year.\n                                                          The prevalence of low-productivity rain-fed\nThe aim of the publication is to foster better-\n                                                          agriculture constrains poverty reduction. With most\ninformed policy analysis and debate regarding the\n                                                          of the population engaged in subsistence rain-fed\nkey challenges that Malawi faces in its endeavor to\n                                                          agriculture in rural areas, macroeconomic\nachieve high rates of stable, inclusive and\n                                                          instability and the sub-optimal performance of the\nsustainable economic growth.\n                                                          agricultural sector have contributed to the slow\nThe MEM consists of two parts: Part 1 presents a          pace of poverty reduction. Current estimates using\nreview of recent economic developments and a              the international poverty line (US$1.90 per day)\nmacroeconomic outlook. Part 2 focuses on a                indicate that 69.4 percent of the population is\nspecial selected topic relevant to Malawi’s               classified as being poor in 2017.\ndevelopment prospects.\n                                                          With the fiscal deficit at around six percent of GDP\nIn this edition, the special topic focuses on Social      over the past several years, in FY 2016/17 it\nSafety Nets. This is a defining moment for Malawi to      declined to 4.8 percent. This was mainly due to\ntransform its safety net. The recently approved           strong revenue collection performance and\nsecond Malawi National Social Support Program             controlled spending. The FY2017/18 budget\n(MNSSP II) works towards the creation of a dynamic        envisioned an even stronger performance by\nsafety net system that is positioned to better            lowering the deficit to 4 percent of GDP. The\nrespond to persistent poverty, recurrent shocks and       Government called for prudence in public\na demographic dividend. There is now robust               expenditure, with a commitment to avoiding the\nevidence showing how social safety nets can be            recurrent slippages that have characterized fiscal\nan efficient way to break the cycle of poverty and        performance in the past, and to continuing efforts\nvulnerability in Malawi.         Despite the evidence,    to intensify revenue collection.\ncurrent expenditure trends are low in terms of\nneeds and regional comparators. Strengthening             Despite the promising budget presentation, at mid-\nthe efficiency of safety nets is possible by reforming    year, the deficit significantly deteriorated. This was\nthe mix of program interventions and the links            due principally to three factors: a fall in revenue\nbetween them. While the social safety net sector in       due to weaker economic activity; a one-off\nMalawi has all the components necessary to                securitization of payment arrears dating back to\nfacilitate transformative change, this will require       FY2012/13 (1.2 percent of GDP); and an increase in\ncritical shifts in policy, institutional and investment   expenditure associated with the Agricultural\npriorities.                                               Development        and     Marketing      Corporation\n                                                          (ADMARC) financing (about 1 percent of GDP).\nECONOMIC DEVELOPMENTS\n                                                          Inflationary pressure subdued in the latter half of\nThe key messages of this edition of the MEM are\n                                                          2017, with the year-on-year headline rate falling to\nabout economic recovery and cautious optimism.\n                                                          7.1 percent in December. The decline was largely\nMalawi’s GDP growth picked up in 2017, but is\n                                                          due to a fall in food inflation, from a high of 20\nexpected to moderate in 2018, tracking agricultural\n                                                          percent in December 2016 to 4.3 percent in\nproduction. The Government is striving to achieve\n                                                          December 2017. An interesting reversal in the\nbudgetary prudence, although it continues to face\n                                                          factors driving inflation was noted in this period,\nchallenges in revenue collection. In the context of\n                                                          with non-food inflation remaining sticky and slowing\nsubdued inflation, the Government is continuing to\n                                                          only marginally, from a peak of 15.4 percent in\ncautiously ease monetary policy.\n                                                          December 2016 to 10 percent a year later. In 2017,\nAfter two years of depressed economic activity, the       the decline in food inflation was due to the bumper\nreal GDP growth picked up to 4 percent in 2017.           harvest during the 2016/17 growing season,\nWith a rebound in agricultural production, the            together with the maize export ban and carryover\nprospects for growth were generally positive.             stock from the humanitarian food purchases. These\nHowever, performance in the industrial and services       factors led to an abundant food supply and\nsectors was much weaker than anticipated.                 subdued prices.\nIndustry was adversely impacted by structural\n\n1 « MALAWI ECONOMIC MONITOR MAY 2018\n\fIn the context of the significant decline in headline         This could be further improved through efforts\ninflation, the RBM has continued to ease monetary             to broaden the tax base and to strengthen\npolicy. Since November 2016, t\n"
    }
   ],
   "source": [
    "print(txt_original[12850:20000])"
   ]
  },
  {
   "cell_type": "markdown",
   "metadata": {
    "tags": []
   },
   "source": [
    "# Result from PDFDoc2Txt"
   ]
  },
  {
   "cell_type": "code",
   "execution_count": 39,
   "metadata": {
    "tags": []
   },
   "outputs": [
    {
     "output_type": "stream",
     "name": "stdout",
     "text": "1 « MALAWI ECONOMIC MONITOR MAY 2018\n\nOVERVIEW The Malawi Economic Monitor (MEM) provides an analysis of economic and structural development issues in Malawi. This edition was published in May 2018. It follows on from the six previous editions of the MEM and is part of an ongoing series, with future editions to follow twice per year.\n\nThe aim of the publication is to foster better- informed policy analysis and debate regarding the key challenges that Malawi faces in its endeavor to achieve high rates of stable, inclusive and sustainable economic growth.\n\nThe MEM consists of two parts: Part 1 presents a review of recent economic developments and a macroeconomic outlook. Part 2 focuses on a special selected topic relevant to Malawi's development prospects.\n\nIn this edition, the special topic focuses on Social Safety Nets. This is a defining moment for Malawi to transform its safety net. The recently approved second Malawi National Social Support Program (MNSSP II) works towards the creation of a dynamic safety net system that is positioned to better respond to persistent poverty, recurrent shocks and a demographic dividend.  There is now robust evidence showing how social safety nets can be an efficient way to break the cycle of poverty and vulnerability in Malawi.  Despite the evidence, current expenditure trends are low in terms of needs and regional comparators.  Strengthening the efficiency of safety nets is possible by reforming the mix of program interventions and the links between them.  While the social safety net sector in Malawi has all the components necessary to facilitate transformative change, this will require critical shifts in policy, institutional and investment priorities.\n\nECONOMIC DEVELOPMENTS The key messages of this edition of the MEM are about economic recovery and cautious optimism.\n\nMalawi's GDP growth picked up in 2017, but is expected to moderate in 2018, tracking agricultural production. The Government is striving to achieve budgetary prudence, although it continues to face challenges in revenue collection. In the context of subdued inflation, the Government is continuing to cautiously ease monetary policy.\n\nAfter two years of depressed economic activity, the real GDP growth picked up to 4 percent in 2017.\n\nWith a rebound in agricultural production, the prospects for growth were generally positive.\n\nHowever, performance in the industrial and services sectors was much weaker than anticipated.\n\nIndustry was adversely impacted by structural challenges related to erratic energy and water supply, which had a particularly negative impact on manufacturing. Within services, the performance of the wholesale and retail trade and distribution sub-sectors declined as a result of subdued domestic demand.\n\nThe prevalence of low-productivity rain-fed agriculture constrains poverty reduction. With most of the population engaged in subsistence rain-fed agriculture in rural areas, macroeconomic instability and the sub-optimal performance of the agricultural sector have contributed to the slow pace of poverty reduction. Current estimates using the international poverty line (US$1.90 per day) indicate that 69.4 percent of the population is classified as being poor in 2017.\n\nWith the fiscal deficit at around six percent of GDP over the past several years, in FY 2016/17 it declined to 4.8 percent. This was mainly due to strong revenue collection performance and controlled spending. The FY2017/18 budget envisioned an even stronger performance by lowering the deficit to 4 percent of GDP. The Government called for prudence in public expenditure, with a commitment to avoiding the recurrent slippages that have characterized fiscal performance in the past, and to continuing efforts to intensify revenue collection.\n\nDespite the promising budget presentation, at mid- year, the deficit significantly deteriorated. This was due principally to three factors: a fall in revenue due to weaker economic activity; a one-off securitization of payment arrears dating back to FY2012/13 (1.2 percent of GDP); and an increase in expenditure associated with the Agricultural Development and Marketing Corporation (ADMARC) financing (about 1 percent of GDP).\n\nInflationary pressure subdued in the latter half of 2017, with the year-on-year headline rate falling to 7.1 percent in December. The decline was largely due to a fall in food inflation, from a high of 20 percent in December 2016 to 4.3 percent in December 2017. An interesting reversal in the factors driving inflation was noted in this period, with non-food inflation remaining sticky and slowing only marginally, from a peak of 15.4 percent in December 2016 to 10 percent a year later. In 2017, the decline in food inflation was due to the bumper harvest during the 2016/17 growing season, together with the maize export ban and carryover stock from the humanitarian food purchases. These factors led to an abundant food supply and subdued prices.\n"
    }
   ],
   "source": [
    "print(txt[4])"
   ]
  },
  {
   "cell_type": "markdown",
   "metadata": {},
   "source": [
    "## Observations\n",
    "\n",
    "Using the text version from the WB Docs repository shows a fragmented structure. Columnar flows in a pdf page are literally placed side-by-side. This proves to be a challenge since inferring of sentences is not straighforward as simply replacing line breaks with spaces.\n",
    "\n",
    "On the other hand, we can see that the `PDFDoc2Txt` has managed to recover the logical sentences in the text. It was able to properly concatenate fragmented sentences and also identified which correspond to a single column flow."
   ]
  },
  {
   "cell_type": "code",
   "execution_count": null,
   "metadata": {},
   "outputs": [],
   "source": []
  }
 ],
 "metadata": {
  "kernelspec": {
   "display_name": "wb_nlp",
   "language": "python",
   "name": "wb_nlp"
  },
  "language_info": {
   "codemirror_mode": {
    "name": "ipython",
    "version": 3
   },
   "file_extension": ".py",
   "mimetype": "text/x-python",
   "name": "python",
   "nbconvert_exporter": "python",
   "pygments_lexer": "ipython3",
   "version": "3.7.6-final"
  },
  "pycharm": {
   "stem_cell": {
    "cell_type": "raw",
    "metadata": {
     "collapsed": false
    },
    "source": []
   }
  }
 },
 "nbformat": 4,
 "nbformat_minor": 4
}