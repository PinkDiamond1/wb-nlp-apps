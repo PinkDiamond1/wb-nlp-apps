{
 "cells": [
  {
   "cell_type": "raw",
   "metadata": {},
   "source": [
    "sudo apt-get install default-jdk\n",
    "sudo apt-get install ant\n",
    "git clone git@github.com:mimno/Mallet.git\n",
    "cd Mallet/\n",
    "ant"
   ]
  },
  {
   "cell_type": "markdown",
   "metadata": {},
   "source": [
    "Process:\n",
    "\n",
    "1. Download metadata\n",
    "2. Download text documents\n",
    "3. Perform cleaning\n",
    "4. Apply LDA model"
   ]
  },
  {
   "cell_type": "code",
   "execution_count": 1,
   "metadata": {
    "collapsed": true
   },
   "outputs": [],
   "source": [
    "import os\n",
    "import json\n",
    "\n",
    "import pandas as pd"
   ]
  },
  {
   "cell_type": "markdown",
   "metadata": {},
   "source": [
    "## Import the DocsManager notebook\n",
    "\n",
    "Let's import the DocsManager helper class that manages the loading and filtering of documents from the API."
   ]
  },
  {
   "cell_type": "code",
   "execution_count": 2,
   "metadata": {
    "collapsed": true
   },
   "outputs": [],
   "source": [
    "%%capture\n",
    "\n",
    "# LdaMallet\n",
    "# Dictionary (gensim)\n",
    "# build_docs\n",
    "# transform_dt\n",
    "# get_tw\n",
    "# get_top_words\n",
    "%run ./LDAModule.ipynb\n",
    "\n",
    "# DocsManager\n",
    "# build_docs\n",
    "%run ../../DocsManager.ipynb\n",
    "## Jupyter.notebook.save_checkpoint()\n",
    "\n",
    "# get_corpus_path\n",
    "# get_txt_clean_path\n",
    "%run ../../path_manager.ipynb"
   ]
  },
  {
   "cell_type": "code",
   "execution_count": null,
   "metadata": {
    "collapsed": true
   },
   "outputs": [],
   "source": []
  },
  {
   "cell_type": "code",
   "execution_count": 3,
   "metadata": {},
   "outputs": [
    {
     "data": {
      "text/plain": [
       "'/R/NLP/CORPUS/WB'"
      ]
     },
     "execution_count": 3,
     "metadata": {},
     "output_type": "execute_result"
    }
   ],
   "source": [
    "get_corpus_path('WB')"
   ]
  },
  {
   "cell_type": "markdown",
   "metadata": {},
   "source": [
    "Let's create a DocsManager instance.\n",
    "\n",
    "- `metadata_filename`: path to the metadata file generated after scraping the API\n",
    "- `cleaned_files_dir`: path to the directory where the cleaned files are stored\n",
    "- `model_output_dir`: path to where model related files will be saved\n"
   ]
  },
  {
   "cell_type": "code",
   "execution_count": 4,
   "metadata": {
    "collapsed": true
   },
   "outputs": [],
   "source": [
    "CORPUS_ID = 'WB'\n",
    "CORPUS_PART = 'ALL'\n",
    "NUM_TOPICS = 50\n",
    "MALLET_BINARY_PATH = \"../Mallet/bin/mallet\"\n",
    "MODELS_PATH = get_models_path('LDA')\n",
    "NUM_WORKERS = 22\n",
    "\n",
    "MODEL_ID = f\"{CORPUS_PART}_{NUM_TOPICS}\"\n",
    "MODEL_FOLDER = os.path.join(MODELS_PATH, f'{CORPUS_ID}-{MODEL_ID}')"
   ]
  },
  {
   "cell_type": "code",
   "execution_count": 5,
   "metadata": {
    "collapsed": true
   },
   "outputs": [],
   "source": [
    "import logging\n",
    "\n",
    "logging.basicConfig(filename=f'./{CORPUS_ID.lower()}-{MODEL_ID}.log', format='%(asctime)s - %(levelname)s - %(message)s', level=logging.INFO)\n"
   ]
  },
  {
   "cell_type": "code",
   "execution_count": 6,
   "metadata": {
    "collapsed": true
   },
   "outputs": [],
   "source": [
    "MODEL_DATA_FOLDER = os.path.join(MODEL_FOLDER, 'data')\n",
    "\n",
    "if not os.path.isdir(MODEL_DATA_FOLDER):\n",
    "    os.makedirs(MODEL_DATA_FOLDER)"
   ]
  },
  {
   "cell_type": "code",
   "execution_count": 7,
   "metadata": {},
   "outputs": [
    {
     "name": "stdout",
     "output_type": "stream",
     "text": [
      "CPU times: user 6.02 s, sys: 859 ms, total: 6.87 s\n",
      "Wall time: 6.91 s\n"
     ]
    }
   ],
   "source": [
    "%%time\n",
    "docs = build_docs(\n",
    "    metadata_filename=os.path.join(get_corpus_path(CORPUS_ID), f'{CORPUS_ID.lower()}_metadata_complete.csv'),\n",
    "    cleaned_files_dir=get_txt_clean_path(CORPUS_ID),\n",
    "    model_output_dir=MODEL_FOLDER  # Use flat directory as discussed...\n",
    ")"
   ]
  },
  {
   "cell_type": "markdown",
   "metadata": {},
   "source": [
    "Given a `CORPUS_PART`, let's extract the filtered documents. Please check the `DocsManager.ipynb` notebook for additional filter options."
   ]
  },
  {
   "cell_type": "code",
   "execution_count": 8,
   "metadata": {
    "collapsed": true
   },
   "outputs": [],
   "source": [
    "docs.set_min_token_count(100)"
   ]
  },
  {
   "cell_type": "code",
   "execution_count": 9,
   "metadata": {
    "collapsed": true
   },
   "outputs": [],
   "source": [
    "logging.info('Filtering docs for partition...')"
   ]
  },
  {
   "cell_type": "code",
   "execution_count": 10,
   "metadata": {},
   "outputs": [
    {
     "name": "stdout",
     "output_type": "stream",
     "text": [
      "CPU times: user 2min 2s, sys: 38.1 s, total: 2min 40s\n",
      "Wall time: 2min 54s\n"
     ]
    }
   ],
   "source": [
    "%%time\n",
    "docs_filtered, meta = docs.filter_doclist(CORPUS_PART, save=True, return_meta=True, pool_workers=22)"
   ]
  },
  {
   "cell_type": "code",
   "execution_count": 11,
   "metadata": {},
   "outputs": [
    {
     "data": {
      "text/html": [
       "<div>\n",
       "<style scoped>\n",
       "    .dataframe tbody tr th:only-of-type {\n",
       "        vertical-align: middle;\n",
       "    }\n",
       "\n",
       "    .dataframe tbody tr th {\n",
       "        vertical-align: top;\n",
       "    }\n",
       "\n",
       "    .dataframe thead th {\n",
       "        text-align: right;\n",
       "    }\n",
       "</style>\n",
       "<table border=\"1\" class=\"dataframe\">\n",
       "  <thead>\n",
       "    <tr style=\"text-align: right;\">\n",
       "      <th></th>\n",
       "      <th>id</th>\n",
       "      <th>title</th>\n",
       "      <th>author</th>\n",
       "      <th>digital_identifier</th>\n",
       "      <th>language_detected</th>\n",
       "      <th>year</th>\n",
       "      <th>pages</th>\n",
       "    </tr>\n",
       "  </thead>\n",
       "  <tbody>\n",
       "    <tr>\n",
       "      <th>0</th>\n",
       "      <td>wb_10000577</td>\n",
       "      <td>Crises, capital controls, and financial integr...</td>\n",
       "      <td>Van Horen, Neeltje</td>\n",
       "      <td>090224b0828ae539</td>\n",
       "      <td>en</td>\n",
       "      <td>2008.0</td>\n",
       "      <td></td>\n",
       "    </tr>\n",
       "    <tr>\n",
       "      <th>1</th>\n",
       "      <td>wb_10000660</td>\n",
       "      <td>The typology of partial credit guarantee funds...</td>\n",
       "      <td>Mendoza, Juan Carlos</td>\n",
       "      <td>090224b0828a486d</td>\n",
       "      <td>en</td>\n",
       "      <td>2008.0</td>\n",
       "      <td></td>\n",
       "    </tr>\n",
       "  </tbody>\n",
       "</table>\n",
       "</div>"
      ],
      "text/plain": [
       "            id                                              title  \\\n",
       "0  wb_10000577  Crises, capital controls, and financial integr...   \n",
       "1  wb_10000660  The typology of partial credit guarantee funds...   \n",
       "\n",
       "                 author digital_identifier language_detected    year pages  \n",
       "0    Van Horen, Neeltje   090224b0828ae539                en  2008.0        \n",
       "1  Mendoza, Juan Carlos   090224b0828a486d                en  2008.0        "
      ]
     },
     "execution_count": 11,
     "metadata": {},
     "output_type": "execute_result"
    }
   ],
   "source": [
    "meta.head(2)"
   ]
  },
  {
   "cell_type": "code",
   "execution_count": 12,
   "metadata": {},
   "outputs": [
    {
     "data": {
      "text/html": [
       "<div>\n",
       "<style scoped>\n",
       "    .dataframe tbody tr th:only-of-type {\n",
       "        vertical-align: middle;\n",
       "    }\n",
       "\n",
       "    .dataframe tbody tr th {\n",
       "        vertical-align: top;\n",
       "    }\n",
       "\n",
       "    .dataframe thead th {\n",
       "        text-align: right;\n",
       "    }\n",
       "</style>\n",
       "<table border=\"1\" class=\"dataframe\">\n",
       "  <thead>\n",
       "    <tr style=\"text-align: right;\">\n",
       "      <th></th>\n",
       "      <th>id</th>\n",
       "      <th>filename</th>\n",
       "      <th>text</th>\n",
       "    </tr>\n",
       "  </thead>\n",
       "  <tbody>\n",
       "    <tr>\n",
       "      <th>0</th>\n",
       "      <td>wb_10000577</td>\n",
       "      <td>/R/NLP/CORPUS/WB/TXT_CLEAN/wb_10000577.txt</td>\n",
       "      <td>policy research work paper crisis capital cont...</td>\n",
       "    </tr>\n",
       "    <tr>\n",
       "      <th>1</th>\n",
       "      <td>wb_10000660</td>\n",
       "      <td>/R/NLP/CORPUS/WB/TXT_CLEAN/wb_10000660.txt</td>\n",
       "      <td>policy research work paper typology partial cr...</td>\n",
       "    </tr>\n",
       "  </tbody>\n",
       "</table>\n",
       "</div>"
      ],
      "text/plain": [
       "            id                                    filename  \\\n",
       "0  wb_10000577  /R/NLP/CORPUS/WB/TXT_CLEAN/wb_10000577.txt   \n",
       "1  wb_10000660  /R/NLP/CORPUS/WB/TXT_CLEAN/wb_10000660.txt   \n",
       "\n",
       "                                                text  \n",
       "0  policy research work paper crisis capital cont...  \n",
       "1  policy research work paper typology partial cr...  "
      ]
     },
     "execution_count": 12,
     "metadata": {},
     "output_type": "execute_result"
    }
   ],
   "source": [
    "docs_filtered.head(2)"
   ]
  },
  {
   "cell_type": "markdown",
   "metadata": {},
   "source": [
    "# LDA model"
   ]
  },
  {
   "cell_type": "markdown",
   "metadata": {},
   "source": [
    "### Generate gensim dictionary"
   ]
  },
  {
   "cell_type": "code",
   "execution_count": null,
   "metadata": {
    "collapsed": true
   },
   "outputs": [],
   "source": []
  },
  {
   "cell_type": "code",
   "execution_count": 13,
   "metadata": {},
   "outputs": [
    {
     "name": "stdout",
     "output_type": "stream",
     "text": [
      "CPU times: user 16min 8s, sys: 52.4 s, total: 17min 1s\n",
      "Wall time: 16min 56s\n"
     ]
    }
   ],
   "source": [
    "%%time\n",
    "logging.info('Generating dictionary...')\n",
    "g_dict = Dictionary(docs_filtered.text.str.split())\n",
    "g_dict.id2token = {id: token for token, id in g_dict.token2id.items()}"
   ]
  },
  {
   "cell_type": "markdown",
   "metadata": {},
   "source": [
    "### Train LDA model using Gensim's Mallet wrapper"
   ]
  },
  {
   "cell_type": "code",
   "execution_count": 14,
   "metadata": {},
   "outputs": [
    {
     "name": "stdout",
     "output_type": "stream",
     "text": [
      "CPU times: user 13min 23s, sys: 8.29 s, total: 13min 31s\n",
      "Wall time: 13min 28s\n"
     ]
    }
   ],
   "source": [
    "%%time\n",
    "logging.info('Generating corpus...')\n",
    "corpus = [g_dict.doc2bow(text.split()) for text in docs_filtered.text]"
   ]
  },
  {
   "cell_type": "code",
   "execution_count": 15,
   "metadata": {
    "collapsed": true
   },
   "outputs": [],
   "source": [
    "MODEL_DATA_FOLDER = os.path.join(MODELS_PATH, f'{CORPUS_ID}-{MODEL_ID}', 'data')\n",
    "MODEL_MALLET_FOLDER = os.path.join(MODELS_PATH, f'{CORPUS_ID}-{MODEL_ID}', 'mallet')\n",
    "\n",
    "if not os.path.isdir(MODEL_DATA_FOLDER):\n",
    "    os.makedirs(MODEL_DATA_FOLDER)\n",
    "    \n",
    "\n",
    "if not os.path.isdir(MODEL_MALLET_FOLDER):\n",
    "    os.makedirs(MODEL_MALLET_FOLDER)"
   ]
  },
  {
   "cell_type": "code",
   "execution_count": null,
   "metadata": {},
   "outputs": [
    {
     "data": {
      "text/plain": [
       "'/R/NLP/MODELS/LDA/WB-ALL_50/data'"
      ]
     },
     "execution_count": 16,
     "metadata": {},
     "output_type": "execute_result"
    }
   ],
   "source": [
    "MODEL_DATA_FOLDER"
   ]
  },
  {
   "cell_type": "markdown",
   "metadata": {},
   "source": [
    "# WARNING! Mallet files will be stored in the user home directory.\n",
    "\n",
    "Ideally, this should be in the /tmp directory but the allocated space is not enough"
   ]
  },
  {
   "cell_type": "code",
   "execution_count": null,
   "metadata": {},
   "outputs": [
    {
     "name": "stdout",
     "output_type": "stream",
     "text": [
      "/R/NLP/MODELS/LDA/WB-ALL_50/mallet/WB-ALL_50_corpus.txt\n"
     ]
    }
   ],
   "source": [
    "%%time\n",
    "logging.info('Start training LDA model...')\n",
    "model = LdaMallet(\n",
    "    MALLET_BINARY_PATH, corpus=corpus, num_topics=NUM_TOPICS, prefix=f'{MODEL_MALLET_FOLDER}/{CORPUS_ID}-{MODEL_ID}_', \n",
    "    id2word=g_dict.id2token, workers=NUM_WORKERS,\n",
    "    iterations=200\n",
    ")"
   ]
  },
  {
   "cell_type": "code",
   "execution_count": null,
   "metadata": {
    "collapsed": true
   },
   "outputs": [],
   "source": [
    "model.fdoctopics(), model.num_topics"
   ]
  },
  {
   "cell_type": "markdown",
   "metadata": {},
   "source": [
    "### Load doc topics"
   ]
  },
  {
   "cell_type": "code",
   "execution_count": null,
   "metadata": {
    "collapsed": true
   },
   "outputs": [],
   "source": [
    "logging.info('Building dt...')\n",
    "dt = pd.read_csv(\n",
    "    model.fdoctopics(), delimiter='\\t', header=None,\n",
    "    names=[i for i in range(model.num_topics)], index_col=None,\n",
    "    usecols=[i + 2 for i in range(model.num_topics)],\n",
    ")\n",
    "\n",
    "dt.index = docs_filtered['id']\n",
    "dt = dt.divide(dt.min(axis=1), axis=0).astype(int) - 1"
   ]
  },
  {
   "cell_type": "code",
   "execution_count": null,
   "metadata": {
    "collapsed": true,
    "scrolled": true
   },
   "outputs": [],
   "source": [
    "dt.head(2)"
   ]
  },
  {
   "cell_type": "code",
   "execution_count": null,
   "metadata": {
    "collapsed": true,
    "scrolled": true
   },
   "outputs": [],
   "source": [
    "dt.head(2)"
   ]
  },
  {
   "cell_type": "markdown",
   "metadata": {},
   "source": [
    "### Generate dfr data"
   ]
  },
  {
   "cell_type": "code",
   "execution_count": null,
   "metadata": {
    "collapsed": true
   },
   "outputs": [],
   "source": [
    "logging.info('Building ddt...')\n",
    "ddt = transform_dt(dt.as_matrix().T)"
   ]
  },
  {
   "cell_type": "code",
   "execution_count": null,
   "metadata": {
    "collapsed": true
   },
   "outputs": [],
   "source": [
    "logging.info('Building ttw...')\n",
    "ttw = get_tw(model)"
   ]
  },
  {
   "cell_type": "markdown",
   "metadata": {},
   "source": [
    "### Store data"
   ]
  },
  {
   "cell_type": "code",
   "execution_count": null,
   "metadata": {
    "collapsed": true
   },
   "outputs": [],
   "source": [
    "logging.info('Storing ttw...')\n",
    "with open(os.path.join(MODEL_DATA_FOLDER, 'tw.json'), 'w') as fl:\n",
    "    json.dump(ttw, fl)"
   ]
  },
  {
   "cell_type": "code",
   "execution_count": null,
   "metadata": {
    "collapsed": true,
    "scrolled": true
   },
   "outputs": [],
   "source": [
    "logging.info('Storing ddt...')\n",
    "with open(os.path.join(MODEL_DATA_FOLDER, 'dt.json'), 'w') as fl:\n",
    "    json.dump(ddt, fl)"
   ]
  },
  {
   "cell_type": "code",
   "execution_count": null,
   "metadata": {
    "collapsed": true
   },
   "outputs": [],
   "source": [
    "logging.info('Storing info_json...')\n",
    "info_json = {\n",
    "    \"title\": \"Topics in <em>WB Documents and Reports API<\\/em>\",\n",
    "    \"meta_info\": \"This site is the working demo for <a href=\\\"/\\\">dfr-browser</a>, a browsing interface for topic models of journal articles or other text.\",\n",
    "    \"VIS\": {\n",
    "        \"condition\": {\n",
    "            \"type\": \"time\",\n",
    "            \"spec\": {\n",
    "                \"unit\": \"year\",\n",
    "                \"n\": 1\n",
    "            }\n",
    "        },\n",
    "        \"bib_sort\": {\n",
    "            \"major\": \"year\",\n",
    "            \"minor\": \"alpha\"\n",
    "        },\n",
    "        \"model_view\": {\n",
    "            \"plot\": {\n",
    "                \"words\": 6,\n",
    "                \"size_range\": [6, 14]\n",
    "            } \n",
    "        }\n",
    "    }\n",
    "}\n",
    "\n",
    "with open(os.path.join(MODEL_DATA_FOLDER, 'info.json'), 'w') as fl:\n",
    "    json.dump(info_json, fl)"
   ]
  },
  {
   "cell_type": "markdown",
   "metadata": {},
   "source": [
    "# Generation of key LDA files\n",
    "\n",
    "### doc_topics"
   ]
  },
  {
   "cell_type": "code",
   "execution_count": null,
   "metadata": {
    "collapsed": true
   },
   "outputs": [],
   "source": [
    "logging.info('Storing doc topics...')\n",
    "dt.to_csv(\n",
    "    os.path.join(MODEL_DATA_FOLDER, f'doc_topics_{MODEL_ID}.csv'), \n",
    "    header=False,  # Change to True if topic id should be present as the header\n",
    "    index=False  # Change to True if the uid should be present as the index\n",
    ")"
   ]
  },
  {
   "cell_type": "markdown",
   "metadata": {},
   "source": [
    "### topic_words"
   ]
  },
  {
   "cell_type": "code",
   "execution_count": null,
   "metadata": {
    "collapsed": true
   },
   "outputs": [],
   "source": [
    "word_topics = pd.DataFrame(model.word_topics, columns=range(model.word_topics.shape[1]), index=range(1, model.word_topics.shape[0] + 1))\n",
    "word_topics = word_topics.rename(columns=model.id2word)"
   ]
  },
  {
   "cell_type": "code",
   "execution_count": null,
   "metadata": {
    "collapsed": true
   },
   "outputs": [],
   "source": [
    "word_topics.head()"
   ]
  },
  {
   "cell_type": "code",
   "execution_count": null,
   "metadata": {
    "collapsed": true
   },
   "outputs": [],
   "source": [
    "logging.info('Storing word topics...')\n",
    "word_topics.astype(int).to_csv(\n",
    "    os.path.join(MODEL_DATA_FOLDER, f'topic_words_{MODEL_ID}.csv'), \n",
    "    header=False,  # Change to True if actual word should be present as the header\n",
    "    index=False  # Change to True if the topic id should be present as the index\n",
    ")"
   ]
  },
  {
   "cell_type": "markdown",
   "metadata": {},
   "source": [
    "### top_words"
   ]
  },
  {
   "cell_type": "code",
   "execution_count": null,
   "metadata": {
    "collapsed": true
   },
   "outputs": [],
   "source": [
    "logging.info('Getting top words...')\n",
    "top_words = get_top_words(word_topics, topic=None, topn=50)"
   ]
  },
  {
   "cell_type": "code",
   "execution_count": null,
   "metadata": {
    "collapsed": true
   },
   "outputs": [],
   "source": [
    "top_words.head(2)"
   ]
  },
  {
   "cell_type": "code",
   "execution_count": null,
   "metadata": {
    "collapsed": true
   },
   "outputs": [],
   "source": [
    "logging.info('Storing top words...')\n",
    "top_words.to_csv(\n",
    "    os.path.join(MODEL_DATA_FOLDER, f'top_words_{MODEL_ID}.csv'), \n",
    "    index=False  # Change to True if the topic id should be present as the index\n",
    ")"
   ]
  },
  {
   "cell_type": "code",
   "execution_count": null,
   "metadata": {
    "collapsed": true
   },
   "outputs": [],
   "source": [
    "%%time\n",
    "logging.info('Saving model...')\n",
    "model.save(os.path.join(MODEL_DATA_FOLDER, f'{CORPUS_ID}_lda_model_{MODEL_ID}.lda'))"
   ]
  },
  {
   "cell_type": "code",
   "execution_count": 34,
   "metadata": {
    "collapsed": true
   },
   "outputs": [],
   "source": [
    "# ls -lh saved_lda_model.lda"
   ]
  },
  {
   "cell_type": "markdown",
   "metadata": {},
   "source": [
    "# Find closest document by Euclidean distance\n",
    "\n",
    "Use functions defined in `LDAModule.ipynb`: `close_docs`"
   ]
  },
  {
   "cell_type": "code",
   "execution_count": 84,
   "metadata": {
    "collapsed": true
   },
   "outputs": [],
   "source": [
    "# # We generate a function that will find and list the N documents closest to a selected one\n",
    "# close_docs <- function(docid, numclose) {\n",
    "#   indx <- which(s$uid == docid)\n",
    "#   mxcol = 24 + as.numeric(model)\n",
    "#   x1 <- s[indx, 25:mxcol]\n",
    "#   neighbors <- s[, 25:mxcol]\n",
    "#   dist <- pdist(neighbors, x1)\n",
    "#   similar <- cbind(s, dist@dist)\n",
    "#   similar <- similar[order(dist@dist),]\n",
    "#   head(similar[, c(1,5,6,8,9,11,15)], numclose) # The first in the list is the document itself\n",
    "# }\n",
    "\n",
    "# close_docs(10575832, 21)\n",
    "# close_docs(27761347, 21)"
   ]
  },
  {
   "cell_type": "code",
   "execution_count": 87,
   "metadata": {},
   "outputs": [
    {
     "name": "stdout",
     "output_type": "stream",
     "text": [
      "uid: 20140580 \n",
      "title: SABER in Action: An Overview - -ln-             Strengthening Education Systems to Achieve Learning for All \n",
      "url: http://documents.worldbank.org/curated/en/866881468323335358/SABER-in-Action-An-Overview-Strengthening-Education-Systems-to-Achieve-Learning-for-All \n",
      "pdf_url: http://documents.worldbank.org/curated/en/866881468323335358/pdf/80059-REVISED-SABER-in-Action-An-Overview.pdf\n",
      "\n",
      "uid: 29839318 \n",
      "title: Statement by Mr. Johan Van -ln-             Overtveldt at the 97th meeting of the Development Committee -ln-             held on April 21, 2018 \n",
      "url: http://documents.worldbank.org/curated/en/805751524690768770/Statement-by-Mr-Johan-Van-Overtveldt-at-the-97th-meeting-of-the-Development-Committee-held-on-April-21-2018 \n",
      "pdf_url: http://documents.worldbank.org/curated/en/805751524690768770/pdf/DCS2018-0031-Belgium-04212018.pdf\n",
      "\n",
      "uid: 29839299 \n",
      "title: Statement by Rt. Hon. Penny -ln-             Mordaunt at the 97th meeting of the Development Committee -ln-             held on April 21, 2018 \n",
      "url: http://documents.worldbank.org/curated/en/376391524690404485/Statement-by-Rt-Hon-Penny-Mordaunt-at-the-97th-meeting-of-the-Development-Committee-held-on-April-21-2018 \n",
      "pdf_url: http://documents.worldbank.org/curated/en/376391524690404485/pdf/DCS2018-0027-UnitedKingdom-04212018.pdf\n",
      "\n",
      "uid: 29837475 \n",
      "title: Statement by H.E. Gerd Muller at -ln-             the 97th meeting of the Development Committee held on April -ln-             21, 2018 \n",
      "url: http://documents.worldbank.org/curated/en/866601524663030153/Statement-by-H-E-Gerd-Muller-at-the-97th-meeting-of-the-Development-Committee-held-on-April-21-2018 \n",
      "pdf_url: http://documents.worldbank.org/curated/en/866601524663030153/pdf/DCS2018-0008-Germany-04212018.pdf\n",
      "\n",
      "uid: 29839155 \n",
      "title: Statement by Mr. Mohammed -ln-             Boussaid at the 97th meeting of the Development Committee -ln-             held on April 21, 2018 \n",
      "url: http://documents.worldbank.org/curated/en/751851524689746701/Statement-by-Mr-Mohammed-Boussaid-at-the-97th-meeting-of-the-Development-Committee-held-on-April-21-2018 \n",
      "pdf_url: http://documents.worldbank.org/curated/en/751851524689746701/pdf/DCS2018-0021-E-Morocco-04212018.pdf\n",
      "\n",
      "uid: 29839007 \n",
      "title: Statement by Hon. Mathias Cormann -ln-             at the 97th meeting of the Development Committee held on -ln-             April 21, 2018 \n",
      "url: http://documents.worldbank.org/curated/en/751181524687950491/Statement-by-Hon-Mathias-Cormann-at-the-97th-meeting-of-the-Development-Committee-held-on-April-21-2018 \n",
      "pdf_url: http://documents.worldbank.org/curated/en/751181524687950491/pdf/DCS2018-0014-Australia-04212018.pdf\n",
      "\n",
      "uid: 29856030 \n",
      "title: SABER in action : Training -ln-             Provider Assessment Project (TAP) \n",
      "url: http://documents.worldbank.org/curated/en/535421525236361073/SABER-in-action-Training-Provider-Assessment-Project-TAP \n",
      "pdf_url: http://documents.worldbank.org/curated/en/535421525236361073/pdf/125887-WP-PUBLIC-SABER-TrainingProviderAssessment-InAction.pdf\n",
      "\n",
      "uid: 29496101 \n",
      "title: Sri Lanka - Climate investment -ln-             opportunities in South Asia \n",
      "url: http://documents.worldbank.org/curated/en/871191515564244935/Sri-Lanka-Climate-investment-opportunities-in-South-Asia \n",
      "pdf_url: http://documents.worldbank.org/curated/en/871191515564244935/pdf/122325-WP-LK-IFC-SriLanka-Factsheet-v2-PUBLIC.pdf\n",
      "\n",
      "uid: 29566915 \n",
      "title: Improving student outcomes for -ln-             only twenty cents \n",
      "url: http://documents.worldbank.org/curated/en/866351517954088018/Improving-student-outcomes-for-only-twenty-cents \n",
      "pdf_url: http://documents.worldbank.org/curated/en/866351517954088018/pdf/123251-REVISED-PUBLIC-eMBeD-Peru-Mindsets-Brief.pdf\n",
      "\n",
      "uid: 29870822 \n",
      "title: Invest in early childhood to -ln-             ensure the future of Africa \n",
      "url: http://documents.worldbank.org/curated/en/489641525703248777/Invest-in-early-childhood-to-ensure-the-future-of-Africa \n",
      "pdf_url: http://documents.worldbank.org/curated/en/489641525703248777/pdf/125494-English-PUBLIC.pdf\n",
      "\n"
     ]
    }
   ],
   "source": [
    "doc_ids = close_docs(docs, doc_id=20140580, num_docs=10, report=True, dt=dt)"
   ]
  },
  {
   "cell_type": "code",
   "execution_count": null,
   "metadata": {
    "collapsed": true
   },
   "outputs": [],
   "source": []
  },
  {
   "cell_type": "code",
   "execution_count": null,
   "metadata": {
    "collapsed": true
   },
   "outputs": [],
   "source": []
  },
  {
   "cell_type": "markdown",
   "metadata": {},
   "source": [
    "# Scratch"
   ]
  },
  {
   "cell_type": "raw",
   "metadata": {},
   "source": [
    "\n",
    "topic_docs_conditional = function (t, v, key, n) {\n",
    "    var p0 = my.dt.p[t],\n",
    "        p1 = my.dt.p[t + 1],\n",
    "        p,\n",
    "        docs = [ ],\n",
    "        bisect,\n",
    "        insert,\n",
    "        i,\n",
    "        result = [];\n",
    "\n",
    "    // column slice\n",
    "    // TODO speed bottleneck: all that row-summing gets slooow\n",
    "    // because row-slicing is slow on the col-compressed matrix\n",
    "    for (p = p0; p < p1; p += 1) {\n",
    "        if (v === undefined // then: unconditional top docs\n",
    "                || my.doc_categories[v][my.dt.i[p]] === key) {\n",
    "            docs.push({\n",
    "                doc: my.dt.i[p],\n",
    "                frac: my.dt.x[p] / my.dt.row_sum(my.dt.i[p]),\n",
    "                weight: my.dt.x[p]\n",
    "            });\n",
    "        }\n",
    "    }\n",
    "\n",
    "    // return them all, sorted, if there are fewer than n hits\n",
    "    if (n >= docs.length) {\n",
    "        docs.sort(function (a, b) {\n",
    "            return utils.desc(a.frac, b.frac) ||\n",
    "                utils.desc(a.doc, b.doc); // stabilize sort\n",
    "        });\n",
    "        return docs;\n",
    "    }\n",
    "\n",
    "\n",
    "    // initial guess. simplifies the conditionals below to do it this way,\n",
    "    // and sorting n elements is no biggie\n",
    "\n",
    "    result = docs.slice(0, n).sort(function (a, b) {\n",
    "        return utils.asc(a.frac, b.frac) ||\n",
    "            utils.asc(a.doc, b.doc); // stabilize sort\n",
    "    });\n",
    "\n",
    "    bisect = utils.bisector_left(function (d) { return d.frac; });\n",
    "\n",
    "    for (i = n; i < docs.length; i += 1) {\n",
    "        insert = bisect(result, docs[i].frac);\n",
    "        if (insert > 0) {\n",
    "            result.splice(insert, 0, docs[i]);\n",
    "            result.shift();\n",
    "        } else if (result[0].frac === docs[i].frac) {\n",
    "            // insert = 0 but a tie\n",
    "            result.unshift(docs[i]);\n",
    "        }\n",
    "    }\n",
    "\n",
    "    // biggest first\n",
    "    return utils.shorten(result.reverse(), n, function (xs, i) {\n",
    "        return xs[i].frac;\n",
    "    });\n",
    "};"
   ]
  },
  {
   "cell_type": "code",
   "execution_count": 178,
   "metadata": {},
   "outputs": [
    {
     "data": {
      "text/plain": [
       "[0, 3533]"
      ]
     },
     "execution_count": 178,
     "metadata": {},
     "output_type": "execute_result"
    }
   ],
   "source": [
    "ddt['p'][0:2]"
   ]
  },
  {
   "cell_type": "code",
   "execution_count": 174,
   "metadata": {},
   "outputs": [
    {
     "data": {
      "text/plain": [
       "5959"
      ]
     },
     "execution_count": 174,
     "metadata": {},
     "output_type": "execute_result"
    }
   ],
   "source": [
    "ddt['i'][10000]"
   ]
  },
  {
   "cell_type": "code",
   "execution_count": 175,
   "metadata": {},
   "outputs": [
    {
     "data": {
      "text/plain": [
       "232"
      ]
     },
     "execution_count": 175,
     "metadata": {},
     "output_type": "execute_result"
    }
   ],
   "source": [
    "ddt['x'][10000]"
   ]
  },
  {
   "cell_type": "code",
   "execution_count": 161,
   "metadata": {},
   "outputs": [
    {
     "data": {
      "text/plain": [
       "array([[ 0,  0, 18, ...,  0,  0,  3],\n",
       "       [ 0,  0, 10, ...,  0,  0,  2],\n",
       "       [ 2,  0,  6, ...,  2,  4,  0],\n",
       "       ...,\n",
       "       [ 0,  0,  0, ...,  0,  0,  0],\n",
       "       [ 0,  6, 30, ...,  0,  0,  0],\n",
       "       [ 2,  6,  6, ...,  6,  4,  2]], dtype=int64)"
      ]
     },
     "execution_count": 161,
     "metadata": {},
     "output_type": "execute_result"
    }
   ],
   "source": [
    "dt.as_matrix().T"
   ]
  },
  {
   "cell_type": "code",
   "execution_count": null,
   "metadata": {
    "collapsed": true
   },
   "outputs": [],
   "source": []
  },
  {
   "cell_type": "code",
   "execution_count": 179,
   "metadata": {
    "collapsed": true
   },
   "outputs": [],
   "source": [
    "import requests\n",
    "dfr_dt = 'http://microdatahub.com/topicsmodeling/dfr/topic_browser/model.php?type=dt&model=data50_SAR'\n",
    "dfr_dt = requests.get(dfr_dt)"
   ]
  },
  {
   "cell_type": "code",
   "execution_count": 234,
   "metadata": {
    "collapsed": true
   },
   "outputs": [],
   "source": [
    "dfr_dt = ddt  # dfr_dt.json()"
   ]
  },
  {
   "cell_type": "code",
   "execution_count": 235,
   "metadata": {
    "collapsed": true
   },
   "outputs": [],
   "source": [
    "# http://microdatahub.com/topicsmodeling/dfr/topic_browser/browser.php?model=data50_SAR&type=SAR&topic_count=50#/doc/9622\n"
   ]
  },
  {
   "cell_type": "code",
   "execution_count": 248,
   "metadata": {},
   "outputs": [
    {
     "name": "stdout",
     "output_type": "stream",
     "text": [
      "0 3 0.0008880994671403197\n",
      "1 2 0.0005920663114268798\n",
      "3 2 0.0005920663114268798\n",
      "6 5 0.0014801657785671995\n",
      "10 2 0.0005920663114268798\n",
      "11 5 0.0014801657785671995\n",
      "12 900 0.2664298401420959\n",
      "16 18 0.0053285968028419185\n",
      "20 240 0.07104795737122557\n",
      "21 5 0.0014801657785671995\n",
      "23 2 0.0005920663114268798\n",
      "27 10 0.002960331557134399\n",
      "28 3 0.0008880994671403197\n",
      "29 289 0.08555358200118414\n",
      "34 2 0.0005920663114268798\n",
      "37 8 0.002368265245707519\n",
      "40 61 0.018058022498519833\n",
      "41 2 0.0005920663114268798\n",
      "42 16 0.004736530491415038\n",
      "45 609 0.1802841918294849\n",
      "46 2 0.0005920663114268798\n",
      "47 3 0.0008880994671403197\n",
      "48 50 0.014801657785671996\n",
      "49 64 0.018946121965660152\n"
     ]
    }
   ],
   "source": [
    "did = 8130\n",
    "ps_9622 = [p for p in range(0, dfr_dt['p'][-1]) if dfr_dt['i'][p] == did]\n",
    "\n",
    "for t in range(50):\n",
    "    p0 = dfr_dt['p'][t]\n",
    "    p1 = dfr_dt['p'][t + 1]\n",
    "\n",
    "    pt_9622 = [p for p in range(p0, p1) if dfr_dt['i'][p] == did]\n",
    "    try:\n",
    "        raw = dfr_dt['x'][pt_9622[0]]\n",
    "        w =  raw / sum(dfr_dt['x'][p] for p in ps_9622)\n",
    "        print(t, raw, w)\n",
    "    except:\n",
    "        continue"
   ]
  },
  {
   "cell_type": "code",
   "execution_count": 249,
   "metadata": {
    "scrolled": true
   },
   "outputs": [
    {
     "data": {
      "text/plain": [
       "uid\n",
       "20140580      1080\n",
       "25715555     21191\n",
       "25715556     16486\n",
       "25715559     22112\n",
       "25715564     22201\n",
       "26063310     28187\n",
       "26063311     86580\n",
       "26527953     75725\n",
       "26527971     76887\n",
       "27100106    137258\n",
       "27164047      4331\n",
       "27279530     19752\n",
       "27556198     18284\n",
       "27556933    196106\n",
       "27563729      4124\n",
       "27666842     74554\n",
       "27678201     30339\n",
       "27873493      4271\n",
       "27998406      8498\n",
       "28022007     57133\n",
       "28024406     21622\n",
       "28078923     82664\n",
       "28097873     80300\n",
       "28097875     79557\n",
       "28135063     53546\n",
       "28138284     15789\n",
       "28170915     33635\n",
       "28397832     12005\n",
       "28397833     34754\n",
       "28645758    101015\n",
       "             ...  \n",
       "29934340     17483\n",
       "29934571      1166\n",
       "29934572     10604\n",
       "29934576      3477\n",
       "29934577      1058\n",
       "29934810     23777\n",
       "29934811      6585\n",
       "29935000      1666\n",
       "29935012     19639\n",
       "29935017     10680\n",
       "29935018     19224\n",
       "29935028      3498\n",
       "29935030     10039\n",
       "29935031     29335\n",
       "29935035     14365\n",
       "29935179      4293\n",
       "29935213      1246\n",
       "29935218      4780\n",
       "29935220      5114\n",
       "29935221      1958\n",
       "29935314       488\n",
       "29935339      1913\n",
       "29935340      1597\n",
       "29935341      2514\n",
       "29935443      3435\n",
       "29935445      1885\n",
       "29935447     12005\n",
       "29935499      1516\n",
       "29935502      1201\n",
       "29935714      3378\n",
       "Length: 8131, dtype: int64"
      ]
     },
     "execution_count": 249,
     "metadata": {},
     "output_type": "execute_result"
    }
   ],
   "source": [
    "dt.T.sum()"
   ]
  },
  {
   "cell_type": "code",
   "execution_count": 231,
   "metadata": {},
   "outputs": [
    {
     "data": {
      "text/plain": [
       "[32432, 58929, 92858, 134291]"
      ]
     },
     "execution_count": 231,
     "metadata": {},
     "output_type": "execute_result"
    }
   ],
   "source": [
    "[p for p in range(0, dfr_dt['p'][-1]) if dfr_dt['i'][p] == 10490]"
   ]
  },
  {
   "cell_type": "code",
   "execution_count": 227,
   "metadata": {},
   "outputs": [
    {
     "data": {
      "text/plain": [
       "10    3262.0\n",
       "Name: tokens, dtype: float64"
      ]
     },
     "execution_count": 227,
     "metadata": {},
     "output_type": "execute_result"
    }
   ],
   "source": [
    "wbdocs.doclist[wbdocs.doclist.uid == 27164047].tokens"
   ]
  },
  {
   "cell_type": "code",
   "execution_count": 251,
   "metadata": {},
   "outputs": [
    {
     "data": {
      "text/plain": [
       "10499    1963.0\n",
       "Name: tokens, dtype: float64"
      ]
     },
     "execution_count": 251,
     "metadata": {},
     "output_type": "execute_result"
    }
   ],
   "source": [
    "wbdocs.doclist[wbdocs.doclist.uid == 29935714].tokens"
   ]
  },
  {
   "cell_type": "code",
   "execution_count": 238,
   "metadata": {},
   "outputs": [
    {
     "data": {
      "text/plain": [
       "(7896, 3)"
      ]
     },
     "execution_count": 238,
     "metadata": {},
     "output_type": "execute_result"
    }
   ],
   "source": [
    "WBdocs_filtered.shape"
   ]
  },
  {
   "cell_type": "code",
   "execution_count": 239,
   "metadata": {},
   "outputs": [
    {
     "data": {
      "text/plain": [
       "389113"
      ]
     },
     "execution_count": 239,
     "metadata": {},
     "output_type": "execute_result"
    }
   ],
   "source": [
    "dfr_dt['p'][-1]"
   ]
  },
  {
   "cell_type": "code",
   "execution_count": 246,
   "metadata": {},
   "outputs": [
    {
     "data": {
      "text/plain": [
       "(8131, 100)"
      ]
     },
     "execution_count": 246,
     "metadata": {},
     "output_type": "execute_result"
    }
   ],
   "source": [
    "dt.shape"
   ]
  },
  {
   "cell_type": "code",
   "execution_count": null,
   "metadata": {},
   "outputs": [
    {
     "name": "stdout",
     "output_type": "stream",
     "text": [
      "/R/NLP/MODELS/LDA/WB-ALL_50/mallet/WB-ALL_50_corpus.txt\n"
     ]
    }
   ],
   "source": [
    "topc = model[corpus[0]]"
   ]
  },
  {
   "cell_type": "code",
   "execution_count": 36,
   "metadata": {},
   "outputs": [
    {
     "data": {
      "text/plain": [
       "[(0, 1),\n",
       " (1, 4),\n",
       " (2, 3),\n",
       " (3, 12),\n",
       " (4, 1),\n",
       " (5, 1),\n",
       " (6, 2),\n",
       " (7, 1),\n",
       " (8, 2),\n",
       " (9, 1),\n",
       " (10, 1),\n",
       " (11, 9),\n",
       " (12, 2),\n",
       " (13, 4),\n",
       " (14, 3),\n",
       " (15, 5),\n",
       " (16, 2),\n",
       " (17, 1),\n",
       " (18, 1),\n",
       " (19, 1),\n",
       " (20, 2),\n",
       " (21, 12),\n",
       " (22, 1),\n",
       " (23, 1),\n",
       " (24, 1),\n",
       " (25, 1),\n",
       " (26, 2),\n",
       " (27, 1),\n",
       " (28, 7),\n",
       " (29, 1),\n",
       " (30, 1),\n",
       " (31, 2),\n",
       " (32, 5),\n",
       " (33, 10),\n",
       " (34, 1),\n",
       " (35, 1),\n",
       " (36, 1),\n",
       " (37, 1),\n",
       " (38, 1),\n",
       " (39, 1),\n",
       " (40, 4),\n",
       " (41, 2),\n",
       " (42, 2),\n",
       " (43, 3),\n",
       " (44, 1),\n",
       " (45, 1),\n",
       " (46, 31),\n",
       " (47, 1),\n",
       " (48, 1),\n",
       " (49, 3),\n",
       " (50, 1),\n",
       " (51, 1),\n",
       " (52, 1),\n",
       " (53, 1),\n",
       " (54, 1),\n",
       " (55, 6),\n",
       " (56, 1),\n",
       " (57, 5),\n",
       " (58, 3),\n",
       " (59, 2),\n",
       " (60, 1),\n",
       " (61, 1),\n",
       " (62, 4),\n",
       " (63, 2),\n",
       " (64, 2),\n",
       " (65, 6),\n",
       " (66, 38),\n",
       " (67, 2),\n",
       " (68, 4),\n",
       " (69, 5),\n",
       " (70, 1),\n",
       " (71, 1),\n",
       " (72, 2),\n",
       " (73, 1),\n",
       " (74, 38),\n",
       " (75, 3),\n",
       " (76, 2),\n",
       " (77, 11),\n",
       " (78, 1),\n",
       " (79, 3),\n",
       " (80, 4),\n",
       " (81, 1),\n",
       " (82, 1),\n",
       " (83, 12),\n",
       " (84, 1),\n",
       " (85, 1),\n",
       " (86, 1),\n",
       " (87, 4),\n",
       " (88, 1),\n",
       " (89, 6),\n",
       " (90, 3),\n",
       " (91, 1),\n",
       " (92, 3),\n",
       " (93, 2),\n",
       " (94, 1),\n",
       " (95, 7),\n",
       " (96, 1),\n",
       " (97, 1),\n",
       " (98, 2),\n",
       " (99, 2),\n",
       " (100, 1),\n",
       " (101, 2),\n",
       " (102, 1),\n",
       " (103, 1),\n",
       " (104, 3),\n",
       " (105, 7),\n",
       " (106, 1),\n",
       " (107, 8),\n",
       " (108, 1),\n",
       " (109, 2),\n",
       " (110, 137),\n",
       " (111, 1),\n",
       " (112, 30),\n",
       " (113, 1),\n",
       " (114, 1),\n",
       " (115, 1),\n",
       " (116, 5),\n",
       " (117, 1),\n",
       " (118, 4),\n",
       " (119, 3),\n",
       " (120, 2),\n",
       " (121, 1),\n",
       " (122, 1),\n",
       " (123, 17),\n",
       " (124, 2),\n",
       " (125, 1),\n",
       " (126, 2),\n",
       " (127, 1),\n",
       " (128, 1),\n",
       " (129, 1),\n",
       " (130, 1),\n",
       " (131, 1),\n",
       " (132, 7),\n",
       " (133, 2),\n",
       " (134, 1),\n",
       " (135, 4),\n",
       " (136, 1),\n",
       " (137, 2),\n",
       " (138, 1),\n",
       " (139, 3),\n",
       " (140, 1),\n",
       " (141, 7),\n",
       " (142, 2),\n",
       " (143, 7),\n",
       " (144, 7),\n",
       " (145, 1),\n",
       " (146, 2),\n",
       " (147, 1),\n",
       " (148, 4),\n",
       " (149, 1),\n",
       " (150, 1),\n",
       " (151, 2),\n",
       " (152, 1),\n",
       " (153, 1),\n",
       " (154, 1),\n",
       " (155, 1),\n",
       " (156, 5),\n",
       " (157, 1),\n",
       " (158, 1),\n",
       " (159, 4),\n",
       " (160, 1),\n",
       " (161, 2),\n",
       " (162, 1),\n",
       " (163, 1),\n",
       " (164, 2),\n",
       " (165, 3),\n",
       " (166, 1),\n",
       " (167, 147),\n",
       " (168, 1),\n",
       " (169, 1),\n",
       " (170, 2),\n",
       " (171, 5),\n",
       " (172, 6),\n",
       " (173, 2),\n",
       " (174, 1),\n",
       " (175, 1),\n",
       " (176, 1),\n",
       " (177, 1),\n",
       " (178, 1),\n",
       " (179, 2),\n",
       " (180, 6),\n",
       " (181, 1),\n",
       " (182, 55),\n",
       " (183, 1),\n",
       " (184, 1),\n",
       " (185, 1),\n",
       " (186, 150),\n",
       " (187, 8),\n",
       " (188, 1),\n",
       " (189, 99),\n",
       " (190, 2),\n",
       " (191, 1),\n",
       " (192, 8),\n",
       " (193, 2),\n",
       " (194, 8),\n",
       " (195, 4),\n",
       " (196, 5),\n",
       " (197, 1),\n",
       " (198, 1),\n",
       " (199, 21),\n",
       " (200, 8),\n",
       " (201, 26),\n",
       " (202, 1),\n",
       " (203, 4),\n",
       " (204, 6),\n",
       " (205, 1),\n",
       " (206, 15),\n",
       " (207, 9),\n",
       " (208, 2),\n",
       " (209, 1),\n",
       " (210, 2),\n",
       " (211, 1),\n",
       " (212, 1),\n",
       " (213, 2),\n",
       " (214, 10),\n",
       " (215, 1),\n",
       " (216, 1),\n",
       " (217, 5),\n",
       " (218, 1),\n",
       " (219, 2),\n",
       " (220, 3),\n",
       " (221, 2),\n",
       " (222, 8),\n",
       " (223, 1),\n",
       " (224, 9),\n",
       " (225, 9),\n",
       " (226, 1),\n",
       " (227, 3),\n",
       " (228, 48),\n",
       " (229, 13),\n",
       " (230, 2),\n",
       " (231, 1),\n",
       " (232, 2),\n",
       " (233, 1),\n",
       " (234, 1),\n",
       " (235, 2),\n",
       " (236, 3),\n",
       " (237, 1),\n",
       " (238, 1),\n",
       " (239, 1),\n",
       " (240, 13),\n",
       " (241, 1),\n",
       " (242, 3),\n",
       " (243, 5),\n",
       " (244, 11),\n",
       " (245, 1),\n",
       " (246, 1),\n",
       " (247, 1),\n",
       " (248, 1),\n",
       " (249, 1),\n",
       " (250, 2),\n",
       " (251, 1),\n",
       " (252, 2),\n",
       " (253, 1),\n",
       " (254, 2),\n",
       " (255, 1),\n",
       " (256, 4),\n",
       " (257, 8),\n",
       " (258, 39),\n",
       " (259, 8),\n",
       " (260, 3),\n",
       " (261, 2),\n",
       " (262, 13),\n",
       " (263, 4),\n",
       " (264, 2),\n",
       " (265, 1),\n",
       " (266, 2),\n",
       " (267, 1),\n",
       " (268, 3),\n",
       " (269, 1),\n",
       " (270, 2),\n",
       " (271, 1),\n",
       " (272, 16),\n",
       " (273, 12),\n",
       " (274, 20),\n",
       " (275, 3),\n",
       " (276, 6),\n",
       " (277, 2),\n",
       " (278, 1),\n",
       " (279, 5),\n",
       " (280, 4),\n",
       " (281, 19),\n",
       " (282, 1),\n",
       " (283, 1),\n",
       " (284, 13),\n",
       " (285, 1),\n",
       " (286, 4),\n",
       " (287, 3),\n",
       " (288, 1),\n",
       " (289, 2),\n",
       " (290, 4),\n",
       " (291, 15),\n",
       " (292, 1),\n",
       " (293, 1),\n",
       " (294, 2),\n",
       " (295, 2),\n",
       " (296, 2),\n",
       " (297, 1),\n",
       " (298, 1),\n",
       " (299, 2),\n",
       " (300, 155),\n",
       " (301, 1),\n",
       " (302, 5),\n",
       " (303, 2),\n",
       " (304, 2),\n",
       " (305, 1),\n",
       " (306, 2),\n",
       " (307, 8),\n",
       " (308, 7),\n",
       " (309, 4),\n",
       " (310, 1),\n",
       " (311, 1),\n",
       " (312, 2),\n",
       " (313, 31),\n",
       " (314, 4),\n",
       " (315, 1),\n",
       " (316, 1),\n",
       " (317, 1),\n",
       " (318, 4),\n",
       " (319, 6),\n",
       " (320, 1),\n",
       " (321, 6),\n",
       " (322, 3),\n",
       " (323, 4),\n",
       " (324, 2),\n",
       " (325, 1),\n",
       " (326, 3),\n",
       " (327, 1),\n",
       " (328, 2),\n",
       " (329, 5),\n",
       " (330, 2),\n",
       " (331, 4),\n",
       " (332, 1),\n",
       " (333, 1),\n",
       " (334, 18),\n",
       " (335, 1),\n",
       " (336, 8),\n",
       " (337, 52),\n",
       " (338, 1),\n",
       " (339, 4),\n",
       " (340, 4),\n",
       " (341, 2),\n",
       " (342, 1),\n",
       " (343, 13),\n",
       " (344, 1),\n",
       " (345, 7),\n",
       " (346, 1),\n",
       " (347, 21),\n",
       " (348, 1),\n",
       " (349, 2),\n",
       " (350, 2),\n",
       " (351, 2),\n",
       " (352, 2),\n",
       " (353, 1),\n",
       " (354, 1),\n",
       " (355, 3),\n",
       " (356, 1),\n",
       " (357, 1),\n",
       " (358, 1),\n",
       " (359, 3),\n",
       " (360, 15),\n",
       " (361, 2),\n",
       " (362, 1),\n",
       " (363, 2),\n",
       " (364, 1),\n",
       " (365, 3),\n",
       " (366, 2),\n",
       " (367, 3),\n",
       " (368, 2),\n",
       " (369, 4),\n",
       " (370, 1),\n",
       " (371, 1),\n",
       " (372, 1),\n",
       " (373, 5),\n",
       " (374, 1),\n",
       " (375, 2),\n",
       " (376, 1),\n",
       " (377, 2),\n",
       " (378, 2),\n",
       " (379, 4),\n",
       " (380, 3),\n",
       " (381, 2),\n",
       " (382, 2),\n",
       " (383, 1),\n",
       " (384, 1),\n",
       " (385, 1),\n",
       " (386, 11),\n",
       " (387, 2),\n",
       " (388, 1),\n",
       " (389, 7),\n",
       " (390, 1),\n",
       " (391, 5),\n",
       " (392, 5),\n",
       " (393, 1),\n",
       " (394, 1),\n",
       " (395, 1),\n",
       " (396, 5),\n",
       " (397, 1),\n",
       " (398, 1),\n",
       " (399, 1),\n",
       " (400, 1),\n",
       " (401, 10),\n",
       " (402, 2),\n",
       " (403, 2),\n",
       " (404, 5),\n",
       " (405, 1),\n",
       " (406, 1),\n",
       " (407, 1),\n",
       " (408, 8),\n",
       " (409, 1),\n",
       " (410, 1),\n",
       " (411, 5),\n",
       " (412, 16),\n",
       " (413, 2),\n",
       " (414, 10),\n",
       " (415, 4),\n",
       " (416, 1),\n",
       " (417, 2),\n",
       " (418, 1),\n",
       " (419, 34),\n",
       " (420, 1),\n",
       " (421, 1),\n",
       " (422, 1),\n",
       " (423, 1),\n",
       " (424, 2),\n",
       " (425, 1),\n",
       " (426, 1),\n",
       " (427, 2),\n",
       " (428, 1),\n",
       " (429, 3),\n",
       " (430, 3),\n",
       " (431, 4),\n",
       " (432, 4),\n",
       " (433, 1),\n",
       " (434, 3),\n",
       " (435, 2),\n",
       " (436, 26),\n",
       " (437, 1),\n",
       " (438, 6),\n",
       " (439, 30),\n",
       " (440, 3),\n",
       " (441, 1),\n",
       " (442, 1),\n",
       " (443, 1),\n",
       " (444, 1),\n",
       " (445, 19),\n",
       " (446, 19),\n",
       " (447, 1),\n",
       " (448, 2),\n",
       " (449, 1),\n",
       " (450, 7),\n",
       " (451, 28),\n",
       " (452, 1),\n",
       " (453, 1),\n",
       " (454, 5),\n",
       " (455, 5),\n",
       " (456, 11),\n",
       " (457, 1),\n",
       " (458, 2),\n",
       " (459, 1),\n",
       " (460, 2),\n",
       " (461, 1),\n",
       " (462, 9),\n",
       " (463, 2),\n",
       " (464, 1),\n",
       " (465, 1),\n",
       " (466, 5),\n",
       " (467, 1),\n",
       " (468, 1),\n",
       " (469, 2),\n",
       " (470, 9),\n",
       " (471, 1),\n",
       " (472, 2),\n",
       " (473, 14),\n",
       " (474, 16),\n",
       " (475, 7),\n",
       " (476, 1),\n",
       " (477, 16),\n",
       " (478, 11),\n",
       " (479, 2),\n",
       " (480, 1),\n",
       " (481, 7),\n",
       " (482, 1),\n",
       " (483, 11),\n",
       " (484, 2),\n",
       " (485, 7),\n",
       " (486, 3),\n",
       " (487, 1),\n",
       " (488, 1),\n",
       " (489, 6),\n",
       " (490, 1),\n",
       " (491, 2),\n",
       " (492, 8),\n",
       " (493, 2),\n",
       " (494, 1),\n",
       " (495, 4),\n",
       " (496, 1),\n",
       " (497, 1),\n",
       " (498, 1),\n",
       " (499, 8),\n",
       " (500, 1),\n",
       " (501, 1),\n",
       " (502, 1),\n",
       " (503, 4),\n",
       " (504, 1),\n",
       " (505, 1),\n",
       " (506, 4),\n",
       " (507, 4),\n",
       " (508, 1),\n",
       " (509, 2),\n",
       " (510, 2),\n",
       " (511, 8),\n",
       " (512, 206),\n",
       " (513, 2),\n",
       " (514, 1),\n",
       " (515, 100),\n",
       " (516, 20),\n",
       " (517, 3),\n",
       " (518, 1),\n",
       " (519, 4),\n",
       " (520, 1),\n",
       " (521, 5),\n",
       " (522, 1),\n",
       " (523, 4),\n",
       " (524, 1),\n",
       " (525, 1),\n",
       " (526, 4),\n",
       " (527, 1),\n",
       " (528, 1),\n",
       " (529, 1),\n",
       " (530, 2),\n",
       " (531, 1),\n",
       " (532, 1),\n",
       " (533, 2),\n",
       " (534, 1),\n",
       " (535, 3),\n",
       " (536, 1),\n",
       " (537, 1),\n",
       " (538, 8),\n",
       " (539, 9),\n",
       " (540, 1),\n",
       " (541, 1),\n",
       " (542, 2),\n",
       " (543, 1),\n",
       " (544, 1),\n",
       " (545, 2),\n",
       " (546, 1),\n",
       " (547, 7),\n",
       " (548, 20),\n",
       " (549, 1),\n",
       " (550, 2),\n",
       " (551, 26),\n",
       " (552, 1),\n",
       " (553, 11),\n",
       " (554, 1),\n",
       " (555, 5),\n",
       " (556, 1),\n",
       " (557, 36),\n",
       " (558, 1),\n",
       " (559, 1),\n",
       " (560, 3),\n",
       " (561, 1),\n",
       " (562, 1),\n",
       " (563, 4),\n",
       " (564, 1),\n",
       " (565, 3),\n",
       " (566, 1),\n",
       " (567, 1),\n",
       " (568, 1),\n",
       " (569, 2),\n",
       " (570, 3),\n",
       " (571, 1),\n",
       " (572, 1),\n",
       " (573, 1),\n",
       " (574, 4),\n",
       " (575, 1),\n",
       " (576, 5),\n",
       " (577, 3),\n",
       " (578, 1),\n",
       " (579, 1),\n",
       " (580, 1),\n",
       " (581, 1),\n",
       " (582, 1),\n",
       " (583, 5),\n",
       " (584, 28),\n",
       " (585, 2),\n",
       " (586, 1),\n",
       " (587, 1),\n",
       " (588, 1),\n",
       " (589, 1),\n",
       " (590, 13),\n",
       " (591, 35),\n",
       " (592, 3),\n",
       " (593, 1),\n",
       " (594, 3),\n",
       " (595, 3),\n",
       " (596, 1),\n",
       " (597, 2),\n",
       " (598, 7),\n",
       " (599, 2),\n",
       " (600, 1),\n",
       " (601, 19),\n",
       " (602, 10),\n",
       " (603, 1),\n",
       " (604, 1),\n",
       " (605, 6),\n",
       " (606, 59),\n",
       " (607, 1),\n",
       " (608, 4),\n",
       " (609, 1),\n",
       " (610, 1),\n",
       " (611, 1),\n",
       " (612, 12),\n",
       " (613, 1),\n",
       " (614, 2),\n",
       " (615, 2),\n",
       " (616, 7),\n",
       " (617, 1),\n",
       " (618, 1),\n",
       " (619, 6),\n",
       " (620, 1),\n",
       " (621, 13),\n",
       " (622, 1),\n",
       " (623, 66),\n",
       " (624, 1),\n",
       " (625, 1),\n",
       " (626, 1),\n",
       " (627, 117),\n",
       " (628, 2),\n",
       " (629, 7),\n",
       " (630, 1),\n",
       " (631, 2),\n",
       " (632, 10),\n",
       " (633, 8),\n",
       " (634, 1),\n",
       " (635, 1),\n",
       " (636, 1),\n",
       " (637, 65),\n",
       " (638, 1),\n",
       " (639, 2),\n",
       " (640, 6),\n",
       " (641, 1),\n",
       " (642, 1),\n",
       " (643, 3),\n",
       " (644, 6),\n",
       " (645, 2),\n",
       " (646, 3),\n",
       " (647, 1),\n",
       " (648, 1),\n",
       " (649, 2),\n",
       " (650, 1),\n",
       " (651, 1),\n",
       " (652, 3),\n",
       " (653, 1),\n",
       " (654, 2),\n",
       " (655, 1),\n",
       " (656, 1),\n",
       " (657, 3),\n",
       " (658, 2),\n",
       " (659, 9),\n",
       " (660, 3),\n",
       " (661, 3),\n",
       " (662, 11),\n",
       " (663, 1),\n",
       " (664, 1),\n",
       " (665, 2),\n",
       " (666, 1),\n",
       " (667, 1),\n",
       " (668, 2),\n",
       " (669, 2),\n",
       " (670, 4),\n",
       " (671, 1),\n",
       " (672, 19),\n",
       " (673, 1),\n",
       " (674, 27),\n",
       " (675, 1),\n",
       " (676, 3),\n",
       " (677, 2),\n",
       " (678, 1),\n",
       " (679, 1),\n",
       " (680, 1),\n",
       " (681, 10),\n",
       " (682, 2),\n",
       " (683, 3),\n",
       " (684, 2),\n",
       " (685, 1),\n",
       " (686, 1),\n",
       " (687, 1),\n",
       " (688, 1),\n",
       " (689, 5),\n",
       " (690, 1),\n",
       " (691, 2),\n",
       " (692, 13),\n",
       " (693, 1),\n",
       " (694, 1),\n",
       " (695, 1),\n",
       " (696, 6),\n",
       " (697, 1),\n",
       " (698, 5),\n",
       " (699, 5),\n",
       " (700, 5),\n",
       " (701, 1),\n",
       " (702, 1),\n",
       " (703, 7),\n",
       " (704, 1),\n",
       " (705, 1),\n",
       " (706, 1),\n",
       " (707, 3),\n",
       " (708, 2),\n",
       " (709, 2),\n",
       " (710, 1),\n",
       " (711, 5),\n",
       " (712, 22),\n",
       " (713, 3),\n",
       " (714, 7),\n",
       " (715, 11),\n",
       " (716, 10),\n",
       " (717, 10),\n",
       " (718, 1),\n",
       " (719, 1),\n",
       " (720, 2),\n",
       " (721, 2),\n",
       " (722, 5),\n",
       " (723, 17),\n",
       " (724, 3),\n",
       " (725, 25),\n",
       " (726, 4),\n",
       " (727, 3),\n",
       " (728, 1),\n",
       " (729, 6),\n",
       " (730, 1),\n",
       " (731, 2),\n",
       " (732, 14),\n",
       " (733, 2),\n",
       " (734, 1),\n",
       " (735, 2),\n",
       " (736, 4),\n",
       " (737, 3),\n",
       " (738, 1),\n",
       " (739, 4),\n",
       " (740, 13),\n",
       " (741, 1),\n",
       " (742, 1),\n",
       " (743, 1),\n",
       " (744, 4),\n",
       " (745, 2),\n",
       " (746, 8),\n",
       " (747, 1),\n",
       " (748, 11),\n",
       " (749, 1),\n",
       " (750, 8),\n",
       " (751, 5),\n",
       " (752, 11),\n",
       " (753, 1),\n",
       " (754, 1),\n",
       " (755, 1),\n",
       " (756, 5),\n",
       " (757, 3),\n",
       " (758, 5),\n",
       " (759, 1),\n",
       " (760, 2),\n",
       " (761, 1),\n",
       " (762, 20),\n",
       " (763, 1),\n",
       " (764, 7),\n",
       " (765, 3),\n",
       " (766, 4),\n",
       " (767, 1),\n",
       " (768, 1),\n",
       " (769, 1),\n",
       " (770, 4),\n",
       " (771, 5),\n",
       " (772, 9),\n",
       " (773, 1),\n",
       " (774, 2),\n",
       " (775, 2),\n",
       " (776, 2),\n",
       " (777, 1),\n",
       " (778, 2),\n",
       " (779, 1),\n",
       " (780, 1),\n",
       " (781, 1),\n",
       " (782, 1),\n",
       " (783, 5),\n",
       " (784, 1),\n",
       " (785, 20),\n",
       " (786, 1),\n",
       " (787, 2),\n",
       " (788, 2),\n",
       " (789, 1),\n",
       " (790, 1),\n",
       " (791, 1),\n",
       " (792, 1),\n",
       " (793, 1),\n",
       " (794, 2),\n",
       " (795, 1),\n",
       " (796, 1),\n",
       " (797, 6),\n",
       " (798, 11),\n",
       " (799, 1),\n",
       " (800, 8),\n",
       " (801, 1),\n",
       " (802, 2),\n",
       " (803, 1),\n",
       " (804, 1),\n",
       " (805, 1),\n",
       " (806, 1),\n",
       " (807, 154),\n",
       " (808, 1),\n",
       " (809, 1),\n",
       " (810, 1),\n",
       " (811, 2),\n",
       " (812, 34),\n",
       " (813, 1),\n",
       " (814, 1),\n",
       " (815, 2),\n",
       " (816, 1),\n",
       " (817, 2),\n",
       " (818, 1),\n",
       " (819, 1),\n",
       " (820, 1),\n",
       " (821, 4),\n",
       " (822, 1),\n",
       " (823, 3),\n",
       " (824, 10),\n",
       " (825, 2),\n",
       " (826, 2),\n",
       " (827, 2),\n",
       " (828, 2),\n",
       " (829, 3),\n",
       " (830, 1),\n",
       " (831, 3),\n",
       " (832, 27),\n",
       " (833, 1),\n",
       " (834, 8),\n",
       " (835, 1),\n",
       " (836, 1),\n",
       " (837, 2),\n",
       " (838, 2),\n",
       " (839, 3),\n",
       " (840, 3),\n",
       " (841, 11),\n",
       " (842, 4),\n",
       " (843, 1),\n",
       " (844, 1),\n",
       " (845, 1),\n",
       " (846, 1),\n",
       " (847, 1),\n",
       " (848, 1),\n",
       " (849, 5),\n",
       " (850, 23),\n",
       " (851, 2),\n",
       " (852, 2),\n",
       " (853, 25),\n",
       " (854, 1),\n",
       " (855, 7),\n",
       " (856, 4),\n",
       " (857, 9),\n",
       " (858, 16),\n",
       " (859, 3),\n",
       " (860, 1),\n",
       " (861, 1),\n",
       " (862, 1),\n",
       " (863, 1),\n",
       " (864, 2),\n",
       " (865, 3),\n",
       " (866, 3),\n",
       " (867, 1),\n",
       " (868, 1),\n",
       " (869, 2),\n",
       " (870, 2),\n",
       " (871, 1),\n",
       " (872, 1),\n",
       " (873, 1),\n",
       " (874, 39),\n",
       " (875, 2),\n",
       " (876, 1),\n",
       " (877, 1),\n",
       " (878, 1),\n",
       " (879, 1),\n",
       " (880, 1),\n",
       " (881, 5),\n",
       " (882, 1),\n",
       " (883, 1),\n",
       " (884, 1),\n",
       " (885, 6),\n",
       " (886, 1),\n",
       " (887, 1),\n",
       " (888, 37),\n",
       " (889, 2),\n",
       " (890, 1),\n",
       " (891, 1),\n",
       " (892, 1),\n",
       " (893, 15),\n",
       " (894, 1),\n",
       " (895, 1),\n",
       " (896, 44),\n",
       " (897, 1),\n",
       " (898, 5),\n",
       " (899, 1),\n",
       " (900, 1),\n",
       " (901, 5),\n",
       " (902, 2),\n",
       " (903, 1),\n",
       " (904, 19),\n",
       " (905, 5),\n",
       " (906, 16),\n",
       " (907, 1),\n",
       " (908, 8),\n",
       " (909, 1),\n",
       " (910, 1),\n",
       " (911, 1),\n",
       " (912, 5),\n",
       " (913, 1),\n",
       " (914, 2),\n",
       " (915, 2),\n",
       " (916, 1),\n",
       " (917, 3),\n",
       " (918, 10),\n",
       " (919, 1),\n",
       " (920, 1),\n",
       " (921, 2),\n",
       " (922, 17),\n",
       " (923, 1),\n",
       " (924, 1),\n",
       " (925, 10),\n",
       " (926, 5),\n",
       " (927, 21)]"
      ]
     },
     "execution_count": 36,
     "metadata": {},
     "output_type": "execute_result"
    }
   ],
   "source": [
    "corpus[0]"
   ]
  },
  {
   "cell_type": "code",
   "execution_count": 1,
   "metadata": {},
   "outputs": [
    {
     "ename": "NameError",
     "evalue": "name 'model' is not defined",
     "output_type": "error",
     "traceback": [
      "\u001b[0;31m---------------------------------------------------------------------------\u001b[0m",
      "\u001b[0;31mNameError\u001b[0m                                 Traceback (most recent call last)",
      "\u001b[0;32m<ipython-input-1-458d5f1afc81>\u001b[0m in \u001b[0;36m<module>\u001b[0;34m()\u001b[0m\n\u001b[0;32m----> 1\u001b[0;31m \u001b[0mmodel\u001b[0m\u001b[0;34m\u001b[0m\u001b[0m\n\u001b[0m",
      "\u001b[0;31mNameError\u001b[0m: name 'model' is not defined"
     ]
    }
   ],
   "source": [
    "model"
   ]
  },
  {
   "cell_type": "code",
   "execution_count": null,
   "metadata": {
    "collapsed": true
   },
   "outputs": [],
   "source": []
  }
 ],
 "metadata": {
  "kernelspec": {
   "display_name": "Python 3",
   "language": "python",
   "name": "python3"
  },
  "language_info": {
   "codemirror_mode": {
    "name": "ipython",
    "version": 3
   },
   "file_extension": ".py",
   "mimetype": "text/x-python",
   "name": "python",
   "nbconvert_exporter": "python",
   "pygments_lexer": "ipython3",
   "version": "3.8.3-final"
  }
 },
 "nbformat": 4,
 "nbformat_minor": 2
}