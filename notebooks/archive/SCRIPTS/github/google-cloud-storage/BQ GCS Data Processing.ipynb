{
 "cells": [
  {
   "cell_type": "markdown",
   "metadata": {},
   "source": [
    "# Tried Dask but it has some performance isssues\n",
    "\n",
    "Note `n_workers` and `memory_limit` must be balanced with `blocksize` to prevent the server from crashing.\n",
    "\n",
    "```python\n",
    "from dask.distributed import Client, progress, LocalCluster\n",
    "import dask.dataframe as dd\n",
    "\n",
    "worker_kwargs = {\n",
    "#     'memory_limit': '20G',\n",
    "#     'memory_target_fraction': 0.6,\n",
    "#     'memory_spill_fraction': 0.7,\n",
    "#     'memory_pause_fraction': 0.8,\n",
    "    'memory_terminate_fraction': 0.98,\n",
    "}\n",
    "\n",
    "# cluster = LocalCluster(ip='0.0.0.0', dashboard_address='0.0.0.0:8788', n_workers=10, threads_per_worker=4, memory_limit='25GB', **worker_kwargs)\n",
    "cluster = LocalCluster(ip='0.0.0.0', dashboard_address='0.0.0.0:8788', n_workers=30, threads_per_worker=3, memory_limit='10GB')  # , **worker_kwargs)\n",
    "# cluster = LocalCluster(ip='0.0.0.0', n_workers=40, **worker_kwargs)\n",
    "client = Client(cluster)\n",
    "\n",
    "# cluster.close()\n",
    "# client.close()\n",
    "\n",
    "%%time\n",
    "blocksize = int(1e8)  # 100MB\n",
    "\n",
    "df = dd.read_json('../data/ipython_notebooks_python_and_R_scripts_imports_full/ipython_notebooks_python_and_R_scripts_imports_full-*.json', blocksize=blocksize)  # , typ='series')\n",
    "\n",
    "print(df.npartitions)\n",
    "\n",
    "# df.memory_usage().sum().compute()\n",
    "# df = df.repartition(partition_size=\"100MB\")\n",
    "# df.npartitions\n",
    "\n",
    "%%time\n",
    "script_counts = df.drop_duplicates(subset=['repo_name', 'script_type']).script_type.value_counts()\n",
    "script_counts = script_counts.compute()\n",
    "\n",
    "# Python     562209\n",
    "# IPython     23776\n",
    "# R           20756\n",
    "# Name: script_type, dtype: int64\n",
    "```"
   ]
  },
  {
   "cell_type": "markdown",
   "metadata": {},
   "source": [
    "# Load parquet dump of the data from spark\n",
    "\n",
    "Note that we can do all this processing in spark as well."
   ]
  },
  {
   "cell_type": "code",
   "execution_count": 1,
   "metadata": {},
   "outputs": [],
   "source": [
    "import pandas as pd"
   ]
  },
  {
   "cell_type": "code",
   "execution_count": 3,
   "metadata": {},
   "outputs": [
    {
     "name": "stderr",
     "output_type": "stream",
     "text": [
      "/home/wb536061/anaconda3/envs/wb-nlp/lib/python3.7/site-packages/pyarrow/pandas_compat.py:752: FutureWarning: .labels was deprecated in version 0.24.0. Use .codes instead.\n",
      "  labels, = index.labels\n"
     ]
    },
    {
     "name": "stdout",
     "output_type": "stream",
     "text": [
      "CPU times: user 1min 56s, sys: 57.5 s, total: 2min 53s\n",
      "Wall time: 1min 51s\n"
     ]
    }
   ],
   "source": [
    "%%time\n",
    "df = pd.read_parquet('../pyspark-processing/ipython_notebooks_python_and_R_scripts_imports_full.parquet')"
   ]
  },
  {
   "cell_type": "code",
   "execution_count": 6,
   "metadata": {},
   "outputs": [
    {
     "name": "stdout",
     "output_type": "stream",
     "text": [
      "CPU times: user 24.2 s, sys: 14 s, total: 38.2 s\n",
      "Wall time: 38.1 s\n"
     ]
    }
   ],
   "source": [
    "%%time\n",
    "vc = df.drop_duplicates(['repo_name', 'script_type'])['script_type'].value_counts()"
   ]
  },
  {
   "cell_type": "code",
   "execution_count": 7,
   "metadata": {},
   "outputs": [
    {
     "data": {
      "text/plain": [
       "Python     562209\n",
       "IPython     23776\n",
       "R           20756\n",
       "Name: script_type, dtype: int64"
      ]
     },
     "execution_count": 7,
     "metadata": {},
     "output_type": "execute_result"
    }
   ],
   "source": [
    "vc"
   ]
  },
  {
   "cell_type": "markdown",
   "metadata": {},
   "source": [
    "# Load library used per repo and script_type"
   ]
  },
  {
   "cell_type": "code",
   "execution_count": 2,
   "metadata": {},
   "outputs": [
    {
     "name": "stdout",
     "output_type": "stream",
     "text": [
      "CPU times: user 7.43 s, sys: 593 ms, total: 8.02 s\n",
      "Wall time: 8.03 s\n"
     ]
    }
   ],
   "source": [
    "%%time\n",
    "mdf = pd.read_csv('../data/module_usage_per_repository/module_usage_per_repository_20191120233530.csv.gz')\n",
    "py_mdf = mdf[mdf.script_type.isin(['Python', 'IPyton'])]\n",
    "r_mdf = mdf[mdf.script_type.isin(['R'])]"
   ]
  },
  {
   "cell_type": "code",
   "execution_count": 4,
   "metadata": {},
   "outputs": [
    {
     "data": {
      "text/plain": [
       "582589"
      ]
     },
     "execution_count": 4,
     "metadata": {},
     "output_type": "execute_result"
    }
   ],
   "source": [
    "mdf.repo_name.nunique()"
   ]
  },
  {
   "cell_type": "code",
   "execution_count": 86,
   "metadata": {},
   "outputs": [
    {
     "name": "stdout",
     "output_type": "stream",
     "text": [
      "CPU times: user 2min 50s, sys: 4.38 s, total: 2min 54s\n",
      "Wall time: 2min 52s\n"
     ]
    }
   ],
   "source": [
    "%%time\n",
    "py_module_freq = py_mdf.module.value_counts()\n",
    "py_module_freq = py_module_freq[py_module_freq >= 200]\n",
    "\n",
    "py_module_docs = py_mdf[py_mdf['module'].isin(py_module_freq.index)].groupby(['script_type', 'repo_name']).apply(lambda x: x['module'].dropna().tolist())"
   ]
  },
  {
   "cell_type": "code",
   "execution_count": 87,
   "metadata": {},
   "outputs": [
    {
     "name": "stdout",
     "output_type": "stream",
     "text": [
      "CPU times: user 5.64 s, sys: 154 ms, total: 5.8 s\n",
      "Wall time: 5.7 s\n"
     ]
    }
   ],
   "source": [
    "%%time\n",
    "r_module_freq = r_mdf.module.value_counts()\n",
    "r_module_freq = r_module_freq[r_module_freq >= 5]\n",
    "\n",
    "r_module_docs = r_mdf[r_mdf['module'].isin(r_module_freq.index)].groupby(['script_type', 'repo_name']).apply(lambda x: x['module'].dropna().tolist())"
   ]
  },
  {
   "cell_type": "code",
   "execution_count": 88,
   "metadata": {},
   "outputs": [],
   "source": [
    "# module_docs = mdf.groupby(['script_type', 'repo_name']).apply(lambda x: x['module'].dropna().tolist())"
   ]
  },
  {
   "cell_type": "code",
   "execution_count": 89,
   "metadata": {},
   "outputs": [],
   "source": [
    "from gensim.models import Word2Vec\n",
    "from sklearn.cluster import KMeans\n",
    "import os\n",
    "\n",
    "def prepare_data_for_tf_projector(corpus, script_types, save_data=False, data_dir=None, min_count=100, iter=20):\n",
    "    print(f'Preparing data for {len(corpus)} samples...')\n",
    "    script_type = script_types[0]\n",
    "    \n",
    "    w2v = Word2Vec(corpus, min_count=min_count, window=100, workers=40, iter=iter, size=300, seed=1029)\n",
    "    cluster = KMeans(n_clusters=10, random_state=1029)\n",
    "\n",
    "    modules = pd.DataFrame(list(w2v.wv.vocab), columns=['module'])\n",
    "    modules['vec'] = list(w2v.wv[modules.module])\n",
    "    modules['cluster'] = cluster.fit_predict(list(modules['vec'].values))\n",
    "\n",
    "    if save_data:\n",
    "        assert(data_dir is not None)\n",
    "        pd.DataFrame(list(modules['vec'])).to_csv(os.path.join(data_dir, f'{script_type}_modules_vec.tsv'), sep='\\t', index=False, header=False)\n",
    "        modules[['module', 'cluster']].to_csv(os.path.join(data_dir, f'{script_type}_modules_meta.tsv'), sep='\\t', index=False, header=True)\n",
    "\n",
    "    return modules"
   ]
  },
  {
   "cell_type": "code",
   "execution_count": 23,
   "metadata": {},
   "outputs": [
    {
     "name": "stdout",
     "output_type": "stream",
     "text": [
      "Preparing data for 20597 samples...\n",
      "CPU times: user 26.7 s, sys: 38.9 s, total: 1min 5s\n",
      "Wall time: 3.84 s\n"
     ]
    },
    {
     "data": {
      "text/html": [
       "<div>\n",
       "<style scoped>\n",
       "    .dataframe tbody tr th:only-of-type {\n",
       "        vertical-align: middle;\n",
       "    }\n",
       "\n",
       "    .dataframe tbody tr th {\n",
       "        vertical-align: top;\n",
       "    }\n",
       "\n",
       "    .dataframe thead th {\n",
       "        text-align: right;\n",
       "    }\n",
       "</style>\n",
       "<table border=\"1\" class=\"dataframe\">\n",
       "  <thead>\n",
       "    <tr style=\"text-align: right;\">\n",
       "      <th></th>\n",
       "      <th>module</th>\n",
       "      <th>vec</th>\n",
       "      <th>cluster</th>\n",
       "    </tr>\n",
       "  </thead>\n",
       "  <tbody>\n",
       "    <tr>\n",
       "      <td>0</td>\n",
       "      <td>chron</td>\n",
       "      <td>[-0.29734376, -0.31988722, -0.17052056, -0.275...</td>\n",
       "      <td>1</td>\n",
       "    </tr>\n",
       "    <tr>\n",
       "      <td>1</td>\n",
       "      <td>ggplot2</td>\n",
       "      <td>[-0.16877082, 0.11727307, -0.37764275, 0.82982...</td>\n",
       "      <td>6</td>\n",
       "    </tr>\n",
       "    <tr>\n",
       "      <td>2</td>\n",
       "      <td>plyr</td>\n",
       "      <td>[-0.58273154, -0.32164478, 0.18876436, 0.55030...</td>\n",
       "      <td>6</td>\n",
       "    </tr>\n",
       "    <tr>\n",
       "      <td>3</td>\n",
       "      <td>grid</td>\n",
       "      <td>[0.538545, -0.6895409, 0.0040034447, -1.374176...</td>\n",
       "      <td>6</td>\n",
       "    </tr>\n",
       "    <tr>\n",
       "      <td>4</td>\n",
       "      <td>rdyncall</td>\n",
       "      <td>[-0.0015377079, -0.0013925949, -0.000474769, 0...</td>\n",
       "      <td>6</td>\n",
       "    </tr>\n",
       "    <tr>\n",
       "      <td>...</td>\n",
       "      <td>...</td>\n",
       "      <td>...</td>\n",
       "      <td>...</td>\n",
       "    </tr>\n",
       "    <tr>\n",
       "      <td>1805</td>\n",
       "      <td>PBD</td>\n",
       "      <td>[-0.077392325, 0.13648748, -0.009825443, -0.12...</td>\n",
       "      <td>6</td>\n",
       "    </tr>\n",
       "    <tr>\n",
       "      <td>1806</td>\n",
       "      <td>systemPipeR</td>\n",
       "      <td>[0.04767672, -0.01599026, 0.007497875, 0.00375...</td>\n",
       "      <td>6</td>\n",
       "    </tr>\n",
       "    <tr>\n",
       "      <td>1807</td>\n",
       "      <td>WMUtils</td>\n",
       "      <td>[-0.055064663, 0.06726393, -0.020275181, 0.035...</td>\n",
       "      <td>6</td>\n",
       "    </tr>\n",
       "    <tr>\n",
       "      <td>1808</td>\n",
       "      <td>uaparser</td>\n",
       "      <td>[-0.01951466, -0.017022422, -0.046944134, 0.03...</td>\n",
       "      <td>6</td>\n",
       "    </tr>\n",
       "    <tr>\n",
       "      <td>1809</td>\n",
       "      <td>reconstructr</td>\n",
       "      <td>[-0.035655264, 0.03689756, -0.05570621, 0.0305...</td>\n",
       "      <td>6</td>\n",
       "    </tr>\n",
       "  </tbody>\n",
       "</table>\n",
       "<p>1810 rows × 3 columns</p>\n",
       "</div>"
      ],
      "text/plain": [
       "            module                                                vec  cluster\n",
       "0            chron  [-0.29734376, -0.31988722, -0.17052056, -0.275...        1\n",
       "1          ggplot2  [-0.16877082, 0.11727307, -0.37764275, 0.82982...        6\n",
       "2             plyr  [-0.58273154, -0.32164478, 0.18876436, 0.55030...        6\n",
       "3             grid  [0.538545, -0.6895409, 0.0040034447, -1.374176...        6\n",
       "4         rdyncall  [-0.0015377079, -0.0013925949, -0.000474769, 0...        6\n",
       "...            ...                                                ...      ...\n",
       "1805           PBD  [-0.077392325, 0.13648748, -0.009825443, -0.12...        6\n",
       "1806   systemPipeR  [0.04767672, -0.01599026, 0.007497875, 0.00375...        6\n",
       "1807       WMUtils  [-0.055064663, 0.06726393, -0.020275181, 0.035...        6\n",
       "1808      uaparser  [-0.01951466, -0.017022422, -0.046944134, 0.03...        6\n",
       "1809  reconstructr  [-0.035655264, 0.03689756, -0.05570621, 0.0305...        6\n",
       "\n",
       "[1810 rows x 3 columns]"
      ]
     },
     "execution_count": 23,
     "metadata": {},
     "output_type": "execute_result"
    }
   ],
   "source": [
    "%%time\n",
    "prepare_data_for_tf_projector(list(r_module_docs.loc['R'].values), script_types=['R'], save_data=True, data_dir='./', min_count=5)"
   ]
  },
  {
   "cell_type": "code",
   "execution_count": 90,
   "metadata": {},
   "outputs": [
    {
     "name": "stdout",
     "output_type": "stream",
     "text": [
      "Preparing data for 560360 samples...\n",
      "CPU times: user 2h 3min 20s, sys: 1min 56s, total: 2h 5min 16s\n",
      "Wall time: 3min 14s\n"
     ]
    },
    {
     "data": {
      "text/html": [
       "<div>\n",
       "<style scoped>\n",
       "    .dataframe tbody tr th:only-of-type {\n",
       "        vertical-align: middle;\n",
       "    }\n",
       "\n",
       "    .dataframe tbody tr th {\n",
       "        vertical-align: top;\n",
       "    }\n",
       "\n",
       "    .dataframe thead th {\n",
       "        text-align: right;\n",
       "    }\n",
       "</style>\n",
       "<table border=\"1\" class=\"dataframe\">\n",
       "  <thead>\n",
       "    <tr style=\"text-align: right;\">\n",
       "      <th></th>\n",
       "      <th>module</th>\n",
       "      <th>vec</th>\n",
       "      <th>cluster</th>\n",
       "    </tr>\n",
       "  </thead>\n",
       "  <tbody>\n",
       "    <tr>\n",
       "      <td>0</td>\n",
       "      <td>urlparse</td>\n",
       "      <td>[-2.280014, -2.691734, 1.6157978, 2.1966894, -...</td>\n",
       "      <td>5</td>\n",
       "    </tr>\n",
       "    <tr>\n",
       "      <td>1</td>\n",
       "      <td>functools</td>\n",
       "      <td>[4.53562, 1.0246713, -2.6429727, -0.38584536, ...</td>\n",
       "      <td>5</td>\n",
       "    </tr>\n",
       "    <tr>\n",
       "      <td>2</td>\n",
       "      <td>StringIO</td>\n",
       "      <td>[0.98056847, 1.9096088, -2.8764014, -1.5552895...</td>\n",
       "      <td>8</td>\n",
       "    </tr>\n",
       "    <tr>\n",
       "      <td>3</td>\n",
       "      <td>copy</td>\n",
       "      <td>[-0.45058998, -1.7555252, -1.6424855, 1.483904...</td>\n",
       "      <td>8</td>\n",
       "    </tr>\n",
       "    <tr>\n",
       "      <td>4</td>\n",
       "      <td>codecs</td>\n",
       "      <td>[-1.3617383, 3.8742113, -0.2960362, -4.605664,...</td>\n",
       "      <td>8</td>\n",
       "    </tr>\n",
       "    <tr>\n",
       "      <td>...</td>\n",
       "      <td>...</td>\n",
       "      <td>...</td>\n",
       "      <td>...</td>\n",
       "    </tr>\n",
       "    <tr>\n",
       "      <td>3711</td>\n",
       "      <td>gnomedesktop</td>\n",
       "      <td>[-0.3768868, 1.3325734, -0.0909447, 0.5488758,...</td>\n",
       "      <td>8</td>\n",
       "    </tr>\n",
       "    <tr>\n",
       "      <td>3712</td>\n",
       "      <td>ns3modulescan</td>\n",
       "      <td>[-0.3964863, 0.65070814, -0.16312076, 0.720549...</td>\n",
       "      <td>8</td>\n",
       "    </tr>\n",
       "    <tr>\n",
       "      <td>3713</td>\n",
       "      <td>gazpacho</td>\n",
       "      <td>[-0.8132823, 1.053119, 0.028597878, 0.80987865...</td>\n",
       "      <td>8</td>\n",
       "    </tr>\n",
       "    <tr>\n",
       "      <td>3714</td>\n",
       "      <td>svgitem</td>\n",
       "      <td>[-0.29838303, 1.3231926, -0.09869748, 0.182885...</td>\n",
       "      <td>8</td>\n",
       "    </tr>\n",
       "    <tr>\n",
       "      <td>3715</td>\n",
       "      <td>product_details</td>\n",
       "      <td>[2.6860344, -0.110478014, -3.783783, -2.599230...</td>\n",
       "      <td>2</td>\n",
       "    </tr>\n",
       "  </tbody>\n",
       "</table>\n",
       "<p>3716 rows × 3 columns</p>\n",
       "</div>"
      ],
      "text/plain": [
       "               module                                                vec  \\\n",
       "0            urlparse  [-2.280014, -2.691734, 1.6157978, 2.1966894, -...   \n",
       "1           functools  [4.53562, 1.0246713, -2.6429727, -0.38584536, ...   \n",
       "2            StringIO  [0.98056847, 1.9096088, -2.8764014, -1.5552895...   \n",
       "3                copy  [-0.45058998, -1.7555252, -1.6424855, 1.483904...   \n",
       "4              codecs  [-1.3617383, 3.8742113, -0.2960362, -4.605664,...   \n",
       "...               ...                                                ...   \n",
       "3711     gnomedesktop  [-0.3768868, 1.3325734, -0.0909447, 0.5488758,...   \n",
       "3712    ns3modulescan  [-0.3964863, 0.65070814, -0.16312076, 0.720549...   \n",
       "3713         gazpacho  [-0.8132823, 1.053119, 0.028597878, 0.80987865...   \n",
       "3714          svgitem  [-0.29838303, 1.3231926, -0.09869748, 0.182885...   \n",
       "3715  product_details  [2.6860344, -0.110478014, -3.783783, -2.599230...   \n",
       "\n",
       "      cluster  \n",
       "0           5  \n",
       "1           5  \n",
       "2           8  \n",
       "3           8  \n",
       "4           8  \n",
       "...       ...  \n",
       "3711        8  \n",
       "3712        8  \n",
       "3713        8  \n",
       "3714        8  \n",
       "3715        2  \n",
       "\n",
       "[3716 rows x 3 columns]"
      ]
     },
     "execution_count": 90,
     "metadata": {},
     "output_type": "execute_result"
    }
   ],
   "source": [
    "%%time\n",
    "py_modules_vec = prepare_data_for_tf_projector(list(py_module_docs.loc[['Ipython', 'Python']].values), script_types=['Python'], save_data=True, data_dir='./', min_count=100, iter=10)\n",
    "py_modules_vec"
   ]
  },
  {
   "cell_type": "code",
   "execution_count": 38,
   "metadata": {},
   "outputs": [
    {
     "data": {
      "text/plain": [
       "(6391, 3)"
      ]
     },
     "execution_count": 38,
     "metadata": {},
     "output_type": "execute_result"
    }
   ],
   "source": [
    "py_modules.shape"
   ]
  },
  {
   "cell_type": "code",
   "execution_count": null,
   "metadata": {},
   "outputs": [],
   "source": []
  },
  {
   "cell_type": "code",
   "execution_count": 34,
   "metadata": {},
   "outputs": [
    {
     "name": "stdout",
     "output_type": "stream",
     "text": [
      "Preparing data for 562197 samples...\n",
      "CPU times: user 3h 58min 52s, sys: 4min 37s, total: 4h 3min 30s\n",
      "Wall time: 7min 47s\n"
     ]
    },
    {
     "data": {
      "text/html": [
       "<div>\n",
       "<style scoped>\n",
       "    .dataframe tbody tr th:only-of-type {\n",
       "        vertical-align: middle;\n",
       "    }\n",
       "\n",
       "    .dataframe tbody tr th {\n",
       "        vertical-align: top;\n",
       "    }\n",
       "\n",
       "    .dataframe thead th {\n",
       "        text-align: right;\n",
       "    }\n",
       "</style>\n",
       "<table border=\"1\" class=\"dataframe\">\n",
       "  <thead>\n",
       "    <tr style=\"text-align: right;\">\n",
       "      <th></th>\n",
       "      <th>module</th>\n",
       "      <th>vec</th>\n",
       "      <th>cluster</th>\n",
       "    </tr>\n",
       "  </thead>\n",
       "  <tbody>\n",
       "    <tr>\n",
       "      <td>0</td>\n",
       "      <td>urlparse</td>\n",
       "      <td>[3.3688974, -5.095426, 1.7095687, 8.289695, -1...</td>\n",
       "      <td>1</td>\n",
       "    </tr>\n",
       "    <tr>\n",
       "      <td>1</td>\n",
       "      <td>functools</td>\n",
       "      <td>[5.9889603, 3.6559272, 5.824282, 5.0220613, 3....</td>\n",
       "      <td>1</td>\n",
       "    </tr>\n",
       "    <tr>\n",
       "      <td>2</td>\n",
       "      <td>StringIO</td>\n",
       "      <td>[0.7471799, 0.88335365, -0.63738906, 2.1189399...</td>\n",
       "      <td>1</td>\n",
       "    </tr>\n",
       "    <tr>\n",
       "      <td>3</td>\n",
       "      <td>copy</td>\n",
       "      <td>[0.19896787, -4.796321, 1.2551454, 4.7062955, ...</td>\n",
       "      <td>1</td>\n",
       "    </tr>\n",
       "    <tr>\n",
       "      <td>4</td>\n",
       "      <td>codecs</td>\n",
       "      <td>[2.3026829, 6.424887, 5.8550344, 4.981002, 0.6...</td>\n",
       "      <td>9</td>\n",
       "    </tr>\n",
       "    <tr>\n",
       "      <td>...</td>\n",
       "      <td>...</td>\n",
       "      <td>...</td>\n",
       "      <td>...</td>\n",
       "    </tr>\n",
       "    <tr>\n",
       "      <td>61749</td>\n",
       "      <td>geocamTrack</td>\n",
       "      <td>[0.593021, -0.17838188, 1.0836339, 0.05259446,...</td>\n",
       "      <td>2</td>\n",
       "    </tr>\n",
       "    <tr>\n",
       "      <td>61750</td>\n",
       "      <td>xgds_notes2</td>\n",
       "      <td>[0.5678476, -0.28149605, 1.1268666, 0.10522416...</td>\n",
       "      <td>2</td>\n",
       "    </tr>\n",
       "    <tr>\n",
       "      <td>61751</td>\n",
       "      <td>geocamUtil</td>\n",
       "      <td>[0.6720177, -0.98314375, 1.0923384, 0.22954203...</td>\n",
       "      <td>8</td>\n",
       "    </tr>\n",
       "    <tr>\n",
       "      <td>61752</td>\n",
       "      <td>fondasms</td>\n",
       "      <td>[0.04158452, -0.27844498, -0.4722933, 0.144264...</td>\n",
       "      <td>8</td>\n",
       "    </tr>\n",
       "    <tr>\n",
       "      <td>61753</td>\n",
       "      <td>zerotk</td>\n",
       "      <td>[-0.10881999, -0.20816657, -1.0537722, -0.2368...</td>\n",
       "      <td>8</td>\n",
       "    </tr>\n",
       "  </tbody>\n",
       "</table>\n",
       "<p>61754 rows × 3 columns</p>\n",
       "</div>"
      ],
      "text/plain": [
       "            module                                                vec  cluster\n",
       "0         urlparse  [3.3688974, -5.095426, 1.7095687, 8.289695, -1...        1\n",
       "1        functools  [5.9889603, 3.6559272, 5.824282, 5.0220613, 3....        1\n",
       "2         StringIO  [0.7471799, 0.88335365, -0.63738906, 2.1189399...        1\n",
       "3             copy  [0.19896787, -4.796321, 1.2551454, 4.7062955, ...        1\n",
       "4           codecs  [2.3026829, 6.424887, 5.8550344, 4.981002, 0.6...        9\n",
       "...            ...                                                ...      ...\n",
       "61749  geocamTrack  [0.593021, -0.17838188, 1.0836339, 0.05259446,...        2\n",
       "61750  xgds_notes2  [0.5678476, -0.28149605, 1.1268666, 0.10522416...        2\n",
       "61751   geocamUtil  [0.6720177, -0.98314375, 1.0923384, 0.22954203...        8\n",
       "61752     fondasms  [0.04158452, -0.27844498, -0.4722933, 0.144264...        8\n",
       "61753       zerotk  [-0.10881999, -0.20816657, -1.0537722, -0.2368...        8\n",
       "\n",
       "[61754 rows x 3 columns]"
      ]
     },
     "execution_count": 34,
     "metadata": {},
     "output_type": "execute_result"
    }
   ],
   "source": [
    "%%time\n",
    "prepare_data_for_tf_projector(list(module_docs.loc[['Ipython', 'Python']].values), script_types=['Python'], save_data=True, data_dir='./', min_count=100)"
   ]
  },
  {
   "cell_type": "code",
   "execution_count": 35,
   "metadata": {},
   "outputs": [
    {
     "data": {
      "text/plain": [
       "script_type  repo_name                       \n",
       "Python       0--key/lib                          [urlparse, functools, StringIO, copy, codecs, ...\n",
       "             0--key/org-pub                                    [spynner, time, operator, unittest]\n",
       "             0-0-1/cogbot                        [asyncio, json, typing, traceback, urllib, log...\n",
       "             0-1-0/Python-Arduino-Command-API    [logging, platform, unittest, glob, Arduino, s...\n",
       "             0-1-0/lightblue-0.4                 [_lightblue, datetime, _macutil, time, AppKit,...\n",
       "                                                                       ...                        \n",
       "             zzzsss/parsing2                       [random, threading, re, os, time, control_grid]\n",
       "             zzzzRuby/Skuld                      [math, subprocess, __future__, os, docutils, u...\n",
       "             zzzzrrr/openmelee                   [callbacks, xml, players, pygame, melee, gzip,...\n",
       "             zzzzzsh/pyspider                    [sqlite3, pyquery, Queue, urlparse, setuptools...\n",
       "             zzzzzyuzhang/git                    [tempfile, sys, getopt, email, shutil, marshal...\n",
       "Length: 562197, dtype: object"
      ]
     },
     "execution_count": 35,
     "metadata": {},
     "output_type": "execute_result"
    }
   ],
   "source": [
    "module_docs.loc[['Ipython', 'Python']]"
   ]
  },
  {
   "cell_type": "code",
   "execution_count": 41,
   "metadata": {},
   "outputs": [
    {
     "data": {
      "text/plain": [
       "script_type  repo_name                       \n",
       "Python       0--key/lib                          [urlparse, functools, StringIO, copy, codecs, ...\n",
       "             0--key/org-pub                                    [spynner, time, operator, unittest]\n",
       "             0-0-1/cogbot                        [asyncio, json, typing, traceback, urllib, log...\n",
       "             0-1-0/Python-Arduino-Command-API    [logging, platform, unittest, glob, Arduino, s...\n",
       "             0-1-0/lightblue-0.4                 [_lightblue, datetime, _macutil, time, AppKit,...\n",
       "dtype: object"
      ]
     },
     "execution_count": 41,
     "metadata": {},
     "output_type": "execute_result"
    }
   ],
   "source": [
    "module_docs.loc[['Ipython', 'Python']].head()"
   ]
  },
  {
   "cell_type": "code",
   "execution_count": 66,
   "metadata": {},
   "outputs": [],
   "source": []
  },
  {
   "cell_type": "code",
   "execution_count": 67,
   "metadata": {},
   "outputs": [
    {
     "data": {
      "text/plain": [
       "3116"
      ]
     },
     "execution_count": 67,
     "metadata": {},
     "output_type": "execute_result"
    }
   ],
   "source": [
    "py_module_freq['keras']"
   ]
  },
  {
   "cell_type": "code",
   "execution_count": 81,
   "metadata": {},
   "outputs": [
    {
     "data": {
      "text/plain": [
       "12037"
      ]
     },
     "execution_count": 81,
     "metadata": {},
     "output_type": "execute_result"
    }
   ],
   "source": []
  },
  {
   "cell_type": "code",
   "execution_count": 55,
   "metadata": {},
   "outputs": [],
   "source": [
    "%matplotlib inline"
   ]
  },
  {
   "cell_type": "code",
   "execution_count": 65,
   "metadata": {},
   "outputs": [
    {
     "data": {
      "text/plain": [
       "Index(['data.table', 'rpart.plot', 'R.utils', 'as.character', 'org.Hs.eg.db',\n",
       "       'GO.db', 'BSgenome.Hsapiens.UCSC.hg19',\n",
       "       'TxDb.Hsapiens.UCSC.hg19.knownGene', 'R.matlab', 'lib.loc',\n",
       "       ...\n",
       "       'bioc2016.visrseq', 'BSgenome.Celegans.UCSC.ce2', 'Japan.useR',\n",
       "       'env.tools', 'glm.interaction', 'SNPlocs.Hsapiens.dbSNP141.GRCh38',\n",
       "       'MEF2C.data', 'RnBeads.hg19', 'install.load',\n",
       "       'IlluminaHumanMethylationEPICanno.ilm10b2.hg19'],\n",
       "      dtype='object', length=466)"
      ]
     },
     "execution_count": 65,
     "metadata": {},
     "output_type": "execute_result"
    }
   ],
   "source": [
    "module_freq.index[module_freq.index.str.contains('\\.')]"
   ]
  },
  {
   "cell_type": "code",
   "execution_count": null,
   "metadata": {},
   "outputs": [],
   "source": []
  }
 ],
 "metadata": {
  "kernelspec": {
   "display_name": "Python 3",
   "language": "python",
   "name": "python3"
  },
  "language_info": {
   "codemirror_mode": {
    "name": "ipython",
    "version": 3
   },
   "file_extension": ".py",
   "mimetype": "text/x-python",
   "name": "python",
   "nbconvert_exporter": "python",
   "pygments_lexer": "ipython3",
   "version": "3.8.3-final"
  }
 },
 "nbformat": 4,
 "nbformat_minor": 4
}