{
 "cells": [
  {
   "cell_type": "code",
   "execution_count": 1,
   "metadata": {},
   "outputs": [],
   "source": [
    "%%capture\n",
    "\n",
    "# get_corpus_path\n",
    "# get_txt_orig_path\n",
    "\n",
    "%run ./path_manager.ipynb"
   ]
  },
  {
   "cell_type": "code",
   "execution_count": 35,
   "metadata": {},
   "outputs": [],
   "source": [
    "import re\n",
    "import pandas as pd\n",
    "import os\n",
    "import glob\n",
    "from joblib import Parallel, delayed"
   ]
  },
  {
   "cell_type": "code",
   "execution_count": 3,
   "metadata": {
    "collapsed": true,
    "jupyter": {
     "outputs_hidden": true
    }
   },
   "outputs": [],
   "source": [
    "class CountryDetector:\n",
    "    countries_noise_pattern = re.compile('[^a-zÀ-ÖØ-öø-ÿ ]+')\n",
    "    \n",
    "    def __init__(\n",
    "        self, countries_map_file,\n",
    "    ):\n",
    "        self.countries_map_file = countries_map_file\n",
    "        self.build_countries_map()\n",
    "\n",
    "    def build_countries_map(self):\n",
    "        '''\n",
    "        Generates a map between a variant of a country name into the appropriate standard code from a whitelist.\n",
    "        Assume that the whitelist `countries_map_file` is an excel file without header and the first column is the country code to use.\n",
    "        The `countries_map_file` must be in UTF-8 encoding.\n",
    "        '''\n",
    "        countries_map_df = pd.read_csv(self.countries_map_file, header=None, index_col=0)\n",
    "        self.countries_map = {}\n",
    "        for ckey, clist in countries_map_df.iterrows():\n",
    "            for c in clist.dropna():\n",
    "                c = self.countries_noise_pattern.sub('', c.lower().strip())\n",
    "                ckey = ckey.strip()\n",
    "                self.countries_map[c.lower()] = {'code': ckey}\n",
    "            \n",
    "    def preprocess_text(self, text):\n",
    "        text = text.lower()\n",
    "        \n",
    "        # Reduce false-positive because the $ symbol is removed and the remaining us gets detected\n",
    "        text = text.replace('us$', ' ')\n",
    "\n",
    "        text = self.countries_noise_pattern.sub('', text)\n",
    "        text = text.replace('us dollar', ' ')\n",
    "        \n",
    "        return text\n",
    "    \n",
    "    def detect_countries(self, text):\n",
    "        text = self.preprocess_text(text)\n",
    "\n",
    "        country_freq = {}\n",
    "        \n",
    "        for c, val in sorted(self.countries_map.items(), key=lambda x: -len(x[0])):\n",
    "            data = text\n",
    "\n",
    "            code = val['code']\n",
    "            freq = data.count(f' {c} ')\n",
    "            \n",
    "            country_freq[code] = country_freq.get(code, 0) + freq\n",
    "            text = text.replace(c, '')\n",
    "        \n",
    "        country_freq = {i: j for i, j in country_freq.items() if j > 0}\n",
    "        return country_freq\n",
    "\n",
    "    def detect_countries_from_file(self, fname, return_df=True):\n",
    "        try:\n",
    "            with open(fname) as fl:\n",
    "                text = fl.read()\n",
    "        except UnicodeDecodeError:\n",
    "            with open(fname, 'rb') as fl:\n",
    "                text = fl.read()\n",
    "                text = str(text, 'utf-8', 'ignore')\n",
    "\n",
    "        doc_id = os.path.basename(fname).split('.')[0]\n",
    "            \n",
    "        return_val = {doc_id: self.detect_countries(text)}\n",
    "        \n",
    "        if return_df:\n",
    "            return_val = pd.DataFrame(return_val)\n",
    "            \n",
    "        return return_val"
   ]
  },
  {
   "cell_type": "code",
   "execution_count": 4,
   "metadata": {
    "collapsed": true,
    "jupyter": {
     "outputs_hidden": true
    },
    "scrolled": true
   },
   "outputs": [],
   "source": [
    "country_detector = CountryDetector('./whitelists/whitelist_countries_multilingual.csv')"
   ]
  },
  {
   "cell_type": "code",
   "execution_count": 5,
   "metadata": {
    "collapsed": true,
    "jupyter": {
     "outputs_hidden": true
    }
   },
   "outputs": [],
   "source": [
    "N_JOBS = 256  # number of simultaneous jobs to deploy"
   ]
  },
  {
   "cell_type": "code",
   "execution_count": 6,
   "metadata": {
    "collapsed": true,
    "jupyter": {
     "outputs_hidden": true
    }
   },
   "outputs": [],
   "source": [
    "corpus_ids = ['IMF', 'WB']"
   ]
  },
  {
   "cell_type": "code",
   "execution_count": null,
   "metadata": {
    "scrolled": true
   },
   "outputs": [
    {
     "name": "stdout",
     "output_type": "stream",
     "text": [
      "Processing corpus IMF...\n"
     ]
    },
    {
     "name": "stderr",
     "output_type": "stream",
     "text": [
      "/home/wb536061/.conda/envs/wb-nlp/lib/python3.7/site-packages/ipykernel_launcher.py:9: FutureWarning: Sorting because non-concatenation axis is not aligned. A future version\n",
      "of pandas will change to not sort by default.\n",
      "\n",
      "To accept the future behavior, pass 'sort=False'.\n",
      "\n",
      "To retain the current behavior and silence the warning, pass 'sort=True'.\n",
      "\n",
      "  if __name__ == '__main__':\n"
     ]
    },
    {
     "name": "stdout",
     "output_type": "stream",
     "text": [
      "Processing corpus WB...\n"
     ]
    }
   ],
   "source": [
    "%%time\n",
    "\n",
    "for corpus_id in corpus_ids:\n",
    "    print(f'Processing corpus {corpus_id}...')\n",
    "    \n",
    "    TXT_ORIG_DIR = get_txt_orig_path(corpus_id)\n",
    "    fname_generator = glob.iglob(os.path.join(get_txt_orig_path(corpus_id), f'{corpus_id.lower()}_*.txt'))\n",
    "\n",
    "    corpus_countries = Parallel(n_jobs=N_JOBS)(delayed(country_detector.detect_countries_from_file)(fname) for fname in fname_generator)\n",
    "\n",
    "    corpus_countries = pd.concat(corpus_countries, axis=1).T\n",
    "    corpus_countries.index.name = 'id'\n",
    "    \n",
    "    corpus_countries['OCC_CTRY'] = corpus_countries.sum(axis=1)\n",
    "    \n",
    "    country_metadata_fname = os.path.join(os.path.dirname(TXT_ORIG_DIR), f'{corpus_id.lower()}_country_counts.csv')\n",
    "    corpus_countries.to_csv(country_metadata_fname)"
   ]
  },
  {
   "cell_type": "code",
   "execution_count": 11,
   "metadata": {},
   "outputs": [
    {
     "data": {
      "text/plain": [
       "(249352, 245)"
      ]
     },
     "execution_count": 11,
     "metadata": {},
     "output_type": "execute_result"
    }
   ],
   "source": [
    "corpus_countries.shape"
   ]
  },
  {
   "cell_type": "code",
   "execution_count": 12,
   "metadata": {},
   "outputs": [
    {
     "data": {
      "text/html": [
       "<div>\n",
       "<style scoped>\n",
       "    .dataframe tbody tr th:only-of-type {\n",
       "        vertical-align: middle;\n",
       "    }\n",
       "\n",
       "    .dataframe tbody tr th {\n",
       "        vertical-align: top;\n",
       "    }\n",
       "\n",
       "    .dataframe thead th {\n",
       "        text-align: right;\n",
       "    }\n",
       "</style>\n",
       "<table border=\"1\" class=\"dataframe\">\n",
       "  <thead>\n",
       "    <tr style=\"text-align: right;\">\n",
       "      <th></th>\n",
       "      <th>ABW</th>\n",
       "      <th>AFG</th>\n",
       "      <th>AGO</th>\n",
       "      <th>AIA</th>\n",
       "      <th>ALB</th>\n",
       "      <th>AND</th>\n",
       "      <th>ARE</th>\n",
       "      <th>ARG</th>\n",
       "      <th>ARM</th>\n",
       "      <th>ASM</th>\n",
       "      <th>...</th>\n",
       "      <th>WBG</th>\n",
       "      <th>WLF</th>\n",
       "      <th>WSM</th>\n",
       "      <th>XKX</th>\n",
       "      <th>YEM</th>\n",
       "      <th>YUG</th>\n",
       "      <th>ZAF</th>\n",
       "      <th>ZMB</th>\n",
       "      <th>ZWE</th>\n",
       "      <th>OCC_CTRY</th>\n",
       "    </tr>\n",
       "    <tr>\n",
       "      <th>id</th>\n",
       "      <th></th>\n",
       "      <th></th>\n",
       "      <th></th>\n",
       "      <th></th>\n",
       "      <th></th>\n",
       "      <th></th>\n",
       "      <th></th>\n",
       "      <th></th>\n",
       "      <th></th>\n",
       "      <th></th>\n",
       "      <th></th>\n",
       "      <th></th>\n",
       "      <th></th>\n",
       "      <th></th>\n",
       "      <th></th>\n",
       "      <th></th>\n",
       "      <th></th>\n",
       "      <th></th>\n",
       "      <th></th>\n",
       "      <th></th>\n",
       "      <th></th>\n",
       "    </tr>\n",
       "  </thead>\n",
       "  <tbody>\n",
       "    <tr>\n",
       "      <td>wb_10003825</td>\n",
       "      <td>NaN</td>\n",
       "      <td>NaN</td>\n",
       "      <td>NaN</td>\n",
       "      <td>NaN</td>\n",
       "      <td>NaN</td>\n",
       "      <td>NaN</td>\n",
       "      <td>NaN</td>\n",
       "      <td>NaN</td>\n",
       "      <td>NaN</td>\n",
       "      <td>NaN</td>\n",
       "      <td>...</td>\n",
       "      <td>NaN</td>\n",
       "      <td>NaN</td>\n",
       "      <td>NaN</td>\n",
       "      <td>NaN</td>\n",
       "      <td>NaN</td>\n",
       "      <td>NaN</td>\n",
       "      <td>47.0</td>\n",
       "      <td>NaN</td>\n",
       "      <td>NaN</td>\n",
       "      <td>139.0</td>\n",
       "    </tr>\n",
       "    <tr>\n",
       "      <td>wb_10000577</td>\n",
       "      <td>NaN</td>\n",
       "      <td>NaN</td>\n",
       "      <td>NaN</td>\n",
       "      <td>NaN</td>\n",
       "      <td>NaN</td>\n",
       "      <td>NaN</td>\n",
       "      <td>NaN</td>\n",
       "      <td>30.0</td>\n",
       "      <td>NaN</td>\n",
       "      <td>NaN</td>\n",
       "      <td>...</td>\n",
       "      <td>NaN</td>\n",
       "      <td>NaN</td>\n",
       "      <td>NaN</td>\n",
       "      <td>NaN</td>\n",
       "      <td>NaN</td>\n",
       "      <td>NaN</td>\n",
       "      <td>13.0</td>\n",
       "      <td>NaN</td>\n",
       "      <td>NaN</td>\n",
       "      <td>137.0</td>\n",
       "    </tr>\n",
       "    <tr>\n",
       "      <td>wb_1000385</td>\n",
       "      <td>NaN</td>\n",
       "      <td>NaN</td>\n",
       "      <td>NaN</td>\n",
       "      <td>NaN</td>\n",
       "      <td>NaN</td>\n",
       "      <td>NaN</td>\n",
       "      <td>NaN</td>\n",
       "      <td>NaN</td>\n",
       "      <td>NaN</td>\n",
       "      <td>NaN</td>\n",
       "      <td>...</td>\n",
       "      <td>NaN</td>\n",
       "      <td>NaN</td>\n",
       "      <td>NaN</td>\n",
       "      <td>NaN</td>\n",
       "      <td>NaN</td>\n",
       "      <td>NaN</td>\n",
       "      <td>NaN</td>\n",
       "      <td>NaN</td>\n",
       "      <td>NaN</td>\n",
       "      <td>4.0</td>\n",
       "    </tr>\n",
       "    <tr>\n",
       "      <td>wb_10000660</td>\n",
       "      <td>NaN</td>\n",
       "      <td>NaN</td>\n",
       "      <td>NaN</td>\n",
       "      <td>NaN</td>\n",
       "      <td>NaN</td>\n",
       "      <td>NaN</td>\n",
       "      <td>NaN</td>\n",
       "      <td>2.0</td>\n",
       "      <td>NaN</td>\n",
       "      <td>NaN</td>\n",
       "      <td>...</td>\n",
       "      <td>NaN</td>\n",
       "      <td>NaN</td>\n",
       "      <td>NaN</td>\n",
       "      <td>NaN</td>\n",
       "      <td>NaN</td>\n",
       "      <td>NaN</td>\n",
       "      <td>NaN</td>\n",
       "      <td>NaN</td>\n",
       "      <td>NaN</td>\n",
       "      <td>65.0</td>\n",
       "    </tr>\n",
       "    <tr>\n",
       "      <td>wb_1000384</td>\n",
       "      <td>NaN</td>\n",
       "      <td>NaN</td>\n",
       "      <td>NaN</td>\n",
       "      <td>NaN</td>\n",
       "      <td>NaN</td>\n",
       "      <td>NaN</td>\n",
       "      <td>NaN</td>\n",
       "      <td>NaN</td>\n",
       "      <td>NaN</td>\n",
       "      <td>NaN</td>\n",
       "      <td>...</td>\n",
       "      <td>NaN</td>\n",
       "      <td>NaN</td>\n",
       "      <td>NaN</td>\n",
       "      <td>NaN</td>\n",
       "      <td>NaN</td>\n",
       "      <td>NaN</td>\n",
       "      <td>NaN</td>\n",
       "      <td>NaN</td>\n",
       "      <td>NaN</td>\n",
       "      <td>57.0</td>\n",
       "    </tr>\n",
       "  </tbody>\n",
       "</table>\n",
       "<p>5 rows × 245 columns</p>\n",
       "</div>"
      ],
      "text/plain": [
       "             ABW  AFG  AGO  AIA  ALB  AND  ARE   ARG  ARM  ASM  ...  WBG  WLF  \\\n",
       "id                                                              ...             \n",
       "wb_10003825  NaN  NaN  NaN  NaN  NaN  NaN  NaN   NaN  NaN  NaN  ...  NaN  NaN   \n",
       "wb_10000577  NaN  NaN  NaN  NaN  NaN  NaN  NaN  30.0  NaN  NaN  ...  NaN  NaN   \n",
       "wb_1000385   NaN  NaN  NaN  NaN  NaN  NaN  NaN   NaN  NaN  NaN  ...  NaN  NaN   \n",
       "wb_10000660  NaN  NaN  NaN  NaN  NaN  NaN  NaN   2.0  NaN  NaN  ...  NaN  NaN   \n",
       "wb_1000384   NaN  NaN  NaN  NaN  NaN  NaN  NaN   NaN  NaN  NaN  ...  NaN  NaN   \n",
       "\n",
       "             WSM  XKX  YEM  YUG   ZAF  ZMB  ZWE  OCC_CTRY  \n",
       "id                                                         \n",
       "wb_10003825  NaN  NaN  NaN  NaN  47.0  NaN  NaN     139.0  \n",
       "wb_10000577  NaN  NaN  NaN  NaN  13.0  NaN  NaN     137.0  \n",
       "wb_1000385   NaN  NaN  NaN  NaN   NaN  NaN  NaN       4.0  \n",
       "wb_10000660  NaN  NaN  NaN  NaN   NaN  NaN  NaN      65.0  \n",
       "wb_1000384   NaN  NaN  NaN  NaN   NaN  NaN  NaN      57.0  \n",
       "\n",
       "[5 rows x 245 columns]"
      ]
     },
     "execution_count": 12,
     "metadata": {},
     "output_type": "execute_result"
    }
   ],
   "source": [
    "corpus_countries.head()"
   ]
  },
  {
   "cell_type": "code",
   "execution_count": 13,
   "metadata": {},
   "outputs": [
    {
     "data": {
      "text/plain": [
       "'/home/wb536061/wbes2474/NLP/CORPUS/WB/wb_country_counts.csv'"
      ]
     },
     "execution_count": 13,
     "metadata": {},
     "output_type": "execute_result"
    }
   ],
   "source": [
    "country_metadata_fname"
   ]
  },
  {
   "cell_type": "markdown",
   "metadata": {},
   "source": [
    "# Dump data to database"
   ]
  },
  {
   "cell_type": "code",
   "execution_count": 66,
   "metadata": {},
   "outputs": [],
   "source": [
    "import pymongo\n",
    "import pandas as pd\n",
    "\n",
    "# Tunnel from wbes2474 to server07  -> ssh -NL 27018:localhost:27017 wbes2474\n",
    "client = pymongo.MongoClient(port=27017)  # host=wbes2474')"
   ]
  },
  {
   "cell_type": "code",
   "execution_count": 67,
   "metadata": {},
   "outputs": [],
   "source": [
    "import os"
   ]
  },
  {
   "cell_type": "code",
   "execution_count": 68,
   "metadata": {},
   "outputs": [],
   "source": [
    "db = client['nlp']\n",
    "collection = db['countries']"
   ]
  },
  {
   "cell_type": "code",
   "execution_count": 4,
   "metadata": {},
   "outputs": [],
   "source": [
    "%%time\n",
    "wb_corpus_countries = pd.read_csv('/home/wb536061/wbes2474/NLP/CORPUS/WB/wb_country_counts.csv', index_col=0)\n",
    "imf_corpus_countries = pd.read_csv('/home/wb536061/wbes2474/NLP/CORPUS/IMF/imf_country_counts.csv', index_col=0)"
   ]
  },
  {
   "cell_type": "code",
   "execution_count": 7,
   "metadata": {},
   "outputs": [
    {
     "name": "stdout",
     "output_type": "stream",
     "text": [
      "CPU times: user 1min 4s, sys: 4.23 s, total: 1min 8s\n",
      "Wall time: 1min 8s\n"
     ]
    }
   ],
   "source": [
    "%%time\n",
    "corpus_countries = []\n",
    "\n",
    "for corpus_id in ['IMF', 'WB']:\n",
    "    country_filepath = os.path.join(get_corpus_path(corpus_id), f'{corpus_id.lower()}_country_counts.csv')\n",
    "    cc = pd.read_csv(country_filepath, index_col=0)\n",
    "    \n",
    "    corpus_countries.extend(cc.fillna(0).astype(int).reset_index().rename(columns={'id': '_id'}).to_dict('records'))"
   ]
  },
  {
   "cell_type": "code",
   "execution_count": 69,
   "metadata": {},
   "outputs": [
    {
     "data": {
      "text/plain": [
       "263794"
      ]
     },
     "execution_count": 69,
     "metadata": {},
     "output_type": "execute_result"
    }
   ],
   "source": [
    "len(corpus_countries)"
   ]
  },
  {
   "cell_type": "code",
   "execution_count": 9,
   "metadata": {},
   "outputs": [
    {
     "name": "stdout",
     "output_type": "stream",
     "text": [
      "CPU times: user 2min 44s, sys: 17.5 s, total: 3min 1s\n",
      "Wall time: 17min 21s\n"
     ]
    }
   ],
   "source": [
    "%%time\n",
    "# https://stackoverflow.com/a/17533368\n",
    "now = pd.datetime.utcnow().isoformat()\n",
    "\n",
    "for document in corpus_countries:\n",
    "    collection.update_one(\n",
    "        {\"_id\": document[\"_id\"]},\n",
    "        {\n",
    "            \"$setOnInsert\": {\"insertion_date\": now},\n",
    "            \"$set\": dict(list(document.items()) + [('last_update_date', now)])\n",
    "        },\n",
    "        upsert=True,\n",
    "    )"
   ]
  },
  {
   "cell_type": "code",
   "execution_count": 36,
   "metadata": {},
   "outputs": [
    {
     "data": {
      "text/plain": [
       "263794"
      ]
     },
     "execution_count": 36,
     "metadata": {},
     "output_type": "execute_result"
    }
   ],
   "source": [
    "len(corpus_countries)"
   ]
  },
  {
   "cell_type": "code",
   "execution_count": 34,
   "metadata": {},
   "outputs": [
    {
     "name": "stdout",
     "output_type": "stream",
     "text": [
      "CPU times: user 1.25 s, sys: 206 ms, total: 1.46 s\n",
      "Wall time: 1.47 s\n"
     ]
    },
    {
     "data": {
      "text/html": [
       "<div>\n",
       "<style scoped>\n",
       "    .dataframe tbody tr th:only-of-type {\n",
       "        vertical-align: middle;\n",
       "    }\n",
       "\n",
       "    .dataframe tbody tr th {\n",
       "        vertical-align: top;\n",
       "    }\n",
       "\n",
       "    .dataframe thead th {\n",
       "        text-align: right;\n",
       "    }\n",
       "</style>\n",
       "<table border=\"1\" class=\"dataframe\">\n",
       "  <thead>\n",
       "    <tr style=\"text-align: right;\">\n",
       "      <th></th>\n",
       "      <th>_id</th>\n",
       "      <th>ABW</th>\n",
       "      <th>AFG</th>\n",
       "      <th>AGO</th>\n",
       "      <th>AIA</th>\n",
       "      <th>ALB</th>\n",
       "      <th>AND</th>\n",
       "      <th>ARE</th>\n",
       "      <th>ARG</th>\n",
       "      <th>ARM</th>\n",
       "      <th>...</th>\n",
       "      <th>WBG</th>\n",
       "      <th>WLF</th>\n",
       "      <th>WSM</th>\n",
       "      <th>XKX</th>\n",
       "      <th>YEM</th>\n",
       "      <th>YUG</th>\n",
       "      <th>ZAF</th>\n",
       "      <th>ZMB</th>\n",
       "      <th>ZWE</th>\n",
       "      <th>OCC_CTRY</th>\n",
       "    </tr>\n",
       "  </thead>\n",
       "  <tbody>\n",
       "    <tr>\n",
       "      <td>0</td>\n",
       "      <td>imf_006452310f310c9630ce02a1f17884300c079b9d</td>\n",
       "      <td>0</td>\n",
       "      <td>0</td>\n",
       "      <td>0</td>\n",
       "      <td>0</td>\n",
       "      <td>0</td>\n",
       "      <td>0</td>\n",
       "      <td>0</td>\n",
       "      <td>0</td>\n",
       "      <td>0</td>\n",
       "      <td>...</td>\n",
       "      <td>0</td>\n",
       "      <td>0</td>\n",
       "      <td>6</td>\n",
       "      <td>0</td>\n",
       "      <td>0</td>\n",
       "      <td>0</td>\n",
       "      <td>0</td>\n",
       "      <td>0</td>\n",
       "      <td>0</td>\n",
       "      <td>136</td>\n",
       "    </tr>\n",
       "    <tr>\n",
       "      <td>1</td>\n",
       "      <td>imf_000169111a90a98ac66bb6d07e4682d6be8b6ac3</td>\n",
       "      <td>0</td>\n",
       "      <td>0</td>\n",
       "      <td>0</td>\n",
       "      <td>0</td>\n",
       "      <td>0</td>\n",
       "      <td>0</td>\n",
       "      <td>0</td>\n",
       "      <td>1</td>\n",
       "      <td>0</td>\n",
       "      <td>...</td>\n",
       "      <td>0</td>\n",
       "      <td>0</td>\n",
       "      <td>0</td>\n",
       "      <td>0</td>\n",
       "      <td>0</td>\n",
       "      <td>0</td>\n",
       "      <td>2</td>\n",
       "      <td>0</td>\n",
       "      <td>0</td>\n",
       "      <td>270</td>\n",
       "    </tr>\n",
       "    <tr>\n",
       "      <td>2</td>\n",
       "      <td>imf_0065cb304805ed9acbfde8f6ef0596af2132c188</td>\n",
       "      <td>0</td>\n",
       "      <td>0</td>\n",
       "      <td>0</td>\n",
       "      <td>0</td>\n",
       "      <td>0</td>\n",
       "      <td>0</td>\n",
       "      <td>0</td>\n",
       "      <td>0</td>\n",
       "      <td>0</td>\n",
       "      <td>...</td>\n",
       "      <td>0</td>\n",
       "      <td>0</td>\n",
       "      <td>0</td>\n",
       "      <td>0</td>\n",
       "      <td>0</td>\n",
       "      <td>0</td>\n",
       "      <td>0</td>\n",
       "      <td>0</td>\n",
       "      <td>0</td>\n",
       "      <td>67</td>\n",
       "    </tr>\n",
       "    <tr>\n",
       "      <td>3</td>\n",
       "      <td>imf_0004fdded18df40f3680c5a2f343f773d8f18d6f</td>\n",
       "      <td>0</td>\n",
       "      <td>0</td>\n",
       "      <td>1</td>\n",
       "      <td>0</td>\n",
       "      <td>0</td>\n",
       "      <td>0</td>\n",
       "      <td>0</td>\n",
       "      <td>0</td>\n",
       "      <td>0</td>\n",
       "      <td>...</td>\n",
       "      <td>0</td>\n",
       "      <td>0</td>\n",
       "      <td>0</td>\n",
       "      <td>0</td>\n",
       "      <td>0</td>\n",
       "      <td>0</td>\n",
       "      <td>1</td>\n",
       "      <td>0</td>\n",
       "      <td>0</td>\n",
       "      <td>105</td>\n",
       "    </tr>\n",
       "    <tr>\n",
       "      <td>4</td>\n",
       "      <td>imf_00679871c9baeb1d4828a0978942fa567f9d27ae</td>\n",
       "      <td>0</td>\n",
       "      <td>0</td>\n",
       "      <td>0</td>\n",
       "      <td>0</td>\n",
       "      <td>0</td>\n",
       "      <td>0</td>\n",
       "      <td>0</td>\n",
       "      <td>0</td>\n",
       "      <td>0</td>\n",
       "      <td>...</td>\n",
       "      <td>0</td>\n",
       "      <td>0</td>\n",
       "      <td>0</td>\n",
       "      <td>0</td>\n",
       "      <td>0</td>\n",
       "      <td>0</td>\n",
       "      <td>0</td>\n",
       "      <td>0</td>\n",
       "      <td>0</td>\n",
       "      <td>33</td>\n",
       "    </tr>\n",
       "    <tr>\n",
       "      <td>...</td>\n",
       "      <td>...</td>\n",
       "      <td>...</td>\n",
       "      <td>...</td>\n",
       "      <td>...</td>\n",
       "      <td>...</td>\n",
       "      <td>...</td>\n",
       "      <td>...</td>\n",
       "      <td>...</td>\n",
       "      <td>...</td>\n",
       "      <td>...</td>\n",
       "      <td>...</td>\n",
       "      <td>...</td>\n",
       "      <td>...</td>\n",
       "      <td>...</td>\n",
       "      <td>...</td>\n",
       "      <td>...</td>\n",
       "      <td>...</td>\n",
       "      <td>...</td>\n",
       "      <td>...</td>\n",
       "      <td>...</td>\n",
       "      <td>...</td>\n",
       "    </tr>\n",
       "    <tr>\n",
       "      <td>9995</td>\n",
       "      <td>imf_b53760fc9a900e7fd617efc4fdf924eb8b25c1d2</td>\n",
       "      <td>0</td>\n",
       "      <td>0</td>\n",
       "      <td>0</td>\n",
       "      <td>0</td>\n",
       "      <td>0</td>\n",
       "      <td>0</td>\n",
       "      <td>0</td>\n",
       "      <td>0</td>\n",
       "      <td>0</td>\n",
       "      <td>...</td>\n",
       "      <td>0</td>\n",
       "      <td>0</td>\n",
       "      <td>2</td>\n",
       "      <td>0</td>\n",
       "      <td>0</td>\n",
       "      <td>0</td>\n",
       "      <td>0</td>\n",
       "      <td>0</td>\n",
       "      <td>0</td>\n",
       "      <td>112</td>\n",
       "    </tr>\n",
       "    <tr>\n",
       "      <td>9996</td>\n",
       "      <td>imf_b538bbbf0c80523abc92ba0f85c6c0fd4d74ee76</td>\n",
       "      <td>0</td>\n",
       "      <td>0</td>\n",
       "      <td>0</td>\n",
       "      <td>0</td>\n",
       "      <td>0</td>\n",
       "      <td>0</td>\n",
       "      <td>0</td>\n",
       "      <td>2</td>\n",
       "      <td>0</td>\n",
       "      <td>...</td>\n",
       "      <td>0</td>\n",
       "      <td>0</td>\n",
       "      <td>0</td>\n",
       "      <td>0</td>\n",
       "      <td>0</td>\n",
       "      <td>0</td>\n",
       "      <td>3</td>\n",
       "      <td>0</td>\n",
       "      <td>0</td>\n",
       "      <td>425</td>\n",
       "    </tr>\n",
       "    <tr>\n",
       "      <td>9997</td>\n",
       "      <td>imf_b53a1fe3e821c5bdf8ee0be8a45797298badb7f4</td>\n",
       "      <td>0</td>\n",
       "      <td>0</td>\n",
       "      <td>0</td>\n",
       "      <td>0</td>\n",
       "      <td>0</td>\n",
       "      <td>0</td>\n",
       "      <td>0</td>\n",
       "      <td>0</td>\n",
       "      <td>0</td>\n",
       "      <td>...</td>\n",
       "      <td>0</td>\n",
       "      <td>0</td>\n",
       "      <td>0</td>\n",
       "      <td>0</td>\n",
       "      <td>0</td>\n",
       "      <td>0</td>\n",
       "      <td>0</td>\n",
       "      <td>0</td>\n",
       "      <td>0</td>\n",
       "      <td>20</td>\n",
       "    </tr>\n",
       "    <tr>\n",
       "      <td>9998</td>\n",
       "      <td>imf_b53a61bd3cb7750a30e11632fbf230053699f07b</td>\n",
       "      <td>0</td>\n",
       "      <td>0</td>\n",
       "      <td>0</td>\n",
       "      <td>0</td>\n",
       "      <td>0</td>\n",
       "      <td>0</td>\n",
       "      <td>0</td>\n",
       "      <td>0</td>\n",
       "      <td>0</td>\n",
       "      <td>...</td>\n",
       "      <td>0</td>\n",
       "      <td>0</td>\n",
       "      <td>0</td>\n",
       "      <td>0</td>\n",
       "      <td>0</td>\n",
       "      <td>0</td>\n",
       "      <td>0</td>\n",
       "      <td>0</td>\n",
       "      <td>0</td>\n",
       "      <td>96</td>\n",
       "    </tr>\n",
       "    <tr>\n",
       "      <td>9999</td>\n",
       "      <td>imf_b53c73cd903a63871ec743da6df0857449b86943</td>\n",
       "      <td>0</td>\n",
       "      <td>0</td>\n",
       "      <td>0</td>\n",
       "      <td>0</td>\n",
       "      <td>0</td>\n",
       "      <td>0</td>\n",
       "      <td>0</td>\n",
       "      <td>0</td>\n",
       "      <td>0</td>\n",
       "      <td>...</td>\n",
       "      <td>0</td>\n",
       "      <td>0</td>\n",
       "      <td>0</td>\n",
       "      <td>0</td>\n",
       "      <td>0</td>\n",
       "      <td>0</td>\n",
       "      <td>1</td>\n",
       "      <td>1</td>\n",
       "      <td>0</td>\n",
       "      <td>39</td>\n",
       "    </tr>\n",
       "  </tbody>\n",
       "</table>\n",
       "<p>10000 rows × 243 columns</p>\n",
       "</div>"
      ],
      "text/plain": [
       "                                               _id  ABW  AFG  AGO  AIA  ALB  \\\n",
       "0     imf_006452310f310c9630ce02a1f17884300c079b9d    0    0    0    0    0   \n",
       "1     imf_000169111a90a98ac66bb6d07e4682d6be8b6ac3    0    0    0    0    0   \n",
       "2     imf_0065cb304805ed9acbfde8f6ef0596af2132c188    0    0    0    0    0   \n",
       "3     imf_0004fdded18df40f3680c5a2f343f773d8f18d6f    0    0    1    0    0   \n",
       "4     imf_00679871c9baeb1d4828a0978942fa567f9d27ae    0    0    0    0    0   \n",
       "...                                            ...  ...  ...  ...  ...  ...   \n",
       "9995  imf_b53760fc9a900e7fd617efc4fdf924eb8b25c1d2    0    0    0    0    0   \n",
       "9996  imf_b538bbbf0c80523abc92ba0f85c6c0fd4d74ee76    0    0    0    0    0   \n",
       "9997  imf_b53a1fe3e821c5bdf8ee0be8a45797298badb7f4    0    0    0    0    0   \n",
       "9998  imf_b53a61bd3cb7750a30e11632fbf230053699f07b    0    0    0    0    0   \n",
       "9999  imf_b53c73cd903a63871ec743da6df0857449b86943    0    0    0    0    0   \n",
       "\n",
       "      AND  ARE  ARG  ARM  ...  WBG  WLF  WSM  XKX  YEM  YUG  ZAF  ZMB  ZWE  \\\n",
       "0       0    0    0    0  ...    0    0    6    0    0    0    0    0    0   \n",
       "1       0    0    1    0  ...    0    0    0    0    0    0    2    0    0   \n",
       "2       0    0    0    0  ...    0    0    0    0    0    0    0    0    0   \n",
       "3       0    0    0    0  ...    0    0    0    0    0    0    1    0    0   \n",
       "4       0    0    0    0  ...    0    0    0    0    0    0    0    0    0   \n",
       "...   ...  ...  ...  ...  ...  ...  ...  ...  ...  ...  ...  ...  ...  ...   \n",
       "9995    0    0    0    0  ...    0    0    2    0    0    0    0    0    0   \n",
       "9996    0    0    2    0  ...    0    0    0    0    0    0    3    0    0   \n",
       "9997    0    0    0    0  ...    0    0    0    0    0    0    0    0    0   \n",
       "9998    0    0    0    0  ...    0    0    0    0    0    0    0    0    0   \n",
       "9999    0    0    0    0  ...    0    0    0    0    0    0    1    1    0   \n",
       "\n",
       "      OCC_CTRY  \n",
       "0          136  \n",
       "1          270  \n",
       "2           67  \n",
       "3          105  \n",
       "4           33  \n",
       "...        ...  \n",
       "9995       112  \n",
       "9996       425  \n",
       "9997        20  \n",
       "9998        96  \n",
       "9999        39  \n",
       "\n",
       "[10000 rows x 243 columns]"
      ]
     },
     "execution_count": 34,
     "metadata": {},
     "output_type": "execute_result"
    }
   ],
   "source": [
    "%%time\n",
    "v = pd.DataFrame(corpus_countries[0:10000])\n",
    "# v[v == 0] = None\n",
    "\n",
    "v = v.dropna()\n",
    "v\n",
    "# .reset_index().to_dict('records')"
   ]
  },
  {
   "cell_type": "code",
   "execution_count": 12,
   "metadata": {},
   "outputs": [
    {
     "data": {
      "text/plain": [
       "263794"
      ]
     },
     "execution_count": 12,
     "metadata": {},
     "output_type": "execute_result"
    }
   ],
   "source": [
    "collection.count_documents({})"
   ]
  },
  {
   "cell_type": "code",
   "execution_count": 70,
   "metadata": {},
   "outputs": [],
   "source": [
    "meta_collection = db['metadata']"
   ]
  },
  {
   "cell_type": "code",
   "execution_count": 71,
   "metadata": {},
   "outputs": [
    {
     "data": {
      "text/plain": [
       "236174"
      ]
     },
     "execution_count": 71,
     "metadata": {},
     "output_type": "execute_result"
    }
   ],
   "source": [
    "meta_collection.count_documents({})"
   ]
  },
  {
   "cell_type": "code",
   "execution_count": 72,
   "metadata": {},
   "outputs": [],
   "source": [
    "ids = [i['_id'] for i in corpus_countries]"
   ]
  },
  {
   "cell_type": "code",
   "execution_count": 73,
   "metadata": {},
   "outputs": [
    {
     "name": "stdout",
     "output_type": "stream",
     "text": [
      "CPU times: user 67 µs, sys: 0 ns, total: 67 µs\n",
      "Wall time: 74.9 µs\n"
     ]
    }
   ],
   "source": [
    "%%time\n",
    "res = meta_collection.find({'_id': {'$in': ids}}, projection=['_id', 'year'])"
   ]
  },
  {
   "cell_type": "code",
   "execution_count": 74,
   "metadata": {},
   "outputs": [
    {
     "name": "stdout",
     "output_type": "stream",
     "text": [
      "CPU times: user 836 ms, sys: 69.4 ms, total: 906 ms\n",
      "Wall time: 3.56 s\n"
     ]
    },
    {
     "data": {
      "text/plain": [
       "(236156, 2)"
      ]
     },
     "execution_count": 74,
     "metadata": {},
     "output_type": "execute_result"
    }
   ],
   "source": [
    "%%time\n",
    "year_df = pd.DataFrame(list(res))\n",
    "common_ids = set(year_df['_id'])\n",
    "year_df.shape"
   ]
  },
  {
   "cell_type": "code",
   "execution_count": 75,
   "metadata": {},
   "outputs": [
    {
     "data": {
      "text/html": [
       "<div>\n",
       "<style scoped>\n",
       "    .dataframe tbody tr th:only-of-type {\n",
       "        vertical-align: middle;\n",
       "    }\n",
       "\n",
       "    .dataframe tbody tr th {\n",
       "        vertical-align: top;\n",
       "    }\n",
       "\n",
       "    .dataframe thead th {\n",
       "        text-align: right;\n",
       "    }\n",
       "</style>\n",
       "<table border=\"1\" class=\"dataframe\">\n",
       "  <thead>\n",
       "    <tr style=\"text-align: right;\">\n",
       "      <th></th>\n",
       "      <th>_id</th>\n",
       "      <th>year</th>\n",
       "    </tr>\n",
       "  </thead>\n",
       "  <tbody>\n",
       "    <tr>\n",
       "      <td>0</td>\n",
       "      <td>imf_000169111a90a98ac66bb6d07e4682d6be8b6ac3</td>\n",
       "      <td>2012</td>\n",
       "    </tr>\n",
       "    <tr>\n",
       "      <td>1</td>\n",
       "      <td>imf_0004fdded18df40f3680c5a2f343f773d8f18d6f</td>\n",
       "      <td>2000</td>\n",
       "    </tr>\n",
       "    <tr>\n",
       "      <td>2</td>\n",
       "      <td>imf_0005ab3ce73fd116db64b77bb58fb05377daae61</td>\n",
       "      <td>2009</td>\n",
       "    </tr>\n",
       "    <tr>\n",
       "      <td>3</td>\n",
       "      <td>imf_000866bc21c58285ec2521640173b4c512337f48</td>\n",
       "      <td>1998</td>\n",
       "    </tr>\n",
       "    <tr>\n",
       "      <td>4</td>\n",
       "      <td>imf_000b9ff9931f38d47290baba821c3cdf096de9ce</td>\n",
       "      <td>2010</td>\n",
       "    </tr>\n",
       "  </tbody>\n",
       "</table>\n",
       "</div>"
      ],
      "text/plain": [
       "                                            _id  year\n",
       "0  imf_000169111a90a98ac66bb6d07e4682d6be8b6ac3  2012\n",
       "1  imf_0004fdded18df40f3680c5a2f343f773d8f18d6f  2000\n",
       "2  imf_0005ab3ce73fd116db64b77bb58fb05377daae61  2009\n",
       "3  imf_000866bc21c58285ec2521640173b4c512337f48  1998\n",
       "4  imf_000b9ff9931f38d47290baba821c3cdf096de9ce  2010"
      ]
     },
     "execution_count": 75,
     "metadata": {},
     "output_type": "execute_result"
    }
   ],
   "source": [
    "year_df.head()"
   ]
  },
  {
   "cell_type": "code",
   "execution_count": 35,
   "metadata": {},
   "outputs": [
    {
     "name": "stdout",
     "output_type": "stream",
     "text": [
      "CPU times: user 25.7 s, sys: 3.58 s, total: 29.3 s\n",
      "Wall time: 29.4 s\n"
     ]
    }
   ],
   "source": [
    "%%time\n",
    "corpus_countries_df = pd.DataFrame(corpus_countries)"
   ]
  },
  {
   "cell_type": "code",
   "execution_count": 37,
   "metadata": {},
   "outputs": [],
   "source": [
    "corpus_countries_df = corpus_countries_df.set_index('_id').drop('OCC_CTRY', axis=1)"
   ]
  },
  {
   "cell_type": "code",
   "execution_count": 79,
   "metadata": {},
   "outputs": [
    {
     "name": "stdout",
     "output_type": "stream",
     "text": [
      "CPU times: user 7min 8s, sys: 21.6 s, total: 7min 29s\n",
      "Wall time: 14min 2s\n"
     ]
    }
   ],
   "source": [
    "%%time\n",
    "# https://stackoverflow.com/a/17533368\n",
    "# now = pd.datetime.utcnow().isoformat()\n",
    "excluded_ids = []\n",
    "\n",
    "for _id, countries in corpus_countries_df.iterrows():\n",
    "    if _id not in common_ids:\n",
    "        excluded_ids.append(_id)\n",
    "        # print(f'{_id} not in metadata...')\n",
    "        \n",
    "    countries = countries[countries > 0].astype(int).to_dict()\n",
    "    meta_collection.update_one(\n",
    "        {\"_id\": _id},\n",
    "        {\n",
    "            \"$setOnInsert\": {\"insertion_date\": now},\n",
    "            \"$set\": {'last_update_date': now, 'countries': countries}\n",
    "        },\n",
    "        upsert=True,\n",
    "    )"
   ]
  },
  {
   "cell_type": "code",
   "execution_count": 57,
   "metadata": {},
   "outputs": [
    {
     "data": {
      "text/plain": [
       "{}"
      ]
     },
     "execution_count": 57,
     "metadata": {},
     "output_type": "execute_result"
    }
   ],
   "source": [
    "row[row > 100].to_dict()"
   ]
  },
  {
   "cell_type": "code",
   "execution_count": 53,
   "metadata": {},
   "outputs": [],
   "source": [
    "corpus_countries_df.fillna(0, inplace=True)"
   ]
  },
  {
   "cell_type": "code",
   "execution_count": 116,
   "metadata": {},
   "outputs": [
    {
     "name": "stdout",
     "output_type": "stream",
     "text": [
      "CPU times: user 298 ms, sys: 194 ms, total: 492 ms\n",
      "Wall time: 491 ms\n"
     ]
    }
   ],
   "source": [
    "%%time\n",
    "joined_df = corpus_countries_df.merge(year_df, how='inner', on='_id')  # .drop('OCC_CTRY', axis=1)"
   ]
  },
  {
   "cell_type": "code",
   "execution_count": 118,
   "metadata": {},
   "outputs": [
    {
     "name": "stdout",
     "output_type": "stream",
     "text": [
      "1946.0\n",
      "1947.0\n",
      "1948.0\n",
      "1949.0\n",
      "1950.0\n",
      "1951.0\n",
      "1952.0\n",
      "1953.0\n",
      "1954.0\n",
      "1955.0\n",
      "1956.0\n",
      "1957.0\n",
      "1958.0\n",
      "1959.0\n",
      "1960.0\n",
      "1961.0\n",
      "1962.0\n",
      "1963.0\n",
      "1964.0\n",
      "1965.0\n",
      "1966.0\n",
      "1967.0\n",
      "1968.0\n",
      "1969.0\n",
      "1970.0\n",
      "1971.0\n",
      "1972.0\n",
      "1973.0\n",
      "1974.0\n",
      "1975.0\n",
      "1976.0\n",
      "1977.0\n",
      "1978.0\n",
      "1979.0\n",
      "1980.0\n",
      "1981.0\n",
      "1982.0\n",
      "1983.0\n",
      "1984.0\n",
      "1985.0\n",
      "1986.0\n",
      "1987\n",
      "1988.0\n",
      "1989.0\n",
      "1990\n",
      "1991\n",
      "1992.0\n",
      "1993\n",
      "1994\n",
      "1995\n",
      "1996\n",
      "1997\n",
      "1998\n",
      "1999\n",
      "2000\n",
      "2001\n",
      "2002\n",
      "2003\n",
      "2004\n",
      "2005\n",
      "2006\n",
      "2007\n",
      "2008\n",
      "2009\n",
      "2010\n",
      "2011\n",
      "2012\n",
      "2013\n",
      "2014\n",
      "2015\n",
      "2016\n",
      "2017\n",
      "2018\n",
      "2019.0\n",
      "CPU times: user 1min 1s, sys: 1.82 s, total: 1min 3s\n",
      "Wall time: 1min 3s\n"
     ]
    }
   ],
   "source": [
    "%%time\n",
    "\n",
    "panels = []\n",
    "for year, group in joined_df.set_index('_id').groupby('year'):\n",
    "    try:\n",
    "        # laziness\n",
    "        int(year)\n",
    "    except:\n",
    "        continue\n",
    "    print(year)\n",
    "    panel = (group.drop('year', axis=1).T / group.drop('year', axis=1).sum(axis=1)).sum(axis=1).reset_index().rename(columns={'index': 'iso_alpha', 0: 'popularity'})\n",
    "    panel['year'] = int(year)\n",
    "    panels.append(panel)\n",
    "    \n",
    "    \n",
    "pp = pd.concat(panels, axis=0)\n",
    "pp.reset_index(drop='index').to_csv('../APP/frontend/country_popularity.csv', index=False)"
   ]
  },
  {
   "cell_type": "code",
   "execution_count": 82,
   "metadata": {},
   "outputs": [],
   "source": [
    "import pandas as pd \n",
    "import xml.etree.ElementTree as et "
   ]
  },
  {
   "cell_type": "code",
   "execution_count": 80,
   "metadata": {},
   "outputs": [],
   "source": [
    "with open('/usr/share/xml/iso-codes/iso_3166.xml') as fl:\n",
    "    iso_3166 = fl.read()"
   ]
  },
  {
   "cell_type": "code",
   "execution_count": 90,
   "metadata": {},
   "outputs": [],
   "source": [
    "xtree = et.parse(\"/usr/share/xml/iso-codes/iso_3166.xml\")\n",
    "xroot = xtree.getroot() "
   ]
  },
  {
   "cell_type": "code",
   "execution_count": 91,
   "metadata": {},
   "outputs": [],
   "source": [
    "df_cols = [\"name\", \"iso3\", \"iso2\"]\n",
    "rows = []\n",
    "\n",
    "for node in xroot: \n",
    "    s_name = node.attrib.get(\"name\")\n",
    "    alpha_3_code = node.attrib.get(\"alpha_3_code\") if node is not None else None\n",
    "    alpha_2_code = node.attrib.get(\"alpha_2_code\") if node is not None else None\n",
    "    \n",
    "    rows.append({\"name\": s_name, \"iso3\": alpha_3_code, \n",
    "                 \"iso2\": alpha_2_code})\n",
    "\n",
    "out_df = pd.DataFrame(rows, columns = df_cols)"
   ]
  },
  {
   "cell_type": "code",
   "execution_count": 101,
   "metadata": {},
   "outputs": [],
   "source": [
    "countries_map = pd.read_csv('./whitelists/whitelist_countries_multilingual.csv', header=None)"
   ]
  },
  {
   "cell_type": "code",
   "execution_count": 111,
   "metadata": {},
   "outputs": [],
   "source": [
    "pd.Series(countries_map[[0, 1]].rename(columns={0: 'iso3', 1: 'name'}).set_index('iso3').to_dict()['name']).to_json('./whitelists/country_iso3_map.json')"
   ]
  },
  {
   "cell_type": "code",
   "execution_count": null,
   "metadata": {},
   "outputs": [],
   "source": []
  }
 ],
 "metadata": {
  "kernelspec": {
   "display_name": "Python 3",
   "language": "python",
   "name": "python3"
  },
  "language_info": {
   "codemirror_mode": {
    "name": "ipython",
    "version": 3
   },
   "file_extension": ".py",
   "mimetype": "text/x-python",
   "name": "python",
   "nbconvert_exporter": "python",
   "pygments_lexer": "ipython3",
   "version": "3.8.3-final"
  }
 },
 "nbformat": 4,
 "nbformat_minor": 4
}