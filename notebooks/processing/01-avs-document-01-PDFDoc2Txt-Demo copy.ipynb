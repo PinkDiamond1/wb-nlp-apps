{
 "cells": [
  {
   "cell_type": "code",
   "execution_count": 1,
   "metadata": {},
   "outputs": [],
   "source": [
    "import os\n",
    "import re\n",
    "import sys\n",
    "import glob\n",
    "import math\n",
    "import logging\n",
    "from pathlib import Path\n",
    "from pprint import pprint\n",
    "\n",
    "import numpy as np\n",
    "import scipy as sp\n",
    "import sklearn\n",
    "\n",
    "import spacy\n",
    "import tika\n",
    "from tika import parser\n",
    "\n",
    "%load_ext autoreload\n",
    "%autoreload 2\n",
    "\n",
    "import matplotlib as mpl\n",
    "import matplotlib.pyplot as plt\n",
    "%matplotlib inline\n",
    "%config InlineBackend.figure_format = 'retina'\n",
    "\n",
    "import seaborn as sns\n",
    "sns.set_context(\"poster\")\n",
    "sns.set(rc={'figure.figsize': (16, 9.)})\n",
    "sns.set_style(\"whitegrid\")\n",
    "\n",
    "import pandas as pd\n",
    "pd.set_option(\"display.max_rows\", 120)\n",
    "pd.set_option(\"display.max_columns\", 120)\n",
    "\n",
    "logging.basicConfig(level=logging.INFO, stream=sys.stdout)"
   ]
  },
  {
   "cell_type": "code",
   "execution_count": 2,
   "metadata": {},
   "outputs": [],
   "source": [
    "from wb_nlp.processing import document"
   ]
  },
  {
   "cell_type": "code",
   "execution_count": 3,
   "metadata": {},
   "outputs": [],
   "source": [
    "## Hints\n",
    "\n",
    "# nlp = spacy.load('en_core_web_sm')"
   ]
  },
  {
   "cell_type": "markdown",
   "metadata": {},
   "source": [
    "This notebook contains examples of how the `PDFDoc2Txt` class can be used to convert pdf documents into formatted text. Additional methods implemented in this class can also be applied to raw texts extracted from PDFs.\n",
    "\n",
    "We start by creating an instance of the `PDFDoc2Txt`—`pdf_parser`."
   ]
  },
  {
   "cell_type": "code",
   "execution_count": 4,
   "metadata": {},
   "outputs": [],
   "source": [
    "pdf_parser = document.PDFDoc2Txt()"
   ]
  },
  {
   "cell_type": "markdown",
   "metadata": {},
   "source": [
    "# Parsing a pdf file\n",
    "\n",
    "Parsing a pdf file starts with the `parse` method. This method accepts a buffer of byte object or a string to a url or file path. The source type must be specified for the parser to correctly execute the processing.\n",
    "\n",
    "Below is the implementation of the `parse` method. Tika is the main driver of the parser. We use the `xmlContent` flag to specify that we want to get an xml formatted output. The xml output contains relevant structure that we can leverage to generate an informed reconstruction of the document."
   ]
  },
  {
   "cell_type": "code",
   "execution_count": 5,
   "metadata": {},
   "outputs": [
    {
     "output_type": "stream",
     "text": "\u001b[0;31mSignature:\u001b[0m \u001b[0mpdf_parser\u001b[0m\u001b[0;34m.\u001b[0m\u001b[0mparse\u001b[0m\u001b[0;34m(\u001b[0m\u001b[0msource\u001b[0m\u001b[0;34m:\u001b[0m \u001b[0mUnion\u001b[0m\u001b[0;34m[\u001b[0m\u001b[0mbytes\u001b[0m\u001b[0;34m,\u001b[0m \u001b[0mstr\u001b[0m\u001b[0;34m]\u001b[0m\u001b[0;34m,\u001b[0m \u001b[0msource_type\u001b[0m\u001b[0;34m:\u001b[0m \u001b[0mstr\u001b[0m \u001b[0;34m=\u001b[0m \u001b[0;34m'buffer'\u001b[0m\u001b[0;34m)\u001b[0m \u001b[0;34m->\u001b[0m \u001b[0mstr\u001b[0m\u001b[0;34m\u001b[0m\u001b[0;34m\u001b[0m\u001b[0m\n\u001b[0;31mSource:\u001b[0m   \n    \u001b[0;32mdef\u001b[0m \u001b[0mparse\u001b[0m\u001b[0;34m(\u001b[0m\u001b[0mself\u001b[0m\u001b[0;34m,\u001b[0m \u001b[0msource\u001b[0m\u001b[0;34m:\u001b[0m \u001b[0mUnion\u001b[0m\u001b[0;34m[\u001b[0m\u001b[0mbytes\u001b[0m\u001b[0;34m,\u001b[0m \u001b[0mstr\u001b[0m\u001b[0;34m]\u001b[0m\u001b[0;34m,\u001b[0m \u001b[0msource_type\u001b[0m\u001b[0;34m:\u001b[0m \u001b[0mstr\u001b[0m\u001b[0;34m=\u001b[0m\u001b[0;34m'buffer'\u001b[0m\u001b[0;34m)\u001b[0m \u001b[0;34m->\u001b[0m \u001b[0mstr\u001b[0m\u001b[0;34m:\u001b[0m\u001b[0;34m\u001b[0m\n\u001b[0;34m\u001b[0m        \u001b[0;34m\"\"\"Parse a PDF document to text from different source types.\u001b[0m\n\u001b[0;34m\u001b[0m\n\u001b[0;34m        Args:\u001b[0m\n\u001b[0;34m            source:\u001b[0m\n\u001b[0;34m                Source of the PDF that needs to be converted.\u001b[0m\n\u001b[0;34m                The source could be a url, a path, or a buffer/file-like object\u001b[0m\n\u001b[0;34m                to the PDF file.\u001b[0m\n\u001b[0;34m            source_type:\u001b[0m\n\u001b[0;34m                Specification of which source type is being provided in `source`.\u001b[0m\n\u001b[0;34m\u001b[0m\n\u001b[0;34m        Returns:\u001b[0m\n\u001b[0;34m            A string containing the parsed pdf file.\u001b[0m\n\u001b[0;34m\u001b[0m\n\u001b[0;34m        \"\"\"\u001b[0m\u001b[0;34m\u001b[0m\n\u001b[0;34m\u001b[0m        \u001b[0;32mif\u001b[0m \u001b[0msource_type\u001b[0m \u001b[0;34m==\u001b[0m \u001b[0;34m'url'\u001b[0m\u001b[0;34m:\u001b[0m\u001b[0;34m\u001b[0m\n\u001b[0;34m\u001b[0m            \u001b[0mbuf\u001b[0m \u001b[0;34m=\u001b[0m \u001b[0mrequests\u001b[0m\u001b[0;34m.\u001b[0m\u001b[0mget\u001b[0m\u001b[0;34m(\u001b[0m\u001b[0msource\u001b[0m\u001b[0;34m)\u001b[0m\u001b[0;34m\u001b[0m\n\u001b[0;34m\u001b[0m            \u001b[0mpdf_text\u001b[0m \u001b[0;34m=\u001b[0m \u001b[0mparser\u001b[0m\u001b[0;34m.\u001b[0m\u001b[0mfrom_buffer\u001b[0m\u001b[0;34m(\u001b[0m\u001b[0mbuf\u001b[0m\u001b[0;34m.\u001b[0m\u001b[0mcontent\u001b[0m\u001b[0;34m,\u001b[0m \u001b[0mxmlContent\u001b[0m\u001b[0;34m=\u001b[0m\u001b[0;32mTrue\u001b[0m\u001b[0;34m)\u001b[0m\u001b[0;34m\u001b[0m\n\u001b[0;34m\u001b[0m\u001b[0;34m\u001b[0m\n\u001b[0;34m\u001b[0m        \u001b[0;32melif\u001b[0m \u001b[0msource_type\u001b[0m \u001b[0;34m==\u001b[0m \u001b[0;34m'file'\u001b[0m\u001b[0;34m:\u001b[0m\u001b[0;34m\u001b[0m\n\u001b[0;34m\u001b[0m            \u001b[0mpdf_text\u001b[0m \u001b[0;34m=\u001b[0m \u001b[0mparser\u001b[0m\u001b[0;34m.\u001b[0m\u001b[0mfrom_file\u001b[0m\u001b[0;34m(\u001b[0m\u001b[0msource\u001b[0m\u001b[0;34m,\u001b[0m \u001b[0mxmlContent\u001b[0m\u001b[0;34m=\u001b[0m\u001b[0;32mTrue\u001b[0m\u001b[0;34m)\u001b[0m\u001b[0;34m\u001b[0m\n\u001b[0;34m\u001b[0m\u001b[0;34m\u001b[0m\n\u001b[0;34m\u001b[0m        \u001b[0;32melif\u001b[0m \u001b[0msource_type\u001b[0m \u001b[0;34m==\u001b[0m \u001b[0;34m'buffer'\u001b[0m\u001b[0;34m:\u001b[0m\u001b[0;34m\u001b[0m\n\u001b[0;34m\u001b[0m            \u001b[0mpdf_text\u001b[0m \u001b[0;34m=\u001b[0m \u001b[0mparser\u001b[0m\u001b[0;34m.\u001b[0m\u001b[0mfrom_buffer\u001b[0m\u001b[0;34m(\u001b[0m\u001b[0msource\u001b[0m\u001b[0;34m,\u001b[0m \u001b[0mxmlContent\u001b[0m\u001b[0;34m=\u001b[0m\u001b[0;32mTrue\u001b[0m\u001b[0;34m)\u001b[0m\u001b[0;34m\u001b[0m\n\u001b[0;34m\u001b[0m\u001b[0;34m\u001b[0m\n\u001b[0;34m\u001b[0m        \u001b[0;32melse\u001b[0m\u001b[0;34m:\u001b[0m\u001b[0;34m\u001b[0m\n\u001b[0;34m\u001b[0m            \u001b[0;32mraise\u001b[0m \u001b[0mValueError\u001b[0m\u001b[0;34m(\u001b[0m\u001b[0;34mf'Unknown source_type: `{source_type}`'\u001b[0m\u001b[0;34m)\u001b[0m\u001b[0;34m\u001b[0m\n\u001b[0;34m\u001b[0m\u001b[0;34m\u001b[0m\n\u001b[0;34m\u001b[0m        \u001b[0msoup\u001b[0m \u001b[0;34m=\u001b[0m \u001b[0mBeautifulSoup\u001b[0m\u001b[0;34m(\u001b[0m\u001b[0mpdf_text\u001b[0m\u001b[0;34m[\u001b[0m\u001b[0;34m'content'\u001b[0m\u001b[0;34m]\u001b[0m\u001b[0;34m,\u001b[0m \u001b[0mfeatures\u001b[0m\u001b[0;34m=\u001b[0m\u001b[0;34m\"html.parser\"\u001b[0m\u001b[0;34m)\u001b[0m\u001b[0;34m\u001b[0m\n\u001b[0;34m\u001b[0m        \u001b[0mpages\u001b[0m \u001b[0;34m=\u001b[0m \u001b[0msoup\u001b[0m\u001b[0;34m.\u001b[0m\u001b[0mfind_all\u001b[0m\u001b[0;34m(\u001b[0m\u001b[0;34m'div'\u001b[0m\u001b[0;34m,\u001b[0m \u001b[0;34m{\u001b[0m\u001b[0;34m'class'\u001b[0m\u001b[0;34m:\u001b[0m\u001b[0;34m'page'\u001b[0m\u001b[0;34m}\u001b[0m\u001b[0;34m)\u001b[0m\u001b[0;34m\u001b[0m\n\u001b[0;34m\u001b[0m\u001b[0;34m\u001b[0m\n\u001b[0;34m\u001b[0m        \u001b[0mtext_pages\u001b[0m \u001b[0;34m=\u001b[0m \u001b[0;34m[\u001b[0m\u001b[0;34m]\u001b[0m\u001b[0;34m\u001b[0m\n\u001b[0;34m\u001b[0m        \u001b[0;32mfor\u001b[0m \u001b[0mpage\u001b[0m \u001b[0;32min\u001b[0m \u001b[0mpages\u001b[0m\u001b[0;34m:\u001b[0m\u001b[0;34m\u001b[0m\n\u001b[0;34m\u001b[0m            \u001b[0mtext_pages\u001b[0m\u001b[0;34m.\u001b[0m\u001b[0mappend\u001b[0m\u001b[0;34m(\u001b[0m\u001b[0mPDFDoc2Txt\u001b[0m\u001b[0;34m.\u001b[0m\u001b[0mprocess_page\u001b[0m\u001b[0;34m(\u001b[0m\u001b[0mpage\u001b[0m\u001b[0;34m)\u001b[0m\u001b[0;34m)\u001b[0m\u001b[0;34m\u001b[0m\n\u001b[0;34m\u001b[0m\u001b[0;34m\u001b[0m\n\u001b[0;34m\u001b[0m        \u001b[0;32mreturn\u001b[0m \u001b[0mtext_pages\u001b[0m\u001b[0;34m\u001b[0m\u001b[0;34m\u001b[0m\u001b[0m\n\u001b[0;31mFile:\u001b[0m      ~/WBG/wb_nlp/src/wb_nlp/processing/document.py\n\u001b[0;31mType:\u001b[0m      method\n"
    }
   ],
   "source": [
    "??pdf_parser.parse"
   ]
  },
  {
   "cell_type": "markdown",
   "metadata": {},
   "source": [
    "## Processing a single page\n",
    "\n",
    "The xml returned by Tika contains page information captured by div tags. We used this to process documents by page.\n",
    "\n",
    "The `process_page` method takes a tag element corresponding to the extracted page. Page level processing is then applied such as consolidation of paragraphs in the page and fixing footnote citations. We also perform concatenation of likely fragmented paragraphs."
   ]
  },
  {
   "cell_type": "code",
   "execution_count": 6,
   "metadata": {},
   "outputs": [
    {
     "output_type": "stream",
     "text": "\u001b[0;31mSignature:\u001b[0m \u001b[0mpdf_parser\u001b[0m\u001b[0;34m.\u001b[0m\u001b[0mprocess_page\u001b[0m\u001b[0;34m(\u001b[0m\u001b[0mpage\u001b[0m\u001b[0;34m:\u001b[0m \u001b[0mbs4\u001b[0m\u001b[0;34m.\u001b[0m\u001b[0melement\u001b[0m\u001b[0;34m.\u001b[0m\u001b[0mTag\u001b[0m\u001b[0;34m)\u001b[0m \u001b[0;34m->\u001b[0m \u001b[0mstr\u001b[0m\u001b[0;34m\u001b[0m\u001b[0;34m\u001b[0m\u001b[0m\n\u001b[0;31mDocstring:\u001b[0m <no docstring>\n\u001b[0;31mSource:\u001b[0m   \n    \u001b[0;34m@\u001b[0m\u001b[0mstaticmethod\u001b[0m\u001b[0;34m\u001b[0m\n\u001b[0;34m\u001b[0m    \u001b[0;32mdef\u001b[0m \u001b[0mprocess_page\u001b[0m\u001b[0;34m(\u001b[0m\u001b[0mpage\u001b[0m\u001b[0;34m:\u001b[0m \u001b[0mbs4\u001b[0m\u001b[0;34m.\u001b[0m\u001b[0melement\u001b[0m\u001b[0;34m.\u001b[0m\u001b[0mTag\u001b[0m\u001b[0;34m)\u001b[0m \u001b[0;34m->\u001b[0m \u001b[0mstr\u001b[0m\u001b[0;34m:\u001b[0m\u001b[0;34m\u001b[0m\n\u001b[0;34m\u001b[0m        \u001b[0mparagraphs\u001b[0m \u001b[0;34m=\u001b[0m \u001b[0;34m[\u001b[0m\u001b[0;34m]\u001b[0m\u001b[0;34m\u001b[0m\n\u001b[0;34m\u001b[0m\u001b[0;34m\u001b[0m\n\u001b[0;34m\u001b[0m        \u001b[0;32mfor\u001b[0m \u001b[0mp\u001b[0m \u001b[0;32min\u001b[0m \u001b[0mpage\u001b[0m\u001b[0;34m.\u001b[0m\u001b[0mfind_all\u001b[0m\u001b[0;34m(\u001b[0m\u001b[0;34m'p'\u001b[0m\u001b[0;34m)\u001b[0m\u001b[0;34m:\u001b[0m\u001b[0;34m\u001b[0m\n\u001b[0;34m\u001b[0m            \u001b[0mparagraph\u001b[0m \u001b[0;34m=\u001b[0m \u001b[0mPDFDoc2Txt\u001b[0m\u001b[0;34m.\u001b[0m\u001b[0mconsolidate_paragraph\u001b[0m\u001b[0;34m(\u001b[0m\u001b[0mp\u001b[0m\u001b[0;34m.\u001b[0m\u001b[0mtext\u001b[0m\u001b[0;34m)\u001b[0m\u001b[0;34m\u001b[0m\n\u001b[0;34m\u001b[0m            \u001b[0mparagraph\u001b[0m \u001b[0;34m=\u001b[0m \u001b[0mPDFDoc2Txt\u001b[0m\u001b[0;34m.\u001b[0m\u001b[0mnormalize_footnote_citations\u001b[0m\u001b[0;34m(\u001b[0m\u001b[0mparagraph\u001b[0m\u001b[0;34m)\u001b[0m\u001b[0;34m\u001b[0m\n\u001b[0;34m\u001b[0m            \u001b[0;32mif\u001b[0m \u001b[0;32mnot\u001b[0m \u001b[0mparagraph\u001b[0m\u001b[0;34m:\u001b[0m\u001b[0;34m\u001b[0m\n\u001b[0;34m\u001b[0m                \u001b[0;32mcontinue\u001b[0m\u001b[0;34m\u001b[0m\n\u001b[0;34m\u001b[0m\u001b[0;34m\u001b[0m\n\u001b[0;34m\u001b[0m            \u001b[0mprev_paragraph_end\u001b[0m \u001b[0;34m=\u001b[0m \u001b[0mparagraphs\u001b[0m\u001b[0;34m[\u001b[0m\u001b[0;34m-\u001b[0m\u001b[0;36m1\u001b[0m\u001b[0;34m]\u001b[0m\u001b[0;34m[\u001b[0m\u001b[0;34m-\u001b[0m\u001b[0;36m1\u001b[0m\u001b[0;34m]\u001b[0m \u001b[0;32mif\u001b[0m \u001b[0mparagraphs\u001b[0m \u001b[0;32mand\u001b[0m \u001b[0mparagraphs\u001b[0m\u001b[0;34m[\u001b[0m\u001b[0;34m-\u001b[0m\u001b[0;36m1\u001b[0m\u001b[0;34m]\u001b[0m \u001b[0;32melse\u001b[0m \u001b[0;34m''\u001b[0m\u001b[0;34m\u001b[0m\n\u001b[0;34m\u001b[0m\u001b[0;34m\u001b[0m\n\u001b[0;34m\u001b[0m            \u001b[0;32mif\u001b[0m \u001b[0mprev_paragraph_end\u001b[0m \u001b[0;32mand\u001b[0m \u001b[0;34m(\u001b[0m\u001b[0mre\u001b[0m\u001b[0;34m.\u001b[0m\u001b[0msearch\u001b[0m\u001b[0;34m(\u001b[0m\u001b[0;34mr'[a-zA-Z\\-\\,]'\u001b[0m\u001b[0;34m,\u001b[0m \u001b[0mprev_paragraph_end\u001b[0m\u001b[0;34m)\u001b[0m \u001b[0;32mor\u001b[0m \u001b[0;34m(\u001b[0m\u001b[0mparagraph\u001b[0m\u001b[0;34m[\u001b[0m\u001b[0;36m0\u001b[0m\u001b[0;34m]\u001b[0m\u001b[0;34m.\u001b[0m\u001b[0mislower\u001b[0m\u001b[0;34m(\u001b[0m\u001b[0;34m)\u001b[0m\u001b[0;34m)\u001b[0m\u001b[0;34m)\u001b[0m\u001b[0;34m:\u001b[0m  \u001b[0;31m# .isalpha():\u001b[0m\u001b[0;34m\u001b[0m\n\u001b[0;34m\u001b[0m                \u001b[0mparagraph\u001b[0m \u001b[0;34m=\u001b[0m \u001b[0mparagraphs\u001b[0m\u001b[0;34m[\u001b[0m\u001b[0;34m-\u001b[0m\u001b[0;36m1\u001b[0m\u001b[0;34m]\u001b[0m \u001b[0;34m+\u001b[0m \u001b[0;34m' '\u001b[0m \u001b[0;34m+\u001b[0m \u001b[0mparagraph\u001b[0m\u001b[0;34m\u001b[0m\n\u001b[0;34m\u001b[0m                \u001b[0mparagraphs\u001b[0m\u001b[0;34m[\u001b[0m\u001b[0;34m-\u001b[0m\u001b[0;36m1\u001b[0m\u001b[0;34m]\u001b[0m \u001b[0;34m=\u001b[0m \u001b[0mparagraph\u001b[0m\u001b[0;34m\u001b[0m\n\u001b[0;34m\u001b[0m            \u001b[0;32melse\u001b[0m\u001b[0;34m:\u001b[0m\u001b[0;34m\u001b[0m\n\u001b[0;34m\u001b[0m                \u001b[0mparagraphs\u001b[0m\u001b[0;34m.\u001b[0m\u001b[0mappend\u001b[0m\u001b[0;34m(\u001b[0m\u001b[0mparagraph\u001b[0m\u001b[0;34m)\u001b[0m\u001b[0;34m\u001b[0m\n\u001b[0;34m\u001b[0m\u001b[0;34m\u001b[0m\n\u001b[0;34m\u001b[0m        \u001b[0;31m# for p in paragraphs:\u001b[0m\u001b[0;34m\u001b[0m\n\u001b[0;34m\u001b[0m        \u001b[0;31m#     doc = self.nlp(p)\u001b[0m\u001b[0;34m\u001b[0m\n\u001b[0;34m\u001b[0m        \u001b[0;31m#     self.sentences.extend(list(doc.sents))\u001b[0m\u001b[0;34m\u001b[0m\n\u001b[0;34m\u001b[0m\u001b[0;34m\u001b[0m\n\u001b[0;34m\u001b[0m        \u001b[0mparagraphs\u001b[0m \u001b[0;34m=\u001b[0m \u001b[0;34m'\\n\\n'\u001b[0m\u001b[0;34m.\u001b[0m\u001b[0mjoin\u001b[0m\u001b[0;34m(\u001b[0m\u001b[0mparagraphs\u001b[0m\u001b[0;34m)\u001b[0m\u001b[0;34m\u001b[0m\n\u001b[0;34m\u001b[0m        \u001b[0;32mreturn\u001b[0m \u001b[0mparagraphs\u001b[0m\u001b[0;34m\u001b[0m\u001b[0;34m\u001b[0m\u001b[0m\n\u001b[0;31mFile:\u001b[0m      ~/WBG/wb_nlp/src/wb_nlp/processing/document.py\n\u001b[0;31mType:\u001b[0m      function\n"
    }
   ],
   "source": [
    "??pdf_parser.process_page"
   ]
  },
  {
   "cell_type": "markdown",
   "metadata": {},
   "source": [
    "# Paragraph consolidation algorithm\n",
    "\n",
    "The following method `consolidate_paragraph` contains the different heuristics for identifying fragmentation of paragraphs/sentences extracted from the pdf file.\n",
    "\n",
    "This method is a static method allowing us to use this on arbitrary text document that may contain sentence level fragmentation due to OCR or other X-to-text conversion."
   ]
  },
  {
   "cell_type": "code",
   "execution_count": 7,
   "metadata": {},
   "outputs": [
    {
     "output_type": "stream",
     "text": "\u001b[0;31mSignature:\u001b[0m\n\u001b[0mpdf_parser\u001b[0m\u001b[0;34m.\u001b[0m\u001b[0mconsolidate_paragraph\u001b[0m\u001b[0;34m(\u001b[0m\u001b[0;34m\u001b[0m\n\u001b[0;34m\u001b[0m    \u001b[0mtext_paragraph\u001b[0m\u001b[0;34m:\u001b[0m \u001b[0mstr\u001b[0m\u001b[0;34m,\u001b[0m\u001b[0;34m\u001b[0m\n\u001b[0;34m\u001b[0m    \u001b[0mmin_fragment_len\u001b[0m\u001b[0;34m:\u001b[0m \u001b[0mint\u001b[0m \u001b[0;34m=\u001b[0m \u001b[0;36m3\u001b[0m\u001b[0;34m,\u001b[0m\u001b[0;34m\u001b[0m\n\u001b[0;34m\u001b[0m\u001b[0;34m)\u001b[0m \u001b[0;34m->\u001b[0m \u001b[0mstr\u001b[0m\u001b[0;34m\u001b[0m\u001b[0;34m\u001b[0m\u001b[0m\n\u001b[0;31mSource:\u001b[0m   \n    \u001b[0;34m@\u001b[0m\u001b[0mstaticmethod\u001b[0m\u001b[0;34m\u001b[0m\n\u001b[0;34m\u001b[0m    \u001b[0;32mdef\u001b[0m \u001b[0mconsolidate_paragraph\u001b[0m\u001b[0;34m(\u001b[0m\u001b[0mtext_paragraph\u001b[0m\u001b[0;34m:\u001b[0m \u001b[0mstr\u001b[0m\u001b[0;34m,\u001b[0m \u001b[0mmin_fragment_len\u001b[0m\u001b[0;34m:\u001b[0m \u001b[0mint\u001b[0m\u001b[0;34m=\u001b[0m\u001b[0;36m3\u001b[0m\u001b[0;34m)\u001b[0m \u001b[0;34m->\u001b[0m \u001b[0mstr\u001b[0m\u001b[0;34m:\u001b[0m\u001b[0;34m\u001b[0m\n\u001b[0;34m\u001b[0m        \u001b[0;34m\"\"\"Consolidate a `text_paragraph` with possible multiple newlines into one logical paragraph.\u001b[0m\n\u001b[0;34m\u001b[0m\n\u001b[0;34m        Tika provides access to extracted text by paragraph. These paragraphs, however, may contain\u001b[0m\n\u001b[0;34m        multiple newlines that break the paragraph arbitrarily. This function implements some heuristics\u001b[0m\n\u001b[0;34m        to recover a logical representation of the paragraph.\u001b[0m\n\u001b[0;34m\u001b[0m\n\u001b[0;34m        Args:\u001b[0m\n\u001b[0;34m            text_paragraph:\u001b[0m\n\u001b[0;34m                Text corresponding to an extracted paragraph from Tika.\u001b[0m\n\u001b[0;34m\u001b[0m\n\u001b[0;34m        Returns:\u001b[0m\n\u001b[0;34m            A string corresponding to a logical paragraph.\u001b[0m\n\u001b[0;34m\u001b[0m\n\u001b[0;34m        \"\"\"\u001b[0m\u001b[0;34m\u001b[0m\n\u001b[0;34m\u001b[0m        \u001b[0mreplace_chars\u001b[0m \u001b[0;34m=\u001b[0m \u001b[0;34m{\u001b[0m\u001b[0;34m'’'\u001b[0m\u001b[0;34m:\u001b[0m \u001b[0;34m\"'\"\u001b[0m\u001b[0;34m,\u001b[0m \u001b[0;34m'“'\u001b[0m\u001b[0;34m:\u001b[0m \u001b[0;34m'\"'\u001b[0m\u001b[0;34m,\u001b[0m \u001b[0;34m'”'\u001b[0m\u001b[0;34m:\u001b[0m \u001b[0;34m'\"'\u001b[0m\u001b[0;34m}\u001b[0m\u001b[0;34m\u001b[0m\n\u001b[0;34m\u001b[0m        \u001b[0mline_seps\u001b[0m \u001b[0;34m=\u001b[0m \u001b[0mset\u001b[0m\u001b[0;34m(\u001b[0m\u001b[0;34m[\u001b[0m\u001b[0;34m' '\u001b[0m\u001b[0;34m,\u001b[0m \u001b[0;34m'-'\u001b[0m\u001b[0;34m]\u001b[0m\u001b[0;34m)\u001b[0m\u001b[0;34m\u001b[0m\n\u001b[0;34m\u001b[0m        \u001b[0mline_groups\u001b[0m \u001b[0;34m=\u001b[0m \u001b[0;34m[\u001b[0m\u001b[0;34m[\u001b[0m\u001b[0;34m]\u001b[0m\u001b[0;34m]\u001b[0m\u001b[0;34m\u001b[0m\n\u001b[0;34m\u001b[0m\u001b[0;34m\u001b[0m\n\u001b[0;34m\u001b[0m        \u001b[0mtext_paragraph\u001b[0m \u001b[0;34m=\u001b[0m \u001b[0mtext_paragraph\u001b[0m\u001b[0;34m.\u001b[0m\u001b[0mreplace\u001b[0m\u001b[0;34m(\u001b[0m\u001b[0;34m'\\r'\u001b[0m\u001b[0;34m,\u001b[0m \u001b[0;34m''\u001b[0m\u001b[0;34m)\u001b[0m\u001b[0;34m\u001b[0m\n\u001b[0;34m\u001b[0m\u001b[0;34m\u001b[0m\n\u001b[0;34m\u001b[0m        \u001b[0mlines\u001b[0m \u001b[0;34m=\u001b[0m \u001b[0;34m[\u001b[0m\u001b[0;34m]\u001b[0m\u001b[0;34m\u001b[0m\n\u001b[0;34m\u001b[0m        \u001b[0;32mfor\u001b[0m \u001b[0mline\u001b[0m \u001b[0;32min\u001b[0m \u001b[0mre\u001b[0m\u001b[0;34m.\u001b[0m\u001b[0mfindall\u001b[0m\u001b[0;34m(\u001b[0m\u001b[0;34mr'(.+)(?:$|\\r?\\n)'\u001b[0m\u001b[0;34m,\u001b[0m \u001b[0mtext_paragraph\u001b[0m\u001b[0;34m)\u001b[0m\u001b[0;34m:\u001b[0m\u001b[0;34m\u001b[0m\n\u001b[0;34m\u001b[0m            \u001b[0mprev_line\u001b[0m \u001b[0;34m=\u001b[0m \u001b[0mlines\u001b[0m\u001b[0;34m[\u001b[0m\u001b[0;34m-\u001b[0m\u001b[0;36m1\u001b[0m\u001b[0;34m]\u001b[0m \u001b[0;32mif\u001b[0m \u001b[0mlines\u001b[0m \u001b[0;32melse\u001b[0m \u001b[0;34m''\u001b[0m\u001b[0;34m\u001b[0m\n\u001b[0;34m\u001b[0m            \u001b[0mprev_line_end\u001b[0m \u001b[0;34m=\u001b[0m \u001b[0mprev_line\u001b[0m\u001b[0;34m[\u001b[0m\u001b[0;34m-\u001b[0m\u001b[0;36m1\u001b[0m\u001b[0;34m]\u001b[0m \u001b[0;32mif\u001b[0m \u001b[0mprev_line\u001b[0m \u001b[0;32melse\u001b[0m \u001b[0;34m''\u001b[0m\u001b[0;34m\u001b[0m\n\u001b[0;34m\u001b[0m\u001b[0;34m\u001b[0m\n\u001b[0;34m\u001b[0m            \u001b[0mlen_prev_line\u001b[0m \u001b[0;34m=\u001b[0m \u001b[0mlen\u001b[0m\u001b[0;34m(\u001b[0m\u001b[0mprev_line\u001b[0m\u001b[0;34m.\u001b[0m\u001b[0msplit\u001b[0m\u001b[0;34m(\u001b[0m\u001b[0;34m)\u001b[0m\u001b[0;34m)\u001b[0m\u001b[0;34m\u001b[0m\n\u001b[0;34m\u001b[0m            \u001b[0mlen_line\u001b[0m \u001b[0;34m=\u001b[0m \u001b[0mlen\u001b[0m\u001b[0;34m(\u001b[0m\u001b[0mline\u001b[0m\u001b[0;34m.\u001b[0m\u001b[0msplit\u001b[0m\u001b[0;34m(\u001b[0m\u001b[0;34m)\u001b[0m\u001b[0;34m)\u001b[0m\u001b[0;34m\u001b[0m\n\u001b[0;34m\u001b[0m\u001b[0;34m\u001b[0m\n\u001b[0;34m\u001b[0m            \u001b[0;32mif\u001b[0m \u001b[0mline\u001b[0m\u001b[0;34m.\u001b[0m\u001b[0mlstrip\u001b[0m\u001b[0;34m(\u001b[0m\u001b[0;34m)\u001b[0m\u001b[0;34m.\u001b[0m\u001b[0mstartswith\u001b[0m\u001b[0;34m(\u001b[0m\u001b[0;34m'•'\u001b[0m\u001b[0;34m)\u001b[0m\u001b[0;34m:\u001b[0m\u001b[0;34m\u001b[0m\n\u001b[0;34m\u001b[0m                \u001b[0mlines\u001b[0m\u001b[0;34m.\u001b[0m\u001b[0mappend\u001b[0m\u001b[0;34m(\u001b[0m\u001b[0mline\u001b[0m\u001b[0;34m)\u001b[0m\u001b[0;34m\u001b[0m\n\u001b[0;34m\u001b[0m            \u001b[0;32melif\u001b[0m \u001b[0mlen_prev_line\u001b[0m \u001b[0;34m<=\u001b[0m \u001b[0mmin_fragment_len\u001b[0m \u001b[0;32mand\u001b[0m \u001b[0mlen_line\u001b[0m \u001b[0;34m>\u001b[0m \u001b[0mmin_fragment_len\u001b[0m\u001b[0;34m:\u001b[0m\u001b[0;34m\u001b[0m\n\u001b[0;34m\u001b[0m                \u001b[0;31m# We consider joining consecutive lines if the previous line is\u001b[0m\u001b[0;34m\u001b[0m\n\u001b[0;34m\u001b[0m                \u001b[0;31m# reasonably long enough to be considered a valid fragment.\u001b[0m\u001b[0;34m\u001b[0m\n\u001b[0;34m\u001b[0m                \u001b[0mlines\u001b[0m\u001b[0;34m.\u001b[0m\u001b[0mappend\u001b[0m\u001b[0;34m(\u001b[0m\u001b[0mline\u001b[0m\u001b[0;34m)\u001b[0m\u001b[0;34m\u001b[0m\n\u001b[0;34m\u001b[0m            \u001b[0;32melif\u001b[0m \u001b[0mprev_line_end\u001b[0m \u001b[0;32min\u001b[0m \u001b[0mline_seps\u001b[0m\u001b[0;34m:\u001b[0m\u001b[0;34m\u001b[0m\n\u001b[0;34m\u001b[0m                \u001b[0;32mif\u001b[0m \u001b[0;34m'-'\u001b[0m \u001b[0;34m==\u001b[0m \u001b[0mprev_line_end\u001b[0m\u001b[0;34m:\u001b[0m\u001b[0;34m\u001b[0m\n\u001b[0;34m\u001b[0m                    \u001b[0mlines\u001b[0m\u001b[0;34m[\u001b[0m\u001b[0;34m-\u001b[0m\u001b[0;36m1\u001b[0m\u001b[0;34m]\u001b[0m \u001b[0;34m=\u001b[0m \u001b[0mprev_line\u001b[0m\u001b[0;34m.\u001b[0m\u001b[0mrstrip\u001b[0m\u001b[0;34m(\u001b[0m\u001b[0;34m'-'\u001b[0m\u001b[0;34m)\u001b[0m \u001b[0;34m+\u001b[0m \u001b[0mline\u001b[0m\u001b[0;34m\u001b[0m\n\u001b[0;34m\u001b[0m                \u001b[0;32melse\u001b[0m\u001b[0;34m:\u001b[0m\u001b[0;34m\u001b[0m\n\u001b[0;34m\u001b[0m                    \u001b[0mlines\u001b[0m\u001b[0;34m[\u001b[0m\u001b[0;34m-\u001b[0m\u001b[0;36m1\u001b[0m\u001b[0;34m]\u001b[0m \u001b[0;34m=\u001b[0m \u001b[0mprev_line\u001b[0m\u001b[0;34m.\u001b[0m\u001b[0mstrip\u001b[0m\u001b[0;34m(\u001b[0m\u001b[0;34m)\u001b[0m \u001b[0;34m+\u001b[0m \u001b[0;34m' '\u001b[0m \u001b[0;34m+\u001b[0m \u001b[0mline\u001b[0m\u001b[0;34m\u001b[0m\n\u001b[0;34m\u001b[0m            \u001b[0;32melif\u001b[0m \u001b[0mre\u001b[0m\u001b[0;34m.\u001b[0m\u001b[0msearch\u001b[0m\u001b[0;34m(\u001b[0m\u001b[0;34mr'[^\\.\\:\\?]'\u001b[0m\u001b[0;34m,\u001b[0m \u001b[0mprev_line_end\u001b[0m\u001b[0;34m)\u001b[0m\u001b[0;34m:\u001b[0m\u001b[0;34m\u001b[0m\n\u001b[0;34m\u001b[0m                \u001b[0mlines\u001b[0m\u001b[0;34m[\u001b[0m\u001b[0;34m-\u001b[0m\u001b[0;36m1\u001b[0m\u001b[0;34m]\u001b[0m \u001b[0;34m=\u001b[0m \u001b[0mprev_line\u001b[0m\u001b[0;34m.\u001b[0m\u001b[0mrstrip\u001b[0m\u001b[0;34m(\u001b[0m\u001b[0;34m'-'\u001b[0m\u001b[0;34m)\u001b[0m\u001b[0;34m.\u001b[0m\u001b[0mstrip\u001b[0m\u001b[0;34m(\u001b[0m\u001b[0;34m)\u001b[0m \u001b[0;34m+\u001b[0m \u001b[0;34m' '\u001b[0m \u001b[0;34m+\u001b[0m \u001b[0mline\u001b[0m\u001b[0;34m\u001b[0m\n\u001b[0;34m\u001b[0m            \u001b[0;32melse\u001b[0m\u001b[0;34m:\u001b[0m\u001b[0;34m\u001b[0m\n\u001b[0;34m\u001b[0m                \u001b[0mlines\u001b[0m\u001b[0;34m.\u001b[0m\u001b[0mappend\u001b[0m\u001b[0;34m(\u001b[0m\u001b[0mline\u001b[0m\u001b[0;34m)\u001b[0m\u001b[0;34m\u001b[0m\n\u001b[0;34m\u001b[0m\u001b[0;34m\u001b[0m\n\u001b[0;34m\u001b[0m        \u001b[0;32mif\u001b[0m \u001b[0mlines\u001b[0m\u001b[0;34m:\u001b[0m\u001b[0;34m\u001b[0m\n\u001b[0;34m\u001b[0m            \u001b[0mlines\u001b[0m\u001b[0;34m[\u001b[0m\u001b[0;34m-\u001b[0m\u001b[0;36m1\u001b[0m\u001b[0;34m]\u001b[0m \u001b[0;34m=\u001b[0m \u001b[0mlines\u001b[0m\u001b[0;34m[\u001b[0m\u001b[0;34m-\u001b[0m\u001b[0;36m1\u001b[0m\u001b[0;34m]\u001b[0m\u001b[0;34m.\u001b[0m\u001b[0mstrip\u001b[0m\u001b[0;34m(\u001b[0m\u001b[0;34m)\u001b[0m\u001b[0;34m\u001b[0m\n\u001b[0;34m\u001b[0m\u001b[0;34m\u001b[0m\n\u001b[0;34m\u001b[0m        \u001b[0mparagraph\u001b[0m \u001b[0;34m=\u001b[0m \u001b[0;34m'\\n'\u001b[0m\u001b[0;34m.\u001b[0m\u001b[0mjoin\u001b[0m\u001b[0;34m(\u001b[0m\u001b[0mlines\u001b[0m\u001b[0;34m)\u001b[0m\u001b[0;34m\u001b[0m\n\u001b[0;34m\u001b[0m\u001b[0;34m\u001b[0m\n\u001b[0;34m\u001b[0m        \u001b[0;32mfor\u001b[0m \u001b[0mrc\u001b[0m \u001b[0;32min\u001b[0m \u001b[0mreplace_chars\u001b[0m\u001b[0;34m:\u001b[0m\u001b[0;34m\u001b[0m\n\u001b[0;34m\u001b[0m            \u001b[0mparagraph\u001b[0m \u001b[0;34m=\u001b[0m \u001b[0mparagraph\u001b[0m\u001b[0;34m.\u001b[0m\u001b[0mreplace\u001b[0m\u001b[0;34m(\u001b[0m\u001b[0mrc\u001b[0m\u001b[0;34m,\u001b[0m \u001b[0mreplace_chars\u001b[0m\u001b[0;34m[\u001b[0m\u001b[0mrc\u001b[0m\u001b[0;34m]\u001b[0m\u001b[0;34m)\u001b[0m\u001b[0;34m\u001b[0m\n\u001b[0;34m\u001b[0m\u001b[0;34m\u001b[0m\n\u001b[0;34m\u001b[0m        \u001b[0;32mreturn\u001b[0m \u001b[0mparagraph\u001b[0m\u001b[0;34m\u001b[0m\u001b[0;34m\u001b[0m\u001b[0m\n\u001b[0;31mFile:\u001b[0m      ~/WBG/wb_nlp/src/wb_nlp/processing/document.py\n\u001b[0;31mType:\u001b[0m      function\n"
    }
   ],
   "source": [
    "??pdf_parser.consolidate_paragraph"
   ]
  },
  {
   "cell_type": "markdown",
   "metadata": {},
   "source": [
    "# Example\n",
    "\n",
    "### Run tika docker image first.\n",
    "\n",
    "https://hub.docker.com/r/apache/tika\n",
    "\n",
    "```\n",
    "sudo docker pull apache/tika\n",
    "sudo docker run -d -p 9998:9998 apache/tika\n",
    "```"
   ]
  },
  {
   "cell_type": "markdown",
   "metadata": {},
   "source": [
    "The WB Docs repository contains pdf and txt versions of documents. However, some text versions are not formatted properly."
   ]
  },
  {
   "cell_type": "code",
   "execution_count": 129,
   "metadata": {},
   "outputs": [],
   "source": [
    "import requests\n",
    "\n",
    "url = 'http://documents1.worldbank.org/curated/en/735931527600661308/text/126663-WP-PUBLIC-P164538-Malawi-Economic-Monitor-7-Realizing-Safety-Nets-Potential.txt'\n",
    "txt_original = requests.get(url).content.decode('utf-8')\n",
    "\n",
    "# pdf_url = 'http://documents1.worldbank.org/curated/en/735931527600661308/pdf/126663-WP-PUBLIC-P164538-Malawi-Economic-Monitor-7-Realizing-Safety-Nets-Potential.pdf'\n",
    "\n",
    "pdf_url = 'https://openknowledge.worldbank.org/bitstream/handle/10986/34013/Designing-a-Credit-Facility-for-Women-Entrepreneurs-Lessons-from-the-Ethiopia-Women-Entrepreneurship-Development-Project.pdf?sequence=4&isAllowed=y'\n",
    "txt_parsed = pdf_parser.parse(source=pdf_url, source_type='url')"
   ]
  },
  {
   "cell_type": "code",
   "execution_count": 130,
   "metadata": {},
   "outputs": [],
   "source": [
    "buffer = requests.get(pdf_url).content\n",
    "xml = document.parser.from_buffer(buffer, xmlContent=True)['content']"
   ]
  },
  {
   "cell_type": "code",
   "execution_count": 131,
   "metadata": {},
   "outputs": [],
   "source": [
    "xmlB = document.BeautifulSoup(xml, features='html.parser')"
   ]
  },
  {
   "cell_type": "code",
   "execution_count": 286,
   "metadata": {},
   "outputs": [],
   "source": [
    "nlp = spacy.load('en_core_web_sm')"
   ]
  },
  {
   "cell_type": "markdown",
   "metadata": {},
   "source": [
    "Cleaning process:\n",
    "\n",
    "- If coming from pdf, parse with tika to convert into xml using xmlContent=True.\n",
    "- Process text per page. If page contains very few or no sentences, we could drop it since it may be a page full of tables or other details.\n",
    "- Expand acronyms.\n",
    "- Check length of text.\n",
    "- Lemmatize.\n",
    "- Remove noise.\n",
    "- Detect language.\n",
    "- Spell check.\n",
    "- Respeller.\n",
    "- Plural-singular map?\n",
    "- Create recognizers of entities, e.g., countries, names, places, etc.\n",
    "\n",
    "\n",
    "\n"
   ]
  },
  {
   "cell_type": "code",
   "execution_count": 468,
   "metadata": {},
   "outputs": [],
   "source": [
    "import importlib\n",
    "import wb_nlp.extraction.extractor as extractor\n",
    "\n",
    "importlib.reload(extractor)\n",
    "ce = extractor.CountryExtractor(nlp, lower=True)"
   ]
  },
  {
   "cell_type": "code",
   "execution_count": 529,
   "metadata": {},
   "outputs": [],
   "source": [
    "from enchant.checker import SpellChecker \n",
    "\n",
    "# https://spacy.io/api/annotation\n",
    "POS_TAGS = ['POS', 'ADJ', 'ADP', 'ADV', 'AUX', 'CONJ', 'CCONJ', 'DET', 'INTJ', 'NOUN', 'NUM', 'PART', 'PRON', 'PROPN', 'PUNCT', 'SCONJ', 'SYM', 'VERB', 'X', 'SPACE']\n",
    "\n",
    "LDA_POS_TAGS = [\n",
    "    'ADJ', 'NOUN', 'PROPN', 'VERB'\n",
    "]\n",
    "\n",
    "LDA_INVALID_ENT_TYPE = [\n",
    "    'GPE', 'COUNTRY', 'PERSON','ORG',\n",
    "    'DATE', 'TIME', 'PERCENT', 'MONEY', 'QUANTITY',\n",
    "    'ORDINAL',\n",
    "    'CARDINAL',\n",
    "]\n",
    "\n",
    "EMBEDDING_POS_TAGS = [\n",
    "    # 'ADJ',\n",
    "    'ADP', 'ADV', 'AUX', 'CONJ', 'CCONJ', 'DET', 'INTJ',\n",
    "    'NUM', 'PART',\n",
    "    # 'NOUN', 'PROPN', 'VERB'\n",
    "]\n",
    "\n",
    "EMBEDDING_INVALID_ENT_TYPE = [\n",
    "    'DATE', 'TIME', 'PERCENT', 'MONEY', 'QUANTITY',\n",
    "    # 'ORDINAL',\n",
    "    'CARDINAL',\n",
    "]\n",
    "\n",
    "en = SpellChecker(\"en_US\")\n",
    "\n",
    "def clean_text(text, pos_tag, exclude_ent_type, reverse=True):    \n",
    "    # text = xmlB.find_all('div', attrs={'class': 'page'})[page_num].text\n",
    "    text = (\n",
    "        text\n",
    "        .replace('\\n', ' ')\n",
    "        .replace('’', \"'\")\n",
    "        .replace('“', '\"')\n",
    "        .replace('”', '\"')\n",
    "    )\n",
    "\n",
    "    text = re.sub('\\s+', ' ', text).strip().lower()\n",
    "\n",
    "    doc = nlp(text)\n",
    "    doc = ce(doc)\n",
    "\n",
    "    tokens = []\n",
    "\n",
    "    for t in doc:\n",
    "        condition = (\n",
    "            t.ent_type_ not in exclude_ent_type and\n",
    "            t.pos_ in pos_tag and\n",
    "            len(t) > 2 and\n",
    "            t.is_alpha)\n",
    "\n",
    "        if condition:\n",
    "\n",
    "            # if not en.check(t.text):\n",
    "            print((t.text, t.lemma_, t.pos_, t.ent_type_, t.ent_iob_, t._.normalized))\n",
    "\n",
    "            # tokens.append(t.lemma_)"
   ]
  },
  {
   "cell_type": "code",
   "execution_count": 530,
   "metadata": {
    "tags": []
   },
   "outputs": [
    {
     "output_type": "stream",
     "name": "stdout",
     "text": "('syc', 'syc', 'PROPN', '', 'O', '')\n('rco', 'rco', 'PROPN', 'FAC', 'B', '')\n('ate', 'ate', 'PROPN', '', 'O', '')\n('disruptive', 'disruptive', 'ADJ', '', 'O', '')\n('finance', 'finance', 'NOUN', '', 'O', '')\n('using', 'use', 'VERB', '', 'O', '')\n('psychometrics', 'psychometric', 'NOUN', '', 'O', '')\n('overcome', 'overcome', 'VERB', '', 'O', '')\n('collateral', 'collateral', 'ADJ', '', 'O', '')\n('constraints', 'constraint', 'NOUN', '', 'O', '')\n('situation', 'situation', 'NOUN', '', 'O', '')\n('achieved', 'achieve', 'VERB', '', 'O', '')\n('high', 'high', 'ADJ', '', 'O', '')\n('economic', 'economic', 'ADJ', '', 'O', '')\n('growth', 'growth', 'NOUN', '', 'O', '')\n('establishing', 'establish', 'VERB', '', 'O', '')\n('country', 'country', 'NOUN', '', 'O', '')\n('fastest', 'fast', 'ADJ', '', 'O', '')\n('growing', 'grow', 'VERB', '', 'O', '')\n('economies', 'economy', 'NOUN', '', 'O', '')\n('africa', 'africa', 'PROPN', 'LOC', 'B', '')\n('developing', 'develop', 'VERB', '', 'O', '')\n('world', 'world', 'NOUN', '', 'O', '')\n('falling', 'fall', 'VERB', '', 'O', '')\n('peers', 'peer', 'NOUN', '', 'O', '')\n('area', 'area', 'NOUN', '', 'O', '')\n('provision', 'provision', 'NOUN', '', 'O', '')\n('credit', 'credit', 'NOUN', '', 'O', '')\n('private', 'private', 'ADJ', '', 'O', '')\n('sector', 'sector', 'NOUN', '', 'O', '')\n('according', 'accord', 'VERB', '', 'O', '')\n('enterprise', 'enterprise', 'NOUN', '', 'O', '')\n('surveys', 'survey', 'NOUN', '', 'O', '')\n('access', 'access', 'VERB', '', 'O', '')\n('finance', 'finance', 'NOUN', '', 'O', '')\n('perceived', 'perceive', 'VERB', '', 'O', '')\n('main', 'main', 'ADJ', '', 'O', '')\n('business', 'business', 'NOUN', '', 'O', '')\n('environment', 'environment', 'NOUN', '', 'O', '')\n('constraint', 'constraint', 'NOUN', '', 'O', '')\n('small', 'small', 'ADJ', '', 'O', '')\n('medium', 'medium', 'NOUN', '', 'O', '')\n('enterprises', 'enterprise', 'NOUN', '', 'O', '')\n('compared', 'compare', 'VERB', '', 'O', '')\n('sub', 'sub', 'ADJ', '', 'O', '')\n('saharan', 'saharan', 'ADJ', '', 'O', '')\n('average', 'average', 'NOUN', '', 'O', '')\n('access', 'access', 'NOUN', '', 'O', '')\n('finance', 'finance', 'NOUN', '', 'O', '')\n('challenge', 'challenge', 'NOUN', '', 'O', '')\n('men', 'man', 'NOUN', '', 'O', '')\n('women', 'woman', 'NOUN', '', 'O', '')\n('difficulties', 'difficulty', 'NOUN', '', 'O', '')\n('amplified', 'amplify', 'VERB', '', 'O', '')\n('women', 'woman', 'NOUN', '', 'O', '')\n('likely', 'likely', 'ADJ', '', 'O', '')\n('own', 'own', 'VERB', '', 'O', '')\n('assets', 'asset', 'NOUN', '', 'O', '')\n('opportunities', 'opportunity', 'NOUN', '', 'O', '')\n('women', 'woman', 'NOUN', '', 'O', '')\n('entrepreneurs', 'entrepreneur', 'NOUN', '', 'O', '')\n('lag', 'lag', 'VERB', '', 'O', '')\n('men', 'man', 'NOUN', '', 'O', '')\n('economist', 'economist', 'NOUN', '', 'O', '')\n('women', 'woman', 'NOUN', '', 'O', '')\n('economic', 'economic', 'ADJ', '', 'O', '')\n('opportunity', 'opportunity', 'NOUN', '', 'O', '')\n('index', 'index', 'NOUN', '', 'O', '')\n('occupies', 'occupy', 'VERB', '', 'O', '')\n('rank', 'rank', 'NOUN', '', 'O', '')\n('countries', 'country', 'NOUN', '', 'O', '')\n('most', 'most', 'ADJ', '', 'O', '')\n('growth', 'growth', 'NOUN', '', 'O', '')\n('oriented', 'orient', 'VERB', '', 'O', '')\n('women', 'woman', 'NOUN', '', 'O', '')\n('entrepreneurs', 'entrepreneur', 'NOUN', '', 'O', '')\n('fall', 'fall', 'VERB', '', 'O', '')\n('missing', 'miss', 'VERB', '', 'O', '')\n('middle', 'middle', 'NOUN', '', 'O', '')\n('trap', 'trap', 'NOUN', '', 'O', '')\n('served', 'serve', 'VERB', '', 'O', '')\n('commercial', 'commercial', 'ADJ', '', 'O', '')\n('banks', 'bank', 'NOUN', '', 'O', '')\n('microfinance', 'microfinance', 'NOUN', '', 'O', '')\n('situations', 'situation', 'NOUN', '', 'O', '')\n('high', 'high', 'ADJ', '', 'O', '')\n('minimum', 'minimum', 'ADJ', '', 'O', '')\n('loan', 'loan', 'NOUN', '', 'O', '')\n('sizes', 'size', 'NOUN', '', 'O', '')\n('excessive', 'excessive', 'ADJ', '', 'O', '')\n('collateral', 'collateral', 'ADJ', '', 'O', '')\n('constraints', 'constraint', 'NOUN', '', 'O', '')\n('restrict', 'restrict', 'VERB', '', 'O', '')\n('women', 'woman', 'NOUN', '', 'O', '')\n('access', 'access', 'NOUN', '', 'O', '')\n('loans', 'loan', 'NOUN', '', 'O', '')\n('commercial', 'commercial', 'ADJ', '', 'O', '')\n('banks', 'bank', 'NOUN', '', 'O', '')\n('microfinance', 'microfinance', 'NOUN', '', 'O', '')\n('institutions', 'institution', 'NOUN', '', 'O', '')\n('mfis', 'mfis', 'NOUN', '', 'O', '')\n('lend', 'lend', 'VERB', '', 'O', '')\n('asset', 'asset', 'NOUN', '', 'O', '')\n('collateral', 'collateral', 'NOUN', '', 'O', '')\n('cater', 'cater', 'VERB', '', 'O', '')\n('micro', 'micro', 'NOUN', '', 'O', '')\n('firms', 'firm', 'NOUN', '', 'O', '')\n('group', 'group', 'NOUN', '', 'O', '')\n('lending', 'lending', 'NOUN', '', 'O', '')\n('schemes', 'scheme', 'NOUN', '', 'O', '')\n('provide', 'provide', 'VERB', '', 'O', '')\n('small', 'small', 'ADJ', '', 'O', '')\n('loans', 'loan', 'NOUN', '', 'O', '')\n('sufficient', 'sufficient', 'ADJ', '', 'O', '')\n('size', 'size', 'NOUN', '', 'O', '')\n('support', 'support', 'VERB', '', 'O', '')\n('business', 'business', 'NOUN', '', 'O', '')\n('growth', 'growth', 'NOUN', '', 'O', '')\n('world', 'world', 'PROPN', '', 'O', '')\n('bank', 'bank', 'PROPN', '', 'O', '')\n('investment', 'investment', 'NOUN', '', 'O', '')\n('lending', 'lending', 'NOUN', '', 'O', '')\n('operation', 'operation', 'NOUN', '', 'O', '')\n('designed', 'design', 'VERB', '', 'O', '')\n('address', 'address', 'VERB', '', 'O', '')\n('missing', 'miss', 'VERB', '', 'O', '')\n('middle', 'middle', 'ADJ', '', 'O', '')\n('challenge', 'challenge', 'NOUN', '', 'O', '')\n('women', 'woman', 'NOUN', '', 'O', '')\n('entrepreneurship', 'entrepreneurship', 'VERB', '', 'O', '')\n('development', 'development', 'NOUN', '', 'O', '')\n('project', 'project', 'NOUN', '', 'O', '')\n('wedp', 'wedp', 'PROPN', '', 'O', '')\n('aimed', 'aim', 'VERB', '', 'O', '')\n('increase', 'increase', 'VERB', '', 'O', '')\n('earnings', 'earning', 'NOUN', '', 'O', '')\n('employment', 'employment', 'NOUN', '', 'O', '')\n('female', 'female', 'NOUN', '', 'O', '')\n('owned', 'own', 'VERB', '', 'O', '')\n('micro', 'micro', 'ADJ', '', 'O', '')\n('small', 'small', 'ADJ', '', 'O', '')\n('enterprises', 'enterprise', 'NOUN', '', 'O', '')\n('improving', 'improve', 'VERB', '', 'O', '')\n('capacity', 'capacity', 'NOUN', '', 'O', '')\n('existing', 'exist', 'VERB', '', 'O', '')\n('microfinance', 'microfinance', 'NOUN', '', 'O', '')\n('institutions', 'institution', 'NOUN', '', 'O', '')\n('serve', 'serve', 'VERB', '', 'O', '')\n('female', 'female', 'ADJ', '', 'O', '')\n('entrepreneurs', 'entrepreneur', 'NOUN', '', 'O', '')\n('mfis', 'mfi', 'NOUN', '', 'O', '')\n('provided', 'provide', 'VERB', '', 'O', '')\n('tools', 'tool', 'NOUN', '', 'O', '')\n('technical', 'technical', 'ADJ', '', 'O', '')\n('assistance', 'assistance', 'NOUN', '', 'O', '')\n('liquidity', 'liquidity', 'NOUN', '', 'O', '')\n('allow', 'allow', 'VERB', '', 'O', '')\n('upscale', 'upscale', 'VERB', '', 'O', '')\n('provider', 'provider', 'NOUN', '', 'O', '')\n('larger', 'large', 'ADJ', '', 'O', '')\n('individual', 'individual', 'ADJ', '', 'O', '')\n('loans', 'loan', 'NOUN', '', 'O', '')\n('growth', 'growth', 'NOUN', '', 'O', '')\n('oriented', 'orient', 'VERB', '', 'O', '')\n('women', 'woman', 'NOUN', '', 'O', '')\n('entrepreneurs', 'entrepreneur', 'NOUN', '', 'O', '')\n('needed', 'need', 'VERB', '', 'O', '')\n('addition', 'addition', 'NOUN', '', 'O', '')\n('introducing', 'introduce', 'VERB', '', 'O', '')\n('mfis', 'mfis', 'NOUN', '', 'O', '')\n('existing', 'exist', 'VERB', '', 'O', '')\n('best', 'good', 'ADJ', '', 'O', '')\n('practices', 'practice', 'NOUN', '', 'O', '')\n('individual', 'individual', 'ADJ', '', 'O', '')\n('lending', 'lending', 'NOUN', '', 'O', '')\n('world', 'world', 'PROPN', '', 'O', '')\n('bank', 'bank', 'PROPN', '', 'O', '')\n('team', 'team', 'NOUN', '', 'O', '')\n('sought', 'seek', 'VERB', '', 'O', '')\n('introduce', 'introduce', 'VERB', '', 'O', '')\n('innovations', 'innovation', 'NOUN', '', 'O', '')\n('could', 'could', 'VERB', '', 'O', '')\n('enable', 'enable', 'VERB', '', 'O', '')\n('mfis', 'mfis', 'NOUN', '', 'O', '')\n('reach', 'reach', 'VERB', '', 'O', '')\n('greater', 'great', 'ADJ', '', 'O', '')\n('number', 'number', 'NOUN', '', 'O', '')\n('women', 'woman', 'NOUN', '', 'O', '')\n('entrepreneurs', 'entrepreneur', 'NOUN', '', 'O', '')\n('individual', 'individual', 'ADJ', '', 'O', '')\n('loans', 'loan', 'NOUN', '', 'O', '')\n('see', 'see', 'VERB', '', 'O', '')\n('exhibit', 'exhibit', 'NOUN', '', 'O', '')\n('lender', 'lender', 'NOUN', '', 'O', '')\n('fintech', 'fintech', 'NOUN', '', 'O', '')\n('deciding', 'decide', 'VERB', '', 'O', '')\n('psychometric', 'psychometric', 'ADJ', '', 'O', '')\n('credit', 'credit', 'NOUN', '', 'O', '')\n('assessment', 'assessment', 'NOUN', '', 'O', '')\n('tool', 'tool', 'NOUN', '', 'O', '')\n('next', 'next', 'ADJ', '', 'O', '')\n('step', 'step', 'NOUN', '', 'O', '')\n('decide', 'decide', 'VERB', '', 'O', '')\n('microfinance', 'microfinance', 'NOUN', '', 'O', '')\n('institution', 'institution', 'NOUN', '', 'O', '')\n('would', 'would', 'VERB', '', 'O', '')\n('best', 'good', 'ADJ', '', 'O', '')\n('partner', 'partner', 'NOUN', '', 'O', '')\n('pilot', 'pilot', 'NOUN', '', 'O', '')\n('time', 'time', 'NOUN', '', 'O', '')\n('wedp', 'wedp', 'PROPN', '', 'O', '')\n('project', 'project', 'NOUN', '', 'O', '')\n('involved', 'involve', 'VERB', '', 'O', '')\n('country', 'country', 'NOUN', '', 'O', '')\n('leading', 'lead', 'VERB', '', 'O', '')\n('mfis', 'mfis', 'NOUN', '', 'O', '')\n('introducing', 'introduce', 'VERB', '', 'O', '')\n('technology', 'technology', 'NOUN', '', 'O', '')\n('conducting', 'conduct', 'VERB', '', 'O', '')\n('careful', 'careful', 'ADJ', '', 'O', '')\n('assessment', 'assessment', 'NOUN', '', 'O', '')\n('mfi', 'mfi', 'PROPN', '', 'O', '')\n('amhara', 'amhara', 'PROPN', '', 'O', '')\n('credit', 'credit', 'NOUN', '', 'O', '')\n('savings', 'savings', 'PROPN', '', 'O', '')\n('institute', 'institute', 'PROPN', '', 'O', '')\n('acsi', 'acsi', 'PROPN', '', 'O', '')\n('came', 'come', 'VERB', '', 'O', '')\n('leading', 'lead', 'VERB', '', 'O', '')\n('candidate', 'candidate', 'NOUN', '', 'O', '')\n('located', 'locate', 'VERB', '', 'O', '')\n('amhara', 'amhara', 'PROPN', '', 'O', '')\n('region', 'region', 'NOUN', '', 'O', '')\n('acsi', 'acsi', 'PROPN', '', 'O', '')\n('largest', 'large', 'ADJ', '', 'O', '')\n('mfi', 'mfi', 'PROPN', '', 'O', '')\n('country', 'country', 'NOUN', '', 'O', '')\n('active', 'active', 'ADJ', '', 'O', '')\n('borrowers', 'borrower', 'NOUN', '', 'O', '')\n('branches', 'branch', 'NOUN', '', 'O', '')\n('see', 'see', 'VERB', '', 'O', '')\n('exhibit', 'exhibit', 'NOUN', '', 'O', '')\n('acsi', 'acsi', 'PROPN', '', 'O', '')\n('established', 'establish', 'VERB', '', 'O', '')\n('business', 'business', 'NOUN', '', 'O', '')\n('group', 'group', 'NOUN', '', 'O', '')\n('lending', 'lending', 'NOUN', '', 'O', '')\n('market', 'market', 'NOUN', '', 'O', '')\n('individual', 'individual', 'ADJ', '', 'O', '')\n('lending', 'lending', 'NOUN', '', 'O', '')\n('new', 'new', 'ADJ', '', 'O', '')\n('product', 'product', 'NOUN', '', 'O', '')\n('line', 'line', 'NOUN', '', 'O', '')\n('individual', 'individual', 'ADJ', '', 'O', '')\n('loans', 'loan', 'NOUN', '', 'O', '')\n('made', 'make', 'VERB', '', 'O', '')\n('lending', 'lending', 'NOUN', '', 'O', '')\n('portfolio', 'portfolio', 'NOUN', '', 'O', '')\n('screening', 'screening', 'NOUN', '', 'O', '')\n('individual', 'individual', 'ADJ', '', 'O', '')\n('loans', 'loan', 'NOUN', '', 'O', '')\n('based', 'base', 'VERB', '', 'O', '')\n('traditional', 'traditional', 'ADJ', '', 'O', '')\n('appraisal', 'appraisal', 'NOUN', '', 'O', '')\n('mechanism', 'mechanism', 'NOUN', '', 'O', '')\n('relied', 'rely', 'VERB', '', 'O', '')\n('existence', 'existence', 'NOUN', '', 'O', '')\n('fixed', 'fix', 'VERB', '', 'O', '')\n('asset', 'asset', 'NOUN', '', 'O', '')\n('collateral', 'collateral', 'NOUN', '', 'O', '')\n('such', 'such', 'ADJ', '', 'O', '')\n('houses', 'house', 'NOUN', '', 'O', '')\n('buildings', 'building', 'NOUN', '', 'O', '')\n('acsi', 'acsi', 'PROPN', '', 'O', '')\n('saw', 'see', 'VERB', '', 'O', '')\n('pilot', 'pilot', 'NOUN', '', 'O', '')\n('project', 'project', 'NOUN', '', 'O', '')\n('opportunity', 'opportunity', 'NOUN', '', 'O', '')\n('improve', 'improve', 'VERB', '', 'O', '')\n('ability', 'ability', 'NOUN', '', 'O', '')\n('lend', 'lend', 'VERB', '', 'O', '')\n('individual', 'individual', 'ADJ', '', 'O', '')\n('basis', 'basis', 'NOUN', '', 'O', '')\n('optimistic', 'optimistic', 'ADJ', '', 'O', '')\n('psychometric', 'psychometric', 'ADJ', '', 'O', '')\n('score', 'score', 'NOUN', '', 'O', '')\n('could', 'could', 'VERB', '', 'O', '')\n('used', 'use', 'VERB', '', 'O', '')\n('help', 'help', 'VERB', '', 'O', '')\n('graduate', 'graduate', 'VERB', '', 'O', '')\n('group', 'group', 'NOUN', '', 'O', '')\n('borrowers', 'borrower', 'NOUN', '', 'O', '')\n('lacked', 'lack', 'VERB', '', 'O', '')\n('collateral', 'collateral', 'NOUN', '', 'O', '')\n('qualify', 'qualify', 'VERB', '', 'O', '')\n('individual', 'individual', 'ADJ', '', 'O', '')\n('loans', 'loan', 'NOUN', '', 'O', '')\n('current', 'current', 'ADJ', '', 'O', '')\n('credit', 'credit', 'NOUN', '', 'O', '')\n('assessment', 'assessment', 'NOUN', '', 'O', '')\n('processes', 'process', 'VERB', '', 'O', '')\n('would', 'would', 'VERB', '', 'O', '')\n('allow', 'allow', 'VERB', '', 'O', '')\n('former', 'former', 'ADJ', '', 'O', '')\n('group', 'group', 'NOUN', '', 'O', '')\n('borrowers', 'borrower', 'NOUN', '', 'O', '')\n('access', 'access', 'VERB', '', 'O', '')\n('sme', 'sme', 'NOUN', '', 'O', '')\n('finance', 'finance', 'NOUN', '', 'O', '')\n('addressing', 'address', 'VERB', '', 'O', '')\n('missing', 'miss', 'VERB', '', 'O', '')\n('group', 'group', 'NOUN', '', 'O', '')\n('women', 'woman', 'NOUN', '', 'O', '')\n('economic', 'economic', 'ADJ', '', 'O', '')\n('opportunity', 'opportunity', 'NOUN', '', 'O', '')\n('index', 'index', 'NOUN', '', 'O', '')\n('economist', 'economist', 'NOUN', '', 'O', '')\n('exhibit', 'exhibit', 'NOUN', 'LAW', 'B', '')\n('name', 'name', 'NOUN', '', 'O', '')\n('acsi', 'acsi', 'NOUN', '', 'O', '')\n('active', 'active', 'ADJ', '', 'O', '')\n('borrowers', 'borrower', 'NOUN', '', 'O', '')\n('women', 'woman', 'NOUN', '', 'O', '')\n('borrowers', 'borrower', 'VERB', '', 'O', '')\n('loans', 'loan', 'NOUN', '', 'O', '')\n('outstanding', 'outstanding', 'ADJ', '', 'O', '')\n('voluntary', 'voluntary', 'ADJ', '', 'O', '')\n('saving', 'saving', 'NOUN', '', 'O', '')\n('compulsory', 'compulsory', 'ADJ', '', 'O', '')\n('saving', 'saving', 'NOUN', '', 'O', '')\n('total', 'total', 'ADJ', '', 'O', '')\n('saving', 'saving', 'NOUN', '', 'O', '')\n('total', 'total', 'ADJ', '', 'O', '')\n('asset', 'asset', 'NOUN', '', 'O', '')\n('total', 'total', 'ADJ', '', 'O', '')\n('liabilities', 'liability', 'NOUN', '', 'O', '')\n('total', 'total', 'ADJ', '', 'O', '')\n('capital', 'capital', 'PROPN', '', 'O', '')\n('association', 'association', 'PROPN', '', 'O', '')\n('ethiopian', 'ethiopian', 'PROPN', '', 'O', '')\n('microfinance', 'microfinance', 'PROPN', '', 'O', '')\n('institutions', 'institution', 'NOUN', '', 'O', '')\n('aemfi', 'aemfi', 'PROPN', '', 'O', '')\n('data', 'data', 'PROPN', '', 'O', '')\n('acsi', 'acsi', 'PROPN', '', 'O', '')\n('mfi', 'mfi', 'PROPN', '', 'O', '')\n('etb', 'etb', 'PROPN', '', 'O', '')\n('usd', 'usd', 'PROPN', '', 'O', '')\nCPU times: user 109 ms, sys: 13.9 ms, total: 123 ms\nWall time: 121 ms\n"
    }
   ],
   "source": [
    "%%time\n",
    "page_num = 49\n",
    "text = re.sub('\\s+', ' ', txt_parsed[page_num].replace('\\n', ' '))\n",
    "# text = re.sub('\\s+', ' ', xmlB.text.replace('\\n', ' ').replace('’', \"'\").replace('“', '\"').replace('”', '\"')).strip()\n",
    "\n",
    "clean_text(text, LDA_POS_TAGS, LDA_INVALID_ENT_TYPE)"
   ]
  },
  {
   "cell_type": "code",
   "execution_count": 532,
   "metadata": {},
   "outputs": [
    {
     "output_type": "execute_result",
     "data": {
      "text/plain": "['Ovid',\n 'caved',\n 'covet',\n \"cove's\",\n 'vivid',\n 'cavity',\n 'covert',\n 'coif',\n 'ovoid',\n 'COD',\n 'Cod',\n 'cod',\n 'avoid',\n 'copied',\n 'coves',\n 'livid',\n 'carved',\n 'coed',\n 'cord',\n 'cove',\n 'curved',\n 'jived',\n 'avid',\n 'cold',\n 'govt',\n 'cooed',\n 'cover',\n 'covey',\n 'Cupid',\n 'David',\n 'cavil',\n 'coded',\n 'coked',\n 'coned',\n 'coped',\n 'cored',\n 'could',\n 'coven',\n 'cowed',\n 'coxed',\n 'cupid',\n 'loved',\n 'moved',\n 'roved',\n 'gyved']"
     },
     "metadata": {},
     "execution_count": 532
    }
   ],
   "source": [
    "en.suggest('covid19')"
   ]
  },
  {
   "cell_type": "code",
   "execution_count": 480,
   "metadata": {},
   "outputs": [
    {
     "output_type": "execute_result",
     "data": {
      "text/plain": "'B ette r Lo a n s o r B ette r B o r rowe r s? I m p a ct o f M e s o - C re d i t o n Fe m a l e - O w n e d E nte r p r i s e s i n Et h i o p i a44 IMPACT OF WEDP LOANS 25 Figure 3. Probability of receiving a loan based on observable characteristics Figure 4. Probit regression of propensity score and test of balancing property Probit Regression of Propensity Score Figure 4. Probit Regression of Propensity Score and Test of Balancing Property'"
     },
     "metadata": {},
     "execution_count": 480
    }
   ],
   "source": [
    "text = re.sub('\\s+', ' ', xmlB.find_all('div', attrs={'class': 'page'})[page_num].text.replace('\\n', ' ').replace('’', \"'\").replace('“', '\"').replace('”', '\"')).strip()\n",
    "text"
   ]
  },
  {
   "cell_type": "code",
   "execution_count": 483,
   "metadata": {},
   "outputs": [
    {
     "output_type": "execute_result",
     "data": {
      "text/plain": "<div class=\"page\"><p></p>\n<p>B ette r  Lo a n s  o r  B ette r  B o r rowe r s?  I m p a ct  o f  M e s o - C re d i t  o n  Fe m a l e - O w n e d  E nte r p r i s e s  i n  Et h i o p i a44\n</p>\n<p>IMPACT OF WEDP LOANS 25\n</p>\n<p>Figure 3. Probability of receiving a loan based on observable characteristics\n</p>\n<p>Figure 4. Probit regression of propensity score and test of balancing property\n</p>\n<p>Probit Regression of Propensity Score\nFigure 4. Probit Regression of Propensity Score and  \n</p>\n<p>Test of Balancing Property</p>\n<p></p>\n</div>"
     },
     "metadata": {},
     "execution_count": 483
    }
   ],
   "source": [
    "xmlB.find_all('div', attrs={'class': 'page'})[page_num]"
   ]
  },
  {
   "cell_type": "code",
   "execution_count": null,
   "metadata": {},
   "outputs": [],
   "source": []
  },
  {
   "cell_type": "code",
   "execution_count": 456,
   "metadata": {
    "tags": []
   },
   "outputs": [
    {
     "output_type": "stream",
     "name": "stdout",
     "text": "CPU times: user 2.98 ms, sys: 2 µs, total: 2.98 ms\nWall time: 2.99 ms\n"
    },
    {
     "output_type": "execute_result",
     "data": {
      "text/plain": "[('Ethiopia', True, 'Ethiopia', 'COUNTRY', 'PROPN', 'ETH'),\n ('Ethiopia', True, 'Ethiopia', 'COUNTRY', 'PROPN', 'ETH'),\n ('Ethiopia', True, 'Ethiopia', 'COUNTRY', 'PROPN', 'ETH'),\n ('Ethiopia', True, 'Ethiopia', 'COUNTRY', 'PROPN', 'ETH'),\n ('Ethiopia', True, 'Ethiopia', 'COUNTRY', 'PROPN', 'ETH'),\n ('Ethiopia', True, 'Ethiopia', 'COUNTRY', 'PROPN', 'ETH'),\n ('Ethiopia', True, 'Ethiopia', 'COUNTRY', 'PROPN', 'ETH'),\n ('Ethiopia', True, 'Ethiopia', 'COUNTRY', 'PROPN', 'ETH'),\n ('Ethiopia', True, 'Ethiopia', 'COUNTRY', 'PROPN', 'ETH'),\n ('Ethiopia', True, 'Ethiopia', 'COUNTRY', 'PROPN', 'ETH'),\n ('Ethiopia', True, 'Ethiopia', 'COUNTRY', 'PROPN', 'ETH')]"
     },
     "metadata": {},
     "execution_count": 456
    }
   ],
   "source": [
    "page_num = 49\n",
    "text = re.sub('\\s+', ' ', xmlB.find_all('div', attrs={'class': 'page'})[page_num].text.replace('\\n', ' ').replace('’', \"'\").replace('“', '\"').replace('”', '\"')).strip()\n",
    "doc1 = nlp(text)\n",
    "\n",
    "docs1 = [s for s in doc1.sents]\n",
    "\n",
    "# for s in docs1:\n",
    "#     print(s)\n",
    "#     print('------')\n",
    "\n",
    "text = re.sub('\\s+', ' ', txt_parsed[page_num].replace('\\n', ' '))\n",
    "# doc2 = nlp(re.sub('\\s+', ' ', txt_parsed[page_num].replace('\\n', ' ')))\n",
    "doc2 = nlp(text)\n",
    "\n",
    "docs2 = [s for s in doc2.sents]\n",
    "\n",
    "# for s in docs2:\n",
    "#     print(s)\n",
    "#     print('------')\n",
    "\n",
    "# len(docs1) == len(docs2)\n",
    "\n",
    "# np.where(np.array([d1.text.strip() == d2.text.strip() for d1, d2 in zip(docs1, docs2)]) != True)\n",
    "\n",
    "%time countries = [(t._.normalized, t._.is_country, t.lemma_, t.ent_type_, t.pos_, t._.code) for t in ce(doc2) if t._.is_country]\n",
    "countries"
   ]
  },
  {
   "cell_type": "code",
   "execution_count": 457,
   "metadata": {},
   "outputs": [
    {
     "output_type": "execute_result",
     "data": {
      "text/plain": "D i s r u p t i ve F i n a n ce U s i n g P syc h o m et r i c s to O ve rco m e Co l l ate ra l Co n st ra i nt s i n Et h i o p i a50 5 Disruptive Finance: Using Psychometrics to Overcome Collateral Constraints in Ethiopia February 2019 The Situation in Ethiopia Over the past decade, Ethiopia has achieved high economic growth, establishing the country among the fastest growing economies both in Africa and the developing world. However, Ethiopia is falling behind its peers in the area of provision of credit to the private sector. According to the World Bank's Enterprise Surveys access to finance is perceived as the main business environment constraint by micro (41%), small (36%) and medium (29%) enterprises in Ethiopia, compared to a Sub-Saharan average of 24%, 20% and 16% respectively.13 Access to finance is a challenge for men and women alike but difficulties are amplified for women, who are less likely to own assets, and opportunities for women entrepreneurs in Ethiopia lag far behind those of men. In the Economist's Women's Economic Opportunity index, Ethiopia occupies the 123rd rank out of 128 countries. _14 Most growth-oriented women entrepreneurs fall into a ‘missing middle' trap, in which they are served neither by commercial banks nor by microfinance situations. High minimum loan sizes and excessive collateral constraints restrict women's access to loans from commercial banks. Microfinance institutions (MFIs) often lend without asset collateral, but they primarily cater to micro-firms with group lending schemes that provide very small loans, which are not sufficient in size to support business growth. In 2012, a $50 million World Bank investment lending operation was designed to address this missing middle challenge. The Women Entrepreneurship Development Project (WEDP) aimed to increase the earnings and employment of female-owned micro and small enterprises in Ethiopia, by improving the capacity of existing microfinance institutions to serve female entrepreneurs. To do this, MFIs were provided with tools, technical assistance, and liquidity to allow them to ‘upscale' and provider larger, individual loans to growth-oriented women entrepreneurs who needed them. In addition to introducing MFIs to existing best practices in individual lending, the World Bank team also sought to introduce innovations that could enable MFIs to reach a greater number of women entrepreneurs with individual loans (See Exhibit 3). The Lender and the Fintech After deciding on EFL's psychometric credit assessment tool, the next step was to decide which microfinance institution in Ethiopia would be the best partner for a pilot. At the time, the WEDP project involved 7 of the country's leading MFIs. After introducing the technology to each of them and conducting a careful assessment, one MFI - the Amhara Credit and Savings Institute (ACSI) - came out as the leading candidate. Located in the Amhara region of Ethiopia, ACSI was the largest MFI in the country, with over 1 million active borrowers and 440 branches (See Exhibit 4). ACSI had a well-established business in the group lending market but individual lending was still a new product line. Individual loans made up just over 10% of ACSI's lending portfolio and screening for individual loans was still based on a traditional appraisal mechanism that relied heavily on the existence of fixed asset collateral, such as houses or buildings. ACSI saw the pilot project as an opportunity to improve their ability to lend on an individual basis. They were optimistic that the psychometric score could be used to help graduate group borrowers who lacked collateral and therefore did not qualify for individual loans under the current credit assessment processes. This would allow former group borrowers to access 13 \"SME Finance in Ethiopia: Addressing the Missing Middle Challenge\",World Bank Group, 2015, documents.worldbank.org/curated/en/805371468247458154/ pdf/943650WP0Box380nt0Feb01002015040Web.pdf. 14 \"Women's Economic Opportunity Index 2012\", The Economist, www.eiu.com/Handlers/WhitepaperHandler.ashx?fi=WEO_full_report_final. pdf&mode=wp&campaignid=weoindex2012. EXHIBIT 4 Name ACSI No. of Active Borrowers 1,056,390 No. of Women Borrowers 621,245 Loans Outstanding 8,568,663,201 Voluntary Saving 7,431,441,029 Compulsory Saving 787,699,181 Total Saving 8,219,140,210 Total Asset 13,898,277,412 Total Liabilities 10,668,396,923 Total Capital 3,229,880,489 Association of Ethiopian Microfinance Institutions (AEMFI) Data on ACSI MFI 1st Quarter - March 31, 2016 ETB = .046 USD"
     },
     "metadata": {},
     "execution_count": 457
    }
   ],
   "source": [
    "doc2"
   ]
  },
  {
   "cell_type": "code",
   "execution_count": 288,
   "metadata": {},
   "outputs": [
    {
     "output_type": "execute_result",
     "data": {
      "text/plain": "(At the end of 2017, after securing external financing from Italy (USD 15.8 million) and Japan (USD 50 million), WEDP entered its second phase, expanding into 4 additional cities,4 adopting new technologies and innovations, and consolidating its interventions.,\n _3 Shortly thereafter, a WEDP revolving fund was approved to replenish the line of credit from repaid principals.)"
     },
     "metadata": {},
     "execution_count": 288
    }
   ],
   "source": [
    "ix = 29\n",
    "docs1[ix - 1], docs2[ix]"
   ]
  },
  {
   "cell_type": "code",
   "execution_count": 289,
   "metadata": {
    "tags": []
   },
   "outputs": [],
   "source": [
    "for e, s in enumerate(doc2.sents):\n",
    "    # print(s)\n",
    "    # print('------')\n",
    "    if e == ix:\n",
    "        break"
   ]
  },
  {
   "cell_type": "code",
   "execution_count": 290,
   "metadata": {},
   "outputs": [
    {
     "output_type": "execute_result",
     "data": {
      "text/plain": "_3 Shortly thereafter, a WEDP revolving fund was approved to replenish the line of credit from repaid principals."
     },
     "metadata": {},
     "execution_count": 290
    }
   ],
   "source": [
    "t = s[0]\n",
    "s"
   ]
  },
  {
   "cell_type": "code",
   "execution_count": 437,
   "metadata": {},
   "outputs": [],
   "source": []
  },
  {
   "cell_type": "code",
   "execution_count": 439,
   "metadata": {},
   "outputs": [],
   "source": []
  },
  {
   "cell_type": "code",
   "execution_count": 454,
   "metadata": {
    "tags": []
   },
   "outputs": [
    {
     "output_type": "stream",
     "name": "stdout",
     "text": "CPU times: user 5.06 ms, sys: 48 µs, total: 5.11 ms\nWall time: 5.14 ms\n"
    },
    {
     "output_type": "execute_result",
     "data": {
      "text/plain": "[('Ethiopia', True, 'Ethiopia', 'COUNTRY', 'PROPN', 'ETH'),\n ('Ethiopia', True, 'Ethiopia', 'COUNTRY', 'PROPN', 'ETH'),\n ('Peru', True, 'Peru', 'COUNTRY', 'PROPN', 'PER'),\n ('Mexico', True, 'Mexico', 'COUNTRY', 'PROPN', 'MEX'),\n ('Guatemala', True, 'Guatemala', 'COUNTRY', 'PROPN', 'GTM'),\n ('Ecuador', True, 'Ecuador', 'COUNTRY', 'PROPN', 'ECU'),\n ('India', True, 'India', 'COUNTRY', 'PROPN', 'IND'),\n ('Indonesia', True, 'Indonesia', 'COUNTRY', 'PROPN', 'IDN'),\n ('Kenya', True, 'Kenya', 'COUNTRY', 'PROPN', 'KEN'),\n ('Ghana', True, 'Ghana', 'COUNTRY', 'PROPN', 'GHA'),\n ('Ethiopia', True, 'Ethiopia', 'COUNTRY', 'PROPN', 'ETH'),\n ('Ethiopia', True, 'Ethiopia', 'COUNTRY', 'PROPN', 'ETH'),\n ('Ethiopia', True, 'Ethiopia', 'COUNTRY', 'PROPN', 'ETH'),\n ('Japan', True, 'Japan', 'COUNTRY', 'PROPN', 'JPN'),\n ('Italy', True, 'Italy', 'COUNTRY', 'PROPN', 'ITA'),\n ('Canada', True, 'Canada', 'COUNTRY', 'PROPN', 'CAN')]"
     },
     "metadata": {},
     "execution_count": 454
    }
   ],
   "source": []
  },
  {
   "cell_type": "code",
   "execution_count": 453,
   "metadata": {},
   "outputs": [
    {
     "output_type": "execute_result",
     "data": {
      "text/plain": "[('Ethiopia', True, 'Ethiopia', 'COUNTRY', 'PROPN', 'ETH'),\n ('Ethiopia', True, 'Ethiopia', 'COUNTRY', 'PROPN', 'ETH'),\n ('Peru', True, 'Peru', 'COUNTRY', 'PROPN', 'PER'),\n ('Mexico', True, 'Mexico', 'COUNTRY', 'PROPN', 'MEX'),\n ('Guatemala', True, 'Guatemala', 'COUNTRY', 'PROPN', 'GTM'),\n ('Ecuador', True, 'Ecuador', 'COUNTRY', 'PROPN', 'ECU'),\n ('India', True, 'India', 'COUNTRY', 'PROPN', 'IND'),\n ('Indonesia', True, 'Indonesia', 'COUNTRY', 'PROPN', 'IDN'),\n ('Kenya', True, 'Kenya', 'COUNTRY', 'PROPN', 'KEN'),\n ('Ghana', True, 'Ghana', 'COUNTRY', 'PROPN', 'GHA'),\n ('Ethiopia', True, 'Ethiopia', 'COUNTRY', 'PROPN', 'ETH'),\n ('Ethiopia', True, 'Ethiopia', 'COUNTRY', 'PROPN', 'ETH'),\n ('Ethiopia', True, 'Ethiopia', 'COUNTRY', 'PROPN', 'ETH'),\n ('Japan', True, 'Japan', 'COUNTRY', 'PROPN', 'JPN'),\n ('Italy', True, 'Italy', 'COUNTRY', 'PROPN', 'ITA'),\n ('Canada', True, 'Canada', 'COUNTRY', 'PROPN', 'CAN')]"
     },
     "metadata": {},
     "execution_count": 453
    }
   ],
   "source": []
  },
  {
   "cell_type": "code",
   "execution_count": 448,
   "metadata": {},
   "outputs": [
    {
     "output_type": "execute_result",
     "data": {
      "text/plain": "5M ay 2 02 0 As of December 2019, approximately 36,000 women entrepreneurs registered for WEDP. Of these, ETB 3.96 billion (USD 158.1 million) _5 has been disbursed to 13,870 clients, of which 59.8 percent (ETB 2.37 billion) were from donor funds, while the MFI internal funds (ETB 1.05 billion) and revolving fund (ETB 540 million) comprised the remaining 26.6 percent and 13.6 percent, respectively. Moreover, a total of 20,744 women entrepreneurs have participated in entrepreneurial trainings across 10 cities, with a 98.6 percent completion rate. Demand for loans and training shows little sign of abating, as women entrepreneurs from across various sectors, including trade, services, manufacturing, construction and agriculture, continue to register for the project. WEDP has been widely recognized for its achievements in empowering women entrepreneurs and for raising their profile throughout Ethiopia's financial system. The project model has demonstrated how an incentives-based strategy, coupled with hands-on management and a robust monitoring and evaluation system, can converge to successfully address a persistent constraint. In this document, we articulate some of the main conceptual and practical elements underpinning WEDP's model. Following this lessons piece, we present a collection of research and knowledge documents produced by the project thus far. We hope these lessons and experiences can inform practitioners with insights on working with the MSE sector, with a focus on applying a strong gender lens to reach a promising but underserved market segment: women entrepreneurs. 1 The response to and results of WEDP's line of credit demonstrated that growth-oriented women entrepreneurs are a high-value investment for financial institutions. Although access to finance is crucial to any business' productivity and growth trajectory, major gaps persist in Ethiopia. According to the World Bank's 2015 Enterprise Survey, access to finance was perceived as the top business environment constraint by enterprises in Ethiopia. _6 Like in many emerging markets, Ethiopia is characterized by the \"missing middle\" phenomenon, where small firms are neither being served by commercial banks nor by microfinance institutions (MFIs). Commercial banks rarely lend in amounts below USD 50,000, whereas MFIs mostly offer group loans that do not exceed USD 1,500. The financing difficulties are especially acute for women entrepreneurs, who face greater structural and cultural barriers than their male counterparts. Women entrepreneurs tend to have less education than men, shorter histories of viable businesses, less mobility and limited business networks. Most importantly, they often lack the assets, such as a house, needed as collateral for loans. All in all, they are typically deemed \"riskier\" by financial institutions. The response to WEDP's line of credit highlights an urgent need that had been previously unmet. In January 2014, the first month of disbursement, the average WEDP loan was ETB 242,364 (USD 12,354) – which was nine times the size of the average pre-WEDP MFI loan of ETB 27,000 (USD 1,376). _7 Since then, the average WEDP loan size has been steadily increasing, with the average loan size in December 2019 amounting to ETB 417,634 (USD 14,297).8 To investigate the impact of WEDP loans, a baseline study was carried out in 2014 with 2,369 women entrepreneurs from six Ethiopian cities. The survey instrument included questions about household demographic characteristics, socioeconomic status, business sales, profits, costs, employees, entrepreneurial profile, business knowledge and level of financial literacy. A midline survey was conducted approximately three years later for 2,139 firms, which is 90 percent of the baseline sample. Since receiving a loan is not a random assignment, the study utilized a propensity score matching (PSM) technique to compare the impact of WEDP loans between borrowers and a statistically matched group of non-borrowers. 5 The total cumulative disbursement in USD was calculated by utilizing the average annual exchange rates for each given year's total disbursement: 2014 (USD 1 = ETB 19.6175): USD 23.28 million; 2015 (USD 1 = ETB 20.6862): USD 24.83 million; 2016 (USD 1 = ETB 21.8377): USD 17.88 million; 2017 (USD 1 = ETB 23.9673): USD 24.52 million; 2018 (USD 1 = ETB 27.6677): USD 28.76 million; 2019 (USD 1 = ETB 29.2123): USD 39.06 million. 6 World Bank (2016). Enterprise Survey: Ethiopia, 2015-2016. https://www.enterprisesurveys.org/en/data/exploreeconomies/2015/ethiopia 7 2014 average exchange rate of USD 1 = ETB 19.6175. 8 2019 average exchange rate of USD 1 = ETB 29.2123."
     },
     "metadata": {},
     "execution_count": 448
    }
   ],
   "source": [
    "doc2"
   ]
  },
  {
   "cell_type": "code",
   "execution_count": 292,
   "metadata": {
    "tags": []
   },
   "outputs": [
    {
     "output_type": "stream",
     "name": "stdout",
     "text": "CPU times: user 1.37 s, sys: 53.8 ms, total: 1.43 s\nWall time: 1.57 s\n"
    }
   ],
   "source": [
    "%%time\n",
    "\n",
    "import pkg_resources\n",
    "from symspellpy.symspellpy import SymSpell\n",
    "\n",
    "# Set max_dictionary_edit_distance to avoid spelling correction\n",
    "sym_spell = SymSpell(max_dictionary_edit_distance=0, prefix_length=7)\n",
    "dictionary_path = pkg_resources.resource_filename(\n",
    "    \"symspellpy\", \"frequency_dictionary_en_82_765.txt\")\n",
    "# term_index is the column of the term and count_index is the\n",
    "# column of the term frequency\n",
    "sym_spell.load_dictionary(dictionary_path, term_index=0, count_index=1)\n",
    "\n",
    "# a sentence without any spaces\n",
    "# input_term = \"thequickbrownfoxjumpsoverthelazydog\"\n",
    "input_term = re.sub('\\s+', '', text)\n",
    "result = sym_spell.word_segmentation(input_term)\n",
    "# print(\"{}, {}, {}\".format(result.corrected_string, result.distance_sum,\n",
    "#                           result.log_prob_sum))"
   ]
  },
  {
   "cell_type": "code",
   "execution_count": 296,
   "metadata": {
    "tags": []
   },
   "outputs": [
    {
     "output_type": "stream",
     "name": "stdout",
     "text": "De signing aCr edit Facility for Wo men Ent rep rene ursLes sons from the EthiopiaWo men Ent rep rene ur ship D eve lop men tProject(WEDP)4WEDP loans began disbursing in J anu ary2014 through 12 partner micro finance institutions (MFIs) across 6 targeted cities in Ethi-opia.1By the end of the calendar year , the project had issued ETB456.6 million (USD23.3 million )to1,863 women entrepreneurs – over half the dedicated line of credit .2WEDP clients represented abroad spectrum of Ethiopia's business community , ranging from retail stores to restaurants to beauty salons .A mong those who borrowed ,66 percent were first - time borrowers , and yet repayment rates were healthy , standing at 99.1 percent .In tandem ,3,083 women had participated in entrepreneurship trainings .By mid -2015, the high demand for credit had led to a rapid depletion of WEDP funds , prompting the project leadership to explore additional sources of financing .In light of the declining balance , partner MFIs began disbursing from their internal funds .T his was an unexpected positive development , given MFIs' liquidity challenges .3S hort ly thereafter ,aWEDP revolving fund was approved to replenish the line of credit from repaid principals .At the end of 2017, after securing external financing from Italy(USD15.8 million ) and Japan(USD50 million ),WEDP entered its second phase , expanding into 4 additional cities ,4 adopting new technologies and innovations , and consolidating its interventions .Add it ion al funds from the Eu rope an In vestment Bank(EIB,USD34 million ) allowed WEDP to further refine and scale its efforts .In total , the externally funded line of credit reached USD145.7 million , while loans also continued to be disbursed from the revolving fund and MFIs' internal funds .TotalCumu lati veD is burse men tan dC lien tsJ anu ary2014-Dec ember 2019YEARCUMULATIVEWEDPLOANCL IENTSCUMULATIVETOTALDISBURSE MENT(ETB)20K18K16K14K12K10K8 K6K4K2K0K4.0B3.5B3.0B2.5B2.0 B1.5B1.0B0.5B0.0B20142015201 62017201820193.96B13,8701Add is A baba ,Adama,BahirDar,DireDawa,Ha was sa, and Mek ell e.22014 average exchange rate of USD1=ETB19.6175.3T rio dos F ace t(2011).EthiopianWo men Ent rep rene ur ship Capa city Buil ding Stu dies .4Assela,Axum,D ill a, and Gondar.\n"
    }
   ],
   "source": [
    "print(result.corrected_string)"
   ]
  },
  {
   "cell_type": "code",
   "execution_count": 280,
   "metadata": {
    "tags": []
   },
   "outputs": [
    {
     "output_type": "stream",
     "name": "stdout",
     "text": "True\n"
    },
    {
     "output_type": "execute_result",
     "data": {
      "text/plain": "[('repaid', 'repay', 'VERB', '', 'O'),\n ('principal', 'principal', 'NOUN', '', 'O'),\n ('is', 'be', 'AUX', '', 'O'),\n ('beng', 'beng', 'NOUN', 'PERSON', 'B'),\n ('given', 'give', 'VERB', '', 'O'),\n ('to', 'to', 'ADP', '', 'O'),\n ('the', 'the', 'DET', '', 'O'),\n ('authority', 'authority', 'NOUN', '', 'O')]"
     },
     "metadata": {},
     "execution_count": 280
    }
   ],
   "source": [
    "s = nlp('repaid principal is beng given to the authority')\n",
    "print(s._.performed_spellCheck) \n",
    "[(t.text, t.lemma_, t.pos_, t.ent_type_, t.ent_iob_) for t in s]"
   ]
  },
  {
   "cell_type": "markdown",
   "metadata": {},
   "source": [
    "# Result from direct txt version"
   ]
  },
  {
   "cell_type": "code",
   "execution_count": 36,
   "metadata": {
    "tags": []
   },
   "outputs": [
    {
     "output_type": "stream",
     "name": "stdout",
     "text": "MALAWI ECONOMIC MONITOR MAY 2018\n\fOVERVIEW\n                                                          challenges related to erratic energy and water\nThe Malawi Economic Monitor (MEM) provides an\n                                                          supply, which had a particularly negative impact\nanalysis of economic and structural development\n                                                          on      manufacturing.    Within  services,    the\nissues in Malawi. This edition was published in May\n                                                          performance of the wholesale and retail trade and\n2018. It follows on from the six previous editions of\n                                                          distribution sub-sectors declined as a result of\nthe MEM and is part of an ongoing series, with\n                                                          subdued domestic demand.\nfuture editions to follow twice per year.\n                                                          The prevalence of low-productivity rain-fed\nThe aim of the publication is to foster better-\n                                                          agriculture constrains poverty reduction. With most\ninformed policy analysis and debate regarding the\n                                                          of the population engaged in subsistence rain-fed\nkey challenges that Malawi faces in its endeavor to\n                                                          agriculture in rural areas, macroeconomic\nachieve high rates of stable, inclusive and\n                                                          instability and the sub-optimal performance of the\nsustainable economic growth.\n                                                          agricultural sector have contributed to the slow\nThe MEM consists of two parts: Part 1 presents a          pace of poverty reduction. Current estimates using\nreview of recent economic developments and a              the international poverty line (US$1.90 per day)\nmacroeconomic outlook. Part 2 focuses on a                indicate that 69.4 percent of the population is\nspecial selected topic relevant to Malawi’s               classified as being poor in 2017.\ndevelopment prospects.\n                                                          With the fiscal deficit at around six percent of GDP\nIn this edition, the special topic focuses on Social      over the past several years, in FY 2016/17 it\nSafety Nets. This is a defining moment for Malawi to      declined to 4.8 percent. This was mainly due to\ntransform its safety net. The recently approved           strong revenue collection performance and\nsecond Malawi National Social Support Program             controlled spending. The FY2017/18 budget\n(MNSSP II) works towards the creation of a dynamic        envisioned an even stronger performance by\nsafety net system that is positioned to better            lowering the deficit to 4 percent of GDP. The\nrespond to persistent poverty, recurrent shocks and       Government called for prudence in public\na demographic dividend. There is now robust               expenditure, with a commitment to avoiding the\nevidence showing how social safety nets can be            recurrent slippages that have characterized fiscal\nan efficient way to break the cycle of poverty and        performance in the past, and to continuing efforts\nvulnerability in Malawi.         Despite the evidence,    to intensify revenue collection.\ncurrent expenditure trends are low in terms of\nneeds and regional comparators. Strengthening             Despite the promising budget presentation, at mid-\nthe efficiency of safety nets is possible by reforming    year, the deficit significantly deteriorated. This was\nthe mix of program interventions and the links            due principally to three factors: a fall in revenue\nbetween them. While the social safety net sector in       due to weaker economic activity; a one-off\nMalawi has all the components necessary to                securitization of payment arrears dating back to\nfacilitate transformative change, this will require       FY2012/13 (1.2 percent of GDP); and an increase in\ncritical shifts in policy, institutional and investment   expenditure associated with the Agricultural\npriorities.                                               Development        and     Marketing      Corporation\n                                                          (ADMARC) financing (about 1 percent of GDP).\nECONOMIC DEVELOPMENTS\n                                                          Inflationary pressure subdued in the latter half of\nThe key messages of this edition of the MEM are\n                                                          2017, with the year-on-year headline rate falling to\nabout economic recovery and cautious optimism.\n                                                          7.1 percent in December. The decline was largely\nMalawi’s GDP growth picked up in 2017, but is\n                                                          due to a fall in food inflation, from a high of 20\nexpected to moderate in 2018, tracking agricultural\n                                                          percent in December 2016 to 4.3 percent in\nproduction. The Government is striving to achieve\n                                                          December 2017. An interesting reversal in the\nbudgetary prudence, although it continues to face\n                                                          factors driving inflation was noted in this period,\nchallenges in revenue collection. In the context of\n                                                          with non-food inflation remaining sticky and slowing\nsubdued inflation, the Government is continuing to\n                                                          only marginally, from a peak of 15.4 percent in\ncautiously ease monetary policy.\n                                                          December 2016 to 10 percent a year later. In 2017,\nAfter two years of depressed economic activity, the       the decline in food inflation was due to the bumper\nreal GDP growth picked up to 4 percent in 2017.           harvest during the 2016/17 growing season,\nWith a rebound in agricultural production, the            together with the maize export ban and carryover\nprospects for growth were generally positive.             stock from the humanitarian food purchases. These\nHowever, performance in the industrial and services       factors led to an abundant food supply and\nsectors was much weaker than anticipated.                 subdued prices.\nIndustry was adversely impacted by structural\n\n1 « MALAWI ECONOMIC MONITOR MAY 2018\n\fIn the context of the significant decline in headline         This could be further improved through efforts\ninflation, the RBM has continued to ease monetary             to broaden the tax base and to strengthen\npolicy. Since November 2016, t\n"
    }
   ],
   "source": [
    "print(txt_original[12850:20000])"
   ]
  },
  {
   "cell_type": "markdown",
   "metadata": {
    "tags": []
   },
   "source": [
    "# Result from PDFDoc2Txt"
   ]
  },
  {
   "cell_type": "code",
   "execution_count": 39,
   "metadata": {
    "tags": []
   },
   "outputs": [
    {
     "output_type": "stream",
     "name": "stdout",
     "text": "1 « MALAWI ECONOMIC MONITOR MAY 2018\n\nOVERVIEW The Malawi Economic Monitor (MEM) provides an analysis of economic and structural development issues in Malawi. This edition was published in May 2018. It follows on from the six previous editions of the MEM and is part of an ongoing series, with future editions to follow twice per year.\n\nThe aim of the publication is to foster better- informed policy analysis and debate regarding the key challenges that Malawi faces in its endeavor to achieve high rates of stable, inclusive and sustainable economic growth.\n\nThe MEM consists of two parts: Part 1 presents a review of recent economic developments and a macroeconomic outlook. Part 2 focuses on a special selected topic relevant to Malawi's development prospects.\n\nIn this edition, the special topic focuses on Social Safety Nets. This is a defining moment for Malawi to transform its safety net. The recently approved second Malawi National Social Support Program (MNSSP II) works towards the creation of a dynamic safety net system that is positioned to better respond to persistent poverty, recurrent shocks and a demographic dividend.  There is now robust evidence showing how social safety nets can be an efficient way to break the cycle of poverty and vulnerability in Malawi.  Despite the evidence, current expenditure trends are low in terms of needs and regional comparators.  Strengthening the efficiency of safety nets is possible by reforming the mix of program interventions and the links between them.  While the social safety net sector in Malawi has all the components necessary to facilitate transformative change, this will require critical shifts in policy, institutional and investment priorities.\n\nECONOMIC DEVELOPMENTS The key messages of this edition of the MEM are about economic recovery and cautious optimism.\n\nMalawi's GDP growth picked up in 2017, but is expected to moderate in 2018, tracking agricultural production. The Government is striving to achieve budgetary prudence, although it continues to face challenges in revenue collection. In the context of subdued inflation, the Government is continuing to cautiously ease monetary policy.\n\nAfter two years of depressed economic activity, the real GDP growth picked up to 4 percent in 2017.\n\nWith a rebound in agricultural production, the prospects for growth were generally positive.\n\nHowever, performance in the industrial and services sectors was much weaker than anticipated.\n\nIndustry was adversely impacted by structural challenges related to erratic energy and water supply, which had a particularly negative impact on manufacturing. Within services, the performance of the wholesale and retail trade and distribution sub-sectors declined as a result of subdued domestic demand.\n\nThe prevalence of low-productivity rain-fed agriculture constrains poverty reduction. With most of the population engaged in subsistence rain-fed agriculture in rural areas, macroeconomic instability and the sub-optimal performance of the agricultural sector have contributed to the slow pace of poverty reduction. Current estimates using the international poverty line (US$1.90 per day) indicate that 69.4 percent of the population is classified as being poor in 2017.\n\nWith the fiscal deficit at around six percent of GDP over the past several years, in FY 2016/17 it declined to 4.8 percent. This was mainly due to strong revenue collection performance and controlled spending. The FY2017/18 budget envisioned an even stronger performance by lowering the deficit to 4 percent of GDP. The Government called for prudence in public expenditure, with a commitment to avoiding the recurrent slippages that have characterized fiscal performance in the past, and to continuing efforts to intensify revenue collection.\n\nDespite the promising budget presentation, at mid- year, the deficit significantly deteriorated. This was due principally to three factors: a fall in revenue due to weaker economic activity; a one-off securitization of payment arrears dating back to FY2012/13 (1.2 percent of GDP); and an increase in expenditure associated with the Agricultural Development and Marketing Corporation (ADMARC) financing (about 1 percent of GDP).\n\nInflationary pressure subdued in the latter half of 2017, with the year-on-year headline rate falling to 7.1 percent in December. The decline was largely due to a fall in food inflation, from a high of 20 percent in December 2016 to 4.3 percent in December 2017. An interesting reversal in the factors driving inflation was noted in this period, with non-food inflation remaining sticky and slowing only marginally, from a peak of 15.4 percent in December 2016 to 10 percent a year later. In 2017, the decline in food inflation was due to the bumper harvest during the 2016/17 growing season, together with the maize export ban and carryover stock from the humanitarian food purchases. These factors led to an abundant food supply and subdued prices.\n"
    }
   ],
   "source": [
    "print(txt[4])"
   ]
  },
  {
   "cell_type": "markdown",
   "metadata": {},
   "source": [
    "## Observations\n",
    "\n",
    "Using the text version from the WB Docs repository shows a fragmented structure. Columnar flows in a pdf page are literally placed side-by-side. This proves to be a challenge since inferring of sentences is not straighforward as simply replacing line breaks with spaces.\n",
    "\n",
    "On the other hand, we can see that the `PDFDoc2Txt` has managed to recover the logical sentences in the text. It was able to properly concatenate fragmented sentences and also identified which correspond to a single column flow."
   ]
  },
  {
   "cell_type": "code",
   "execution_count": null,
   "metadata": {},
   "outputs": [],
   "source": []
  }
 ],
 "metadata": {
  "kernelspec": {
   "display_name": "wb_nlp",
   "language": "python",
   "name": "wb_nlp"
  },
  "language_info": {
   "codemirror_mode": {
    "name": "ipython",
    "version": 3
   },
   "file_extension": ".py",
   "mimetype": "text/x-python",
   "name": "python",
   "nbconvert_exporter": "python",
   "pygments_lexer": "ipython3",
   "version": "3.7.6-final"
  },
  "pycharm": {
   "stem_cell": {
    "cell_type": "raw",
    "metadata": {
     "collapsed": false
    },
    "source": []
   }
  }
 },
 "nbformat": 4,
 "nbformat_minor": 4
}