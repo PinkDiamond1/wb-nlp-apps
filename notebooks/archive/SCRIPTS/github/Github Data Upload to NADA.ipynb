{
 "cells": [
  {
   "cell_type": "code",
   "execution_count": 1,
   "metadata": {},
   "outputs": [],
   "source": [
    "import json\n",
    "import requests"
   ]
  },
  {
   "cell_type": "code",
   "execution_count": 2,
   "metadata": {},
   "outputs": [
    {
     "name": "stdout",
     "output_type": "stream",
     "text": [
      "1373\n"
     ]
    }
   ],
   "source": [
    "with open('github_nada_data.json') as fl:\n",
    "    dataset = json.load(fl)\n",
    "    \n",
    "print(len(dataset))"
   ]
  },
  {
   "cell_type": "code",
   "execution_count": 3,
   "metadata": {},
   "outputs": [],
   "source": [
    "with open('api_key.json') as fl:\n",
    "    headers = json.load(fl)"
   ]
  },
  {
   "cell_type": "code",
   "execution_count": 4,
   "metadata": {},
   "outputs": [
    {
     "name": "stdout",
     "output_type": "stream",
     "text": [
      "Loaded 100 repos...\n",
      "Loaded 200 repos...\n",
      "Loaded 300 repos...\n",
      "Loaded 400 repos...\n",
      "Loaded 500 repos...\n",
      "Loaded 600 repos...\n",
      "Loaded 700 repos...\n",
      "Loaded 800 repos...\n",
      "Loaded 900 repos...\n",
      "Loaded 1000 repos...\n",
      "Loaded 1100 repos...\n",
      "Loaded 1200 repos...\n",
      "Loaded 1300 repos...\n",
      "Wall time: 6min 18s\n"
     ]
    }
   ],
   "source": [
    "%%time\n",
    "\n",
    "responses = []\n",
    "for ix, data in enumerate(dataset):\n",
    "    if ix and ix % 100 == 0:\n",
    "        print(f'Loaded {ix} repos...')\n",
    "    idno = data['project_desc']['title_statement']['idno'].replace('/', '_')\n",
    "    api_url = 'http://dev.ihsn.org/nada/index.php/api/datasets/create/script/'\n",
    "    response = requests.post(api_url + idno, headers=headers, json=data)\n",
    "    responses.append(response)"
   ]
  },
  {
   "cell_type": "code",
   "execution_count": 7,
   "metadata": {},
   "outputs": [
    {
     "data": {
      "text/plain": [
       "{'status': 'failed', 'message': 'INVALID_YEAR_RANGE'}"
      ]
     },
     "execution_count": 7,
     "metadata": {},
     "output_type": "execute_result"
    }
   ],
   "source": [
    "# response.json()\n",
    "# # {'status': 'failed', 'message': 'INVALID_YEAR_RANGE'}"
   ]
  },
  {
   "cell_type": "code",
   "execution_count": 21,
   "metadata": {},
   "outputs": [],
   "source": [
    "data = dataset[-23]\n",
    "idno = data['project_desc']['title_statement']['idno'].replace('/', '_')\n",
    "api_url = 'http://dev.ihsn.org/nada/index.php/api/datasets/create/script/'\n",
    "response = requests.post(api_url + idno, headers=headers, json=data)"
   ]
  },
  {
   "cell_type": "code",
   "execution_count": 23,
   "metadata": {},
   "outputs": [
    {
     "data": {
      "text/plain": [
       "{'status': 'success',\n",
       " 'dataset': {'id': '80846',\n",
       "  'repositoryid': 'central',\n",
       "  'type': 'script',\n",
       "  'idno': 'ChapmanCPSC370_adarkroom',\n",
       "  'title': 'adarkroom',\n",
       "  'year_start': '0',\n",
       "  'year_end': '0',\n",
       "  'nation': '',\n",
       "  'published': '1',\n",
       "  'created': '1575259012',\n",
       "  'changed': '1575259012',\n",
       "  'varcount': None,\n",
       "  'total_views': '0',\n",
       "  'total_downloads': '0',\n",
       "  'formid': None,\n",
       "  'data_access_type': None,\n",
       "  'remote_data_url': None,\n",
       "  'thumbnail': None,\n",
       "  'link_study': None,\n",
       "  'link_indicator': None,\n",
       "  'link_report': None,\n",
       "  'dirpath': 'central/beceb7d86cccc0097e8aaa79e651744a'}}"
      ]
     },
     "execution_count": 23,
     "metadata": {},
     "output_type": "execute_result"
    }
   ],
   "source": [
    "response.json()"
   ]
  },
  {
   "cell_type": "code",
   "execution_count": 27,
   "metadata": {},
   "outputs": [],
   "source": [
    "import random"
   ]
  },
  {
   "cell_type": "code",
   "execution_count": 34,
   "metadata": {},
   "outputs": [],
   "source": [
    "pov_dataset = [d for d in dataset if 'poverty' in d['project_desc']['abstract']]\n",
    "random.seed(610)\n",
    "random.shuffle(pov_dataset)\n",
    "\n",
    "pov_responses = []\n",
    "for ix, data in enumerate(pov_dataset):\n",
    "    if ix and ix % 100 == 0:\n",
    "        print(f'Loaded {ix} repos...')\n",
    "    idno = data['project_desc']['title_statement']['idno'].replace('/', '_')\n",
    "    api_url = 'http://dev.ihsn.org/nada/index.php/api/datasets/create/script/'\n",
    "    response = requests.post(api_url + idno, headers=headers, json=data)\n",
    "    pov_responses.append(response)"
   ]
  },
  {
   "cell_type": "code",
   "execution_count": null,
   "metadata": {},
   "outputs": [],
   "source": []
  }
 ],
 "metadata": {
  "kernelspec": {
   "display_name": "Python 3",
   "language": "python",
   "name": "python3"
  },
  "language_info": {
   "codemirror_mode": {
    "name": "ipython",
    "version": 3
   },
   "file_extension": ".py",
   "mimetype": "text/x-python",
   "name": "python",
   "nbconvert_exporter": "python",
   "pygments_lexer": "ipython3",
   "version": "3.8.3-final"
  }
 },
 "nbformat": 4,
 "nbformat_minor": 4
}