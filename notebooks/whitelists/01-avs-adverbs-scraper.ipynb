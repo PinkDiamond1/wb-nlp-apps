{
 "cells": [
  {
   "cell_type": "markdown",
   "metadata": {},
   "source": [
    "# Build a corpus of adverbs\n",
    "\n",
    "Source:\n",
    "\n",
    "- https://usefulenglish.ru/writing/list-of-adverbs\n",
    "- http://www.websitestyle.com/parser/adverbs.shtml (http://www.websitestyle.com/parser/adverbs.txt)\n"
   ]
  },
  {
   "cell_type": "code",
   "execution_count": 2,
   "metadata": {},
   "outputs": [],
   "source": [
    "import requests\n",
    "from wb_nlp import dir_manager"
   ]
  },
  {
   "cell_type": "code",
   "execution_count": 1,
   "metadata": {},
   "outputs": [],
   "source": [
    "def valid_token(token):\n",
    "    return (len(token.strip().split()) == 1) and ('-' not in token)\n"
   ]
  },
  {
   "cell_type": "markdown",
   "metadata": {},
   "source": [
    "## Create adverbs list 1"
   ]
  },
  {
   "cell_type": "code",
   "execution_count": 3,
   "metadata": {},
   "outputs": [],
   "source": [
    "url = \"http://www.websitestyle.com/parser/adverbs.txt\"\n",
    "r = requests.get(url)\n",
    "adverbs01 = r.content.decode(\"utf-8\", errors=\"ignore\").replace(\".\", \",\")\n",
    "adverbs01 = \"\\n\".join(sorted({w.strip() for w in adverbs01.split(\",\") if valid_token(w)}))\n",
    "\n",
    "with open(dir_manager.get_data_dir('whitelists', 'stopwords', 'adverbs', 'adverbs01.txt'), 'w') as fl:\n",
    "    fl.write(adverbs01)\n",
    "\n"
   ]
  },
  {
   "cell_type": "markdown",
   "metadata": {},
   "source": [
    "## Create adverbs list 2"
   ]
  },
  {
   "cell_type": "code",
   "execution_count": 4,
   "metadata": {},
   "outputs": [],
   "source": [
    "import requests\n",
    "from bs4 import BeautifulSoup\n",
    "\n",
    "url = \"https://usefulenglish.ru/writing/list-of-adverbs\"\n",
    "r = requests.get(url)\n",
    "b = BeautifulSoup(r.content)\n",
    "\n",
    "e = b.find(\"h2\", text=\"Forms of adverbs\")\n",
    "\n",
    "def is_valid_p(p):\n",
    "    is_valid = p.name == \"p\"\n",
    "    is_valid = is_valid and (p.text.endswith(\".\") or p.text.endswith(\";\"))\n",
    "    is_valid = is_valid and (\"(\" not in p.text and \":\" not in p.text)\n",
    "\n",
    "    return is_valid\n",
    "\n",
    "adverbs02 = \"\".join([p.text.replace(\".\", \", \").replace(\";\", \", \") for p in e.next_siblings if is_valid_p(p)])\n",
    "adverbs02 = \"\\n\".join(sorted({w.strip() for w in adverbs02.split(\", \") if valid_token(w)}))\n",
    "\n",
    "with open(dir_manager.get_data_dir('whitelists', 'stopwords', 'adverbs', 'adverbs02.txt'), 'w') as fl:\n",
    "    fl.write(adverbs02)"
   ]
  },
  {
   "cell_type": "markdown",
   "metadata": {},
   "source": [
    "## Merge individual adverbs list"
   ]
  },
  {
   "cell_type": "code",
   "execution_count": 5,
   "metadata": {},
   "outputs": [],
   "source": [
    "adverbs = \"\\n\".join(sorted(set(adverbs02.split() + adverbs01.split())))\n",
    "\n",
    "with open(dir_manager.get_data_dir('whitelists', 'stopwords', 'adverbs', 'adverbs.txt'), 'w') as fl:\n",
    "    fl.write(adverbs)"
   ]
  },
  {
   "cell_type": "code",
   "execution_count": null,
   "metadata": {},
   "outputs": [],
   "source": []
  }
 ],
 "metadata": {
  "kernelspec": {
   "display_name": "wb_nlp",
   "language": "python",
   "name": "wb_nlp"
  },
  "language_info": {
   "codemirror_mode": {
    "name": "ipython",
    "version": 3
   },
   "file_extension": ".py",
   "mimetype": "text/x-python",
   "name": "python",
   "nbconvert_exporter": "python",
   "pygments_lexer": "ipython3",
   "version": "3.8.5-final"
  },
  "pycharm": {
   "stem_cell": {
    "cell_type": "raw",
    "metadata": {
     "collapsed": false
    },
    "source": []
   }
  }
 },
 "nbformat": 4,
 "nbformat_minor": 4
}