{
 "cells": [
  {
   "cell_type": "markdown",
   "metadata": {},
   "source": [
    "# World Bank Documents and Reports API Scraper\n",
    "\n",
    "This notebook contains all the necessary scripts to connect and scrape document metadata from the World Bank Documents and Reports API."
   ]
  },
  {
   "cell_type": "code",
   "execution_count": 1,
   "metadata": {},
   "outputs": [],
   "source": [
    "%load_ext autotime"
   ]
  },
  {
   "cell_type": "code",
   "execution_count": 517,
   "metadata": {},
   "outputs": [
    {
     "name": "stdout",
     "output_type": "stream",
     "text": [
      "time: 43.5 ms\n"
     ]
    }
   ],
   "source": [
    "import requests\n",
    "from datetime import datetime\n",
    "import json\n",
    "import os\n",
    "import time\n",
    "import glob\n",
    "import pandas as pd\n",
    "import numpy as np\n",
    "import re\n",
    "from joblib import Parallel, delayed"
   ]
  },
  {
   "cell_type": "code",
   "execution_count": 3,
   "metadata": {},
   "outputs": [
    {
     "name": "stdout",
     "output_type": "stream",
     "text": [
      "time: 169 ms\n"
     ]
    }
   ],
   "source": [
    "from wb_nlp import dir_manager"
   ]
  },
  {
   "cell_type": "markdown",
   "metadata": {},
   "source": [
    "The following are the proper versions to be installed to prevent incompatibility issues."
   ]
  },
  {
   "cell_type": "code",
   "execution_count": 4,
   "metadata": {},
   "outputs": [
    {
     "name": "stdout",
     "output_type": "stream",
     "text": [
      "requests : 2.24.0\n",
      "json : 2.0.9\n",
      "pandas : 1.1.2\n",
      "time: 553 µs\n"
     ]
    }
   ],
   "source": [
    "for m in [requests, json, pd]:\n",
    "    print(m.__name__, ':', m.__version__)"
   ]
  },
  {
   "cell_type": "markdown",
   "metadata": {},
   "source": [
    "# Scraping methods for the World Bank Document and Reports API\n",
    "\n",
    "The API allows customization of the kind of returned data. The `fl_param` can be adjusted to a specific subset of values if only certain fields are needed."
   ]
  },
  {
   "cell_type": "code",
   "execution_count": 5,
   "metadata": {},
   "outputs": [
    {
     "name": "stdout",
     "output_type": "stream",
     "text": [
      "time: 457 µs\n"
     ]
    }
   ],
   "source": [
    "fl_params = [\n",
    "    'guid', 'abstracts', 'admreg', 'alt_title', 'authr', 'available_in',\n",
    "    'bdmdt', 'chronical_docm_id', 'closedt', 'colti', 'count', 'credit_no',\n",
    "    'disclosure_date', 'disclosure_type', 'disclosure_type_date', 'disclstat',\n",
    "    'display_title', 'docdt', 'docm_id', 'docna', 'docty', 'dois', 'entityid',\n",
    "    'envcat', 'geo_reg', 'geo_reg_and_mdk', 'historic_topic', 'id',\n",
    "    'isbn', 'issn', 'keywd', 'lang', 'listing_relative_url', 'lndinstr', 'loan_no',\n",
    "    'majdocty', 'majtheme', 'ml_abstract', 'ml_display_title', 'new_url', 'owner',\n",
    "    'pdfurl', 'prdln', 'projn', 'publishtoextweb_dt', 'repnb', 'repnme', 'seccl',\n",
    "    'sectr', 'src_cit', 'subsc', 'subtopic', 'teratopic', 'theme', 'topic', 'topicv3',\n",
    "    'totvolnb', 'trustfund', 'txturl', 'unregnbr', 'url_friendly_title', 'versiontyp',\n",
    "    'versiontyp_key', 'virt_coll', 'vol_title', 'volnb', 'projectid',\n",
    "]"
   ]
  },
  {
   "cell_type": "code",
   "execution_count": 6,
   "metadata": {},
   "outputs": [
    {
     "name": "stdout",
     "output_type": "stream",
     "text": [
      "abstracts\n",
      "admreg\n",
      "alt_title\n",
      "authr\n",
      "available_in\n",
      "bdmdt\n",
      "chronical_docm_id\n",
      "closedt\n",
      "colti\n",
      "count\n",
      "credit_no\n",
      "disclosure_date\n",
      "disclosure_type\n",
      "disclosure_type_date\n",
      "disclstat\n",
      "display_title\n",
      "docdt\n",
      "docm_id\n",
      "docna\n",
      "docty\n",
      "dois\n",
      "entityid\n",
      "envcat\n",
      "geo_reg\n",
      "geo_reg_and_mdk\n",
      "guid\n",
      "historic_topic\n",
      "id\n",
      "isbn\n",
      "issn\n",
      "keywd\n",
      "lang\n",
      "listing_relative_url\n",
      "lndinstr\n",
      "loan_no\n",
      "majdocty\n",
      "majtheme\n",
      "ml_abstract\n",
      "ml_display_title\n",
      "new_url\n",
      "owner\n",
      "pdfurl\n",
      "prdln\n",
      "projectid\n",
      "projn\n",
      "publishtoextweb_dt\n",
      "repnb\n",
      "repnme\n",
      "seccl\n",
      "sectr\n",
      "src_cit\n",
      "subsc\n",
      "subtopic\n",
      "teratopic\n",
      "theme\n",
      "topic\n",
      "topicv3\n",
      "totvolnb\n",
      "trustfund\n",
      "txturl\n",
      "unregnbr\n",
      "url_friendly_title\n",
      "versiontyp\n",
      "versiontyp_key\n",
      "virt_coll\n",
      "vol_title\n",
      "volnb\n",
      "time: 1.86 ms\n"
     ]
    }
   ],
   "source": [
    "for i in sorted(fl_params):\n",
    "    print(i)"
   ]
  },
  {
   "cell_type": "code",
   "execution_count": 7,
   "metadata": {},
   "outputs": [
    {
     "data": {
      "text/plain": [
       "'/home/wb536061/wb_nlp/data/corpus/WB'"
      ]
     },
     "execution_count": 7,
     "metadata": {},
     "output_type": "execute_result"
    },
    {
     "name": "stdout",
     "output_type": "stream",
     "text": [
      "time: 5.86 ms\n"
     ]
    }
   ],
   "source": [
    "dir_manager.get_data_dir('corpus', 'WB')"
   ]
  },
  {
   "cell_type": "code",
   "execution_count": 8,
   "metadata": {},
   "outputs": [
    {
     "name": "stdout",
     "output_type": "stream",
     "text": [
      "/home/wb536061/wb_nlp/data/corpus/WB\n",
      "/home/wb536061/wb_nlp/data/corpus/WB/tmp_api_json\n",
      "time: 642 µs\n"
     ]
    }
   ],
   "source": [
    "SCRAPER_DIR = dir_manager.get_data_dir('corpus', 'WB')\n",
    "API_JSON_DIR = os.path.join(SCRAPER_DIR, 'tmp_api_json')\n",
    "print(SCRAPER_DIR)\n",
    "print(API_JSON_DIR)"
   ]
  },
  {
   "cell_type": "code",
   "execution_count": 9,
   "metadata": {},
   "outputs": [
    {
     "name": "stdout",
     "output_type": "stream",
     "text": [
      "time: 557 µs\n"
     ]
    }
   ],
   "source": [
    "def download_with_retry(url, params=None, max_retries=10):\n",
    "    retry_count = 0\n",
    "\n",
    "    while retry_count < max_retries:\n",
    "        try:\n",
    "            response = requests.get(url, params=params)\n",
    "            if response.status_code != 200:\n",
    "                retry_count += 1\n",
    "                time.sleep(1)\n",
    "                continue\n",
    "            break\n",
    "        except:\n",
    "            retry_count += 1\n",
    "            time.sleep(1)\n",
    "\n",
    "    if retry_count >= max_retries:\n",
    "        return\n",
    "\n",
    "    return response"
   ]
  },
  {
   "cell_type": "code",
   "execution_count": 10,
   "metadata": {},
   "outputs": [
    {
     "name": "stdout",
     "output_type": "stream",
     "text": [
      "time: 1.53 ms\n"
     ]
    }
   ],
   "source": [
    "def request_worldbank_api(fl_params=None, offset=0, limit=1, max_retries=10):\n",
    "    '''\n",
    "    fl_params: list of values to return per row\n",
    "    offset: parameter corresponding to the start page\n",
    "    limit: maximum number of rows returned by the api call\n",
    "    '''\n",
    "\n",
    "    if fl_params is None:\n",
    "        fl_params = ['guid']\n",
    "\n",
    "    api_url = 'http://search.worldbank.org/api/v2/wds'\n",
    "    api_params = dict(\n",
    "        format='json',\n",
    "        fl=','.join(fl_params),\n",
    "        lang_exact='English',\n",
    "        disclstat='Disclosed',\n",
    "        srt='docdt',\n",
    "        order='desc',  # Use asc such that pages already downloaded can still be used\n",
    "        os=offset,\n",
    "        rows=limit,\n",
    "        # frmdisclosuredate='',  # '2018-09-12'\n",
    "        # todisclosuredate='',  # '2018-09-13'\n",
    "    )\n",
    "\n",
    "    response = download_with_retry(url=api_url, params=api_params)\n",
    "\n",
    "    if (response is None) or (response.status_code != 200):\n",
    "        return {}\n",
    "\n",
    "    json_content = response.json()\n",
    "\n",
    "    return json_content\n",
    "\n",
    "\n",
    "def get_total_documents():\n",
    "    # This method solves the problem of determination of\n",
    "    # the total pages in the database automatically.\n",
    "\n",
    "    poll_request = request_worldbank_api()\n",
    "    total_documents = poll_request['total']\n",
    "\n",
    "    return int(total_documents)\n",
    "\n",
    "\n",
    "def scrape_page(fl_params, page, limit=500, verbose=True):\n",
    "    offset = page * limit\n",
    "    page_content = request_worldbank_api(fl_params=fl_params, offset=offset, limit=limit)\n",
    "    page_content = page_content['documents']\n",
    "    func_params = {'page': page}\n",
    "\n",
    "    # Remove extraneous key\n",
    "    page_content.pop('facets')\n",
    "\n",
    "    if not os.path.isdir(API_JSON_DIR):\n",
    "        os.makedirs(API_JSON_DIR)\n",
    "\n",
    "    page_file = os.path.join(API_JSON_DIR, 'data-{page}.json'.format(**func_params))\n",
    "\n",
    "    with open(page_file, 'w') as fl:\n",
    "        json.dump(page_content, fl)\n",
    "\n",
    "    if verbose:\n",
    "        print('Completed scraping of page {page}.'.format(**func_params), flush=True)\n",
    "\n",
    "    time.sleep(1)\n",
    "\n",
    "\n",
    "def scrape_worldbank_operational_docs_api(fl_params, limit=500, max_pages=5, n_jobs=1, verbose=True):\n",
    "    '''\n",
    "    Note:\n",
    "        Parallelization of API access is discouraged for large limit size.\n",
    "        It could result to throttling or failed return values.\n",
    "    '''\n",
    "    func_params = {}\n",
    "    total_documents = get_total_documents()\n",
    "\n",
    "    total_pages = (total_documents // limit) + 1\n",
    "    func_params['total_pages'] = total_pages\n",
    "\n",
    "    scrape_params = []\n",
    "\n",
    "    for page in range(total_pages):\n",
    "        func_params['page'] = page + 1\n",
    "\n",
    "        if (max_pages is not None) and (page > max_pages):\n",
    "            print('Terminating scraping for remaining pages...')\n",
    "            break\n",
    "\n",
    "        if not verbose:\n",
    "            # Print this only if scrape_params verbosity is False...\n",
    "            print('Scraping page {page} / {total_pages}'.format(**func_params))\n",
    "\n",
    "        scrape_params.append(dict(fl_params=fl_params, page=page, limit=limit, verbose=verbose))\n",
    "\n",
    "    Parallel(n_jobs=n_jobs)(delayed(scrape_page)(**sp) for sp in scrape_params)\n",
    "    # scrape_page(fl_params, page, limit, verbose=False)"
   ]
  },
  {
   "cell_type": "code",
   "execution_count": 11,
   "metadata": {},
   "outputs": [
    {
     "name": "stdout",
     "output_type": "stream",
     "text": [
      "time: 245 µs\n"
     ]
    }
   ],
   "source": [
    "# # Check if ids are sorted by disclosure date\n",
    "\n",
    "# sample_request_data = request_worldbank_api(fl_params, offset=100000, limit=4)\n",
    "# sample_request_keys = sorted(sample_request_data['documents'].keys())\n",
    "# sample_request_keys.pop(sample_request_keys.index('facets'))\n",
    "# sample_request_disclosure_dates = sorted([sample_request_data['documents'][uid]['disclosure_date'] for uid in sample_request_keys])\n",
    "\n",
    "# for ix, i in enumerate(sample_request_keys):\n",
    "#     # Assuming that the document ids are not sequentially assigned by disclosure_date,\n",
    "#     # then it is likely that if we sort the ids and the disclosure date and check the equality of the\n",
    "#     # actual disclosure_date for the id vs the sorted disclosure_date that it will not match.\n",
    "#     assert(sample_request_data['documents'][i]['disclosure_date'] == sample_request_disclosure_dates[ix])\n",
    "    "
   ]
  },
  {
   "cell_type": "code",
   "execution_count": 12,
   "metadata": {},
   "outputs": [
    {
     "data": {
      "text/plain": [
       "593"
      ]
     },
     "execution_count": 12,
     "metadata": {},
     "output_type": "execute_result"
    },
    {
     "name": "stdout",
     "output_type": "stream",
     "text": [
      "time: 55.2 ms\n"
     ]
    }
   ],
   "source": [
    "get_total_documents() // 500"
   ]
  },
  {
   "cell_type": "code",
   "execution_count": 13,
   "metadata": {},
   "outputs": [
    {
     "name": "stdout",
     "output_type": "stream",
     "text": [
      "CPU times: user 878 ms, sys: 81.4 ms, total: 959 ms\n",
      "Wall time: 14min 59s\n",
      "time: 14min 59s\n"
     ]
    }
   ],
   "source": [
    "%%time\n",
    "scrape_worldbank_operational_docs_api(fl_params=fl_params, limit=500, max_pages=None, n_jobs=5)"
   ]
  },
  {
   "cell_type": "code",
   "execution_count": 14,
   "metadata": {},
   "outputs": [
    {
     "name": "stdout",
     "output_type": "stream",
     "text": [
      "time: 53 ms\n"
     ]
    }
   ],
   "source": [
    "with open(os.path.join(API_JSON_DIR, \"data-100.json\")) as fl:\n",
    "    nd = json.load(fl)\n",
    "    nd = pd.DataFrame(nd).T\n",
    "    nd.index.name = 'uid'"
   ]
  },
  {
   "cell_type": "code",
   "execution_count": 15,
   "metadata": {},
   "outputs": [
    {
     "name": "stdout",
     "output_type": "stream",
     "text": [
      "authors {'0': {'author': 'Sjoberg,Fredrik Matias'}, '1': {'author': 'Mellon,Jonathan'}, '2': {'author': 'Peixoto,Tiago Carneiro'}, '3': {'author': 'Hemker,Johannes Zacharias'}, '4': {'author': 'Tsai,Lily Lee'}}\n",
      "\n",
      "entityids {'entityid': '090224b086f47634_2_0'}\n",
      "\n",
      "docna {'0': {'docna': 'Voice and Punishment : A Global Survey\\n            Experiment on Tax Morale'}}\n",
      "\n",
      "repnme {'repnme': 'Voice and Punishment : A Global Survey\\n            Experiment on Tax Morale'}\n",
      "\n",
      "keywd {'0': {'keywd': 'Tax Compliance; institute of development\\n            studies; treatment effect; worst case scenario; public goods\\n            provision; income tax evasion; list of countries; political\\n            science association; relationship between citizens; support\\n            for democracy; channels of communication; burden of\\n            taxation; nominal tax rate; costs of taxation; women in\\n            politics; public sector corruption; public sector worker;\\n            public sector employment; national tax journal; gender and\\n            employment; robustness check; government fund; research\\n            design; pay taxes; online survey; tax index; treatment\\n            group; experimental study; search engine; tax system;\\n            ordinary people; government corruption; high tax; public\\n            economics; Property tax; public money; political\\n            institution; observational study; field experiment; positive\\n            relationship; exchange hypothesis; Political Economy; social\\n            contract; descriptive statistic; corrupt official;\\n            measurement error; laboratory experiment; causal effect;\\n            fixed effect; survey instrument; democratic institution;\\n            enforcement efforts; development policy; government\\n            spending; open access; intrinsic motivation; Economic\\n            Policy; citizen input; employment status; government\\n            activity; political legitimacy; raise revenues; research\\n            focus; present evidence; disposable income; linear model;\\n            private individuals; experimental work; 0 hypothesis; school\\n            supply; baseline model; Government Performance; Labor\\n            Market; tax money; empirical evidence; cultural context;\\n            mixed blessing; confidence interval; native speaker;\\n            ordinary citizens; geographical coverage; tax payer; tax\\n            declaration; political culture; budget policy; political\\n            community; survey methods; effect estimate; total tax;\\n            empirical analysis; introduction taxation; outcome measure;\\n            standard deviation; component part; rank order; procedural\\n            fairness; behavioral indicator; information environment;\\n            legal system; cross-country variation; nominal rate; ceteris\\n            paribus; tax demand; important policy; scientific questions;\\n            tax reporting; administrative datum; financial value; future\\n            research; billion people; experimental data; tax policy;\\n            public choice; linear relationship; retention rates; high\\n            compliance; taxpayer compliance; cultures of differences;\\n            welfare costs; individual risk; behavioral science;\\n            enforcement institution; scientific work; taxpayer group;\\n            participatory institution; democratic accountability; direct\\n            democracy; experimental treatment; cross-country\\n            correlation; academic researcher; empirical scrutiny;\\n            political setting; public order'}}\n",
      "\n",
      "abstracts {'cdata!': 'An online survey experiment spanning\\n            50 countries finds sizable improvements in tax morale when\\n            (a) the salience of anti-corruption efforts is increased and\\n            (b) citizens are allowed to voice their expenditure\\n            preferences to the government. These results hold very\\n            broadly across a uniquely large and diverse sample of\\n            respondents from all continents. The findings are consistent\\n            with theories emphasizing the role of democratic\\n            accountability, as well as of perceptions of legitimacy and\\n            \"retributive justice,\" in generating voluntary tax\\n            compliance. Implications and avenues for further research\\n            are discussed.'}\n",
      "\n",
      "time: 11 ms\n"
     ]
    }
   ],
   "source": [
    "s = nd.dropna(subset=[\"authors\"])[nd.dropna(subset=[\"authors\"])[\"authors\"].map(len) > 3].iloc[0].to_dict()\n",
    "for k, v in s.items():\n",
    "    if isinstance(v, dict):\n",
    "        print(k, v)\n",
    "        print()"
   ]
  },
  {
   "cell_type": "markdown",
   "metadata": {},
   "source": [
    "# Processing and normalization of scraped document metadata"
   ]
  },
  {
   "cell_type": "code",
   "execution_count": 520,
   "metadata": {},
   "outputs": [
    {
     "name": "stdout",
     "output_type": "stream",
     "text": [
      "time: 2.74 ms\n"
     ]
    }
   ],
   "source": [
    "# s = set(['Publications & Research', 'Publications'])\n",
    "# s = set([\"Country Focus\", \"Country Focus\"])\n",
    "# s = set(\"Publications,Publications & Research,Publications,Publications & Research\".split(','))\n",
    "import re\n",
    "\n",
    "def standardize_authors_list(authors, delimiter=\";\"):\n",
    "    # authors = \"Runji,Justin;Jose Rizal;Bonifacio, Andres; Damaso, Maria Clara\"\n",
    "    if not isinstance(authors, str):\n",
    "        return None\n",
    "    return \",\".join([re.sub(r\"(.*),\\s*(.*)\", r\"\\2 \\1\", i.strip()) for i in authors.split(delimiter)])\n",
    "\n",
    "\n",
    "def normalize_set(s):\n",
    "    # s = set(['Publications & Research', 'Publications'])\n",
    "\n",
    "    l = sorted(s)\n",
    "    remove_index = set()\n",
    "    \n",
    "    for i in range(len(l) - 1):\n",
    "        for j in range(1, len(l)):\n",
    "            if l[i] in l[j]:\n",
    "                remove_index.add(i)\n",
    "    \n",
    "    for k in sorted(remove_index, reverse=True):\n",
    "        l.pop(k)\n",
    "\n",
    "    return l\n",
    "\n",
    "\n",
    "def make_unique_entry(series):\n",
    "    # This will remove duplicate entries in fields: `majdocty` (`majdoctype` : normalized) and `admreg`\n",
    "    series = series.fillna('')\n",
    "    series = series.str.split(',').map(set).map(lambda vals: ', '.join(normalize_set(vals)))\n",
    "    return series.replace('', None)\n",
    "\n",
    "\n",
    "def collapse_array(data, connector=None):\n",
    "    # Assume that array is of type list\n",
    "    value = []\n",
    "    \n",
    "    if isinstance(data, list):        \n",
    "        for d in data:\n",
    "            if isinstance(d, dict):\n",
    "                value.append(collapse_nested_dict(d, connector=connector))\n",
    "            else:\n",
    "                value.extend(collapse_array(d))\n",
    "#     elif isinstance(data, dict):\n",
    "#         data = collapse_nested_dict(data, connector=connector)\n",
    "#         value.append(data)\n",
    "    else:\n",
    "        value.append(data)\n",
    "    \n",
    "    try:\n",
    "        if connector:\n",
    "            # `connector` is only used in the root function call so it is safe\n",
    "            # to assume that in cases where the original value is not an array or nested array,\n",
    "            # we can just retrieve and return the original value\n",
    "            if len(value) > 1:\n",
    "                # This means that the data is an array and possibly nested\n",
    "                value = connector.join(value)\n",
    "            else:\n",
    "                value = value[0]\n",
    "    except Exception as e:\n",
    "        print(data)\n",
    "        print(value)\n",
    "        raise(e)\n",
    "        \n",
    "    return value\n",
    "\n",
    "\n",
    "# line_break_pattern = re.compile('\\r?\\n|\\r')\n",
    "whitespace_pattern = re.compile('\\s+')\n",
    "hanging_dash_pattern = re.compile('\\S+- ')\n",
    "\n",
    "\n",
    "def extract_formatted_authors(authors, delimiter=\";\"):\n",
    "    # {'0': {'author': 'Sjoberg,Fredrik Matias'},\n",
    "    #  '1': {'author': 'Mellon,Jonathan'},\n",
    "    #  '2': {'author': 'Peixoto,Tiago Carneiro'},\n",
    "    #  '3': {'author': 'Hemker,Johannes Zacharias'},\n",
    "    #  '4': {'author': 'Tsai,Lily Lee'}}\n",
    "\n",
    "    authors_value = None\n",
    "    if pd.notna(authors):\n",
    "        authors_value = delimiter.join([author[\"author\"] for author in authors.values()])\n",
    "\n",
    "    return standardize_authors_list(authors_value, delimiter=delimiter)\n",
    "\n",
    "def normalize_hanging_dash(t):\n",
    "    for p in hanging_dash_pattern.findall(t):\n",
    "        t = t.replace(p, p.replace('- ', ' - '))\n",
    "\n",
    "    return t\n",
    "\n",
    "\n",
    "def normalize_str_col(ser):\n",
    "    return ser.map(lambda x: normalize_hanging_dash(whitespace_pattern.sub(' ', x)) if isinstance(x, str) else x)\n",
    "\n",
    "\n",
    "def normalize_geo_regions(x, connector='|'):\n",
    "    # geo_regions has this assumed format: {'0': {'geo_region': 'Europe'}, '1': {'geo_region': 'Europe'}}\n",
    "    if isinstance(x, dict):\n",
    "        x = connector.join(set(i['geo_region'] for i in x.values()))\n",
    "\n",
    "    return x\n",
    "\n",
    "\n",
    "def collapse_nested_dict(x, connector=None):\n",
    "    value = []\n",
    "    \n",
    "    if isinstance(x, dict):\n",
    "        for val in x.values():\n",
    "            value.extend(collapse_nested_dict(val))\n",
    "    elif isinstance(x, list):\n",
    "        x = collapse_array(x, connector=connector)\n",
    "        value.append(x)\n",
    "    else:\n",
    "        value.append(x)\n",
    "    \n",
    "    if connector:\n",
    "        if len(value) > 1:\n",
    "            value = connector.join(value)\n",
    "        else:\n",
    "            value = value[0]\n",
    "\n",
    "    return value\n",
    "\n",
    "def process_uid(uid):\n",
    "    # Implement this function to easily process the creation or update how the ids are constructed.\n",
    "    # Take note that this is important because the original API changed how the ids are rendered from <id> to D<id> format.\n",
    "\n",
    "    ## No need to do this since all uids are already standardized\n",
    "    # if uid.startswith('D'):\n",
    "    #     uid = uid[1:]\n",
    "\n",
    "    # if not uid.isdigit():\n",
    "    #     raise ValueError(f'Unexpected document id format: {uid}...')\n",
    "\n",
    "    return uid\n",
    "\n",
    "def normalize_document_data(use_short_columns=True, fname=None, data_dir=None, save_data=True):\n",
    "#     if use_short_columns:\n",
    "#         columns = ['guid', 'docyear', 'majdoctype', 'doctype', 'authors', 'colti', 'display_title', 'docdt', 'docm_id', 'historic_topic', 'pdfurl', 'seccl', 'txturl', 'language', 'admreg', 'country', 'txtfilename']\n",
    "#     else:\n",
    "#         columns = ['authors', 'abstracts', 'admreg', 'alt_title', 'available_in', 'bdmdt', 'chronical_docm_id', 'closedt', 'colti', 'count', 'credit_no', 'disclosure_date', 'disclosure_type', 'disclosure_type_date', 'disclstat', 'display_title', 'docdt', 'doc_year', 'docm_id', 'docna', 'docty', 'dois', 'entityids', 'envcat', 'geo_regions', 'geo_region_mdks', 'historic_topic', 'id', 'isbn', 'issn', 'keywd', 'lang', 'listing_relative_url', 'lndinstr', 'loan_no', 'majdocty', 'majtheme', 'ml_abstract', 'ml_display_title', 'new_url', 'owner', 'pdfurl', 'prdln', 'projn', 'publishtoextweb_dt', 'repnb', 'repnme', 'seccl', 'sectr', 'src_cit', 'subsc', 'subtopic', 'teratopic', 'theme', 'topic', 'topicv3', 'totvolnb', 'trustfund', 'txturl', 'unregnbr', 'url_friendly_title', 'versiontyp', 'versiontyp_key', 'virt_coll', 'vol_title', 'volnb']\n",
    "\n",
    "\n",
    "    normalized_df = pd.DataFrame()\n",
    "\n",
    "    for json_file in glob.iglob(os.path.join(API_JSON_DIR, '*.json')):\n",
    "        print(json_file)\n",
    "\n",
    "        with open(json_file) as fl:\n",
    "            normalized_data = json.load(fl)\n",
    "            normalized_data = pd.DataFrame(normalized_data).T\n",
    "            normalized_data.index.name = 'uid'\n",
    "            \n",
    "            normalized_data.index = normalized_data.index.map(process_uid)\n",
    "            # normalized_data.index = normalized_data.index.astype(int)\n",
    "\n",
    "        rename_cols = {\n",
    "            'docty': 'doc_type',\n",
    "            'lang': 'language',\n",
    "            'majdocty': 'majdoctype',\n",
    "            'count': 'country',\n",
    "        }\n",
    "\n",
    "        normalized_data = normalized_data.rename(columns=rename_cols)\n",
    "        try:\n",
    "            normalized_data['authors'] = normalized_data['authors'].map(extract_formatted_authors)\n",
    "        except KeyError:\n",
    "            # This means that the metadata doesn't have an author field\n",
    "            normalized_data['authors'] = None\n",
    "\n",
    "        # Assume that the `display_title` field follows a standard format: list -> dict\n",
    "        # [{'display_title': 'Voice and Punishment : A Global\\n            Survey Experiment on Tax Morale'}]\n",
    "        normalized_data['display_title'] = normalized_data['display_title'].map(lambda dt: dt[0].get('display_title') if len(dt) else None)\n",
    "\n",
    "        try:\n",
    "            normalized_data[\"abstract\"] = normalized_data[\"abstracts\"].map(lambda x: x.get(\"cdata!\") if isinstance(x, dict) else None)\n",
    "        except KeyError:\n",
    "            normalized_data[\"abstract\"] = None\n",
    "\n",
    "        for col in normalized_data.columns:\n",
    "            try:\n",
    "                # Normalize line breaks for string data\n",
    "                normalized_data[col] = normalize_str_col(normalized_data[col])\n",
    "                normalized_data[col] = normalized_data[col].map(lambda x: collapse_array(x, '|'))\n",
    "                normalized_data[col] = normalized_data[col].map(lambda x: collapse_nested_dict(x, '|'))\n",
    "\n",
    "            except AttributeError:\n",
    "                # column is not a string type\n",
    "                continue\n",
    "\n",
    "        normalized_data['majdoctype'] = make_unique_entry(normalized_data['majdoctype'])\n",
    "        normalized_data['admreg'] = make_unique_entry(normalized_data['admreg'])\n",
    "        normalized_data['geo_regions'] = normalized_data['geo_regions'].map(normalize_geo_regions)\n",
    "\n",
    "        normalized_data['docyear'] = pd.to_datetime(normalized_data['docdt']).dt.year\n",
    "\n",
    "#         existing_cols = normalized_data.columns.intersection(columns)\n",
    "#         new_cols = pd.Index(set(columns).difference(normalized_data.columns))\n",
    "\n",
    "#         normalized_data = normalized_data[existing_cols]\n",
    "\n",
    "#         for col in new_cols:\n",
    "#             normalized_data[col] = None\n",
    "\n",
    "        if normalized_df.empty:\n",
    "            normalized_df = normalized_data\n",
    "        else:\n",
    "            normalized_df = pd.concat([normalized_df, normalized_data], axis=0)\n",
    "\n",
    "#     if save_data:\n",
    "#         if fname is None:\n",
    "#             fname = f\"WBCorpus_metadata_{pd.datetime.now().strftime('%m-%d-%Y')}.csv\"\n",
    "#         if data_dir:\n",
    "#             fname = os.path.join(data_dir, fname)\n",
    "            \n",
    "#         normalized_df.to_csv(fname)\n",
    "\n",
    "    return normalized_df"
   ]
  },
  {
   "cell_type": "code",
   "execution_count": 521,
   "metadata": {
    "scrolled": true
   },
   "outputs": [
    {
     "name": "stdout",
     "output_type": "stream",
     "text": [
      "/home/wb536061/wb_nlp/data/corpus/WB/tmp_api_json/data-3.json\n",
      "/home/wb536061/wb_nlp/data/corpus/WB/tmp_api_json/data-1.json\n",
      "/home/wb536061/wb_nlp/data/corpus/WB/tmp_api_json/data-0.json\n",
      "/home/wb536061/wb_nlp/data/corpus/WB/tmp_api_json/data-4.json\n",
      "/home/wb536061/wb_nlp/data/corpus/WB/tmp_api_json/data-5.json\n",
      "/home/wb536061/wb_nlp/data/corpus/WB/tmp_api_json/data-2.json\n",
      "/home/wb536061/wb_nlp/data/corpus/WB/tmp_api_json/data-6.json\n",
      "/home/wb536061/wb_nlp/data/corpus/WB/tmp_api_json/data-7.json\n",
      "/home/wb536061/wb_nlp/data/corpus/WB/tmp_api_json/data-9.json\n",
      "/home/wb536061/wb_nlp/data/corpus/WB/tmp_api_json/data-8.json\n",
      "/home/wb536061/wb_nlp/data/corpus/WB/tmp_api_json/data-11.json\n",
      "/home/wb536061/wb_nlp/data/corpus/WB/tmp_api_json/data-12.json\n",
      "/home/wb536061/wb_nlp/data/corpus/WB/tmp_api_json/data-10.json\n",
      "/home/wb536061/wb_nlp/data/corpus/WB/tmp_api_json/data-13.json\n",
      "/home/wb536061/wb_nlp/data/corpus/WB/tmp_api_json/data-14.json\n",
      "/home/wb536061/wb_nlp/data/corpus/WB/tmp_api_json/data-16.json\n",
      "/home/wb536061/wb_nlp/data/corpus/WB/tmp_api_json/data-15.json\n",
      "/home/wb536061/wb_nlp/data/corpus/WB/tmp_api_json/data-19.json\n",
      "/home/wb536061/wb_nlp/data/corpus/WB/tmp_api_json/data-17.json\n",
      "/home/wb536061/wb_nlp/data/corpus/WB/tmp_api_json/data-20.json\n",
      "/home/wb536061/wb_nlp/data/corpus/WB/tmp_api_json/data-18.json\n",
      "/home/wb536061/wb_nlp/data/corpus/WB/tmp_api_json/data-21.json\n",
      "/home/wb536061/wb_nlp/data/corpus/WB/tmp_api_json/data-24.json\n",
      "/home/wb536061/wb_nlp/data/corpus/WB/tmp_api_json/data-23.json\n",
      "/home/wb536061/wb_nlp/data/corpus/WB/tmp_api_json/data-22.json\n",
      "/home/wb536061/wb_nlp/data/corpus/WB/tmp_api_json/data-25.json\n",
      "/home/wb536061/wb_nlp/data/corpus/WB/tmp_api_json/data-27.json\n",
      "/home/wb536061/wb_nlp/data/corpus/WB/tmp_api_json/data-28.json\n",
      "/home/wb536061/wb_nlp/data/corpus/WB/tmp_api_json/data-26.json\n",
      "/home/wb536061/wb_nlp/data/corpus/WB/tmp_api_json/data-29.json\n",
      "/home/wb536061/wb_nlp/data/corpus/WB/tmp_api_json/data-30.json\n",
      "/home/wb536061/wb_nlp/data/corpus/WB/tmp_api_json/data-31.json\n",
      "/home/wb536061/wb_nlp/data/corpus/WB/tmp_api_json/data-32.json\n",
      "/home/wb536061/wb_nlp/data/corpus/WB/tmp_api_json/data-33.json\n",
      "/home/wb536061/wb_nlp/data/corpus/WB/tmp_api_json/data-34.json\n",
      "/home/wb536061/wb_nlp/data/corpus/WB/tmp_api_json/data-35.json\n",
      "/home/wb536061/wb_nlp/data/corpus/WB/tmp_api_json/data-37.json\n",
      "/home/wb536061/wb_nlp/data/corpus/WB/tmp_api_json/data-36.json\n",
      "/home/wb536061/wb_nlp/data/corpus/WB/tmp_api_json/data-38.json\n",
      "/home/wb536061/wb_nlp/data/corpus/WB/tmp_api_json/data-39.json\n",
      "/home/wb536061/wb_nlp/data/corpus/WB/tmp_api_json/data-40.json\n",
      "/home/wb536061/wb_nlp/data/corpus/WB/tmp_api_json/data-42.json\n",
      "/home/wb536061/wb_nlp/data/corpus/WB/tmp_api_json/data-45.json\n",
      "/home/wb536061/wb_nlp/data/corpus/WB/tmp_api_json/data-41.json\n",
      "/home/wb536061/wb_nlp/data/corpus/WB/tmp_api_json/data-43.json\n",
      "/home/wb536061/wb_nlp/data/corpus/WB/tmp_api_json/data-44.json\n",
      "/home/wb536061/wb_nlp/data/corpus/WB/tmp_api_json/data-47.json\n",
      "/home/wb536061/wb_nlp/data/corpus/WB/tmp_api_json/data-46.json\n",
      "/home/wb536061/wb_nlp/data/corpus/WB/tmp_api_json/data-48.json\n",
      "/home/wb536061/wb_nlp/data/corpus/WB/tmp_api_json/data-49.json\n",
      "/home/wb536061/wb_nlp/data/corpus/WB/tmp_api_json/data-50.json\n",
      "/home/wb536061/wb_nlp/data/corpus/WB/tmp_api_json/data-52.json\n",
      "/home/wb536061/wb_nlp/data/corpus/WB/tmp_api_json/data-51.json\n",
      "/home/wb536061/wb_nlp/data/corpus/WB/tmp_api_json/data-53.json\n",
      "/home/wb536061/wb_nlp/data/corpus/WB/tmp_api_json/data-56.json\n",
      "/home/wb536061/wb_nlp/data/corpus/WB/tmp_api_json/data-55.json\n",
      "/home/wb536061/wb_nlp/data/corpus/WB/tmp_api_json/data-54.json\n",
      "/home/wb536061/wb_nlp/data/corpus/WB/tmp_api_json/data-57.json\n",
      "/home/wb536061/wb_nlp/data/corpus/WB/tmp_api_json/data-59.json\n",
      "/home/wb536061/wb_nlp/data/corpus/WB/tmp_api_json/data-60.json\n",
      "/home/wb536061/wb_nlp/data/corpus/WB/tmp_api_json/data-58.json\n",
      "/home/wb536061/wb_nlp/data/corpus/WB/tmp_api_json/data-64.json\n",
      "/home/wb536061/wb_nlp/data/corpus/WB/tmp_api_json/data-62.json\n",
      "/home/wb536061/wb_nlp/data/corpus/WB/tmp_api_json/data-61.json\n",
      "/home/wb536061/wb_nlp/data/corpus/WB/tmp_api_json/data-65.json\n",
      "/home/wb536061/wb_nlp/data/corpus/WB/tmp_api_json/data-63.json\n",
      "/home/wb536061/wb_nlp/data/corpus/WB/tmp_api_json/data-67.json\n",
      "/home/wb536061/wb_nlp/data/corpus/WB/tmp_api_json/data-66.json\n",
      "/home/wb536061/wb_nlp/data/corpus/WB/tmp_api_json/data-68.json\n",
      "/home/wb536061/wb_nlp/data/corpus/WB/tmp_api_json/data-69.json\n",
      "/home/wb536061/wb_nlp/data/corpus/WB/tmp_api_json/data-71.json\n",
      "/home/wb536061/wb_nlp/data/corpus/WB/tmp_api_json/data-72.json\n",
      "/home/wb536061/wb_nlp/data/corpus/WB/tmp_api_json/data-70.json\n",
      "/home/wb536061/wb_nlp/data/corpus/WB/tmp_api_json/data-73.json\n",
      "/home/wb536061/wb_nlp/data/corpus/WB/tmp_api_json/data-74.json\n",
      "/home/wb536061/wb_nlp/data/corpus/WB/tmp_api_json/data-75.json\n",
      "/home/wb536061/wb_nlp/data/corpus/WB/tmp_api_json/data-76.json\n",
      "/home/wb536061/wb_nlp/data/corpus/WB/tmp_api_json/data-78.json\n",
      "/home/wb536061/wb_nlp/data/corpus/WB/tmp_api_json/data-77.json\n",
      "/home/wb536061/wb_nlp/data/corpus/WB/tmp_api_json/data-79.json\n",
      "/home/wb536061/wb_nlp/data/corpus/WB/tmp_api_json/data-81.json\n",
      "/home/wb536061/wb_nlp/data/corpus/WB/tmp_api_json/data-80.json\n",
      "/home/wb536061/wb_nlp/data/corpus/WB/tmp_api_json/data-82.json\n",
      "/home/wb536061/wb_nlp/data/corpus/WB/tmp_api_json/data-85.json\n",
      "/home/wb536061/wb_nlp/data/corpus/WB/tmp_api_json/data-83.json\n",
      "/home/wb536061/wb_nlp/data/corpus/WB/tmp_api_json/data-84.json\n",
      "/home/wb536061/wb_nlp/data/corpus/WB/tmp_api_json/data-86.json\n",
      "/home/wb536061/wb_nlp/data/corpus/WB/tmp_api_json/data-87.json\n",
      "/home/wb536061/wb_nlp/data/corpus/WB/tmp_api_json/data-88.json\n",
      "/home/wb536061/wb_nlp/data/corpus/WB/tmp_api_json/data-90.json\n",
      "/home/wb536061/wb_nlp/data/corpus/WB/tmp_api_json/data-89.json\n",
      "/home/wb536061/wb_nlp/data/corpus/WB/tmp_api_json/data-92.json\n",
      "/home/wb536061/wb_nlp/data/corpus/WB/tmp_api_json/data-94.json\n",
      "/home/wb536061/wb_nlp/data/corpus/WB/tmp_api_json/data-95.json\n",
      "/home/wb536061/wb_nlp/data/corpus/WB/tmp_api_json/data-96.json\n",
      "/home/wb536061/wb_nlp/data/corpus/WB/tmp_api_json/data-93.json\n",
      "/home/wb536061/wb_nlp/data/corpus/WB/tmp_api_json/data-91.json\n",
      "/home/wb536061/wb_nlp/data/corpus/WB/tmp_api_json/data-97.json\n",
      "/home/wb536061/wb_nlp/data/corpus/WB/tmp_api_json/data-100.json\n",
      "/home/wb536061/wb_nlp/data/corpus/WB/tmp_api_json/data-99.json\n",
      "/home/wb536061/wb_nlp/data/corpus/WB/tmp_api_json/data-98.json\n",
      "/home/wb536061/wb_nlp/data/corpus/WB/tmp_api_json/data-101.json\n",
      "/home/wb536061/wb_nlp/data/corpus/WB/tmp_api_json/data-103.json\n",
      "/home/wb536061/wb_nlp/data/corpus/WB/tmp_api_json/data-102.json\n",
      "/home/wb536061/wb_nlp/data/corpus/WB/tmp_api_json/data-104.json\n",
      "/home/wb536061/wb_nlp/data/corpus/WB/tmp_api_json/data-105.json\n",
      "/home/wb536061/wb_nlp/data/corpus/WB/tmp_api_json/data-107.json\n",
      "/home/wb536061/wb_nlp/data/corpus/WB/tmp_api_json/data-108.json\n",
      "/home/wb536061/wb_nlp/data/corpus/WB/tmp_api_json/data-106.json\n",
      "/home/wb536061/wb_nlp/data/corpus/WB/tmp_api_json/data-109.json\n",
      "/home/wb536061/wb_nlp/data/corpus/WB/tmp_api_json/data-110.json\n",
      "/home/wb536061/wb_nlp/data/corpus/WB/tmp_api_json/data-112.json\n",
      "/home/wb536061/wb_nlp/data/corpus/WB/tmp_api_json/data-114.json\n",
      "/home/wb536061/wb_nlp/data/corpus/WB/tmp_api_json/data-113.json\n",
      "/home/wb536061/wb_nlp/data/corpus/WB/tmp_api_json/data-111.json\n",
      "/home/wb536061/wb_nlp/data/corpus/WB/tmp_api_json/data-115.json\n",
      "/home/wb536061/wb_nlp/data/corpus/WB/tmp_api_json/data-116.json\n",
      "/home/wb536061/wb_nlp/data/corpus/WB/tmp_api_json/data-117.json\n",
      "/home/wb536061/wb_nlp/data/corpus/WB/tmp_api_json/data-118.json\n",
      "/home/wb536061/wb_nlp/data/corpus/WB/tmp_api_json/data-120.json\n",
      "/home/wb536061/wb_nlp/data/corpus/WB/tmp_api_json/data-119.json\n",
      "/home/wb536061/wb_nlp/data/corpus/WB/tmp_api_json/data-121.json\n",
      "/home/wb536061/wb_nlp/data/corpus/WB/tmp_api_json/data-122.json\n",
      "/home/wb536061/wb_nlp/data/corpus/WB/tmp_api_json/data-125.json\n",
      "/home/wb536061/wb_nlp/data/corpus/WB/tmp_api_json/data-123.json\n",
      "/home/wb536061/wb_nlp/data/corpus/WB/tmp_api_json/data-124.json\n",
      "/home/wb536061/wb_nlp/data/corpus/WB/tmp_api_json/data-127.json\n",
      "/home/wb536061/wb_nlp/data/corpus/WB/tmp_api_json/data-126.json\n",
      "/home/wb536061/wb_nlp/data/corpus/WB/tmp_api_json/data-128.json\n",
      "/home/wb536061/wb_nlp/data/corpus/WB/tmp_api_json/data-129.json\n",
      "/home/wb536061/wb_nlp/data/corpus/WB/tmp_api_json/data-130.json\n",
      "/home/wb536061/wb_nlp/data/corpus/WB/tmp_api_json/data-132.json\n",
      "/home/wb536061/wb_nlp/data/corpus/WB/tmp_api_json/data-131.json\n",
      "/home/wb536061/wb_nlp/data/corpus/WB/tmp_api_json/data-133.json\n",
      "/home/wb536061/wb_nlp/data/corpus/WB/tmp_api_json/data-134.json\n",
      "/home/wb536061/wb_nlp/data/corpus/WB/tmp_api_json/data-135.json\n",
      "/home/wb536061/wb_nlp/data/corpus/WB/tmp_api_json/data-136.json\n",
      "/home/wb536061/wb_nlp/data/corpus/WB/tmp_api_json/data-137.json\n",
      "/home/wb536061/wb_nlp/data/corpus/WB/tmp_api_json/data-139.json\n",
      "/home/wb536061/wb_nlp/data/corpus/WB/tmp_api_json/data-138.json\n",
      "/home/wb536061/wb_nlp/data/corpus/WB/tmp_api_json/data-141.json\n",
      "/home/wb536061/wb_nlp/data/corpus/WB/tmp_api_json/data-140.json\n",
      "/home/wb536061/wb_nlp/data/corpus/WB/tmp_api_json/data-143.json\n",
      "/home/wb536061/wb_nlp/data/corpus/WB/tmp_api_json/data-142.json\n",
      "/home/wb536061/wb_nlp/data/corpus/WB/tmp_api_json/data-144.json\n",
      "/home/wb536061/wb_nlp/data/corpus/WB/tmp_api_json/data-145.json\n",
      "/home/wb536061/wb_nlp/data/corpus/WB/tmp_api_json/data-148.json\n",
      "/home/wb536061/wb_nlp/data/corpus/WB/tmp_api_json/data-147.json\n",
      "/home/wb536061/wb_nlp/data/corpus/WB/tmp_api_json/data-146.json\n",
      "/home/wb536061/wb_nlp/data/corpus/WB/tmp_api_json/data-149.json\n",
      "/home/wb536061/wb_nlp/data/corpus/WB/tmp_api_json/data-151.json\n",
      "/home/wb536061/wb_nlp/data/corpus/WB/tmp_api_json/data-150.json\n",
      "/home/wb536061/wb_nlp/data/corpus/WB/tmp_api_json/data-154.json\n",
      "/home/wb536061/wb_nlp/data/corpus/WB/tmp_api_json/data-153.json\n",
      "/home/wb536061/wb_nlp/data/corpus/WB/tmp_api_json/data-155.json\n",
      "/home/wb536061/wb_nlp/data/corpus/WB/tmp_api_json/data-152.json\n",
      "/home/wb536061/wb_nlp/data/corpus/WB/tmp_api_json/data-156.json\n",
      "/home/wb536061/wb_nlp/data/corpus/WB/tmp_api_json/data-157.json\n",
      "/home/wb536061/wb_nlp/data/corpus/WB/tmp_api_json/data-158.json\n",
      "/home/wb536061/wb_nlp/data/corpus/WB/tmp_api_json/data-160.json\n",
      "/home/wb536061/wb_nlp/data/corpus/WB/tmp_api_json/data-159.json\n",
      "/home/wb536061/wb_nlp/data/corpus/WB/tmp_api_json/data-161.json\n",
      "/home/wb536061/wb_nlp/data/corpus/WB/tmp_api_json/data-162.json\n",
      "/home/wb536061/wb_nlp/data/corpus/WB/tmp_api_json/data-163.json\n",
      "/home/wb536061/wb_nlp/data/corpus/WB/tmp_api_json/data-165.json\n",
      "/home/wb536061/wb_nlp/data/corpus/WB/tmp_api_json/data-166.json\n",
      "/home/wb536061/wb_nlp/data/corpus/WB/tmp_api_json/data-164.json\n",
      "/home/wb536061/wb_nlp/data/corpus/WB/tmp_api_json/data-167.json\n",
      "/home/wb536061/wb_nlp/data/corpus/WB/tmp_api_json/data-169.json\n",
      "/home/wb536061/wb_nlp/data/corpus/WB/tmp_api_json/data-168.json\n",
      "/home/wb536061/wb_nlp/data/corpus/WB/tmp_api_json/data-170.json\n",
      "/home/wb536061/wb_nlp/data/corpus/WB/tmp_api_json/data-173.json\n",
      "/home/wb536061/wb_nlp/data/corpus/WB/tmp_api_json/data-171.json\n",
      "/home/wb536061/wb_nlp/data/corpus/WB/tmp_api_json/data-172.json\n",
      "/home/wb536061/wb_nlp/data/corpus/WB/tmp_api_json/data-174.json\n",
      "/home/wb536061/wb_nlp/data/corpus/WB/tmp_api_json/data-175.json\n",
      "/home/wb536061/wb_nlp/data/corpus/WB/tmp_api_json/data-176.json\n",
      "/home/wb536061/wb_nlp/data/corpus/WB/tmp_api_json/data-178.json\n",
      "/home/wb536061/wb_nlp/data/corpus/WB/tmp_api_json/data-177.json\n",
      "/home/wb536061/wb_nlp/data/corpus/WB/tmp_api_json/data-179.json\n",
      "/home/wb536061/wb_nlp/data/corpus/WB/tmp_api_json/data-180.json\n",
      "/home/wb536061/wb_nlp/data/corpus/WB/tmp_api_json/data-181.json\n",
      "/home/wb536061/wb_nlp/data/corpus/WB/tmp_api_json/data-182.json\n",
      "/home/wb536061/wb_nlp/data/corpus/WB/tmp_api_json/data-184.json\n",
      "/home/wb536061/wb_nlp/data/corpus/WB/tmp_api_json/data-183.json\n",
      "/home/wb536061/wb_nlp/data/corpus/WB/tmp_api_json/data-185.json\n",
      "/home/wb536061/wb_nlp/data/corpus/WB/tmp_api_json/data-187.json\n",
      "/home/wb536061/wb_nlp/data/corpus/WB/tmp_api_json/data-189.json\n",
      "/home/wb536061/wb_nlp/data/corpus/WB/tmp_api_json/data-188.json\n",
      "/home/wb536061/wb_nlp/data/corpus/WB/tmp_api_json/data-186.json\n",
      "/home/wb536061/wb_nlp/data/corpus/WB/tmp_api_json/data-190.json\n",
      "/home/wb536061/wb_nlp/data/corpus/WB/tmp_api_json/data-192.json\n",
      "/home/wb536061/wb_nlp/data/corpus/WB/tmp_api_json/data-194.json\n",
      "/home/wb536061/wb_nlp/data/corpus/WB/tmp_api_json/data-191.json\n",
      "/home/wb536061/wb_nlp/data/corpus/WB/tmp_api_json/data-193.json\n",
      "/home/wb536061/wb_nlp/data/corpus/WB/tmp_api_json/data-197.json\n",
      "/home/wb536061/wb_nlp/data/corpus/WB/tmp_api_json/data-196.json\n",
      "/home/wb536061/wb_nlp/data/corpus/WB/tmp_api_json/data-195.json\n",
      "/home/wb536061/wb_nlp/data/corpus/WB/tmp_api_json/data-198.json\n",
      "/home/wb536061/wb_nlp/data/corpus/WB/tmp_api_json/data-199.json\n",
      "/home/wb536061/wb_nlp/data/corpus/WB/tmp_api_json/data-200.json\n",
      "/home/wb536061/wb_nlp/data/corpus/WB/tmp_api_json/data-201.json\n",
      "/home/wb536061/wb_nlp/data/corpus/WB/tmp_api_json/data-202.json\n",
      "/home/wb536061/wb_nlp/data/corpus/WB/tmp_api_json/data-204.json\n",
      "/home/wb536061/wb_nlp/data/corpus/WB/tmp_api_json/data-203.json\n",
      "/home/wb536061/wb_nlp/data/corpus/WB/tmp_api_json/data-206.json\n",
      "/home/wb536061/wb_nlp/data/corpus/WB/tmp_api_json/data-205.json\n",
      "/home/wb536061/wb_nlp/data/corpus/WB/tmp_api_json/data-207.json\n",
      "/home/wb536061/wb_nlp/data/corpus/WB/tmp_api_json/data-209.json\n",
      "/home/wb536061/wb_nlp/data/corpus/WB/tmp_api_json/data-210.json\n",
      "/home/wb536061/wb_nlp/data/corpus/WB/tmp_api_json/data-208.json\n",
      "/home/wb536061/wb_nlp/data/corpus/WB/tmp_api_json/data-212.json\n",
      "/home/wb536061/wb_nlp/data/corpus/WB/tmp_api_json/data-214.json\n",
      "/home/wb536061/wb_nlp/data/corpus/WB/tmp_api_json/data-213.json\n",
      "/home/wb536061/wb_nlp/data/corpus/WB/tmp_api_json/data-211.json\n",
      "/home/wb536061/wb_nlp/data/corpus/WB/tmp_api_json/data-215.json\n",
      "/home/wb536061/wb_nlp/data/corpus/WB/tmp_api_json/data-216.json\n",
      "/home/wb536061/wb_nlp/data/corpus/WB/tmp_api_json/data-217.json\n",
      "/home/wb536061/wb_nlp/data/corpus/WB/tmp_api_json/data-218.json\n",
      "/home/wb536061/wb_nlp/data/corpus/WB/tmp_api_json/data-219.json\n",
      "/home/wb536061/wb_nlp/data/corpus/WB/tmp_api_json/data-220.json\n",
      "/home/wb536061/wb_nlp/data/corpus/WB/tmp_api_json/data-222.json\n",
      "/home/wb536061/wb_nlp/data/corpus/WB/tmp_api_json/data-221.json\n",
      "/home/wb536061/wb_nlp/data/corpus/WB/tmp_api_json/data-223.json\n",
      "/home/wb536061/wb_nlp/data/corpus/WB/tmp_api_json/data-224.json\n",
      "/home/wb536061/wb_nlp/data/corpus/WB/tmp_api_json/data-226.json\n",
      "/home/wb536061/wb_nlp/data/corpus/WB/tmp_api_json/data-227.json\n",
      "/home/wb536061/wb_nlp/data/corpus/WB/tmp_api_json/data-225.json\n",
      "/home/wb536061/wb_nlp/data/corpus/WB/tmp_api_json/data-228.json\n",
      "/home/wb536061/wb_nlp/data/corpus/WB/tmp_api_json/data-229.json\n",
      "/home/wb536061/wb_nlp/data/corpus/WB/tmp_api_json/data-231.json\n",
      "/home/wb536061/wb_nlp/data/corpus/WB/tmp_api_json/data-232.json\n",
      "/home/wb536061/wb_nlp/data/corpus/WB/tmp_api_json/data-230.json\n",
      "/home/wb536061/wb_nlp/data/corpus/WB/tmp_api_json/data-233.json\n",
      "/home/wb536061/wb_nlp/data/corpus/WB/tmp_api_json/data-234.json\n",
      "/home/wb536061/wb_nlp/data/corpus/WB/tmp_api_json/data-235.json\n",
      "/home/wb536061/wb_nlp/data/corpus/WB/tmp_api_json/data-236.json\n",
      "/home/wb536061/wb_nlp/data/corpus/WB/tmp_api_json/data-237.json\n",
      "/home/wb536061/wb_nlp/data/corpus/WB/tmp_api_json/data-238.json\n",
      "/home/wb536061/wb_nlp/data/corpus/WB/tmp_api_json/data-239.json\n",
      "/home/wb536061/wb_nlp/data/corpus/WB/tmp_api_json/data-241.json\n",
      "/home/wb536061/wb_nlp/data/corpus/WB/tmp_api_json/data-242.json\n",
      "/home/wb536061/wb_nlp/data/corpus/WB/tmp_api_json/data-240.json\n",
      "/home/wb536061/wb_nlp/data/corpus/WB/tmp_api_json/data-243.json\n",
      "/home/wb536061/wb_nlp/data/corpus/WB/tmp_api_json/data-245.json\n",
      "/home/wb536061/wb_nlp/data/corpus/WB/tmp_api_json/data-244.json\n",
      "/home/wb536061/wb_nlp/data/corpus/WB/tmp_api_json/data-246.json\n",
      "/home/wb536061/wb_nlp/data/corpus/WB/tmp_api_json/data-248.json\n",
      "/home/wb536061/wb_nlp/data/corpus/WB/tmp_api_json/data-247.json\n",
      "/home/wb536061/wb_nlp/data/corpus/WB/tmp_api_json/data-250.json\n",
      "/home/wb536061/wb_nlp/data/corpus/WB/tmp_api_json/data-249.json\n",
      "/home/wb536061/wb_nlp/data/corpus/WB/tmp_api_json/data-252.json\n",
      "/home/wb536061/wb_nlp/data/corpus/WB/tmp_api_json/data-251.json\n",
      "/home/wb536061/wb_nlp/data/corpus/WB/tmp_api_json/data-253.json\n",
      "/home/wb536061/wb_nlp/data/corpus/WB/tmp_api_json/data-255.json\n",
      "/home/wb536061/wb_nlp/data/corpus/WB/tmp_api_json/data-254.json\n",
      "/home/wb536061/wb_nlp/data/corpus/WB/tmp_api_json/data-256.json\n",
      "/home/wb536061/wb_nlp/data/corpus/WB/tmp_api_json/data-257.json\n",
      "/home/wb536061/wb_nlp/data/corpus/WB/tmp_api_json/data-259.json\n",
      "/home/wb536061/wb_nlp/data/corpus/WB/tmp_api_json/data-258.json\n",
      "/home/wb536061/wb_nlp/data/corpus/WB/tmp_api_json/data-260.json\n",
      "/home/wb536061/wb_nlp/data/corpus/WB/tmp_api_json/data-262.json\n",
      "/home/wb536061/wb_nlp/data/corpus/WB/tmp_api_json/data-261.json\n",
      "/home/wb536061/wb_nlp/data/corpus/WB/tmp_api_json/data-264.json\n",
      "/home/wb536061/wb_nlp/data/corpus/WB/tmp_api_json/data-263.json\n",
      "/home/wb536061/wb_nlp/data/corpus/WB/tmp_api_json/data-265.json\n",
      "/home/wb536061/wb_nlp/data/corpus/WB/tmp_api_json/data-267.json\n",
      "/home/wb536061/wb_nlp/data/corpus/WB/tmp_api_json/data-266.json\n",
      "/home/wb536061/wb_nlp/data/corpus/WB/tmp_api_json/data-269.json\n",
      "/home/wb536061/wb_nlp/data/corpus/WB/tmp_api_json/data-268.json\n",
      "/home/wb536061/wb_nlp/data/corpus/WB/tmp_api_json/data-271.json\n",
      "/home/wb536061/wb_nlp/data/corpus/WB/tmp_api_json/data-270.json\n",
      "/home/wb536061/wb_nlp/data/corpus/WB/tmp_api_json/data-273.json\n",
      "/home/wb536061/wb_nlp/data/corpus/WB/tmp_api_json/data-274.json\n",
      "/home/wb536061/wb_nlp/data/corpus/WB/tmp_api_json/data-275.json\n",
      "/home/wb536061/wb_nlp/data/corpus/WB/tmp_api_json/data-272.json\n",
      "/home/wb536061/wb_nlp/data/corpus/WB/tmp_api_json/data-279.json\n",
      "/home/wb536061/wb_nlp/data/corpus/WB/tmp_api_json/data-278.json\n",
      "/home/wb536061/wb_nlp/data/corpus/WB/tmp_api_json/data-276.json\n",
      "/home/wb536061/wb_nlp/data/corpus/WB/tmp_api_json/data-277.json\n",
      "/home/wb536061/wb_nlp/data/corpus/WB/tmp_api_json/data-280.json\n",
      "/home/wb536061/wb_nlp/data/corpus/WB/tmp_api_json/data-281.json\n",
      "/home/wb536061/wb_nlp/data/corpus/WB/tmp_api_json/data-283.json\n",
      "/home/wb536061/wb_nlp/data/corpus/WB/tmp_api_json/data-282.json\n",
      "/home/wb536061/wb_nlp/data/corpus/WB/tmp_api_json/data-285.json\n",
      "/home/wb536061/wb_nlp/data/corpus/WB/tmp_api_json/data-286.json\n",
      "/home/wb536061/wb_nlp/data/corpus/WB/tmp_api_json/data-284.json\n",
      "/home/wb536061/wb_nlp/data/corpus/WB/tmp_api_json/data-287.json\n",
      "/home/wb536061/wb_nlp/data/corpus/WB/tmp_api_json/data-290.json\n",
      "/home/wb536061/wb_nlp/data/corpus/WB/tmp_api_json/data-288.json\n",
      "/home/wb536061/wb_nlp/data/corpus/WB/tmp_api_json/data-289.json\n",
      "/home/wb536061/wb_nlp/data/corpus/WB/tmp_api_json/data-292.json\n",
      "/home/wb536061/wb_nlp/data/corpus/WB/tmp_api_json/data-293.json\n",
      "/home/wb536061/wb_nlp/data/corpus/WB/tmp_api_json/data-291.json\n",
      "/home/wb536061/wb_nlp/data/corpus/WB/tmp_api_json/data-294.json\n",
      "/home/wb536061/wb_nlp/data/corpus/WB/tmp_api_json/data-295.json\n",
      "/home/wb536061/wb_nlp/data/corpus/WB/tmp_api_json/data-297.json\n",
      "/home/wb536061/wb_nlp/data/corpus/WB/tmp_api_json/data-296.json\n",
      "/home/wb536061/wb_nlp/data/corpus/WB/tmp_api_json/data-298.json\n",
      "/home/wb536061/wb_nlp/data/corpus/WB/tmp_api_json/data-300.json\n",
      "/home/wb536061/wb_nlp/data/corpus/WB/tmp_api_json/data-299.json\n",
      "/home/wb536061/wb_nlp/data/corpus/WB/tmp_api_json/data-301.json\n",
      "/home/wb536061/wb_nlp/data/corpus/WB/tmp_api_json/data-304.json\n",
      "/home/wb536061/wb_nlp/data/corpus/WB/tmp_api_json/data-303.json\n",
      "/home/wb536061/wb_nlp/data/corpus/WB/tmp_api_json/data-306.json\n",
      "/home/wb536061/wb_nlp/data/corpus/WB/tmp_api_json/data-305.json\n",
      "/home/wb536061/wb_nlp/data/corpus/WB/tmp_api_json/data-307.json\n",
      "/home/wb536061/wb_nlp/data/corpus/WB/tmp_api_json/data-309.json\n",
      "/home/wb536061/wb_nlp/data/corpus/WB/tmp_api_json/data-308.json\n",
      "/home/wb536061/wb_nlp/data/corpus/WB/tmp_api_json/data-310.json\n",
      "/home/wb536061/wb_nlp/data/corpus/WB/tmp_api_json/data-311.json\n",
      "/home/wb536061/wb_nlp/data/corpus/WB/tmp_api_json/data-312.json\n",
      "/home/wb536061/wb_nlp/data/corpus/WB/tmp_api_json/data-313.json\n",
      "/home/wb536061/wb_nlp/data/corpus/WB/tmp_api_json/data-314.json\n",
      "/home/wb536061/wb_nlp/data/corpus/WB/tmp_api_json/data-316.json\n",
      "/home/wb536061/wb_nlp/data/corpus/WB/tmp_api_json/data-302.json\n",
      "/home/wb536061/wb_nlp/data/corpus/WB/tmp_api_json/data-317.json\n",
      "/home/wb536061/wb_nlp/data/corpus/WB/tmp_api_json/data-315.json\n",
      "/home/wb536061/wb_nlp/data/corpus/WB/tmp_api_json/data-318.json\n",
      "/home/wb536061/wb_nlp/data/corpus/WB/tmp_api_json/data-320.json\n",
      "/home/wb536061/wb_nlp/data/corpus/WB/tmp_api_json/data-319.json\n",
      "/home/wb536061/wb_nlp/data/corpus/WB/tmp_api_json/data-322.json\n",
      "/home/wb536061/wb_nlp/data/corpus/WB/tmp_api_json/data-321.json\n",
      "/home/wb536061/wb_nlp/data/corpus/WB/tmp_api_json/data-323.json\n",
      "/home/wb536061/wb_nlp/data/corpus/WB/tmp_api_json/data-325.json\n",
      "/home/wb536061/wb_nlp/data/corpus/WB/tmp_api_json/data-326.json\n",
      "/home/wb536061/wb_nlp/data/corpus/WB/tmp_api_json/data-324.json\n",
      "/home/wb536061/wb_nlp/data/corpus/WB/tmp_api_json/data-327.json\n",
      "/home/wb536061/wb_nlp/data/corpus/WB/tmp_api_json/data-328.json\n",
      "/home/wb536061/wb_nlp/data/corpus/WB/tmp_api_json/data-329.json\n",
      "/home/wb536061/wb_nlp/data/corpus/WB/tmp_api_json/data-330.json\n",
      "/home/wb536061/wb_nlp/data/corpus/WB/tmp_api_json/data-331.json\n",
      "/home/wb536061/wb_nlp/data/corpus/WB/tmp_api_json/data-332.json\n",
      "/home/wb536061/wb_nlp/data/corpus/WB/tmp_api_json/data-333.json\n",
      "/home/wb536061/wb_nlp/data/corpus/WB/tmp_api_json/data-334.json\n",
      "/home/wb536061/wb_nlp/data/corpus/WB/tmp_api_json/data-335.json\n",
      "/home/wb536061/wb_nlp/data/corpus/WB/tmp_api_json/data-337.json\n",
      "/home/wb536061/wb_nlp/data/corpus/WB/tmp_api_json/data-336.json\n",
      "/home/wb536061/wb_nlp/data/corpus/WB/tmp_api_json/data-338.json\n",
      "/home/wb536061/wb_nlp/data/corpus/WB/tmp_api_json/data-339.json\n",
      "/home/wb536061/wb_nlp/data/corpus/WB/tmp_api_json/data-341.json\n",
      "/home/wb536061/wb_nlp/data/corpus/WB/tmp_api_json/data-342.json\n",
      "/home/wb536061/wb_nlp/data/corpus/WB/tmp_api_json/data-340.json\n",
      "/home/wb536061/wb_nlp/data/corpus/WB/tmp_api_json/data-343.json\n",
      "/home/wb536061/wb_nlp/data/corpus/WB/tmp_api_json/data-345.json\n",
      "/home/wb536061/wb_nlp/data/corpus/WB/tmp_api_json/data-344.json\n",
      "/home/wb536061/wb_nlp/data/corpus/WB/tmp_api_json/data-346.json\n",
      "/home/wb536061/wb_nlp/data/corpus/WB/tmp_api_json/data-347.json\n",
      "/home/wb536061/wb_nlp/data/corpus/WB/tmp_api_json/data-348.json\n",
      "/home/wb536061/wb_nlp/data/corpus/WB/tmp_api_json/data-349.json\n",
      "/home/wb536061/wb_nlp/data/corpus/WB/tmp_api_json/data-350.json\n",
      "/home/wb536061/wb_nlp/data/corpus/WB/tmp_api_json/data-351.json\n",
      "/home/wb536061/wb_nlp/data/corpus/WB/tmp_api_json/data-353.json\n",
      "/home/wb536061/wb_nlp/data/corpus/WB/tmp_api_json/data-352.json\n",
      "/home/wb536061/wb_nlp/data/corpus/WB/tmp_api_json/data-354.json\n",
      "/home/wb536061/wb_nlp/data/corpus/WB/tmp_api_json/data-356.json\n",
      "/home/wb536061/wb_nlp/data/corpus/WB/tmp_api_json/data-355.json\n",
      "/home/wb536061/wb_nlp/data/corpus/WB/tmp_api_json/data-357.json\n",
      "/home/wb536061/wb_nlp/data/corpus/WB/tmp_api_json/data-358.json\n",
      "/home/wb536061/wb_nlp/data/corpus/WB/tmp_api_json/data-359.json\n",
      "/home/wb536061/wb_nlp/data/corpus/WB/tmp_api_json/data-360.json\n",
      "/home/wb536061/wb_nlp/data/corpus/WB/tmp_api_json/data-361.json\n",
      "/home/wb536061/wb_nlp/data/corpus/WB/tmp_api_json/data-362.json\n",
      "/home/wb536061/wb_nlp/data/corpus/WB/tmp_api_json/data-363.json\n",
      "/home/wb536061/wb_nlp/data/corpus/WB/tmp_api_json/data-365.json\n",
      "/home/wb536061/wb_nlp/data/corpus/WB/tmp_api_json/data-364.json\n",
      "/home/wb536061/wb_nlp/data/corpus/WB/tmp_api_json/data-366.json\n",
      "/home/wb536061/wb_nlp/data/corpus/WB/tmp_api_json/data-369.json\n",
      "/home/wb536061/wb_nlp/data/corpus/WB/tmp_api_json/data-367.json\n",
      "/home/wb536061/wb_nlp/data/corpus/WB/tmp_api_json/data-368.json\n",
      "/home/wb536061/wb_nlp/data/corpus/WB/tmp_api_json/data-370.json\n",
      "/home/wb536061/wb_nlp/data/corpus/WB/tmp_api_json/data-372.json\n",
      "/home/wb536061/wb_nlp/data/corpus/WB/tmp_api_json/data-371.json\n",
      "/home/wb536061/wb_nlp/data/corpus/WB/tmp_api_json/data-373.json\n",
      "/home/wb536061/wb_nlp/data/corpus/WB/tmp_api_json/data-374.json\n",
      "/home/wb536061/wb_nlp/data/corpus/WB/tmp_api_json/data-375.json\n",
      "/home/wb536061/wb_nlp/data/corpus/WB/tmp_api_json/data-376.json\n",
      "/home/wb536061/wb_nlp/data/corpus/WB/tmp_api_json/data-378.json\n",
      "/home/wb536061/wb_nlp/data/corpus/WB/tmp_api_json/data-377.json\n",
      "/home/wb536061/wb_nlp/data/corpus/WB/tmp_api_json/data-379.json\n",
      "/home/wb536061/wb_nlp/data/corpus/WB/tmp_api_json/data-381.json\n",
      "/home/wb536061/wb_nlp/data/corpus/WB/tmp_api_json/data-382.json\n",
      "/home/wb536061/wb_nlp/data/corpus/WB/tmp_api_json/data-380.json\n",
      "/home/wb536061/wb_nlp/data/corpus/WB/tmp_api_json/data-384.json\n",
      "/home/wb536061/wb_nlp/data/corpus/WB/tmp_api_json/data-385.json\n",
      "/home/wb536061/wb_nlp/data/corpus/WB/tmp_api_json/data-383.json\n",
      "/home/wb536061/wb_nlp/data/corpus/WB/tmp_api_json/data-387.json\n",
      "/home/wb536061/wb_nlp/data/corpus/WB/tmp_api_json/data-386.json\n",
      "/home/wb536061/wb_nlp/data/corpus/WB/tmp_api_json/data-388.json\n",
      "/home/wb536061/wb_nlp/data/corpus/WB/tmp_api_json/data-389.json\n",
      "/home/wb536061/wb_nlp/data/corpus/WB/tmp_api_json/data-390.json\n",
      "/home/wb536061/wb_nlp/data/corpus/WB/tmp_api_json/data-392.json\n",
      "/home/wb536061/wb_nlp/data/corpus/WB/tmp_api_json/data-393.json\n",
      "/home/wb536061/wb_nlp/data/corpus/WB/tmp_api_json/data-391.json\n",
      "/home/wb536061/wb_nlp/data/corpus/WB/tmp_api_json/data-394.json\n",
      "/home/wb536061/wb_nlp/data/corpus/WB/tmp_api_json/data-395.json\n",
      "/home/wb536061/wb_nlp/data/corpus/WB/tmp_api_json/data-396.json\n",
      "/home/wb536061/wb_nlp/data/corpus/WB/tmp_api_json/data-397.json\n",
      "/home/wb536061/wb_nlp/data/corpus/WB/tmp_api_json/data-401.json\n",
      "/home/wb536061/wb_nlp/data/corpus/WB/tmp_api_json/data-398.json\n",
      "/home/wb536061/wb_nlp/data/corpus/WB/tmp_api_json/data-400.json\n",
      "/home/wb536061/wb_nlp/data/corpus/WB/tmp_api_json/data-399.json\n",
      "/home/wb536061/wb_nlp/data/corpus/WB/tmp_api_json/data-404.json\n",
      "/home/wb536061/wb_nlp/data/corpus/WB/tmp_api_json/data-402.json\n",
      "/home/wb536061/wb_nlp/data/corpus/WB/tmp_api_json/data-403.json\n",
      "/home/wb536061/wb_nlp/data/corpus/WB/tmp_api_json/data-406.json\n",
      "/home/wb536061/wb_nlp/data/corpus/WB/tmp_api_json/data-407.json\n",
      "/home/wb536061/wb_nlp/data/corpus/WB/tmp_api_json/data-405.json\n",
      "/home/wb536061/wb_nlp/data/corpus/WB/tmp_api_json/data-408.json\n",
      "/home/wb536061/wb_nlp/data/corpus/WB/tmp_api_json/data-410.json\n",
      "/home/wb536061/wb_nlp/data/corpus/WB/tmp_api_json/data-409.json\n",
      "/home/wb536061/wb_nlp/data/corpus/WB/tmp_api_json/data-411.json\n",
      "/home/wb536061/wb_nlp/data/corpus/WB/tmp_api_json/data-413.json\n",
      "/home/wb536061/wb_nlp/data/corpus/WB/tmp_api_json/data-414.json\n",
      "/home/wb536061/wb_nlp/data/corpus/WB/tmp_api_json/data-415.json\n",
      "/home/wb536061/wb_nlp/data/corpus/WB/tmp_api_json/data-416.json\n",
      "/home/wb536061/wb_nlp/data/corpus/WB/tmp_api_json/data-412.json\n",
      "/home/wb536061/wb_nlp/data/corpus/WB/tmp_api_json/data-419.json\n",
      "/home/wb536061/wb_nlp/data/corpus/WB/tmp_api_json/data-417.json\n",
      "/home/wb536061/wb_nlp/data/corpus/WB/tmp_api_json/data-418.json\n",
      "/home/wb536061/wb_nlp/data/corpus/WB/tmp_api_json/data-420.json\n",
      "/home/wb536061/wb_nlp/data/corpus/WB/tmp_api_json/data-421.json\n",
      "/home/wb536061/wb_nlp/data/corpus/WB/tmp_api_json/data-422.json\n",
      "/home/wb536061/wb_nlp/data/corpus/WB/tmp_api_json/data-423.json\n",
      "/home/wb536061/wb_nlp/data/corpus/WB/tmp_api_json/data-424.json\n",
      "/home/wb536061/wb_nlp/data/corpus/WB/tmp_api_json/data-425.json\n",
      "/home/wb536061/wb_nlp/data/corpus/WB/tmp_api_json/data-428.json\n",
      "/home/wb536061/wb_nlp/data/corpus/WB/tmp_api_json/data-427.json\n",
      "/home/wb536061/wb_nlp/data/corpus/WB/tmp_api_json/data-426.json\n",
      "/home/wb536061/wb_nlp/data/corpus/WB/tmp_api_json/data-429.json\n",
      "/home/wb536061/wb_nlp/data/corpus/WB/tmp_api_json/data-430.json\n",
      "/home/wb536061/wb_nlp/data/corpus/WB/tmp_api_json/data-432.json\n",
      "/home/wb536061/wb_nlp/data/corpus/WB/tmp_api_json/data-431.json\n",
      "/home/wb536061/wb_nlp/data/corpus/WB/tmp_api_json/data-434.json\n",
      "/home/wb536061/wb_nlp/data/corpus/WB/tmp_api_json/data-435.json\n",
      "/home/wb536061/wb_nlp/data/corpus/WB/tmp_api_json/data-433.json\n",
      "/home/wb536061/wb_nlp/data/corpus/WB/tmp_api_json/data-436.json\n",
      "/home/wb536061/wb_nlp/data/corpus/WB/tmp_api_json/data-437.json\n",
      "/home/wb536061/wb_nlp/data/corpus/WB/tmp_api_json/data-439.json\n",
      "/home/wb536061/wb_nlp/data/corpus/WB/tmp_api_json/data-438.json\n",
      "/home/wb536061/wb_nlp/data/corpus/WB/tmp_api_json/data-440.json\n",
      "/home/wb536061/wb_nlp/data/corpus/WB/tmp_api_json/data-441.json\n",
      "/home/wb536061/wb_nlp/data/corpus/WB/tmp_api_json/data-442.json\n",
      "/home/wb536061/wb_nlp/data/corpus/WB/tmp_api_json/data-443.json\n",
      "/home/wb536061/wb_nlp/data/corpus/WB/tmp_api_json/data-444.json\n",
      "/home/wb536061/wb_nlp/data/corpus/WB/tmp_api_json/data-446.json\n",
      "/home/wb536061/wb_nlp/data/corpus/WB/tmp_api_json/data-448.json\n",
      "/home/wb536061/wb_nlp/data/corpus/WB/tmp_api_json/data-445.json\n",
      "/home/wb536061/wb_nlp/data/corpus/WB/tmp_api_json/data-447.json\n",
      "/home/wb536061/wb_nlp/data/corpus/WB/tmp_api_json/data-451.json\n",
      "/home/wb536061/wb_nlp/data/corpus/WB/tmp_api_json/data-449.json\n",
      "/home/wb536061/wb_nlp/data/corpus/WB/tmp_api_json/data-452.json\n",
      "/home/wb536061/wb_nlp/data/corpus/WB/tmp_api_json/data-450.json\n",
      "/home/wb536061/wb_nlp/data/corpus/WB/tmp_api_json/data-454.json\n",
      "/home/wb536061/wb_nlp/data/corpus/WB/tmp_api_json/data-453.json\n",
      "/home/wb536061/wb_nlp/data/corpus/WB/tmp_api_json/data-455.json\n",
      "/home/wb536061/wb_nlp/data/corpus/WB/tmp_api_json/data-456.json\n",
      "/home/wb536061/wb_nlp/data/corpus/WB/tmp_api_json/data-457.json\n",
      "/home/wb536061/wb_nlp/data/corpus/WB/tmp_api_json/data-458.json\n",
      "/home/wb536061/wb_nlp/data/corpus/WB/tmp_api_json/data-460.json\n",
      "/home/wb536061/wb_nlp/data/corpus/WB/tmp_api_json/data-461.json\n",
      "/home/wb536061/wb_nlp/data/corpus/WB/tmp_api_json/data-459.json\n",
      "/home/wb536061/wb_nlp/data/corpus/WB/tmp_api_json/data-462.json\n",
      "/home/wb536061/wb_nlp/data/corpus/WB/tmp_api_json/data-463.json\n",
      "/home/wb536061/wb_nlp/data/corpus/WB/tmp_api_json/data-465.json\n",
      "/home/wb536061/wb_nlp/data/corpus/WB/tmp_api_json/data-466.json\n",
      "/home/wb536061/wb_nlp/data/corpus/WB/tmp_api_json/data-464.json\n",
      "/home/wb536061/wb_nlp/data/corpus/WB/tmp_api_json/data-467.json\n",
      "/home/wb536061/wb_nlp/data/corpus/WB/tmp_api_json/data-469.json\n",
      "/home/wb536061/wb_nlp/data/corpus/WB/tmp_api_json/data-468.json\n",
      "/home/wb536061/wb_nlp/data/corpus/WB/tmp_api_json/data-470.json\n",
      "/home/wb536061/wb_nlp/data/corpus/WB/tmp_api_json/data-471.json\n",
      "/home/wb536061/wb_nlp/data/corpus/WB/tmp_api_json/data-473.json\n",
      "/home/wb536061/wb_nlp/data/corpus/WB/tmp_api_json/data-472.json\n",
      "/home/wb536061/wb_nlp/data/corpus/WB/tmp_api_json/data-474.json\n",
      "/home/wb536061/wb_nlp/data/corpus/WB/tmp_api_json/data-475.json\n",
      "/home/wb536061/wb_nlp/data/corpus/WB/tmp_api_json/data-476.json\n",
      "/home/wb536061/wb_nlp/data/corpus/WB/tmp_api_json/data-478.json\n",
      "/home/wb536061/wb_nlp/data/corpus/WB/tmp_api_json/data-477.json\n",
      "/home/wb536061/wb_nlp/data/corpus/WB/tmp_api_json/data-479.json\n",
      "/home/wb536061/wb_nlp/data/corpus/WB/tmp_api_json/data-480.json\n",
      "/home/wb536061/wb_nlp/data/corpus/WB/tmp_api_json/data-482.json\n",
      "/home/wb536061/wb_nlp/data/corpus/WB/tmp_api_json/data-481.json\n",
      "/home/wb536061/wb_nlp/data/corpus/WB/tmp_api_json/data-484.json\n",
      "/home/wb536061/wb_nlp/data/corpus/WB/tmp_api_json/data-483.json\n",
      "/home/wb536061/wb_nlp/data/corpus/WB/tmp_api_json/data-486.json\n",
      "/home/wb536061/wb_nlp/data/corpus/WB/tmp_api_json/data-485.json\n",
      "/home/wb536061/wb_nlp/data/corpus/WB/tmp_api_json/data-487.json\n",
      "/home/wb536061/wb_nlp/data/corpus/WB/tmp_api_json/data-490.json\n",
      "/home/wb536061/wb_nlp/data/corpus/WB/tmp_api_json/data-489.json\n",
      "/home/wb536061/wb_nlp/data/corpus/WB/tmp_api_json/data-491.json\n",
      "/home/wb536061/wb_nlp/data/corpus/WB/tmp_api_json/data-488.json\n",
      "/home/wb536061/wb_nlp/data/corpus/WB/tmp_api_json/data-492.json\n",
      "/home/wb536061/wb_nlp/data/corpus/WB/tmp_api_json/data-495.json\n",
      "/home/wb536061/wb_nlp/data/corpus/WB/tmp_api_json/data-494.json\n",
      "/home/wb536061/wb_nlp/data/corpus/WB/tmp_api_json/data-493.json\n",
      "/home/wb536061/wb_nlp/data/corpus/WB/tmp_api_json/data-496.json\n",
      "/home/wb536061/wb_nlp/data/corpus/WB/tmp_api_json/data-497.json\n",
      "/home/wb536061/wb_nlp/data/corpus/WB/tmp_api_json/data-498.json\n",
      "/home/wb536061/wb_nlp/data/corpus/WB/tmp_api_json/data-499.json\n",
      "/home/wb536061/wb_nlp/data/corpus/WB/tmp_api_json/data-500.json\n",
      "/home/wb536061/wb_nlp/data/corpus/WB/tmp_api_json/data-501.json\n",
      "/home/wb536061/wb_nlp/data/corpus/WB/tmp_api_json/data-503.json\n",
      "/home/wb536061/wb_nlp/data/corpus/WB/tmp_api_json/data-502.json\n",
      "/home/wb536061/wb_nlp/data/corpus/WB/tmp_api_json/data-506.json\n",
      "/home/wb536061/wb_nlp/data/corpus/WB/tmp_api_json/data-504.json\n",
      "/home/wb536061/wb_nlp/data/corpus/WB/tmp_api_json/data-507.json\n",
      "/home/wb536061/wb_nlp/data/corpus/WB/tmp_api_json/data-505.json\n",
      "/home/wb536061/wb_nlp/data/corpus/WB/tmp_api_json/data-509.json\n",
      "/home/wb536061/wb_nlp/data/corpus/WB/tmp_api_json/data-510.json\n",
      "/home/wb536061/wb_nlp/data/corpus/WB/tmp_api_json/data-511.json\n",
      "/home/wb536061/wb_nlp/data/corpus/WB/tmp_api_json/data-508.json\n",
      "/home/wb536061/wb_nlp/data/corpus/WB/tmp_api_json/data-513.json\n",
      "/home/wb536061/wb_nlp/data/corpus/WB/tmp_api_json/data-512.json\n",
      "/home/wb536061/wb_nlp/data/corpus/WB/tmp_api_json/data-515.json\n",
      "/home/wb536061/wb_nlp/data/corpus/WB/tmp_api_json/data-514.json\n",
      "/home/wb536061/wb_nlp/data/corpus/WB/tmp_api_json/data-516.json\n",
      "/home/wb536061/wb_nlp/data/corpus/WB/tmp_api_json/data-519.json\n",
      "/home/wb536061/wb_nlp/data/corpus/WB/tmp_api_json/data-517.json\n",
      "/home/wb536061/wb_nlp/data/corpus/WB/tmp_api_json/data-518.json\n",
      "/home/wb536061/wb_nlp/data/corpus/WB/tmp_api_json/data-520.json\n",
      "/home/wb536061/wb_nlp/data/corpus/WB/tmp_api_json/data-522.json\n",
      "/home/wb536061/wb_nlp/data/corpus/WB/tmp_api_json/data-521.json\n",
      "/home/wb536061/wb_nlp/data/corpus/WB/tmp_api_json/data-523.json\n",
      "/home/wb536061/wb_nlp/data/corpus/WB/tmp_api_json/data-526.json\n",
      "/home/wb536061/wb_nlp/data/corpus/WB/tmp_api_json/data-524.json\n",
      "/home/wb536061/wb_nlp/data/corpus/WB/tmp_api_json/data-525.json\n",
      "/home/wb536061/wb_nlp/data/corpus/WB/tmp_api_json/data-527.json\n",
      "/home/wb536061/wb_nlp/data/corpus/WB/tmp_api_json/data-528.json\n",
      "/home/wb536061/wb_nlp/data/corpus/WB/tmp_api_json/data-530.json\n",
      "/home/wb536061/wb_nlp/data/corpus/WB/tmp_api_json/data-529.json\n",
      "/home/wb536061/wb_nlp/data/corpus/WB/tmp_api_json/data-531.json\n",
      "/home/wb536061/wb_nlp/data/corpus/WB/tmp_api_json/data-533.json\n",
      "/home/wb536061/wb_nlp/data/corpus/WB/tmp_api_json/data-534.json\n",
      "/home/wb536061/wb_nlp/data/corpus/WB/tmp_api_json/data-532.json\n",
      "/home/wb536061/wb_nlp/data/corpus/WB/tmp_api_json/data-535.json\n",
      "/home/wb536061/wb_nlp/data/corpus/WB/tmp_api_json/data-536.json\n",
      "/home/wb536061/wb_nlp/data/corpus/WB/tmp_api_json/data-538.json\n",
      "/home/wb536061/wb_nlp/data/corpus/WB/tmp_api_json/data-537.json\n",
      "/home/wb536061/wb_nlp/data/corpus/WB/tmp_api_json/data-540.json\n",
      "/home/wb536061/wb_nlp/data/corpus/WB/tmp_api_json/data-541.json\n",
      "/home/wb536061/wb_nlp/data/corpus/WB/tmp_api_json/data-539.json\n",
      "/home/wb536061/wb_nlp/data/corpus/WB/tmp_api_json/data-542.json\n",
      "/home/wb536061/wb_nlp/data/corpus/WB/tmp_api_json/data-544.json\n",
      "/home/wb536061/wb_nlp/data/corpus/WB/tmp_api_json/data-543.json\n",
      "/home/wb536061/wb_nlp/data/corpus/WB/tmp_api_json/data-545.json\n",
      "/home/wb536061/wb_nlp/data/corpus/WB/tmp_api_json/data-546.json\n",
      "/home/wb536061/wb_nlp/data/corpus/WB/tmp_api_json/data-547.json\n",
      "/home/wb536061/wb_nlp/data/corpus/WB/tmp_api_json/data-549.json\n",
      "/home/wb536061/wb_nlp/data/corpus/WB/tmp_api_json/data-550.json\n",
      "/home/wb536061/wb_nlp/data/corpus/WB/tmp_api_json/data-548.json\n",
      "/home/wb536061/wb_nlp/data/corpus/WB/tmp_api_json/data-551.json\n",
      "/home/wb536061/wb_nlp/data/corpus/WB/tmp_api_json/data-552.json\n",
      "/home/wb536061/wb_nlp/data/corpus/WB/tmp_api_json/data-554.json\n",
      "/home/wb536061/wb_nlp/data/corpus/WB/tmp_api_json/data-553.json\n",
      "/home/wb536061/wb_nlp/data/corpus/WB/tmp_api_json/data-555.json\n",
      "/home/wb536061/wb_nlp/data/corpus/WB/tmp_api_json/data-556.json\n",
      "/home/wb536061/wb_nlp/data/corpus/WB/tmp_api_json/data-557.json\n",
      "/home/wb536061/wb_nlp/data/corpus/WB/tmp_api_json/data-558.json\n",
      "/home/wb536061/wb_nlp/data/corpus/WB/tmp_api_json/data-560.json\n",
      "/home/wb536061/wb_nlp/data/corpus/WB/tmp_api_json/data-559.json\n",
      "/home/wb536061/wb_nlp/data/corpus/WB/tmp_api_json/data-562.json\n",
      "/home/wb536061/wb_nlp/data/corpus/WB/tmp_api_json/data-561.json\n",
      "/home/wb536061/wb_nlp/data/corpus/WB/tmp_api_json/data-564.json\n",
      "/home/wb536061/wb_nlp/data/corpus/WB/tmp_api_json/data-563.json\n",
      "/home/wb536061/wb_nlp/data/corpus/WB/tmp_api_json/data-567.json\n",
      "/home/wb536061/wb_nlp/data/corpus/WB/tmp_api_json/data-568.json\n",
      "/home/wb536061/wb_nlp/data/corpus/WB/tmp_api_json/data-566.json\n",
      "/home/wb536061/wb_nlp/data/corpus/WB/tmp_api_json/data-565.json\n",
      "/home/wb536061/wb_nlp/data/corpus/WB/tmp_api_json/data-569.json\n",
      "/home/wb536061/wb_nlp/data/corpus/WB/tmp_api_json/data-570.json\n",
      "/home/wb536061/wb_nlp/data/corpus/WB/tmp_api_json/data-572.json\n",
      "/home/wb536061/wb_nlp/data/corpus/WB/tmp_api_json/data-571.json\n",
      "/home/wb536061/wb_nlp/data/corpus/WB/tmp_api_json/data-574.json\n",
      "/home/wb536061/wb_nlp/data/corpus/WB/tmp_api_json/data-573.json\n",
      "/home/wb536061/wb_nlp/data/corpus/WB/tmp_api_json/data-575.json\n",
      "/home/wb536061/wb_nlp/data/corpus/WB/tmp_api_json/data-578.json\n",
      "/home/wb536061/wb_nlp/data/corpus/WB/tmp_api_json/data-577.json\n",
      "/home/wb536061/wb_nlp/data/corpus/WB/tmp_api_json/data-576.json\n",
      "/home/wb536061/wb_nlp/data/corpus/WB/tmp_api_json/data-579.json\n",
      "/home/wb536061/wb_nlp/data/corpus/WB/tmp_api_json/data-580.json\n",
      "/home/wb536061/wb_nlp/data/corpus/WB/tmp_api_json/data-583.json\n",
      "/home/wb536061/wb_nlp/data/corpus/WB/tmp_api_json/data-584.json\n",
      "/home/wb536061/wb_nlp/data/corpus/WB/tmp_api_json/data-581.json\n",
      "/home/wb536061/wb_nlp/data/corpus/WB/tmp_api_json/data-582.json\n",
      "/home/wb536061/wb_nlp/data/corpus/WB/tmp_api_json/data-585.json\n",
      "/home/wb536061/wb_nlp/data/corpus/WB/tmp_api_json/data-586.json\n",
      "/home/wb536061/wb_nlp/data/corpus/WB/tmp_api_json/data-588.json\n",
      "/home/wb536061/wb_nlp/data/corpus/WB/tmp_api_json/data-587.json\n",
      "/home/wb536061/wb_nlp/data/corpus/WB/tmp_api_json/data-589.json\n",
      "/home/wb536061/wb_nlp/data/corpus/WB/tmp_api_json/data-590.json\n",
      "/home/wb536061/wb_nlp/data/corpus/WB/tmp_api_json/data-591.json\n",
      "/home/wb536061/wb_nlp/data/corpus/WB/tmp_api_json/data-593.json\n",
      "/home/wb536061/wb_nlp/data/corpus/WB/tmp_api_json/data-592.json\n",
      "\n",
      "Missing fields:\n",
      "\tdoctype\n",
      "\ttxtfilename\n",
      "\ttxtfileid\n",
      "\ttxturl2\n",
      "\tdoctypeid\n",
      "\tlang_detected\n",
      "\tlang_score\n",
      "\ttokens\n",
      "CPU times: user 15min 35s, sys: 1min 26s, total: 17min 1s\n",
      "Wall time: 17min 6s\n",
      "time: 17min 6s\n"
     ]
    }
   ],
   "source": [
    "%%time\n",
    "normalized_df = normalize_document_data(data_dir=SCRAPER_DIR)\n",
    "\n",
    "print('\\nMissing fields:')\n",
    "for c in 'uid,guid,docyear,majdoctype,doctype,authors,abstract,colti,display_title,docdt,docm_id,historic_topic,pdfurl,seccl,txturl,language,admreg,country,txtfilename,txtfileid,txturl2,doctypeid,lang_detected,lang_score,tokens'.split(','):\n",
    "    if c == 'uid':\n",
    "        continue\n",
    "    try:\n",
    "        normalized_df[c]\n",
    "    except:\n",
    "        print(f'\\t{c}')"
   ]
  },
  {
   "cell_type": "code",
   "execution_count": 522,
   "metadata": {},
   "outputs": [
    {
     "data": {
      "text/plain": [
       "(296978, 68)"
      ]
     },
     "execution_count": 522,
     "metadata": {},
     "output_type": "execute_result"
    },
    {
     "name": "stdout",
     "output_type": "stream",
     "text": [
      "time: 5.39 ms\n"
     ]
    }
   ],
   "source": [
    "normalized_df.shape"
   ]
  },
  {
   "cell_type": "code",
   "execution_count": 22,
   "metadata": {},
   "outputs": [
    {
     "data": {
      "text/plain": [
       "(296978, 67)"
      ]
     },
     "execution_count": 22,
     "metadata": {},
     "output_type": "execute_result"
    },
    {
     "name": "stdout",
     "output_type": "stream",
     "text": [
      "time: 1.07 ms\n"
     ]
    }
   ],
   "source": [
    "normalized_df.shape"
   ]
  },
  {
   "cell_type": "code",
   "execution_count": 16,
   "metadata": {},
   "outputs": [
    {
     "data": {
      "text/plain": [
       "(297347, 67)"
      ]
     },
     "execution_count": 16,
     "metadata": {},
     "output_type": "execute_result"
    }
   ],
   "source": [
    "normalized_df.shape"
   ]
  },
  {
   "cell_type": "code",
   "execution_count": 17,
   "metadata": {},
   "outputs": [
    {
     "data": {
      "text/plain": [
       "(297347, 67)"
      ]
     },
     "execution_count": 17,
     "metadata": {},
     "output_type": "execute_result"
    }
   ],
   "source": [
    "normalized_df.shape"
   ]
  },
  {
   "cell_type": "markdown",
   "metadata": {},
   "source": [
    "# Improvements\n",
    "\n",
    "By using dataframes, we can easily exploit its slice and filter methods to get certain partitions of the dataset given an arbitrary filter set."
   ]
  },
  {
   "cell_type": "markdown",
   "metadata": {},
   "source": [
    "### Filtering by majdoctype\n",
    "\n",
    "We list all the available **major document types**."
   ]
  },
  {
   "cell_type": "code",
   "execution_count": 523,
   "metadata": {},
   "outputs": [
    {
     "name": "stdout",
     "output_type": "stream",
     "text": [
      "Project Documents\n",
      "Publications & Research\n",
      "Board Documents\n",
      "Economic & Sector Work\n",
      "Country Focus\n",
      "\n",
      "Publications &amp; Research\n",
      "Economic &amp; Sector Work\n",
      "time: 64.8 ms\n"
     ]
    }
   ],
   "source": [
    "for majdoctype in normalized_df.majdoctype.unique():\n",
    "    print(majdoctype)"
   ]
  },
  {
   "cell_type": "code",
   "execution_count": 524,
   "metadata": {},
   "outputs": [
    {
     "name": "stdout",
     "output_type": "stream",
     "text": [
      "Project Documents\n",
      "Publications & Research\n",
      "Board Documents\n",
      "Economic & Sector Work\n",
      "Country Focus\n",
      "\n",
      "Publications &amp; Research\n",
      "Economic &amp; Sector Work\n",
      "time: 64.2 ms\n"
     ]
    }
   ],
   "source": [
    "for majdoctype in normalized_df.majdoctype.unique():\n",
    "    print(majdoctype)"
   ]
  },
  {
   "cell_type": "markdown",
   "metadata": {},
   "source": [
    "We can sample from all the dataset all the documents corresponding to the `Project Documents` document type as shown below."
   ]
  },
  {
   "cell_type": "code",
   "execution_count": 525,
   "metadata": {},
   "outputs": [
    {
     "data": {
      "text/html": [
       "<div>\n",
       "<style scoped>\n",
       "    .dataframe tbody tr th:only-of-type {\n",
       "        vertical-align: middle;\n",
       "    }\n",
       "\n",
       "    .dataframe tbody tr th {\n",
       "        vertical-align: top;\n",
       "    }\n",
       "\n",
       "    .dataframe thead th {\n",
       "        text-align: right;\n",
       "    }\n",
       "</style>\n",
       "<table border=\"1\" class=\"dataframe\">\n",
       "  <thead>\n",
       "    <tr style=\"text-align: right;\">\n",
       "      <th></th>\n",
       "      <th>url</th>\n",
       "      <th>available_in</th>\n",
       "      <th>url_friendly_title</th>\n",
       "      <th>new_url</th>\n",
       "      <th>guid</th>\n",
       "      <th>disclosure_date</th>\n",
       "      <th>disclosure_type</th>\n",
       "      <th>disclosure_type_date</th>\n",
       "      <th>publishtoextweb_dt</th>\n",
       "      <th>disclstat</th>\n",
       "      <th>...</th>\n",
       "      <th>loan_no</th>\n",
       "      <th>dois</th>\n",
       "      <th>isbn</th>\n",
       "      <th>src_cit</th>\n",
       "      <th>virt_coll</th>\n",
       "      <th>issn</th>\n",
       "      <th>Environmental Category</th>\n",
       "      <th>credit_no</th>\n",
       "      <th>unregnbr</th>\n",
       "      <th>vol_title</th>\n",
       "    </tr>\n",
       "    <tr>\n",
       "      <th>uid</th>\n",
       "      <th></th>\n",
       "      <th></th>\n",
       "      <th></th>\n",
       "      <th></th>\n",
       "      <th></th>\n",
       "      <th></th>\n",
       "      <th></th>\n",
       "      <th></th>\n",
       "      <th></th>\n",
       "      <th></th>\n",
       "      <th></th>\n",
       "      <th></th>\n",
       "      <th></th>\n",
       "      <th></th>\n",
       "      <th></th>\n",
       "      <th></th>\n",
       "      <th></th>\n",
       "      <th></th>\n",
       "      <th></th>\n",
       "      <th></th>\n",
       "      <th></th>\n",
       "    </tr>\n",
       "  </thead>\n",
       "  <tbody>\n",
       "    <tr>\n",
       "      <th>D32659506</th>\n",
       "      <td>http://documents.worldbank.org/curated/en/2322...</td>\n",
       "      <td>English</td>\n",
       "      <td>http://documents.worldbank.org/curated/en/2322...</td>\n",
       "      <td>2020/12/32659506/Congo-Democratic-Republic-of-...</td>\n",
       "      <td>232211607643292798</td>\n",
       "      <td>2020-12-10T00:00:00Z</td>\n",
       "      <td>NA</td>\n",
       "      <td>2020-12-10T00:00:00Z</td>\n",
       "      <td>2020-12-10T00:00:00Z</td>\n",
       "      <td>Disclosed</td>\n",
       "      <td>...</td>\n",
       "      <td>NaN</td>\n",
       "      <td>NaN</td>\n",
       "      <td>NaN</td>\n",
       "      <td>NaN</td>\n",
       "      <td>NaN</td>\n",
       "      <td>NaN</td>\n",
       "      <td>NaN</td>\n",
       "      <td>NaN</td>\n",
       "      <td>NaN</td>\n",
       "      <td>NaN</td>\n",
       "    </tr>\n",
       "    <tr>\n",
       "      <th>D32659154</th>\n",
       "      <td>http://documents.worldbank.org/curated/en/2391...</td>\n",
       "      <td>English</td>\n",
       "      <td>http://documents.worldbank.org/curated/en/2391...</td>\n",
       "      <td>2020/12/32659154/Disclosable-Version-of-the-IS...</td>\n",
       "      <td>239181607635364212</td>\n",
       "      <td>2020-12-10T00:00:00Z</td>\n",
       "      <td>NA</td>\n",
       "      <td>2020-12-10T00:00:00Z</td>\n",
       "      <td>2020-12-10T00:00:00Z</td>\n",
       "      <td>Disclosed</td>\n",
       "      <td>...</td>\n",
       "      <td>NaN</td>\n",
       "      <td>NaN</td>\n",
       "      <td>NaN</td>\n",
       "      <td>NaN</td>\n",
       "      <td>NaN</td>\n",
       "      <td>NaN</td>\n",
       "      <td>NaN</td>\n",
       "      <td>NaN</td>\n",
       "      <td>NaN</td>\n",
       "      <td>NaN</td>\n",
       "    </tr>\n",
       "  </tbody>\n",
       "</table>\n",
       "<p>2 rows × 68 columns</p>\n",
       "</div>"
      ],
      "text/plain": [
       "                                                         url available_in  \\\n",
       "uid                                                                         \n",
       "D32659506  http://documents.worldbank.org/curated/en/2322...      English   \n",
       "D32659154  http://documents.worldbank.org/curated/en/2391...      English   \n",
       "\n",
       "                                          url_friendly_title  \\\n",
       "uid                                                            \n",
       "D32659506  http://documents.worldbank.org/curated/en/2322...   \n",
       "D32659154  http://documents.worldbank.org/curated/en/2391...   \n",
       "\n",
       "                                                     new_url  \\\n",
       "uid                                                            \n",
       "D32659506  2020/12/32659506/Congo-Democratic-Republic-of-...   \n",
       "D32659154  2020/12/32659154/Disclosable-Version-of-the-IS...   \n",
       "\n",
       "                         guid       disclosure_date disclosure_type  \\\n",
       "uid                                                                   \n",
       "D32659506  232211607643292798  2020-12-10T00:00:00Z              NA   \n",
       "D32659154  239181607635364212  2020-12-10T00:00:00Z              NA   \n",
       "\n",
       "           disclosure_type_date    publishtoextweb_dt  disclstat  ... loan_no  \\\n",
       "uid                                                               ...           \n",
       "D32659506  2020-12-10T00:00:00Z  2020-12-10T00:00:00Z  Disclosed  ...     NaN   \n",
       "D32659154  2020-12-10T00:00:00Z  2020-12-10T00:00:00Z  Disclosed  ...     NaN   \n",
       "\n",
       "          dois isbn src_cit virt_coll issn Environmental Category credit_no  \\\n",
       "uid                                                                           \n",
       "D32659506  NaN  NaN     NaN       NaN  NaN                    NaN       NaN   \n",
       "D32659154  NaN  NaN     NaN       NaN  NaN                    NaN       NaN   \n",
       "\n",
       "          unregnbr vol_title  \n",
       "uid                           \n",
       "D32659506      NaN       NaN  \n",
       "D32659154      NaN       NaN  \n",
       "\n",
       "[2 rows x 68 columns]"
      ]
     },
     "execution_count": 525,
     "metadata": {},
     "output_type": "execute_result"
    },
    {
     "name": "stdout",
     "output_type": "stream",
     "text": [
      "time: 1.66 s\n"
     ]
    }
   ],
   "source": [
    "project_documents = normalized_df[normalized_df.majdoctype == 'Project Documents']\n",
    "project_documents.head(2)"
   ]
  },
  {
   "cell_type": "markdown",
   "metadata": {},
   "source": [
    "### Filtering by year\n",
    "\n",
    "Again, we can perform a filtered view of the metadata based on the document year."
   ]
  },
  {
   "cell_type": "code",
   "execution_count": 526,
   "metadata": {},
   "outputs": [
    {
     "data": {
      "text/html": [
       "<div>\n",
       "<style scoped>\n",
       "    .dataframe tbody tr th:only-of-type {\n",
       "        vertical-align: middle;\n",
       "    }\n",
       "\n",
       "    .dataframe tbody tr th {\n",
       "        vertical-align: top;\n",
       "    }\n",
       "\n",
       "    .dataframe thead th {\n",
       "        text-align: right;\n",
       "    }\n",
       "</style>\n",
       "<table border=\"1\" class=\"dataframe\">\n",
       "  <thead>\n",
       "    <tr style=\"text-align: right;\">\n",
       "      <th></th>\n",
       "      <th>url</th>\n",
       "      <th>available_in</th>\n",
       "      <th>url_friendly_title</th>\n",
       "      <th>new_url</th>\n",
       "      <th>guid</th>\n",
       "      <th>disclosure_date</th>\n",
       "      <th>disclosure_type</th>\n",
       "      <th>disclosure_type_date</th>\n",
       "      <th>publishtoextweb_dt</th>\n",
       "      <th>disclstat</th>\n",
       "      <th>...</th>\n",
       "      <th>loan_no</th>\n",
       "      <th>dois</th>\n",
       "      <th>isbn</th>\n",
       "      <th>src_cit</th>\n",
       "      <th>virt_coll</th>\n",
       "      <th>issn</th>\n",
       "      <th>Environmental Category</th>\n",
       "      <th>credit_no</th>\n",
       "      <th>unregnbr</th>\n",
       "      <th>vol_title</th>\n",
       "    </tr>\n",
       "    <tr>\n",
       "      <th>uid</th>\n",
       "      <th></th>\n",
       "      <th></th>\n",
       "      <th></th>\n",
       "      <th></th>\n",
       "      <th></th>\n",
       "      <th></th>\n",
       "      <th></th>\n",
       "      <th></th>\n",
       "      <th></th>\n",
       "      <th></th>\n",
       "      <th></th>\n",
       "      <th></th>\n",
       "      <th></th>\n",
       "      <th></th>\n",
       "      <th></th>\n",
       "      <th></th>\n",
       "      <th></th>\n",
       "      <th></th>\n",
       "      <th></th>\n",
       "      <th></th>\n",
       "      <th></th>\n",
       "    </tr>\n",
       "  </thead>\n",
       "  <tbody>\n",
       "    <tr>\n",
       "      <th>D30732714</th>\n",
       "      <td>http://documents.worldbank.org/curated/en/2693...</td>\n",
       "      <td>English</td>\n",
       "      <td>http://documents.worldbank.org/curated/en/2693...</td>\n",
       "      <td>2018/12/30732714/Bolivia-LATIN-AMERICA-AND-CAR...</td>\n",
       "      <td>269351546221067558</td>\n",
       "      <td>2018-12-31T00:00:00Z</td>\n",
       "      <td>NA</td>\n",
       "      <td>2018-12-31T00:00:00Z</td>\n",
       "      <td>2018-12-31T00:00:00Z</td>\n",
       "      <td>Disclosed</td>\n",
       "      <td>...</td>\n",
       "      <td>NaN</td>\n",
       "      <td>NaN</td>\n",
       "      <td>NaN</td>\n",
       "      <td>NaN</td>\n",
       "      <td>NaN</td>\n",
       "      <td>NaN</td>\n",
       "      <td>NaN</td>\n",
       "      <td>NaN</td>\n",
       "      <td>NaN</td>\n",
       "      <td>NaN</td>\n",
       "    </tr>\n",
       "    <tr>\n",
       "      <th>D30732671</th>\n",
       "      <td>http://documents.worldbank.org/curated/en/3406...</td>\n",
       "      <td>English</td>\n",
       "      <td>http://documents.worldbank.org/curated/en/3406...</td>\n",
       "      <td>2018/12/30732671/Disclosable-Version-of-the-IS...</td>\n",
       "      <td>340671546216904449</td>\n",
       "      <td>2018-12-31T00:00:00Z</td>\n",
       "      <td>NA</td>\n",
       "      <td>2018-12-31T00:00:00Z</td>\n",
       "      <td>2018-12-31T00:00:00Z</td>\n",
       "      <td>Disclosed</td>\n",
       "      <td>...</td>\n",
       "      <td>NaN</td>\n",
       "      <td>NaN</td>\n",
       "      <td>NaN</td>\n",
       "      <td>NaN</td>\n",
       "      <td>NaN</td>\n",
       "      <td>NaN</td>\n",
       "      <td>NaN</td>\n",
       "      <td>NaN</td>\n",
       "      <td>NaN</td>\n",
       "      <td>NaN</td>\n",
       "    </tr>\n",
       "  </tbody>\n",
       "</table>\n",
       "<p>2 rows × 68 columns</p>\n",
       "</div>"
      ],
      "text/plain": [
       "                                                         url available_in  \\\n",
       "uid                                                                         \n",
       "D30732714  http://documents.worldbank.org/curated/en/2693...      English   \n",
       "D30732671  http://documents.worldbank.org/curated/en/3406...      English   \n",
       "\n",
       "                                          url_friendly_title  \\\n",
       "uid                                                            \n",
       "D30732714  http://documents.worldbank.org/curated/en/2693...   \n",
       "D30732671  http://documents.worldbank.org/curated/en/3406...   \n",
       "\n",
       "                                                     new_url  \\\n",
       "uid                                                            \n",
       "D30732714  2018/12/30732714/Bolivia-LATIN-AMERICA-AND-CAR...   \n",
       "D30732671  2018/12/30732671/Disclosable-Version-of-the-IS...   \n",
       "\n",
       "                         guid       disclosure_date disclosure_type  \\\n",
       "uid                                                                   \n",
       "D30732714  269351546221067558  2018-12-31T00:00:00Z              NA   \n",
       "D30732671  340671546216904449  2018-12-31T00:00:00Z              NA   \n",
       "\n",
       "           disclosure_type_date    publishtoextweb_dt  disclstat  ... loan_no  \\\n",
       "uid                                                               ...           \n",
       "D30732714  2018-12-31T00:00:00Z  2018-12-31T00:00:00Z  Disclosed  ...     NaN   \n",
       "D30732671  2018-12-31T00:00:00Z  2018-12-31T00:00:00Z  Disclosed  ...     NaN   \n",
       "\n",
       "          dois isbn src_cit virt_coll issn Environmental Category credit_no  \\\n",
       "uid                                                                           \n",
       "D30732714  NaN  NaN     NaN       NaN  NaN                    NaN       NaN   \n",
       "D30732671  NaN  NaN     NaN       NaN  NaN                    NaN       NaN   \n",
       "\n",
       "          unregnbr vol_title  \n",
       "uid                           \n",
       "D30732714      NaN       NaN  \n",
       "D30732671      NaN       NaN  \n",
       "\n",
       "[2 rows x 68 columns]"
      ]
     },
     "execution_count": 526,
     "metadata": {},
     "output_type": "execute_result"
    },
    {
     "name": "stdout",
     "output_type": "stream",
     "text": [
      "time: 62.5 ms\n"
     ]
    }
   ],
   "source": [
    "normalized_df[normalized_df.docyear == 2018].head(2)"
   ]
  },
  {
   "cell_type": "markdown",
   "metadata": {},
   "source": [
    "### Filtering the dataset by combination of conditions\n",
    "\n",
    "Shown below is the method of extracting snapshots of the entire metadata based on specific filters."
   ]
  },
  {
   "cell_type": "code",
   "execution_count": 527,
   "metadata": {},
   "outputs": [
    {
     "data": {
      "text/html": [
       "<div>\n",
       "<style scoped>\n",
       "    .dataframe tbody tr th:only-of-type {\n",
       "        vertical-align: middle;\n",
       "    }\n",
       "\n",
       "    .dataframe tbody tr th {\n",
       "        vertical-align: top;\n",
       "    }\n",
       "\n",
       "    .dataframe thead th {\n",
       "        text-align: right;\n",
       "    }\n",
       "</style>\n",
       "<table border=\"1\" class=\"dataframe\">\n",
       "  <thead>\n",
       "    <tr style=\"text-align: right;\">\n",
       "      <th></th>\n",
       "      <th>url</th>\n",
       "      <th>available_in</th>\n",
       "      <th>url_friendly_title</th>\n",
       "      <th>new_url</th>\n",
       "      <th>guid</th>\n",
       "      <th>disclosure_date</th>\n",
       "      <th>disclosure_type</th>\n",
       "      <th>disclosure_type_date</th>\n",
       "      <th>publishtoextweb_dt</th>\n",
       "      <th>disclstat</th>\n",
       "      <th>...</th>\n",
       "      <th>loan_no</th>\n",
       "      <th>dois</th>\n",
       "      <th>isbn</th>\n",
       "      <th>src_cit</th>\n",
       "      <th>virt_coll</th>\n",
       "      <th>issn</th>\n",
       "      <th>Environmental Category</th>\n",
       "      <th>credit_no</th>\n",
       "      <th>unregnbr</th>\n",
       "      <th>vol_title</th>\n",
       "    </tr>\n",
       "    <tr>\n",
       "      <th>uid</th>\n",
       "      <th></th>\n",
       "      <th></th>\n",
       "      <th></th>\n",
       "      <th></th>\n",
       "      <th></th>\n",
       "      <th></th>\n",
       "      <th></th>\n",
       "      <th></th>\n",
       "      <th></th>\n",
       "      <th></th>\n",
       "      <th></th>\n",
       "      <th></th>\n",
       "      <th></th>\n",
       "      <th></th>\n",
       "      <th></th>\n",
       "      <th></th>\n",
       "      <th></th>\n",
       "      <th></th>\n",
       "      <th></th>\n",
       "      <th></th>\n",
       "      <th></th>\n",
       "    </tr>\n",
       "  </thead>\n",
       "  <tbody>\n",
       "    <tr>\n",
       "      <th>D30749732</th>\n",
       "      <td>http://documents.worldbank.org/curated/en/4068...</td>\n",
       "      <td>English</td>\n",
       "      <td>http://documents.worldbank.org/curated/en/4068...</td>\n",
       "      <td>2018/12/30749732/LGUGC-Entity-AFS-CY2017-fd</td>\n",
       "      <td>406801547089645115</td>\n",
       "      <td>2019-01-11T00:00:00Z</td>\n",
       "      <td>NA</td>\n",
       "      <td>2019-01-11T00:00:00Z</td>\n",
       "      <td>2019-01-11T00:00:00Z</td>\n",
       "      <td>Disclosed</td>\n",
       "      <td>...</td>\n",
       "      <td>NaN</td>\n",
       "      <td>NaN</td>\n",
       "      <td>NaN</td>\n",
       "      <td>NaN</td>\n",
       "      <td>NaN</td>\n",
       "      <td>NaN</td>\n",
       "      <td>NaN</td>\n",
       "      <td>NaN</td>\n",
       "      <td>NaN</td>\n",
       "      <td>NaN</td>\n",
       "    </tr>\n",
       "    <tr>\n",
       "      <th>D30732578</th>\n",
       "      <td>http://documents.worldbank.org/curated/en/1839...</td>\n",
       "      <td>English</td>\n",
       "      <td>http://documents.worldbank.org/curated/en/1839...</td>\n",
       "      <td>2018/12/30732578/Disclosable-Version-of-the-IS...</td>\n",
       "      <td>183961546204484443</td>\n",
       "      <td>2018-12-30T00:00:00Z</td>\n",
       "      <td>NA</td>\n",
       "      <td>2018-12-30T00:00:00Z</td>\n",
       "      <td>2018-12-30T00:00:00Z</td>\n",
       "      <td>Disclosed</td>\n",
       "      <td>...</td>\n",
       "      <td>NaN</td>\n",
       "      <td>NaN</td>\n",
       "      <td>NaN</td>\n",
       "      <td>NaN</td>\n",
       "      <td>NaN</td>\n",
       "      <td>NaN</td>\n",
       "      <td>NaN</td>\n",
       "      <td>NaN</td>\n",
       "      <td>NaN</td>\n",
       "      <td>NaN</td>\n",
       "    </tr>\n",
       "  </tbody>\n",
       "</table>\n",
       "<p>2 rows × 68 columns</p>\n",
       "</div>"
      ],
      "text/plain": [
       "                                                         url available_in  \\\n",
       "uid                                                                         \n",
       "D30749732  http://documents.worldbank.org/curated/en/4068...      English   \n",
       "D30732578  http://documents.worldbank.org/curated/en/1839...      English   \n",
       "\n",
       "                                          url_friendly_title  \\\n",
       "uid                                                            \n",
       "D30749732  http://documents.worldbank.org/curated/en/4068...   \n",
       "D30732578  http://documents.worldbank.org/curated/en/1839...   \n",
       "\n",
       "                                                     new_url  \\\n",
       "uid                                                            \n",
       "D30749732        2018/12/30749732/LGUGC-Entity-AFS-CY2017-fd   \n",
       "D30732578  2018/12/30732578/Disclosable-Version-of-the-IS...   \n",
       "\n",
       "                         guid       disclosure_date disclosure_type  \\\n",
       "uid                                                                   \n",
       "D30749732  406801547089645115  2019-01-11T00:00:00Z              NA   \n",
       "D30732578  183961546204484443  2018-12-30T00:00:00Z              NA   \n",
       "\n",
       "           disclosure_type_date    publishtoextweb_dt  disclstat  ... loan_no  \\\n",
       "uid                                                               ...           \n",
       "D30749732  2019-01-11T00:00:00Z  2019-01-11T00:00:00Z  Disclosed  ...     NaN   \n",
       "D30732578  2018-12-30T00:00:00Z  2018-12-30T00:00:00Z  Disclosed  ...     NaN   \n",
       "\n",
       "          dois isbn src_cit virt_coll issn Environmental Category credit_no  \\\n",
       "uid                                                                           \n",
       "D30749732  NaN  NaN     NaN       NaN  NaN                    NaN       NaN   \n",
       "D30732578  NaN  NaN     NaN       NaN  NaN                    NaN       NaN   \n",
       "\n",
       "          unregnbr vol_title  \n",
       "uid                           \n",
       "D30749732      NaN       NaN  \n",
       "D30732578      NaN       NaN  \n",
       "\n",
       "[2 rows x 68 columns]"
      ]
     },
     "execution_count": 527,
     "metadata": {},
     "output_type": "execute_result"
    },
    {
     "name": "stdout",
     "output_type": "stream",
     "text": [
      "time: 104 ms\n"
     ]
    }
   ],
   "source": [
    "filters = (\n",
    "    (normalized_df.docyear == 2018) &\n",
    "    (normalized_df.majdoctype == 'Project Documents') &\n",
    "    (normalized_df.country == 'Philippines')\n",
    ")\n",
    "\n",
    "normalized_df[filters].head(2)"
   ]
  },
  {
   "cell_type": "code",
   "execution_count": 528,
   "metadata": {},
   "outputs": [
    {
     "name": "stdout",
     "output_type": "stream",
     "text": [
      "time: 408 µs\n"
     ]
    }
   ],
   "source": [
    "METADATA_COLS = [\n",
    "    'corpus', 'id', 'path_original', 'path_clean', 'filename_original', 'year',\n",
    "    'major_doc_type', 'doc_type', 'author', 'abstract', 'collection', 'title', 'journal', 'volume',\n",
    "    'date_published', 'digital_identifier', 'topics_src', 'url_pdf', 'url_txt', 'language_src',\n",
    "    'adm_region', 'geo_region', 'country',\n",
    "\n",
    "    # Not yet available at this stage...,\n",
    "    # 'language_detected', 'language_score', 'tokens'  \n",
    "\n",
    "    # WB specific fields\n",
    "    'wb_lending_instrument', 'wb_product_line', 'wb_major_theme', 'wb_theme', 'wb_sector',\n",
    "    'wb_subtopic_src', 'wb_project_id',\n",
    "    # 'wb_environmental_category', \n",
    "]"
   ]
  },
  {
   "cell_type": "code",
   "execution_count": 529,
   "metadata": {},
   "outputs": [
    {
     "name": "stdout",
     "output_type": "stream",
     "text": [
      "time: 1.43 ms\n"
     ]
    }
   ],
   "source": [
    "def build_wb_id(uid, max_len=9):\n",
    "    # return f'wb_{\"0\"*(max_len - len(str(uid)))}{uid}'\n",
    "    return f'wb_{uid}'\n",
    "\n",
    "\n",
    "def standardize_metadata_fields(metadata_df):\n",
    "    '''\n",
    "    This method must be applied to the original metadata processed dataframe.\n",
    "    This will assign the final field names.\n",
    "    '''\n",
    "    metadata_df = metadata_df.reset_index()\n",
    "    metadata_df['uid'] = metadata_df.uid.map(build_wb_id)\n",
    "\n",
    "    wb_core_field_map = {\n",
    "        'uid': 'id',\n",
    "        'docyear': 'year',\n",
    "        'majdoctype': 'major_doc_type',\n",
    "        'doctype': 'doc_type',\n",
    "        'authors': 'author',\n",
    "        'abstract': 'abstract',\n",
    "        'colti': 'collection',\n",
    "        'display_title': 'title',\n",
    "        'docdt': 'date_published',\n",
    "        'docm_id': 'digital_identifier',\n",
    "        'historic_topic': 'topics_src',\n",
    "        'pdfurl': 'url_pdf',\n",
    "        'txturl': 'url_txt',\n",
    "        'language': 'language_src',\n",
    "        'admreg': 'adm_region',\n",
    "        'country': 'country',\n",
    "        'geo_regions': 'geo_region',\n",
    "    }\n",
    "\n",
    "    wb_specific_field_map = {\n",
    "        'lndinstr': 'wb_lending_instrument',\n",
    "        'prdln': 'wb_product_line',\n",
    "        'majtheme': 'wb_major_theme',\n",
    "        'theme': 'wb_theme',\n",
    "        'sectr': 'wb_sector',\n",
    "        # 'envcat': 'wb_environmental_category',\n",
    "        'projectid': 'wb_project_id',\n",
    "        'subtopic': 'wb_subtopic_src',\n",
    "    }\n",
    "\n",
    "    wb_new_fields = ['corpus', 'path_original', 'path_clean', 'filename_original', 'journal', 'volume']\n",
    "\n",
    "    # path_original_dir = '/NLP/CORPUS/WB/TXT_ORIG'\n",
    "    # path_clean_dir = '/NLP/CORPUS/WB/TXT_CLEAN'\n",
    "\n",
    "    path_original_dir = 'data/corpus/WB/TXT_ORIG'\n",
    "    path_clean_dir = ''\n",
    "\n",
    "    # Perform post normalization preprocessing\n",
    "    metadata_df['docdt'] = pd.to_datetime(metadata_df['docdt']).dt.date.map(str)\n",
    "\n",
    "    # Apply final field names\n",
    "    metadata_df = metadata_df.rename(columns=wb_core_field_map)\n",
    "    metadata_df = metadata_df.rename(columns=wb_specific_field_map)\n",
    "\n",
    "    for nf in wb_new_fields:\n",
    "        if nf == 'corpus':\n",
    "            metadata_df[nf] = 'WB'\n",
    "        elif nf == 'filename_original':\n",
    "            metadata_df[nf] = metadata_df.url_txt.map(lambda x: os.path.basename(x) if isinstance(x, str) else x)\n",
    "        elif nf == 'path_original':\n",
    "            metadata_df[nf] = metadata_df['id'].map(lambda x: f\"{path_original_dir}/{x}.txt\")\n",
    "        elif nf == 'path_clean':\n",
    "            metadata_df[nf] = metadata_df['id'].map(lambda x: f\"{path_clean_dir}/{x}.txt\" if path_clean_dir else None)\n",
    "        elif nf in ['journal', 'volume']:\n",
    "            metadata_df[nf] = None\n",
    "\n",
    "    metadata_df = metadata_df[METADATA_COLS]\n",
    "    return metadata_df.set_index('id')\n"
   ]
  },
  {
   "cell_type": "code",
   "execution_count": 530,
   "metadata": {},
   "outputs": [
    {
     "name": "stdout",
     "output_type": "stream",
     "text": [
      "CPU times: user 4.04 s, sys: 606 ms, total: 4.65 s\n",
      "Wall time: 4.65 s\n",
      "time: 4.65 s\n"
     ]
    }
   ],
   "source": [
    "%%time\n",
    "normalized_final_df = standardize_metadata_fields(normalized_df)"
   ]
  },
  {
   "cell_type": "code",
   "execution_count": 536,
   "metadata": {},
   "outputs": [
    {
     "data": {
      "text/html": [
       "<div>\n",
       "<style scoped>\n",
       "    .dataframe tbody tr th:only-of-type {\n",
       "        vertical-align: middle;\n",
       "    }\n",
       "\n",
       "    .dataframe tbody tr th {\n",
       "        vertical-align: top;\n",
       "    }\n",
       "\n",
       "    .dataframe thead th {\n",
       "        text-align: right;\n",
       "    }\n",
       "</style>\n",
       "<table border=\"1\" class=\"dataframe\">\n",
       "  <thead>\n",
       "    <tr style=\"text-align: right;\">\n",
       "      <th></th>\n",
       "      <th>corpus</th>\n",
       "      <th>path_original</th>\n",
       "      <th>path_clean</th>\n",
       "      <th>filename_original</th>\n",
       "      <th>year</th>\n",
       "      <th>major_doc_type</th>\n",
       "      <th>doc_type</th>\n",
       "      <th>author</th>\n",
       "      <th>abstract</th>\n",
       "      <th>collection</th>\n",
       "      <th>...</th>\n",
       "      <th>adm_region</th>\n",
       "      <th>geo_region</th>\n",
       "      <th>country</th>\n",
       "      <th>wb_lending_instrument</th>\n",
       "      <th>wb_product_line</th>\n",
       "      <th>wb_major_theme</th>\n",
       "      <th>wb_theme</th>\n",
       "      <th>wb_sector</th>\n",
       "      <th>wb_subtopic_src</th>\n",
       "      <th>wb_project_id</th>\n",
       "    </tr>\n",
       "    <tr>\n",
       "      <th>id</th>\n",
       "      <th></th>\n",
       "      <th></th>\n",
       "      <th></th>\n",
       "      <th></th>\n",
       "      <th></th>\n",
       "      <th></th>\n",
       "      <th></th>\n",
       "      <th></th>\n",
       "      <th></th>\n",
       "      <th></th>\n",
       "      <th></th>\n",
       "      <th></th>\n",
       "      <th></th>\n",
       "      <th></th>\n",
       "      <th></th>\n",
       "      <th></th>\n",
       "      <th></th>\n",
       "      <th></th>\n",
       "      <th></th>\n",
       "      <th></th>\n",
       "      <th></th>\n",
       "    </tr>\n",
       "  </thead>\n",
       "  <tbody>\n",
       "    <tr>\n",
       "      <th>wb_D32662137</th>\n",
       "      <td>WB</td>\n",
       "      <td>data/corpus/WB/TXT_ORIG/wb_D32662137.txt</td>\n",
       "      <td>None</td>\n",
       "      <td>Two-For-One-How-Leveraging-Small-Claims-Proced...</td>\n",
       "      <td>2020.0</td>\n",
       "      <td>Publications &amp; Research</td>\n",
       "      <td>Report</td>\n",
       "      <td>Svetozara Petkova,Runyararo Gladys Senderayi</td>\n",
       "      <td>People often argue about little things in both...</td>\n",
       "      <td>NaN</td>\n",
       "      <td>...</td>\n",
       "      <td>The World Region</td>\n",
       "      <td>NaN</td>\n",
       "      <td>World</td>\n",
       "      <td>NaN</td>\n",
       "      <td>NaN</td>\n",
       "      <td>NaN</td>\n",
       "      <td>NaN</td>\n",
       "      <td>NaN</td>\n",
       "      <td>Judicial System Reform,Law and Justice Institu...</td>\n",
       "      <td>NaN</td>\n",
       "    </tr>\n",
       "    <tr>\n",
       "      <th>wb_D32653799</th>\n",
       "      <td>WB</td>\n",
       "      <td>data/corpus/WB/TXT_ORIG/wb_D32653799.txt</td>\n",
       "      <td>None</td>\n",
       "      <td>Re-thinking-the-Approach-to-Informal-Businesse...</td>\n",
       "      <td>2020.0</td>\n",
       "      <td>Publications &amp; Research</td>\n",
       "      <td>Report</td>\n",
       "      <td>William Iver Nielsen,Andreja Marusic,Tania Gho...</td>\n",
       "      <td>Interventions over the past decades to encoura...</td>\n",
       "      <td>NaN</td>\n",
       "      <td>...</td>\n",
       "      <td>The World Region</td>\n",
       "      <td>NaN</td>\n",
       "      <td>World</td>\n",
       "      <td>NaN</td>\n",
       "      <td>NaN</td>\n",
       "      <td>NaN</td>\n",
       "      <td>NaN</td>\n",
       "      <td>NaN</td>\n",
       "      <td>Labor Markets,Financial Sector Policy,Investme...</td>\n",
       "      <td>NaN</td>\n",
       "    </tr>\n",
       "  </tbody>\n",
       "</table>\n",
       "<p>2 rows × 29 columns</p>\n",
       "</div>"
      ],
      "text/plain": [
       "             corpus                             path_original path_clean  \\\n",
       "id                                                                         \n",
       "wb_D32662137     WB  data/corpus/WB/TXT_ORIG/wb_D32662137.txt       None   \n",
       "wb_D32653799     WB  data/corpus/WB/TXT_ORIG/wb_D32653799.txt       None   \n",
       "\n",
       "                                              filename_original    year  \\\n",
       "id                                                                        \n",
       "wb_D32662137  Two-For-One-How-Leveraging-Small-Claims-Proced...  2020.0   \n",
       "wb_D32653799  Re-thinking-the-Approach-to-Informal-Businesse...  2020.0   \n",
       "\n",
       "                       major_doc_type doc_type  \\\n",
       "id                                               \n",
       "wb_D32662137  Publications & Research   Report   \n",
       "wb_D32653799  Publications & Research   Report   \n",
       "\n",
       "                                                         author  \\\n",
       "id                                                                \n",
       "wb_D32662137       Svetozara Petkova,Runyararo Gladys Senderayi   \n",
       "wb_D32653799  William Iver Nielsen,Andreja Marusic,Tania Gho...   \n",
       "\n",
       "                                                       abstract collection  \\\n",
       "id                                                                           \n",
       "wb_D32662137  People often argue about little things in both...        NaN   \n",
       "wb_D32653799  Interventions over the past decades to encoura...        NaN   \n",
       "\n",
       "              ...        adm_region geo_region country wb_lending_instrument  \\\n",
       "id            ...                                                              \n",
       "wb_D32662137  ...  The World Region        NaN   World                   NaN   \n",
       "wb_D32653799  ...  The World Region        NaN   World                   NaN   \n",
       "\n",
       "             wb_product_line wb_major_theme wb_theme wb_sector  \\\n",
       "id                                                               \n",
       "wb_D32662137             NaN            NaN      NaN       NaN   \n",
       "wb_D32653799             NaN            NaN      NaN       NaN   \n",
       "\n",
       "                                                wb_subtopic_src wb_project_id  \n",
       "id                                                                             \n",
       "wb_D32662137  Judicial System Reform,Law and Justice Institu...           NaN  \n",
       "wb_D32653799  Labor Markets,Financial Sector Policy,Investme...           NaN  \n",
       "\n",
       "[2 rows x 29 columns]"
      ]
     },
     "execution_count": 536,
     "metadata": {},
     "output_type": "execute_result"
    },
    {
     "name": "stdout",
     "output_type": "stream",
     "text": [
      "time: 138 ms\n"
     ]
    }
   ],
   "source": [
    "normalized_final_df[~normalized_final_df[\"abstract\"].isnull()].head(2)"
   ]
  },
  {
   "cell_type": "code",
   "execution_count": 537,
   "metadata": {},
   "outputs": [
    {
     "name": "stdout",
     "output_type": "stream",
     "text": [
      "time: 319 µs\n"
     ]
    }
   ],
   "source": [
    "from datetime import datetime"
   ]
  },
  {
   "cell_type": "code",
   "execution_count": 538,
   "metadata": {},
   "outputs": [
    {
     "name": "stdout",
     "output_type": "stream",
     "text": [
      "time: 9.68 s\n"
     ]
    }
   ],
   "source": [
    "fname = f\"wb_metadata-{datetime.now()}.csv\"\n",
    "\n",
    "normalized_final_df.reset_index()[METADATA_COLS].to_csv(\n",
    "    os.path.join(SCRAPER_DIR, fname),\n",
    "    index=False\n",
    ")"
   ]
  },
  {
   "cell_type": "code",
   "execution_count": 33,
   "metadata": {},
   "outputs": [
    {
     "data": {
      "text/html": [
       "<div>\n",
       "<style scoped>\n",
       "    .dataframe tbody tr th:only-of-type {\n",
       "        vertical-align: middle;\n",
       "    }\n",
       "\n",
       "    .dataframe tbody tr th {\n",
       "        vertical-align: top;\n",
       "    }\n",
       "\n",
       "    .dataframe thead th {\n",
       "        text-align: right;\n",
       "    }\n",
       "</style>\n",
       "<table border=\"1\" class=\"dataframe\">\n",
       "  <thead>\n",
       "    <tr style=\"text-align: right;\">\n",
       "      <th></th>\n",
       "      <th>corpus</th>\n",
       "      <th>path_original</th>\n",
       "      <th>path_clean</th>\n",
       "      <th>filename_original</th>\n",
       "      <th>year</th>\n",
       "      <th>major_doc_type</th>\n",
       "      <th>doc_type</th>\n",
       "      <th>author</th>\n",
       "      <th>collection</th>\n",
       "      <th>title</th>\n",
       "      <th>...</th>\n",
       "      <th>adm_region</th>\n",
       "      <th>geo_region</th>\n",
       "      <th>country</th>\n",
       "      <th>wb_lending_instrument</th>\n",
       "      <th>wb_product_line</th>\n",
       "      <th>wb_major_theme</th>\n",
       "      <th>wb_theme</th>\n",
       "      <th>wb_sector</th>\n",
       "      <th>wb_subtopic_src</th>\n",
       "      <th>wb_project_id</th>\n",
       "    </tr>\n",
       "    <tr>\n",
       "      <th>id</th>\n",
       "      <th></th>\n",
       "      <th></th>\n",
       "      <th></th>\n",
       "      <th></th>\n",
       "      <th></th>\n",
       "      <th></th>\n",
       "      <th></th>\n",
       "      <th></th>\n",
       "      <th></th>\n",
       "      <th></th>\n",
       "      <th></th>\n",
       "      <th></th>\n",
       "      <th></th>\n",
       "      <th></th>\n",
       "      <th></th>\n",
       "      <th></th>\n",
       "      <th></th>\n",
       "      <th></th>\n",
       "      <th></th>\n",
       "      <th></th>\n",
       "      <th></th>\n",
       "    </tr>\n",
       "  </thead>\n",
       "  <tbody>\n",
       "    <tr>\n",
       "      <th>wb_D32659506</th>\n",
       "      <td>WB</td>\n",
       "      <td>data/corpus/WB/wb_D32659506.txt</td>\n",
       "      <td>None</td>\n",
       "      <td>Congo-Democratic-Republic-of-AFRICA-EAST-P1738...</td>\n",
       "      <td>2020.0</td>\n",
       "      <td>Project Documents</td>\n",
       "      <td>Procurement Plan</td>\n",
       "      <td>Dominique Baado</td>\n",
       "      <td>NaN</td>\n",
       "      <td>Congo, Democratic Republic of - AFRICA EAST - ...</td>\n",
       "      <td>...</td>\n",
       "      <td>Africa</td>\n",
       "      <td>NaN</td>\n",
       "      <td>Congo, Democratic Republic of</td>\n",
       "      <td>NaN</td>\n",
       "      <td>NaN</td>\n",
       "      <td>NaN</td>\n",
       "      <td>NaN</td>\n",
       "      <td>NaN</td>\n",
       "      <td>Regulatory Regimes,Legal Reform,Social Policy,...</td>\n",
       "      <td>P173825</td>\n",
       "    </tr>\n",
       "    <tr>\n",
       "      <th>wb_D32659154</th>\n",
       "      <td>WB</td>\n",
       "      <td>data/corpus/WB/wb_D32659154.txt</td>\n",
       "      <td>None</td>\n",
       "      <td>Disclosable-Version-of-the-ISR-Kenya-Secondary...</td>\n",
       "      <td>2020.0</td>\n",
       "      <td>Project Documents</td>\n",
       "      <td>Implementation Status and Results Report</td>\n",
       "      <td>Waheed,Huma Ali</td>\n",
       "      <td>NaN</td>\n",
       "      <td>Disclosable Version of the ISR - Kenya Seconda...</td>\n",
       "      <td>...</td>\n",
       "      <td>Africa</td>\n",
       "      <td>NaN</td>\n",
       "      <td>Kenya</td>\n",
       "      <td>NaN</td>\n",
       "      <td>NaN</td>\n",
       "      <td>NaN</td>\n",
       "      <td>NaN</td>\n",
       "      <td>NaN</td>\n",
       "      <td>Educational Sciences,Secondary Education,Educa...</td>\n",
       "      <td>P160083</td>\n",
       "    </tr>\n",
       "  </tbody>\n",
       "</table>\n",
       "<p>2 rows × 28 columns</p>\n",
       "</div>"
      ],
      "text/plain": [
       "             corpus                    path_original path_clean  \\\n",
       "id                                                                \n",
       "wb_D32659506     WB  data/corpus/WB/wb_D32659506.txt       None   \n",
       "wb_D32659154     WB  data/corpus/WB/wb_D32659154.txt       None   \n",
       "\n",
       "                                              filename_original    year  \\\n",
       "id                                                                        \n",
       "wb_D32659506  Congo-Democratic-Republic-of-AFRICA-EAST-P1738...  2020.0   \n",
       "wb_D32659154  Disclosable-Version-of-the-ISR-Kenya-Secondary...  2020.0   \n",
       "\n",
       "                 major_doc_type                                  doc_type  \\\n",
       "id                                                                          \n",
       "wb_D32659506  Project Documents                          Procurement Plan   \n",
       "wb_D32659154  Project Documents  Implementation Status and Results Report   \n",
       "\n",
       "                       author collection  \\\n",
       "id                                         \n",
       "wb_D32659506  Dominique Baado        NaN   \n",
       "wb_D32659154  Waheed,Huma Ali        NaN   \n",
       "\n",
       "                                                          title  ...  \\\n",
       "id                                                               ...   \n",
       "wb_D32659506  Congo, Democratic Republic of - AFRICA EAST - ...  ...   \n",
       "wb_D32659154  Disclosable Version of the ISR - Kenya Seconda...  ...   \n",
       "\n",
       "             adm_region geo_region                        country  \\\n",
       "id                                                                  \n",
       "wb_D32659506     Africa        NaN  Congo, Democratic Republic of   \n",
       "wb_D32659154     Africa        NaN                          Kenya   \n",
       "\n",
       "             wb_lending_instrument wb_product_line wb_major_theme wb_theme  \\\n",
       "id                                                                           \n",
       "wb_D32659506                   NaN             NaN            NaN      NaN   \n",
       "wb_D32659154                   NaN             NaN            NaN      NaN   \n",
       "\n",
       "             wb_sector                                    wb_subtopic_src  \\\n",
       "id                                                                          \n",
       "wb_D32659506       NaN  Regulatory Regimes,Legal Reform,Social Policy,...   \n",
       "wb_D32659154       NaN  Educational Sciences,Secondary Education,Educa...   \n",
       "\n",
       "             wb_project_id  \n",
       "id                          \n",
       "wb_D32659506       P173825  \n",
       "wb_D32659154       P160083  \n",
       "\n",
       "[2 rows x 28 columns]"
      ]
     },
     "execution_count": 33,
     "metadata": {},
     "output_type": "execute_result"
    },
    {
     "name": "stdout",
     "output_type": "stream",
     "text": [
      "time: 18.5 ms\n"
     ]
    }
   ],
   "source": [
    "normalized_final_df.head(2)"
   ]
  },
  {
   "cell_type": "code",
   "execution_count": 34,
   "metadata": {},
   "outputs": [
    {
     "data": {
      "text/plain": [
       "(296978, 28)"
      ]
     },
     "execution_count": 34,
     "metadata": {},
     "output_type": "execute_result"
    },
    {
     "name": "stdout",
     "output_type": "stream",
     "text": [
      "time: 1.41 ms\n"
     ]
    }
   ],
   "source": [
    "normalized_final_df.shape"
   ]
  },
  {
   "cell_type": "code",
   "execution_count": 31,
   "metadata": {},
   "outputs": [
    {
     "data": {
      "text/plain": [
       "(296994, 28)"
      ]
     },
     "execution_count": 31,
     "metadata": {},
     "output_type": "execute_result"
    }
   ],
   "source": [
    "normalized_final_df.shape"
   ]
  },
  {
   "cell_type": "code",
   "execution_count": 29,
   "metadata": {},
   "outputs": [
    {
     "data": {
      "text/plain": [
       "(297347, 28)"
      ]
     },
     "execution_count": 29,
     "metadata": {},
     "output_type": "execute_result"
    }
   ],
   "source": [
    "normalized_final_df.shape"
   ]
  },
  {
   "cell_type": "code",
   "execution_count": 33,
   "metadata": {},
   "outputs": [
    {
     "data": {
      "text/plain": [
       "(297490, 28)"
      ]
     },
     "execution_count": 33,
     "metadata": {},
     "output_type": "execute_result"
    }
   ],
   "source": [
    "normalized_final_df.shape"
   ]
  },
  {
   "cell_type": "markdown",
   "metadata": {},
   "source": [
    "# Downloading actual files\n",
    "\n",
    "So far, we already have a collection of metadata for the documents in the database. The following scripts will enable us to download the actual text documents associate with each entry in the database."
   ]
  },
  {
   "cell_type": "code",
   "execution_count": 35,
   "metadata": {},
   "outputs": [
    {
     "name": "stdout",
     "output_type": "stream",
     "text": [
      "time: 491 µs\n"
     ]
    }
   ],
   "source": [
    "def download_document_and_reports_file(data=None):\n",
    "    download_links = {}\n",
    "\n",
    "    if data is None:\n",
    "        for json_file in glob.iglob(os.path.join(API_JSON_DIR, '*.json')):\n",
    "            print(json_file)\n",
    "\n",
    "            with open(json_file) as fl:\n",
    "                data = json.load(fl)\n",
    "                data = pd.DataFrame(data).T\n",
    "                data.index = data.index.map(build_wb_id)\n",
    "                data.index.name = 'id'\n",
    "                download_data = data['txturl']  # txturl since this directly uses data from api\n",
    "\n",
    "                download_links.update(download_data)\n",
    "    else:\n",
    "        download_links = data['url_txt'].to_dict()\n",
    "\n",
    "    return download_links"
   ]
  },
  {
   "cell_type": "code",
   "execution_count": 36,
   "metadata": {},
   "outputs": [
    {
     "name": "stdout",
     "output_type": "stream",
     "text": [
      "time: 7.65 ms\n"
     ]
    }
   ],
   "source": [
    "WB_TXT_DIR = dir_manager.get_data_dir(\"corpus\", \"WB\", \"TXT_ORIG\")\n",
    "\n",
    "if not os.path.isdir(WB_TXT_DIR):\n",
    "    os.makedirs(WB_TXT_DIR)"
   ]
  },
  {
   "cell_type": "code",
   "execution_count": 37,
   "metadata": {
    "scrolled": true
   },
   "outputs": [
    {
     "name": "stdout",
     "output_type": "stream",
     "text": [
      "/home/wb536061/wb_nlp/data/corpus/WB/tmp_api_json/data-3.json\n",
      "/home/wb536061/wb_nlp/data/corpus/WB/tmp_api_json/data-1.json\n",
      "/home/wb536061/wb_nlp/data/corpus/WB/tmp_api_json/data-0.json\n",
      "/home/wb536061/wb_nlp/data/corpus/WB/tmp_api_json/data-4.json\n",
      "/home/wb536061/wb_nlp/data/corpus/WB/tmp_api_json/data-5.json\n",
      "/home/wb536061/wb_nlp/data/corpus/WB/tmp_api_json/data-2.json\n",
      "/home/wb536061/wb_nlp/data/corpus/WB/tmp_api_json/data-6.json\n",
      "/home/wb536061/wb_nlp/data/corpus/WB/tmp_api_json/data-7.json\n",
      "/home/wb536061/wb_nlp/data/corpus/WB/tmp_api_json/data-9.json\n",
      "/home/wb536061/wb_nlp/data/corpus/WB/tmp_api_json/data-8.json\n",
      "/home/wb536061/wb_nlp/data/corpus/WB/tmp_api_json/data-11.json\n",
      "/home/wb536061/wb_nlp/data/corpus/WB/tmp_api_json/data-12.json\n",
      "/home/wb536061/wb_nlp/data/corpus/WB/tmp_api_json/data-10.json\n",
      "/home/wb536061/wb_nlp/data/corpus/WB/tmp_api_json/data-13.json\n",
      "/home/wb536061/wb_nlp/data/corpus/WB/tmp_api_json/data-14.json\n",
      "/home/wb536061/wb_nlp/data/corpus/WB/tmp_api_json/data-16.json\n",
      "/home/wb536061/wb_nlp/data/corpus/WB/tmp_api_json/data-15.json\n",
      "/home/wb536061/wb_nlp/data/corpus/WB/tmp_api_json/data-19.json\n",
      "/home/wb536061/wb_nlp/data/corpus/WB/tmp_api_json/data-17.json\n",
      "/home/wb536061/wb_nlp/data/corpus/WB/tmp_api_json/data-20.json\n",
      "/home/wb536061/wb_nlp/data/corpus/WB/tmp_api_json/data-18.json\n",
      "/home/wb536061/wb_nlp/data/corpus/WB/tmp_api_json/data-21.json\n",
      "/home/wb536061/wb_nlp/data/corpus/WB/tmp_api_json/data-24.json\n",
      "/home/wb536061/wb_nlp/data/corpus/WB/tmp_api_json/data-23.json\n",
      "/home/wb536061/wb_nlp/data/corpus/WB/tmp_api_json/data-22.json\n",
      "/home/wb536061/wb_nlp/data/corpus/WB/tmp_api_json/data-25.json\n",
      "/home/wb536061/wb_nlp/data/corpus/WB/tmp_api_json/data-27.json\n",
      "/home/wb536061/wb_nlp/data/corpus/WB/tmp_api_json/data-28.json\n",
      "/home/wb536061/wb_nlp/data/corpus/WB/tmp_api_json/data-26.json\n",
      "/home/wb536061/wb_nlp/data/corpus/WB/tmp_api_json/data-29.json\n",
      "/home/wb536061/wb_nlp/data/corpus/WB/tmp_api_json/data-30.json\n",
      "/home/wb536061/wb_nlp/data/corpus/WB/tmp_api_json/data-31.json\n",
      "/home/wb536061/wb_nlp/data/corpus/WB/tmp_api_json/data-32.json\n",
      "/home/wb536061/wb_nlp/data/corpus/WB/tmp_api_json/data-33.json\n",
      "/home/wb536061/wb_nlp/data/corpus/WB/tmp_api_json/data-34.json\n",
      "/home/wb536061/wb_nlp/data/corpus/WB/tmp_api_json/data-35.json\n",
      "/home/wb536061/wb_nlp/data/corpus/WB/tmp_api_json/data-37.json\n",
      "/home/wb536061/wb_nlp/data/corpus/WB/tmp_api_json/data-36.json\n",
      "/home/wb536061/wb_nlp/data/corpus/WB/tmp_api_json/data-38.json\n",
      "/home/wb536061/wb_nlp/data/corpus/WB/tmp_api_json/data-39.json\n",
      "/home/wb536061/wb_nlp/data/corpus/WB/tmp_api_json/data-40.json\n",
      "/home/wb536061/wb_nlp/data/corpus/WB/tmp_api_json/data-42.json\n",
      "/home/wb536061/wb_nlp/data/corpus/WB/tmp_api_json/data-45.json\n",
      "/home/wb536061/wb_nlp/data/corpus/WB/tmp_api_json/data-41.json\n",
      "/home/wb536061/wb_nlp/data/corpus/WB/tmp_api_json/data-43.json\n",
      "/home/wb536061/wb_nlp/data/corpus/WB/tmp_api_json/data-44.json\n",
      "/home/wb536061/wb_nlp/data/corpus/WB/tmp_api_json/data-47.json\n",
      "/home/wb536061/wb_nlp/data/corpus/WB/tmp_api_json/data-46.json\n",
      "/home/wb536061/wb_nlp/data/corpus/WB/tmp_api_json/data-48.json\n",
      "/home/wb536061/wb_nlp/data/corpus/WB/tmp_api_json/data-49.json\n",
      "/home/wb536061/wb_nlp/data/corpus/WB/tmp_api_json/data-50.json\n",
      "/home/wb536061/wb_nlp/data/corpus/WB/tmp_api_json/data-52.json\n",
      "/home/wb536061/wb_nlp/data/corpus/WB/tmp_api_json/data-51.json\n",
      "/home/wb536061/wb_nlp/data/corpus/WB/tmp_api_json/data-53.json\n",
      "/home/wb536061/wb_nlp/data/corpus/WB/tmp_api_json/data-56.json\n",
      "/home/wb536061/wb_nlp/data/corpus/WB/tmp_api_json/data-55.json\n",
      "/home/wb536061/wb_nlp/data/corpus/WB/tmp_api_json/data-54.json\n",
      "/home/wb536061/wb_nlp/data/corpus/WB/tmp_api_json/data-57.json\n",
      "/home/wb536061/wb_nlp/data/corpus/WB/tmp_api_json/data-59.json\n",
      "/home/wb536061/wb_nlp/data/corpus/WB/tmp_api_json/data-60.json\n",
      "/home/wb536061/wb_nlp/data/corpus/WB/tmp_api_json/data-58.json\n",
      "/home/wb536061/wb_nlp/data/corpus/WB/tmp_api_json/data-64.json\n",
      "/home/wb536061/wb_nlp/data/corpus/WB/tmp_api_json/data-62.json\n",
      "/home/wb536061/wb_nlp/data/corpus/WB/tmp_api_json/data-61.json\n",
      "/home/wb536061/wb_nlp/data/corpus/WB/tmp_api_json/data-65.json\n",
      "/home/wb536061/wb_nlp/data/corpus/WB/tmp_api_json/data-63.json\n",
      "/home/wb536061/wb_nlp/data/corpus/WB/tmp_api_json/data-67.json\n",
      "/home/wb536061/wb_nlp/data/corpus/WB/tmp_api_json/data-66.json\n",
      "/home/wb536061/wb_nlp/data/corpus/WB/tmp_api_json/data-68.json\n",
      "/home/wb536061/wb_nlp/data/corpus/WB/tmp_api_json/data-69.json\n",
      "/home/wb536061/wb_nlp/data/corpus/WB/tmp_api_json/data-71.json\n",
      "/home/wb536061/wb_nlp/data/corpus/WB/tmp_api_json/data-72.json\n",
      "/home/wb536061/wb_nlp/data/corpus/WB/tmp_api_json/data-70.json\n",
      "/home/wb536061/wb_nlp/data/corpus/WB/tmp_api_json/data-73.json\n",
      "/home/wb536061/wb_nlp/data/corpus/WB/tmp_api_json/data-74.json\n",
      "/home/wb536061/wb_nlp/data/corpus/WB/tmp_api_json/data-75.json\n",
      "/home/wb536061/wb_nlp/data/corpus/WB/tmp_api_json/data-76.json\n",
      "/home/wb536061/wb_nlp/data/corpus/WB/tmp_api_json/data-78.json\n",
      "/home/wb536061/wb_nlp/data/corpus/WB/tmp_api_json/data-77.json\n",
      "/home/wb536061/wb_nlp/data/corpus/WB/tmp_api_json/data-79.json\n",
      "/home/wb536061/wb_nlp/data/corpus/WB/tmp_api_json/data-81.json\n",
      "/home/wb536061/wb_nlp/data/corpus/WB/tmp_api_json/data-80.json\n",
      "/home/wb536061/wb_nlp/data/corpus/WB/tmp_api_json/data-82.json\n",
      "/home/wb536061/wb_nlp/data/corpus/WB/tmp_api_json/data-85.json\n",
      "/home/wb536061/wb_nlp/data/corpus/WB/tmp_api_json/data-83.json\n",
      "/home/wb536061/wb_nlp/data/corpus/WB/tmp_api_json/data-84.json\n",
      "/home/wb536061/wb_nlp/data/corpus/WB/tmp_api_json/data-86.json\n",
      "/home/wb536061/wb_nlp/data/corpus/WB/tmp_api_json/data-87.json\n",
      "/home/wb536061/wb_nlp/data/corpus/WB/tmp_api_json/data-88.json\n",
      "/home/wb536061/wb_nlp/data/corpus/WB/tmp_api_json/data-90.json\n",
      "/home/wb536061/wb_nlp/data/corpus/WB/tmp_api_json/data-89.json\n",
      "/home/wb536061/wb_nlp/data/corpus/WB/tmp_api_json/data-92.json\n",
      "/home/wb536061/wb_nlp/data/corpus/WB/tmp_api_json/data-94.json\n",
      "/home/wb536061/wb_nlp/data/corpus/WB/tmp_api_json/data-95.json\n",
      "/home/wb536061/wb_nlp/data/corpus/WB/tmp_api_json/data-96.json\n",
      "/home/wb536061/wb_nlp/data/corpus/WB/tmp_api_json/data-93.json\n",
      "/home/wb536061/wb_nlp/data/corpus/WB/tmp_api_json/data-91.json\n",
      "/home/wb536061/wb_nlp/data/corpus/WB/tmp_api_json/data-97.json\n",
      "/home/wb536061/wb_nlp/data/corpus/WB/tmp_api_json/data-100.json\n",
      "/home/wb536061/wb_nlp/data/corpus/WB/tmp_api_json/data-99.json\n",
      "/home/wb536061/wb_nlp/data/corpus/WB/tmp_api_json/data-98.json\n",
      "/home/wb536061/wb_nlp/data/corpus/WB/tmp_api_json/data-101.json\n",
      "/home/wb536061/wb_nlp/data/corpus/WB/tmp_api_json/data-103.json\n",
      "/home/wb536061/wb_nlp/data/corpus/WB/tmp_api_json/data-102.json\n",
      "/home/wb536061/wb_nlp/data/corpus/WB/tmp_api_json/data-104.json\n",
      "/home/wb536061/wb_nlp/data/corpus/WB/tmp_api_json/data-105.json\n",
      "/home/wb536061/wb_nlp/data/corpus/WB/tmp_api_json/data-107.json\n",
      "/home/wb536061/wb_nlp/data/corpus/WB/tmp_api_json/data-108.json\n",
      "/home/wb536061/wb_nlp/data/corpus/WB/tmp_api_json/data-106.json\n",
      "/home/wb536061/wb_nlp/data/corpus/WB/tmp_api_json/data-109.json\n",
      "/home/wb536061/wb_nlp/data/corpus/WB/tmp_api_json/data-110.json\n",
      "/home/wb536061/wb_nlp/data/corpus/WB/tmp_api_json/data-112.json\n",
      "/home/wb536061/wb_nlp/data/corpus/WB/tmp_api_json/data-114.json\n",
      "/home/wb536061/wb_nlp/data/corpus/WB/tmp_api_json/data-113.json\n",
      "/home/wb536061/wb_nlp/data/corpus/WB/tmp_api_json/data-111.json\n",
      "/home/wb536061/wb_nlp/data/corpus/WB/tmp_api_json/data-115.json\n",
      "/home/wb536061/wb_nlp/data/corpus/WB/tmp_api_json/data-116.json\n",
      "/home/wb536061/wb_nlp/data/corpus/WB/tmp_api_json/data-117.json\n",
      "/home/wb536061/wb_nlp/data/corpus/WB/tmp_api_json/data-118.json\n",
      "/home/wb536061/wb_nlp/data/corpus/WB/tmp_api_json/data-120.json\n",
      "/home/wb536061/wb_nlp/data/corpus/WB/tmp_api_json/data-119.json\n",
      "/home/wb536061/wb_nlp/data/corpus/WB/tmp_api_json/data-121.json\n",
      "/home/wb536061/wb_nlp/data/corpus/WB/tmp_api_json/data-122.json\n",
      "/home/wb536061/wb_nlp/data/corpus/WB/tmp_api_json/data-125.json\n",
      "/home/wb536061/wb_nlp/data/corpus/WB/tmp_api_json/data-123.json\n",
      "/home/wb536061/wb_nlp/data/corpus/WB/tmp_api_json/data-124.json\n",
      "/home/wb536061/wb_nlp/data/corpus/WB/tmp_api_json/data-127.json\n",
      "/home/wb536061/wb_nlp/data/corpus/WB/tmp_api_json/data-126.json\n",
      "/home/wb536061/wb_nlp/data/corpus/WB/tmp_api_json/data-128.json\n",
      "/home/wb536061/wb_nlp/data/corpus/WB/tmp_api_json/data-129.json\n",
      "/home/wb536061/wb_nlp/data/corpus/WB/tmp_api_json/data-130.json\n",
      "/home/wb536061/wb_nlp/data/corpus/WB/tmp_api_json/data-132.json\n",
      "/home/wb536061/wb_nlp/data/corpus/WB/tmp_api_json/data-131.json\n",
      "/home/wb536061/wb_nlp/data/corpus/WB/tmp_api_json/data-133.json\n",
      "/home/wb536061/wb_nlp/data/corpus/WB/tmp_api_json/data-134.json\n",
      "/home/wb536061/wb_nlp/data/corpus/WB/tmp_api_json/data-135.json\n",
      "/home/wb536061/wb_nlp/data/corpus/WB/tmp_api_json/data-136.json\n",
      "/home/wb536061/wb_nlp/data/corpus/WB/tmp_api_json/data-137.json\n",
      "/home/wb536061/wb_nlp/data/corpus/WB/tmp_api_json/data-139.json\n",
      "/home/wb536061/wb_nlp/data/corpus/WB/tmp_api_json/data-138.json\n",
      "/home/wb536061/wb_nlp/data/corpus/WB/tmp_api_json/data-141.json\n",
      "/home/wb536061/wb_nlp/data/corpus/WB/tmp_api_json/data-140.json\n",
      "/home/wb536061/wb_nlp/data/corpus/WB/tmp_api_json/data-143.json\n",
      "/home/wb536061/wb_nlp/data/corpus/WB/tmp_api_json/data-142.json\n",
      "/home/wb536061/wb_nlp/data/corpus/WB/tmp_api_json/data-144.json\n",
      "/home/wb536061/wb_nlp/data/corpus/WB/tmp_api_json/data-145.json\n",
      "/home/wb536061/wb_nlp/data/corpus/WB/tmp_api_json/data-148.json\n",
      "/home/wb536061/wb_nlp/data/corpus/WB/tmp_api_json/data-147.json\n",
      "/home/wb536061/wb_nlp/data/corpus/WB/tmp_api_json/data-146.json\n",
      "/home/wb536061/wb_nlp/data/corpus/WB/tmp_api_json/data-149.json\n",
      "/home/wb536061/wb_nlp/data/corpus/WB/tmp_api_json/data-151.json\n",
      "/home/wb536061/wb_nlp/data/corpus/WB/tmp_api_json/data-150.json\n",
      "/home/wb536061/wb_nlp/data/corpus/WB/tmp_api_json/data-154.json\n",
      "/home/wb536061/wb_nlp/data/corpus/WB/tmp_api_json/data-153.json\n",
      "/home/wb536061/wb_nlp/data/corpus/WB/tmp_api_json/data-155.json\n",
      "/home/wb536061/wb_nlp/data/corpus/WB/tmp_api_json/data-152.json\n",
      "/home/wb536061/wb_nlp/data/corpus/WB/tmp_api_json/data-156.json\n",
      "/home/wb536061/wb_nlp/data/corpus/WB/tmp_api_json/data-157.json\n",
      "/home/wb536061/wb_nlp/data/corpus/WB/tmp_api_json/data-158.json\n",
      "/home/wb536061/wb_nlp/data/corpus/WB/tmp_api_json/data-160.json\n",
      "/home/wb536061/wb_nlp/data/corpus/WB/tmp_api_json/data-159.json\n",
      "/home/wb536061/wb_nlp/data/corpus/WB/tmp_api_json/data-161.json\n",
      "/home/wb536061/wb_nlp/data/corpus/WB/tmp_api_json/data-162.json\n",
      "/home/wb536061/wb_nlp/data/corpus/WB/tmp_api_json/data-163.json\n",
      "/home/wb536061/wb_nlp/data/corpus/WB/tmp_api_json/data-165.json\n",
      "/home/wb536061/wb_nlp/data/corpus/WB/tmp_api_json/data-166.json\n",
      "/home/wb536061/wb_nlp/data/corpus/WB/tmp_api_json/data-164.json\n",
      "/home/wb536061/wb_nlp/data/corpus/WB/tmp_api_json/data-167.json\n",
      "/home/wb536061/wb_nlp/data/corpus/WB/tmp_api_json/data-169.json\n",
      "/home/wb536061/wb_nlp/data/corpus/WB/tmp_api_json/data-168.json\n",
      "/home/wb536061/wb_nlp/data/corpus/WB/tmp_api_json/data-170.json\n",
      "/home/wb536061/wb_nlp/data/corpus/WB/tmp_api_json/data-173.json\n",
      "/home/wb536061/wb_nlp/data/corpus/WB/tmp_api_json/data-171.json\n",
      "/home/wb536061/wb_nlp/data/corpus/WB/tmp_api_json/data-172.json\n",
      "/home/wb536061/wb_nlp/data/corpus/WB/tmp_api_json/data-174.json\n",
      "/home/wb536061/wb_nlp/data/corpus/WB/tmp_api_json/data-175.json\n",
      "/home/wb536061/wb_nlp/data/corpus/WB/tmp_api_json/data-176.json\n",
      "/home/wb536061/wb_nlp/data/corpus/WB/tmp_api_json/data-178.json\n",
      "/home/wb536061/wb_nlp/data/corpus/WB/tmp_api_json/data-177.json\n",
      "/home/wb536061/wb_nlp/data/corpus/WB/tmp_api_json/data-179.json\n",
      "/home/wb536061/wb_nlp/data/corpus/WB/tmp_api_json/data-180.json\n",
      "/home/wb536061/wb_nlp/data/corpus/WB/tmp_api_json/data-181.json\n",
      "/home/wb536061/wb_nlp/data/corpus/WB/tmp_api_json/data-182.json\n",
      "/home/wb536061/wb_nlp/data/corpus/WB/tmp_api_json/data-184.json\n",
      "/home/wb536061/wb_nlp/data/corpus/WB/tmp_api_json/data-183.json\n",
      "/home/wb536061/wb_nlp/data/corpus/WB/tmp_api_json/data-185.json\n",
      "/home/wb536061/wb_nlp/data/corpus/WB/tmp_api_json/data-187.json\n",
      "/home/wb536061/wb_nlp/data/corpus/WB/tmp_api_json/data-189.json\n",
      "/home/wb536061/wb_nlp/data/corpus/WB/tmp_api_json/data-188.json\n",
      "/home/wb536061/wb_nlp/data/corpus/WB/tmp_api_json/data-186.json\n",
      "/home/wb536061/wb_nlp/data/corpus/WB/tmp_api_json/data-190.json\n",
      "/home/wb536061/wb_nlp/data/corpus/WB/tmp_api_json/data-192.json\n",
      "/home/wb536061/wb_nlp/data/corpus/WB/tmp_api_json/data-194.json\n",
      "/home/wb536061/wb_nlp/data/corpus/WB/tmp_api_json/data-191.json\n",
      "/home/wb536061/wb_nlp/data/corpus/WB/tmp_api_json/data-193.json\n",
      "/home/wb536061/wb_nlp/data/corpus/WB/tmp_api_json/data-197.json\n",
      "/home/wb536061/wb_nlp/data/corpus/WB/tmp_api_json/data-196.json\n",
      "/home/wb536061/wb_nlp/data/corpus/WB/tmp_api_json/data-195.json\n",
      "/home/wb536061/wb_nlp/data/corpus/WB/tmp_api_json/data-198.json\n",
      "/home/wb536061/wb_nlp/data/corpus/WB/tmp_api_json/data-199.json\n",
      "/home/wb536061/wb_nlp/data/corpus/WB/tmp_api_json/data-200.json\n",
      "/home/wb536061/wb_nlp/data/corpus/WB/tmp_api_json/data-201.json\n",
      "/home/wb536061/wb_nlp/data/corpus/WB/tmp_api_json/data-202.json\n",
      "/home/wb536061/wb_nlp/data/corpus/WB/tmp_api_json/data-204.json\n",
      "/home/wb536061/wb_nlp/data/corpus/WB/tmp_api_json/data-203.json\n",
      "/home/wb536061/wb_nlp/data/corpus/WB/tmp_api_json/data-206.json\n",
      "/home/wb536061/wb_nlp/data/corpus/WB/tmp_api_json/data-205.json\n",
      "/home/wb536061/wb_nlp/data/corpus/WB/tmp_api_json/data-207.json\n",
      "/home/wb536061/wb_nlp/data/corpus/WB/tmp_api_json/data-209.json\n",
      "/home/wb536061/wb_nlp/data/corpus/WB/tmp_api_json/data-210.json\n",
      "/home/wb536061/wb_nlp/data/corpus/WB/tmp_api_json/data-208.json\n",
      "/home/wb536061/wb_nlp/data/corpus/WB/tmp_api_json/data-212.json\n",
      "/home/wb536061/wb_nlp/data/corpus/WB/tmp_api_json/data-214.json\n",
      "/home/wb536061/wb_nlp/data/corpus/WB/tmp_api_json/data-213.json\n",
      "/home/wb536061/wb_nlp/data/corpus/WB/tmp_api_json/data-211.json\n",
      "/home/wb536061/wb_nlp/data/corpus/WB/tmp_api_json/data-215.json\n",
      "/home/wb536061/wb_nlp/data/corpus/WB/tmp_api_json/data-216.json\n",
      "/home/wb536061/wb_nlp/data/corpus/WB/tmp_api_json/data-217.json\n",
      "/home/wb536061/wb_nlp/data/corpus/WB/tmp_api_json/data-218.json\n",
      "/home/wb536061/wb_nlp/data/corpus/WB/tmp_api_json/data-219.json\n",
      "/home/wb536061/wb_nlp/data/corpus/WB/tmp_api_json/data-220.json\n",
      "/home/wb536061/wb_nlp/data/corpus/WB/tmp_api_json/data-222.json\n",
      "/home/wb536061/wb_nlp/data/corpus/WB/tmp_api_json/data-221.json\n",
      "/home/wb536061/wb_nlp/data/corpus/WB/tmp_api_json/data-223.json\n",
      "/home/wb536061/wb_nlp/data/corpus/WB/tmp_api_json/data-224.json\n",
      "/home/wb536061/wb_nlp/data/corpus/WB/tmp_api_json/data-226.json\n",
      "/home/wb536061/wb_nlp/data/corpus/WB/tmp_api_json/data-227.json\n",
      "/home/wb536061/wb_nlp/data/corpus/WB/tmp_api_json/data-225.json\n",
      "/home/wb536061/wb_nlp/data/corpus/WB/tmp_api_json/data-228.json\n",
      "/home/wb536061/wb_nlp/data/corpus/WB/tmp_api_json/data-229.json\n",
      "/home/wb536061/wb_nlp/data/corpus/WB/tmp_api_json/data-231.json\n",
      "/home/wb536061/wb_nlp/data/corpus/WB/tmp_api_json/data-232.json\n",
      "/home/wb536061/wb_nlp/data/corpus/WB/tmp_api_json/data-230.json\n",
      "/home/wb536061/wb_nlp/data/corpus/WB/tmp_api_json/data-233.json\n",
      "/home/wb536061/wb_nlp/data/corpus/WB/tmp_api_json/data-234.json\n",
      "/home/wb536061/wb_nlp/data/corpus/WB/tmp_api_json/data-235.json\n",
      "/home/wb536061/wb_nlp/data/corpus/WB/tmp_api_json/data-236.json\n",
      "/home/wb536061/wb_nlp/data/corpus/WB/tmp_api_json/data-237.json\n",
      "/home/wb536061/wb_nlp/data/corpus/WB/tmp_api_json/data-238.json\n",
      "/home/wb536061/wb_nlp/data/corpus/WB/tmp_api_json/data-239.json\n",
      "/home/wb536061/wb_nlp/data/corpus/WB/tmp_api_json/data-241.json\n",
      "/home/wb536061/wb_nlp/data/corpus/WB/tmp_api_json/data-242.json\n",
      "/home/wb536061/wb_nlp/data/corpus/WB/tmp_api_json/data-240.json\n",
      "/home/wb536061/wb_nlp/data/corpus/WB/tmp_api_json/data-243.json\n",
      "/home/wb536061/wb_nlp/data/corpus/WB/tmp_api_json/data-245.json\n",
      "/home/wb536061/wb_nlp/data/corpus/WB/tmp_api_json/data-244.json\n",
      "/home/wb536061/wb_nlp/data/corpus/WB/tmp_api_json/data-246.json\n",
      "/home/wb536061/wb_nlp/data/corpus/WB/tmp_api_json/data-248.json\n",
      "/home/wb536061/wb_nlp/data/corpus/WB/tmp_api_json/data-247.json\n",
      "/home/wb536061/wb_nlp/data/corpus/WB/tmp_api_json/data-250.json\n",
      "/home/wb536061/wb_nlp/data/corpus/WB/tmp_api_json/data-249.json\n",
      "/home/wb536061/wb_nlp/data/corpus/WB/tmp_api_json/data-252.json\n",
      "/home/wb536061/wb_nlp/data/corpus/WB/tmp_api_json/data-251.json\n",
      "/home/wb536061/wb_nlp/data/corpus/WB/tmp_api_json/data-253.json\n",
      "/home/wb536061/wb_nlp/data/corpus/WB/tmp_api_json/data-255.json\n",
      "/home/wb536061/wb_nlp/data/corpus/WB/tmp_api_json/data-254.json\n",
      "/home/wb536061/wb_nlp/data/corpus/WB/tmp_api_json/data-256.json\n",
      "/home/wb536061/wb_nlp/data/corpus/WB/tmp_api_json/data-257.json\n",
      "/home/wb536061/wb_nlp/data/corpus/WB/tmp_api_json/data-259.json\n",
      "/home/wb536061/wb_nlp/data/corpus/WB/tmp_api_json/data-258.json\n",
      "/home/wb536061/wb_nlp/data/corpus/WB/tmp_api_json/data-260.json\n",
      "/home/wb536061/wb_nlp/data/corpus/WB/tmp_api_json/data-262.json\n",
      "/home/wb536061/wb_nlp/data/corpus/WB/tmp_api_json/data-261.json\n",
      "/home/wb536061/wb_nlp/data/corpus/WB/tmp_api_json/data-264.json\n",
      "/home/wb536061/wb_nlp/data/corpus/WB/tmp_api_json/data-263.json\n",
      "/home/wb536061/wb_nlp/data/corpus/WB/tmp_api_json/data-265.json\n",
      "/home/wb536061/wb_nlp/data/corpus/WB/tmp_api_json/data-267.json\n",
      "/home/wb536061/wb_nlp/data/corpus/WB/tmp_api_json/data-266.json\n",
      "/home/wb536061/wb_nlp/data/corpus/WB/tmp_api_json/data-269.json\n",
      "/home/wb536061/wb_nlp/data/corpus/WB/tmp_api_json/data-268.json\n",
      "/home/wb536061/wb_nlp/data/corpus/WB/tmp_api_json/data-271.json\n",
      "/home/wb536061/wb_nlp/data/corpus/WB/tmp_api_json/data-270.json\n",
      "/home/wb536061/wb_nlp/data/corpus/WB/tmp_api_json/data-273.json\n",
      "/home/wb536061/wb_nlp/data/corpus/WB/tmp_api_json/data-274.json\n",
      "/home/wb536061/wb_nlp/data/corpus/WB/tmp_api_json/data-275.json\n",
      "/home/wb536061/wb_nlp/data/corpus/WB/tmp_api_json/data-272.json\n",
      "/home/wb536061/wb_nlp/data/corpus/WB/tmp_api_json/data-279.json\n",
      "/home/wb536061/wb_nlp/data/corpus/WB/tmp_api_json/data-278.json\n",
      "/home/wb536061/wb_nlp/data/corpus/WB/tmp_api_json/data-276.json\n",
      "/home/wb536061/wb_nlp/data/corpus/WB/tmp_api_json/data-277.json\n",
      "/home/wb536061/wb_nlp/data/corpus/WB/tmp_api_json/data-280.json\n",
      "/home/wb536061/wb_nlp/data/corpus/WB/tmp_api_json/data-281.json\n",
      "/home/wb536061/wb_nlp/data/corpus/WB/tmp_api_json/data-283.json\n",
      "/home/wb536061/wb_nlp/data/corpus/WB/tmp_api_json/data-282.json\n",
      "/home/wb536061/wb_nlp/data/corpus/WB/tmp_api_json/data-285.json\n",
      "/home/wb536061/wb_nlp/data/corpus/WB/tmp_api_json/data-286.json\n",
      "/home/wb536061/wb_nlp/data/corpus/WB/tmp_api_json/data-284.json\n",
      "/home/wb536061/wb_nlp/data/corpus/WB/tmp_api_json/data-287.json\n",
      "/home/wb536061/wb_nlp/data/corpus/WB/tmp_api_json/data-290.json\n",
      "/home/wb536061/wb_nlp/data/corpus/WB/tmp_api_json/data-288.json\n",
      "/home/wb536061/wb_nlp/data/corpus/WB/tmp_api_json/data-289.json\n",
      "/home/wb536061/wb_nlp/data/corpus/WB/tmp_api_json/data-292.json\n",
      "/home/wb536061/wb_nlp/data/corpus/WB/tmp_api_json/data-293.json\n",
      "/home/wb536061/wb_nlp/data/corpus/WB/tmp_api_json/data-291.json\n",
      "/home/wb536061/wb_nlp/data/corpus/WB/tmp_api_json/data-294.json\n",
      "/home/wb536061/wb_nlp/data/corpus/WB/tmp_api_json/data-295.json\n",
      "/home/wb536061/wb_nlp/data/corpus/WB/tmp_api_json/data-297.json\n",
      "/home/wb536061/wb_nlp/data/corpus/WB/tmp_api_json/data-296.json\n",
      "/home/wb536061/wb_nlp/data/corpus/WB/tmp_api_json/data-298.json\n",
      "/home/wb536061/wb_nlp/data/corpus/WB/tmp_api_json/data-300.json\n",
      "/home/wb536061/wb_nlp/data/corpus/WB/tmp_api_json/data-299.json\n",
      "/home/wb536061/wb_nlp/data/corpus/WB/tmp_api_json/data-301.json\n",
      "/home/wb536061/wb_nlp/data/corpus/WB/tmp_api_json/data-304.json\n",
      "/home/wb536061/wb_nlp/data/corpus/WB/tmp_api_json/data-303.json\n",
      "/home/wb536061/wb_nlp/data/corpus/WB/tmp_api_json/data-306.json\n",
      "/home/wb536061/wb_nlp/data/corpus/WB/tmp_api_json/data-305.json\n",
      "/home/wb536061/wb_nlp/data/corpus/WB/tmp_api_json/data-307.json\n",
      "/home/wb536061/wb_nlp/data/corpus/WB/tmp_api_json/data-309.json\n",
      "/home/wb536061/wb_nlp/data/corpus/WB/tmp_api_json/data-308.json\n",
      "/home/wb536061/wb_nlp/data/corpus/WB/tmp_api_json/data-310.json\n",
      "/home/wb536061/wb_nlp/data/corpus/WB/tmp_api_json/data-311.json\n",
      "/home/wb536061/wb_nlp/data/corpus/WB/tmp_api_json/data-312.json\n",
      "/home/wb536061/wb_nlp/data/corpus/WB/tmp_api_json/data-313.json\n",
      "/home/wb536061/wb_nlp/data/corpus/WB/tmp_api_json/data-314.json\n",
      "/home/wb536061/wb_nlp/data/corpus/WB/tmp_api_json/data-316.json\n",
      "/home/wb536061/wb_nlp/data/corpus/WB/tmp_api_json/data-302.json\n",
      "/home/wb536061/wb_nlp/data/corpus/WB/tmp_api_json/data-317.json\n",
      "/home/wb536061/wb_nlp/data/corpus/WB/tmp_api_json/data-315.json\n",
      "/home/wb536061/wb_nlp/data/corpus/WB/tmp_api_json/data-318.json\n",
      "/home/wb536061/wb_nlp/data/corpus/WB/tmp_api_json/data-320.json\n",
      "/home/wb536061/wb_nlp/data/corpus/WB/tmp_api_json/data-319.json\n",
      "/home/wb536061/wb_nlp/data/corpus/WB/tmp_api_json/data-322.json\n",
      "/home/wb536061/wb_nlp/data/corpus/WB/tmp_api_json/data-321.json\n",
      "/home/wb536061/wb_nlp/data/corpus/WB/tmp_api_json/data-323.json\n",
      "/home/wb536061/wb_nlp/data/corpus/WB/tmp_api_json/data-325.json\n",
      "/home/wb536061/wb_nlp/data/corpus/WB/tmp_api_json/data-326.json\n",
      "/home/wb536061/wb_nlp/data/corpus/WB/tmp_api_json/data-324.json\n",
      "/home/wb536061/wb_nlp/data/corpus/WB/tmp_api_json/data-327.json\n",
      "/home/wb536061/wb_nlp/data/corpus/WB/tmp_api_json/data-328.json\n",
      "/home/wb536061/wb_nlp/data/corpus/WB/tmp_api_json/data-329.json\n",
      "/home/wb536061/wb_nlp/data/corpus/WB/tmp_api_json/data-330.json\n",
      "/home/wb536061/wb_nlp/data/corpus/WB/tmp_api_json/data-331.json\n",
      "/home/wb536061/wb_nlp/data/corpus/WB/tmp_api_json/data-332.json\n",
      "/home/wb536061/wb_nlp/data/corpus/WB/tmp_api_json/data-333.json\n",
      "/home/wb536061/wb_nlp/data/corpus/WB/tmp_api_json/data-334.json\n",
      "/home/wb536061/wb_nlp/data/corpus/WB/tmp_api_json/data-335.json\n",
      "/home/wb536061/wb_nlp/data/corpus/WB/tmp_api_json/data-337.json\n",
      "/home/wb536061/wb_nlp/data/corpus/WB/tmp_api_json/data-336.json\n",
      "/home/wb536061/wb_nlp/data/corpus/WB/tmp_api_json/data-338.json\n",
      "/home/wb536061/wb_nlp/data/corpus/WB/tmp_api_json/data-339.json\n",
      "/home/wb536061/wb_nlp/data/corpus/WB/tmp_api_json/data-341.json\n",
      "/home/wb536061/wb_nlp/data/corpus/WB/tmp_api_json/data-342.json\n",
      "/home/wb536061/wb_nlp/data/corpus/WB/tmp_api_json/data-340.json\n",
      "/home/wb536061/wb_nlp/data/corpus/WB/tmp_api_json/data-343.json\n",
      "/home/wb536061/wb_nlp/data/corpus/WB/tmp_api_json/data-345.json\n",
      "/home/wb536061/wb_nlp/data/corpus/WB/tmp_api_json/data-344.json\n",
      "/home/wb536061/wb_nlp/data/corpus/WB/tmp_api_json/data-346.json\n",
      "/home/wb536061/wb_nlp/data/corpus/WB/tmp_api_json/data-347.json\n",
      "/home/wb536061/wb_nlp/data/corpus/WB/tmp_api_json/data-348.json\n",
      "/home/wb536061/wb_nlp/data/corpus/WB/tmp_api_json/data-349.json\n",
      "/home/wb536061/wb_nlp/data/corpus/WB/tmp_api_json/data-350.json\n",
      "/home/wb536061/wb_nlp/data/corpus/WB/tmp_api_json/data-351.json\n",
      "/home/wb536061/wb_nlp/data/corpus/WB/tmp_api_json/data-353.json\n",
      "/home/wb536061/wb_nlp/data/corpus/WB/tmp_api_json/data-352.json\n",
      "/home/wb536061/wb_nlp/data/corpus/WB/tmp_api_json/data-354.json\n",
      "/home/wb536061/wb_nlp/data/corpus/WB/tmp_api_json/data-356.json\n",
      "/home/wb536061/wb_nlp/data/corpus/WB/tmp_api_json/data-355.json\n",
      "/home/wb536061/wb_nlp/data/corpus/WB/tmp_api_json/data-357.json\n",
      "/home/wb536061/wb_nlp/data/corpus/WB/tmp_api_json/data-358.json\n",
      "/home/wb536061/wb_nlp/data/corpus/WB/tmp_api_json/data-359.json\n",
      "/home/wb536061/wb_nlp/data/corpus/WB/tmp_api_json/data-360.json\n",
      "/home/wb536061/wb_nlp/data/corpus/WB/tmp_api_json/data-361.json\n",
      "/home/wb536061/wb_nlp/data/corpus/WB/tmp_api_json/data-362.json\n",
      "/home/wb536061/wb_nlp/data/corpus/WB/tmp_api_json/data-363.json\n",
      "/home/wb536061/wb_nlp/data/corpus/WB/tmp_api_json/data-365.json\n",
      "/home/wb536061/wb_nlp/data/corpus/WB/tmp_api_json/data-364.json\n",
      "/home/wb536061/wb_nlp/data/corpus/WB/tmp_api_json/data-366.json\n",
      "/home/wb536061/wb_nlp/data/corpus/WB/tmp_api_json/data-369.json\n",
      "/home/wb536061/wb_nlp/data/corpus/WB/tmp_api_json/data-367.json\n",
      "/home/wb536061/wb_nlp/data/corpus/WB/tmp_api_json/data-368.json\n",
      "/home/wb536061/wb_nlp/data/corpus/WB/tmp_api_json/data-370.json\n",
      "/home/wb536061/wb_nlp/data/corpus/WB/tmp_api_json/data-372.json\n",
      "/home/wb536061/wb_nlp/data/corpus/WB/tmp_api_json/data-371.json\n",
      "/home/wb536061/wb_nlp/data/corpus/WB/tmp_api_json/data-373.json\n",
      "/home/wb536061/wb_nlp/data/corpus/WB/tmp_api_json/data-374.json\n",
      "/home/wb536061/wb_nlp/data/corpus/WB/tmp_api_json/data-375.json\n",
      "/home/wb536061/wb_nlp/data/corpus/WB/tmp_api_json/data-376.json\n",
      "/home/wb536061/wb_nlp/data/corpus/WB/tmp_api_json/data-378.json\n",
      "/home/wb536061/wb_nlp/data/corpus/WB/tmp_api_json/data-377.json\n",
      "/home/wb536061/wb_nlp/data/corpus/WB/tmp_api_json/data-379.json\n",
      "/home/wb536061/wb_nlp/data/corpus/WB/tmp_api_json/data-381.json\n",
      "/home/wb536061/wb_nlp/data/corpus/WB/tmp_api_json/data-382.json\n",
      "/home/wb536061/wb_nlp/data/corpus/WB/tmp_api_json/data-380.json\n",
      "/home/wb536061/wb_nlp/data/corpus/WB/tmp_api_json/data-384.json\n",
      "/home/wb536061/wb_nlp/data/corpus/WB/tmp_api_json/data-385.json\n",
      "/home/wb536061/wb_nlp/data/corpus/WB/tmp_api_json/data-383.json\n",
      "/home/wb536061/wb_nlp/data/corpus/WB/tmp_api_json/data-387.json\n",
      "/home/wb536061/wb_nlp/data/corpus/WB/tmp_api_json/data-386.json\n",
      "/home/wb536061/wb_nlp/data/corpus/WB/tmp_api_json/data-388.json\n",
      "/home/wb536061/wb_nlp/data/corpus/WB/tmp_api_json/data-389.json\n",
      "/home/wb536061/wb_nlp/data/corpus/WB/tmp_api_json/data-390.json\n",
      "/home/wb536061/wb_nlp/data/corpus/WB/tmp_api_json/data-392.json\n",
      "/home/wb536061/wb_nlp/data/corpus/WB/tmp_api_json/data-393.json\n",
      "/home/wb536061/wb_nlp/data/corpus/WB/tmp_api_json/data-391.json\n",
      "/home/wb536061/wb_nlp/data/corpus/WB/tmp_api_json/data-394.json\n",
      "/home/wb536061/wb_nlp/data/corpus/WB/tmp_api_json/data-395.json\n",
      "/home/wb536061/wb_nlp/data/corpus/WB/tmp_api_json/data-396.json\n",
      "/home/wb536061/wb_nlp/data/corpus/WB/tmp_api_json/data-397.json\n",
      "/home/wb536061/wb_nlp/data/corpus/WB/tmp_api_json/data-401.json\n",
      "/home/wb536061/wb_nlp/data/corpus/WB/tmp_api_json/data-398.json\n",
      "/home/wb536061/wb_nlp/data/corpus/WB/tmp_api_json/data-400.json\n",
      "/home/wb536061/wb_nlp/data/corpus/WB/tmp_api_json/data-399.json\n",
      "/home/wb536061/wb_nlp/data/corpus/WB/tmp_api_json/data-404.json\n",
      "/home/wb536061/wb_nlp/data/corpus/WB/tmp_api_json/data-402.json\n",
      "/home/wb536061/wb_nlp/data/corpus/WB/tmp_api_json/data-403.json\n",
      "/home/wb536061/wb_nlp/data/corpus/WB/tmp_api_json/data-406.json\n",
      "/home/wb536061/wb_nlp/data/corpus/WB/tmp_api_json/data-407.json\n",
      "/home/wb536061/wb_nlp/data/corpus/WB/tmp_api_json/data-405.json\n",
      "/home/wb536061/wb_nlp/data/corpus/WB/tmp_api_json/data-408.json\n",
      "/home/wb536061/wb_nlp/data/corpus/WB/tmp_api_json/data-410.json\n",
      "/home/wb536061/wb_nlp/data/corpus/WB/tmp_api_json/data-409.json\n",
      "/home/wb536061/wb_nlp/data/corpus/WB/tmp_api_json/data-411.json\n",
      "/home/wb536061/wb_nlp/data/corpus/WB/tmp_api_json/data-413.json\n",
      "/home/wb536061/wb_nlp/data/corpus/WB/tmp_api_json/data-414.json\n",
      "/home/wb536061/wb_nlp/data/corpus/WB/tmp_api_json/data-415.json\n",
      "/home/wb536061/wb_nlp/data/corpus/WB/tmp_api_json/data-416.json\n",
      "/home/wb536061/wb_nlp/data/corpus/WB/tmp_api_json/data-412.json\n",
      "/home/wb536061/wb_nlp/data/corpus/WB/tmp_api_json/data-419.json\n",
      "/home/wb536061/wb_nlp/data/corpus/WB/tmp_api_json/data-417.json\n",
      "/home/wb536061/wb_nlp/data/corpus/WB/tmp_api_json/data-418.json\n",
      "/home/wb536061/wb_nlp/data/corpus/WB/tmp_api_json/data-420.json\n",
      "/home/wb536061/wb_nlp/data/corpus/WB/tmp_api_json/data-421.json\n",
      "/home/wb536061/wb_nlp/data/corpus/WB/tmp_api_json/data-422.json\n",
      "/home/wb536061/wb_nlp/data/corpus/WB/tmp_api_json/data-423.json\n",
      "/home/wb536061/wb_nlp/data/corpus/WB/tmp_api_json/data-424.json\n",
      "/home/wb536061/wb_nlp/data/corpus/WB/tmp_api_json/data-425.json\n",
      "/home/wb536061/wb_nlp/data/corpus/WB/tmp_api_json/data-428.json\n",
      "/home/wb536061/wb_nlp/data/corpus/WB/tmp_api_json/data-427.json\n",
      "/home/wb536061/wb_nlp/data/corpus/WB/tmp_api_json/data-426.json\n",
      "/home/wb536061/wb_nlp/data/corpus/WB/tmp_api_json/data-429.json\n",
      "/home/wb536061/wb_nlp/data/corpus/WB/tmp_api_json/data-430.json\n",
      "/home/wb536061/wb_nlp/data/corpus/WB/tmp_api_json/data-432.json\n",
      "/home/wb536061/wb_nlp/data/corpus/WB/tmp_api_json/data-431.json\n",
      "/home/wb536061/wb_nlp/data/corpus/WB/tmp_api_json/data-434.json\n",
      "/home/wb536061/wb_nlp/data/corpus/WB/tmp_api_json/data-435.json\n",
      "/home/wb536061/wb_nlp/data/corpus/WB/tmp_api_json/data-433.json\n",
      "/home/wb536061/wb_nlp/data/corpus/WB/tmp_api_json/data-436.json\n",
      "/home/wb536061/wb_nlp/data/corpus/WB/tmp_api_json/data-437.json\n",
      "/home/wb536061/wb_nlp/data/corpus/WB/tmp_api_json/data-439.json\n",
      "/home/wb536061/wb_nlp/data/corpus/WB/tmp_api_json/data-438.json\n",
      "/home/wb536061/wb_nlp/data/corpus/WB/tmp_api_json/data-440.json\n",
      "/home/wb536061/wb_nlp/data/corpus/WB/tmp_api_json/data-441.json\n",
      "/home/wb536061/wb_nlp/data/corpus/WB/tmp_api_json/data-442.json\n",
      "/home/wb536061/wb_nlp/data/corpus/WB/tmp_api_json/data-443.json\n",
      "/home/wb536061/wb_nlp/data/corpus/WB/tmp_api_json/data-444.json\n",
      "/home/wb536061/wb_nlp/data/corpus/WB/tmp_api_json/data-446.json\n",
      "/home/wb536061/wb_nlp/data/corpus/WB/tmp_api_json/data-448.json\n",
      "/home/wb536061/wb_nlp/data/corpus/WB/tmp_api_json/data-445.json\n",
      "/home/wb536061/wb_nlp/data/corpus/WB/tmp_api_json/data-447.json\n",
      "/home/wb536061/wb_nlp/data/corpus/WB/tmp_api_json/data-451.json\n",
      "/home/wb536061/wb_nlp/data/corpus/WB/tmp_api_json/data-449.json\n",
      "/home/wb536061/wb_nlp/data/corpus/WB/tmp_api_json/data-452.json\n",
      "/home/wb536061/wb_nlp/data/corpus/WB/tmp_api_json/data-450.json\n",
      "/home/wb536061/wb_nlp/data/corpus/WB/tmp_api_json/data-454.json\n",
      "/home/wb536061/wb_nlp/data/corpus/WB/tmp_api_json/data-453.json\n",
      "/home/wb536061/wb_nlp/data/corpus/WB/tmp_api_json/data-455.json\n",
      "/home/wb536061/wb_nlp/data/corpus/WB/tmp_api_json/data-456.json\n",
      "/home/wb536061/wb_nlp/data/corpus/WB/tmp_api_json/data-457.json\n",
      "/home/wb536061/wb_nlp/data/corpus/WB/tmp_api_json/data-458.json\n",
      "/home/wb536061/wb_nlp/data/corpus/WB/tmp_api_json/data-460.json\n",
      "/home/wb536061/wb_nlp/data/corpus/WB/tmp_api_json/data-461.json\n",
      "/home/wb536061/wb_nlp/data/corpus/WB/tmp_api_json/data-459.json\n",
      "/home/wb536061/wb_nlp/data/corpus/WB/tmp_api_json/data-462.json\n",
      "/home/wb536061/wb_nlp/data/corpus/WB/tmp_api_json/data-463.json\n",
      "/home/wb536061/wb_nlp/data/corpus/WB/tmp_api_json/data-465.json\n",
      "/home/wb536061/wb_nlp/data/corpus/WB/tmp_api_json/data-466.json\n",
      "/home/wb536061/wb_nlp/data/corpus/WB/tmp_api_json/data-464.json\n",
      "/home/wb536061/wb_nlp/data/corpus/WB/tmp_api_json/data-467.json\n",
      "/home/wb536061/wb_nlp/data/corpus/WB/tmp_api_json/data-469.json\n",
      "/home/wb536061/wb_nlp/data/corpus/WB/tmp_api_json/data-468.json\n",
      "/home/wb536061/wb_nlp/data/corpus/WB/tmp_api_json/data-470.json\n",
      "/home/wb536061/wb_nlp/data/corpus/WB/tmp_api_json/data-471.json\n",
      "/home/wb536061/wb_nlp/data/corpus/WB/tmp_api_json/data-473.json\n",
      "/home/wb536061/wb_nlp/data/corpus/WB/tmp_api_json/data-472.json\n",
      "/home/wb536061/wb_nlp/data/corpus/WB/tmp_api_json/data-474.json\n",
      "/home/wb536061/wb_nlp/data/corpus/WB/tmp_api_json/data-475.json\n",
      "/home/wb536061/wb_nlp/data/corpus/WB/tmp_api_json/data-476.json\n",
      "/home/wb536061/wb_nlp/data/corpus/WB/tmp_api_json/data-478.json\n",
      "/home/wb536061/wb_nlp/data/corpus/WB/tmp_api_json/data-477.json\n",
      "/home/wb536061/wb_nlp/data/corpus/WB/tmp_api_json/data-479.json\n",
      "/home/wb536061/wb_nlp/data/corpus/WB/tmp_api_json/data-480.json\n",
      "/home/wb536061/wb_nlp/data/corpus/WB/tmp_api_json/data-482.json\n",
      "/home/wb536061/wb_nlp/data/corpus/WB/tmp_api_json/data-481.json\n",
      "/home/wb536061/wb_nlp/data/corpus/WB/tmp_api_json/data-484.json\n",
      "/home/wb536061/wb_nlp/data/corpus/WB/tmp_api_json/data-483.json\n",
      "/home/wb536061/wb_nlp/data/corpus/WB/tmp_api_json/data-486.json\n",
      "/home/wb536061/wb_nlp/data/corpus/WB/tmp_api_json/data-485.json\n",
      "/home/wb536061/wb_nlp/data/corpus/WB/tmp_api_json/data-487.json\n",
      "/home/wb536061/wb_nlp/data/corpus/WB/tmp_api_json/data-490.json\n",
      "/home/wb536061/wb_nlp/data/corpus/WB/tmp_api_json/data-489.json\n",
      "/home/wb536061/wb_nlp/data/corpus/WB/tmp_api_json/data-491.json\n",
      "/home/wb536061/wb_nlp/data/corpus/WB/tmp_api_json/data-488.json\n",
      "/home/wb536061/wb_nlp/data/corpus/WB/tmp_api_json/data-492.json\n",
      "/home/wb536061/wb_nlp/data/corpus/WB/tmp_api_json/data-495.json\n",
      "/home/wb536061/wb_nlp/data/corpus/WB/tmp_api_json/data-494.json\n",
      "/home/wb536061/wb_nlp/data/corpus/WB/tmp_api_json/data-493.json\n",
      "/home/wb536061/wb_nlp/data/corpus/WB/tmp_api_json/data-496.json\n",
      "/home/wb536061/wb_nlp/data/corpus/WB/tmp_api_json/data-497.json\n",
      "/home/wb536061/wb_nlp/data/corpus/WB/tmp_api_json/data-498.json\n",
      "/home/wb536061/wb_nlp/data/corpus/WB/tmp_api_json/data-499.json\n",
      "/home/wb536061/wb_nlp/data/corpus/WB/tmp_api_json/data-500.json\n",
      "/home/wb536061/wb_nlp/data/corpus/WB/tmp_api_json/data-501.json\n",
      "/home/wb536061/wb_nlp/data/corpus/WB/tmp_api_json/data-503.json\n",
      "/home/wb536061/wb_nlp/data/corpus/WB/tmp_api_json/data-502.json\n",
      "/home/wb536061/wb_nlp/data/corpus/WB/tmp_api_json/data-506.json\n",
      "/home/wb536061/wb_nlp/data/corpus/WB/tmp_api_json/data-504.json\n",
      "/home/wb536061/wb_nlp/data/corpus/WB/tmp_api_json/data-507.json\n",
      "/home/wb536061/wb_nlp/data/corpus/WB/tmp_api_json/data-505.json\n",
      "/home/wb536061/wb_nlp/data/corpus/WB/tmp_api_json/data-509.json\n",
      "/home/wb536061/wb_nlp/data/corpus/WB/tmp_api_json/data-510.json\n",
      "/home/wb536061/wb_nlp/data/corpus/WB/tmp_api_json/data-511.json\n",
      "/home/wb536061/wb_nlp/data/corpus/WB/tmp_api_json/data-508.json\n",
      "/home/wb536061/wb_nlp/data/corpus/WB/tmp_api_json/data-513.json\n",
      "/home/wb536061/wb_nlp/data/corpus/WB/tmp_api_json/data-512.json\n",
      "/home/wb536061/wb_nlp/data/corpus/WB/tmp_api_json/data-515.json\n",
      "/home/wb536061/wb_nlp/data/corpus/WB/tmp_api_json/data-514.json\n",
      "/home/wb536061/wb_nlp/data/corpus/WB/tmp_api_json/data-516.json\n",
      "/home/wb536061/wb_nlp/data/corpus/WB/tmp_api_json/data-519.json\n",
      "/home/wb536061/wb_nlp/data/corpus/WB/tmp_api_json/data-517.json\n",
      "/home/wb536061/wb_nlp/data/corpus/WB/tmp_api_json/data-518.json\n",
      "/home/wb536061/wb_nlp/data/corpus/WB/tmp_api_json/data-520.json\n",
      "/home/wb536061/wb_nlp/data/corpus/WB/tmp_api_json/data-522.json\n",
      "/home/wb536061/wb_nlp/data/corpus/WB/tmp_api_json/data-521.json\n",
      "/home/wb536061/wb_nlp/data/corpus/WB/tmp_api_json/data-523.json\n",
      "/home/wb536061/wb_nlp/data/corpus/WB/tmp_api_json/data-526.json\n",
      "/home/wb536061/wb_nlp/data/corpus/WB/tmp_api_json/data-524.json\n",
      "/home/wb536061/wb_nlp/data/corpus/WB/tmp_api_json/data-525.json\n",
      "/home/wb536061/wb_nlp/data/corpus/WB/tmp_api_json/data-527.json\n",
      "/home/wb536061/wb_nlp/data/corpus/WB/tmp_api_json/data-528.json\n",
      "/home/wb536061/wb_nlp/data/corpus/WB/tmp_api_json/data-530.json\n",
      "/home/wb536061/wb_nlp/data/corpus/WB/tmp_api_json/data-529.json\n",
      "/home/wb536061/wb_nlp/data/corpus/WB/tmp_api_json/data-531.json\n",
      "/home/wb536061/wb_nlp/data/corpus/WB/tmp_api_json/data-533.json\n",
      "/home/wb536061/wb_nlp/data/corpus/WB/tmp_api_json/data-534.json\n",
      "/home/wb536061/wb_nlp/data/corpus/WB/tmp_api_json/data-532.json\n",
      "/home/wb536061/wb_nlp/data/corpus/WB/tmp_api_json/data-535.json\n",
      "/home/wb536061/wb_nlp/data/corpus/WB/tmp_api_json/data-536.json\n",
      "/home/wb536061/wb_nlp/data/corpus/WB/tmp_api_json/data-538.json\n",
      "/home/wb536061/wb_nlp/data/corpus/WB/tmp_api_json/data-537.json\n",
      "/home/wb536061/wb_nlp/data/corpus/WB/tmp_api_json/data-540.json\n",
      "/home/wb536061/wb_nlp/data/corpus/WB/tmp_api_json/data-541.json\n",
      "/home/wb536061/wb_nlp/data/corpus/WB/tmp_api_json/data-539.json\n",
      "/home/wb536061/wb_nlp/data/corpus/WB/tmp_api_json/data-542.json\n",
      "/home/wb536061/wb_nlp/data/corpus/WB/tmp_api_json/data-544.json\n",
      "/home/wb536061/wb_nlp/data/corpus/WB/tmp_api_json/data-543.json\n",
      "/home/wb536061/wb_nlp/data/corpus/WB/tmp_api_json/data-545.json\n",
      "/home/wb536061/wb_nlp/data/corpus/WB/tmp_api_json/data-546.json\n",
      "/home/wb536061/wb_nlp/data/corpus/WB/tmp_api_json/data-547.json\n",
      "/home/wb536061/wb_nlp/data/corpus/WB/tmp_api_json/data-549.json\n",
      "/home/wb536061/wb_nlp/data/corpus/WB/tmp_api_json/data-550.json\n",
      "/home/wb536061/wb_nlp/data/corpus/WB/tmp_api_json/data-548.json\n",
      "/home/wb536061/wb_nlp/data/corpus/WB/tmp_api_json/data-551.json\n",
      "/home/wb536061/wb_nlp/data/corpus/WB/tmp_api_json/data-552.json\n",
      "/home/wb536061/wb_nlp/data/corpus/WB/tmp_api_json/data-554.json\n",
      "/home/wb536061/wb_nlp/data/corpus/WB/tmp_api_json/data-553.json\n",
      "/home/wb536061/wb_nlp/data/corpus/WB/tmp_api_json/data-555.json\n",
      "/home/wb536061/wb_nlp/data/corpus/WB/tmp_api_json/data-556.json\n",
      "/home/wb536061/wb_nlp/data/corpus/WB/tmp_api_json/data-557.json\n",
      "/home/wb536061/wb_nlp/data/corpus/WB/tmp_api_json/data-558.json\n",
      "/home/wb536061/wb_nlp/data/corpus/WB/tmp_api_json/data-560.json\n",
      "/home/wb536061/wb_nlp/data/corpus/WB/tmp_api_json/data-559.json\n",
      "/home/wb536061/wb_nlp/data/corpus/WB/tmp_api_json/data-562.json\n",
      "/home/wb536061/wb_nlp/data/corpus/WB/tmp_api_json/data-561.json\n",
      "/home/wb536061/wb_nlp/data/corpus/WB/tmp_api_json/data-564.json\n",
      "/home/wb536061/wb_nlp/data/corpus/WB/tmp_api_json/data-563.json\n",
      "/home/wb536061/wb_nlp/data/corpus/WB/tmp_api_json/data-567.json\n",
      "/home/wb536061/wb_nlp/data/corpus/WB/tmp_api_json/data-568.json\n",
      "/home/wb536061/wb_nlp/data/corpus/WB/tmp_api_json/data-566.json\n",
      "/home/wb536061/wb_nlp/data/corpus/WB/tmp_api_json/data-565.json\n",
      "/home/wb536061/wb_nlp/data/corpus/WB/tmp_api_json/data-569.json\n",
      "/home/wb536061/wb_nlp/data/corpus/WB/tmp_api_json/data-570.json\n",
      "/home/wb536061/wb_nlp/data/corpus/WB/tmp_api_json/data-572.json\n",
      "/home/wb536061/wb_nlp/data/corpus/WB/tmp_api_json/data-571.json\n",
      "/home/wb536061/wb_nlp/data/corpus/WB/tmp_api_json/data-574.json\n",
      "/home/wb536061/wb_nlp/data/corpus/WB/tmp_api_json/data-573.json\n",
      "/home/wb536061/wb_nlp/data/corpus/WB/tmp_api_json/data-575.json\n",
      "/home/wb536061/wb_nlp/data/corpus/WB/tmp_api_json/data-578.json\n",
      "/home/wb536061/wb_nlp/data/corpus/WB/tmp_api_json/data-577.json\n",
      "/home/wb536061/wb_nlp/data/corpus/WB/tmp_api_json/data-576.json\n",
      "/home/wb536061/wb_nlp/data/corpus/WB/tmp_api_json/data-579.json\n",
      "/home/wb536061/wb_nlp/data/corpus/WB/tmp_api_json/data-580.json\n",
      "/home/wb536061/wb_nlp/data/corpus/WB/tmp_api_json/data-583.json\n",
      "/home/wb536061/wb_nlp/data/corpus/WB/tmp_api_json/data-584.json\n",
      "/home/wb536061/wb_nlp/data/corpus/WB/tmp_api_json/data-581.json\n",
      "/home/wb536061/wb_nlp/data/corpus/WB/tmp_api_json/data-582.json\n",
      "/home/wb536061/wb_nlp/data/corpus/WB/tmp_api_json/data-585.json\n",
      "/home/wb536061/wb_nlp/data/corpus/WB/tmp_api_json/data-586.json\n",
      "/home/wb536061/wb_nlp/data/corpus/WB/tmp_api_json/data-588.json\n",
      "/home/wb536061/wb_nlp/data/corpus/WB/tmp_api_json/data-587.json\n",
      "/home/wb536061/wb_nlp/data/corpus/WB/tmp_api_json/data-589.json\n",
      "/home/wb536061/wb_nlp/data/corpus/WB/tmp_api_json/data-590.json\n",
      "/home/wb536061/wb_nlp/data/corpus/WB/tmp_api_json/data-591.json\n",
      "/home/wb536061/wb_nlp/data/corpus/WB/tmp_api_json/data-593.json\n",
      "/home/wb536061/wb_nlp/data/corpus/WB/tmp_api_json/data-592.json\n",
      "CPU times: user 36.7 s, sys: 712 ms, total: 37.4 s\n",
      "Wall time: 37.3 s\n",
      "time: 37.3 s\n"
     ]
    }
   ],
   "source": [
    "%%time\n",
    "# links = download_document_and_reports_file(data=normalized_final_df)\n",
    "links = download_document_and_reports_file(data=None)\n",
    "error_downloads = []"
   ]
  },
  {
   "cell_type": "code",
   "execution_count": 38,
   "metadata": {},
   "outputs": [
    {
     "name": "stdout",
     "output_type": "stream",
     "text": [
      "time: 224 µs\n"
     ]
    }
   ],
   "source": [
    "import numpy as np"
   ]
  },
  {
   "cell_type": "code",
   "execution_count": 41,
   "metadata": {
    "scrolled": true
   },
   "outputs": [
    {
     "name": "stdout",
     "output_type": "stream",
     "text": [
      "time: 729 µs\n"
     ]
    }
   ],
   "source": [
    "def download_and_store_file(ix, fname, link):\n",
    "    id = os.path.splitext(os.path.basename(fname))[0] # os.path.basename(fname).replace('.txt', '')\n",
    "    if ix and ix%10000 == 0:\n",
    "        print(ix, id, link)\n",
    "\n",
    "    ret_val = 0\n",
    "\n",
    "    if not isinstance(link, str):\n",
    "        ret_val = (id, link, 'NaN link')\n",
    "    else:    \n",
    "        try:\n",
    "            if not os.path.isfile(fname):\n",
    "                # Download only files that are not yet available locally.\n",
    "                response = download_with_retry(link)\n",
    "\n",
    "                if response:\n",
    "                    with open(fname, 'wb') as fl:\n",
    "                        fl.write(response.content)\n",
    "                else:\n",
    "                    ret_val = (id, link, 'Empty response.')\n",
    "        except Exception as e:\n",
    "            ret_val = (id, link, e)\n",
    "\n",
    "    return ret_val\n",
    "\n",
    "def transform_link_to_pdf(link):\n",
    "    if not isinstance(link, str):\n",
    "        return None\n",
    "\n",
    "    link = link.replace(\"/text/\", \"/pdf/\")\n",
    "    link = os.path.splitext(link)[0] + \".pdf\"\n",
    "\n",
    "    return link\n"
   ]
  },
  {
   "cell_type": "markdown",
   "metadata": {},
   "source": [
    "# Download TXT"
   ]
  },
  {
   "cell_type": "code",
   "execution_count": 42,
   "metadata": {},
   "outputs": [
    {
     "name": "stdout",
     "output_type": "stream",
     "text": [
      "296727\n",
      "time: 1min 16s\n"
     ]
    }
   ],
   "source": [
    "print(len(links))\n",
    "WB_TXT_DIR = dir_manager.get_data_dir(\"corpus\", \"WB\", \"TXT_ORIG\")\n",
    "\n",
    "if not os.path.isdir(WB_TXT_DIR):\n",
    "    os.makedirs(WB_TXT_DIR)\n",
    "\n",
    "ret_codes = Parallel(n_jobs=20)(\n",
    "    delayed(download_and_store_file)(ix, os.path.join(WB_TXT_DIR, f'{id}.txt'), link) for ix, (id, link) in enumerate(links.items())\n",
    ")"
   ]
  },
  {
   "cell_type": "markdown",
   "metadata": {},
   "source": [
    "# Download PDF"
   ]
  },
  {
   "cell_type": "code",
   "execution_count": 43,
   "metadata": {},
   "outputs": [
    {
     "name": "stdout",
     "output_type": "stream",
     "text": [
      "296727\n",
      "time: 3min 38s\n"
     ]
    }
   ],
   "source": [
    "pdf_links = {id: transform_link_to_pdf(link) for id, link in links.items()}\n",
    "print(len(pdf_links))\n",
    "\n",
    "WB_PDF_DIR = dir_manager.get_data_dir(\"corpus\", \"WB\", \"PDF_ORIG\")\n",
    "\n",
    "if not os.path.isdir(WB_PDF_DIR):\n",
    "    os.makedirs(WB_PDF_DIR)\n",
    "\n",
    "pdf_ret_codes = Parallel(n_jobs=5)(\n",
    "    delayed(download_and_store_file)(ix, os.path.join(WB_PDF_DIR, f'{id}.pdf'), link) for ix, (id, link) in enumerate(pdf_links.items()) if link)"
   ]
  },
  {
   "cell_type": "code",
   "execution_count": null,
   "metadata": {},
   "outputs": [],
   "source": []
  },
  {
   "cell_type": "code",
   "execution_count": 73,
   "metadata": {},
   "outputs": [
    {
     "data": {
      "text/plain": [
       "id\n",
       "wb_D32658475   NaN\n",
       "wb_D32659506   NaN\n",
       "wb_D32659154   NaN\n",
       "wb_D32659153   NaN\n",
       "wb_D32659160   NaN\n",
       "                ..\n",
       "wb_D29851457   NaN\n",
       "wb_D31825733   NaN\n",
       "wb_D16919195   NaN\n",
       "wb_D32092090   NaN\n",
       "wb_D14551809   NaN\n",
       "Name: author, Length: 296994, dtype: float64"
      ]
     },
     "execution_count": 73,
     "metadata": {},
     "output_type": "execute_result"
    }
   ],
   "source": [
    "normalized_final_df[\"author\"]"
   ]
  },
  {
   "cell_type": "code",
   "execution_count": 27,
   "metadata": {
    "collapsed": true,
    "jupyter": {
     "outputs_hidden": true
    }
   },
   "outputs": [],
   "source": [
    "# # Cleanup temporary json files from API\n",
    "# import shutil\n",
    "\n",
    "# shutil.rmtree(API_JSON_DIR)"
   ]
  },
  {
   "cell_type": "code",
   "execution_count": null,
   "metadata": {},
   "outputs": [],
   "source": [
    "# import pandas as pd\n",
    "# meta = pd.read_csv('/home/wb536061/wbes2474/NLP/CORPUS/WB/wb_metadata.csv')\n",
    "# meta.shape"
   ]
  },
  {
   "cell_type": "code",
   "execution_count": 3,
   "metadata": {},
   "outputs": [
    {
     "data": {
      "text/plain": [
       "(249805, 29)"
      ]
     },
     "execution_count": 3,
     "metadata": {},
     "output_type": "execute_result"
    }
   ],
   "source": [
    "# ssh -A wb536061@w1lxbdatad07 rsync -vuarP \"/home/wb536061/wbes2474/NLP/CORPUS/WB/wb_metadata-2021-02-17\\ 18:06:18.367302.csv\" wb536061@w0lxsnlp01:/decfile2/Modeling/NLP/CORPUS/WB/\n",
    "\n"
   ]
  },
  {
   "cell_type": "markdown",
   "metadata": {},
   "source": [
    "# Get words in corpus"
   ]
  },
  {
   "cell_type": "code",
   "execution_count": 295,
   "metadata": {},
   "outputs": [
    {
     "name": "stdout",
     "output_type": "stream",
     "text": [
      "time: 486 µs\n"
     ]
    }
   ],
   "source": [
    "from pathlib import Path\n",
    "from collections import Counter\n",
    "import re\n",
    "import pickle\n",
    "\n",
    "corpus_dir = Path(dir_manager.get_data_dir(\"corpus\"))"
   ]
  },
  {
   "cell_type": "code",
   "execution_count": 296,
   "metadata": {},
   "outputs": [
    {
     "name": "stdout",
     "output_type": "stream",
     "text": [
      "time: 1h 4min 50s\n"
     ]
    }
   ],
   "source": [
    "word_use = Counter()\n",
    "word_doc = Counter()\n",
    "\n",
    "newline_dash = re.compile(r\"(\\S+)-\\s+(\\S+)\")\n",
    "for ix, fpath in enumerate(corpus_dir.glob(\"*/EN_TXT_ORIG/*.txt\")):\n",
    "\n",
    "    with open(fpath, \"rb\") as open_file:\n",
    "        text = open_file.read().decode(\"utf-8\", errors=\"ignore\")\n",
    "        text = newline_dash.sub(r\"\\1\\2\", text).lower()\n",
    "        doc_use = Counter(re.findall(r\"[a-z]+\", text))\n",
    "        for word in doc_use:\n",
    "            word_doc[word] += 1\n",
    "\n",
    "    word_use.update(doc_use)\n",
    "\n",
    "with open(corpus_dir / \"en_corpus_word_use.dict.pickle\", \"wb\") as open_file:\n",
    "    pickle.dump(word_use, open_file)\n",
    "\n",
    "with open(corpus_dir / \"en_corpus_word_doc.dict.pickle\", \"wb\") as open_file:\n",
    "    pickle.dump(word_doc, open_file)"
   ]
  },
  {
   "cell_type": "code",
   "execution_count": 297,
   "metadata": {},
   "outputs": [
    {
     "name": "stdout",
     "output_type": "stream",
     "text": [
      "time: 1.26 ms\n"
     ]
    }
   ],
   "source": [
    "import enchant\n",
    "import re\n",
    "VALID_TOKEN_PAT = re.compile(\"^[a-z]+$\")\n",
    "en_dict = enchant.Dict(\"en_US\")\n",
    "\n",
    "def check(word):\n",
    "    is_en = en_dict.check(word)\n",
    "    if not is_en:\n",
    "        s = en_dict.suggest(word)\n",
    "        is_en = word.lower() in {i.lower() for i in s}\n",
    "    return is_en"
   ]
  },
  {
   "cell_type": "code",
   "execution_count": 298,
   "metadata": {},
   "outputs": [
    {
     "name": "stdout",
     "output_type": "stream",
     "text": [
      "time: 1min 8s\n"
     ]
    }
   ],
   "source": [
    "word_doc_df = pd.Series(word_doc).sort_values(ascending=False)\n",
    "word_doc_df.name = \"freq\"\n",
    "\n",
    "word_use_df = pd.Series(word_use).sort_values(ascending=False)\n",
    "word_use_df.name = \"freq\"\n",
    "\n",
    "word_usage_rate = word_use_df / word_doc_df"
   ]
  },
  {
   "cell_type": "code",
   "execution_count": 299,
   "metadata": {},
   "outputs": [
    {
     "name": "stdout",
     "output_type": "stream",
     "text": [
      "time: 1.01 s\n"
     ]
    }
   ],
   "source": [
    "wiki_count = pd.read_csv(\"../../data/whitelists/whitelists/wordfreq-enwiki-latest-pages-articles.xml.bz2.txt\", sep=\" \", names=[\"word\", \"freq\"])"
   ]
  },
  {
   "cell_type": "code",
   "execution_count": 300,
   "metadata": {},
   "outputs": [
    {
     "data": {
      "text/html": [
       "<div>\n",
       "<style scoped>\n",
       "    .dataframe tbody tr th:only-of-type {\n",
       "        vertical-align: middle;\n",
       "    }\n",
       "\n",
       "    .dataframe tbody tr th {\n",
       "        vertical-align: top;\n",
       "    }\n",
       "\n",
       "    .dataframe thead th {\n",
       "        text-align: right;\n",
       "    }\n",
       "</style>\n",
       "<table border=\"1\" class=\"dataframe\">\n",
       "  <thead>\n",
       "    <tr style=\"text-align: right;\">\n",
       "      <th></th>\n",
       "      <th>freq</th>\n",
       "      <th>en</th>\n",
       "    </tr>\n",
       "  </thead>\n",
       "  <tbody>\n",
       "    <tr>\n",
       "      <th>the</th>\n",
       "      <td>334398</td>\n",
       "      <td>True</td>\n",
       "    </tr>\n",
       "    <tr>\n",
       "      <th>to</th>\n",
       "      <td>332722</td>\n",
       "      <td>True</td>\n",
       "    </tr>\n",
       "    <tr>\n",
       "      <th>of</th>\n",
       "      <td>332443</td>\n",
       "      <td>True</td>\n",
       "    </tr>\n",
       "    <tr>\n",
       "      <th>and</th>\n",
       "      <td>332289</td>\n",
       "      <td>True</td>\n",
       "    </tr>\n",
       "    <tr>\n",
       "      <th>for</th>\n",
       "      <td>329768</td>\n",
       "      <td>True</td>\n",
       "    </tr>\n",
       "  </tbody>\n",
       "</table>\n",
       "</div>"
      ],
      "text/plain": [
       "       freq    en\n",
       "the  334398  True\n",
       "to   332722  True\n",
       "of   332443  True\n",
       "and  332289  True\n",
       "for  329768  True"
      ]
     },
     "execution_count": 300,
     "metadata": {},
     "output_type": "execute_result"
    },
    {
     "name": "stdout",
     "output_type": "stream",
     "text": [
      "time: 13min 37s\n"
     ]
    }
   ],
   "source": [
    "word_doc_frame = word_doc_df.to_frame().head(100000)\n",
    "word_doc_frame[\"en\"] = word_doc_frame.index.map(check)\n",
    "word_doc_frame.head()"
   ]
  },
  {
   "cell_type": "code",
   "execution_count": 301,
   "metadata": {},
   "outputs": [
    {
     "name": "stdout",
     "output_type": "stream",
     "text": [
      "time: 595 ms\n"
     ]
    }
   ],
   "source": [
    "w = word_doc_frame[word_doc_frame[\"en\"] == False].index.intersection(wiki_count.head(500000)[\"word\"])"
   ]
  },
  {
   "cell_type": "code",
   "execution_count": 302,
   "metadata": {},
   "outputs": [
    {
     "name": "stdout",
     "output_type": "stream",
     "text": [
      "time: 21.6 ms\n"
     ]
    }
   ],
   "source": [
    "with open(dir_manager.get_data_dir(\"whitelists\", \"whitelists\", \"doc-freq-wiki-wordlist.txt\"), \"w\") as open_file:\n",
    "    for i in w:\n",
    "        if VALID_TOKEN_PAT.match(i):\n",
    "            open_file.write(i.strip() + \"\\n\")"
   ]
  },
  {
   "cell_type": "code",
   "execution_count": 304,
   "metadata": {},
   "outputs": [
    {
     "data": {
      "text/plain": [
       "Index(['pre', 'ibrd', 'multi', 'capita', 'usd', 'sectoral', 'socio', 'adb',\n",
       "       'ngos', 'tf',\n",
       "       ...\n",
       "       'manabu', 'raghabpur', 'xiaoxi', 'pcrm', 'hamra', 'krishan', 'advanta',\n",
       "       'barone', 'skikda', 'mtw'],\n",
       "      dtype='object', length=29876)"
      ]
     },
     "execution_count": 304,
     "metadata": {},
     "output_type": "execute_result"
    },
    {
     "name": "stdout",
     "output_type": "stream",
     "text": [
      "time: 6.9 ms\n"
     ]
    }
   ],
   "source": [
    "w"
   ]
  },
  {
   "cell_type": "code",
   "execution_count": 291,
   "metadata": {},
   "outputs": [
    {
     "data": {
      "text/plain": [
       "maintainedby    159\n",
       "copesul         159\n",
       "benefitsof      159\n",
       "valua           159\n",
       "fallacies       159\n",
       "graficos        159\n",
       "hated           159\n",
       "maintai         159\n",
       "tanahu          159\n",
       "lettering       159\n",
       "Name: freq, dtype: int64"
      ]
     },
     "execution_count": 291,
     "metadata": {},
     "output_type": "execute_result"
    },
    {
     "name": "stdout",
     "output_type": "stream",
     "text": [
      "time: 2.2 ms\n"
     ]
    }
   ],
   "source": [
    "word_doc_df.head(70000).tail(10)"
   ]
  },
  {
   "cell_type": "code",
   "execution_count": 280,
   "metadata": {},
   "outputs": [
    {
     "data": {
      "text/plain": [
       "(62035, 2)"
      ]
     },
     "execution_count": 280,
     "metadata": {},
     "output_type": "execute_result"
    },
    {
     "name": "stdout",
     "output_type": "stream",
     "text": [
      "time: 12.6 ms\n"
     ]
    }
   ],
   "source": [
    "word_doc_frame[word_doc_frame[\"en\"] == False].shape"
   ]
  },
  {
   "cell_type": "code",
   "execution_count": 208,
   "metadata": {},
   "outputs": [
    {
     "data": {
      "text/html": [
       "<div>\n",
       "<style scoped>\n",
       "    .dataframe tbody tr th:only-of-type {\n",
       "        vertical-align: middle;\n",
       "    }\n",
       "\n",
       "    .dataframe tbody tr th {\n",
       "        vertical-align: top;\n",
       "    }\n",
       "\n",
       "    .dataframe thead th {\n",
       "        text-align: right;\n",
       "    }\n",
       "</style>\n",
       "<table border=\"1\" class=\"dataframe\">\n",
       "  <thead>\n",
       "    <tr style=\"text-align: right;\">\n",
       "      <th></th>\n",
       "      <th>word</th>\n",
       "      <th>freq</th>\n",
       "    </tr>\n",
       "  </thead>\n",
       "  <tbody>\n",
       "    <tr>\n",
       "      <th>0</th>\n",
       "      <td>the</td>\n",
       "      <td>168874258</td>\n",
       "    </tr>\n",
       "    <tr>\n",
       "      <th>1</th>\n",
       "      <td>of</td>\n",
       "      <td>79603285</td>\n",
       "    </tr>\n",
       "    <tr>\n",
       "      <th>2</th>\n",
       "      <td>in</td>\n",
       "      <td>69200815</td>\n",
       "    </tr>\n",
       "    <tr>\n",
       "      <th>3</th>\n",
       "      <td>and</td>\n",
       "      <td>69025766</td>\n",
       "    </tr>\n",
       "    <tr>\n",
       "      <th>4</th>\n",
       "      <td>to</td>\n",
       "      <td>48269837</td>\n",
       "    </tr>\n",
       "  </tbody>\n",
       "</table>\n",
       "</div>"
      ],
      "text/plain": [
       "  word       freq\n",
       "0  the  168874258\n",
       "1   of   79603285\n",
       "2   in   69200815\n",
       "3  and   69025766\n",
       "4   to   48269837"
      ]
     },
     "execution_count": 208,
     "metadata": {},
     "output_type": "execute_result"
    },
    {
     "name": "stdout",
     "output_type": "stream",
     "text": [
      "time: 4.1 ms\n"
     ]
    }
   ],
   "source": [
    "wiki_count.head()"
   ]
  },
  {
   "cell_type": "code",
   "execution_count": 242,
   "metadata": {},
   "outputs": [
    {
     "name": "stdout",
     "output_type": "stream",
     "text": [
      "time: 303 ms\n"
     ]
    }
   ],
   "source": [
    "w = word_use_df.head(25000).index.intersection(wiki_count.head(500000)[\"word\"])"
   ]
  },
  {
   "cell_type": "code",
   "execution_count": 243,
   "metadata": {},
   "outputs": [
    {
     "data": {
      "text/plain": [
       "Index(['the', 'of', 'and', 'to', 'in', 'for', 'is', 'be', 'on', 'project',\n",
       "       ...\n",
       "       'uti', 'fram', 'stifling', 'lyceum', 'domes', 'agartala', 'misiones',\n",
       "       'ello', 'gta', 'generales'],\n",
       "      dtype='object', length=22769)"
      ]
     },
     "execution_count": 243,
     "metadata": {},
     "output_type": "execute_result"
    },
    {
     "name": "stdout",
     "output_type": "stream",
     "text": [
      "time: 2.31 ms\n"
     ]
    }
   ],
   "source": [
    "w"
   ]
  },
  {
   "cell_type": "code",
   "execution_count": 209,
   "metadata": {},
   "outputs": [
    {
     "name": "stdout",
     "output_type": "stream",
     "text": [
      "time: 24 s\n"
     ]
    }
   ],
   "source": [
    "oov_words = word_doc_df.index.difference(wiki_count.word)"
   ]
  },
  {
   "cell_type": "code",
   "execution_count": 210,
   "metadata": {},
   "outputs": [
    {
     "data": {
      "text/plain": [
       "7268438"
      ]
     },
     "execution_count": 210,
     "metadata": {},
     "output_type": "execute_result"
    },
    {
     "name": "stdout",
     "output_type": "stream",
     "text": [
      "time: 1.79 ms\n"
     ]
    }
   ],
   "source": [
    "len(oov_words)"
   ]
  },
  {
   "cell_type": "code",
   "execution_count": 227,
   "metadata": {},
   "outputs": [
    {
     "data": {
      "text/plain": [
       "dpmu                32436\n",
       "alisation           31490\n",
       "minist              31304\n",
       "gorfq               30297\n",
       "laboration          30037\n",
       "subloans            29348\n",
       "curit               29176\n",
       "achev               29037\n",
       "ohsr                28965\n",
       "esmps               27656\n",
       "csindv              26771\n",
       "mediumand           25484\n",
       "nagement            25377\n",
       "lowand              25199\n",
       "adquisici           24785\n",
       "qcvn                23983\n",
       "selecci             23852\n",
       "btnmt               22861\n",
       "poblaci             22781\n",
       "ciency              22364\n",
       "doingbusiness       22326\n",
       "remdp               21685\n",
       "phrd                21484\n",
       "buildco             21350\n",
       "unwithdrawn         21292\n",
       "paration            21167\n",
       "capacit             21014\n",
       "praps               20927\n",
       "informaci           20588\n",
       "evaluaci            20481\n",
       "costunder           20470\n",
       "clientconnection    20312\n",
       "subloan             20245\n",
       "qualityand          20231\n",
       "quipements          20012\n",
       "financi             19825\n",
       "fournitures         19755\n",
       "ppiaf               19642\n",
       "finalizado          19332\n",
       "riode               19181\n",
       "erent               18415\n",
       "ficiaires           18029\n",
       "pndp                18008\n",
       "enqu                17992\n",
       "cnico               17865\n",
       "mprrda              17812\n",
       "penses              17709\n",
       "faisabilit          16417\n",
       "empoderar           16159\n",
       "implementaci        16111\n",
       "Name: freq, dtype: int64"
      ]
     },
     "execution_count": 227,
     "metadata": {},
     "output_type": "execute_result"
    },
    {
     "name": "stdout",
     "output_type": "stream",
     "text": [
      "time: 5.09 s\n"
     ]
    }
   ],
   "source": [
    "word_use_df.loc[oov_words].sort_values(ascending=False).head(100).tail(50)"
   ]
  },
  {
   "cell_type": "code",
   "execution_count": 226,
   "metadata": {},
   "outputs": [
    {
     "data": {
      "text/plain": [
       "['cancel ado', 'cancel-ado', 'cancellation']"
      ]
     },
     "execution_count": 226,
     "metadata": {},
     "output_type": "execute_result"
    },
    {
     "name": "stdout",
     "output_type": "stream",
     "text": [
      "time: 32.7 ms\n"
     ]
    }
   ],
   "source": [
    "en_dict.suggest(\"cancelado\")"
   ]
  },
  {
   "cell_type": "code",
   "execution_count": null,
   "metadata": {},
   "outputs": [],
   "source": []
  },
  {
   "cell_type": "code",
   "execution_count": 185,
   "metadata": {},
   "outputs": [
    {
     "data": {
      "text/plain": [
       "(1345, 663)"
      ]
     },
     "execution_count": 185,
     "metadata": {},
     "output_type": "execute_result"
    },
    {
     "name": "stdout",
     "output_type": "stream",
     "text": [
      "time: 1.77 ms\n"
     ]
    }
   ],
   "source": [
    "word_use_df[\"python\"], word_doc_df[\"python\"]"
   ]
  },
  {
   "cell_type": "code",
   "execution_count": 162,
   "metadata": {},
   "outputs": [
    {
     "data": {
      "text/plain": [
       "hmbb                          506.000000\n",
       "daclatasvir                   528.578947\n",
       "consultoraambientaljambato    559.000000\n",
       "ucgpne                        582.000000\n",
       "the                           619.747449\n",
       "mbhg                          701.000000\n",
       "mustroll                      729.833333\n",
       "jicapr                        754.000000\n",
       "chakondi                      779.000000\n",
       "ibeem                         875.000000\n",
       "olutionsu                     921.000000\n",
       "Name: freq, dtype: float64"
      ]
     },
     "execution_count": 162,
     "metadata": {},
     "output_type": "execute_result"
    },
    {
     "name": "stdout",
     "output_type": "stream",
     "text": [
      "time: 9.21 ms\n"
     ]
    }
   ],
   "source": [
    "word_usage_rate[word_usage_rate > 500].sort_values().head(50)"
   ]
  },
  {
   "cell_type": "code",
   "execution_count": 167,
   "metadata": {},
   "outputs": [
    {
     "name": "stdout",
     "output_type": "stream",
     "text": [
      "time: 182 ms\n"
     ]
    }
   ],
   "source": [
    "l = np.log(word_usage_rate)"
   ]
  },
  {
   "cell_type": "code",
   "execution_count": 179,
   "metadata": {},
   "outputs": [
    {
     "data": {
      "text/plain": [
       "0.9829821063728273"
      ]
     },
     "execution_count": 179,
     "metadata": {},
     "output_type": "execute_result"
    },
    {
     "name": "stdout",
     "output_type": "stream",
     "text": [
      "time: 1.51 ms\n"
     ]
    }
   ],
   "source": [
    "l[\"pandas\"]"
   ]
  },
  {
   "cell_type": "code",
   "execution_count": 193,
   "metadata": {},
   "outputs": [
    {
     "data": {
      "text/plain": [
       "a                                 4.940984\n",
       "aa                                0.923036\n",
       "aaa                               1.654194\n",
       "aaaa                              1.106852\n",
       "aaaaa                             0.490206\n",
       "                                    ...   \n",
       "zzzzzzzzzzzzzzzz                  0.000000\n",
       "zzzzzzzzzzzzzzzzzzzzzz            0.000000\n",
       "zzzzzzzzzzzzzzzzzzzzzzzz          0.000000\n",
       "zzzzzzzzzzzzzzzzzzzzzzzzzz        0.000000\n",
       "zzzzzzzzzzzzzzzzzzzzzzzzzzzzzz    0.000000\n",
       "Name: freq, Length: 7895772, dtype: float64"
      ]
     },
     "execution_count": 193,
     "metadata": {},
     "output_type": "execute_result"
    },
    {
     "name": "stdout",
     "output_type": "stream",
     "text": [
      "time: 2.96 ms\n"
     ]
    }
   ],
   "source": [
    "l"
   ]
  },
  {
   "cell_type": "code",
   "execution_count": 120,
   "metadata": {},
   "outputs": [
    {
     "data": {
      "text/html": [
       "<div>\n",
       "<style scoped>\n",
       "    .dataframe tbody tr th:only-of-type {\n",
       "        vertical-align: middle;\n",
       "    }\n",
       "\n",
       "    .dataframe tbody tr th {\n",
       "        vertical-align: top;\n",
       "    }\n",
       "\n",
       "    .dataframe thead th {\n",
       "        text-align: right;\n",
       "    }\n",
       "</style>\n",
       "<table border=\"1\" class=\"dataframe\">\n",
       "  <thead>\n",
       "    <tr style=\"text-align: right;\">\n",
       "      <th></th>\n",
       "      <th>freq</th>\n",
       "      <th>en</th>\n",
       "    </tr>\n",
       "  </thead>\n",
       "  <tbody>\n",
       "    <tr>\n",
       "      <th>the</th>\n",
       "      <td>340842</td>\n",
       "      <td>True</td>\n",
       "    </tr>\n",
       "    <tr>\n",
       "      <th>of</th>\n",
       "      <td>339530</td>\n",
       "      <td>True</td>\n",
       "    </tr>\n",
       "    <tr>\n",
       "      <th>and</th>\n",
       "      <td>339113</td>\n",
       "      <td>True</td>\n",
       "    </tr>\n",
       "    <tr>\n",
       "      <th>to</th>\n",
       "      <td>338220</td>\n",
       "      <td>True</td>\n",
       "    </tr>\n",
       "    <tr>\n",
       "      <th>for</th>\n",
       "      <td>336543</td>\n",
       "      <td>True</td>\n",
       "    </tr>\n",
       "  </tbody>\n",
       "</table>\n",
       "</div>"
      ],
      "text/plain": [
       "       freq    en\n",
       "the  340842  True\n",
       "of   339530  True\n",
       "and  339113  True\n",
       "to   338220  True\n",
       "for  336543  True"
      ]
     },
     "execution_count": 120,
     "metadata": {},
     "output_type": "execute_result"
    },
    {
     "name": "stdout",
     "output_type": "stream",
     "text": [
      "time: 766 ms\n"
     ]
    }
   ],
   "source": [
    "top_100k = word_doc_df[word_doc_df >= 100].to_frame()\n",
    "top_100k[\"en\"] = top_100k.index.map(en_dict.check)\n",
    "top_100k.head()"
   ]
  },
  {
   "cell_type": "code",
   "execution_count": 138,
   "metadata": {},
   "outputs": [
    {
     "data": {
      "text/html": [
       "<div>\n",
       "<style scoped>\n",
       "    .dataframe tbody tr th:only-of-type {\n",
       "        vertical-align: middle;\n",
       "    }\n",
       "\n",
       "    .dataframe tbody tr th {\n",
       "        vertical-align: top;\n",
       "    }\n",
       "\n",
       "    .dataframe thead th {\n",
       "        text-align: right;\n",
       "    }\n",
       "</style>\n",
       "<table border=\"1\" class=\"dataframe\">\n",
       "  <thead>\n",
       "    <tr style=\"text-align: right;\">\n",
       "      <th></th>\n",
       "      <th>freq</th>\n",
       "      <th>en</th>\n",
       "    </tr>\n",
       "  </thead>\n",
       "  <tbody>\n",
       "    <tr>\n",
       "      <th>bs</th>\n",
       "      <td>5200</td>\n",
       "      <td>False</td>\n",
       "    </tr>\n",
       "    <tr>\n",
       "      <th>cient</th>\n",
       "      <td>5195</td>\n",
       "      <td>False</td>\n",
       "    </tr>\n",
       "    <tr>\n",
       "      <th>dt</th>\n",
       "      <td>5189</td>\n",
       "      <td>False</td>\n",
       "    </tr>\n",
       "    <tr>\n",
       "      <th>stateowned</th>\n",
       "      <td>5188</td>\n",
       "      <td>False</td>\n",
       "    </tr>\n",
       "    <tr>\n",
       "      <th>ay</th>\n",
       "      <td>5183</td>\n",
       "      <td>False</td>\n",
       "    </tr>\n",
       "    <tr>\n",
       "      <th>ger</th>\n",
       "      <td>5181</td>\n",
       "      <td>False</td>\n",
       "    </tr>\n",
       "    <tr>\n",
       "      <th>aaa</th>\n",
       "      <td>5169</td>\n",
       "      <td>False</td>\n",
       "    </tr>\n",
       "    <tr>\n",
       "      <th>gbv</th>\n",
       "      <td>5167</td>\n",
       "      <td>False</td>\n",
       "    </tr>\n",
       "    <tr>\n",
       "      <th>eq</th>\n",
       "      <td>5162</td>\n",
       "      <td>False</td>\n",
       "    </tr>\n",
       "    <tr>\n",
       "      <th>nes</th>\n",
       "      <td>5161</td>\n",
       "      <td>False</td>\n",
       "    </tr>\n",
       "    <tr>\n",
       "      <th>ness</th>\n",
       "      <td>5160</td>\n",
       "      <td>False</td>\n",
       "    </tr>\n",
       "    <tr>\n",
       "      <th>dl</th>\n",
       "      <td>5156</td>\n",
       "      <td>False</td>\n",
       "    </tr>\n",
       "    <tr>\n",
       "      <th>suboptimal</th>\n",
       "      <td>5155</td>\n",
       "      <td>False</td>\n",
       "    </tr>\n",
       "    <tr>\n",
       "      <th>rajasthan</th>\n",
       "      <td>5152</td>\n",
       "      <td>False</td>\n",
       "    </tr>\n",
       "    <tr>\n",
       "      <th>unfccc</th>\n",
       "      <td>5151</td>\n",
       "      <td>False</td>\n",
       "    </tr>\n",
       "    <tr>\n",
       "      <th>stockholm</th>\n",
       "      <td>5150</td>\n",
       "      <td>False</td>\n",
       "    </tr>\n",
       "    <tr>\n",
       "      <th>bb</th>\n",
       "      <td>5149</td>\n",
       "      <td>False</td>\n",
       "    </tr>\n",
       "    <tr>\n",
       "      <th>tas</th>\n",
       "      <td>5146</td>\n",
       "      <td>False</td>\n",
       "    </tr>\n",
       "    <tr>\n",
       "      <th>ug</th>\n",
       "      <td>5142</td>\n",
       "      <td>False</td>\n",
       "    </tr>\n",
       "    <tr>\n",
       "      <th>ong</th>\n",
       "      <td>5139</td>\n",
       "      <td>False</td>\n",
       "    </tr>\n",
       "    <tr>\n",
       "      <th>complementarities</th>\n",
       "      <td>5136</td>\n",
       "      <td>False</td>\n",
       "    </tr>\n",
       "    <tr>\n",
       "      <th>ahs</th>\n",
       "      <td>5135</td>\n",
       "      <td>False</td>\n",
       "    </tr>\n",
       "    <tr>\n",
       "      <th>gtz</th>\n",
       "      <td>5110</td>\n",
       "      <td>False</td>\n",
       "    </tr>\n",
       "    <tr>\n",
       "      <th>upgradation</th>\n",
       "      <td>5104</td>\n",
       "      <td>False</td>\n",
       "    </tr>\n",
       "    <tr>\n",
       "      <th>opment</th>\n",
       "      <td>5102</td>\n",
       "      <td>False</td>\n",
       "    </tr>\n",
       "    <tr>\n",
       "      <th>herzegovina</th>\n",
       "      <td>5100</td>\n",
       "      <td>False</td>\n",
       "    </tr>\n",
       "    <tr>\n",
       "      <th>nancial</th>\n",
       "      <td>5098</td>\n",
       "      <td>False</td>\n",
       "    </tr>\n",
       "    <tr>\n",
       "      <th>isa</th>\n",
       "      <td>5094</td>\n",
       "      <td>False</td>\n",
       "    </tr>\n",
       "    <tr>\n",
       "      <th>cida</th>\n",
       "      <td>5093</td>\n",
       "      <td>False</td>\n",
       "    </tr>\n",
       "    <tr>\n",
       "      <th>lin</th>\n",
       "      <td>5084</td>\n",
       "      <td>False</td>\n",
       "    </tr>\n",
       "    <tr>\n",
       "      <th>maharashtra</th>\n",
       "      <td>5082</td>\n",
       "      <td>False</td>\n",
       "    </tr>\n",
       "    <tr>\n",
       "      <th>vue</th>\n",
       "      <td>5067</td>\n",
       "      <td>False</td>\n",
       "    </tr>\n",
       "    <tr>\n",
       "      <th>sahel</th>\n",
       "      <td>5056</td>\n",
       "      <td>False</td>\n",
       "    </tr>\n",
       "    <tr>\n",
       "      <th>tds</th>\n",
       "      <td>5055</td>\n",
       "      <td>False</td>\n",
       "    </tr>\n",
       "    <tr>\n",
       "      <th>coliform</th>\n",
       "      <td>5051</td>\n",
       "      <td>False</td>\n",
       "    </tr>\n",
       "    <tr>\n",
       "      <th>oe</th>\n",
       "      <td>5049</td>\n",
       "      <td>False</td>\n",
       "    </tr>\n",
       "    <tr>\n",
       "      <th>nm</th>\n",
       "      <td>5047</td>\n",
       "      <td>False</td>\n",
       "    </tr>\n",
       "    <tr>\n",
       "      <th>ols</th>\n",
       "      <td>5044</td>\n",
       "      <td>False</td>\n",
       "    </tr>\n",
       "    <tr>\n",
       "      <th>licence</th>\n",
       "      <td>5042</td>\n",
       "      <td>False</td>\n",
       "    </tr>\n",
       "    <tr>\n",
       "      <th>paulo</th>\n",
       "      <td>5039</td>\n",
       "      <td>False</td>\n",
       "    </tr>\n",
       "    <tr>\n",
       "      <th>hotline</th>\n",
       "      <td>5033</td>\n",
       "      <td>False</td>\n",
       "    </tr>\n",
       "    <tr>\n",
       "      <th>bv</th>\n",
       "      <td>5031</td>\n",
       "      <td>False</td>\n",
       "    </tr>\n",
       "    <tr>\n",
       "      <th>pcf</th>\n",
       "      <td>5030</td>\n",
       "      <td>False</td>\n",
       "    </tr>\n",
       "    <tr>\n",
       "      <th>dakar</th>\n",
       "      <td>5029</td>\n",
       "      <td>False</td>\n",
       "    </tr>\n",
       "    <tr>\n",
       "      <th>nonfinancial</th>\n",
       "      <td>5026</td>\n",
       "      <td>False</td>\n",
       "    </tr>\n",
       "    <tr>\n",
       "      <th>counselling</th>\n",
       "      <td>5025</td>\n",
       "      <td>False</td>\n",
       "    </tr>\n",
       "    <tr>\n",
       "      <th>intersectoral</th>\n",
       "      <td>5022</td>\n",
       "      <td>False</td>\n",
       "    </tr>\n",
       "    <tr>\n",
       "      <th>deux</th>\n",
       "      <td>5021</td>\n",
       "      <td>False</td>\n",
       "    </tr>\n",
       "    <tr>\n",
       "      <th>timor</th>\n",
       "      <td>5013</td>\n",
       "      <td>False</td>\n",
       "    </tr>\n",
       "    <tr>\n",
       "      <th>ents</th>\n",
       "      <td>5008</td>\n",
       "      <td>False</td>\n",
       "    </tr>\n",
       "  </tbody>\n",
       "</table>\n",
       "</div>"
      ],
      "text/plain": [
       "                   freq     en\n",
       "bs                 5200  False\n",
       "cient              5195  False\n",
       "dt                 5189  False\n",
       "stateowned         5188  False\n",
       "ay                 5183  False\n",
       "ger                5181  False\n",
       "aaa                5169  False\n",
       "gbv                5167  False\n",
       "eq                 5162  False\n",
       "nes                5161  False\n",
       "ness               5160  False\n",
       "dl                 5156  False\n",
       "suboptimal         5155  False\n",
       "rajasthan          5152  False\n",
       "unfccc             5151  False\n",
       "stockholm          5150  False\n",
       "bb                 5149  False\n",
       "tas                5146  False\n",
       "ug                 5142  False\n",
       "ong                5139  False\n",
       "complementarities  5136  False\n",
       "ahs                5135  False\n",
       "gtz                5110  False\n",
       "upgradation        5104  False\n",
       "opment             5102  False\n",
       "herzegovina        5100  False\n",
       "nancial            5098  False\n",
       "isa                5094  False\n",
       "cida               5093  False\n",
       "lin                5084  False\n",
       "maharashtra        5082  False\n",
       "vue                5067  False\n",
       "sahel              5056  False\n",
       "tds                5055  False\n",
       "coliform           5051  False\n",
       "oe                 5049  False\n",
       "nm                 5047  False\n",
       "ols                5044  False\n",
       "licence            5042  False\n",
       "paulo              5039  False\n",
       "hotline            5033  False\n",
       "bv                 5031  False\n",
       "pcf                5030  False\n",
       "dakar              5029  False\n",
       "nonfinancial       5026  False\n",
       "counselling        5025  False\n",
       "intersectoral      5022  False\n",
       "deux               5021  False\n",
       "timor              5013  False\n",
       "ents               5008  False"
      ]
     },
     "execution_count": 138,
     "metadata": {},
     "output_type": "execute_result"
    },
    {
     "name": "stdout",
     "output_type": "stream",
     "text": [
      "time: 17.5 ms\n"
     ]
    }
   ],
   "source": [
    "top_100k[top_100k[\"en\"] != True].head(1000).tail(50)"
   ]
  },
  {
   "cell_type": "code",
   "execution_count": 136,
   "metadata": {},
   "outputs": [
    {
     "data": {
      "text/plain": [
       "(95684, 2)"
      ]
     },
     "execution_count": 136,
     "metadata": {},
     "output_type": "execute_result"
    },
    {
     "name": "stdout",
     "output_type": "stream",
     "text": [
      "time: 18.7 ms\n"
     ]
    }
   ],
   "source": [
    "top_100k[top_100k[\"freq\"] >= 30].shape #.loc[\"covid\"]"
   ]
  },
  {
   "cell_type": "code",
   "execution_count": 141,
   "metadata": {},
   "outputs": [
    {
     "data": {
      "text/plain": [
       "(226443,)"
      ]
     },
     "execution_count": 141,
     "metadata": {},
     "output_type": "execute_result"
    },
    {
     "name": "stdout",
     "output_type": "stream",
     "text": [
      "time: 18.9 ms\n"
     ]
    }
   ],
   "source": [
    "word_doc_df[word_doc_df >= 30].shape"
   ]
  },
  {
   "cell_type": "code",
   "execution_count": 144,
   "metadata": {},
   "outputs": [
    {
     "data": {
      "text/plain": [
       "(1516004,)"
      ]
     },
     "execution_count": 144,
     "metadata": {},
     "output_type": "execute_result"
    },
    {
     "name": "stdout",
     "output_type": "stream",
     "text": [
      "time: 78.3 ms\n"
     ]
    }
   ],
   "source": [
    "word_doc_df[word_doc_df > 2].shape"
   ]
  },
  {
   "cell_type": "code",
   "execution_count": 148,
   "metadata": {},
   "outputs": [
    {
     "data": {
      "text/plain": [
       "['lams', 'isms', 'ls ms', 'ls-ms', 'smalls']"
      ]
     },
     "execution_count": 148,
     "metadata": {},
     "output_type": "execute_result"
    },
    {
     "name": "stdout",
     "output_type": "stream",
     "text": [
      "time: 18.7 ms\n"
     ]
    }
   ],
   "source": [
    "en_dict.suggest(\"lsms\")"
   ]
  },
  {
   "cell_type": "code",
   "execution_count": 150,
   "metadata": {},
   "outputs": [
    {
     "data": {
      "text/plain": [
       "14205"
      ]
     },
     "execution_count": 150,
     "metadata": {},
     "output_type": "execute_result"
    },
    {
     "name": "stdout",
     "output_type": "stream",
     "text": [
      "time: 1.29 ms\n"
     ]
    }
   ],
   "source": [
    "word_use[\"lsms\"]"
   ]
  },
  {
   "cell_type": "code",
   "execution_count": 79,
   "metadata": {},
   "outputs": [
    {
     "data": {
      "text/plain": [
       "13827671"
      ]
     },
     "execution_count": 79,
     "metadata": {},
     "output_type": "execute_result"
    },
    {
     "name": "stdout",
     "output_type": "stream",
     "text": [
      "time: 1.2 ms\n"
     ]
    }
   ],
   "source": [
    "len(word_use)"
   ]
  },
  {
   "cell_type": "code",
   "execution_count": 78,
   "metadata": {},
   "outputs": [
    {
     "data": {
      "text/plain": [
       "[('the', 214318097),\n",
       " ('of', 141354242),\n",
       " ('and', 134904503),\n",
       " ('to', 83512337),\n",
       " ('in', 77278965),\n",
       " ('a', 54967841),\n",
       " ('for', 47338471),\n",
       " ('is', 28564126),\n",
       " ('be', 25006460),\n",
       " ('on', 23802749),\n",
       " ('project', 22230687),\n",
       " ('by', 21528059),\n",
       " ('as', 21064770),\n",
       " ('with', 20864970),\n",
       " ('s', 20611112),\n",
       " ('are', 18874613),\n",
       " ('that', 18400201),\n",
       " ('will', 14462952),\n",
       " ('or', 14321585),\n",
       " ('from', 14145334),\n",
       " ('i', 13081068),\n",
       " ('this', 12773708),\n",
       " ('n', 12518222),\n",
       " ('at', 12347332),\n",
       " ('e', 11851721),\n",
       " ('development', 10865081),\n",
       " ('bank', 10281509),\n",
       " ('o', 9972697),\n",
       " ('not', 9735684),\n",
       " ('an', 9325677),\n",
       " ('have', 9053618),\n",
       " ('has', 8687585),\n",
       " ('de', 8582783),\n",
       " ('no', 8558967),\n",
       " ('it', 8553165),\n",
       " ('d', 8463582),\n",
       " ('c', 8454718),\n",
       " ('which', 8157941),\n",
       " ('was', 8117387),\n",
       " ('management', 8068529),\n",
       " ('t', 7856929),\n",
       " ('m', 7810134),\n",
       " ('water', 7579247),\n",
       " ('other', 7314613),\n",
       " ('government', 6764486),\n",
       " ('b', 6726532),\n",
       " ('all', 6710519),\n",
       " ('land', 6612628),\n",
       " ('implementation', 6605461),\n",
       " ('r', 6586767),\n",
       " ('l', 6338671),\n",
       " ('been', 6101696),\n",
       " ('sector', 6060341),\n",
       " ('environmental', 6009337),\n",
       " ('public', 6000011),\n",
       " ('their', 5877948),\n",
       " ('national', 5803492),\n",
       " ('total', 5699871),\n",
       " ('construction', 5649073),\n",
       " ('p', 5575159),\n",
       " ('also', 5545339),\n",
       " ('these', 5521093),\n",
       " ('were', 5498458),\n",
       " ('f', 5498395),\n",
       " ('under', 5466439),\n",
       " ('services', 5344884),\n",
       " ('such', 5224172),\n",
       " ('world', 5213286),\n",
       " ('more', 5180730),\n",
       " ('social', 5077971),\n",
       " ('its', 5033504),\n",
       " ('one', 4979798),\n",
       " ('financial', 4975885),\n",
       " ('percent', 4854866),\n",
       " ('may', 4809784),\n",
       " ('economic', 4659358),\n",
       " ('would', 4642883),\n",
       " ('program', 4515103),\n",
       " ('plan', 4472653),\n",
       " ('report', 4410597),\n",
       " ('system', 4409825),\n",
       " ('through', 4382593),\n",
       " ('support', 4361220),\n",
       " ('health', 4348075),\n",
       " ('than', 4334331),\n",
       " ('cost', 4307663),\n",
       " ('local', 4286444),\n",
       " ('during', 4277946),\n",
       " ('table', 4208825),\n",
       " ('per', 4186199),\n",
       " ('policy', 4152011),\n",
       " ('date', 4148590),\n",
       " ('areas', 4119244),\n",
       " ('us', 4094088),\n",
       " ('countries', 4089099),\n",
       " ('new', 4057884),\n",
       " ('area', 4043730),\n",
       " ('can', 4034324),\n",
       " ('there', 4034187),\n",
       " ('activities', 4026121)]"
      ]
     },
     "execution_count": 78,
     "metadata": {},
     "output_type": "execute_result"
    },
    {
     "name": "stdout",
     "output_type": "stream",
     "text": [
      "time: 2.11 s\n"
     ]
    }
   ],
   "source": [
    "word_use.most_common(100)"
   ]
  },
  {
   "cell_type": "code",
   "execution_count": 73,
   "metadata": {},
   "outputs": [
    {
     "data": {
      "text/plain": [
       "[('the', 340851),\n",
       " ('of', 339535),\n",
       " ('and', 339124),\n",
       " ('to', 338407),\n",
       " ('for', 336933),\n",
       " ('in', 333275),\n",
       " ('a', 333229),\n",
       " ('s', 332604),\n",
       " ('as', 325425),\n",
       " ('by', 323373),\n",
       " ('bank', 321721),\n",
       " ('on', 320768),\n",
       " ('with', 316205),\n",
       " ('development', 307286),\n",
       " ('no', 306676),\n",
       " ('be', 306656),\n",
       " ('is', 306336),\n",
       " ('this', 305819),\n",
       " ('are', 300533),\n",
       " ('project', 298650),\n",
       " ('other', 297444),\n",
       " ('from', 293265),\n",
       " ('not', 293183),\n",
       " ('at', 289016),\n",
       " ('or', 288932),\n",
       " ('that', 288811),\n",
       " ('report', 284905),\n",
       " ('all', 284368),\n",
       " ('under', 281997),\n",
       " ('i', 281148),\n",
       " ('an', 280641),\n",
       " ('may', 277375),\n",
       " ('will', 274865),\n",
       " ('date', 274260),\n",
       " ('information', 273005),\n",
       " ('management', 271729),\n",
       " ('international', 268449),\n",
       " ('which', 267013),\n",
       " ('services', 266930),\n",
       " ('c', 266592),\n",
       " ('has', 266069),\n",
       " ('it', 265923),\n",
       " ('country', 264572),\n",
       " ('one', 264229),\n",
       " ('have', 261668),\n",
       " ('e', 261268),\n",
       " ('b', 258924),\n",
       " ('its', 257530),\n",
       " ('including', 256922),\n",
       " ('implementation', 256285),\n",
       " ('d', 254964),\n",
       " ('national', 254690),\n",
       " ('world', 253929),\n",
       " ('ii', 252695),\n",
       " ('if', 252541),\n",
       " ('been', 252440),\n",
       " ('technical', 251745),\n",
       " ('review', 251469),\n",
       " ('based', 251134),\n",
       " ('p', 250521),\n",
       " ('support', 248740),\n",
       " ('financial', 246974),\n",
       " ('through', 246394),\n",
       " ('than', 246328),\n",
       " ('plan', 244876),\n",
       " ('time', 242631),\n",
       " ('number', 242483),\n",
       " ('cost', 242214),\n",
       " ('general', 241689),\n",
       " ('public', 241352),\n",
       " ('system', 241267),\n",
       " ('amount', 240956),\n",
       " ('terms', 240446),\n",
       " ('such', 239783),\n",
       " ('any', 238788),\n",
       " ('out', 236915),\n",
       " ('n', 236241),\n",
       " ('following', 233353),\n",
       " ('capacity', 232276),\n",
       " ('between', 232056),\n",
       " ('new', 231962),\n",
       " ('first', 231698),\n",
       " ('total', 230328),\n",
       " ('during', 229886),\n",
       " ('m', 229833),\n",
       " ('government', 229429),\n",
       " ('their', 229286),\n",
       " ('part', 229107),\n",
       " ('year', 228410),\n",
       " ('activities', 228179),\n",
       " ('also', 227305),\n",
       " ('two', 227286),\n",
       " ('period', 227249),\n",
       " ('was', 226465),\n",
       " ('related', 225991),\n",
       " ('financing', 225367),\n",
       " ('us', 225345),\n",
       " ('program', 225215),\n",
       " ('iii', 224122),\n",
       " ('sector', 222424)]"
      ]
     },
     "execution_count": 73,
     "metadata": {},
     "output_type": "execute_result"
    },
    {
     "name": "stdout",
     "output_type": "stream",
     "text": [
      "time: 1.99 s\n"
     ]
    }
   ],
   "source": [
    "word_doc.most_common(100)"
   ]
  },
  {
   "cell_type": "code",
   "execution_count": 320,
   "metadata": {},
   "outputs": [
    {
     "name": "stdout",
     "output_type": "stream",
     "text": [
      "/home/wb536061/wb_nlp/notebooks/scrapers\n",
      "time: 1.23 s\n"
     ]
    }
   ],
   "source": [
    "!pwd"
   ]
  },
  {
   "cell_type": "markdown",
   "metadata": {},
   "source": [
    "# Process WB metadata"
   ]
  },
  {
   "cell_type": "code",
   "execution_count": 337,
   "metadata": {},
   "outputs": [
    {
     "name": "stdout",
     "output_type": "stream",
     "text": [
      "time: 759 µs\n"
     ]
    }
   ],
   "source": [
    "import re\n",
    "\n",
    "def standardize_authors_list(authors):\n",
    "    # authors = \"Runji,Justin;Jose Rizal;Bonifacio, Andres; Damaso, Maria Clara\"\n",
    "    if not isinstance(authors, str):\n",
    "        return None\n",
    "    return \",\".join([re.sub(r\"(.*),\\s*(.*)\", r\"\\2 \\1\", i.strip()) for i in authors.split(\";\")])"
   ]
  },
  {
   "cell_type": "code",
   "execution_count": 342,
   "metadata": {},
   "outputs": [
    {
     "name": "stdout",
     "output_type": "stream",
     "text": [
      "time: 2.05 s\n"
     ]
    }
   ],
   "source": [
    "copy_normalized_final_df = normalized_final_df.copy()\n",
    "copy_normalized_final_df[\"author\"] = normalized_final_df[\"author\"].map(standardize_authors_list)"
   ]
  },
  {
   "cell_type": "code",
   "execution_count": 344,
   "metadata": {},
   "outputs": [
    {
     "data": {
      "text/html": [
       "<div>\n",
       "<style scoped>\n",
       "    .dataframe tbody tr th:only-of-type {\n",
       "        vertical-align: middle;\n",
       "    }\n",
       "\n",
       "    .dataframe tbody tr th {\n",
       "        vertical-align: top;\n",
       "    }\n",
       "\n",
       "    .dataframe thead th {\n",
       "        text-align: right;\n",
       "    }\n",
       "</style>\n",
       "<table border=\"1\" class=\"dataframe\">\n",
       "  <thead>\n",
       "    <tr style=\"text-align: right;\">\n",
       "      <th></th>\n",
       "      <th>corpus</th>\n",
       "      <th>path_original</th>\n",
       "      <th>path_clean</th>\n",
       "      <th>filename_original</th>\n",
       "      <th>year</th>\n",
       "      <th>major_doc_type</th>\n",
       "      <th>doc_type</th>\n",
       "      <th>author</th>\n",
       "      <th>collection</th>\n",
       "      <th>title</th>\n",
       "      <th>...</th>\n",
       "      <th>geo_region</th>\n",
       "      <th>country</th>\n",
       "      <th>wb_lending_instrument</th>\n",
       "      <th>wb_product_line</th>\n",
       "      <th>wb_major_theme</th>\n",
       "      <th>wb_theme</th>\n",
       "      <th>wb_sector</th>\n",
       "      <th>wb_subtopic_src</th>\n",
       "      <th>wb_project_id</th>\n",
       "      <th>_id</th>\n",
       "    </tr>\n",
       "    <tr>\n",
       "      <th>id</th>\n",
       "      <th></th>\n",
       "      <th></th>\n",
       "      <th></th>\n",
       "      <th></th>\n",
       "      <th></th>\n",
       "      <th></th>\n",
       "      <th></th>\n",
       "      <th></th>\n",
       "      <th></th>\n",
       "      <th></th>\n",
       "      <th></th>\n",
       "      <th></th>\n",
       "      <th></th>\n",
       "      <th></th>\n",
       "      <th></th>\n",
       "      <th></th>\n",
       "      <th></th>\n",
       "      <th></th>\n",
       "      <th></th>\n",
       "      <th></th>\n",
       "      <th></th>\n",
       "    </tr>\n",
       "  </thead>\n",
       "  <tbody>\n",
       "    <tr>\n",
       "      <th>wb_D32659506</th>\n",
       "      <td>WB</td>\n",
       "      <td>data/corpus/WB/wb_D32659506.txt</td>\n",
       "      <td>None</td>\n",
       "      <td>Congo-Democratic-Republic-of-AFRICA-EAST-P1738...</td>\n",
       "      <td>2020.0</td>\n",
       "      <td>Project Documents</td>\n",
       "      <td>Procurement Plan</td>\n",
       "      <td>Dominique Baado</td>\n",
       "      <td>NaN</td>\n",
       "      <td>Congo, Democratic Republic of - AFRICA EAST - ...</td>\n",
       "      <td>...</td>\n",
       "      <td>NaN</td>\n",
       "      <td>Congo, Democratic Republic of</td>\n",
       "      <td>NaN</td>\n",
       "      <td>NaN</td>\n",
       "      <td>NaN</td>\n",
       "      <td>NaN</td>\n",
       "      <td>NaN</td>\n",
       "      <td>Regulatory Regimes,Legal Reform,Social Policy,...</td>\n",
       "      <td>P173825</td>\n",
       "      <td>wb_D32659506</td>\n",
       "    </tr>\n",
       "    <tr>\n",
       "      <th>wb_D32659154</th>\n",
       "      <td>WB</td>\n",
       "      <td>data/corpus/WB/wb_D32659154.txt</td>\n",
       "      <td>None</td>\n",
       "      <td>Disclosable-Version-of-the-ISR-Kenya-Secondary...</td>\n",
       "      <td>2020.0</td>\n",
       "      <td>Project Documents</td>\n",
       "      <td>Implementation Status and Results Report</td>\n",
       "      <td>Huma Ali Waheed</td>\n",
       "      <td>NaN</td>\n",
       "      <td>Disclosable Version of the ISR - Kenya Seconda...</td>\n",
       "      <td>...</td>\n",
       "      <td>NaN</td>\n",
       "      <td>Kenya</td>\n",
       "      <td>NaN</td>\n",
       "      <td>NaN</td>\n",
       "      <td>NaN</td>\n",
       "      <td>NaN</td>\n",
       "      <td>NaN</td>\n",
       "      <td>Educational Sciences,Secondary Education,Educa...</td>\n",
       "      <td>P160083</td>\n",
       "      <td>wb_D32659154</td>\n",
       "    </tr>\n",
       "    <tr>\n",
       "      <th>wb_D32659153</th>\n",
       "      <td>WB</td>\n",
       "      <td>data/corpus/WB/wb_D32659153.txt</td>\n",
       "      <td>None</td>\n",
       "      <td>China-EAST-ASIA-AND-PACIFIC-P126832-CH-GEF-Mun...</td>\n",
       "      <td>2020.0</td>\n",
       "      <td>Project Documents</td>\n",
       "      <td>Procurement Plan</td>\n",
       "      <td>Jiangping Li</td>\n",
       "      <td>NaN</td>\n",
       "      <td>China - EAST ASIA AND PACIFIC - P126832 - CH G...</td>\n",
       "      <td>...</td>\n",
       "      <td>NaN</td>\n",
       "      <td>China</td>\n",
       "      <td>NaN</td>\n",
       "      <td>NaN</td>\n",
       "      <td>NaN</td>\n",
       "      <td>NaN</td>\n",
       "      <td>NaN</td>\n",
       "      <td>Pollution Management &amp; Control,Urban Solid Was...</td>\n",
       "      <td>P126832</td>\n",
       "      <td>wb_D32659153</td>\n",
       "    </tr>\n",
       "    <tr>\n",
       "      <th>wb_D32659160</th>\n",
       "      <td>WB</td>\n",
       "      <td>data/corpus/WB/wb_D32659160.txt</td>\n",
       "      <td>None</td>\n",
       "      <td>Disclosable-Version-of-the-ISR-Roads-and-Emplo...</td>\n",
       "      <td>2020.0</td>\n",
       "      <td>Project Documents</td>\n",
       "      <td>Implementation Status and Results Report</td>\n",
       "      <td>Mira Morad</td>\n",
       "      <td>NaN</td>\n",
       "      <td>Disclosable Version of the ISR - Roads and Emp...</td>\n",
       "      <td>...</td>\n",
       "      <td>NaN</td>\n",
       "      <td>Lebanon</td>\n",
       "      <td>NaN</td>\n",
       "      <td>NaN</td>\n",
       "      <td>NaN</td>\n",
       "      <td>NaN</td>\n",
       "      <td>NaN</td>\n",
       "      <td>Transport Services,Labor Markets,Financial Sec...</td>\n",
       "      <td>P160223</td>\n",
       "      <td>wb_D32659160</td>\n",
       "    </tr>\n",
       "    <tr>\n",
       "      <th>wb_D32658894</th>\n",
       "      <td>WB</td>\n",
       "      <td>data/corpus/WB/wb_D32658894.txt</td>\n",
       "      <td>None</td>\n",
       "      <td>Kenya-AFRICA-EAST-P152394-Transforming-Health-...</td>\n",
       "      <td>2020.0</td>\n",
       "      <td>Project Documents</td>\n",
       "      <td>Procurement Plan</td>\n",
       "      <td>Zachariah Kimwetich</td>\n",
       "      <td>NaN</td>\n",
       "      <td>Kenya - AFRICA EAST - P152394 - Transforming H...</td>\n",
       "      <td>...</td>\n",
       "      <td>NaN</td>\n",
       "      <td>Kenya</td>\n",
       "      <td>NaN</td>\n",
       "      <td>NaN</td>\n",
       "      <td>NaN</td>\n",
       "      <td>NaN</td>\n",
       "      <td>NaN</td>\n",
       "      <td>Health Systems Development &amp; Reform,Health Car...</td>\n",
       "      <td>P152394</td>\n",
       "      <td>wb_D32658894</td>\n",
       "    </tr>\n",
       "  </tbody>\n",
       "</table>\n",
       "<p>5 rows × 29 columns</p>\n",
       "</div>"
      ],
      "text/plain": [
       "             corpus                    path_original path_clean  \\\n",
       "id                                                                \n",
       "wb_D32659506     WB  data/corpus/WB/wb_D32659506.txt       None   \n",
       "wb_D32659154     WB  data/corpus/WB/wb_D32659154.txt       None   \n",
       "wb_D32659153     WB  data/corpus/WB/wb_D32659153.txt       None   \n",
       "wb_D32659160     WB  data/corpus/WB/wb_D32659160.txt       None   \n",
       "wb_D32658894     WB  data/corpus/WB/wb_D32658894.txt       None   \n",
       "\n",
       "                                              filename_original    year  \\\n",
       "id                                                                        \n",
       "wb_D32659506  Congo-Democratic-Republic-of-AFRICA-EAST-P1738...  2020.0   \n",
       "wb_D32659154  Disclosable-Version-of-the-ISR-Kenya-Secondary...  2020.0   \n",
       "wb_D32659153  China-EAST-ASIA-AND-PACIFIC-P126832-CH-GEF-Mun...  2020.0   \n",
       "wb_D32659160  Disclosable-Version-of-the-ISR-Roads-and-Emplo...  2020.0   \n",
       "wb_D32658894  Kenya-AFRICA-EAST-P152394-Transforming-Health-...  2020.0   \n",
       "\n",
       "                 major_doc_type                                  doc_type  \\\n",
       "id                                                                          \n",
       "wb_D32659506  Project Documents                          Procurement Plan   \n",
       "wb_D32659154  Project Documents  Implementation Status and Results Report   \n",
       "wb_D32659153  Project Documents                          Procurement Plan   \n",
       "wb_D32659160  Project Documents  Implementation Status and Results Report   \n",
       "wb_D32658894  Project Documents                          Procurement Plan   \n",
       "\n",
       "                           author collection  \\\n",
       "id                                             \n",
       "wb_D32659506      Dominique Baado        NaN   \n",
       "wb_D32659154      Huma Ali Waheed        NaN   \n",
       "wb_D32659153         Jiangping Li        NaN   \n",
       "wb_D32659160           Mira Morad        NaN   \n",
       "wb_D32658894  Zachariah Kimwetich        NaN   \n",
       "\n",
       "                                                          title  ...  \\\n",
       "id                                                               ...   \n",
       "wb_D32659506  Congo, Democratic Republic of - AFRICA EAST - ...  ...   \n",
       "wb_D32659154  Disclosable Version of the ISR - Kenya Seconda...  ...   \n",
       "wb_D32659153  China - EAST ASIA AND PACIFIC - P126832 - CH G...  ...   \n",
       "wb_D32659160  Disclosable Version of the ISR - Roads and Emp...  ...   \n",
       "wb_D32658894  Kenya - AFRICA EAST - P152394 - Transforming H...  ...   \n",
       "\n",
       "             geo_region                        country wb_lending_instrument  \\\n",
       "id                                                                             \n",
       "wb_D32659506        NaN  Congo, Democratic Republic of                   NaN   \n",
       "wb_D32659154        NaN                          Kenya                   NaN   \n",
       "wb_D32659153        NaN                          China                   NaN   \n",
       "wb_D32659160        NaN                        Lebanon                   NaN   \n",
       "wb_D32658894        NaN                          Kenya                   NaN   \n",
       "\n",
       "             wb_product_line wb_major_theme wb_theme wb_sector  \\\n",
       "id                                                               \n",
       "wb_D32659506             NaN            NaN      NaN       NaN   \n",
       "wb_D32659154             NaN            NaN      NaN       NaN   \n",
       "wb_D32659153             NaN            NaN      NaN       NaN   \n",
       "wb_D32659160             NaN            NaN      NaN       NaN   \n",
       "wb_D32658894             NaN            NaN      NaN       NaN   \n",
       "\n",
       "                                                wb_subtopic_src wb_project_id  \\\n",
       "id                                                                              \n",
       "wb_D32659506  Regulatory Regimes,Legal Reform,Social Policy,...       P173825   \n",
       "wb_D32659154  Educational Sciences,Secondary Education,Educa...       P160083   \n",
       "wb_D32659153  Pollution Management & Control,Urban Solid Was...       P126832   \n",
       "wb_D32659160  Transport Services,Labor Markets,Financial Sec...       P160223   \n",
       "wb_D32658894  Health Systems Development & Reform,Health Car...       P152394   \n",
       "\n",
       "                       _id  \n",
       "id                          \n",
       "wb_D32659506  wb_D32659506  \n",
       "wb_D32659154  wb_D32659154  \n",
       "wb_D32659153  wb_D32659153  \n",
       "wb_D32659160  wb_D32659160  \n",
       "wb_D32658894  wb_D32658894  \n",
       "\n",
       "[5 rows x 29 columns]"
      ]
     },
     "execution_count": 344,
     "metadata": {},
     "output_type": "execute_result"
    },
    {
     "name": "stdout",
     "output_type": "stream",
     "text": [
      "time: 37.5 ms\n"
     ]
    }
   ],
   "source": [
    "copy_normalized_final_df[\"_id\"] = copy_normalized_final_df.index\n",
    "copy_normalized_final_df.head()"
   ]
  },
  {
   "cell_type": "code",
   "execution_count": 515,
   "metadata": {},
   "outputs": [
    {
     "data": {
      "text/plain": [
       "<module 'wb_nlp.types.metadata_enums' from '/home/wb536061/wb_nlp/src/wb_nlp/types/metadata_enums.py'>"
      ]
     },
     "execution_count": 515,
     "metadata": {},
     "output_type": "execute_result"
    },
    {
     "name": "stdout",
     "output_type": "stream",
     "text": [
      "time: 20.8 ms\n"
     ]
    }
   ],
   "source": [
    "import json\n",
    "from wb_nlp.interfaces import mongodb\n",
    "from wb_nlp.types import metadata as meta_type\n",
    "from wb_nlp.types import metadata_enums\n",
    "import importlib\n",
    "\n",
    "importlib.reload(meta_type)\n",
    "importlib.reload(metadata_enums)"
   ]
  },
  {
   "cell_type": "code",
   "execution_count": 365,
   "metadata": {},
   "outputs": [
    {
     "name": "stderr",
     "output_type": "stream",
     "text": [
      "/home/wb536061/anaconda3/envs/wb_nlp/lib/python3.8/site-packages/IPython/core/interactiveshell.py:3145: DtypeWarning: Columns (24,25) have mixed types.Specify dtype option on import or set low_memory=False.\n",
      "  has_raised = await self.run_ast_nodes(code_ast.body, cell_name,\n"
     ]
    },
    {
     "name": "stdout",
     "output_type": "stream",
     "text": [
      "time: 4.5 s\n"
     ]
    }
   ],
   "source": [
    "# fname = f\"wb_metadata-{datetime.now()}.csv\"\n",
    "fname = \"wb_metadata-2021-03-27 19:17:44.764136.csv\"\n",
    "wb_metadata = pd.read_csv(dir_manager.get_data_dir(\"corpus\", \"WB\", fname))\n",
    "\n",
    "collection = mongodb.get_collection(\"test_nlp\", \"docs_metadata\")\n",
    "errors_list = []\n",
    "no_url = []\n",
    "metadata_list = []\n",
    "for i, row in wb_metadata.iterrows():\n",
    "    if i % 10000 == 0:\n",
    "        print(i)\n",
    "\n",
    "    row[\"_id\"] = row[\"id\"]\n",
    "\n",
    "    if row[\"url_txt\"] == \"not to be displayed--\":\n",
    "        print(row[\"id\"])\n",
    "        no_url.append(row)\n",
    "        continue\n",
    "\n",
    "    try:\n",
    "        meta = json.loads(meta_type.make_metadata_model_from_nlp_schema(row.fillna(\"\")).json())\n",
    "        meta[\"_id\"] = meta[\"id\"]\n",
    "        metadata_list.append(meta)\n",
    "    except:\n",
    "        errors_list.append(row)\n",
    "    \n",
    "collection.insert_many(metadata_list)"
   ]
  },
  {
   "cell_type": "code",
   "execution_count": 469,
   "metadata": {},
   "outputs": [
    {
     "name": "stdout",
     "output_type": "stream",
     "text": [
      "0\n",
      "10000\n",
      "20000\n",
      "30000\n",
      "40000\n",
      "50000\n",
      "60000\n",
      "70000\n",
      "80000\n",
      "90000\n",
      "100000\n",
      "110000\n",
      "120000\n",
      "130000\n",
      "140000\n",
      "150000\n",
      "160000\n",
      "170000\n",
      "180000\n",
      "190000\n",
      "200000\n",
      "wb_D12739952\n",
      "wb_D12619066\n",
      "210000\n",
      "220000\n",
      "230000\n",
      "wb_D19660178\n",
      "wb_D19660149\n",
      "wb_D5086350\n",
      "wb_D5087542\n",
      "wb_D5085295\n",
      "wb_D5087543\n",
      "wb_D19585040\n",
      "240000\n",
      "wb_D5083514\n",
      "wb_D5078290\n",
      "wb_D5081641\n",
      "wb_D19551988\n",
      "wb_D19544006\n",
      "wb_D5081541\n",
      "wb_D5083310\n",
      "wb_D19533870\n",
      "wb_D5081300\n",
      "wb_D5081296\n",
      "wb_D5080101\n",
      "wb_D5081237\n",
      "wb_D5081123\n",
      "wb_D5080972\n",
      "250000\n",
      "wb_D5084124\n",
      "wb_D5082488\n",
      "wb_D5080888\n",
      "wb_D5080900\n",
      "wb_D5080819\n",
      "wb_D5079752\n",
      "wb_D5082533\n",
      "wb_D5079622\n",
      "wb_D5079389\n",
      "wb_D5082313\n",
      "wb_D5082076\n",
      "wb_D5079216\n",
      "wb_D5080601\n",
      "wb_D5077916\n",
      "wb_D5079132\n",
      "260000\n",
      "wb_D5076462\n",
      "wb_D5076508\n",
      "wb_D5076280\n",
      "wb_D5080398\n",
      "wb_D5076193\n",
      "wb_D5079207\n",
      "wb_D5075954\n",
      "wb_D5075858\n",
      "270000\n",
      "280000\n",
      "290000\n",
      "time: 11min 9s\n"
     ]
    }
   ],
   "source": [
    "# errors_list = []\n",
    "# no_url = []\n",
    "# metadata_list = []\n",
    "# for i, row in wb_metadata.iterrows():\n",
    "#     if i % 10000 == 0:\n",
    "#         print(i)\n",
    "\n",
    "#     row[\"_id\"] = row[\"id\"]\n",
    "\n",
    "#     if row[\"url_txt\"] == \"not to be displayed--\":\n",
    "#         print(row[\"id\"])\n",
    "#         no_url.append(row)\n",
    "#         continue\n",
    "\n",
    "#     try:\n",
    "#         meta = json.loads(meta_type.make_metadata_model_from_nlp_schema(row.fillna(\"\")).json())\n",
    "#         meta[\"_id\"] = meta[\"id\"]\n",
    "#         metadata_list.append(meta)\n",
    "#     except:\n",
    "#         errors_list.append(row)"
   ]
  },
  {
   "cell_type": "code",
   "execution_count": 477,
   "metadata": {},
   "outputs": [
    {
     "data": {
      "text/plain": [
       "(46, 351, 296581)"
      ]
     },
     "execution_count": 477,
     "metadata": {},
     "output_type": "execute_result"
    },
    {
     "name": "stdout",
     "output_type": "stream",
     "text": [
      "time: 2.71 ms\n"
     ]
    }
   ],
   "source": [
    "len(no_url), len(errors_list), len(metadata_list)"
   ]
  },
  {
   "cell_type": "code",
   "execution_count": 516,
   "metadata": {},
   "outputs": [
    {
     "name": "stdout",
     "output_type": "stream",
     "text": [
      "time: 382 ms\n"
     ]
    }
   ],
   "source": [
    "# Review failing items\n",
    "# # eee = []\n",
    "# # for ix, row in enumerate(errors_list):\n",
    "# #     if row[\"doc_type\"] in [\"Dataset\", \"Policy\", \"Presentation\", \"Proceedings\", \"Supervision Report\", \"PAS Research Paper\"]:\n",
    "# #         continue\n",
    "# #     try:\n",
    "# #         eee.append(meta_type.make_metadata_model_from_nlp_schema(row.fillna(\"\")))\n",
    "# #     except Exception as e:\n",
    "# #         print(row[\"doc_type\"])\n",
    "# #         raise(e)"
   ]
  },
  {
   "cell_type": "code",
   "execution_count": 482,
   "metadata": {},
   "outputs": [
    {
     "name": "stdout",
     "output_type": "stream",
     "text": [
      "time: 383 µs\n"
     ]
    }
   ],
   "source": [
    "# Review failing items\n",
    "# # dts = [\n",
    "# #     \"Environmental and Social Management Framework\",\n",
    "# #     \"IEG Evaluation\",\n",
    "# #      \"News Story\",\n",
    "# #     \"Technical Assessment\",\n",
    "# #     \"Procurement Assessment\",\n",
    "# #     \"Reference Material\",\n",
    "# #     \"Flash Report\",\n",
    "# #     \"Sector Report\",\n",
    "# # ]\n",
    "\n",
    "# # eee = [i for i in errors_list if not any([v in i[\"doc_type\"] for v in dts])]\n",
    "# # eee = [i for i in eee if (isinstance(i[\"geo_region\"], str) and \"africa west\" not in i[\"geo_region\"].lower())]\n",
    "# # print(len(eee))\n",
    "# # row = eee[1]\n",
    "# # print(row[\"doc_type\"], row[\"geo_region\"], row[\"url_txt\"])\n",
    "# # # row[\"geo_region\"] = row[\"geo_region\"].replace(\"Africa West\", \"West Africa\") if isinstance(row[\"geo_region\"], str) else None\n",
    "# # meta_type.make_metadata_model_from_nlp_schema(row.fillna(\"\"))"
   ]
  },
  {
   "cell_type": "code",
   "execution_count": 470,
   "metadata": {},
   "outputs": [
    {
     "name": "stdout",
     "output_type": "stream",
     "text": [
      "time: 333 µs\n"
     ]
    }
   ],
   "source": [
    "# Review failing items\n",
    "# # dts = [\n",
    "# #     \"Environmental and Social Management Framework\",\n",
    "# #     \"IEG Evaluation\",\n",
    "# #      \"News Story\",\n",
    "# #     \"Technical Assessment\",\n",
    "# #     \"Procurement Assessment\",\n",
    "# #     \"Reference Material\",\n",
    "# #     \"Flash Report\",\n",
    "# #     \"Sector Report\",\n",
    "# # ]\n",
    "\n",
    "# # eee = [i for i in errors_list if not any([v in i[\"doc_type\"] for v in dts])]\n",
    "# # eee = [i for i in eee if (isinstance(i[\"geo_region\"], str) and \"africa west\" not in i[\"geo_region\"].lower())]\n",
    "# # print(len(eee))\n",
    "# # row = eee[6]\n",
    "# # print(row[\"doc_type\"], row[\"geo_region\"], row[\"url_txt\"])\n",
    "# # # row[\"geo_region\"] = row[\"geo_region\"].replace(\"Africa West\", \"West Africa\") if isinstance(row[\"geo_region\"], str) else None\n",
    "# # meta_type.make_metadata_model_from_nlp_schema(row.fillna(\"\"))"
   ]
  },
  {
   "cell_type": "code",
   "execution_count": null,
   "metadata": {},
   "outputs": [],
   "source": []
  },
  {
   "cell_type": "code",
   "execution_count": null,
   "metadata": {},
   "outputs": [],
   "source": [
    "# doc_type\n",
    "## Environmental and Social Management Framework"
   ]
  },
  {
   "cell_type": "code",
   "execution_count": null,
   "metadata": {},
   "outputs": [],
   "source": []
  },
  {
   "cell_type": "code",
   "execution_count": null,
   "metadata": {},
   "outputs": [],
   "source": []
  },
  {
   "cell_type": "code",
   "execution_count": null,
   "metadata": {},
   "outputs": [],
   "source": []
  },
  {
   "cell_type": "code",
   "execution_count": 353,
   "metadata": {},
   "outputs": [
    {
     "data": {
      "text/plain": [
       "MetadataModel(id='wb_D32659506', hex_id='eceab51b6d7caa2', int_id=1066978529181682338, adm_region=[<WBAdminRegions.africa: 'Africa'>], author=['Dominique Baado'], cleaning_config_id=None, collection=None, corpus=<Corpus.WB: 'WB'>, country=['Congo', 'Democratic Republic of'], date_published=datetime.date(2020, 12, 10), der_acronyms=None, der_countries=None, der_language_detected=None, der_language_score=None, der_raw_token_count=None, der_clean_token_count=None, digital_identifier='090224b0880b3ebf', doc_type=[<WBDocTypes.procurement_plan: 'Procurement Plan'>], filename_original='Congo-Democratic-Republic-of-AFRICA-EAST-P173825-DRC-COVID-19-Strategic-Preparedness-and-Response-Project-SPRP-Procurement-Plan.txt', geo_region=None, journal=None, language_src='English', last_update_date=datetime.datetime(2021, 3, 31, 23, 57, 17, 779753), major_doc_type=[<WBMajorDocTypes.project_documents: 'Project Documents'>], path_clean=None, path_original='data/corpus/WB/wb_D32659506.txt', title='Congo, Democratic Republic of - AFRICA EAST - P173825 - DRC COVID-19 Strategic Preparedness and Response Project (SPRP) - Procurement Plan', topics_src=[<WBTopics.governance: 'Governance'>, <WBTopics.health_nutrition_and_population: 'Health; Nutrition and Population'>, <WBTopics.industry: 'Industry'>, <WBTopics.international_economics_and_trade: 'International Economics and Trade'>, <WBTopics.law_and_development: 'Law and Development'>, <WBTopics.public_sector_development: 'Public Sector Development'>, <WBTopics.social_development: 'Social Development'>], url_pdf=AnyUrl('http://documents.worldbank.org/curated/en/232211607643292798/pdf/Congo-Democratic-Republic-of-AFRICA-EAST-P173825-DRC-COVID-19-Strategic-Preparedness-and-Response-Project-SPRP-Procurement-Plan.pdf', scheme='http', host='documents.worldbank.org', tld='org', host_type='domain', path='/curated/en/232211607643292798/pdf/Congo-Democratic-Republic-of-AFRICA-EAST-P173825-DRC-COVID-19-Strategic-Preparedness-and-Response-Project-SPRP-Procurement-Plan.pdf'), url_txt=AnyUrl('http://documents.worldbank.org/curated/en/232211607643292798/text/Congo-Democratic-Republic-of-AFRICA-EAST-P173825-DRC-COVID-19-Strategic-Preparedness-and-Response-Project-SPRP-Procurement-Plan.txt', scheme='http', host='documents.worldbank.org', tld='org', host_type='domain', path='/curated/en/232211607643292798/text/Congo-Democratic-Republic-of-AFRICA-EAST-P173825-DRC-COVID-19-Strategic-Preparedness-and-Response-Project-SPRP-Procurement-Plan.txt'), volume=None, wb_lending_instrument=None, wb_major_theme=None, wb_product_line=None, wb_project_id='P173825', wb_sector=None, wb_subtopic_src=['Government Procurement', 'Health Care Services Industry', 'Health Service Management and Delivery', 'Judicial System Reform', 'Legal Products', 'Legal Reform', 'Legislation', 'Public Finance Decentralization and Poverty Reduction', 'Public Health Promotion', 'Public Sector Economics', 'Regulatory Regimes', 'Social Policy'], wb_theme=None, year=2020)"
      ]
     },
     "execution_count": 353,
     "metadata": {},
     "output_type": "execute_result"
    },
    {
     "name": "stdout",
     "output_type": "stream",
     "text": [
      "time: 9.36 ms\n"
     ]
    }
   ],
   "source": [
    "# fname = f\"wb_metadata-{datetime.now()}.csv\"\n",
    "fname = \"wb_metadata-2021-03-27 19:17:44.764136.csv\"\n",
    "wb_metadata = dir_manager.get_data_dir(\"corpus\", \"WB\", fname)\n",
    "\n",
    "meta_type.make_metadata_model_from_nlp_schema(copy_normalized_final_df.iloc[0].fillna(\"\"))"
   ]
  },
  {
   "cell_type": "code",
   "execution_count": null,
   "metadata": {},
   "outputs": [],
   "source": []
  }
 ],
 "metadata": {
  "kernelspec": {
   "display_name": "wb_nlp",
   "language": "python",
   "name": "wb_nlp"
  },
  "language_info": {
   "codemirror_mode": {
    "name": "ipython",
    "version": 3
   },
   "file_extension": ".py",
   "mimetype": "text/x-python",
   "name": "python",
   "nbconvert_exporter": "python",
   "pygments_lexer": "ipython3",
   "version": "3.8.5"
  }
 },
 "nbformat": 4,
 "nbformat_minor": 4
}
