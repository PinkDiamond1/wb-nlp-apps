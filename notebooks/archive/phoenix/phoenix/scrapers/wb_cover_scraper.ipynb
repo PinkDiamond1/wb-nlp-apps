{
 "cells": [
  {
   "cell_type": "markdown",
   "metadata": {},
   "source": [
    "# World Bank Publication and Research Cover Page Snapshot"
   ]
  },
  {
   "cell_type": "code",
   "execution_count": 1,
   "metadata": {},
   "outputs": [],
   "source": [
    "%load_ext autotime"
   ]
  },
  {
   "cell_type": "code",
   "execution_count": 2,
   "metadata": {},
   "outputs": [
    {
     "name": "stdout",
     "output_type": "stream",
     "text": [
      "time: 224 ms\n"
     ]
    }
   ],
   "source": [
    "%%capture\n",
    "\n",
    "# get_corpus_path\n",
    "# get_txt_orig_path\n",
    "\n",
    "%run ../path_manager.ipynb"
   ]
  },
  {
   "cell_type": "code",
   "execution_count": 3,
   "metadata": {},
   "outputs": [
    {
     "name": "stdout",
     "output_type": "stream",
     "text": [
      "time: 552 ms\n"
     ]
    }
   ],
   "source": [
    "import requests\n",
    "import json\n",
    "import os\n",
    "import time\n",
    "import glob\n",
    "import pandas as pd\n",
    "import re\n",
    "from joblib import Parallel, delayed\n",
    "import pdf2image\n",
    "import PIL"
   ]
  },
  {
   "cell_type": "code",
   "execution_count": 4,
   "metadata": {},
   "outputs": [
    {
     "name": "stdout",
     "output_type": "stream",
     "text": [
      "time: 7.24 ms\n"
     ]
    }
   ],
   "source": [
    "class DocumentCover:\n",
    "    def __init__(self, doc_id, pdf_url, cover_dir, fixed_width=200):\n",
    "        self.doc_id = doc_id\n",
    "        self.pdf_url = pdf_url\n",
    "        self.cover_dir = cover_dir\n",
    "        self.fixed_width = fixed_width\n",
    "        \n",
    "        self.fname = os.path.join(self.cover_dir, f'{self.doc_id}.png')\n",
    "\n",
    "        self.orig_cover = None\n",
    "        self.cover = None\n",
    "        \n",
    "    def get_content(self):\n",
    "        res = requests.get(self.pdf_url)\n",
    "        pages = pdf2image.convert_from_bytes(res.content)\n",
    "        self.orig_cover = pages[0]\n",
    "\n",
    "    def standardize_size(self):\n",
    "        c = self.orig_cover\n",
    "        \n",
    "        if c is None:\n",
    "            self.get_content()\n",
    "            c = self.orig_cover\n",
    "            assert(c)\n",
    "        \n",
    "        width = self.fixed_width\n",
    "        w0, h0 = c.size\n",
    "        c = c.resize((width, int(h0 * width / w0)), resample=PIL.Image.BICUBIC)\n",
    "        self.cover = c\n",
    "        \n",
    "    def save(self):\n",
    "        if not os.path.isfile(self.fname):        \n",
    "            cover = self.cover\n",
    "\n",
    "            if cover is None:\n",
    "                self.standardize_size()\n",
    "                cover = self.cover\n",
    "\n",
    "            cover.save(self.fname)\n",
    "        \n",
    "        return self.doc_id\n",
    "    \n",
    "    def cleanup(self):\n",
    "        del(self.orig_cover)\n",
    "        del(self.cover)\n",
    "        \n",
    "        self.orig_cover = None\n",
    "        self.cover = None"
   ]
  },
  {
   "cell_type": "code",
   "execution_count": 5,
   "metadata": {},
   "outputs": [
    {
     "name": "stdout",
     "output_type": "stream",
     "text": [
      "time: 6.74 ms\n"
     ]
    }
   ],
   "source": [
    "COVER_DIR = os.path.join(get_corpus_path('WB'), 'cover')\n",
    "if not os.path.isdir(COVER_DIR):\n",
    "    os.makedirs(COVER_DIR)"
   ]
  },
  {
   "cell_type": "code",
   "execution_count": 6,
   "metadata": {},
   "outputs": [
    {
     "data": {
      "text/plain": [
       "'/R/NLP/CORPUS/WB/cover'"
      ]
     },
     "execution_count": 6,
     "metadata": {},
     "output_type": "execute_result"
    },
    {
     "name": "stdout",
     "output_type": "stream",
     "text": [
      "time: 13.4 ms\n"
     ]
    }
   ],
   "source": [
    "COVER_DIR"
   ]
  },
  {
   "cell_type": "code",
   "execution_count": 7,
   "metadata": {},
   "outputs": [
    {
     "name": "stdout",
     "output_type": "stream",
     "text": [
      "49959\n",
      "time: 3.24 s\n"
     ]
    }
   ],
   "source": [
    "!ls -l /R/NLP/CORPUS/WB/cover | wc -l"
   ]
  },
  {
   "cell_type": "code",
   "execution_count": 8,
   "metadata": {},
   "outputs": [
    {
     "name": "stdout",
     "output_type": "stream",
     "text": [
      "time: 7.85 s\n"
     ]
    }
   ],
   "source": [
    "# df = pd.read_csv('../../Subtopic Prediction/data/wb_metadata.csv')\n",
    "df = pd.read_csv(os.path.join(get_corpus_path('WB'), 'wb_metadata.csv'))\n",
    "pr = df[df.major_doc_type == 'Publications & Research'][['id', 'major_doc_type', 'url_pdf']]\n",
    "\n",
    "pr.dropna(subset=['url_pdf'], inplace=True)"
   ]
  },
  {
   "cell_type": "code",
   "execution_count": 9,
   "metadata": {},
   "outputs": [
    {
     "data": {
      "text/html": [
       "<div>\n",
       "<style scoped>\n",
       "    .dataframe tbody tr th:only-of-type {\n",
       "        vertical-align: middle;\n",
       "    }\n",
       "\n",
       "    .dataframe tbody tr th {\n",
       "        vertical-align: top;\n",
       "    }\n",
       "\n",
       "    .dataframe thead th {\n",
       "        text-align: right;\n",
       "    }\n",
       "</style>\n",
       "<table border=\"1\" class=\"dataframe\">\n",
       "  <thead>\n",
       "    <tr style=\"text-align: right;\">\n",
       "      <th></th>\n",
       "      <th>id</th>\n",
       "      <th>major_doc_type</th>\n",
       "      <th>url_pdf</th>\n",
       "    </tr>\n",
       "  </thead>\n",
       "  <tbody>\n",
       "    <tr>\n",
       "      <th>0</th>\n",
       "      <td>wb_30572113</td>\n",
       "      <td>Publications &amp; Research</td>\n",
       "      <td>http://documents.worldbank.org/curated/en/2803...</td>\n",
       "    </tr>\n",
       "    <tr>\n",
       "      <th>65</th>\n",
       "      <td>wb_30556234</td>\n",
       "      <td>Publications &amp; Research</td>\n",
       "      <td>http://documents.worldbank.org/curated/en/1498...</td>\n",
       "    </tr>\n",
       "    <tr>\n",
       "      <th>105</th>\n",
       "      <td>wb_30573851</td>\n",
       "      <td>Publications &amp; Research</td>\n",
       "      <td>http://documents.worldbank.org/curated/en/4910...</td>\n",
       "    </tr>\n",
       "    <tr>\n",
       "      <th>110</th>\n",
       "      <td>wb_30574049</td>\n",
       "      <td>Publications &amp; Research</td>\n",
       "      <td>http://documents.worldbank.org/curated/en/3374...</td>\n",
       "    </tr>\n",
       "    <tr>\n",
       "      <th>111</th>\n",
       "      <td>wb_30574056</td>\n",
       "      <td>Publications &amp; Research</td>\n",
       "      <td>http://documents.worldbank.org/curated/en/3643...</td>\n",
       "    </tr>\n",
       "  </tbody>\n",
       "</table>\n",
       "</div>"
      ],
      "text/plain": [
       "              id           major_doc_type  \\\n",
       "0    wb_30572113  Publications & Research   \n",
       "65   wb_30556234  Publications & Research   \n",
       "105  wb_30573851  Publications & Research   \n",
       "110  wb_30574049  Publications & Research   \n",
       "111  wb_30574056  Publications & Research   \n",
       "\n",
       "                                               url_pdf  \n",
       "0    http://documents.worldbank.org/curated/en/2803...  \n",
       "65   http://documents.worldbank.org/curated/en/1498...  \n",
       "105  http://documents.worldbank.org/curated/en/4910...  \n",
       "110  http://documents.worldbank.org/curated/en/3374...  \n",
       "111  http://documents.worldbank.org/curated/en/3643...  "
      ]
     },
     "execution_count": 9,
     "metadata": {},
     "output_type": "execute_result"
    },
    {
     "name": "stdout",
     "output_type": "stream",
     "text": [
      "time: 16.3 ms\n"
     ]
    }
   ],
   "source": [
    "pr.head()"
   ]
  },
  {
   "cell_type": "code",
   "execution_count": 10,
   "metadata": {},
   "outputs": [
    {
     "data": {
      "text/plain": [
       "(50046, 3)"
      ]
     },
     "execution_count": 10,
     "metadata": {},
     "output_type": "execute_result"
    },
    {
     "name": "stdout",
     "output_type": "stream",
     "text": [
      "time: 3.19 ms\n"
     ]
    }
   ],
   "source": [
    "pr.shape"
   ]
  },
  {
   "cell_type": "code",
   "execution_count": 11,
   "metadata": {},
   "outputs": [
    {
     "name": "stdout",
     "output_type": "stream",
     "text": [
      "time: 4.06 ms\n"
     ]
    }
   ],
   "source": [
    "def parallel_process(row):\n",
    "    ret = dict(status='ok', doc_id=row['id'])\n",
    "    try:\n",
    "        dc = DocumentCover(row['id'], row['url_pdf'], COVER_DIR)\n",
    "        r = dc.save()\n",
    "        dc.cleanup()\n",
    "    except Exception as e:\n",
    "        ret['status'] = e.__str__()\n",
    "        \n",
    "    return ret"
   ]
  },
  {
   "cell_type": "code",
   "execution_count": null,
   "metadata": {},
   "outputs": [],
   "source": [
    "NUM_JOBS = 24\n",
    "\n",
    "pres = Parallel(n_jobs=NUM_JOBS)(delayed(parallel_process)(row) for _, row in pr.iterrows())"
   ]
  },
  {
   "cell_type": "code",
   "execution_count": null,
   "metadata": {},
   "outputs": [],
   "source": []
  }
 ],
 "metadata": {
  "kernelspec": {
   "display_name": "Python 3",
   "language": "python",
   "name": "python3"
  },
  "language_info": {
   "codemirror_mode": {
    "name": "ipython",
    "version": 3
   },
   "file_extension": ".py",
   "mimetype": "text/x-python",
   "name": "python",
   "nbconvert_exporter": "python",
   "pygments_lexer": "ipython3",
   "version": "3.6.4"
  }
 },
 "nbformat": 4,
 "nbformat_minor": 2
}
