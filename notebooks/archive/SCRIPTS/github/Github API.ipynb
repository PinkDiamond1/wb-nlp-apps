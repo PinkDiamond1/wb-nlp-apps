{
 "cells": [
  {
   "cell_type": "code",
   "execution_count": 1,
   "metadata": {},
   "outputs": [],
   "source": [
    "%%capture\n",
    "%run ../path_manager.ipynb"
   ]
  },
  {
   "cell_type": "code",
   "execution_count": 2,
   "metadata": {},
   "outputs": [],
   "source": [
    "import pandas as pd\n",
    "import requests\n",
    "from pprint import pprint\n",
    "from datetime import datetime, timezone\n",
    "from githubgql import gql_query, gql_get_repo_readme\n",
    "import pymongo\n",
    "import json\n",
    "import time"
   ]
  },
  {
   "cell_type": "code",
   "execution_count": 3,
   "metadata": {},
   "outputs": [],
   "source": [
    "mongo = pymongo.MongoClient(port=27018)\n",
    "db = mongo['nlp']\n",
    "collection = db['github-bq']"
   ]
  },
  {
   "cell_type": "code",
   "execution_count": 4,
   "metadata": {},
   "outputs": [
    {
     "name": "stdout",
     "output_type": "stream",
     "text": [
      "CPU times: user 7.34 s, sys: 627 ms, total: 7.96 s\n",
      "Wall time: 7.96 s\n"
     ]
    }
   ],
   "source": [
    "%%time\n",
    "mdf = pd.read_csv('./data/module_usage_per_repository/module_usage_per_repository_20191120233530.csv.gz')\n",
    "py_mdf = mdf[mdf.script_type.isin(['Python', 'IPyton'])]\n",
    "r_mdf = mdf[mdf.script_type.isin(['R'])]"
   ]
  },
  {
   "cell_type": "code",
   "execution_count": 5,
   "metadata": {},
   "outputs": [
    {
     "name": "stdout",
     "output_type": "stream",
     "text": [
      "CPU times: user 5.96 s, sys: 319 ms, total: 6.28 s\n",
      "Wall time: 5.87 s\n"
     ]
    }
   ],
   "source": [
    "%%time\n",
    "r_module_docs = r_mdf.groupby('repo_name').apply(lambda x: x['module'].dropna().tolist())"
   ]
  },
  {
   "cell_type": "code",
   "execution_count": 6,
   "metadata": {},
   "outputs": [
    {
     "name": "stdout",
     "output_type": "stream",
     "text": [
      "CPU times: user 2min 58s, sys: 4.64 s, total: 3min 3s\n",
      "Wall time: 2min 51s\n"
     ]
    }
   ],
   "source": [
    "%%time\n",
    "py_module_docs = py_mdf.groupby('repo_name').apply(lambda x: x['module'].dropna().tolist())"
   ]
  },
  {
   "cell_type": "code",
   "execution_count": 7,
   "metadata": {},
   "outputs": [
    {
     "data": {
      "text/plain": [
       "repo_name\n",
       "ChaiTeaNunes/python-struct                 []\n",
       "ChaiTeaNunes/python_struct                 []\n",
       "Distrotech/kmod                            []\n",
       "GalliumOS/kmod                             []\n",
       "ImageMagick/PythonMagick                   []\n",
       "                                           ..\n",
       "tokyo-jesus/funk                           []\n",
       "tubia/accollo                              []\n",
       "voanhcuoc/tcg                              []\n",
       "volosovich/Monokai-ST3-theme-for-vscode    []\n",
       "xj9/funk                                   []\n",
       "Length: 67, dtype: object"
      ]
     },
     "execution_count": 7,
     "metadata": {},
     "output_type": "execute_result"
    }
   ],
   "source": [
    "py_module_docs[py_module_docs.map(len) == 0]"
   ]
  },
  {
   "cell_type": "markdown",
   "metadata": {},
   "source": [
    "# Store R and Python repositories to mongodb"
   ]
  },
  {
   "cell_type": "code",
   "execution_count": 8,
   "metadata": {},
   "outputs": [
    {
     "data": {
      "text/plain": [
       "repo_name\n",
       "00tau/skyline-addon-easyqc           [chron, ggplot2, plyr]\n",
       "0111001101111010/cs595-f13                           [grid]\n",
       "02N/mal                                          [rdyncall]\n",
       "06122010/r_isi                [RSQLite, ggplot2, plyr, DBI]\n",
       "0gajun/mal                                       [rdyncall]\n",
       "dtype: object"
      ]
     },
     "execution_count": 8,
     "metadata": {},
     "output_type": "execute_result"
    }
   ],
   "source": [
    "module_docs = r_module_docs.append(py_module_docs)\n",
    "module_docs.head()"
   ]
  },
  {
   "cell_type": "code",
   "execution_count": 9,
   "metadata": {},
   "outputs": [],
   "source": [
    "repo_names = module_docs.index.drop_duplicates()"
   ]
  },
  {
   "cell_type": "code",
   "execution_count": 40,
   "metadata": {},
   "outputs": [],
   "source": [
    "def check_rate_limit(rate_limit):\n",
    "    if rate_limit['remaining'] < 2:\n",
    "        reset_at = rate_limit['resetAt']\n",
    "        sleep_seconds = (pd.to_datetime(reset_at) - pd.to_datetime(datetime.now(tz=timezone.utc).isoformat())).total_seconds()\n",
    "        sleep_seconds = sleep_seconds + 1\n",
    "        notify('running.log', f'Rate limit below threshold. Rate refreshes at {reset_at} and the program will sleep for {sleep_seconds} seconds.', verbose=True)\n",
    "        time.sleep(sleep_seconds)"
   ]
  },
  {
   "cell_type": "code",
   "execution_count": 41,
   "metadata": {},
   "outputs": [
    {
     "data": {
      "text/plain": [
       "(69785, 7141, 76926)"
      ]
     },
     "execution_count": 41,
     "metadata": {},
     "output_type": "execute_result"
    }
   ],
   "source": [
    "processed_repos = set()\n",
    "stored_repos = {i['_id'] for i in collection.find({}, projection=['_id'])}\n",
    "err_repos = set()\n",
    "\n",
    "with open('errors.log') as e:\n",
    "    for i in e.readlines():\n",
    "        err_repos.add(i.split(':')[3].strip())\n",
    "        \n",
    "processed_repos = stored_repos.union(err_repos)\n",
    "len(stored_repos), len(err_repos), len(processed_repos)"
   ]
  },
  {
   "cell_type": "code",
   "execution_count": null,
   "metadata": {},
   "outputs": [
    {
     "name": "stdout",
     "output_type": "stream",
     "text": [
      "2019-11-24 22:31:12.095258: Rate limit below threshold. Rate refreshes at 2019-11-25T03:48:21Z and the program will sleep for 1029.904909 seconds.\n",
      "2019-11-24 23:29:38.614375: Rate limit below threshold. Rate refreshes at 2019-11-25T04:56:56Z and the program will sleep for 1638.385785 seconds.\n",
      "2019-11-25 00:44:47.668792: Rate limit below threshold. Rate refreshes at 2019-11-25T05:56:57Z and the program will sleep for 730.331379 seconds.\n",
      "2019-11-25 01:45:04.920475: Rate limit below threshold. Rate refreshes at 2019-11-25T06:56:58Z and the program will sleep for 714.079689 seconds.\n",
      "2019-11-25 02:39:06.112695: Rate limit below threshold. Rate refreshes at 2019-11-25T07:56:59Z and the program will sleep for 1073.887472 seconds.\n",
      "2019-11-25 03:39:31.529644: Rate limit below threshold. Rate refreshes at 2019-11-25T09:35:02Z and the program will sleep for 3331.470517 seconds.\n",
      "2019-11-25 05:23:25.998241: Rate limit below threshold. Rate refreshes at 2019-11-25T10:35:03Z and the program will sleep for 698.001965 seconds.\n",
      "2019-11-25 06:23:28.372682: Rate limit below threshold. Rate refreshes at 2019-11-25T11:35:04Z and the program will sleep for 696.651496 seconds.\n",
      "2019-11-25 07:25:24.703492: Rate limit below threshold. Rate refreshes at 2019-11-25T12:35:05Z and the program will sleep for 581.310875 seconds.\n",
      "2019-11-25 08:25:27.562811: Rate limit below threshold. Rate refreshes at 2019-11-25T13:35:06Z and the program will sleep for 579.449854 seconds.\n"
     ]
    }
   ],
   "source": [
    "%%time\n",
    "for ix, repo_name in enumerate(repo_names):\n",
    "    if repo_name in processed_repos:\n",
    "        continue\n",
    "\n",
    "    notify('running.log', f'{ix + 1}. {repo_name}', verbose=False)\n",
    "    r_modules = r_module_docs[repo_name] if repo_name in r_module_docs.index else []\n",
    "    py_modules = py_module_docs[repo_name] if repo_name in py_module_docs.index else []\n",
    "\n",
    "    owner, name = repo_name.split('/')\n",
    "    result = gql_get_repo_readme(owner=owner, name=name)\n",
    "    \n",
    "    if 'request' in result:\n",
    "        request = result['request']\n",
    "        try:\n",
    "            request_error = request.json()\n",
    "            request_error = json.dumps(request_error)\n",
    "        except:\n",
    "            request_error = request.content\n",
    "            if isinstance(request_error, bytes):\n",
    "                request_error = request_error.decode('utf-8')\n",
    "                \n",
    "        notify('request_errors.log', f'{repo_name} :: {request_error}', verbose=False)\n",
    "        time.sleep(5)\n",
    "        continue\n",
    "        \n",
    "    repo_data = pd.DataFrame(result['data']['repository'])\n",
    "    rate_limit = result['data']['rateLimit']\n",
    "\n",
    "    notify('rate_limit.log', f'{repo_name} :: {json.dumps(rate_limit)}', verbose=False)\n",
    "    if 'errors' in result:\n",
    "        errors = json.dumps(result['errors'])\n",
    "        notify('errors.log', f'{repo_name} :: {errors}', verbose=False)\n",
    "        check_rate_limit(rate_limit)\n",
    "        continue\n",
    "\n",
    "    repo_data = repo_data.apply(lambda x: x.dropna(), axis=1).mode()  # hax\n",
    "    readme_cols = repo_data.columns[repo_data.columns.str.startswith('readme')]\n",
    "    if len(readme_cols) > 0:\n",
    "        readme_col = readme_cols[0]\n",
    "        repo_data['readme'] = repo_data[readme_col]\n",
    "        repo_data = repo_data[repo_data.columns.difference(readme_cols)]\n",
    "\n",
    "    repo_data[['watchers', 'stargazers']] = repo_data[['watchers', 'stargazers']].astype(int)\n",
    "\n",
    "    document = repo_data.to_dict('records')[0]\n",
    "\n",
    "    document['owner'] = owner\n",
    "    document['name'] = name\n",
    "    document['py_libs'] = py_modules\n",
    "    document['r_libs'] = r_modules\n",
    "    document['_id'] = repo_name\n",
    "\n",
    "    now = datetime.now(tz=timezone.utc).isoformat()\n",
    "    document['last_updated_date'] = now\n",
    "\n",
    "    collection.update_one(\n",
    "        {\"_id\": document[\"_id\"]},\n",
    "        {\n",
    "            \"$setOnInsert\": {\"insertion_date\": now},\n",
    "            \"$set\": document\n",
    "        },\n",
    "        upsert=True,\n",
    "    )\n",
    "\n",
    "    check_rate_limit(rate_limit)\n",
    "    \n",
    "#     if rate_limit['remaining'] < 2:\n",
    "#         reset_at = rate_limit['resetAt']\n",
    "#         sleep_seconds = (pd.to_datetime(reset_at) - pd.to_datetime(datetime.now(tz=timezone.utc).isoformat())).total_seconds()\n",
    "#         sleep_seconds = sleep_seconds + 1\n",
    "#         notify('running.log', f'Rate limit below threshold. Rate refreshes at {reset_at} and the program will sleep for {sleep_seconds} seconds.', verbose=True)\n",
    "#         time.sleep(sleep_seconds)"
   ]
  },
  {
   "cell_type": "code",
   "execution_count": 43,
   "metadata": {},
   "outputs": [
    {
     "data": {
      "text/plain": [
       "577320"
      ]
     },
     "execution_count": 43,
     "metadata": {},
     "output_type": "execute_result"
    }
   ],
   "source": [
    "len(repo_names)"
   ]
  },
  {
   "cell_type": "markdown",
   "metadata": {},
   "source": [
    "# Old version"
   ]
  },
  {
   "cell_type": "code",
   "execution_count": null,
   "metadata": {},
   "outputs": [],
   "source": [
    "# %%time\n",
    "# for ix, repo_name in enumerate(r_module_docs.index):\n",
    "#     if repo_name in processed_repos:\n",
    "#         continue\n",
    "        \n",
    "#     notify('running.log', f'{ix + 1}. {repo_name}', verbose=False)\n",
    "#     r_modules = r_module_docs[repo_name]\n",
    "#     py_modules = py_module_docs[repo_name] if repo_name in py_module_docs.index else []\n",
    "    \n",
    "#     owner, name = repo_name.split('/')\n",
    "#     result = gql_get_repo_readme(owner=owner, name=name)\n",
    "\n",
    "#     repo_data = pd.DataFrame(result['data']['repository'])\n",
    "#     rate_limit = result['data']['rateLimit']\n",
    "    \n",
    "#     notify('rate_limit.log', f'{repo_name} :: {json.dumps(rate_limit)}', verbose=False)\n",
    "#     if 'errors' in result:\n",
    "#         errors = json.dumps(result['errors'])\n",
    "#         notify('errors.log', f'{repo_name} :: {errors}', verbose=False)\n",
    "#         continue\n",
    "\n",
    "#     if 'text' in repo_data.index:\n",
    "#         text = repo_data.loc['text'].dropna()\n",
    "#         rtype = text.index[text.index.str.startswith('readme')]\n",
    "#         text = text.rename(index={rtype[0]: 'readme', 'updatedAt': 'repo_updated_at'})\n",
    "#     else:\n",
    "#         text = repo_data.loc['id'].dropna()\n",
    "#         text['readme'] = ''\n",
    "#         text = text.rename(index={'updatedAt': 'repo_updated_at'})\n",
    "\n",
    "#     text['owner'] = owner\n",
    "#     text['name'] = name\n",
    "#     text['Python'] = py_modules\n",
    "#     text['R'] = r_modules\n",
    "#     text['_id'] = repo_name\n",
    "#     document = text.to_dict()\n",
    "\n",
    "#     now = datetime.now(tz=timezone.utc).isoformat()\n",
    "#     document['last_updated_date'] = now\n",
    "    \n",
    "#     collection.update_one(\n",
    "#         {\"_id\": document[\"_id\"]},\n",
    "#         {\n",
    "#             \"$setOnInsert\": {\"insertion_date\": now},\n",
    "#             \"$set\": document\n",
    "#         },\n",
    "#         upsert=True,\n",
    "#     )\n",
    "    \n",
    "#     if rate_limit['remaining'] < 2:\n",
    "#         reset_at = rate_limit['resetAt']\n",
    "#         sleep_seconds = (pd.to_datetime(reset_at) - pd.to_datetime(datetime.now(tz=timezone.utc).isoformat())).total_seconds()\n",
    "#         sleep_seconds = sleep_seconds + 5\n",
    "#         notify('running.log', f'Rate limit below threshold. Rate refreshes at {reset_at} and the program will sleep for {sleep_seconds} seconds.', verbose=True)\n",
    "#         time.sleep(sleep_seconds)"
   ]
  },
  {
   "cell_type": "markdown",
   "metadata": {},
   "source": [
    "# Raw query examples"
   ]
  },
  {
   "cell_type": "code",
   "execution_count": null,
   "metadata": {},
   "outputs": [],
   "source": [
    "# \"mcaceresb\", name: \"stata-gtools\"\n",
    "result = gql_get_repo_readme(owner='mcaceresb', name='stata-gtools')\n",
    "# result = gql_get_repo_readme(owner='LisaNeef', name='ClimateInGermany')  # No readme"
   ]
  },
  {
   "cell_type": "code",
   "execution_count": null,
   "metadata": {},
   "outputs": [],
   "source": [
    "repo_data = pd.DataFrame(result['data']['repository'])\n",
    "\n",
    "repo_data = repo_data.apply(lambda x: x.dropna(), axis=1).mode()  # hax\n",
    "readme_cols = repo_data.columns[repo_data.columns.str.startswith('readme')]\n",
    "if len(readme_cols) > 0:\n",
    "    readme_col = readme_cols[0]\n",
    "    repo_data['readme'] = repo_data[readme_col]\n",
    "    repo_data = repo_data[repo_data.columns.difference(readme_cols)]\n",
    "repo_data[['watchers', 'stargazers']] = repo_data[['watchers', 'stargazers']].astype(int)"
   ]
  },
  {
   "cell_type": "code",
   "execution_count": 3,
   "metadata": {},
   "outputs": [
    {
     "name": "stdout",
     "output_type": "stream",
     "text": [
      "{'data': {'rateLimit': {'cost': 1,\n",
      "                        'limit': 5000,\n",
      "                        'remaining': 4999,\n",
      "                        'resetAt': '2019-11-24T04:45:28Z'},\n",
      "          'repository': {'description': 'This is the Stata cookbook for '\n",
      "                                        '“Introduction to Data Science” in the '\n",
      "                                        'M.Sc. Public Policy & Human '\n",
      "                                        'Development.',\n",
      "                         'fork_count': 27,\n",
      "                         'homepage_url': 'https://www.maastrichtuniversity.nl/education/master/master-public-policy-and-human-development',\n",
      "                         'languages': {'edges': [{'node': {'name': 'Stata'}}]},\n",
      "                         'license_info': {'name': 'MIT License'},\n",
      "                         'owner': {'id': 'MDQ6VXNlcjExNTQ1Mzgy'},\n",
      "                         'primary_language': {'name': 'Stata'},\n",
      "                         'readme0': None,\n",
      "                         'readme1': None,\n",
      "                         'readme10': None,\n",
      "                         'readme11': None,\n",
      "                         'readme12': None,\n",
      "                         'readme13': None,\n",
      "                         'readme14': None,\n",
      "                         'readme15': None,\n",
      "                         'readme16': None,\n",
      "                         'readme17': None,\n",
      "                         'readme18': None,\n",
      "                         'readme19': None,\n",
      "                         'readme2': None,\n",
      "                         'readme20': None,\n",
      "                         'readme21': None,\n",
      "                         'readme22': None,\n",
      "                         'readme23': None,\n",
      "                         'readme24': None,\n",
      "                         'readme25': None,\n",
      "                         'readme26': None,\n",
      "                         'readme27': None,\n",
      "                         'readme28': None,\n",
      "                         'readme29': None,\n",
      "                         'readme3': None,\n",
      "                         'readme30': None,\n",
      "                         'readme31': None,\n",
      "                         'readme4': {'text': '# Welcome to the Stata Cookbook '\n",
      "                                             'for Introduction to Data '\n",
      "                                             'Science\\n'\n",
      "                                             '\\n'\n",
      "                                             '## Introduction\\n'\n",
      "                                             '\\n'\n",
      "                                             'During the course “Introduction '\n",
      "                                             'to Data Science”, we will build '\n",
      "                                             'our very own Stata Cookbook. '\n",
      "                                             'This repository will hold a '\n",
      "                                             'collection of useful Stata '\n",
      "                                             'commands with notes on when and '\n",
      "                                             'how to use them.\\n'\n",
      "                                             '\\n'\n",
      "                                             'We encourage you to use the '\n",
      "                                             'joint Stata Cookbook for this '\n",
      "                                             'course to build your own '\n",
      "                                             'personal cookbook. Our shared '\n",
      "                                             'collection of commands will '\n",
      "                                             'cover most of the commands you '\n",
      "                                             'will be using throughout the '\n",
      "                                             'course, but there are good '\n",
      "                                             'reasons to build on that '\n",
      "                                             'foundation: perhaps you want to '\n",
      "                                             'augment our notes on how to use '\n",
      "                                             'commands, so that they are more '\n",
      "                                             'clear or fit your preferred use '\n",
      "                                             'better. Perhaps you found a '\n",
      "                                             'useful commands or tricks online '\n",
      "                                             'and you want to include them in '\n",
      "                                             'your personal cookbook. Most '\n",
      "                                             'importantly, once “Introduction '\n",
      "                                             'to Data Science” ends, you will '\n",
      "                                             'continue to use Stata in other '\n",
      "                                             'courses. Having your own '\n",
      "                                             'personal cookbook allows you to '\n",
      "                                             'keep adding new commands and '\n",
      "                                             'notes.\\n'\n",
      "                                             '\\n'\n",
      "                                             '## Get your copy\\n'\n",
      "                                             '\\n'\n",
      "                                             'This repository always holds the '\n",
      "                                             'most up-to-date version of our '\n",
      "                                             'cookbook. There are two '\n",
      "                                             'identical versions of the '\n",
      "                                             'cookbook.\\n'\n",
      "                                             '\\n'\n",
      "                                             'You can get [the entire cookbook '\n",
      "                                             'in one '\n",
      "                                             'file](https://github.com/lfkrebs/stata-cookbook/blob/master/all-in-one.do) '\n",
      "                                             '([download](https://raw.githubusercontent.com/lfkrebs/stata-cookbook/master/all-in-one.do)), '\n",
      "                                             'or you can get parts of the '\n",
      "                                             'cookbook grouped by topic:\\n'\n",
      "                                             '\\n'\n",
      "                                             '1. '\n",
      "                                             '[intro.do](https://github.com/lfkrebs/stata-cookbook/blob/master/intro.do) '\n",
      "                                             '([download](https://raw.githubusercontent.com/lfkrebs/stata-cookbook/master/intro.do))\\n'\n",
      "                                             '2. '\n",
      "                                             '[logging.do](https://github.com/lfkrebs/stata-cookbook/blob/master/logging.do) '\n",
      "                                             '([download](https://raw.githubusercontent.com/lfkrebs/stata-cookbook/master/logging.do))\\n'\n",
      "                                             '3. '\n",
      "                                             '[importing.do](https://github.com/lfkrebs/stata-cookbook/blob/master/importing.do) '\n",
      "                                             '([download](https://raw.githubusercontent.com/lfkrebs/stata-cookbook/master/importing.do))\\n'\n",
      "                                             '4. '\n",
      "                                             '[labeling.do](https://github.com/lfkrebs/stata-cookbook/blob/master/labeling.do) '\n",
      "                                             '([download](https://raw.githubusercontent.com/lfkrebs/stata-cookbook/master/labeling.do))\\n'\n",
      "                                             '5. '\n",
      "                                             '[graphing.do](https://github.com/lfkrebs/stata-cookbook/blob/master/graphing.do) '\n",
      "                                             '([download](https://raw.githubusercontent.com/lfkrebs/stata-cookbook/master/graphing.do))\\n'\n",
      "                                             '6. '\n",
      "                                             '[ideal.do](https://github.com/lfkrebs/stata-cookbook/blob/master/ideal.do) '\n",
      "                                             '([download](https://raw.githubusercontent.com/lfkrebs/stata-cookbook/master/ideal.do))\\n'\n",
      "                                             '\\n'\n",
      "                                             'Additional components on '\n",
      "                                             'manipuating variables, '\n",
      "                                             'describing, estimating and '\n",
      "                                             'testing are forthcoming and will '\n",
      "                                             'be added both as individual '\n",
      "                                             'do-files and to the all-in-one '\n",
      "                                             'version.\\n'\n",
      "                                             '\\n'\n",
      "                                             'Are you used to working with '\n",
      "                                             'GitHub? You can also [clone the '\n",
      "                                             'entire '\n",
      "                                             'repository](https://github.com/lfkrebs/stata-cookbook.git) '\n",
      "                                             'to get your own versioned copy '\n",
      "                                             'of the cookbook.\\n'\n",
      "                                             '\\n'\n",
      "                                             '## Contribute\\n'\n",
      "                                             '\\n'\n",
      "                                             'Our cookbook is meant to be a '\n",
      "                                             'collaborative effort. If you '\n",
      "                                             'found a useful command or trick '\n",
      "                                             'elsewhere, or if you have useful '\n",
      "                                             'additions to the notes, you can '\n",
      "                                             'contribute them to the shared '\n",
      "                                             'cookbook for the benefit of '\n",
      "                                             'everyone!\\n'\n",
      "                                             '\\n'\n",
      "                                             'There are two ways to '\n",
      "                                             'contribute:\\n'\n",
      "                                             '\\n'\n",
      "                                             '1. If you are a GitHub user, use '\n",
      "                                             'the regular GitHub workflow for '\n",
      "                                             'contributing to projects: [fork '\n",
      "                                             'the '\n",
      "                                             'repository](http://guides.github.com/activities/forking/), '\n",
      "                                             'use a [branch to add your '\n",
      "                                             'contribution](http://guides.github.com/introduction/flow/), '\n",
      "                                             'then [send us your changes with '\n",
      "                                             'a pull '\n",
      "                                             'request](https://help.github.com/articles/using-pull-requests/).\\n'\n",
      "                                             '2. If you are not a GitHub user, '\n",
      "                                             'you can simply [mail in your '\n",
      "                                             'contribution](mailto:krebs@merit.unu.edu).\\n'},\n",
      "                         'readme5': None,\n",
      "                         'readme6': None,\n",
      "                         'readme7': None,\n",
      "                         'readme8': None,\n",
      "                         'readme9': None,\n",
      "                         'repo_created_at': '2015-09-28T14:45:18Z',\n",
      "                         'repo_id': 'MDEwOlJlcG9zaXRvcnk0MzMwNjkxNg==',\n",
      "                         'repo_updated_at': '2019-10-30T17:24:56Z',\n",
      "                         'stargazers': {'stars_count': 47},\n",
      "                         'topics': {'edges': []},\n",
      "                         'watchers': {'watchers_count': 13}}}}\n"
     ]
    }
   ],
   "source": [
    "# README.md\n",
    "\n",
    "result = gql_get_repo_readme(owner='lfkrebs', name='stata-cookbook')\n",
    "pprint(result)"
   ]
  },
  {
   "cell_type": "code",
   "execution_count": null,
   "metadata": {},
   "outputs": [],
   "source": [
    "# # README.rst\n",
    "\n",
    "# result = gql_get_repo_readme(owner='Ogeon', name='Climate-Visualizer')\n",
    "# pprint(result)"
   ]
  },
  {
   "cell_type": "code",
   "execution_count": null,
   "metadata": {},
   "outputs": [],
   "source": []
  },
  {
   "cell_type": "code",
   "execution_count": null,
   "metadata": {},
   "outputs": [],
   "source": [
    "# import certifi\n",
    "# certifi.where()"
   ]
  },
  {
   "cell_type": "code",
   "execution_count": null,
   "metadata": {},
   "outputs": [],
   "source": [
    "# import os\n",
    "# os.environ['REQUESTS_CA_BUNDLE'] = os.path.join(\n",
    "#     '/etc/ssl/certs/',\n",
    "#     'ca-bundle.crt')\n",
    "\n",
    "# os.environ['REQUESTS_CA_BUNDLE'] = os.path.join(\n",
    "#     '/home/wb536061/wbes2474/NLP/SCRIPTS/github',\n",
    "#     'intermediate-certs.pem')\n",
    "\n",
    "# os.environ['SSL_CERT_FILE'] = os.path.join(\n",
    "#     '/home/wb536061/wbes2474/NLP/SCRIPTS/github',\n",
    "#     'wbg-github.cer')"
   ]
  },
  {
   "cell_type": "code",
   "execution_count": null,
   "metadata": {},
   "outputs": [],
   "source": [
    "# request.content\n",
    "# b'{\"message\":\"This endpoint requires you to be authenticated.\",\"documentation_url\":\"https://developer.github.com/v3/#authentication\"}'"
   ]
  }
 ],
 "metadata": {
  "kernelspec": {
   "display_name": "Python 3",
   "language": "python",
   "name": "python3"
  },
  "language_info": {
   "codemirror_mode": {
    "name": "ipython",
    "version": 3
   },
   "file_extension": ".py",
   "mimetype": "text/x-python",
   "name": "python",
   "nbconvert_exporter": "python",
   "pygments_lexer": "ipython3",
   "version": "3.8.3-final"
  }
 },
 "nbformat": 4,
 "nbformat_minor": 4
}