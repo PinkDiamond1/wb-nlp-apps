{
 "metadata": {
  "language_info": {
   "codemirror_mode": {
    "name": "ipython",
    "version": 3
   },
   "file_extension": ".py",
   "mimetype": "text/x-python",
   "name": "python",
   "nbconvert_exporter": "python",
   "pygments_lexer": "ipython3",
   "version": "3.8.5-final"
  },
  "orig_nbformat": 2,
  "kernelspec": {
   "name": "wb_nlp",
   "display_name": "wb_nlp"
  }
 },
 "nbformat": 4,
 "nbformat_minor": 2,
 "cells": [
  {
   "cell_type": "code",
   "execution_count": 1,
   "metadata": {},
   "outputs": [],
   "source": [
    "import dask\n",
    "import dask.bag as db\n",
    "import dask.dataframe as dd\n",
    "from dask.distributed import get_worker\n",
    "from dask.distributed import Client, LocalCluster, progress\n"
   ]
  },
  {
   "cell_type": "code",
   "execution_count": 2,
   "metadata": {},
   "outputs": [],
   "source": [
    "# cluster.close()"
   ]
  },
  {
   "cell_type": "code",
   "execution_count": 3,
   "metadata": {},
   "outputs": [
    {
     "output_type": "execute_result",
     "data": {
      "text/plain": "<Client: 'tcp://127.0.0.1:33489' processes=4 threads=4, memory=24.00 GB>",
      "text/html": "<table style=\"border: 2px solid white;\">\n<tr>\n<td style=\"vertical-align: top; border: 0px solid white\">\n<h3 style=\"text-align: left;\">Client</h3>\n<ul style=\"text-align: left; list-style: none; margin: 0; padding: 0;\">\n  <li><b>Scheduler: </b>tcp://127.0.0.1:33489</li>\n  <li><b>Dashboard: </b><a href='http://127.0.0.1:8787/status' target='_blank'>http://127.0.0.1:8787/status</a></li>\n</ul>\n</td>\n<td style=\"vertical-align: top; border: 0px solid white\">\n<h3 style=\"text-align: left;\">Cluster</h3>\n<ul style=\"text-align: left; list-style:none; margin: 0; padding: 0;\">\n  <li><b>Workers: </b>4</li>\n  <li><b>Cores: </b>4</li>\n  <li><b>Memory: </b>24.00 GB</li>\n</ul>\n</td>\n</tr>\n</table>"
     },
     "metadata": {},
     "execution_count": 3
    }
   ],
   "source": [
    "# client = Client(processes=False)\n",
    "cluster = LocalCluster(n_workers=4, threads_per_worker=1, memory_limit='6GB', processes=True)\n",
    "client = Client(cluster)\n",
    "# client = Client()\n",
    "client"
   ]
  },
  {
   "cell_type": "code",
   "execution_count": 4,
   "metadata": {},
   "outputs": [],
   "source": [
    "# client.close()\n",
    "# cluster.close()"
   ]
  },
  {
   "cell_type": "code",
   "execution_count": 5,
   "metadata": {},
   "outputs": [],
   "source": [
    "import glob\n",
    "import pickle\n",
    "import spacy\n",
    "import pandas as pd\n",
    "\n",
    "from wb_nlp import dir_manager, config as conf\n",
    "from wb_nlp.cleaning import cleaner"
   ]
  },
  {
   "cell_type": "code",
   "execution_count": 6,
   "metadata": {},
   "outputs": [
    {
     "output_type": "execute_result",
     "data": {
      "text/plain": "(107, '/workspace/data/preprocessed/sample_data/TXT_SAMPLE/wb_13720575.txt')"
     },
     "metadata": {},
     "execution_count": 6
    }
   ],
   "source": [
    "SOURCE_DIR = dir_manager.get_data_dir('raw', 'sample_data', 'TXT_SAMPLE')\n",
    "TARGET_DIR = dir_manager.get_data_dir('preprocessed', 'sample_data', 'TXT_SAMPLE')\n",
    "\n",
    "# Create TARGET_DIR if not available\n",
    "if not os.path.isdir(TARGET_DIR):\n",
    "    os.makedirs(TARGET_DIR)\n",
    "\n",
    "f = [f for f in glob.glob(os.path.join(SOURCE_DIR, '*.txt'))]\n",
    "len(f), f[0].replace(SOURCE_DIR, TARGET_DIR)"
   ]
  },
  {
   "cell_type": "code",
   "execution_count": 7,
   "metadata": {},
   "outputs": [],
   "source": [
    "def dask_clean_file(f):\n",
    "\n",
    "    worker = get_worker()\n",
    "\n",
    "    try:\n",
    "        nlp = worker.nlp\n",
    "        lda_cleaner = worker.lda_cleaner\n",
    "    except AttributeError:\n",
    "        nlp = spacy.load(\"en_core_web_sm\", exclude=[\"parser\"])\n",
    "        lda_cleaner = cleaner.LDACleaner(conf.get_config(conf.default_config))\n",
    "        worker.nlp = nlp\n",
    "        worker.lda_cleaner = lda_cleaner\n",
    "\n",
    "    with open(f, \"rb\") as fl:\n",
    "        text = fl.read().decode(\"utf-8\", errors=\"ignore\")\n",
    "        tokens = lda_cleaner.get_tokens_and_phrases(text)\n",
    "\n",
    "        f = f.replace(SOURCE_DIR, TARGET_DIR)\n",
    "\n",
    "        with open(f + \".pickle\", \"wb\") as ff:\n",
    "            pickle.dump(tokens, ff)\n",
    "\n",
    "    return True"
   ]
  },
  {
   "cell_type": "code",
   "execution_count": 15,
   "metadata": {},
   "outputs": [
    {
     "output_type": "execute_result",
     "data": {
      "text/plain": "<module 'wb_nlp.cleaning.cleaner' from '/workspace/src/wb_nlp/cleaning/cleaner.py'>"
     },
     "metadata": {},
     "execution_count": 15
    }
   ],
   "source": [
    "import importlib\n",
    "importlib.reload(cleaner)"
   ]
  },
  {
   "cell_type": "code",
   "execution_count": 16,
   "metadata": {},
   "outputs": [],
   "source": [
    "nlp = spacy.load(\"en_core_web_sm\", disable=[\"parser\"])\n",
    "# Fine to increase max_length since we're not using the NER and the parser.\n",
    "# nlp.max_length = int(1e9)\n",
    "lda_cleaner = cleaner.LDACleaner(conf.get_config(conf.default_config))\n",
    "\n",
    "\n",
    "def joblib_clean_file(f):\n",
    "\n",
    "    with open(f, \"rb\") as fl:\n",
    "        text = fl.read().decode(\"utf-8\", errors=\"ignore\")\n",
    "        tokens = lda_cleaner.get_tokens_and_phrases(text)\n",
    "\n",
    "        f = f.replace(SOURCE_DIR, TARGET_DIR)\n",
    "\n",
    "        with open(f + \".pickle\", \"wb\") as ff:\n",
    "            pickle.dump(tokens, ff)\n",
    "\n",
    "    return True"
   ]
  },
  {
   "cell_type": "code",
   "execution_count": 9,
   "metadata": {
    "tags": []
   },
   "outputs": [
    {
     "output_type": "stream",
     "name": "stdout",
     "text": "CPU times: user 6.8 ms, sys: 6.59 ms, total: 13.4 ms\nWall time: 32.7 ms\n"
    }
   ],
   "source": [
    "%%time\n",
    "with open(os.path.join(SOURCE_DIR, 'wb_725385.txt'), 'rb') as l:\n",
    "    text = l.read().decode('utf-8', errors='ignore')\n",
    "# tokens = lda_cleaner.get_tokens_and_phrases(text)\n"
   ]
  },
  {
   "cell_type": "code",
   "execution_count": 19,
   "metadata": {
    "tags": []
   },
   "outputs": [
    {
     "output_type": "stream",
     "name": "stdout",
     "text": "CPU times: user 16.6 s, sys: 14.9 s, total: 31.6 s\nWall time: 30.2 s\n"
    }
   ],
   "source": [
    "%%time\n",
    "\n",
    "# doc = nlp(text)\n",
    "doc = lda_cleaner.text_to_doc(text)"
   ]
  },
  {
   "cell_type": "code",
   "execution_count": 28,
   "metadata": {
    "tags": []
   },
   "outputs": [
    {
     "output_type": "stream",
     "name": "stdout",
     "text": "report report VERB \nno no INTJ \n. . NOUN \n4366-th 4366-th NUM CARDINAL\nf F PROPN \nthailand Thailand PROPN \nnaanaging naanage VERB \npublic public ADJ \nresources resource NOUN \nfor for ADP \nstructural Structural PROPN \nadjustment Adjustment PROPN \n( ( PUNCT \nin in ADP \ntwo two NUM CARDINAL\nvolumes Volumes PROPN \n) ) PUNCT \nvolume volume NOUN \ni -PRON- PRON \npart part NOUN \ni -PRON- PRON \nrecent recent ADJ \neconomic economic ADJ \ndevelopments Developments PROPN \nand and CCONJ \nm1edium m1edium NUM \nterm Term PROPN \noutlook Outlook PROPN \npart Part PROPN \nii II PROPN \n. . PUNCT \npublic Public PROPN \nresource Resource PROPN \nmanagement Management PROPN \nand and CCONJ \nplanning Planning PROPN \npart Part PROPN \nill. Illinois PROPN \nsectoral Sectoral PROPN \nadjustment Adjustment PROPN \n: : PUNCT \npolicy Policy PROPN \nissues Issues PROPN \nand and CCONJ \ninvestment Investment PROPN \nprograms Programs PROPN \naugust August PROPN DATE\n31 31 NUM DATE\n, , PUNCT DATE\n1983 1983 NUM DATE\ncountry Country PROPN ORG\nprograms Programs PROPN ORG\ndepartment Department PROPN ORG\neast East PROPN LOC\nasia Asia PROPN LOC\nand and CCONJ \npacific Pacific PROPN ORG\nregional Regional PROPN ORG\noffice Office PROPN ORG\nfor for ADP \nofficial official ADJ \nuse use NOUN \nonly only ADV \ndocument document NOUN \nof of ADP \nthe the DET ORG\nworld World PROPN ORG\nbank Bank PROPN ORG\nthis this DET \ndocument document NOUN \nhas have AUX \na a DET \nrestricted restrict VERB \ndistribution distribution NOUN \nand and CCONJ \nmay may VERB \nbe be AUX \nused use VERB \nby by ADP \nrecipients recipient NOUN \nonily onily ADV \nin in ADP \nthe the DET \nperformance performance NOUN \nof of ADP \ntheir -PRON- DET \nofficial official ADJ \nduties duty NOUN \n. . PUNCT \nits -PRON- DET \ncontents content NOUN \nmay may VERB \nnot not PART \nothierwise othierwise VERB \nbe be AUX \ndisclosed disclose VERB \nwithout without ADP \nworld World PROPN ORG\nbank Bank PROPN ORG\nauthorization authorization NOUN \n. . PUNCT \ncurrency CURRENCY VERB \nequivalents EQUIVALENTS PROPN \nas as SCONJ \nof of ADP \njuly July PROPN DATE\n15 15 NUM DATE\n, , PUNCT \n1q81 1q81 NUM CARDINAL\n1 1 NUM CARDINAL\nbaht Baht PROPN \n= = PUNCT \nus$ us$ SYM \n0.043 0.043 NUM MONEY\n23 23 NUM CARDINAL\nbaht baht NOUN \n3 3 NUM CARDINAL\nus$ us$ SYM \n1.00 1.00 NUM MONEY\nfiscal fiscal NOUN \nyear year NOUN \noctober October PROPN DATE\n1 1 NUM DATE\nto to ADP DATE\nseptember September PROPN DATE\n30 30 NUM DATE\nweights WEIGHTS PROPN \nand and CCONJ \nmeasures MEASURES PROPN \nbpd bpd NOUN \n= = PUNCT \nbarrels barrel NOUN TIME\nper per ADP \nday day NOUN \nmmscfd MMSCFD PROPN ORG\n= = SYM \nmillion million NUM CARDINAL\nstandard standard ADJ QUANTITY\ncubic cubic ADJ QUANTITY\nfeet foot NOUN QUANTITY\nper per ADP \nday day NOUN \ntcf tcf NOUN \n= = PUNCT \ntrillion trillion NUM FAC\ncubic cubic ADJ FAC\nfeet foot NOUN FAC\nmt mt NOUN \n= = PUNCT \nmetric metric ADJ FAC\nton ton NOUN FAC\nbbl bbl NOUN \n= = PUNCT \nbarrels Barrels PROPN PERSON\n( ( PUNCT \napprox approx NOUN \n. . PUNCT \n6.6 6.6 NUM QUANTITY\nbarrels barrel NOUN QUANTITY\nper per ADP \nton ton NOUN \nfuel fuel NOUN \noil oil NOUN \n) ) PUNCT \nbtu btu NOUN ORG\n= = PUNCT \nbritish British PROPN ORG\nthermal Thermal PROPN ORG\nunit Unit PROPN ORG\n( ( PUNCT \nequal equal ADJ \nto to ADP \n0.25 0.25 NUM CARDINAL\nkcals kcal NOUN \n) ) PUNCT \ntoe toe NOUN \n= = PUNCT \ntons ton NOUN QUANTITY\noil oil NOUN \nequivalent equivalent NOUN \n= = SYM \n10.2 10.2 NUM QUANTITY\nx x SYM QUANTITY\n106 106 NUM QUANTITY\nkcals kcal NOUN QUANTITY\n- - PUNCT \n40.5 40.5 NUM \nx x SYM \n106 106 NUM \nbtus Btus PROPN \n- - PUNCT \n4.0 4.0 NUM \nx x SYM \n103 103 NUM CARDINAL\nkwh Kwh PROPN \nof of ADP \nprimary primary ADJ \nelectricity electricity NOUN \nat at ADP \nthermal thermal ADJ \nreplacement replacement NOUN \nvalue value NOUN \n- - PUNCT \n40.92 40.92 NUM QUANTITY\nx x SYM QUANTITY\nlo lO PROPN QUANTITY\ncubic cubic ADJ QUANTITY\nfeet foot NOUN QUANTITY\nnatural natural ADJ \ngas gas NOUN \n4.03 4.03 NUM QUANTITY\ntons ton NOUN QUANTITY\nof of ADP \nlignite lignite NOUN \ni -PRON- PRON \nrai rai VERB \n= = SYM \n0.40 0.40 NUM QUANTITY\nacres acre NOUN QUANTITY\ni i PRON \nacre acre NOUN \n= = SYM \n0.41 0.41 NUM QUANTITY\nhectares hectare NOUN QUANTITY\n( ( PUNCT \nha ha INTJ \n) ) PUNCT \nfor for ADP \nofiicial OFIICIAL PROPN ORG\nuse use NOUN ORG\nonly only ADV \nforeword FOREWORD PROPN \nthies ThiEs PROPN \nreport Report PROPN \nwas be AUX \nprepared prepare VERB \nby by ADP \na a DET \nmission mission NOUN \nthat that DET \nvisited visit VERB \nthailand Thailand PROPN GPE\nin in ADP \njune June PROPN DATE\n1982 1982 NUM DATE\n. . PUNCT \nthie Thie PROPN \nmission Mission PROPN \nconsisted consist VERB \nof of ADP \njohannes Johannes PROPN PERSON\nlinn Linn PROPN PERSON\n( ( PUNCT \nmission Mission PROPN \n"
    }
   ],
   "source": [
    "for t in doc:\n",
    "    if t.pos_ == 'SPACE':\n",
    "        continue\n",
    "    print(t.lower_, t.lemma_, t.pos_, t.ent_type_)\n",
    "    if t.i > 300:\n",
    "        break"
   ]
  },
  {
   "cell_type": "code",
   "execution_count": 21,
   "metadata": {
    "tags": []
   },
   "outputs": [
    {
     "output_type": "stream",
     "name": "stdout",
     "text": "CPU times: user 20.8 s, sys: 8.01 s, total: 28.9 s\nWall time: 28.7 s\n"
    }
   ],
   "source": [
    "%%time\n",
    "tokens = lda_cleaner.get_clean_tokens(text)"
   ]
  },
  {
   "cell_type": "code",
   "execution_count": 23,
   "metadata": {},
   "outputs": [
    {
     "output_type": "execute_result",
     "data": {
      "text/plain": "['maybe', 'good']"
     },
     "metadata": {},
     "execution_count": 23
    }
   ],
   "source": [
    "cleaner.respelling.wordninja.split('maybegood')"
   ]
  },
  {
   "cell_type": "code",
   "execution_count": 22,
   "metadata": {},
   "outputs": [
    {
     "output_type": "execute_result",
     "data": {
      "text/plain": "['report',\n 'volume',\n 'part',\n 'recent',\n 'economic',\n 'development',\n 'document',\n 'restricted',\n 'distribution',\n 'maybe',\n 'recipient',\n 'lying',\n 'performance',\n 'official',\n 'duty',\n 'content',\n 'otherwise',\n 'disclose',\n 'authorization',\n 'currency',\n 'baht',\n 'day',\n 'day',\n 'cf',\n 'metric',\n 'ton',\n 'bbl',\n 'approx',\n 'pert',\n 'fuel',\n 'oil',\n 'equal',\n 'cal',\n 'toe',\n 'oil',\n 'equivalent',\n 'primary',\n 'electricity',\n 'thermal',\n 'replacement',\n 'value',\n 'natural',\n 'gas',\n 'lignite',\n 'acre',\n 'prepare',\n 'mission',\n 'visit',\n 'consist',\n 'industry',\n 'consultant',\n 'consultant',\n 'join',\n 'support',\n 'mission',\n 'lead',\n 'identification',\n 'mission',\n 'overlap',\n 'economic',\n 'mission',\n 'term',\n 'timing',\n 'staffing',\n 'closely',\n 'associate',\n 'work',\n 'visit',\n 'assist',\n 'writing',\n 'mission',\n 'furthermore',\n 'greatly',\n 'assist',\n 'particular',\n 'official',\n 'draft',\n 'version',\n 'discuss',\n 'mission',\n 'lead',\n 'include',\n 'discussion',\n 'assistive',\n 'document',\n 'restricted',\n 'distribution',\n 'maybe',\n 'try',\n 'recipient',\n 'content',\n 'auscultation',\n 'review',\n 'economic',\n 'adjustment',\n 'international',\n 'economic',\n 'change',\n 'occur',\n 'retrospective']"
     },
     "metadata": {},
     "execution_count": 22
    }
   ],
   "source": [
    "tokens[:100]"
   ]
  },
  {
   "cell_type": "code",
   "execution_count": 15,
   "metadata": {},
   "outputs": [
    {
     "output_type": "execute_result",
     "data": {
      "text/plain": "['report',\n 'Thailand',\n 'managing',\n 'Public',\n 'Resources',\n 'Structural',\n 'Adjustment',\n 'Volumes',\n 'volume',\n 'part',\n 'recent',\n 'economic',\n 'development',\n 'um',\n 'Term',\n 'Outlook',\n 'Public',\n 'Resource',\n 'Management',\n 'Planning',\n 'pectoral',\n 'Adjustment',\n 'Policy',\n 'Issues',\n 'Investment',\n 'Programs',\n 'Programs',\n 'Department',\n 'East',\n 'Asia',\n 'document',\n 'restricted',\n 'distribution',\n 'maybe',\n 'recipient',\n 'lying',\n 'performance',\n 'official',\n 'duty',\n 'content',\n 'otherwise',\n 'disclose',\n 'authorization',\n 'currency',\n 'EQUIVALENTS',\n 'Baht',\n 'baht',\n 'FISCAL',\n 'YEAR',\n 'WEIGHTS',\n 'MEASURES',\n 'day',\n 'day',\n 'cf',\n 'Mt',\n 'metric',\n 'ton',\n 'bbl',\n 'approx',\n 'pert',\n 'fuel',\n 'oil',\n 'Btu',\n 'equal',\n 'cal',\n 'toe',\n 'oil',\n 'equivalent',\n 'primary',\n 'electricity',\n 'thermal',\n 'replacement',\n 'value',\n 'natural',\n 'gas',\n 'lignite',\n 'acre',\n 'ha',\n 'prepare',\n 'mission',\n 'visit',\n 'hie',\n 'Mission',\n 'consist',\n 'Mission',\n 'Chief',\n 'Foreign',\n 'Public',\n 'Debt',\n 'Public',\n 'Expenditures',\n 'Energy',\n 'Transport',\n 'Macroeconomics',\n 'Energy',\n 'Agriculture',\n 'Foreign',\n 'Public',\n 'Debt',\n 'Agricultural']"
     },
     "metadata": {},
     "execution_count": 15
    }
   ],
   "source": [
    "tokens[:100]"
   ]
  },
  {
   "cell_type": "code",
   "execution_count": 10,
   "metadata": {},
   "outputs": [],
   "source": [
    "from joblib import Parallel, delayed\n",
    "import joblib"
   ]
  },
  {
   "cell_type": "code",
   "execution_count": 11,
   "metadata": {
    "tags": []
   },
   "outputs": [],
   "source": [
    "# %%time\n",
    "\n",
    "# # with Parallel(n_jobs=4, backend='dask') as parallel:\n",
    "# #     res = parallel(delayed(joblib_clean_file)(i) for i in f)\n",
    "\n",
    "# with joblib.parallel_backend('dask'):\n",
    "#     res = Parallel(verbose=10)(delayed(joblib_clean_file)(i) for i in f)\n",
    "\n",
    "# res = all(res)  # set([i for i in itertools.chain.from_iterable(res)])\n",
    "# # len(res)\n",
    "# res"
   ]
  },
  {
   "cell_type": "code",
   "execution_count": null,
   "metadata": {},
   "outputs": [],
   "source": []
  },
  {
   "cell_type": "code",
   "execution_count": 12,
   "metadata": {},
   "outputs": [],
   "source": [
    "b = db.from_sequence(f, npartitions=8)\n",
    "file_reader = b.map(dask_clean_file)"
   ]
  },
  {
   "cell_type": "code",
   "execution_count": 13,
   "metadata": {
    "tags": []
   },
   "outputs": [
    {
     "output_type": "stream",
     "name": "stderr",
     "text": "distributed.nanny - WARNING - Restarting worker\ndistributed.nanny - WARNING - Restarting worker\ndistributed.nanny - WARNING - Restarting worker\ndistributed.nanny - WARNING - Restarting worker\ndistributed.nanny - WARNING - Restarting worker\ndistributed.nanny - WARNING - Restarting worker\ndistributed.nanny - WARNING - Restarting worker\ndistributed.nanny - WARNING - Restarting worker\n"
    },
    {
     "output_type": "error",
     "ename": "KilledWorker",
     "evalue": "(\"('dask_clean_file-all-part-6d6513d7a6e5ef3a9764ef5cf528b2a1', 3)\", <Worker 'tcp://127.0.0.1:42039', name: 0, memory: 0, processing: 1>)",
     "traceback": [
      "\u001b[0;31m---------------------------------------------------------------------------\u001b[0m",
      "\u001b[0;31mKilledWorker\u001b[0m                              Traceback (most recent call last)",
      "\u001b[0;32m<timed exec>\u001b[0m in \u001b[0;36m<module>\u001b[0;34m\u001b[0m\n",
      "\u001b[0;32m/opt/conda/envs/dev/lib/python3.8/site-packages/dask/base.py\u001b[0m in \u001b[0;36mcompute\u001b[0;34m(self, **kwargs)\u001b[0m\n\u001b[1;32m    164\u001b[0m         \u001b[0mdask\u001b[0m\u001b[0;34m.\u001b[0m\u001b[0mbase\u001b[0m\u001b[0;34m.\u001b[0m\u001b[0mcompute\u001b[0m\u001b[0;34m\u001b[0m\u001b[0;34m\u001b[0m\u001b[0m\n\u001b[1;32m    165\u001b[0m         \"\"\"\n\u001b[0;32m--> 166\u001b[0;31m         \u001b[0;34m(\u001b[0m\u001b[0mresult\u001b[0m\u001b[0;34m,\u001b[0m\u001b[0;34m)\u001b[0m \u001b[0;34m=\u001b[0m \u001b[0mcompute\u001b[0m\u001b[0;34m(\u001b[0m\u001b[0mself\u001b[0m\u001b[0;34m,\u001b[0m \u001b[0mtraverse\u001b[0m\u001b[0;34m=\u001b[0m\u001b[0;32mFalse\u001b[0m\u001b[0;34m,\u001b[0m \u001b[0;34m**\u001b[0m\u001b[0mkwargs\u001b[0m\u001b[0;34m)\u001b[0m\u001b[0;34m\u001b[0m\u001b[0;34m\u001b[0m\u001b[0m\n\u001b[0m\u001b[1;32m    167\u001b[0m         \u001b[0;32mreturn\u001b[0m \u001b[0mresult\u001b[0m\u001b[0;34m\u001b[0m\u001b[0;34m\u001b[0m\u001b[0m\n\u001b[1;32m    168\u001b[0m \u001b[0;34m\u001b[0m\u001b[0m\n",
      "\u001b[0;32m/opt/conda/envs/dev/lib/python3.8/site-packages/dask/base.py\u001b[0m in \u001b[0;36mcompute\u001b[0;34m(*args, **kwargs)\u001b[0m\n\u001b[1;32m    442\u001b[0m         \u001b[0mpostcomputes\u001b[0m\u001b[0;34m.\u001b[0m\u001b[0mappend\u001b[0m\u001b[0;34m(\u001b[0m\u001b[0mx\u001b[0m\u001b[0;34m.\u001b[0m\u001b[0m__dask_postcompute__\u001b[0m\u001b[0;34m(\u001b[0m\u001b[0;34m)\u001b[0m\u001b[0;34m)\u001b[0m\u001b[0;34m\u001b[0m\u001b[0;34m\u001b[0m\u001b[0m\n\u001b[1;32m    443\u001b[0m \u001b[0;34m\u001b[0m\u001b[0m\n\u001b[0;32m--> 444\u001b[0;31m     \u001b[0mresults\u001b[0m \u001b[0;34m=\u001b[0m \u001b[0mschedule\u001b[0m\u001b[0;34m(\u001b[0m\u001b[0mdsk\u001b[0m\u001b[0;34m,\u001b[0m \u001b[0mkeys\u001b[0m\u001b[0;34m,\u001b[0m \u001b[0;34m**\u001b[0m\u001b[0mkwargs\u001b[0m\u001b[0;34m)\u001b[0m\u001b[0;34m\u001b[0m\u001b[0;34m\u001b[0m\u001b[0m\n\u001b[0m\u001b[1;32m    445\u001b[0m     \u001b[0;32mreturn\u001b[0m \u001b[0mrepack\u001b[0m\u001b[0;34m(\u001b[0m\u001b[0;34m[\u001b[0m\u001b[0mf\u001b[0m\u001b[0;34m(\u001b[0m\u001b[0mr\u001b[0m\u001b[0;34m,\u001b[0m \u001b[0;34m*\u001b[0m\u001b[0ma\u001b[0m\u001b[0;34m)\u001b[0m \u001b[0;32mfor\u001b[0m \u001b[0mr\u001b[0m\u001b[0;34m,\u001b[0m \u001b[0;34m(\u001b[0m\u001b[0mf\u001b[0m\u001b[0;34m,\u001b[0m \u001b[0ma\u001b[0m\u001b[0;34m)\u001b[0m \u001b[0;32min\u001b[0m \u001b[0mzip\u001b[0m\u001b[0;34m(\u001b[0m\u001b[0mresults\u001b[0m\u001b[0;34m,\u001b[0m \u001b[0mpostcomputes\u001b[0m\u001b[0;34m)\u001b[0m\u001b[0;34m]\u001b[0m\u001b[0;34m)\u001b[0m\u001b[0;34m\u001b[0m\u001b[0;34m\u001b[0m\u001b[0m\n\u001b[1;32m    446\u001b[0m \u001b[0;34m\u001b[0m\u001b[0m\n",
      "\u001b[0;32m/opt/conda/envs/dev/lib/python3.8/site-packages/distributed/client.py\u001b[0m in \u001b[0;36mget\u001b[0;34m(self, dsk, keys, restrictions, loose_restrictions, resources, sync, asynchronous, direct, retries, priority, fifo_timeout, actors, **kwargs)\u001b[0m\n\u001b[1;32m   2680\u001b[0m                     \u001b[0mshould_rejoin\u001b[0m \u001b[0;34m=\u001b[0m \u001b[0;32mFalse\u001b[0m\u001b[0;34m\u001b[0m\u001b[0;34m\u001b[0m\u001b[0m\n\u001b[1;32m   2681\u001b[0m             \u001b[0;32mtry\u001b[0m\u001b[0;34m:\u001b[0m\u001b[0;34m\u001b[0m\u001b[0;34m\u001b[0m\u001b[0m\n\u001b[0;32m-> 2682\u001b[0;31m                 \u001b[0mresults\u001b[0m \u001b[0;34m=\u001b[0m \u001b[0mself\u001b[0m\u001b[0;34m.\u001b[0m\u001b[0mgather\u001b[0m\u001b[0;34m(\u001b[0m\u001b[0mpacked\u001b[0m\u001b[0;34m,\u001b[0m \u001b[0masynchronous\u001b[0m\u001b[0;34m=\u001b[0m\u001b[0masynchronous\u001b[0m\u001b[0;34m,\u001b[0m \u001b[0mdirect\u001b[0m\u001b[0;34m=\u001b[0m\u001b[0mdirect\u001b[0m\u001b[0;34m)\u001b[0m\u001b[0;34m\u001b[0m\u001b[0;34m\u001b[0m\u001b[0m\n\u001b[0m\u001b[1;32m   2683\u001b[0m             \u001b[0;32mfinally\u001b[0m\u001b[0;34m:\u001b[0m\u001b[0;34m\u001b[0m\u001b[0;34m\u001b[0m\u001b[0m\n\u001b[1;32m   2684\u001b[0m                 \u001b[0;32mfor\u001b[0m \u001b[0mf\u001b[0m \u001b[0;32min\u001b[0m \u001b[0mfutures\u001b[0m\u001b[0;34m.\u001b[0m\u001b[0mvalues\u001b[0m\u001b[0;34m(\u001b[0m\u001b[0;34m)\u001b[0m\u001b[0;34m:\u001b[0m\u001b[0;34m\u001b[0m\u001b[0;34m\u001b[0m\u001b[0m\n",
      "\u001b[0;32m/opt/conda/envs/dev/lib/python3.8/site-packages/distributed/client.py\u001b[0m in \u001b[0;36mgather\u001b[0;34m(self, futures, errors, direct, asynchronous)\u001b[0m\n\u001b[1;32m   1974\u001b[0m             \u001b[0;32melse\u001b[0m\u001b[0;34m:\u001b[0m\u001b[0;34m\u001b[0m\u001b[0;34m\u001b[0m\u001b[0m\n\u001b[1;32m   1975\u001b[0m                 \u001b[0mlocal_worker\u001b[0m \u001b[0;34m=\u001b[0m \u001b[0;32mNone\u001b[0m\u001b[0;34m\u001b[0m\u001b[0;34m\u001b[0m\u001b[0m\n\u001b[0;32m-> 1976\u001b[0;31m             return self.sync(\n\u001b[0m\u001b[1;32m   1977\u001b[0m                 \u001b[0mself\u001b[0m\u001b[0;34m.\u001b[0m\u001b[0m_gather\u001b[0m\u001b[0;34m,\u001b[0m\u001b[0;34m\u001b[0m\u001b[0;34m\u001b[0m\u001b[0m\n\u001b[1;32m   1978\u001b[0m                 \u001b[0mfutures\u001b[0m\u001b[0;34m,\u001b[0m\u001b[0;34m\u001b[0m\u001b[0;34m\u001b[0m\u001b[0m\n",
      "\u001b[0;32m/opt/conda/envs/dev/lib/python3.8/site-packages/distributed/client.py\u001b[0m in \u001b[0;36msync\u001b[0;34m(self, func, asynchronous, callback_timeout, *args, **kwargs)\u001b[0m\n\u001b[1;32m    829\u001b[0m             \u001b[0;32mreturn\u001b[0m \u001b[0mfuture\u001b[0m\u001b[0;34m\u001b[0m\u001b[0;34m\u001b[0m\u001b[0m\n\u001b[1;32m    830\u001b[0m         \u001b[0;32melse\u001b[0m\u001b[0;34m:\u001b[0m\u001b[0;34m\u001b[0m\u001b[0;34m\u001b[0m\u001b[0m\n\u001b[0;32m--> 831\u001b[0;31m             return sync(\n\u001b[0m\u001b[1;32m    832\u001b[0m                 \u001b[0mself\u001b[0m\u001b[0;34m.\u001b[0m\u001b[0mloop\u001b[0m\u001b[0;34m,\u001b[0m \u001b[0mfunc\u001b[0m\u001b[0;34m,\u001b[0m \u001b[0;34m*\u001b[0m\u001b[0margs\u001b[0m\u001b[0;34m,\u001b[0m \u001b[0mcallback_timeout\u001b[0m\u001b[0;34m=\u001b[0m\u001b[0mcallback_timeout\u001b[0m\u001b[0;34m,\u001b[0m \u001b[0;34m**\u001b[0m\u001b[0mkwargs\u001b[0m\u001b[0;34m\u001b[0m\u001b[0;34m\u001b[0m\u001b[0m\n\u001b[1;32m    833\u001b[0m             )\n",
      "\u001b[0;32m/opt/conda/envs/dev/lib/python3.8/site-packages/distributed/utils.py\u001b[0m in \u001b[0;36msync\u001b[0;34m(loop, func, callback_timeout, *args, **kwargs)\u001b[0m\n\u001b[1;32m    337\u001b[0m     \u001b[0;32mif\u001b[0m \u001b[0merror\u001b[0m\u001b[0;34m[\u001b[0m\u001b[0;36m0\u001b[0m\u001b[0;34m]\u001b[0m\u001b[0;34m:\u001b[0m\u001b[0;34m\u001b[0m\u001b[0;34m\u001b[0m\u001b[0m\n\u001b[1;32m    338\u001b[0m         \u001b[0mtyp\u001b[0m\u001b[0;34m,\u001b[0m \u001b[0mexc\u001b[0m\u001b[0;34m,\u001b[0m \u001b[0mtb\u001b[0m \u001b[0;34m=\u001b[0m \u001b[0merror\u001b[0m\u001b[0;34m[\u001b[0m\u001b[0;36m0\u001b[0m\u001b[0;34m]\u001b[0m\u001b[0;34m\u001b[0m\u001b[0;34m\u001b[0m\u001b[0m\n\u001b[0;32m--> 339\u001b[0;31m         \u001b[0;32mraise\u001b[0m \u001b[0mexc\u001b[0m\u001b[0;34m.\u001b[0m\u001b[0mwith_traceback\u001b[0m\u001b[0;34m(\u001b[0m\u001b[0mtb\u001b[0m\u001b[0;34m)\u001b[0m\u001b[0;34m\u001b[0m\u001b[0;34m\u001b[0m\u001b[0m\n\u001b[0m\u001b[1;32m    340\u001b[0m     \u001b[0;32melse\u001b[0m\u001b[0;34m:\u001b[0m\u001b[0;34m\u001b[0m\u001b[0;34m\u001b[0m\u001b[0m\n\u001b[1;32m    341\u001b[0m         \u001b[0;32mreturn\u001b[0m \u001b[0mresult\u001b[0m\u001b[0;34m[\u001b[0m\u001b[0;36m0\u001b[0m\u001b[0;34m]\u001b[0m\u001b[0;34m\u001b[0m\u001b[0;34m\u001b[0m\u001b[0m\n",
      "\u001b[0;32m/opt/conda/envs/dev/lib/python3.8/site-packages/distributed/utils.py\u001b[0m in \u001b[0;36mf\u001b[0;34m()\u001b[0m\n\u001b[1;32m    321\u001b[0m             \u001b[0;32mif\u001b[0m \u001b[0mcallback_timeout\u001b[0m \u001b[0;32mis\u001b[0m \u001b[0;32mnot\u001b[0m \u001b[0;32mNone\u001b[0m\u001b[0;34m:\u001b[0m\u001b[0;34m\u001b[0m\u001b[0;34m\u001b[0m\u001b[0m\n\u001b[1;32m    322\u001b[0m                 \u001b[0mfuture\u001b[0m \u001b[0;34m=\u001b[0m \u001b[0masyncio\u001b[0m\u001b[0;34m.\u001b[0m\u001b[0mwait_for\u001b[0m\u001b[0;34m(\u001b[0m\u001b[0mfuture\u001b[0m\u001b[0;34m,\u001b[0m \u001b[0mcallback_timeout\u001b[0m\u001b[0;34m)\u001b[0m\u001b[0;34m\u001b[0m\u001b[0;34m\u001b[0m\u001b[0m\n\u001b[0;32m--> 323\u001b[0;31m             \u001b[0mresult\u001b[0m\u001b[0;34m[\u001b[0m\u001b[0;36m0\u001b[0m\u001b[0;34m]\u001b[0m \u001b[0;34m=\u001b[0m \u001b[0;32myield\u001b[0m \u001b[0mfuture\u001b[0m\u001b[0;34m\u001b[0m\u001b[0;34m\u001b[0m\u001b[0m\n\u001b[0m\u001b[1;32m    324\u001b[0m         \u001b[0;32mexcept\u001b[0m \u001b[0mException\u001b[0m \u001b[0;32mas\u001b[0m \u001b[0mexc\u001b[0m\u001b[0;34m:\u001b[0m\u001b[0;34m\u001b[0m\u001b[0;34m\u001b[0m\u001b[0m\n\u001b[1;32m    325\u001b[0m             \u001b[0merror\u001b[0m\u001b[0;34m[\u001b[0m\u001b[0;36m0\u001b[0m\u001b[0;34m]\u001b[0m \u001b[0;34m=\u001b[0m \u001b[0msys\u001b[0m\u001b[0;34m.\u001b[0m\u001b[0mexc_info\u001b[0m\u001b[0;34m(\u001b[0m\u001b[0;34m)\u001b[0m\u001b[0;34m\u001b[0m\u001b[0;34m\u001b[0m\u001b[0m\n",
      "\u001b[0;32m/opt/conda/envs/dev/lib/python3.8/site-packages/tornado/gen.py\u001b[0m in \u001b[0;36mrun\u001b[0;34m(self)\u001b[0m\n\u001b[1;32m    733\u001b[0m \u001b[0;34m\u001b[0m\u001b[0m\n\u001b[1;32m    734\u001b[0m                     \u001b[0;32mtry\u001b[0m\u001b[0;34m:\u001b[0m\u001b[0;34m\u001b[0m\u001b[0;34m\u001b[0m\u001b[0m\n\u001b[0;32m--> 735\u001b[0;31m                         \u001b[0mvalue\u001b[0m \u001b[0;34m=\u001b[0m \u001b[0mfuture\u001b[0m\u001b[0;34m.\u001b[0m\u001b[0mresult\u001b[0m\u001b[0;34m(\u001b[0m\u001b[0;34m)\u001b[0m\u001b[0;34m\u001b[0m\u001b[0;34m\u001b[0m\u001b[0m\n\u001b[0m\u001b[1;32m    736\u001b[0m                     \u001b[0;32mexcept\u001b[0m \u001b[0mException\u001b[0m\u001b[0;34m:\u001b[0m\u001b[0;34m\u001b[0m\u001b[0;34m\u001b[0m\u001b[0m\n\u001b[1;32m    737\u001b[0m                         \u001b[0mexc_info\u001b[0m \u001b[0;34m=\u001b[0m \u001b[0msys\u001b[0m\u001b[0;34m.\u001b[0m\u001b[0mexc_info\u001b[0m\u001b[0;34m(\u001b[0m\u001b[0;34m)\u001b[0m\u001b[0;34m\u001b[0m\u001b[0;34m\u001b[0m\u001b[0m\n",
      "\u001b[0;32m/opt/conda/envs/dev/lib/python3.8/site-packages/distributed/client.py\u001b[0m in \u001b[0;36m_gather\u001b[0;34m(self, futures, errors, direct, local_worker)\u001b[0m\n\u001b[1;32m   1839\u001b[0m                             \u001b[0mexc\u001b[0m \u001b[0;34m=\u001b[0m \u001b[0mCancelledError\u001b[0m\u001b[0;34m(\u001b[0m\u001b[0mkey\u001b[0m\u001b[0;34m)\u001b[0m\u001b[0;34m\u001b[0m\u001b[0;34m\u001b[0m\u001b[0m\n\u001b[1;32m   1840\u001b[0m                         \u001b[0;32melse\u001b[0m\u001b[0;34m:\u001b[0m\u001b[0;34m\u001b[0m\u001b[0;34m\u001b[0m\u001b[0m\n\u001b[0;32m-> 1841\u001b[0;31m                             \u001b[0;32mraise\u001b[0m \u001b[0mexception\u001b[0m\u001b[0;34m.\u001b[0m\u001b[0mwith_traceback\u001b[0m\u001b[0;34m(\u001b[0m\u001b[0mtraceback\u001b[0m\u001b[0;34m)\u001b[0m\u001b[0;34m\u001b[0m\u001b[0;34m\u001b[0m\u001b[0m\n\u001b[0m\u001b[1;32m   1842\u001b[0m                         \u001b[0;32mraise\u001b[0m \u001b[0mexc\u001b[0m\u001b[0;34m\u001b[0m\u001b[0;34m\u001b[0m\u001b[0m\n\u001b[1;32m   1843\u001b[0m                     \u001b[0;32mif\u001b[0m \u001b[0merrors\u001b[0m \u001b[0;34m==\u001b[0m \u001b[0;34m\"skip\"\u001b[0m\u001b[0;34m:\u001b[0m\u001b[0;34m\u001b[0m\u001b[0;34m\u001b[0m\u001b[0m\n",
      "\u001b[0;31mKilledWorker\u001b[0m: (\"('dask_clean_file-all-part-6d6513d7a6e5ef3a9764ef5cf528b2a1', 3)\", <Worker 'tcp://127.0.0.1:42039', name: 0, memory: 0, processing: 1>)"
     ]
    }
   ],
   "source": [
    "%%time\n",
    "res = file_reader.all().compute()\n",
    "# res = file_reader.compute()"
   ]
  },
  {
   "cell_type": "code",
   "execution_count": 10,
   "metadata": {
    "tags": []
   },
   "outputs": [
    {
     "output_type": "stream",
     "name": "stdout",
     "text": "CPU times: user 35 s, sys: 23 s, total: 58 s\nWall time: 6min 35s\n"
    }
   ],
   "source": [
    "%%time\n",
    "res = file_reader.all().compute()\n",
    "# res = file_reader.compute()"
   ]
  },
  {
   "cell_type": "code",
   "execution_count": 11,
   "metadata": {},
   "outputs": [],
   "source": [
    "with open(os.path.join(TARGET_DIR, 'wb_725385.txt.pickle'), 'rb') as ff:\n",
    "    data = pickle.load(ff)"
   ]
  },
  {
   "cell_type": "code",
   "execution_count": 12,
   "metadata": {},
   "outputs": [
    {
     "output_type": "execute_result",
     "data": {
      "text/plain": "(45512, 13294)"
     },
     "metadata": {},
     "execution_count": 12
    }
   ],
   "source": [
    "len(data['tokens']), len(data['phrases'])"
   ]
  },
  {
   "cell_type": "code",
   "execution_count": 13,
   "metadata": {},
   "outputs": [
    {
     "output_type": "execute_result",
     "data": {
      "text/plain": "['public',\n 'resource',\n 'structural',\n 'adjustment',\n 'volume',\n 'volume',\n 'recent',\n 'economic',\n 'development',\n 'term',\n 'outlook',\n 'public',\n 'resource',\n 'management',\n 'part',\n 'sectoral',\n 'adjustment',\n 'policy',\n 'issue',\n 'investment',\n 'program',\n 'country',\n 'official',\n 'use',\n 'only',\n 'document',\n 'document',\n 'distribution',\n 'recipient',\n 'performance',\n 'official',\n 'duty',\n 'content',\n 'authorization',\n 'currency',\n 'equivalent',\n 'baht',\n 'baht',\n 'fiscal',\n 'year',\n 'weight',\n 'measure',\n 'barrel',\n 'day',\n 'mmscfd',\n 'day',\n 'tcf',\n 'metric',\n 'barrel',\n 'approx',\n 'ton',\n 'fuel',\n 'oil',\n 'british',\n 'thermal',\n 'unit',\n 'equal',\n 'toe',\n 'ton',\n 'oil',\n 'equivalent',\n 'kcal',\n 'btus',\n 'kwh',\n 'primary',\n 'electricity',\n 'thermal',\n 'replacement',\n 'value',\n 'natural',\n 'gas',\n 'lignite',\n 'acre',\n 'ofiicial',\n 'use',\n 'only',\n 'report',\n 'mission',\n 'mission',\n 'foreign',\n 'public',\n 'debt',\n 'public',\n 'expenditure',\n 'energy',\n 'transport',\n 'energy',\n 'agriculture',\n 'foreign',\n 'public',\n 'debt',\n 'agricultural',\n 'public',\n 'expenditure',\n 'health',\n 'education',\n 'industry',\n 'consultant',\n 'fiscal',\n 'planning',\n 'consultant',\n 'fiscal',\n 'planning',\n 'consultant',\n 'agriculture',\n 'mission',\n 'senior',\n 'economist',\n 'tite',\n 'mission',\n 'sal',\n 'identification',\n 'mission',\n 'economic',\n 'mission',\n 'term',\n 'timing',\n 'staffing',\n 'nesdb',\n 'mission',\n 'work',\n 'writing',\n 'report',\n 'mission',\n 'analysis',\n 'ing',\n 'stalff',\n 'particular',\n 'many',\n 'official',\n 'royal',\n 'draft',\n 'version',\n 'report',\n 'royal',\n 'thai',\n 'government',\n 'mission',\n 'chief',\n 'economist',\n 'region',\n 'messr',\n 'thiese',\n 'discussion',\n 'burn',\n 'bank',\n 'regional',\n 'misslon',\n 'restriced',\n 'distribution',\n 'recipient',\n 'content',\n 'disclo',\n 'aulthoion',\n 'ii',\n 'abstract',\n 'economic',\n 'report',\n 'economic',\n 'adjustment',\n 'international',\n 'economic',\n 'change',\n 'retrospective',\n 'vantage',\n 'point',\n 'remainder',\n 'particular',\n 'emphasis',\n 'plan',\n 'period',\n 'role',\n 'public',\n 'sector',\n 'management',\n 'resource',\n 'part',\n 'country',\n 'overall',\n 'economic',\n 'performance',\n 'outlook',\n 'most',\n 'other',\n 'country',\n 'effect',\n 'successive',\n 'oil',\n 'price',\n 'shock',\n 'international',\n 'recession',\n 'high',\n 'interest',\n 'rate',\n 'deterioration',\n 'term',\n 'trade',\n 'above',\n 'average',\n 'economic',\n 'performance',\n 'future',\n 'continued',\n 'mentation',\n 'government',\n 'structural',\n 'adjustment',\n 'policy',\n 'able',\n 'sustainable',\n 'balance',\n 'payment',\n 'rapid',\n 'economic',\n 'growth',\n 'rate',\n 'high',\n 'rate',\n 'assessment',\n 'aggregate',\n 'public',\n 'resource',\n 'management',\n 'term',\n 'revenue',\n 'mobilization',\n 'expenditure',\n 'allocation',\n 'foreign',\n 'borrowing',\n 'rapid',\n 'growth',\n 'public',\n 'expenditure',\n 'enterprise',\n 'commensurate',\n 'increase',\n 'public',\n 'resource',\n 'mobilization',\n 'external',\n 'domestic',\n 'financial',\n 'imbalance',\n 'light',\n 'experience',\n 'role',\n 'public',\n 'sector',\n 'thai',\n 'economy',\n 'report',\n 'attention',\n 'planning',\n 'public',\n 'resource',\n 'mobilization',\n 'use',\n 'indicative',\n 'fiscal',\n 'plan',\n 'report',\n 'remainder',\n 'plan',\n 'period',\n 'plan',\n 'revenue',\n 'expenditure',\n 'projection',\n 'consistent',\n 'government',\n 'economic',\n 'sectoral',\n 'objective',\n 'substantial',\n 'effort',\n 'public',\n 'resource',\n 'mobilization',\n 'public',\n 'expenditure',\n 'program',\n 'energy',\n 'transport',\n 'communication',\n 'sector',\n 'structural',\n 'adjustment',\n 'program',\n 'government',\n 'important',\n 'step',\n 'direction',\n 'part',\n 'major',\n 'sectoral',\n 'policy',\n 'issue',\n 'public',\n 'investment',\n 'program',\n 'agriculture',\n 'industry',\n 'energy',\n 'transport',\n 'communication',\n 'human',\n 'resource',\n 'development',\n 'population',\n 'health',\n 'education',\n 'main',\n 'finding',\n 'implementation',\n 'government',\n 'structural',\n 'adjustment',\n 'program',\n 'agriculture',\n 'industry',\n 'energy',\n 'essential',\n 'efficient',\n 'development',\n 'sector',\n 'major',\n 'public',\n 'investment',\n 'decision',\n 'transport',\n 'communication',\n 'sector',\n 'caution',\n 'problem',\n 'human',\n 'resource',\n 'development',\n 'attention',\n 'future',\n 'preparation',\n 'plan',\n 'efficient',\n 'equitable',\n 'devrelopment',\n 'public',\n 'resource',\n 'structural',\n 'adjustment',\n 'volume',\n 'content',\n 'page',\n 'country',\n 'data',\n 'abbreviation',\n 'introduction',\n 'part',\n 'recent',\n 'economic',\n 'development',\n 'dium',\n 'term',\n 'outlook',\n 'recent',\n 'economic',\n 'development',\n 'international',\n 'perspective',\n 'deceade',\n 'growth',\n 'development',\n 'oil',\n 'price',\n 'shock',\n 'aspect',\n 'recent',\n 'macroeconomic',\n 'development',\n 'growth',\n 'aggregate',\n 'production',\n 'income',\n 'agricultural',\n 'growth',\n 'income',\n 'industrial',\n 'growth',\n 'inflation',\n 'interest',\n 'rate',\n 'employment',\n 'wage',\n 'growth',\n 'structure',\n 'demand',\n 'balamce',\n 'payment',\n 'foreign',\n 'debt',\n 'economic',\n 'prospect',\n 'fift',\n 'plan',\n 'objective',\n 'policy',\n 'major',\n 'plan',\n 'objective',\n 'concern',\n 'major',\n 'policy',\n 'thrust',\n 'plan',\n 'plan',\n 'macroeconomic',\n 'scenario',\n 'medium',\n 'term',\n 'prospect',\n 'central',\n 'case',\n 'medium',\n 'term',\n 'prospect',\n 'alternative',\n 'scenario',\n 'impact',\n 'policy',\n 'intervention',\n 'impact',\n 'change',\n 'international',\n 'environment',\n 'economic',\n 'prospect',\n 'issue',\n 'trade',\n 'off',\n 'uncertainty',\n 'economic',\n 'growth',\n 'downward',\n 'revision',\n 'medium',\n 'term',\n 'outlook',\n 'implication',\n 'public',\n 'foreign',\n 'borrowing',\n 'policy',\n 'implication',\n 'employment',\n 'growth',\n 'poverty',\n 'eradication',\n 'unctsrtaintie',\n 'risk',\n 'iv',\n 'page',\n 'public',\n 'resource',\n 'management',\n 'planning',\n 'trend',\n 'issue',\n 'public',\n 'resource',\n 'management',\n 'overall',\n 'trend',\n 'public',\n 'resource',\n 'mobilization',\n 'use',\n 'growth',\n 'composition',\n 'public',\n 'expenditure',\n 'public',\n 'sector',\n 'resource',\n 'mobilization',\n 'tax',\n 'revenue',\n 'trend',\n 'structure',\n 'buoyancy',\n 'elasticity',\n 'tax',\n 'system',\n 'tax',\n 'administration',\n 'tax',\n 'structure',\n 'state',\n 'enterprise',\n 'finance',\n 'public',\n 'borrowing',\n 'public',\n 'resource',\n 'management',\n 'plan',\n 'period',\n 'fiscal',\n 'planning',\n 'general',\n 'objective',\n 'approach',\n 'central',\n 'government',\n 'state',\n 'enterprise',\n 'local',\n 'government',\n 'extrabudgetary',\n 'fund',\n 'consolidated',\n 'fiscal',\n 'planning',\n 'fiscal',\n 'planning',\n 'fiscal',\n 'planning',\n 'practice',\n 'current',\n 'fiscal',\n 'planning',\n 'approach',\n 'issue',\n 'result',\n 'current',\n 'fiscal',\n 'planning',\n 'exercise',\n 'central',\n 'government',\n 'central',\n 'government',\n 'program',\n 'enterprise',\n 'program',\n 'consolidated',\n 'government',\n 'expenditure',\n 'public',\n 'sector',\n 'resource',\n 'management',\n 'macroeconomic',\n 'context',\n 'part',\n 'sectoral',\n 'adjustment',\n 'policy',\n 'issue',\n 'investment',\n 'program',\n 'agriculture',\n 'rural',\n 'development',\n 'overview',\n 'international',\n 'comparison',\n 'agricultural',\n 'production',\n 'income',\n 'agricultural',\n 'export',\n 'land',\n 'recent',\n 'development',\n 'prospect',\n 'recent',\n 'development',\n 'agriculture',\n 'agricultural',\n 'policy',\n 'public',\n 'expenditure',\n 'agriculture',\n 'rural',\n 'development',\n 'irrigation',\n 'other',\n 'agricultural',\n 'program',\n 'rural',\n 'development',\n 'program',\n 'investment',\n 'planning',\n 'budgeting',\n 'agricultural',\n 'policy',\n 'page',\n 'no',\n 'industrial',\n 'growth',\n 'policy',\n 'trend',\n 'structure',\n 'recent',\n 'development',\n 'industry',\n 'industrial',\n 'development',\n 'policy',\n 'institutional',\n 'framework',\n 'protective',\n 'structure',\n 'investment',\n 'incentive',\n 'export',\n 'incentive',\n 'large',\n 'scale',\n 'industry',\n 'petrochemical',\n 'complex',\n 'summary',\n 'assessment',\n 'large',\n 'scale',\n 'industrial',\n 'development',\n 'industrial',\n 'development',\n 'policy',\n 'energy',\n 'trend',\n 'issue',\n 'investment',\n 'requirement',\n 'domestic',\n 'energy',\n 'resource',\n 'hydropow',\n 'natural',\n 'gas',\n 'oil',\n 'lignit',\n 'noncotamercial',\n 'energy',\n 'alternative',\n 'energy',\n 'source',\n 'energy',\n 'demand',\n 'import',\n 'trend',\n 'outlook',\n 'energy',\n 'sector',\n 'issue',\n 'natural',\n 'gas',\n 'development',\n 'utilization',\n 'energy',\n 'pricing',\n 'fiscal',\n 'implication',\n 'energy',\n 'conservation',\n 'institutional',\n 'issue',\n 'public',\n 'investment',\n 'program',\n 'requirement',\n 'energy',\n 'sector',\n 'power',\n 'subsector',\n 'oil',\n 'gas',\n 'subsector',\n 'summary',\n 'assessment',\n 'energy',\n 'sector',\n 'issue',\n 'transport',\n 'communication',\n 'objective',\n 'sectoral',\n 'planning',\n 'issue',\n 'transport',\n 'sector',\n 'telecommunication',\n 'public',\n 'investment',\n 'program',\n 'transport',\n 'communication',\n 'road',\n 'railway',\n 'urban',\n 'transit',\n 'water',\n 'transport',\n 'aviat',\n 'ion',\n 'telecommunication',\n 'summary',\n 'assessment',\n 'page',\n 'no',\n 'human',\n 'resource',\n 'development',\n 'population',\n 'health',\n 'education',\n 'policy',\n 'issue',\n 'priority',\n 'human',\n 'resource',\n 'development',\n 'population',\n 'growth',\n 'policy',\n 'health',\n 'education',\n 'public',\n 'expenditure',\n 'population',\n 'health',\n 'education',\n 'sector',\n 'health',\n 'population',\n 'planning',\n 'education',\n 'summary',\n 'assessment',\n 'public',\n 'expenditure',\n 'human',\n 'resource',\n 'development',\n 'map',\n 'ibrd',\n 'vii',\n 'list',\n 'table',\n 'growrth',\n 'income',\n 'population',\n 'term',\n 'trade',\n 'oral',\n 'growth',\n 'structure',\n 'production',\n 'urbanization',\n 'absolute',\n 'poverty',\n 'east',\n 'asian',\n 'country',\n 'indicator',\n 'econtomic',\n 'trend',\n 'east',\n 'asian',\n 'country',\n 'growyth',\n 'production',\n 'income',\n 'distribution',\n 'production',\n 'induistrialization',\n 'data',\n 'price',\n 'term',\n 'trade',\n 'intetrest',\n 'rate',\n 'growth',\n 'structure',\n 'demand',\n 'international',\n 'compariisiion',\n 'growth',\n 'expetnditure',\n 'share',\n 'merchandise',\n 'export',\n 'trade',\n 'effect',\n 'balatnce',\n 'payment',\n 'current',\n 'account',\n 'debt',\n 'indicator',\n 'growth',\n 'external',\n 'indebtedness',\n 'economic',\n 'projection',\n 'macro',\n 'economic',\n 'outlook',\n 'impacet',\n 'policy',\n 'intervention',\n 'change',\n 'wlorld',\n 'environemnt',\n 'public',\n 'expenditure',\n 'financing',\n 'investment',\n 'sectoral',\n 'flow',\n 'fund',\n 'trerid',\n 'distribution',\n 'public',\n 'sector',\n 'deficit',\n 'estilmate',\n 'gross',\n 'public',\n 'saving',\n 'savilng',\n 'investment',\n 'gap',\n 'growth',\n 'structure',\n 'consolidated',\n 'public',\n 'expendituire',\n 'public',\n 'capital',\n 'expend',\n 'iture',\n 'central',\n 'government',\n 'expenditure',\n 'finiancing',\n 'consolidated',\n 'public',\n 'expenditure',\n 'trend',\n 'composition',\n 'ceneral',\n 'goivernment',\n 'revenue',\n 'comparative',\n 'data',\n 'tax',\n 'gdp',\n 'ratio',\n 'source',\n 'tcax',\n 'revenue',\n 'middle',\n 'income',\n 'country',\n 'cenatral',\n 'government',\n 'revenue',\n 'elasticity',\n 'reform',\n 'tax',\n 'structure',\n 'aggregate',\n 'indicator',\n 'state',\n 'enterprise',\n 'finance',\n 'financing',\n 'public',\n 'sector',\n 'cash',\n 'evoluation',\n 'disbursed',\n 'external',\n 'detbt',\n 'sectoral',\n 'allocation',\n 'external',\n 'debt',\n 'major',\n 'public',\n 'enterprise',\n 'borrower',\n 'central',\n 'government',\n 'foreign',\n 'borrowing',\n 'counterpart',\n 'fund',\n 'source',\n 'public',\n 'sector',\n 'external',\n 'finance',\n 'viii',\n 'assumption',\n 'underlying',\n 'central',\n 'government',\n 'expenditure',\n 'central',\n 'government',\n 'expenditure',\n 'projection',\n 'alternative',\n 'scenario',\n 'central',\n 'government',\n 'revenue',\n 'projection',\n 'distribution',\n 'central',\n 'government',\n 'revenue',\n 'impact',\n 'tax',\n 'package',\n 'additional',\n 'future',\n 'tax',\n 'measure',\n 'central',\n 'government',\n 'deficit',\n 'summary',\n 'new',\n 'tax',\n 'measure',\n 'distribution',\n 'central',\n 'government',\n 'expenditure',\n 'nesdb',\n 'trend',\n 'state',\n 'enterprise',\n 'expenditure',\n 'plan',\n 'composition',\n 'state',\n 'enterprise',\n 'expenditure',\n 'plan',\n 'financing',\n 'state',\n 'enterprise',\n 'investment',\n 'plan',\n 'financing',\n 'plan',\n 'state',\n 'enterprise',\n 'investment',\n 'sector',\n 'public',\n 'sector',\n 'expenditure',\n 'plan',\n 'macroeconomic',\n 'indicator',\n 'alternative',\n 'fiscal',\n 'scenario',\n 'fiscal',\n 'indicator',\n 'alternative',\n 'fiscal',\n 'scenario',\n 'financing',\n 'public',\n 'sector',\n 'deficit',\n 'alternative',\n 'fiscal',\n 'scenario',\n 'value',\n 'agriculture',\n 'agriculture',\n 'economy',\n 'regional',\n 'perspective',\n 'agricultural',\n 'economy',\n 'regional',\n 'perspective',\n 'change',\n 'regional',\n ...]"
     },
     "metadata": {},
     "execution_count": 13
    }
   ],
   "source": [
    "data['tokens']"
   ]
  },
  {
   "cell_type": "markdown",
   "metadata": {},
   "source": [
    "# Train gensim phraser"
   ]
  },
  {
   "cell_type": "code",
   "execution_count": 9,
   "metadata": {},
   "outputs": [],
   "source": [
    "from gensim.models.phrases import Phrases, Phraser\n",
    "from gensim import corpora"
   ]
  },
  {
   "cell_type": "code",
   "execution_count": 12,
   "metadata": {},
   "outputs": [],
   "source": [
    "def generate_cleaned_data(file_list):\n",
    "\n",
    "    for f in file_list:\n",
    "        with open(os.path.join(f.replace(SOURCE_DIR, TARGET_DIR) + '.pickle'), 'rb') as ff:\n",
    "            data = pickle.load(ff)\n",
    "            yield(data['tokens'])\n",
    "\n"
   ]
  },
  {
   "cell_type": "code",
   "execution_count": 13,
   "metadata": {
    "tags": []
   },
   "outputs": [
    {
     "output_type": "stream",
     "name": "stdout",
     "text": "CPU times: user 13 s, sys: 651 ms, total: 13.7 s\nWall time: 14.4 s\n"
    }
   ],
   "source": [
    "%%time\n",
    "\n",
    "corpus_generator = generate_cleaned_data(f)\n",
    "bigram = Phrases(corpus_generator, min_count=1)\n",
    "bigram_phraser = Phraser(bigram)\n",
    "del(bigram)"
   ]
  },
  {
   "cell_type": "code",
   "execution_count": 14,
   "metadata": {
    "tags": []
   },
   "outputs": [
    {
     "output_type": "stream",
     "name": "stdout",
     "text": "CPU times: user 22.5 s, sys: 1.15 s, total: 23.7 s\nWall time: 24.2 s\n"
    }
   ],
   "source": [
    "%%time\n",
    "\n",
    "corpus_generator = generate_cleaned_data(f)\n",
    "trigram = Phrases(bigram_phraser[corpus_generator], min_count=1)\n",
    "trigram_phraser = Phraser(trigram)\n",
    "del(trigram)"
   ]
  },
  {
   "cell_type": "markdown",
   "metadata": {},
   "source": [
    "# Compare gensim and custom phrasers"
   ]
  },
  {
   "cell_type": "code",
   "execution_count": null,
   "metadata": {},
   "outputs": [],
   "source": [
    "phrased_doc = trigram_phraser[data['tokens']]"
   ]
  },
  {
   "cell_type": "code",
   "execution_count": 23,
   "metadata": {},
   "outputs": [
    {
     "output_type": "execute_result",
     "data": {
      "text/plain": "['financial_viability',\n 'foreign_currency',\n 'lpg_project',\n 'fertility_decline',\n 'universal_access',\n 'incentive_structure',\n 'immediate_impact',\n 'educational_material',\n 'great_care',\n 'further_investigation']"
     },
     "metadata": {},
     "execution_count": 23
    }
   ],
   "source": [
    "common_phrases = list(set(data['phrases']).intersection(phrased_doc))\n",
    "common_phrases[:10]"
   ]
  },
  {
   "cell_type": "code",
   "execution_count": 15,
   "metadata": {
    "tags": []
   },
   "outputs": [
    {
     "output_type": "stream",
     "name": "stderr",
     "text": "distributed.nanny - WARNING - Worker process still alive after 1 seconds, killing\ndistributed.nanny - WARNING - Worker process still alive after 1 seconds, killing\n"
    },
    {
     "output_type": "execute_result",
     "data": {
      "text/plain": "<Client: 'tcp://127.0.0.1:34733' processes=0 threads=0, memory=0 B>",
      "text/html": "<table style=\"border: 2px solid white;\">\n<tr>\n<td style=\"vertical-align: top; border: 0px solid white\">\n<h3 style=\"text-align: left;\">Client</h3>\n<ul style=\"text-align: left; list-style: none; margin: 0; padding: 0;\">\n  <li><b>Scheduler: </b>tcp://127.0.0.1:34733</li>\n  <li><b>Dashboard: </b><a href='http://127.0.0.1:8787/status' target='_blank'>http://127.0.0.1:8787/status</a></li>\n</ul>\n</td>\n<td style=\"vertical-align: top; border: 0px solid white\">\n<h3 style=\"text-align: left;\">Cluster</h3>\n<ul style=\"text-align: left; list-style:none; margin: 0; padding: 0;\">\n  <li><b>Workers: </b>2</li>\n  <li><b>Cores: </b>4</li>\n  <li><b>Memory: </b>2.00 GB</li>\n</ul>\n</td>\n</tr>\n</table>"
     },
     "metadata": {},
     "execution_count": 15
    }
   ],
   "source": [
    "# client.restart()"
   ]
  },
  {
   "cell_type": "code",
   "execution_count": null,
   "metadata": {},
   "outputs": [],
   "source": []
  }
 ]
}