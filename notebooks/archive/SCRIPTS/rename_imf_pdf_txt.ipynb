{
 "cells": [
  {
   "cell_type": "code",
   "execution_count": 1,
   "metadata": {
    "collapsed": true
   },
   "outputs": [],
   "source": [
    "import os\n",
    "import glob\n",
    "import shutil\n",
    "from joblib import Parallel, delayed\n",
    "import multiprocessing"
   ]
  },
  {
   "cell_type": "code",
   "execution_count": 2,
   "metadata": {
    "collapsed": true
   },
   "outputs": [],
   "source": [
    "import logging\n",
    "\n",
    "logging.basicConfig(filename='imf-pdf2txt-data-migration.log', format='%(asctime)s - %(message)s', level=logging.ERROR)\n",
    "logger = logging.getLogger('imf-pdf2text-data-migration')"
   ]
  },
  {
   "cell_type": "code",
   "execution_count": 3,
   "metadata": {
    "collapsed": true
   },
   "outputs": [],
   "source": [
    "source_dir = '/home/wb329102/R-DRIVE/Corpus/IMF/pdf_txt'\n",
    "target_dir = '/home/wb329102/R-DRIVE/NLP/CORPUS/IMF/PDF_TXT'"
   ]
  },
  {
   "cell_type": "code",
   "execution_count": 4,
   "metadata": {
    "scrolled": true
   },
   "outputs": [],
   "source": [
    "def copy_file(source, target):\n",
    "    shutil.copy(source, target)\n",
    "    logger.error(f'Finished copying {source}')\n",
    "    \n",
    "    return 0"
   ]
  },
  {
   "cell_type": "code",
   "execution_count": 8,
   "metadata": {},
   "outputs": [],
   "source": [
    "fnames = glob.iglob(os.path.join(source_dir, '*.pdf.txt'))\n",
    "logger.error('Start processing txt files...')\n",
    "\n",
    "workers = 100\n",
    "tasks = {}\n",
    "\n",
    "for fname in fnames:\n",
    "    fid = os.path.basename(fname).replace('.pdf.txt', '')\n",
    "    ofname = os.path.join(target_dir, f'imf_{fid}.txt')\n",
    "\n",
    "    if os.path.isfile(ofname):\n",
    "        logger.error(f'Document {os.path.basename(fname)} already processed...')\n",
    "        continue\n",
    "\n",
    "    if len(tasks) < workers:\n",
    "        tasks[fname] = ofname\n",
    "    else:\n",
    "        processes = []\n",
    "        for input_fname in tasks:\n",
    "            p = multiprocessing.Process(target=shutil.copy, args=(input_fname, tasks[input_fname]))\n",
    "            p.start()\n",
    "            processes.append(p)\n",
    "\n",
    "        for p in processes:\n",
    "            p.join()\n",
    "\n",
    "        tasks = {}\n",
    "\n",
    "if tasks:\n",
    "    processes = []\n",
    "    for input_fname in tasks:\n",
    "        p = multiprocessing.Process(target=shutil.copy, args=(input_fname, tasks[input_fname]))\n",
    "        p.start()\n",
    "        processes.append(p)\n",
    "\n",
    "    for p in processes:\n",
    "        p.join()\n",
    "\n",
    "    tasks = {}"
   ]
  },
  {
   "cell_type": "code",
   "execution_count": null,
   "metadata": {
    "collapsed": true
   },
   "outputs": [],
   "source": []
  }
 ],
 "metadata": {
  "kernelspec": {
   "display_name": "Python 3",
   "language": "python",
   "name": "python3"
  },
  "language_info": {
   "codemirror_mode": {
    "name": "ipython",
    "version": 3
   },
   "file_extension": ".py",
   "mimetype": "text/x-python",
   "name": "python",
   "nbconvert_exporter": "python",
   "pygments_lexer": "ipython3",
   "version": "3.8.3-final"
  }
 },
 "nbformat": 4,
 "nbformat_minor": 2
}