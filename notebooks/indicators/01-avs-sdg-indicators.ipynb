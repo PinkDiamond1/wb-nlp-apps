{
 "cells": [
  {
   "cell_type": "code",
   "execution_count": 1,
   "metadata": {},
   "outputs": [],
   "source": [
    "import pandas as pd\n",
    "import numpy as np"
   ]
  },
  {
   "cell_type": "code",
   "execution_count": 2,
   "metadata": {},
   "outputs": [],
   "source": [
    "from wb_nlp import dir_manager"
   ]
  },
  {
   "cell_type": "markdown",
   "metadata": {},
   "source": [
    "**PLEASE** save this file right now using the following naming convention: `NUMBER_FOR_SORTING-YOUR_INITIALS-SHORT_DESCRIPTION`, e.g. `1.0-fw-initial-data-exploration`. Use the number to order the file within the directory according to its usage."
   ]
  },
  {
   "cell_type": "code",
   "execution_count": 3,
   "metadata": {},
   "outputs": [],
   "source": [
    "sdg_goals = pd.read_csv(dir_manager.get_data_dir(\"preprocessed\", \"timeseries\", \"sdg\", \"sdg_goals.csv\"), encoding=\"latin\")\n",
    "sdg_indicators = pd.read_csv(dir_manager.get_data_dir(\"preprocessed\", \"timeseries\", \"sdg\", \"sdg_indicators.csv\"), encoding=\"latin\")\n",
    "sdg_targets = pd.read_csv(dir_manager.get_data_dir(\"preprocessed\", \"timeseries\", \"sdg\", \"sdg_targets.csv\"), encoding=\"latin\")\n",
    "sdg_time_series_metadata = pd.read_csv(dir_manager.get_data_dir(\"preprocessed\", \"timeseries\", \"sdg\", \"sdg_time_series_metadata.csv\"), encoding=\"latin\")"
   ]
  },
  {
   "cell_type": "code",
   "execution_count": 4,
   "metadata": {},
   "outputs": [],
   "source": [
    "sdg_time_series_metadata[\"txt_meta\"] = sdg_time_series_metadata[\"txt_meta\"].str.replace(\"NANA \", \"\")\n",
    "sdg_goals[\"goal\"] = sdg_goals[\"code\"]\n",
    "sdg_goals[\"img_uri\"] = sdg_goals[\"goal\"].map(lambda x: \"/nlp/static/indicators/sdg/sdg\" + str(x).zfill(2) + \".svg\")\n",
    "sdg_goals[\"goal_title\"] = sdg_goals[\"title\"]\n",
    "sdg_goals[\"goal_uri\"] = sdg_goals[\"uri\"]\n",
    "\n",
    "sdg_targets[\"target\"] = sdg_targets[\"code\"]\n",
    "sdg_targets[\"target_title\"] = sdg_targets[\"title\"]\n",
    "sdg_targets[\"target_uri\"] = sdg_targets[\"uri\"]\n",
    "\n",
    "sdg_indicators[\"indicator\"] = sdg_indicators[\"code\"]\n",
    "sdg_indicators[\"indicator_description\"] = sdg_indicators[\"description\"]\n",
    "sdg_indicators[\"indicator_uri\"] = sdg_indicators[\"uri\"]"
   ]
  },
  {
   "cell_type": "code",
   "execution_count": 5,
   "metadata": {},
   "outputs": [],
   "source": [
    "sdg_time_series_metadata_merged_data = sdg_time_series_metadata.merge(\n",
    "    sdg_goals[[\"goal\", \"goal_title\", \"goal_uri\", \"img_uri\"]], on=\"goal\", how=\"left\").merge(\n",
    "        sdg_targets[[\"target\", \"target_title\", \"target_uri\"]], on=\"target\", how=\"left\").merge(\n",
    "            sdg_indicators[[\"indicator\", \"indicator_description\", \"indicator_uri\"]], on=\"indicator\", how=\"left\")\n",
    "sdg_time_series_metadata_merged_data.to_csv(dir_manager.get_data_dir(\"preprocessed\", \"timeseries\", \"sdg\", \"sdg_time_series_metadata_merged_data.csv\"), index=None)"
   ]
  },
  {
   "cell_type": "code",
   "execution_count": 6,
   "metadata": {},
   "outputs": [
    {
     "output_type": "execute_result",
     "data": {
      "text/plain": [
       "                  id                                               name  \\\n",
       "0   SDG_DC_ODA_BDVDL  Total official development assistance for biod...   \n",
       "1  SDG_DC_TOF_INFRAL  Total official flows for infrastructure, by re...   \n",
       "2    SDG_DT_TDS_DECT  Debt service as a proportion of exports of goo...   \n",
       "3     SDG_EN_ATM_CO2  Carbon dioxide emissions from fuel combustion ...   \n",
       "4  SDG_EN_ATM_CO2MVA  Carbon dioxide emissions per unit of manufactu...   \n",
       "\n",
       "                                            url_data  \\\n",
       "0  https://unstats.un.org/SDGAPI/v1/sdg/Series/Da...   \n",
       "1  https://unstats.un.org/SDGAPI/v1/sdg/Series/Da...   \n",
       "2  https://unstats.un.org/SDGAPI/v1/sdg/Series/Da...   \n",
       "3  https://unstats.un.org/SDGAPI/v1/sdg/Series/Da...   \n",
       "4  https://unstats.un.org/SDGAPI/v1/sdg/Series/Da...   \n",
       "\n",
       "                                url_meta  \\\n",
       "0  https://unstats.un.org/sdgs/metadata/   \n",
       "1  https://unstats.un.org/sdgs/metadata/   \n",
       "2  https://unstats.un.org/sdgs/metadata/   \n",
       "3  https://unstats.un.org/sdgs/metadata/   \n",
       "4  https://unstats.un.org/sdgs/metadata/   \n",
       "\n",
       "                                  url_org  \\\n",
       "0  https://unstats.un.org/sdgapi/swagger/   \n",
       "1  https://unstats.un.org/sdgapi/swagger/   \n",
       "2  https://unstats.un.org/sdgapi/swagger/   \n",
       "3  https://unstats.un.org/sdgapi/swagger/   \n",
       "4  https://unstats.un.org/sdgapi/swagger/   \n",
       "\n",
       "                                            txt_meta  goal target indicator  \\\n",
       "0   Total official development assistance for bio...    15   15.a    15.a.1   \n",
       "1   Total official flows for infrastructure, by r...     9    9.a     9.a.1   \n",
       "2   Debt service as a proportion of exports of go...    17   17.4    17.4.1   \n",
       "3   Carbon dioxide emissions from fuel combustion...     9    9.4     9.4.1   \n",
       "4   Carbon dioxide emissions per unit of manufact...     9    9.4     9.4.1   \n",
       "\n",
       "                                          goal_title         goal_uri  \\\n",
       "0  Protect, restore and promote sustainable use o...  /v1/sdg/Goal/15   \n",
       "1  Build resilient infrastructure, promote inclus...   /v1/sdg/Goal/9   \n",
       "2  Strengthen the means of implementation and rev...  /v1/sdg/Goal/17   \n",
       "3  Build resilient infrastructure, promote inclus...   /v1/sdg/Goal/9   \n",
       "4  Build resilient infrastructure, promote inclus...   /v1/sdg/Goal/9   \n",
       "\n",
       "                                img_uri  \\\n",
       "0  /nlp/static/indicators/sdg/sdg15.svg   \n",
       "1  /nlp/static/indicators/sdg/sdg09.svg   \n",
       "2  /nlp/static/indicators/sdg/sdg17.svg   \n",
       "3  /nlp/static/indicators/sdg/sdg09.svg   \n",
       "4  /nlp/static/indicators/sdg/sdg09.svg   \n",
       "\n",
       "                                        target_title           target_uri  \\\n",
       "0  Mobilize and significantly increase financial ...  /v1/sdg/Target/15.a   \n",
       "1  Facilitate sustainable and resilient infrastru...   /v1/sdg/Target/9.a   \n",
       "2  Assist developing countries in attaining long-...  /v1/sdg/Target/17.4   \n",
       "3  By 2030, upgrade infrastructure and retrofit i...   /v1/sdg/Target/9.4   \n",
       "4  By 2030, upgrade infrastructure and retrofit i...   /v1/sdg/Target/9.4   \n",
       "\n",
       "                               indicator_description             indicator_uri  \n",
       "0  (a) Official development assistance on conserv...  /v1/sdg/Indicator/15.a.1  \n",
       "1  Total official international support (official...   /v1/sdg/Indicator/9.a.1  \n",
       "2  Debt service as a proportion of exports of goo...  /v1/sdg/Indicator/17.4.1  \n",
       "3               CO2 emission per unit of value added   /v1/sdg/Indicator/9.4.1  \n",
       "4               CO2 emission per unit of value added   /v1/sdg/Indicator/9.4.1  "
      ],
      "text/html": "<div>\n<style scoped>\n    .dataframe tbody tr th:only-of-type {\n        vertical-align: middle;\n    }\n\n    .dataframe tbody tr th {\n        vertical-align: top;\n    }\n\n    .dataframe thead th {\n        text-align: right;\n    }\n</style>\n<table border=\"1\" class=\"dataframe\">\n  <thead>\n    <tr style=\"text-align: right;\">\n      <th></th>\n      <th>id</th>\n      <th>name</th>\n      <th>url_data</th>\n      <th>url_meta</th>\n      <th>url_org</th>\n      <th>txt_meta</th>\n      <th>goal</th>\n      <th>target</th>\n      <th>indicator</th>\n      <th>goal_title</th>\n      <th>goal_uri</th>\n      <th>img_uri</th>\n      <th>target_title</th>\n      <th>target_uri</th>\n      <th>indicator_description</th>\n      <th>indicator_uri</th>\n    </tr>\n  </thead>\n  <tbody>\n    <tr>\n      <th>0</th>\n      <td>SDG_DC_ODA_BDVDL</td>\n      <td>Total official development assistance for biod...</td>\n      <td>https://unstats.un.org/SDGAPI/v1/sdg/Series/Da...</td>\n      <td>https://unstats.un.org/sdgs/metadata/</td>\n      <td>https://unstats.un.org/sdgapi/swagger/</td>\n      <td>Total official development assistance for bio...</td>\n      <td>15</td>\n      <td>15.a</td>\n      <td>15.a.1</td>\n      <td>Protect, restore and promote sustainable use o...</td>\n      <td>/v1/sdg/Goal/15</td>\n      <td>/nlp/static/indicators/sdg/sdg15.svg</td>\n      <td>Mobilize and significantly increase financial ...</td>\n      <td>/v1/sdg/Target/15.a</td>\n      <td>(a) Official development assistance on conserv...</td>\n      <td>/v1/sdg/Indicator/15.a.1</td>\n    </tr>\n    <tr>\n      <th>1</th>\n      <td>SDG_DC_TOF_INFRAL</td>\n      <td>Total official flows for infrastructure, by re...</td>\n      <td>https://unstats.un.org/SDGAPI/v1/sdg/Series/Da...</td>\n      <td>https://unstats.un.org/sdgs/metadata/</td>\n      <td>https://unstats.un.org/sdgapi/swagger/</td>\n      <td>Total official flows for infrastructure, by r...</td>\n      <td>9</td>\n      <td>9.a</td>\n      <td>9.a.1</td>\n      <td>Build resilient infrastructure, promote inclus...</td>\n      <td>/v1/sdg/Goal/9</td>\n      <td>/nlp/static/indicators/sdg/sdg09.svg</td>\n      <td>Facilitate sustainable and resilient infrastru...</td>\n      <td>/v1/sdg/Target/9.a</td>\n      <td>Total official international support (official...</td>\n      <td>/v1/sdg/Indicator/9.a.1</td>\n    </tr>\n    <tr>\n      <th>2</th>\n      <td>SDG_DT_TDS_DECT</td>\n      <td>Debt service as a proportion of exports of goo...</td>\n      <td>https://unstats.un.org/SDGAPI/v1/sdg/Series/Da...</td>\n      <td>https://unstats.un.org/sdgs/metadata/</td>\n      <td>https://unstats.un.org/sdgapi/swagger/</td>\n      <td>Debt service as a proportion of exports of go...</td>\n      <td>17</td>\n      <td>17.4</td>\n      <td>17.4.1</td>\n      <td>Strengthen the means of implementation and rev...</td>\n      <td>/v1/sdg/Goal/17</td>\n      <td>/nlp/static/indicators/sdg/sdg17.svg</td>\n      <td>Assist developing countries in attaining long-...</td>\n      <td>/v1/sdg/Target/17.4</td>\n      <td>Debt service as a proportion of exports of goo...</td>\n      <td>/v1/sdg/Indicator/17.4.1</td>\n    </tr>\n    <tr>\n      <th>3</th>\n      <td>SDG_EN_ATM_CO2</td>\n      <td>Carbon dioxide emissions from fuel combustion ...</td>\n      <td>https://unstats.un.org/SDGAPI/v1/sdg/Series/Da...</td>\n      <td>https://unstats.un.org/sdgs/metadata/</td>\n      <td>https://unstats.un.org/sdgapi/swagger/</td>\n      <td>Carbon dioxide emissions from fuel combustion...</td>\n      <td>9</td>\n      <td>9.4</td>\n      <td>9.4.1</td>\n      <td>Build resilient infrastructure, promote inclus...</td>\n      <td>/v1/sdg/Goal/9</td>\n      <td>/nlp/static/indicators/sdg/sdg09.svg</td>\n      <td>By 2030, upgrade infrastructure and retrofit i...</td>\n      <td>/v1/sdg/Target/9.4</td>\n      <td>CO2 emission per unit of value added</td>\n      <td>/v1/sdg/Indicator/9.4.1</td>\n    </tr>\n    <tr>\n      <th>4</th>\n      <td>SDG_EN_ATM_CO2MVA</td>\n      <td>Carbon dioxide emissions per unit of manufactu...</td>\n      <td>https://unstats.un.org/SDGAPI/v1/sdg/Series/Da...</td>\n      <td>https://unstats.un.org/sdgs/metadata/</td>\n      <td>https://unstats.un.org/sdgapi/swagger/</td>\n      <td>Carbon dioxide emissions per unit of manufact...</td>\n      <td>9</td>\n      <td>9.4</td>\n      <td>9.4.1</td>\n      <td>Build resilient infrastructure, promote inclus...</td>\n      <td>/v1/sdg/Goal/9</td>\n      <td>/nlp/static/indicators/sdg/sdg09.svg</td>\n      <td>By 2030, upgrade infrastructure and retrofit i...</td>\n      <td>/v1/sdg/Target/9.4</td>\n      <td>CO2 emission per unit of value added</td>\n      <td>/v1/sdg/Indicator/9.4.1</td>\n    </tr>\n  </tbody>\n</table>\n</div>"
     },
     "metadata": {},
     "execution_count": 6
    }
   ],
   "source": [
    "sdg_time_series_metadata_merged_data.head()"
   ]
  },
  {
   "cell_type": "code",
   "execution_count": 7,
   "metadata": {},
   "outputs": [
    {
     "output_type": "execute_result",
     "data": {
      "text/plain": [
       "423"
      ]
     },
     "metadata": {},
     "execution_count": 7
    }
   ],
   "source": [
    "sdg_time_series_metadata_merged_data[\"id\"].nunique()"
   ]
  },
  {
   "cell_type": "code",
   "execution_count": 8,
   "metadata": {},
   "outputs": [
    {
     "output_type": "execute_result",
     "data": {
      "text/plain": [
       "(423, 16)"
      ]
     },
     "metadata": {},
     "execution_count": 8
    }
   ],
   "source": [
    "sdg_time_series_metadata_merged_data.shape"
   ]
  },
  {
   "cell_type": "code",
   "execution_count": null,
   "metadata": {},
   "outputs": [],
   "source": []
  }
 ],
 "metadata": {
  "kernelspec": {
   "display_name": "wb_nlp",
   "language": "python",
   "name": "wb_nlp"
  },
  "language_info": {
   "codemirror_mode": {
    "name": "ipython",
    "version": 3
   },
   "file_extension": ".py",
   "mimetype": "text/x-python",
   "name": "python",
   "nbconvert_exporter": "python",
   "pygments_lexer": "ipython3",
   "version": "3.8.5-final"
  },
  "pycharm": {
   "stem_cell": {
    "cell_type": "raw",
    "metadata": {
     "collapsed": false
    },
    "source": []
   }
  }
 },
 "nbformat": 4,
 "nbformat_minor": 4
}