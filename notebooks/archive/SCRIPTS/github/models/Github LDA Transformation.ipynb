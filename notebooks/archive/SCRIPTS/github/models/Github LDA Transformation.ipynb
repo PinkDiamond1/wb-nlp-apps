{
 "cells": [
  {
   "cell_type": "code",
   "execution_count": 10,
   "metadata": {},
   "outputs": [],
   "source": [
    "from gensim.models.wrappers import LdaMallet\n",
    "from gensim.corpora import Dictionary"
   ]
  },
  {
   "cell_type": "code",
   "execution_count": 6,
   "metadata": {},
   "outputs": [],
   "source": [
    "lda = LdaMallet.load('../../../MODELS/LDA/WB-ALL_50/data/WB_lda_model_ALL_50.mallet.lda')\n",
    "\n",
    "corp_dict = Dictionary()\n",
    "corp_dict.id2token = lda.id2word\n",
    "corp_dict.token2id = {j:i for i, j in corp_dict.id2token.items()}"
   ]
  },
  {
   "cell_type": "code",
   "execution_count": 29,
   "metadata": {},
   "outputs": [],
   "source": [
    "import pymongo\n",
    "\n",
    "mongo = pymongo.MongoClient(port=27018)\n",
    "db = mongo['nlp']\n",
    "collection = db['github']"
   ]
  },
  {
   "cell_type": "code",
   "execution_count": 37,
   "metadata": {},
   "outputs": [
    {
     "data": {
      "text/plain": [
       "'readme_text_idx'"
      ]
     },
     "execution_count": 37,
     "metadata": {},
     "output_type": "execute_result"
    }
   ],
   "source": [
    "collection.create_index([('readme', pymongo.TEXT)], name='readme_text_idx')"
   ]
  },
  {
   "cell_type": "code",
   "execution_count": 50,
   "metadata": {},
   "outputs": [],
   "source": [
    "p = collection.find({'$text': {'$search': \"\\\"climate change\\\"\"}})"
   ]
  },
  {
   "cell_type": "code",
   "execution_count": 64,
   "metadata": {},
   "outputs": [],
   "source": [
    "collection.find_one({'primary_language': 'R', '$text': {'$search': 'poverty'}})"
   ]
  },
  {
   "cell_type": "code",
   "execution_count": 62,
   "metadata": {},
   "outputs": [],
   "source": [
    "collection.find_one({'languages': {'$exists': True}})"
   ]
  },
  {
   "cell_type": "code",
   "execution_count": 51,
   "metadata": {},
   "outputs": [],
   "source": [
    "pov_one = next(p)"
   ]
  },
  {
   "cell_type": "code",
   "execution_count": 52,
   "metadata": {},
   "outputs": [
    {
     "name": "stdout",
     "output_type": "stream",
     "text": [
      "CPU times: user 14.9 ms, sys: 20 ms, total: 34.9 ms\n",
      "Wall time: 33.9 s\n"
     ]
    }
   ],
   "source": [
    "%%time\n",
    "v = lda[corp_dict.doc2bow(pov_one['readme'].split())]"
   ]
  },
  {
   "cell_type": "code",
   "execution_count": 53,
   "metadata": {},
   "outputs": [
    {
     "name": "stdout",
     "output_type": "stream",
     "text": [
      "# Health and Climate Impacts on your Browser\n",
      "\n",
      "* Problem: We need to make climate change more relatable and get politicians and organizations with an interest in public health to care more about it.\n",
      "\n",
      "* Project: Build a visualization that compares climate change to changes in community health.\n",
      "\n",
      "* Motivation: Recognize the potential impacts of climate change on health. More practically, get health groups more concerned about global warming and provide a guide toward research into possible links between climate change and specific diseases.\n",
      "\n",
      "* How does it work?: On a web browser, display 2 maps side-by-side.\n",
      "Both maps are controlled by a widget that can increase and decrease time starting \n",
      "at a certain point (say 1950-01-31). Both maps show the same part of the world (say SF Bay Area).\n",
      "The left map is a temperature map and the right map is a disease (say west nile) map.\n",
      "As the user moves the widget, both quantities change on both maps simultaneously.\n",
      "This is meant to show possible links between the effects of climate change and diseases that affect many people. \n",
      "\n",
      "Team Members:\n",
      "* Ted Fujimoto\n",
      "* Jane Huston\n",
      "* Tony Tsieu\n",
      "\n"
     ]
    }
   ],
   "source": [
    "print(pov_one['readme'])"
   ]
  },
  {
   "cell_type": "code",
   "execution_count": 54,
   "metadata": {},
   "outputs": [
    {
     "data": {
      "text/plain": [
       "[(24, 0.1766666666666667),\n",
       " (31, 0.07000000000000002),\n",
       " (45, 0.04333333333333334),\n",
       " (46, 0.04000000000000001),\n",
       " (28, 0.031111111111111114)]"
      ]
     },
     "execution_count": 54,
     "metadata": {},
     "output_type": "execute_result"
    }
   ],
   "source": [
    "sorted(v, key=lambda x: -x[1])[:5]"
   ]
  },
  {
   "cell_type": "code",
   "execution_count": 55,
   "metadata": {},
   "outputs": [
    {
     "data": {
      "text/plain": [
       "'0.032*\"risk_taking\" + 0.020*\"climate_change\" + 0.019*\"climate\" + 0.013*\"disaster\" + 0.011*\"lasting_impact\" + 0.011*\"loss\" + 0.010*\"flood\" + 0.009*\"damage\" + 0.009*\"resilience\" + 0.008*\"adaptation\"'"
      ]
     },
     "execution_count": 55,
     "metadata": {},
     "output_type": "execute_result"
    }
   ],
   "source": [
    "lda.print_topic(24)"
   ]
  },
  {
   "cell_type": "code",
   "execution_count": 56,
   "metadata": {},
   "outputs": [
    {
     "data": {
      "text/plain": [
       "'0.037*\"datum\" + 0.021*\"survey\" + 0.016*\"information\" + 0.016*\"report\" + 0.015*\"figure\" + 0.011*\"analysis\" + 0.010*\"table\" + 0.009*\"indicator\" + 0.009*\"number\" + 0.009*\"type\"'"
      ]
     },
     "execution_count": 56,
     "metadata": {},
     "output_type": "execute_result"
    }
   ],
   "source": [
    "lda.print_topic(31)"
   ]
  },
  {
   "cell_type": "code",
   "execution_count": 57,
   "metadata": {},
   "outputs": [
    {
     "data": {
      "text/plain": [
       "{'_id': 'jehuston/civichack',\n",
       " 'Python': [],\n",
       " 'R': ['plyr', 'maps', 'ggplot2'],\n",
       " 'id': 'MDEwOlJlcG9zaXRvcnkzNjk5NjU5MA==',\n",
       " 'insertion_date': '2019-11-24T02:59:07.593670+00:00',\n",
       " 'last_updated_date': '2019-11-24T02:59:07.593670+00:00',\n",
       " 'name': 'civichack',\n",
       " 'owner': 'jehuston',\n",
       " 'readme': '# Health and Climate Impacts on your Browser\\n\\n* Problem: We need to make climate change more relatable and get politicians and organizations with an interest in public health to care more about it.\\n\\n* Project: Build a visualization that compares climate change to changes in community health.\\n\\n* Motivation: Recognize the potential impacts of climate change on health. More practically, get health groups more concerned about global warming and provide a guide toward research into possible links between climate change and specific diseases.\\n\\n* How does it work?: On a web browser, display 2 maps side-by-side.\\nBoth maps are controlled by a widget that can increase and decrease time starting \\nat a certain point (say 1950-01-31). Both maps show the same part of the world (say SF Bay Area).\\nThe left map is a temperature map and the right map is a disease (say west nile) map.\\nAs the user moves the widget, both quantities change on both maps simultaneously.\\nThis is meant to show possible links between the effects of climate change and diseases that affect many people. \\n\\nTeam Members:\\n* Ted Fujimoto\\n* Jane Huston\\n* Tony Tsieu\\n',\n",
       " 'repo_updated_at': '2015-06-08T04:29:24Z'}"
      ]
     },
     "execution_count": 57,
     "metadata": {},
     "output_type": "execute_result"
    }
   ],
   "source": [
    "pov_one"
   ]
  },
  {
   "cell_type": "code",
   "execution_count": 60,
   "metadata": {},
   "outputs": [
    {
     "data": {
      "text/plain": [
       "{'_id': 'jehuston/civichack',\n",
       " 'Python': [],\n",
       " 'R': ['plyr', 'maps', 'ggplot2'],\n",
       " 'id': 'MDEwOlJlcG9zaXRvcnkzNjk5NjU5MA==',\n",
       " 'insertion_date': '2019-11-24T02:59:07.593670+00:00',\n",
       " 'last_updated_date': '2019-11-24T02:59:07.593670+00:00',\n",
       " 'name': 'civichack',\n",
       " 'owner': 'jehuston',\n",
       " 'readme': '# Health and Climate Impacts on your Browser\\n\\n* Problem: We need to make climate change more relatable and get politicians and organizations with an interest in public health to care more about it.\\n\\n* Project: Build a visualization that compares climate change to changes in community health.\\n\\n* Motivation: Recognize the potential impacts of climate change on health. More practically, get health groups more concerned about global warming and provide a guide toward research into possible links between climate change and specific diseases.\\n\\n* How does it work?: On a web browser, display 2 maps side-by-side.\\nBoth maps are controlled by a widget that can increase and decrease time starting \\nat a certain point (say 1950-01-31). Both maps show the same part of the world (say SF Bay Area).\\nThe left map is a temperature map and the right map is a disease (say west nile) map.\\nAs the user moves the widget, both quantities change on both maps simultaneously.\\nThis is meant to show possible links between the effects of climate change and diseases that affect many people. \\n\\nTeam Members:\\n* Ted Fujimoto\\n* Jane Huston\\n* Tony Tsieu\\n',\n",
       " 'repo_updated_at': '2015-06-08T04:29:24Z'}"
      ]
     },
     "execution_count": 60,
     "metadata": {},
     "output_type": "execute_result"
    }
   ],
   "source": [
    "pov_one"
   ]
  },
  {
   "cell_type": "code",
   "execution_count": null,
   "metadata": {},
   "outputs": [],
   "source": []
  }
 ],
 "metadata": {
  "kernelspec": {
   "display_name": "Python 3",
   "language": "python",
   "name": "python3"
  },
  "language_info": {
   "codemirror_mode": {
    "name": "ipython",
    "version": 3
   },
   "file_extension": ".py",
   "mimetype": "text/x-python",
   "name": "python",
   "nbconvert_exporter": "python",
   "pygments_lexer": "ipython3",
   "version": "3.8.3-final"
  }
 },
 "nbformat": 4,
 "nbformat_minor": 4
}