{
 "cells": [
  {
   "cell_type": "code",
   "execution_count": 1,
   "metadata": {
    "collapsed": true
   },
   "outputs": [],
   "source": [
    "%%capture\n",
    "\n",
    "# get_corpus_path\n",
    "# get_txt_orig_path\n",
    "\n",
    "%run ./path_manager.ipynb"
   ]
  },
  {
   "cell_type": "code",
   "execution_count": 2,
   "metadata": {},
   "outputs": [],
   "source": [
    "import pandas as pd\n",
    "import json\n",
    "import re\n",
    "import dateutil.parser"
   ]
  },
  {
   "cell_type": "code",
   "execution_count": 3,
   "metadata": {
    "collapsed": true
   },
   "outputs": [],
   "source": [
    "def generic_imf_normalizer(x):\n",
    "    # Note: this removes all contiguous whitespaces and replaces `;` with `,`\n",
    "    if isinstance(x, list):\n",
    "        x = ' '.join(x)\n",
    "    elif not isinstance(x, str):\n",
    "        if isinstance(x, bytes):\n",
    "            x = x.decode('utf-8', 'ignore')\n",
    "        else:\n",
    "            return x\n",
    "\n",
    "    return re.sub('\\s*;\\s*', ',', re.sub('\\s+', ' ', x).strip())"
   ]
  },
  {
   "cell_type": "code",
   "execution_count": 4,
   "metadata": {
    "scrolled": true
   },
   "outputs": [],
   "source": [
    "non_standard_headers = {\n",
    "    'Author/Editor': 'authors',\n",
    "    'Electronic Access': 'electronic_access',\n",
    "    'Format': 'format',\n",
    "    'ISBN/ISSN': 'isbn',\n",
    "    'Pages': 'pages',\n",
    "    'Price': 'price',\n",
    "    'Publication Date': 'pub_date',\n",
    "    'Stock No': 'stock',\n",
    "    'Summary': 'summary',\n",
    "}\n",
    "\n",
    "drop_fields = set(['Series'])\n",
    "\n",
    "path_original_dir = '/NLP/CORPUS/IMF/TXT_ORIG'\n",
    "path_clean_dir = '/NLP/CORPUS/IMF/TXT_CLEAN'\n",
    "\n",
    "imf_all = pd.read_json(os.path.join(get_corpus_path('IMF'), 'imf-all.json'))\n",
    "\n",
    "# This is done because of malformatted imf-detail.json data.\n",
    "with open(os.path.join(get_corpus_path('IMF'), 'imf-detail.json')) as fl:\n",
    "    data = []\n",
    "    imf_detail = fl.read().replace('][\\n{\"title\"', ',{\"title\"')\n",
    "    imf_detail = imf_detail.replace('}[\\n{\"title\"', '},{\"title\"')\n",
    "\n",
    "    imf_detail = json.loads(imf_detail)\n",
    "    \n",
    "    for d in imf_detail:\n",
    "        tmp_d = {}\n",
    "        tmp_d['corpus'] = 'imf'\n",
    "        \n",
    "        for k in d:\n",
    "            if k in drop_fields:\n",
    "                continue\n",
    "                \n",
    "            if k == 'files':\n",
    "                fd = d[k]\n",
    "                if len(fd) > 0:\n",
    "                    tmp_d.update(fd[0])\n",
    "                    tmp_d['id'] = 'imf_{}'.format(os.path.basename(tmp_d['path']).split('.')[0])\n",
    "                    tmp_d['path_original'] = os.path.join(path_original_dir, tmp_d['id'] + '.txt')\n",
    "                    tmp_d['path_clean'] = os.path.join(path_clean_dir, tmp_d['id'] + '.txt')\n",
    "    \n",
    "                else:\n",
    "                    tmp_d['checksum'] = ''\n",
    "                    tmp_d['path'] = ''\n",
    "                    tmp_d['url'] = ''\n",
    "                    tmp_d['id'] = None\n",
    "                    tmp_d['path_original'] = ''\n",
    "                    tmp_d['path_clean'] = ''\n",
    "                    \n",
    "                continue\n",
    "                    \n",
    "            tmp_d[non_standard_headers.get(k, k)] = d[k]\n",
    "        data.append(tmp_d)\n",
    "        \n",
    "    imf_detail = pd.DataFrame(data)\n",
    "\n",
    "    for c in imf_detail.columns:\n",
    "        imf_detail[c] = imf_detail[c].map(generic_imf_normalizer)\n",
    "\n",
    "# # with open(os.path.join(get_corpus_path('IMF'), 'imf-detail-fixed.json'), 'w') as fl:\n",
    "# #     json.dump(json.dumps(d), fl)\n",
    "# imf_detail = pd.read_json(os.path.join(get_corpus_path('IMF'), 'imf-detail.json'))"
   ]
  },
  {
   "cell_type": "code",
   "execution_count": 5,
   "metadata": {},
   "outputs": [],
   "source": [
    "imf_detail = imf_detail.dropna(subset=['id'])\n",
    "imf_detail = imf_detail.drop_duplicates(subset='id', keep='last')  # Assume that the last version is the better one"
   ]
  },
  {
   "cell_type": "code",
   "execution_count": 6,
   "metadata": {},
   "outputs": [
    {
     "data": {
      "text/plain": [
       "(14150, 20)"
      ]
     },
     "execution_count": 6,
     "metadata": {},
     "output_type": "execute_result"
    }
   ],
   "source": [
    "imf_detail.shape"
   ]
  },
  {
   "cell_type": "code",
   "execution_count": 7,
   "metadata": {
    "collapsed": true
   },
   "outputs": [],
   "source": [
    "METADATA_COLS = [\n",
    "    'corpus', 'id', 'path_original', 'path_clean', 'filename_original', 'year',\n",
    "    'major_doc_type', 'doc_type', 'author', 'collection', 'title', 'journal', 'volume',\n",
    "    'date_published', 'digital_identifier', 'topics_src', 'url_pdf', 'url_txt', 'language_src',\n",
    "    'adm_region', 'geo_region', 'country',\n",
    "\n",
    "    # Not yet available at this stage...,\n",
    "    # 'language_detected', 'language_score', 'tokens'  \n",
    "\n",
    "    # WB specific fields\n",
    "    'wb_lending_instrument', 'wb_product_line', 'wb_major_theme', 'wb_theme', 'wb_sector',\n",
    "    'wb_subtopic_src', 'wb_project_id',\n",
    "    # 'wb_environmental_category', \n",
    "]"
   ]
  },
  {
   "cell_type": "code",
   "execution_count": 8,
   "metadata": {},
   "outputs": [
    {
     "data": {
      "text/plain": [
       "Index(['authors', 'checksum', 'corpus', 'download_url', 'electronic_access',\n",
       "       'file_urls', 'format', 'id', 'isbn', 'language', 'pages', 'path',\n",
       "       'path_clean', 'path_original', 'price', 'pub_date', 'stock', 'summary',\n",
       "       'title', 'url'],\n",
       "      dtype='object')"
      ]
     },
     "execution_count": 8,
     "metadata": {},
     "output_type": "execute_result"
    }
   ],
   "source": [
    "imf_detail.columns"
   ]
  },
  {
   "cell_type": "code",
   "execution_count": 9,
   "metadata": {
    "scrolled": true
   },
   "outputs": [
    {
     "data": {
      "text/html": [
       "<div>\n",
       "<style scoped>\n",
       "    .dataframe tbody tr th:only-of-type {\n",
       "        vertical-align: middle;\n",
       "    }\n",
       "\n",
       "    .dataframe tbody tr th {\n",
       "        vertical-align: top;\n",
       "    }\n",
       "\n",
       "    .dataframe thead th {\n",
       "        text-align: right;\n",
       "    }\n",
       "</style>\n",
       "<table border=\"1\" class=\"dataframe\">\n",
       "  <thead>\n",
       "    <tr style=\"text-align: right;\">\n",
       "      <th></th>\n",
       "      <th>authors</th>\n",
       "      <th>checksum</th>\n",
       "      <th>corpus</th>\n",
       "      <th>download_url</th>\n",
       "      <th>electronic_access</th>\n",
       "      <th>file_urls</th>\n",
       "      <th>format</th>\n",
       "      <th>id</th>\n",
       "      <th>isbn</th>\n",
       "      <th>language</th>\n",
       "      <th>pages</th>\n",
       "      <th>path</th>\n",
       "      <th>path_clean</th>\n",
       "      <th>path_original</th>\n",
       "      <th>price</th>\n",
       "      <th>pub_date</th>\n",
       "      <th>stock</th>\n",
       "      <th>summary</th>\n",
       "      <th>title</th>\n",
       "      <th>url</th>\n",
       "    </tr>\n",
       "  </thead>\n",
       "  <tbody>\n",
       "    <tr>\n",
       "      <th>3088</th>\n",
       "      <td>Nigel A Chalk,Michael Keen,Victoria J Perry</td>\n",
       "      <td>6b4942ae1ded3aa38da9b596d4e75fa1</td>\n",
       "      <td>imf</td>\n",
       "      <td>/~/media/Files/Publications/WP/2018/wp18185.ashx</td>\n",
       "      <td>Free Full Text . Use the free Adobe Acrobat Re...</td>\n",
       "      <td>http://www.imf.org/~/media/Files/Publications/...</td>\n",
       "      <td>Paper</td>\n",
       "      <td>imf_6cba1c84a4fb1d3dbf4dfbbd011f115eb03d1d68</td>\n",
       "      <td>9781484372548/1018-5941</td>\n",
       "      <td>English</td>\n",
       "      <td>48</td>\n",
       "      <td>full/6cba1c84a4fb1d3dbf4dfbbd011f115eb03d1d68....</td>\n",
       "      <td>/NLP/CORPUS/IMF/TXT_CLEAN/imf_6cba1c84a4fb1d3d...</td>\n",
       "      <td>/NLP/CORPUS/IMF/TXT_ORIG/imf_6cba1c84a4fb1d3db...</td>\n",
       "      <td>$18.00 (Academic Rate:$18.00)</td>\n",
       "      <td>August 7, 2018</td>\n",
       "      <td>WPIEA2018185</td>\n",
       "      <td>This paper assesses the landmark Tax Cuts and ...</td>\n",
       "      <td>The Tax Cuts and Jobs Act: An Appraisal</td>\n",
       "      <td>http://www.imf.org/~/media/Files/Publications/...</td>\n",
       "    </tr>\n",
       "    <tr>\n",
       "      <th>3089</th>\n",
       "      <td>International Monetary Fund. Asia and Pacific ...</td>\n",
       "      <td>9e2190d86a05a390f9e1663506ecaae7</td>\n",
       "      <td>imf</td>\n",
       "      <td>/~/media/Files/Publications/CR/2018/cr18255.ashx</td>\n",
       "      <td>Free Full Text . Use the free Adobe Acrobat Re...</td>\n",
       "      <td>http://www.imf.org/~/media/Files/Publications/...</td>\n",
       "      <td>Paper</td>\n",
       "      <td>imf_b5b7de057454edbaad791b1eb067d6a3cc88cbfd</td>\n",
       "      <td>9781484373200/1934-7685</td>\n",
       "      <td>English</td>\n",
       "      <td>45</td>\n",
       "      <td>full/b5b7de057454edbaad791b1eb067d6a3cc88cbfd....</td>\n",
       "      <td>/NLP/CORPUS/IMF/TXT_CLEAN/imf_b5b7de057454edba...</td>\n",
       "      <td>/NLP/CORPUS/IMF/TXT_ORIG/imf_b5b7de057454edbaa...</td>\n",
       "      <td>$18.00 (Academic Rate:$18.00)</td>\n",
       "      <td>August 6, 2018</td>\n",
       "      <td>1INDEA2018004</td>\n",
       "      <td>Selected Issues</td>\n",
       "      <td>India : Selected Issues</td>\n",
       "      <td>http://www.imf.org/~/media/Files/Publications/...</td>\n",
       "    </tr>\n",
       "  </tbody>\n",
       "</table>\n",
       "</div>"
      ],
      "text/plain": [
       "                                                authors  \\\n",
       "3088        Nigel A Chalk,Michael Keen,Victoria J Perry   \n",
       "3089  International Monetary Fund. Asia and Pacific ...   \n",
       "\n",
       "                              checksum corpus  \\\n",
       "3088  6b4942ae1ded3aa38da9b596d4e75fa1    imf   \n",
       "3089  9e2190d86a05a390f9e1663506ecaae7    imf   \n",
       "\n",
       "                                          download_url  \\\n",
       "3088  /~/media/Files/Publications/WP/2018/wp18185.ashx   \n",
       "3089  /~/media/Files/Publications/CR/2018/cr18255.ashx   \n",
       "\n",
       "                                      electronic_access  \\\n",
       "3088  Free Full Text . Use the free Adobe Acrobat Re...   \n",
       "3089  Free Full Text . Use the free Adobe Acrobat Re...   \n",
       "\n",
       "                                              file_urls format  \\\n",
       "3088  http://www.imf.org/~/media/Files/Publications/...  Paper   \n",
       "3089  http://www.imf.org/~/media/Files/Publications/...  Paper   \n",
       "\n",
       "                                                id                     isbn  \\\n",
       "3088  imf_6cba1c84a4fb1d3dbf4dfbbd011f115eb03d1d68  9781484372548/1018-5941   \n",
       "3089  imf_b5b7de057454edbaad791b1eb067d6a3cc88cbfd  9781484373200/1934-7685   \n",
       "\n",
       "     language pages                                               path  \\\n",
       "3088  English    48  full/6cba1c84a4fb1d3dbf4dfbbd011f115eb03d1d68....   \n",
       "3089  English    45  full/b5b7de057454edbaad791b1eb067d6a3cc88cbfd....   \n",
       "\n",
       "                                             path_clean  \\\n",
       "3088  /NLP/CORPUS/IMF/TXT_CLEAN/imf_6cba1c84a4fb1d3d...   \n",
       "3089  /NLP/CORPUS/IMF/TXT_CLEAN/imf_b5b7de057454edba...   \n",
       "\n",
       "                                          path_original  \\\n",
       "3088  /NLP/CORPUS/IMF/TXT_ORIG/imf_6cba1c84a4fb1d3db...   \n",
       "3089  /NLP/CORPUS/IMF/TXT_ORIG/imf_b5b7de057454edbaa...   \n",
       "\n",
       "                              price        pub_date          stock  \\\n",
       "3088  $18.00 (Academic Rate:$18.00)  August 7, 2018   WPIEA2018185   \n",
       "3089  $18.00 (Academic Rate:$18.00)  August 6, 2018  1INDEA2018004   \n",
       "\n",
       "                                                summary  \\\n",
       "3088  This paper assesses the landmark Tax Cuts and ...   \n",
       "3089                                    Selected Issues   \n",
       "\n",
       "                                        title  \\\n",
       "3088  The Tax Cuts and Jobs Act: An Appraisal   \n",
       "3089                  India : Selected Issues   \n",
       "\n",
       "                                                    url  \n",
       "3088  http://www.imf.org/~/media/Files/Publications/...  \n",
       "3089  http://www.imf.org/~/media/Files/Publications/...  "
      ]
     },
     "execution_count": 9,
     "metadata": {},
     "output_type": "execute_result"
    }
   ],
   "source": [
    "imf_detail.head(2)"
   ]
  },
  {
   "cell_type": "markdown",
   "metadata": {},
   "source": [
    "# Cleaning"
   ]
  },
  {
   "cell_type": "code",
   "execution_count": 10,
   "metadata": {},
   "outputs": [],
   "source": [
    "clean_imf_detail = pd.DataFrame()\n",
    "\n",
    "for c in imf_detail.columns:\n",
    "    clean_imf_detail[c] = imf_detail[c].map(generic_imf_normalizer)"
   ]
  },
  {
   "cell_type": "code",
   "execution_count": 11,
   "metadata": {
    "scrolled": true
   },
   "outputs": [
    {
     "data": {
      "text/plain": [
       "3088    $18.00 (Academic Rate:$18.00)\n",
       "3089    $18.00 (Academic Rate:$18.00)\n",
       "3090    $18.00 (Academic Rate:$18.00)\n",
       "3091                             Free\n",
       "3092                             Free\n",
       "Name: price, dtype: object"
      ]
     },
     "execution_count": 11,
     "metadata": {},
     "output_type": "execute_result"
    }
   ],
   "source": [
    "clean_imf_detail['price'].head(5)"
   ]
  },
  {
   "cell_type": "code",
   "execution_count": 12,
   "metadata": {
    "scrolled": true
   },
   "outputs": [
    {
     "data": {
      "text/plain": [
       "3330    Corporate income taxes Developed countries Eme...\n",
       "3356    Caribbean Fiscal consolidation Fiscal policy G...\n",
       "3433    This paper considers two options on when and h...\n",
       "3448    Albania Dollarization Euro Area Interest rates...\n",
       "3490    Financial data Gross domestic product National...\n",
       "Name: pub_date, dtype: object"
      ]
     },
     "execution_count": 12,
     "metadata": {},
     "output_type": "execute_result"
    }
   ],
   "source": [
    "imf_detail['pub_date'][imf_detail['pub_date'].str.len() > 30].head(5)"
   ]
  },
  {
   "cell_type": "code",
   "execution_count": 13,
   "metadata": {
    "scrolled": true
   },
   "outputs": [],
   "source": [
    "# For some reason, the data is again malformed.\n",
    "v1_invalid_to_valid_map = {\n",
    "    'format': 'price',\n",
    "    'isbn': 'pub_date',\n",
    "    'pages': 'format',\n",
    "    'price': 'stock',\n",
    "    'stock': 'isbn',\n",
    "    'pub_date': 'summary'\n",
    "}\n",
    "\n",
    "v1_valid_to_invalid_map = {j: i for i, j in v1_invalid_to_valid_map.items()}\n",
    "v1_invalid_reformat_ids = []\n",
    "\n",
    "v2_invalid_reformat_ids = []\n",
    "\n",
    "for r, row in imf_detail.iterrows():\n",
    "    try:\n",
    "        y = dateutil.parser.parse(row['pub_date'])\n",
    "    except:\n",
    "        try:\n",
    "            y = dateutil.parser.parse(row[v1_valid_to_invalid_map['pub_date']])\n",
    "            v1_invalid_reformat_ids.append(row['id'])\n",
    "        except:\n",
    "            v2_invalid_reformat_ids.append(row['id'])\n",
    "            \n",
    "\n",
    "if len(v2_invalid_reformat_ids) > 30:\n",
    "    raise ValueError('Too many unexpected malformed data!!!')\n",
    "    \n",
    "\n",
    "v1_temp_df = imf_detail[imf_detail['id'].isin(v1_invalid_reformat_ids)].copy()\n",
    "v1_temp_df = v1_temp_df.drop('summary', axis=1)  # summary will be mapped from the malformed pub_date\n",
    "v1_temp_df = v1_temp_df.rename(columns=v1_invalid_to_valid_map)\n",
    "\n",
    "valid_imf_detail = imf_detail[~imf_detail['id'].isin(v1_invalid_reformat_ids)]\n",
    "\n",
    "imf_detail = pd.concat([valid_imf_detail, v1_temp_df], axis=0).reset_index()\n",
    "imf_detail = imf_detail[imf_detail['pub_date'].str.len() < 50]  # Some rows have the summary in the pub_date"
   ]
  },
  {
   "cell_type": "markdown",
   "metadata": {},
   "source": [
    "# Build other core fields"
   ]
  },
  {
   "cell_type": "code",
   "execution_count": 14,
   "metadata": {},
   "outputs": [],
   "source": [
    "imf_detail['pub_date'] = pd.to_datetime(imf_detail['pub_date'].map(dateutil.parser.parse))\n",
    "imf_detail['year'] = imf_detail['pub_date'].dt.year\n",
    "imf_detail['filename_original'] = imf_detail.download_url.map(os.path.basename)\n",
    "imf_detail['author'] = imf_detail['authors']\n",
    "imf_detail['language_src'] = imf_detail['language']\n",
    "imf_detail['date_published'] = imf_detail['pub_date'].dt.strftime('%m/%d/%Y')\n",
    "imf_detail['digital_identifier'] = imf_detail['isbn']\n",
    "imf_detail['url_pdf'] = imf_detail['url']"
   ]
  },
  {
   "cell_type": "code",
   "execution_count": 15,
   "metadata": {
    "scrolled": true
   },
   "outputs": [
    {
     "name": "stdout",
     "output_type": "stream",
     "text": [
      "major_doc_type\n",
      "doc_type\n",
      "collection\n",
      "journal\n",
      "volume\n",
      "topics_src\n",
      "url_txt\n",
      "adm_region\n",
      "geo_region\n",
      "country\n",
      "wb_lending_instrument\n",
      "wb_product_line\n",
      "wb_major_theme\n",
      "wb_theme\n",
      "wb_sector\n",
      "wb_subtopic_src\n",
      "wb_project_id\n"
     ]
    }
   ],
   "source": [
    "not_available_fields = []\n",
    "for c in METADATA_COLS:\n",
    "    if c not in imf_detail.columns:\n",
    "        print(c)\n",
    "        not_available_fields.append(c)"
   ]
  },
  {
   "cell_type": "code",
   "execution_count": 16,
   "metadata": {
    "collapsed": true
   },
   "outputs": [],
   "source": [
    "for c in not_available_fields:\n",
    "    imf_detail[c] = None"
   ]
  },
  {
   "cell_type": "code",
   "execution_count": 17,
   "metadata": {},
   "outputs": [],
   "source": [
    "corpus_id = 'IMF'\n",
    "fname = f\"{corpus_id.lower()}_metadata.csv\"\n",
    "\n",
    "imf_detail.reset_index()[METADATA_COLS].to_csv(\n",
    "    os.path.join(get_corpus_path(corpus_id), fname),\n",
    "    index=False\n",
    ")"
   ]
  },
  {
   "cell_type": "code",
   "execution_count": null,
   "metadata": {
    "collapsed": true
   },
   "outputs": [],
   "source": []
  }
 ],
 "metadata": {
  "kernelspec": {
   "display_name": "Python 3",
   "language": "python",
   "name": "python3"
  },
  "language_info": {
   "codemirror_mode": {
    "name": "ipython",
    "version": 3
   },
   "file_extension": ".py",
   "mimetype": "text/x-python",
   "name": "python",
   "nbconvert_exporter": "python",
   "pygments_lexer": "ipython3",
   "version": "3.8.3-final"
  }
 },
 "nbformat": 4,
 "nbformat_minor": 2
}