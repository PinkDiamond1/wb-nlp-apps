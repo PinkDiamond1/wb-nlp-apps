{
 "cells": [
  {
   "cell_type": "code",
   "execution_count": 1,
   "metadata": {},
   "outputs": [],
   "source": [
    "import pandas as pd\n",
    "import numpy as np\n",
    "from pathlib import Path"
   ]
  },
  {
   "cell_type": "code",
   "execution_count": 2,
   "metadata": {},
   "outputs": [],
   "source": [
    "from wb_nlp import dir_manager"
   ]
  },
  {
   "cell_type": "markdown",
   "metadata": {},
   "source": [
    "**PLEASE** save this file right now using the following naming convention: `NUMBER_FOR_SORTING-YOUR_INITIALS-SHORT_DESCRIPTION`, e.g. `1.0-fw-initial-data-exploration`. Use the number to order the file within the directory according to its usage."
   ]
  },
  {
   "cell_type": "code",
   "execution_count": 3,
   "metadata": {},
   "outputs": [],
   "source": [
    "microdata_corpus_path = Path(dir_manager.get_data_dir(\"preprocessed\", \"timeseries\", \"microdata\", \"corpus\"))\n",
    "\n",
    "microdata = microdata_corpus_path.glob(\"*.txt\")"
   ]
  },
  {
   "cell_type": "code",
   "execution_count": 5,
   "metadata": {},
   "outputs": [],
   "source": [
    "microdata_files = list(microdata)"
   ]
  },
  {
   "cell_type": "code",
   "execution_count": 6,
   "metadata": {},
   "outputs": [
    {
     "output_type": "execute_result",
     "data": {
      "text/plain": [
       "[PosixPath('/workspace/data/preprocessed/timeseries/microdata/corpus/MMR_2009_IHLCA_v01_M.txt'),\n",
       " PosixPath('/workspace/data/preprocessed/timeseries/microdata/corpus/MEX_2004_ENE-T3_v01_M.txt'),\n",
       " PosixPath('/workspace/data/preprocessed/timeseries/microdata/corpus/ECA_2016_ESS-R8_v02_M.txt'),\n",
       " PosixPath('/workspace/data/preprocessed/timeseries/microdata/corpus/THA_2015_LFS-Q3_v01_M.txt'),\n",
       " PosixPath('/workspace/data/preprocessed/timeseries/microdata/corpus/ZMB_2012_AFB-R5_v01_M.txt'),\n",
       " PosixPath('/workspace/data/preprocessed/timeseries/microdata/corpus/BFA_2004_EPA_v01_M.txt'),\n",
       " PosixPath('/workspace/data/preprocessed/timeseries/microdata/corpus/ROU_2001_HBS_v02_M.txt'),\n",
       " PosixPath('/workspace/data/preprocessed/timeseries/microdata/corpus/PHL_2008_QLFS-Q2_v01_M.txt'),\n",
       " PosixPath('/workspace/data/preprocessed/timeseries/microdata/corpus/BWA_2008_GYTS_v01_M.txt'),\n",
       " PosixPath('/workspace/data/preprocessed/timeseries/microdata/corpus/SEN_2005_AFB-R3_v01_M.txt')]"
      ]
     },
     "metadata": {},
     "execution_count": 6
    }
   ],
   "source": [
    "microdata_files[:10]"
   ]
  },
  {
   "cell_type": "code",
   "execution_count": 8,
   "metadata": {},
   "outputs": [],
   "source": [
    "microdata_df = pd.DataFrame()\n",
    "microdata_df[\"id\"] = [i.stem for i in microdata_files]"
   ]
  },
  {
   "cell_type": "code",
   "execution_count": 18,
   "metadata": {},
   "outputs": [],
   "source": [
    "microdata_df[\"txt_meta\"] = [i.read_text(encoding=\"latin\").replace(\" NA \", \" \").strip() for i in microdata_files]"
   ]
  },
  {
   "cell_type": "code",
   "execution_count": 21,
   "metadata": {},
   "outputs": [],
   "source": [
    "from wb_nlp.interfaces import language\n",
    "from polyglot.detect import Detector"
   ]
  },
  {
   "cell_type": "code",
   "execution_count": 28,
   "metadata": {},
   "outputs": [],
   "source": [
    "def get_lang_info(text):\n",
    "    d = Detector(''.join(x for x in text if x.isprintable()), quiet=True)\n",
    "    return {\"lang\": d.language.code, \"lang_score\": d.language.confidence}"
   ]
  },
  {
   "cell_type": "code",
   "execution_count": 29,
   "metadata": {},
   "outputs": [
    {
     "output_type": "stream",
     "name": "stderr",
     "text": [
      "Detector is not able to detect the language reliably.\n",
      "Detector is not able to detect the language reliably.\n",
      "Detector is not able to detect the language reliably.\n",
      "Detector is not able to detect the language reliably.\n",
      "Detector is not able to detect the language reliably.\n",
      "Detector is not able to detect the language reliably.\n",
      "Detector is not able to detect the language reliably.\n",
      "Detector is not able to detect the language reliably.\n",
      "Detector is not able to detect the language reliably.\n",
      "Detector is not able to detect the language reliably.\n",
      "Detector is not able to detect the language reliably.\n",
      "Detector is not able to detect the language reliably.\n",
      "Detector is not able to detect the language reliably.\n",
      "Detector is not able to detect the language reliably.\n",
      "Detector is not able to detect the language reliably.\n",
      "Detector is not able to detect the language reliably.\n",
      "Detector is not able to detect the language reliably.\n",
      "Detector is not able to detect the language reliably.\n",
      "Detector is not able to detect the language reliably.\n",
      "Detector is not able to detect the language reliably.\n"
     ]
    }
   ],
   "source": [
    "microdata_df[[\"lang\", \"lang_score\"]] = microdata_df[\"txt_meta\"].map(get_lang_info).apply(pd.Series)"
   ]
  },
  {
   "cell_type": "code",
   "execution_count": 37,
   "metadata": {},
   "outputs": [],
   "source": [
    "microdata_df[\"name\"] = microdata_df[\"txt_meta\"].map(lambda x: x[:120])"
   ]
  },
  {
   "cell_type": "code",
   "execution_count": 38,
   "metadata": {},
   "outputs": [
    {
     "output_type": "execute_result",
     "data": {
      "text/plain": [
       "                      id                                           txt_meta  \\\n",
       "0   MMR_2009_IHLCA_v01_M  Integrated Household Living Conditions Assessm...   \n",
       "1  MEX_2004_ENE-T3_v01_M  Encuesta Nacional de Empleo 2004 III Trimestre...   \n",
       "2  ECA_2016_ESS-R8_v02_M  European Social Survey 2016, Round 8 ESS-R8 20...   \n",
       "3  THA_2015_LFS-Q3_v01_M  Labour Force Survey 2015 Third Quarter LFS-Q3 ...   \n",
       "4  ZMB_2012_AFB-R5_v01_M  Afrobarometer Survey 2012 Round 5 AFB-R5 2012 ...   \n",
       "\n",
       "  lang  lang_score                                               name  \n",
       "0   en        99.0  Integrated Household Living Conditions Assessm...  \n",
       "1   es        99.0  Encuesta Nacional de Empleo 2004 III Trimestre...  \n",
       "2   en        99.0  European Social Survey 2016, Round 8 ESS-R8 20...  \n",
       "3   en        99.0  Labour Force Survey 2015 Third Quarter LFS-Q3 ...  \n",
       "4   en        99.0  Afrobarometer Survey 2012 Round 5 AFB-R5 2012 ...  "
      ],
      "text/html": "<div>\n<style scoped>\n    .dataframe tbody tr th:only-of-type {\n        vertical-align: middle;\n    }\n\n    .dataframe tbody tr th {\n        vertical-align: top;\n    }\n\n    .dataframe thead th {\n        text-align: right;\n    }\n</style>\n<table border=\"1\" class=\"dataframe\">\n  <thead>\n    <tr style=\"text-align: right;\">\n      <th></th>\n      <th>id</th>\n      <th>txt_meta</th>\n      <th>lang</th>\n      <th>lang_score</th>\n      <th>name</th>\n    </tr>\n  </thead>\n  <tbody>\n    <tr>\n      <th>0</th>\n      <td>MMR_2009_IHLCA_v01_M</td>\n      <td>Integrated Household Living Conditions Assessm...</td>\n      <td>en</td>\n      <td>99.0</td>\n      <td>Integrated Household Living Conditions Assessm...</td>\n    </tr>\n    <tr>\n      <th>1</th>\n      <td>MEX_2004_ENE-T3_v01_M</td>\n      <td>Encuesta Nacional de Empleo 2004 III Trimestre...</td>\n      <td>es</td>\n      <td>99.0</td>\n      <td>Encuesta Nacional de Empleo 2004 III Trimestre...</td>\n    </tr>\n    <tr>\n      <th>2</th>\n      <td>ECA_2016_ESS-R8_v02_M</td>\n      <td>European Social Survey 2016, Round 8 ESS-R8 20...</td>\n      <td>en</td>\n      <td>99.0</td>\n      <td>European Social Survey 2016, Round 8 ESS-R8 20...</td>\n    </tr>\n    <tr>\n      <th>3</th>\n      <td>THA_2015_LFS-Q3_v01_M</td>\n      <td>Labour Force Survey 2015 Third Quarter LFS-Q3 ...</td>\n      <td>en</td>\n      <td>99.0</td>\n      <td>Labour Force Survey 2015 Third Quarter LFS-Q3 ...</td>\n    </tr>\n    <tr>\n      <th>4</th>\n      <td>ZMB_2012_AFB-R5_v01_M</td>\n      <td>Afrobarometer Survey 2012 Round 5 AFB-R5 2012 ...</td>\n      <td>en</td>\n      <td>99.0</td>\n      <td>Afrobarometer Survey 2012 Round 5 AFB-R5 2012 ...</td>\n    </tr>\n  </tbody>\n</table>\n</div>"
     },
     "metadata": {},
     "execution_count": 38
    }
   ],
   "source": [
    "microdata_df.head()"
   ]
  },
  {
   "cell_type": "code",
   "execution_count": 39,
   "metadata": {},
   "outputs": [
    {
     "output_type": "execute_result",
     "data": {
      "text/plain": [
       "en    6990\n",
       "es     862\n",
       "fr     339\n",
       "id     282\n",
       "pt      72\n",
       "sq       1\n",
       "vi       1\n",
       "Name: lang, dtype: int64"
      ]
     },
     "metadata": {},
     "execution_count": 39
    }
   ],
   "source": [
    "microdata_df[\"lang\"].value_counts()"
   ]
  },
  {
   "cell_type": "code",
   "execution_count": 48,
   "metadata": {},
   "outputs": [],
   "source": [
    "microdata_en_df = microdata_df[(microdata_df[\"lang\"] == \"en\") & (microdata_df[\"lang_score\"] >= 95)]\n",
    "microdata_en_df.shape"
   ]
  },
  {
   "cell_type": "code",
   "execution_count": 53,
   "metadata": {},
   "outputs": [],
   "source": [
    "microdata_en_df.head(100).to_pickle(dir_manager.get_data_dir(\"preprocessed\", \"timeseries\", \"microdata\", \"microdata_en_df.pickle\"))"
   ]
  },
  {
   "cell_type": "code",
   "execution_count": null,
   "metadata": {},
   "outputs": [],
   "source": []
  }
 ],
 "metadata": {
  "kernelspec": {
   "display_name": "wb_nlp",
   "language": "python",
   "name": "wb_nlp"
  },
  "language_info": {
   "codemirror_mode": {
    "name": "ipython",
    "version": 3
   },
   "file_extension": ".py",
   "mimetype": "text/x-python",
   "name": "python",
   "nbconvert_exporter": "python",
   "pygments_lexer": "ipython3",
   "version": "3.8.5-final"
  },
  "pycharm": {
   "stem_cell": {
    "cell_type": "raw",
    "metadata": {
     "collapsed": false
    },
    "source": []
   }
  }
 },
 "nbformat": 4,
 "nbformat_minor": 4
}