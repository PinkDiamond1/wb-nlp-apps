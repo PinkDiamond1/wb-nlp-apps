{
 "cells": [
  {
   "cell_type": "markdown",
   "metadata": {},
   "source": [
    "# Document deduplication\n",
    "\n",
    "Perform a basic deduplication of documents using cosine similarity.\n",
    "\n",
    "\n",
    "Use **scipy=1.3.1** to avoid library load error `(Library not loaded: @rpath/libopenblas.dylib)`."
   ]
  },
  {
   "cell_type": "code",
   "execution_count": 1,
   "metadata": {},
   "outputs": [],
   "source": [
    "import os\n",
    "import re\n",
    "import glob\n",
    "import warnings\n",
    "\n",
    "from gensim.utils import simple_preprocess\n",
    "from gensim.models.phrases import Phrases, Phraser\n",
    "from gensim import corpora\n",
    "from gensim.similarities import Similarity"
   ]
  },
  {
   "cell_type": "code",
   "execution_count": 2,
   "metadata": {},
   "outputs": [],
   "source": [
    "clean_doc_cache = {}\n",
    "\n",
    "def cleaned_doc_generator(dir, cleaner, id_pattern=None, extension='txt'):\n",
    "    '''A generator that loads files from a directory and returns a cleaned document.\n",
    "    This also caches the cleaned data.\n",
    "    '''\n",
    "\n",
    "    for fpath in glob.glob(os.path.join(dir, f'*.{extension}')):\n",
    "        fname = fpath.split('/')[-1]\n",
    "\n",
    "        if id_pattern is None:\n",
    "            file_hash = hash(fname)\n",
    "        else:\n",
    "            match = re.search(id_pattern, fname)\n",
    "            if match:\n",
    "                file_hash = match.group(0)\n",
    "            else:\n",
    "                warnings.warn(f'No valid id found in file {fname}. Skipping...')\n",
    "                continue\n",
    "\n",
    "        if file_hash not in clean_doc_cache:\n",
    "            with open(fpath, 'rb') as fl:\n",
    "                doc = fl.read().decode('utf-8', errors='ignore')\n",
    "                text = cleaner(doc)\n",
    "                clean_doc_cache[file_hash] = text\n",
    "\n",
    "        yield clean_doc_cache[file_hash]"
   ]
  },
  {
   "cell_type": "code",
   "execution_count": 3,
   "metadata": {},
   "outputs": [],
   "source": [
    "DATA_DIR = '../../src/wb_nlp'\n",
    "EXTENSION = 'py'\n",
    "\n",
    "cleaner = lambda doc: simple_preprocess(doc, deacc=True, max_len=30)"
   ]
  },
  {
   "cell_type": "code",
   "execution_count": 4,
   "metadata": {
    "tags": []
   },
   "outputs": [
    {
     "output_type": "stream",
     "name": "stdout",
     "text": "CPU times: user 1.48 ms, sys: 1.37 ms, total: 2.84 ms\nWall time: 2.2 ms\n"
    }
   ],
   "source": [
    "%%time\n",
    "doc_generator = cleaned_doc_generator(DATA_DIR, cleaner, extension=EXTENSION)\n",
    "cleaned_scripts = [s for s in doc_generator]"
   ]
  },
  {
   "cell_type": "code",
   "execution_count": 5,
   "metadata": {
    "tags": []
   },
   "outputs": [
    {
     "output_type": "stream",
     "name": "stdout",
     "text": "CPU times: user 371 µs, sys: 318 µs, total: 689 µs\nWall time: 449 µs\n"
    }
   ],
   "source": [
    "%%time\n",
    "doc_generator = cleaned_doc_generator(DATA_DIR, cleaner, extension=EXTENSION)\n",
    "cleaned_scripts = [s for s in doc_generator]"
   ]
  },
  {
   "cell_type": "code",
   "execution_count": 6,
   "metadata": {
    "tags": []
   },
   "outputs": [],
   "source": [
    "doc_generator = cleaned_doc_generator(DATA_DIR, cleaner, extension=EXTENSION)\n",
    "\n",
    "bigram = Phrases(doc_generator, min_count=1)\n",
    "bigram_phraser = Phraser(bigram)"
   ]
  },
  {
   "cell_type": "code",
   "execution_count": 16,
   "metadata": {},
   "outputs": [],
   "source": [
    "# texts_bigrams = [[text for text in bigram_phraser[ simple_preprocess(doc, deacc=True)]] for doc in documents]\n",
    "doc_generator = cleaned_doc_generator(DATA_DIR, cleaner, extension=EXTENSION)\n",
    "\n",
    "doc_bigrams = [[token for token in bigram_phraser[doc]] for doc in doc_generator]\n",
    "dictionary = corpora.Dictionary(doc_bigrams)"
   ]
  },
  {
   "cell_type": "code",
   "execution_count": 19,
   "metadata": {},
   "outputs": [],
   "source": [
    "corpus = [dictionary.doc2bow(doc) for doc in doc_bigrams]\n",
    "\n",
    "index = Similarity(\n",
    "    corpus=corpus,\n",
    "    num_features=len(dictionary),\n",
    "    output_prefix='sim_out')"
   ]
  },
  {
   "cell_type": "code",
   "execution_count": 22,
   "metadata": {},
   "outputs": [],
   "source": [
    "doc_id = 0\n",
    "similar_docs = {}\n",
    "\n",
    "for similarities in index:\n",
    "    similar_docs[doc_id] = list(enumerate(similarities))\n",
    "\n",
    "    doc_id += 1"
   ]
  },
  {
   "cell_type": "code",
   "execution_count": 23,
   "metadata": {},
   "outputs": [
    {
     "output_type": "execute_result",
     "data": {
      "text/plain": "{0: [(0, 1.0000004), (1, 0.016426586)], 1: [(0, 0.016426586), (1, 0.99999994)]}"
     },
     "metadata": {},
     "execution_count": 23
    }
   ],
   "source": [
    "similar_docs"
   ]
  },
  {
   "cell_type": "code",
   "execution_count": 25,
   "metadata": {},
   "outputs": [
    {
     "output_type": "execute_result",
     "data": {
      "text/plain": "array([0.17149858, 0.17149858, 0.17149858, 0.17149858, 0.34299716,\n       0.17149858, 0.17149858, 0.17149858, 0.17149858, 0.17149858,\n       0.17149858, 0.17149858, 0.34299716, 0.17149858, 0.17149858,\n       0.17149858, 0.17149858, 0.17149858, 0.17149858, 0.17149858,\n       0.17149858, 0.17149858, 0.17149858, 0.17149858, 0.17149858,\n       0.17149858, 0.17149858, 0.17149858, 0.        , 0.        ,\n       0.        , 0.        , 0.        , 0.        , 0.        ,\n       0.        , 0.        , 0.        , 0.        , 0.        ,\n       0.        , 0.        ], dtype=float32)"
     },
     "metadata": {},
     "execution_count": 25
    }
   ],
   "source": [
    "index.vector_by_id(0)"
   ]
  },
  {
   "cell_type": "code",
   "execution_count": null,
   "metadata": {},
   "outputs": [],
   "source": []
  }
 ],
 "metadata": {
  "kernelspec": {
   "display_name": "wb_nlp",
   "language": "python",
   "name": "wb_nlp"
  },
  "language_info": {
   "codemirror_mode": {
    "name": "ipython",
    "version": 3
   },
   "file_extension": ".py",
   "mimetype": "text/x-python",
   "name": "python",
   "nbconvert_exporter": "python",
   "pygments_lexer": "ipython3",
   "version": "3.8.3"
  },
  "pycharm": {
   "stem_cell": {
    "cell_type": "raw",
    "metadata": {
     "collapsed": false
    },
    "source": []
   }
  }
 },
 "nbformat": 4,
 "nbformat_minor": 4
}