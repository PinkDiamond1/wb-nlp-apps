{
 "cells": [
  {
   "cell_type": "markdown",
   "metadata": {},
   "source": [
    "# Get libraries and repo names with Python and R scripts\n",
    "\n",
    "```SQL\n",
    "SELECT DISTINCT module, repo_name, is_python\n",
    "FROM (\n",
    "  SELECT file_id, repo_name, path, line, ENDS_WITH(path, '.py') AS is_python, IF(\n",
    "    ENDS_WITH(path, '.py'), IF(\n",
    "      REGEXP_CONTAINS(line, r'^import '),\n",
    "        REGEXP_EXTRACT_ALL(line, r'(?:^import|,) ([a-zA-Z0-9\\_]+)'),\n",
    "        REGEXP_EXTRACT_ALL(line, r'^from ([a-zA-Z0-9\\_]+)')\n",
    "      ),\n",
    "      REGEXP_EXTRACT_ALL(line, r'library\\s*\\(([a-zA-Z0-9\\_]+)\\s*\\)')\n",
    "    ) AS modules\n",
    "  FROM (\n",
    "    SELECT\n",
    "          ct.id AS file_id, repo_name, path,\n",
    "          # Add a space after each line.\n",
    "          # It is required to ensure correct line numbering.\n",
    "          SPLIT(REPLACE(content, \"\\n\", \" \\n\"), \"\\n\") AS lines\n",
    "    FROM `bigquery-public-data.github_repos.sample_files` AS fl\n",
    "    JOIN `bigquery-public-data.github_repos.sample_contents` AS ct ON fl.id=ct.id), UNNEST(lines) as line\n",
    "  WHERE\n",
    "    (ENDS_WITH(path, '.py') AND (REGEXP_CONTAINS(line, \"^import \") OR REGEXP_CONTAINS(line, \"^from .* import \"))) OR \n",
    "    (ENDS_WITH(path, '.r') AND REGEXP_CONTAINS(line, r\"library\\s*\\(\"))\n",
    "  ORDER BY\n",
    "    repo_name, file_id\n",
    "), UNNEST(modules) as module\n",
    "ORDER BY\n",
    "  repo_name\n",
    "```"
   ]
  },
  {
   "cell_type": "markdown",
   "metadata": {},
   "source": [
    "Sample 2:\n",
    "\n",
    "\n",
    "```SQL\n",
    "SELECT DISTINCT module, repo_name, is_python, language.name\n",
    "FROM (\n",
    "  SELECT file_id, repo_name, path, line, language, ENDS_WITH(path, '.py') AS is_python, IF(\n",
    "    ENDS_WITH(path, '.py'), IF(\n",
    "      REGEXP_CONTAINS(line, r'^import '),\n",
    "        REGEXP_EXTRACT_ALL(line, r'(?:^import|,) ([a-zA-Z0-9\\_]+)'),\n",
    "        REGEXP_EXTRACT_ALL(line, r'^from ([a-zA-Z0-9\\_]+)')\n",
    "      ),\n",
    "      REGEXP_EXTRACT_ALL(line, r'library\\s*\\(([a-zA-Z0-9\\_]+)\\s*\\)')\n",
    "    ) AS modules\n",
    "  FROM (\n",
    "    SELECT\n",
    "          ct.id AS file_id, fl.repo_name, path, ln.language,\n",
    "          # Add a space after each line.\n",
    "          # It is required to ensure correct line numbering.\n",
    "          SPLIT(REPLACE(content, \"\\n\", \" \\n\"), \"\\n\") AS lines\n",
    "    FROM `bigquery-public-data.github_repos.sample_files` AS fl\n",
    "    JOIN `bigquery-public-data.github_repos.languages` AS ln ON fl.repo_name=ln.repo_name\n",
    "    JOIN `bigquery-public-data.github_repos.sample_contents` AS ct ON fl.id=ct.id), UNNEST(lines) as line\n",
    "  WHERE\n",
    "    (ENDS_WITH(path, '.py') AND (REGEXP_CONTAINS(line, \"^import \") OR REGEXP_CONTAINS(line, \"^from .* import \"))) OR \n",
    "    (ENDS_WITH(path, '.r') AND REGEXP_CONTAINS(line, r\"library\\s*\\(\"))\n",
    "  ORDER BY\n",
    "    repo_name, file_id\n",
    "), UNNEST(modules) as module, UNNEST(language) as language\n",
    "ORDER BY\n",
    "  repo_name\n",
    "```"
   ]
  },
  {
   "cell_type": "markdown",
   "metadata": {},
   "source": [
    "https://stackoverflow.com/questions/50499049/bigquery-export-query-results-to-local-file-google-storage"
   ]
  },
  {
   "cell_type": "code",
   "execution_count": null,
   "metadata": {},
   "outputs": [],
   "source": []
  }
 ],
 "metadata": {
  "kernelspec": {
   "display_name": "Python 3",
   "language": "python",
   "name": "python3"
  },
  "language_info": {
   "codemirror_mode": {
    "name": "ipython",
    "version": 3
   },
   "file_extension": ".py",
   "mimetype": "text/x-python",
   "name": "python",
   "nbconvert_exporter": "python",
   "pygments_lexer": "ipython3",
   "version": "3.8.3-final"
  }
 },
 "nbformat": 4,
 "nbformat_minor": 4
}