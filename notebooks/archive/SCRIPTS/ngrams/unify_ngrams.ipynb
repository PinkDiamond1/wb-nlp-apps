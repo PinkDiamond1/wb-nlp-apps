{
 "cells": [
  {
   "cell_type": "code",
   "execution_count": 6,
   "metadata": {},
   "outputs": [],
   "source": [
    "%%capture\n",
    "\n",
    "%run ../path_manager.ipynb"
   ]
  },
  {
   "cell_type": "code",
   "execution_count": 8,
   "metadata": {},
   "outputs": [],
   "source": [
    "import pandas as pd\n",
    "import glob"
   ]
  },
  {
   "cell_type": "markdown",
   "metadata": {},
   "source": [
    "# Ngram process\n",
    "\n",
    "- Generate initial ngram candidates per corpus.\n",
    "- Remove ngrams in whitelist from uncurated ngram candidates.\n",
    "- Build a unified curation sheet containing only items not yet curated.\n",
    "- Store in master ngram list."
   ]
  },
  {
   "cell_type": "code",
   "execution_count": 14,
   "metadata": {},
   "outputs": [
    {
     "data": {
      "text/html": [
       "<div>\n",
       "<style scoped>\n",
       "    .dataframe tbody tr th:only-of-type {\n",
       "        vertical-align: middle;\n",
       "    }\n",
       "\n",
       "    .dataframe tbody tr th {\n",
       "        vertical-align: top;\n",
       "    }\n",
       "\n",
       "    .dataframe thead th {\n",
       "        text-align: right;\n",
       "    }\n",
       "</style>\n",
       "<table border=\"1\" class=\"dataframe\">\n",
       "  <thead>\n",
       "    <tr style=\"text-align: right;\">\n",
       "      <th></th>\n",
       "      <th>ngram</th>\n",
       "    </tr>\n",
       "  </thead>\n",
       "  <tbody>\n",
       "    <tr>\n",
       "      <th>0</th>\n",
       "      <td>food_and_agriculture_organization</td>\n",
       "    </tr>\n",
       "    <tr>\n",
       "      <th>1</th>\n",
       "      <td>international_atomic_energy_agency</td>\n",
       "    </tr>\n",
       "    <tr>\n",
       "      <th>2</th>\n",
       "      <td>international_civil_aviation_organization</td>\n",
       "    </tr>\n",
       "    <tr>\n",
       "      <th>3</th>\n",
       "      <td>international_civil_service_commission</td>\n",
       "    </tr>\n",
       "    <tr>\n",
       "      <th>4</th>\n",
       "      <td>international_fund_for_agricultural_development</td>\n",
       "    </tr>\n",
       "  </tbody>\n",
       "</table>\n",
       "</div>"
      ],
      "text/plain": [
       "                                             ngram\n",
       "0                food_and_agriculture_organization\n",
       "1               international_atomic_energy_agency\n",
       "2        international_civil_aviation_organization\n",
       "3           international_civil_service_commission\n",
       "4  international_fund_for_agricultural_development"
      ]
     },
     "execution_count": 14,
     "metadata": {},
     "output_type": "execute_result"
    }
   ],
   "source": [
    "master_ngram_whitelist = pd.read_csv('../whitelists/whitelist_ngrams.csv', header=None)\n",
    "master_ngram_whitelist = master_ngram_whitelist.rename(columns={0: 'ngram'})\n",
    "\n",
    "final_ngrams = set(master_ngram_whitelist.ngram)\n",
    "\n",
    "master_ngram_whitelist.head()"
   ]
  },
  {
   "cell_type": "code",
   "execution_count": 10,
   "metadata": {},
   "outputs": [],
   "source": [
    "CORPUS_ID = 'WB'\n",
    "ngram_files = glob.glob(os.path.join(get_corpus_path(CORPUS_ID), f'{CORPUS_ID.lower()}_ngrams*.csv'))"
   ]
  },
  {
   "cell_type": "code",
   "execution_count": 11,
   "metadata": {},
   "outputs": [
    {
     "data": {
      "text/plain": [
       "[]"
      ]
     },
     "execution_count": 11,
     "metadata": {},
     "output_type": "execute_result"
    }
   ],
   "source": [
    "updated_unlabelled = pd.DataFrame(columns=['ngram', 'occ'])\n",
    "\n",
    "new_ngrams = set()\n",
    "\n",
    "for fname in ngram_files:\n",
    "    ngrams_df = pd.read_csv(fname)\n",
    "    if 'keep' in ngrams_df.columns:\n",
    "        labelled = ngrams_df[ngrams_df.keep == 'y']\n",
    "        new_ngrams.update(set(labelled.ngram).difference(final_ngrams))\n",
    "        # dropped = ngrams_df[ngrams_df.keep == 'n']\n",
    "\n",
    "        unlabelled = ngrams_df[~ngrams_df.keep.isin(['y', 'n'])]\n",
    "    else:\n",
    "        unlabelled = ngrams_df[~ngrams_df.ngram.isin(set(final_ngrams).union(new_ngrams))]\n",
    "        \n",
    "    if updated_unlabelled.empty:\n",
    "        updated_unlabelled = unlabelled\n",
    "    else:\n",
    "        updated_unlabelled = pd.concat([updated_unlabelled, unlabelled])\n",
    "\n",
    "updated_unlabelled = updated_unlabelled.groupby('ngram')['occ'].sum().reset_index('ngram').sort_values('occ', ascending=False)"
   ]
  },
  {
   "cell_type": "code",
   "execution_count": null,
   "metadata": {},
   "outputs": [],
   "source": []
  },
  {
   "cell_type": "code",
   "execution_count": null,
   "metadata": {},
   "outputs": [],
   "source": []
  }
 ],
 "metadata": {
  "kernelspec": {
   "display_name": "Python 3",
   "language": "python",
   "name": "python3"
  },
  "language_info": {
   "codemirror_mode": {
    "name": "ipython",
    "version": 3
   },
   "file_extension": ".py",
   "mimetype": "text/x-python",
   "name": "python",
   "nbconvert_exporter": "python",
   "pygments_lexer": "ipython3",
   "version": "3.8.3-final"
  }
 },
 "nbformat": 4,
 "nbformat_minor": 2
}