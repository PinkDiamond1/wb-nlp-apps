{
 "metadata": {
  "language_info": {
   "codemirror_mode": {
    "name": "ipython",
    "version": 3
   },
   "file_extension": ".py",
   "mimetype": "text/x-python",
   "name": "python",
   "nbconvert_exporter": "python",
   "pygments_lexer": "ipython3",
   "version": "3.8.3-final"
  },
  "orig_nbformat": 2,
  "kernelspec": {
   "name": "wb_nlp",
   "display_name": "wb_nlp"
  }
 },
 "nbformat": 4,
 "nbformat_minor": 2,
 "cells": [
  {
   "cell_type": "code",
   "execution_count": 1,
   "metadata": {},
   "outputs": [],
   "source": [
    "import dask\n",
    "import dask.bag as db\n",
    "import dask.dataframe as dd\n",
    "from dask.distributed import get_worker\n",
    "from dask.distributed import Client, LocalCluster, progress\n"
   ]
  },
  {
   "cell_type": "code",
   "execution_count": 2,
   "metadata": {},
   "outputs": [],
   "source": [
    "# cluster.close()"
   ]
  },
  {
   "cell_type": "code",
   "execution_count": 3,
   "metadata": {},
   "outputs": [
    {
     "output_type": "execute_result",
     "data": {
      "text/plain": "<Client: 'tcp://127.0.0.1:34321' processes=4 threads=4, memory=16.00 GB>",
      "text/html": "<table style=\"border: 2px solid white;\">\n<tr>\n<td style=\"vertical-align: top; border: 0px solid white\">\n<h3 style=\"text-align: left;\">Client</h3>\n<ul style=\"text-align: left; list-style: none; margin: 0; padding: 0;\">\n  <li><b>Scheduler: </b>tcp://127.0.0.1:34321</li>\n  <li><b>Dashboard: </b><a href='http://127.0.0.1:8787/status' target='_blank'>http://127.0.0.1:8787/status</a></li>\n</ul>\n</td>\n<td style=\"vertical-align: top; border: 0px solid white\">\n<h3 style=\"text-align: left;\">Cluster</h3>\n<ul style=\"text-align: left; list-style:none; margin: 0; padding: 0;\">\n  <li><b>Workers: </b>4</li>\n  <li><b>Cores: </b>4</li>\n  <li><b>Memory: </b>16.00 GB</li>\n</ul>\n</td>\n</tr>\n</table>"
     },
     "metadata": {},
     "execution_count": 3
    }
   ],
   "source": [
    "# client = Client(processes=True)\n",
    "cluster = LocalCluster(n_workers=4, threads_per_worker=1, memory_limit='4GB', processes=True)\n",
    "client = Client(cluster)\n",
    "# client = Client()\n",
    "client"
   ]
  },
  {
   "cell_type": "code",
   "execution_count": 4,
   "metadata": {},
   "outputs": [],
   "source": [
    "# client.close()\n",
    "# cluster.close()"
   ]
  },
  {
   "cell_type": "code",
   "execution_count": 5,
   "metadata": {},
   "outputs": [],
   "source": [
    "import glob\n",
    "import pickle\n",
    "import spacy\n",
    "import pandas as pd\n",
    "\n",
    "from wb_nlp import dir_manager\n",
    "from wb_nlp.cleaning import cleaner"
   ]
  },
  {
   "cell_type": "code",
   "execution_count": 6,
   "metadata": {},
   "outputs": [
    {
     "output_type": "execute_result",
     "data": {
      "text/plain": "(107, '/workspace/data/preprocessed/sample_data/TXT_SAMPLE/wb_13720575.txt')"
     },
     "metadata": {},
     "execution_count": 6
    }
   ],
   "source": [
    "SOURCE_DIR = dir_manager.get_data_dir('raw', 'sample_data', 'TXT_SAMPLE')\n",
    "TARGET_DIR = dir_manager.get_data_dir('preprocessed', 'sample_data', 'TXT_SAMPLE')\n",
    "\n",
    "# Create TARGET_DIR if not available\n",
    "if not os.path.isdir(TARGET_DIR):\n",
    "    os.makedirs(TARGET_DIR)\n",
    "\n",
    "f = [f for f in glob.glob(os.path.join(SOURCE_DIR, '*.txt'))]\n",
    "len(f), f[0].replace(SOURCE_DIR, TARGET_DIR)"
   ]
  },
  {
   "cell_type": "code",
   "execution_count": 8,
   "metadata": {},
   "outputs": [],
   "source": [
    "def dask_clean_file(f):\n",
    "\n",
    "    worker = get_worker()\n",
    "\n",
    "    try:\n",
    "        nlp = worker.nlp\n",
    "        lda_cleaner = worker.lda_cleaner\n",
    "    except AttributeError:\n",
    "        nlp = spacy.load('en_core_web_sm')\n",
    "        lda_cleaner = cleaner.LDACleaner()\n",
    "        worker.nlp = nlp\n",
    "        worker.lda_cleaner = lda_cleaner\n",
    "\n",
    "    with open(f, 'rb') as fl:\n",
    "        text = fl.read().decode('utf-8', errors='ignore')\n",
    "        tokens = lda_cleaner.get_tokens_and_phrases(text)\n",
    "\n",
    "        f = f.replace(SOURCE_DIR, TARGET_DIR)\n",
    "\n",
    "        with open(f + '.pickle', 'wb') as ff:\n",
    "            pickle.dump(tokens, ff)\n",
    "\n",
    "    return True"
   ]
  },
  {
   "cell_type": "code",
   "execution_count": 9,
   "metadata": {},
   "outputs": [],
   "source": [
    "b = db.from_sequence(f, npartitions=10)\n",
    "file_reader = b.map(dask_clean_file)"
   ]
  },
  {
   "cell_type": "code",
   "execution_count": 10,
   "metadata": {
    "tags": []
   },
   "outputs": [
    {
     "output_type": "stream",
     "name": "stderr",
     "text": "distributed.nanny - WARNING - Restarting worker\ndistributed.nanny - WARNING - Restarting worker\nCPU times: user 45.2 s, sys: 11.9 s, total: 57.1 s\nWall time: 9min 17s\n"
    }
   ],
   "source": [
    "%%time\n",
    "res = file_reader.all().compute()\n",
    "# res = file_reader.compute()"
   ]
  },
  {
   "cell_type": "code",
   "execution_count": 7,
   "metadata": {},
   "outputs": [],
   "source": [
    "with open(os.path.join(TARGET_DIR, 'wb_725385.txt.pickle'), 'rb') as ff:\n",
    "    data = pickle.load(ff)"
   ]
  },
  {
   "cell_type": "code",
   "execution_count": 8,
   "metadata": {},
   "outputs": [
    {
     "output_type": "execute_result",
     "data": {
      "text/plain": "(45512, 13294)"
     },
     "metadata": {},
     "execution_count": 8
    }
   ],
   "source": [
    "len(data['tokens']), len(data['phrases'])"
   ]
  },
  {
   "cell_type": "markdown",
   "metadata": {},
   "source": [
    "# Train gensim phraser"
   ]
  },
  {
   "cell_type": "code",
   "execution_count": 9,
   "metadata": {},
   "outputs": [],
   "source": [
    "from gensim.models.phrases import Phrases, Phraser\n",
    "from gensim import corpora"
   ]
  },
  {
   "cell_type": "code",
   "execution_count": 12,
   "metadata": {},
   "outputs": [],
   "source": [
    "def generate_cleaned_data(file_list):\n",
    "\n",
    "    for f in file_list:\n",
    "        with open(os.path.join(f.replace(SOURCE_DIR, TARGET_DIR) + '.pickle'), 'rb') as ff:\n",
    "            data = pickle.load(ff)\n",
    "            yield(data['tokens'])\n",
    "\n"
   ]
  },
  {
   "cell_type": "code",
   "execution_count": 13,
   "metadata": {
    "tags": []
   },
   "outputs": [
    {
     "output_type": "stream",
     "name": "stdout",
     "text": "CPU times: user 13 s, sys: 651 ms, total: 13.7 s\nWall time: 14.4 s\n"
    }
   ],
   "source": [
    "%%time\n",
    "\n",
    "corpus_generator = generate_cleaned_data(f)\n",
    "bigram = Phrases(corpus_generator, min_count=1)\n",
    "bigram_phraser = Phraser(bigram)\n",
    "del(bigram)"
   ]
  },
  {
   "cell_type": "code",
   "execution_count": 14,
   "metadata": {
    "tags": []
   },
   "outputs": [
    {
     "output_type": "stream",
     "name": "stdout",
     "text": "CPU times: user 22.5 s, sys: 1.15 s, total: 23.7 s\nWall time: 24.2 s\n"
    }
   ],
   "source": [
    "%%time\n",
    "\n",
    "corpus_generator = generate_cleaned_data(f)\n",
    "trigram = Phrases(bigram_phraser[corpus_generator], min_count=1)\n",
    "trigram_phraser = Phraser(trigram)\n",
    "del(trigram)"
   ]
  },
  {
   "cell_type": "markdown",
   "metadata": {},
   "source": [
    "# Compare gensim and custom phrasers"
   ]
  },
  {
   "cell_type": "code",
   "execution_count": null,
   "metadata": {},
   "outputs": [],
   "source": [
    "phrased_doc = trigram_phraser[data['tokens']]"
   ]
  },
  {
   "cell_type": "code",
   "execution_count": 23,
   "metadata": {},
   "outputs": [
    {
     "output_type": "execute_result",
     "data": {
      "text/plain": "['financial_viability',\n 'foreign_currency',\n 'lpg_project',\n 'fertility_decline',\n 'universal_access',\n 'incentive_structure',\n 'immediate_impact',\n 'educational_material',\n 'great_care',\n 'further_investigation']"
     },
     "metadata": {},
     "execution_count": 23
    }
   ],
   "source": [
    "common_phrases = list(set(data['phrases']).intersection(phrased_doc))\n",
    "common_phrases[:10]"
   ]
  },
  {
   "cell_type": "code",
   "execution_count": 15,
   "metadata": {
    "tags": []
   },
   "outputs": [
    {
     "output_type": "stream",
     "name": "stderr",
     "text": "distributed.nanny - WARNING - Worker process still alive after 1 seconds, killing\ndistributed.nanny - WARNING - Worker process still alive after 1 seconds, killing\n"
    },
    {
     "output_type": "execute_result",
     "data": {
      "text/plain": "<Client: 'tcp://127.0.0.1:34733' processes=0 threads=0, memory=0 B>",
      "text/html": "<table style=\"border: 2px solid white;\">\n<tr>\n<td style=\"vertical-align: top; border: 0px solid white\">\n<h3 style=\"text-align: left;\">Client</h3>\n<ul style=\"text-align: left; list-style: none; margin: 0; padding: 0;\">\n  <li><b>Scheduler: </b>tcp://127.0.0.1:34733</li>\n  <li><b>Dashboard: </b><a href='http://127.0.0.1:8787/status' target='_blank'>http://127.0.0.1:8787/status</a></li>\n</ul>\n</td>\n<td style=\"vertical-align: top; border: 0px solid white\">\n<h3 style=\"text-align: left;\">Cluster</h3>\n<ul style=\"text-align: left; list-style:none; margin: 0; padding: 0;\">\n  <li><b>Workers: </b>2</li>\n  <li><b>Cores: </b>4</li>\n  <li><b>Memory: </b>2.00 GB</li>\n</ul>\n</td>\n</tr>\n</table>"
     },
     "metadata": {},
     "execution_count": 15
    }
   ],
   "source": [
    "# client.restart()"
   ]
  },
  {
   "cell_type": "code",
   "execution_count": null,
   "metadata": {},
   "outputs": [],
   "source": []
  }
 ]
}