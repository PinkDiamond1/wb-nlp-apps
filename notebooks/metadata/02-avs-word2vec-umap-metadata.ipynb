{
 "cells": [
  {
   "cell_type": "code",
   "execution_count": 4,
   "metadata": {},
   "outputs": [],
   "source": [
    "import numpy as np\n",
    "import pandas as pd\n",
    "import os\n",
    "\n",
    "from sklearn.cluster import DBSCAN, KMeans\n",
    "from wb_nlp import dir_manager\n",
    "import umap"
   ]
  },
  {
   "cell_type": "code",
   "execution_count": 5,
   "metadata": {},
   "outputs": [],
   "source": [
    "from gensim.models import Word2Vec"
   ]
  },
  {
   "cell_type": "code",
   "execution_count": 6,
   "metadata": {},
   "outputs": [],
   "source": [
    "w2v = Word2Vec.load(os.path.join(dir_manager.get_model_dir('WORD2VEC'), 'wb-w2vec_ALL_50.mm'))"
   ]
  },
  {
   "cell_type": "code",
   "execution_count": 27,
   "metadata": {},
   "outputs": [],
   "source": [
    "kv = w2v.wv.vocab['java']"
   ]
  },
  {
   "cell_type": "code",
   "execution_count": 29,
   "metadata": {},
   "outputs": [
    {
     "output_type": "execute_result",
     "data": {
      "text/plain": [
       "array([ 0.19520357,  0.04155749, -0.20089565,  0.05111561, -0.30242702,\n",
       "        0.88110745,  0.42764652, -0.30591288, -0.00456821,  0.11168303,\n",
       "       -0.10363951, -0.44124514,  0.18431583, -0.07108448,  0.02758358,\n",
       "       -0.16658421, -0.37262014,  0.34898758,  0.5199006 ,  0.54547346,\n",
       "        0.02725955,  0.20501535, -0.09207716, -0.068601  ,  0.19639523,\n",
       "        0.4056639 , -0.5512555 , -0.64817333, -0.18392295,  0.07174532,\n",
       "       -0.37544206,  0.83449966,  0.4029414 ,  0.1631779 ,  0.5051035 ,\n",
       "       -0.47664785,  0.06698374,  0.26855966,  0.29887244, -0.22791019,\n",
       "       -0.02170135,  0.05202591,  0.6791098 ,  0.9394384 ,  0.10043009,\n",
       "       -0.3822091 , -0.10048459,  0.19485329,  0.18161002, -0.1359897 ],\n",
       "      dtype=float32)"
      ]
     },
     "metadata": {},
     "execution_count": 29
    }
   ],
   "source": [
    "w2v.wv.get_vector('java')"
   ]
  },
  {
   "cell_type": "code",
   "execution_count": 34,
   "metadata": {},
   "outputs": [],
   "source": [
    "words = list(w2v.wv.vocab.keys())"
   ]
  },
  {
   "cell_type": "code",
   "execution_count": 35,
   "metadata": {},
   "outputs": [],
   "source": [
    "vecs = w2v.wv[words]"
   ]
  },
  {
   "cell_type": "code",
   "execution_count": 147,
   "metadata": {},
   "outputs": [],
   "source": [
    "counts = [w2v.wv.vocab[i].count for i in words]"
   ]
  },
  {
   "cell_type": "code",
   "execution_count": 103,
   "metadata": {},
   "outputs": [],
   "source": [
    "np.random.seed(1029)\n",
    "init_vec = np.random.random((vecs.shape[0], 3))\n",
    "reducer = umap.UMAP(n_components=3, n_neighbors=5, repulsion_strength=2, negative_sample_rate=15, init=init_vec, metric='cosine', random_state=1029)"
   ]
  },
  {
   "cell_type": "code",
   "execution_count": 104,
   "metadata": {},
   "outputs": [
    {
     "output_type": "stream",
     "name": "stdout",
     "text": [
      "CPU times: user 49.5 s, sys: 550 ms, total: 50.1 s\nWall time: 50 s\n"
     ]
    },
    {
     "output_type": "execute_result",
     "data": {
      "text/plain": [
       "UMAP(angular_rp_forest=True,\n",
       "     init=array([[0.04103986, 0.40976958, 0.58871416],\n",
       "       [0.89993329, 0.12111492, 0.17019841],\n",
       "       [0.94016805, 0.59530409, 0.33567926],\n",
       "       ...,\n",
       "       [0.83521572, 0.05137494, 0.86799723],\n",
       "       [0.20083059, 0.96858091, 0.54904675],\n",
       "       [0.19816467, 0.73511673, 0.22283513]]),\n",
       "     metric='cosine', n_components=3, n_neighbors=5, negative_sample_rate=15,\n",
       "     random_state=1029, repulsion_strength=2)"
      ]
     },
     "metadata": {},
     "execution_count": 104
    }
   ],
   "source": [
    "%%time\n",
    "reducer.fit(vecs)"
   ]
  },
  {
   "cell_type": "code",
   "execution_count": 105,
   "metadata": {},
   "outputs": [],
   "source": [
    "reduced_vecs = reducer.transform(vecs)"
   ]
  },
  {
   "cell_type": "code",
   "execution_count": 106,
   "metadata": {},
   "outputs": [
    {
     "output_type": "execute_result",
     "data": {
      "text/plain": [
       "array([[15.767052 ,  1.4806361,  4.306887 ],\n",
       "       [11.228562 , -3.6929073,  5.6114264],\n",
       "       [11.259015 , -3.704559 ,  5.4633465],\n",
       "       ...,\n",
       "       [ 6.966355 , 10.104829 ,  4.9372225],\n",
       "       [-1.4541839,  6.2937803,  6.9871397],\n",
       "       [-1.8074714,  6.267576 ,  6.4316573]], dtype=float32)"
      ]
     },
     "metadata": {},
     "execution_count": 106
    }
   ],
   "source": [
    "reduced_vecs"
   ]
  },
  {
   "cell_type": "code",
   "execution_count": 121,
   "metadata": {},
   "outputs": [],
   "source": [
    "clusterer = DBSCAN(n_jobs=6, eps=0.5, min_samples=100)\n",
    "# clusterer = KMeans(n_clusters=20, random_state=1029)"
   ]
  },
  {
   "cell_type": "code",
   "execution_count": 122,
   "metadata": {},
   "outputs": [
    {
     "output_type": "execute_result",
     "data": {
      "text/plain": [
       "DBSCAN(min_samples=100, n_jobs=6)"
      ]
     },
     "metadata": {},
     "execution_count": 122
    }
   ],
   "source": [
    "clusterer.fit(reduced_vecs)"
   ]
  },
  {
   "cell_type": "code",
   "execution_count": 123,
   "metadata": {},
   "outputs": [],
   "source": [
    "from collections import Counter"
   ]
  },
  {
   "cell_type": "code",
   "execution_count": 125,
   "metadata": {},
   "outputs": [
    {
     "output_type": "execute_result",
     "data": {
      "text/plain": [
       "    cluster  count\n",
       "16       13    101\n",
       "15       15    102\n",
       "14        5    103\n",
       "13       12    111\n",
       "12        7    112"
      ],
      "text/html": "<div>\n<style scoped>\n    .dataframe tbody tr th:only-of-type {\n        vertical-align: middle;\n    }\n\n    .dataframe tbody tr th {\n        vertical-align: top;\n    }\n\n    .dataframe thead th {\n        text-align: right;\n    }\n</style>\n<table border=\"1\" class=\"dataframe\">\n  <thead>\n    <tr style=\"text-align: right;\">\n      <th></th>\n      <th>cluster</th>\n      <th>count</th>\n    </tr>\n  </thead>\n  <tbody>\n    <tr>\n      <th>16</th>\n      <td>13</td>\n      <td>101</td>\n    </tr>\n    <tr>\n      <th>15</th>\n      <td>15</td>\n      <td>102</td>\n    </tr>\n    <tr>\n      <th>14</th>\n      <td>5</td>\n      <td>103</td>\n    </tr>\n    <tr>\n      <th>13</th>\n      <td>12</td>\n      <td>111</td>\n    </tr>\n    <tr>\n      <th>12</th>\n      <td>7</td>\n      <td>112</td>\n    </tr>\n  </tbody>\n</table>\n</div>"
     },
     "metadata": {},
     "execution_count": 125
    }
   ],
   "source": [
    "cluster_count = pd.DataFrame(Counter(clusterer.labels_).most_common(), columns=['cluster', 'count']).sort_values('count')\n",
    "cluster_count.head()"
   ]
  },
  {
   "cell_type": "code",
   "execution_count": 127,
   "metadata": {},
   "outputs": [
    {
     "output_type": "execute_result",
     "data": {
      "text/plain": [
       "    cluster  count\n",
       "16       13    101\n",
       "15       15    102\n",
       "14        5    103\n",
       "13       12    111\n",
       "12        7    112\n",
       "11        9    137\n",
       "10       14    143\n",
       "9         2    143\n",
       "8         0    183\n",
       "7         3    209\n",
       "6         6    252\n",
       "5        11    283\n",
       "4         4    308\n",
       "3         8    412\n",
       "2         1    534\n",
       "1        10    671\n",
       "0        -1  36288"
      ],
      "text/html": "<div>\n<style scoped>\n    .dataframe tbody tr th:only-of-type {\n        vertical-align: middle;\n    }\n\n    .dataframe tbody tr th {\n        vertical-align: top;\n    }\n\n    .dataframe thead th {\n        text-align: right;\n    }\n</style>\n<table border=\"1\" class=\"dataframe\">\n  <thead>\n    <tr style=\"text-align: right;\">\n      <th></th>\n      <th>cluster</th>\n      <th>count</th>\n    </tr>\n  </thead>\n  <tbody>\n    <tr>\n      <th>16</th>\n      <td>13</td>\n      <td>101</td>\n    </tr>\n    <tr>\n      <th>15</th>\n      <td>15</td>\n      <td>102</td>\n    </tr>\n    <tr>\n      <th>14</th>\n      <td>5</td>\n      <td>103</td>\n    </tr>\n    <tr>\n      <th>13</th>\n      <td>12</td>\n      <td>111</td>\n    </tr>\n    <tr>\n      <th>12</th>\n      <td>7</td>\n      <td>112</td>\n    </tr>\n    <tr>\n      <th>11</th>\n      <td>9</td>\n      <td>137</td>\n    </tr>\n    <tr>\n      <th>10</th>\n      <td>14</td>\n      <td>143</td>\n    </tr>\n    <tr>\n      <th>9</th>\n      <td>2</td>\n      <td>143</td>\n    </tr>\n    <tr>\n      <th>8</th>\n      <td>0</td>\n      <td>183</td>\n    </tr>\n    <tr>\n      <th>7</th>\n      <td>3</td>\n      <td>209</td>\n    </tr>\n    <tr>\n      <th>6</th>\n      <td>6</td>\n      <td>252</td>\n    </tr>\n    <tr>\n      <th>5</th>\n      <td>11</td>\n      <td>283</td>\n    </tr>\n    <tr>\n      <th>4</th>\n      <td>4</td>\n      <td>308</td>\n    </tr>\n    <tr>\n      <th>3</th>\n      <td>8</td>\n      <td>412</td>\n    </tr>\n    <tr>\n      <th>2</th>\n      <td>1</td>\n      <td>534</td>\n    </tr>\n    <tr>\n      <th>1</th>\n      <td>10</td>\n      <td>671</td>\n    </tr>\n    <tr>\n      <th>0</th>\n      <td>-1</td>\n      <td>36288</td>\n    </tr>\n  </tbody>\n</table>\n</div>"
     },
     "metadata": {},
     "execution_count": 127
    }
   ],
   "source": [
    "cluster_count"
   ]
  },
  {
   "cell_type": "code",
   "execution_count": 128,
   "metadata": {},
   "outputs": [
    {
     "output_type": "execute_result",
     "data": {
      "text/plain": [
       "16      101\n",
       "15      203\n",
       "14      306\n",
       "13      417\n",
       "12      529\n",
       "11      666\n",
       "10      809\n",
       "9       952\n",
       "8      1135\n",
       "7      1344\n",
       "6      1596\n",
       "5      1879\n",
       "4      2187\n",
       "3      2599\n",
       "2      3133\n",
       "1      3804\n",
       "0     40092\n",
       "Name: count, dtype: int64"
      ]
     },
     "metadata": {},
     "execution_count": 128
    }
   ],
   "source": [
    "cluster_count['count'].cumsum()"
   ]
  },
  {
   "source": [
    "clusterer.labels_[:10]"
   ],
   "cell_type": "code",
   "metadata": {},
   "execution_count": 129,
   "outputs": [
    {
     "output_type": "execute_result",
     "data": {
      "text/plain": [
       "array([-1, -1, -1, -1, -1, -1, -1, -1, -1, -1])"
      ]
     },
     "metadata": {},
     "execution_count": 129
    }
   ]
  },
  {
   "cell_type": "code",
   "execution_count": 130,
   "metadata": {},
   "outputs": [
    {
     "output_type": "execute_result",
     "data": {
      "text/plain": [
       "['policy',\n",
       " 'research',\n",
       " 'working_paper',\n",
       " 'crisis',\n",
       " 'capital',\n",
       " 'control',\n",
       " 'financial',\n",
       " 'integration',\n",
       " 'levy',\n",
       " 'van']"
      ]
     },
     "metadata": {},
     "execution_count": 130
    }
   ],
   "source": [
    "words[:10]"
   ]
  },
  {
   "cell_type": "code",
   "execution_count": 148,
   "metadata": {},
   "outputs": [],
   "source": [
    "vecs_df = pd.DataFrame(reduced_vecs, columns=['x', 'y', 'z'])\n",
    "meta_df = pd.DataFrame()\n",
    "meta_df['word'] = words\n",
    "meta_df['cluster'] = clusterer.labels_\n",
    "meta_df['count'] = counts"
   ]
  },
  {
   "cell_type": "code",
   "execution_count": 149,
   "metadata": {},
   "outputs": [],
   "source": [
    "vecs_df = vecs_df - vecs_df.mean()"
   ]
  },
  {
   "cell_type": "code",
   "execution_count": 150,
   "metadata": {},
   "outputs": [],
   "source": [
    "vecs_df = pd.concat([vecs_df, meta_df], axis=1)"
   ]
  },
  {
   "cell_type": "code",
   "execution_count": 153,
   "metadata": {},
   "outputs": [],
   "source": [
    "# vecs_df.sample(n=2000, random_state=1029)\n",
    "undersample = [-1]\n",
    "cand_vecs = vecs_df[~vecs_df['cluster'].isin(undersample)]\n",
    "sample_vecs = vecs_df[vecs_df['cluster'].isin(undersample)].sort_values('count', ascending=False).head(1000)  # .sample(n=200, random_state=1029)\n",
    "\n",
    "cand_vecs = pd.concat([cand_vecs, sample_vecs])\n",
    "\n",
    "cand_vecs.to_csv(dir_manager.get_path_from_root('app', 'app_vue2', 'public', 'static', 'data', 'w2v_vecs.csv'), index=None)"
   ]
  },
  {
   "cell_type": "code",
   "execution_count": 143,
   "metadata": {},
   "outputs": [
    {
     "output_type": "execute_result",
     "data": {
      "text/plain": [
       "              x         y         z                word  cluster\n",
       "66     8.609283  1.049061 -6.849031                econ        5\n",
       "370   -4.090233 -0.292543 -7.632594              linear        0\n",
       "371   -4.052517 -0.165393 -7.535110          non_linear        0\n",
       "510   -3.695083 -0.266976 -7.850393         observation        0\n",
       "524   -3.859502 -0.417105 -8.079831  standard_deviation        0\n",
       "...         ...       ...       ...                 ...      ...\n",
       "10578  8.333376 -0.156833  1.680997              stance       -1\n",
       "3259   3.600918 -6.073382 -3.463656               cache       -1\n",
       "40090 -6.589330  1.117482  1.907287          spitefully       -1\n",
       "14101 -0.421665  2.408006 -5.514859              scribe       -1\n",
       "15406  1.134757 -8.096949  1.099387            overlain       -1\n",
       "\n",
       "[4004 rows x 5 columns]"
      ],
      "text/html": "<div>\n<style scoped>\n    .dataframe tbody tr th:only-of-type {\n        vertical-align: middle;\n    }\n\n    .dataframe tbody tr th {\n        vertical-align: top;\n    }\n\n    .dataframe thead th {\n        text-align: right;\n    }\n</style>\n<table border=\"1\" class=\"dataframe\">\n  <thead>\n    <tr style=\"text-align: right;\">\n      <th></th>\n      <th>x</th>\n      <th>y</th>\n      <th>z</th>\n      <th>word</th>\n      <th>cluster</th>\n    </tr>\n  </thead>\n  <tbody>\n    <tr>\n      <th>66</th>\n      <td>8.609283</td>\n      <td>1.049061</td>\n      <td>-6.849031</td>\n      <td>econ</td>\n      <td>5</td>\n    </tr>\n    <tr>\n      <th>370</th>\n      <td>-4.090233</td>\n      <td>-0.292543</td>\n      <td>-7.632594</td>\n      <td>linear</td>\n      <td>0</td>\n    </tr>\n    <tr>\n      <th>371</th>\n      <td>-4.052517</td>\n      <td>-0.165393</td>\n      <td>-7.535110</td>\n      <td>non_linear</td>\n      <td>0</td>\n    </tr>\n    <tr>\n      <th>510</th>\n      <td>-3.695083</td>\n      <td>-0.266976</td>\n      <td>-7.850393</td>\n      <td>observation</td>\n      <td>0</td>\n    </tr>\n    <tr>\n      <th>524</th>\n      <td>-3.859502</td>\n      <td>-0.417105</td>\n      <td>-8.079831</td>\n      <td>standard_deviation</td>\n      <td>0</td>\n    </tr>\n    <tr>\n      <th>...</th>\n      <td>...</td>\n      <td>...</td>\n      <td>...</td>\n      <td>...</td>\n      <td>...</td>\n    </tr>\n    <tr>\n      <th>10578</th>\n      <td>8.333376</td>\n      <td>-0.156833</td>\n      <td>1.680997</td>\n      <td>stance</td>\n      <td>-1</td>\n    </tr>\n    <tr>\n      <th>3259</th>\n      <td>3.600918</td>\n      <td>-6.073382</td>\n      <td>-3.463656</td>\n      <td>cache</td>\n      <td>-1</td>\n    </tr>\n    <tr>\n      <th>40090</th>\n      <td>-6.589330</td>\n      <td>1.117482</td>\n      <td>1.907287</td>\n      <td>spitefully</td>\n      <td>-1</td>\n    </tr>\n    <tr>\n      <th>14101</th>\n      <td>-0.421665</td>\n      <td>2.408006</td>\n      <td>-5.514859</td>\n      <td>scribe</td>\n      <td>-1</td>\n    </tr>\n    <tr>\n      <th>15406</th>\n      <td>1.134757</td>\n      <td>-8.096949</td>\n      <td>1.099387</td>\n      <td>overlain</td>\n      <td>-1</td>\n    </tr>\n  </tbody>\n</table>\n<p>4004 rows × 5 columns</p>\n</div>"
     },
     "metadata": {},
     "execution_count": 143
    }
   ],
   "source": [
    "cand_vecs"
   ]
  },
  {
   "cell_type": "code",
   "execution_count": null,
   "metadata": {},
   "outputs": [],
   "source": []
  }
 ],
 "metadata": {
  "kernelspec": {
   "display_name": "wb_nlp",
   "language": "python",
   "name": "wb_nlp"
  },
  "language_info": {
   "codemirror_mode": {
    "name": "ipython",
    "version": 3
   },
   "file_extension": ".py",
   "mimetype": "text/x-python",
   "name": "python",
   "nbconvert_exporter": "python",
   "pygments_lexer": "ipython3",
   "version": "3.8.5-final"
  },
  "pycharm": {
   "stem_cell": {
    "cell_type": "raw",
    "metadata": {
     "collapsed": false
    },
    "source": []
   }
  }
 },
 "nbformat": 4,
 "nbformat_minor": 4
}