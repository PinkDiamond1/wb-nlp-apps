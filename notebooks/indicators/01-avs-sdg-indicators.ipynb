{
 "cells": [
  {
   "cell_type": "code",
   "execution_count": 1,
   "metadata": {},
   "outputs": [],
   "source": [
    "import pandas as pd\n",
    "import numpy as np"
   ]
  },
  {
   "cell_type": "code",
   "execution_count": 2,
   "metadata": {},
   "outputs": [],
   "source": [
    "from wb_nlp import dir_manager"
   ]
  },
  {
   "cell_type": "markdown",
   "metadata": {},
   "source": [
    "**PLEASE** save this file right now using the following naming convention: `NUMBER_FOR_SORTING-YOUR_INITIALS-SHORT_DESCRIPTION`, e.g. `1.0-fw-initial-data-exploration`. Use the number to order the file within the directory according to its usage."
   ]
  },
  {
   "cell_type": "code",
   "execution_count": 3,
   "metadata": {},
   "outputs": [],
   "source": [
    "sdg_goals = pd.read_csv(dir_manager.get_data_dir(\"preprocessed\", \"timeseries\", \"sdg\", \"sdg_goals.csv\"), encoding=\"latin\")\n",
    "sdg_indicators = pd.read_csv(dir_manager.get_data_dir(\"preprocessed\", \"timeseries\", \"sdg\", \"sdg_indicators.csv\"), encoding=\"latin\")\n",
    "sdg_targets = pd.read_csv(dir_manager.get_data_dir(\"preprocessed\", \"timeseries\", \"sdg\", \"sdg_targets.csv\"), encoding=\"latin\")\n",
    "sdg_time_series_metadata = pd.read_csv(dir_manager.get_data_dir(\"preprocessed\", \"timeseries\", \"sdg\", \"sdg_time_series_metadata.csv\"), encoding=\"latin\")"
   ]
  },
  {
   "cell_type": "code",
   "execution_count": 4,
   "metadata": {},
   "outputs": [],
   "source": [
    "sdg_time_series_metadata[\"txt_meta\"] = sdg_time_series_metadata[\"txt_meta\"].str.replace(\"NANA \", \"\")\n",
    "sdg_goals[\"goal\"] = sdg_goals[\"code\"]\n",
    "sdg_goals[\"goal_title\"] = sdg_goals[\"title\"]\n",
    "sdg_goals[\"goal_uri\"] = sdg_goals[\"uri\"]\n",
    "\n",
    "sdg_targets[\"target\"] = sdg_targets[\"code\"]\n",
    "sdg_targets[\"target_title\"] = sdg_targets[\"title\"]\n",
    "sdg_targets[\"target_uri\"] = sdg_targets[\"uri\"]\n",
    "\n",
    "sdg_indicators[\"indicator\"] = sdg_indicators[\"code\"]\n",
    "sdg_indicators[\"indicator_description\"] = sdg_indicators[\"description\"]\n",
    "sdg_indicators[\"indicator_uri\"] = sdg_indicators[\"uri\"]"
   ]
  },
  {
   "cell_type": "code",
   "execution_count": 5,
   "metadata": {},
   "outputs": [],
   "source": [
    "sdg_time_series_metadata_merged_data = sdg_time_series_metadata.merge(\n",
    "    sdg_goals[[\"goal\", \"goal_title\", \"goal_uri\"]], on=\"goal\", how=\"left\").merge(\n",
    "        sdg_targets[[\"target\", \"target_title\", \"target_uri\"]], on=\"target\", how=\"left\").merge(\n",
    "            sdg_indicators[[\"indicator\", \"indicator_description\", \"indicator_uri\"]], on=\"indicator\", how=\"left\")\n",
    "sdg_time_series_metadata_merged_data.to_csv(dir_manager.get_data_dir(\"preprocessed\", \"timeseries\", \"sdg\", \"sdg_time_series_metadata_merged_data.csv\"), index=None)"
   ]
  },
  {
   "cell_type": "code",
   "execution_count": null,
   "metadata": {},
   "outputs": [],
   "source": []
  }
 ],
 "metadata": {
  "kernelspec": {
   "display_name": "wb_nlp",
   "language": "python",
   "name": "wb_nlp"
  },
  "language_info": {
   "codemirror_mode": {
    "name": "ipython",
    "version": 3
   },
   "file_extension": ".py",
   "mimetype": "text/x-python",
   "name": "python",
   "nbconvert_exporter": "python",
   "pygments_lexer": "ipython3",
   "version": "3.8.5-final"
  },
  "pycharm": {
   "stem_cell": {
    "cell_type": "raw",
    "metadata": {
     "collapsed": false
    },
    "source": []
   }
  }
 },
 "nbformat": 4,
 "nbformat_minor": 4
}