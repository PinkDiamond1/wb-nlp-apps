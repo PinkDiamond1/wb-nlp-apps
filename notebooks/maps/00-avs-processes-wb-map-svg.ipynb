{
 "cells": [
  {
   "source": [
    "# Generation of WB SVG Map\n",
    "\n",
    "1. Download data from: [https://datacatalog.worldbank.org/dataset/world-subnational-boundaries](https://datacatalog.worldbank.org/dataset/world-subnational-boundaries) → [https://ddh-s3-official-internal.worldbank.org/ddhfiles/93822/geospatial/Subnational_Boundaries/country_polygons.zip](https://ddh-s3-official-internal.worldbank.org/ddhfiles/93822/geospatial/Subnational_Boundaries/country_polygons.zip)\n",
    "2. Go to [https://mapshaper.org/](https://mapshaper.org/) and upload the shapefile.\n",
    "3. Save as SVG and CSV.\n",
    "4. Process SVG file to include data from CSV. The order of the path appears to be in the same order as the rows in the CSV.\n",
    "5. Take note of the \"Rules\" column."
   ],
   "cell_type": "markdown",
   "metadata": {}
  },
  {
   "cell_type": "code",
   "execution_count": 1,
   "metadata": {},
   "outputs": [],
   "source": [
    "import pandas as pd\n",
    "from wb_nlp import dir_manager\n",
    "import json\n",
    "\n",
    "import xml\n",
    "import xml.etree.ElementTree as ET\n",
    "\n",
    "ET.register_namespace('', \"http://www.w3.org/2000/svg\")\n",
    "\n",
    "import re\n",
    "SPECIAL_NAME_PATTERN = re.compile(r\"(\\S+), (.+)\")\n",
    "\n",
    "def process_special_name(value):\n",
    "    value = SPECIAL_NAME_PATTERN.sub(r\"\\2 \\1\", value)\n",
    "    return value"
   ]
  },
  {
   "cell_type": "code",
   "execution_count": 2,
   "metadata": {},
   "outputs": [
    {
     "output_type": "execute_result",
     "data": {
      "text/plain": [
       "{'KOS', 'XXX'}"
      ]
     },
     "metadata": {},
     "execution_count": 2
    }
   ],
   "source": [
    "with open(dir_manager.get_path_from_root(\"app\", \"app_kcp\", \"public\", \"static\", \"data\", \"iso3166-3-country-info.json\")) as json_file:\n",
    "    iso3map = json.load(json_file)\n",
    "\n",
    "meta = pd.read_csv(dir_manager.get_data_dir(\"maps\", \"WB\", \"WB_CountryPolys.csv\"))\n",
    "set(meta[\"ISO_Codes\"].values).difference(iso3map)"
   ]
  },
  {
   "cell_type": "code",
   "execution_count": 3,
   "metadata": {},
   "outputs": [],
   "source": [
    "meta[\"title\"] = meta[\"Names\"]\n",
    "special_name_filter = meta[\"Names\"].str.contains(',') & meta[\"Rules\"].str.contains(\"Always have .* before\")\n",
    "\n",
    "meta.loc[special_name_filter, \"title\"] = meta[special_name_filter][\"title\"].map(process_special_name)\n",
    "\n",
    "meta[\"id\"] = meta[\"ISO_Codes\"]\n",
    "meta.loc[meta[\"id\"] == \"ESH\", \"id\"] = \"XXX\"\n",
    "meta.loc[meta[\"id\"] == \"XXX\", \"id\"] = meta.loc[meta[\"id\"] == \"XXX\", \"id\"] + \"_\" + meta.loc[meta[\"id\"] == \"XXX\", \"title\"].str.lower().str.replace(\" \", \"_\")"
   ]
  },
  {
   "cell_type": "code",
   "execution_count": 4,
   "metadata": {},
   "outputs": [],
   "source": [
    "import copy"
   ]
  },
  {
   "cell_type": "code",
   "execution_count": 5,
   "metadata": {},
   "outputs": [],
   "source": [
    "simplified = True\n",
    "\n",
    "if simplified:\n",
    "    tree = ET.parse(dir_manager.get_data_dir(\"maps\", \"WB\", \"WB_CountryPolys - Simplified.svg\"))\n",
    "else:\n",
    "    tree = ET.parse(dir_manager.get_data_dir(\"maps\", \"WB\", \"WB_CountryPolys.svg\"))\n",
    "\n",
    "root = tree.getroot()\n",
    "root.attrib[\"id\"] = \"map-svg\"\n",
    "remove_p = []\n",
    "\n",
    "for child in root:\n",
    "    # child=g\n",
    "    xxx_p = []\n",
    "    for m, p in zip(meta.to_dict(\"records\"), child):\n",
    "        id = iso3map.get(m[\"id\"], {}).get(\"alpha-2\", m[\"id\"])\n",
    "        if simplified and id == \"TF\":\n",
    "            # French Southern and Antarctic Lands (Fr.)\n",
    "            remove_p.append(p)\n",
    "            continue\n",
    "\n",
    "        p.attrib[\"id\"] = iso3map.get(m[\"id\"], {}).get(\"alpha-2\", m[\"id\"])\n",
    "        p.attrib[\"title\"] = m[\"title\"]\n",
    "        p.attrib[\"class\"] = \"land\"\n",
    "        p.attrib[\"d\"] = p.attrib[\"d\"]\n",
    "\n",
    "        if m[\"id\"].startswith(\"XXX_\"):\n",
    "            pp = copy.deepcopy(p)\n",
    "            p.attrib[\"id\"] = p.attrib[\"id\"] + \"_mask\"\n",
    "            p.attrib[\"class\"] = f'{p.attrib[\"class\"]} xxx-mask'\n",
    "            pp.attrib[\"class\"] = f'{pp.attrib[\"class\"]} xxx'\n",
    "\n",
    "            xxx_p.append(pp)\n",
    "\n",
    "    for pp in xxx_p:\n",
    "        child.append(pp)\n",
    "\n",
    "for p in remove_p:\n",
    "    child.remove(p)"
   ]
  },
  {
   "cell_type": "code",
   "execution_count": 6,
   "metadata": {},
   "outputs": [
    {
     "output_type": "execute_result",
     "data": {
      "text/plain": [
       "259"
      ]
     },
     "metadata": {},
     "execution_count": 6
    }
   ],
   "source": [
    "len(list(child))"
   ]
  },
  {
   "cell_type": "code",
   "execution_count": 7,
   "metadata": {},
   "outputs": [
    {
     "output_type": "execute_result",
     "data": {
      "text/plain": [
       "'320'"
      ]
     },
     "metadata": {},
     "execution_count": 7
    }
   ],
   "source": [
    "# Use some attributes from original vue-map-chart Map.\n",
    "root.attrib[\"width\"] = \"100%\"\n",
    "root.attrib.pop(\"height\")"
   ]
  },
  {
   "cell_type": "code",
   "execution_count": 8,
   "metadata": {},
   "outputs": [],
   "source": [
    "tree.write(dir_manager.get_data_dir(\"maps\", \"WB\", \"WB_CountryPolys-00-avs-processes-wb-map-svg.svg\"))"
   ]
  },
  {
   "cell_type": "code",
   "execution_count": 10,
   "metadata": {},
   "outputs": [],
   "source": [
    "# width=\"100%\" viewBox=\"0 0 1008 650\""
   ]
  },
  {
   "cell_type": "code",
   "execution_count": 12,
   "metadata": {},
   "outputs": [
    {
     "output_type": "execute_result",
     "data": {
      "text/plain": [
       "1.5507692307692307"
      ]
     },
     "metadata": {},
     "execution_count": 12
    }
   ],
   "source": [
    "1008 / 650"
   ]
  },
  {
   "cell_type": "code",
   "execution_count": 13,
   "metadata": {},
   "outputs": [
    {
     "output_type": "execute_result",
     "data": {
      "text/plain": [
       "2.5"
      ]
     },
     "metadata": {},
     "execution_count": 13
    }
   ],
   "source": [
    "800 / 320"
   ]
  },
  {
   "cell_type": "code",
   "execution_count": null,
   "metadata": {},
   "outputs": [],
   "source": []
  }
 ],
 "metadata": {
  "kernelspec": {
   "display_name": "wb_nlp",
   "language": "python",
   "name": "wb_nlp"
  },
  "language_info": {
   "codemirror_mode": {
    "name": "ipython",
    "version": 3
   },
   "file_extension": ".py",
   "mimetype": "text/x-python",
   "name": "python",
   "nbconvert_exporter": "python",
   "pygments_lexer": "ipython3",
   "version": "3.8.5-final"
  },
  "pycharm": {
   "stem_cell": {
    "cell_type": "raw",
    "metadata": {
     "collapsed": false
    },
    "source": []
   }
  }
 },
 "nbformat": 4,
 "nbformat_minor": 4
}