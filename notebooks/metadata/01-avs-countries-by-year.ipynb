{
 "cells": [
  {
   "cell_type": "code",
   "execution_count": 1,
   "metadata": {},
   "outputs": [],
   "source": [
    "import numpy as np\n",
    "import pandas as pd\n",
    "from wb_nlp import dir_manager\n"
   ]
  },
  {
   "cell_type": "code",
   "execution_count": 2,
   "metadata": {},
   "outputs": [],
   "source": [
    "import pymongo\n",
    "\n",
    "client = pymongo.MongoClient(host='mongodb', port=27017)\n",
    "db = client['nlp']\n",
    "collection = db['metadata']"
   ]
  },
  {
   "cell_type": "code",
   "execution_count": 3,
   "metadata": {},
   "outputs": [
    {
     "output_type": "stream",
     "name": "stdout",
     "text": [
      "CPU times: user 1.26 s, sys: 76.9 ms, total: 1.34 s\nWall time: 1.63 s\n"
     ]
    }
   ],
   "source": [
    "%%time\n",
    "\n",
    "d = collection.find(\n",
    "    {'corpus': 'wb'},\n",
    "    projection=['year', 'countries'])\n",
    "\n",
    "data = [i for i in d]\n",
    "df = pd.DataFrame(data).set_index('_id')"
   ]
  },
  {
   "cell_type": "code",
   "execution_count": 3,
   "metadata": {},
   "outputs": [
    {
     "output_type": "stream",
     "name": "stdout",
     "text": [
      "CPU times: user 12.7 s, sys: 280 ms, total: 13 s\nWall time: 13.3 s\n"
     ]
    }
   ],
   "source": [
    "%%time\n",
    "\n",
    "d = collection.find(\n",
    "    {'corpus': 'wb'},\n",
    "    projection=['year', 'countries'])\n",
    "\n",
    "data = [i for i in d]\n",
    "df = pd.DataFrame(data).set_index('_id')\n",
    "country_df = pd.DataFrame(df['countries'].tolist(), index=df.index)"
   ]
  },
  {
   "cell_type": "code",
   "execution_count": 4,
   "metadata": {},
   "outputs": [
    {
     "output_type": "stream",
     "name": "stdout",
     "text": [
      "CPU times: user 11.3 s, sys: 213 ms, total: 11.5 s\nWall time: 11.5 s\n"
     ]
    }
   ],
   "source": [
    "%%time\n",
    "country_df = pd.DataFrame.from_records(df['countries'].tolist(), index=df.index)"
   ]
  },
  {
   "cell_type": "code",
   "execution_count": 3,
   "metadata": {},
   "outputs": [
    {
     "output_type": "stream",
     "name": "stdout",
     "text": [
      "CPU times: user 12.4 s, sys: 272 ms, total: 12.7 s\nWall time: 13 s\n"
     ]
    }
   ],
   "source": [
    "%%time\n",
    "d = collection.find(\n",
    "    {'corpus': 'wb'},\n",
    "    projection=['year', 'countries'])\n",
    "\n",
    "dc = pd.DataFrame.from_records([i['countries'] for i in d])"
   ]
  },
  {
   "cell_type": "code",
   "execution_count": 4,
   "metadata": {},
   "outputs": [
    {
     "output_type": "execute_result",
     "data": {
      "text/plain": [
       "         ARG   BRA   CHL  COL   IDN   MEX  MYS   PER   RUS  THA  ...  SSD  \\\n",
       "0       30.0  13.0  20.0  2.0  18.0  13.0  3.0   2.0  10.0  4.0  ...  NaN   \n",
       "1        2.0   2.0   2.0  NaN   NaN   2.0  NaN   1.0   NaN  1.0  ...  NaN   \n",
       "2        NaN   NaN   NaN  NaN   NaN   NaN  NaN   NaN   NaN  NaN  ...  NaN   \n",
       "3        NaN   NaN   NaN  NaN   NaN   NaN  NaN   NaN   NaN  NaN  ...  NaN   \n",
       "4        NaN   NaN   NaN  NaN   NaN   NaN  NaN   NaN   NaN  NaN  ...  NaN   \n",
       "...      ...   ...   ...  ...   ...   ...  ...   ...   ...  ...  ...  ...   \n",
       "222022   NaN   NaN   NaN  NaN   NaN   NaN  NaN   NaN   NaN  NaN  ...  NaN   \n",
       "222023   1.0   NaN   3.0  2.0   NaN  11.0  NaN  12.0   NaN  NaN  ...  NaN   \n",
       "222024   NaN   NaN   NaN  NaN   NaN   NaN  NaN   NaN   NaN  NaN  ...  NaN   \n",
       "222025   NaN   NaN   NaN  NaN   NaN   NaN  NaN   NaN   NaN  NaN  ...  NaN   \n",
       "222026   NaN   NaN   NaN  NaN   NaN   NaN  NaN   NaN   NaN  NaN  ...  NaN   \n",
       "\n",
       "        ESH  ATA  PCN  WLF  BVT  CUW  FRO  BLM  SXM  \n",
       "0       NaN  NaN  NaN  NaN  NaN  NaN  NaN  NaN  NaN  \n",
       "1       NaN  NaN  NaN  NaN  NaN  NaN  NaN  NaN  NaN  \n",
       "2       NaN  NaN  NaN  NaN  NaN  NaN  NaN  NaN  NaN  \n",
       "3       NaN  NaN  NaN  NaN  NaN  NaN  NaN  NaN  NaN  \n",
       "4       NaN  NaN  NaN  NaN  NaN  NaN  NaN  NaN  NaN  \n",
       "...     ...  ...  ...  ...  ...  ...  ...  ...  ...  \n",
       "222022  NaN  NaN  NaN  NaN  NaN  NaN  NaN  NaN  NaN  \n",
       "222023  NaN  NaN  NaN  NaN  NaN  NaN  NaN  NaN  NaN  \n",
       "222024  NaN  NaN  NaN  NaN  NaN  NaN  NaN  NaN  NaN  \n",
       "222025  NaN  NaN  NaN  NaN  NaN  NaN  NaN  NaN  NaN  \n",
       "222026  NaN  NaN  NaN  NaN  NaN  NaN  NaN  NaN  NaN  \n",
       "\n",
       "[222027 rows x 245 columns]"
      ],
      "text/html": "<div>\n<style scoped>\n    .dataframe tbody tr th:only-of-type {\n        vertical-align: middle;\n    }\n\n    .dataframe tbody tr th {\n        vertical-align: top;\n    }\n\n    .dataframe thead th {\n        text-align: right;\n    }\n</style>\n<table border=\"1\" class=\"dataframe\">\n  <thead>\n    <tr style=\"text-align: right;\">\n      <th></th>\n      <th>ARG</th>\n      <th>BRA</th>\n      <th>CHL</th>\n      <th>COL</th>\n      <th>IDN</th>\n      <th>MEX</th>\n      <th>MYS</th>\n      <th>PER</th>\n      <th>RUS</th>\n      <th>THA</th>\n      <th>...</th>\n      <th>SSD</th>\n      <th>ESH</th>\n      <th>ATA</th>\n      <th>PCN</th>\n      <th>WLF</th>\n      <th>BVT</th>\n      <th>CUW</th>\n      <th>FRO</th>\n      <th>BLM</th>\n      <th>SXM</th>\n    </tr>\n  </thead>\n  <tbody>\n    <tr>\n      <th>0</th>\n      <td>30.0</td>\n      <td>13.0</td>\n      <td>20.0</td>\n      <td>2.0</td>\n      <td>18.0</td>\n      <td>13.0</td>\n      <td>3.0</td>\n      <td>2.0</td>\n      <td>10.0</td>\n      <td>4.0</td>\n      <td>...</td>\n      <td>NaN</td>\n      <td>NaN</td>\n      <td>NaN</td>\n      <td>NaN</td>\n      <td>NaN</td>\n      <td>NaN</td>\n      <td>NaN</td>\n      <td>NaN</td>\n      <td>NaN</td>\n      <td>NaN</td>\n    </tr>\n    <tr>\n      <th>1</th>\n      <td>2.0</td>\n      <td>2.0</td>\n      <td>2.0</td>\n      <td>NaN</td>\n      <td>NaN</td>\n      <td>2.0</td>\n      <td>NaN</td>\n      <td>1.0</td>\n      <td>NaN</td>\n      <td>1.0</td>\n      <td>...</td>\n      <td>NaN</td>\n      <td>NaN</td>\n      <td>NaN</td>\n      <td>NaN</td>\n      <td>NaN</td>\n      <td>NaN</td>\n      <td>NaN</td>\n      <td>NaN</td>\n      <td>NaN</td>\n      <td>NaN</td>\n    </tr>\n    <tr>\n      <th>2</th>\n      <td>NaN</td>\n      <td>NaN</td>\n      <td>NaN</td>\n      <td>NaN</td>\n      <td>NaN</td>\n      <td>NaN</td>\n      <td>NaN</td>\n      <td>NaN</td>\n      <td>NaN</td>\n      <td>NaN</td>\n      <td>...</td>\n      <td>NaN</td>\n      <td>NaN</td>\n      <td>NaN</td>\n      <td>NaN</td>\n      <td>NaN</td>\n      <td>NaN</td>\n      <td>NaN</td>\n      <td>NaN</td>\n      <td>NaN</td>\n      <td>NaN</td>\n    </tr>\n    <tr>\n      <th>3</th>\n      <td>NaN</td>\n      <td>NaN</td>\n      <td>NaN</td>\n      <td>NaN</td>\n      <td>NaN</td>\n      <td>NaN</td>\n      <td>NaN</td>\n      <td>NaN</td>\n      <td>NaN</td>\n      <td>NaN</td>\n      <td>...</td>\n      <td>NaN</td>\n      <td>NaN</td>\n      <td>NaN</td>\n      <td>NaN</td>\n      <td>NaN</td>\n      <td>NaN</td>\n      <td>NaN</td>\n      <td>NaN</td>\n      <td>NaN</td>\n      <td>NaN</td>\n    </tr>\n    <tr>\n      <th>4</th>\n      <td>NaN</td>\n      <td>NaN</td>\n      <td>NaN</td>\n      <td>NaN</td>\n      <td>NaN</td>\n      <td>NaN</td>\n      <td>NaN</td>\n      <td>NaN</td>\n      <td>NaN</td>\n      <td>NaN</td>\n      <td>...</td>\n      <td>NaN</td>\n      <td>NaN</td>\n      <td>NaN</td>\n      <td>NaN</td>\n      <td>NaN</td>\n      <td>NaN</td>\n      <td>NaN</td>\n      <td>NaN</td>\n      <td>NaN</td>\n      <td>NaN</td>\n    </tr>\n    <tr>\n      <th>...</th>\n      <td>...</td>\n      <td>...</td>\n      <td>...</td>\n      <td>...</td>\n      <td>...</td>\n      <td>...</td>\n      <td>...</td>\n      <td>...</td>\n      <td>...</td>\n      <td>...</td>\n      <td>...</td>\n      <td>...</td>\n      <td>...</td>\n      <td>...</td>\n      <td>...</td>\n      <td>...</td>\n      <td>...</td>\n      <td>...</td>\n      <td>...</td>\n      <td>...</td>\n      <td>...</td>\n    </tr>\n    <tr>\n      <th>222022</th>\n      <td>NaN</td>\n      <td>NaN</td>\n      <td>NaN</td>\n      <td>NaN</td>\n      <td>NaN</td>\n      <td>NaN</td>\n      <td>NaN</td>\n      <td>NaN</td>\n      <td>NaN</td>\n      <td>NaN</td>\n      <td>...</td>\n      <td>NaN</td>\n      <td>NaN</td>\n      <td>NaN</td>\n      <td>NaN</td>\n      <td>NaN</td>\n      <td>NaN</td>\n      <td>NaN</td>\n      <td>NaN</td>\n      <td>NaN</td>\n      <td>NaN</td>\n    </tr>\n    <tr>\n      <th>222023</th>\n      <td>1.0</td>\n      <td>NaN</td>\n      <td>3.0</td>\n      <td>2.0</td>\n      <td>NaN</td>\n      <td>11.0</td>\n      <td>NaN</td>\n      <td>12.0</td>\n      <td>NaN</td>\n      <td>NaN</td>\n      <td>...</td>\n      <td>NaN</td>\n      <td>NaN</td>\n      <td>NaN</td>\n      <td>NaN</td>\n      <td>NaN</td>\n      <td>NaN</td>\n      <td>NaN</td>\n      <td>NaN</td>\n      <td>NaN</td>\n      <td>NaN</td>\n    </tr>\n    <tr>\n      <th>222024</th>\n      <td>NaN</td>\n      <td>NaN</td>\n      <td>NaN</td>\n      <td>NaN</td>\n      <td>NaN</td>\n      <td>NaN</td>\n      <td>NaN</td>\n      <td>NaN</td>\n      <td>NaN</td>\n      <td>NaN</td>\n      <td>...</td>\n      <td>NaN</td>\n      <td>NaN</td>\n      <td>NaN</td>\n      <td>NaN</td>\n      <td>NaN</td>\n      <td>NaN</td>\n      <td>NaN</td>\n      <td>NaN</td>\n      <td>NaN</td>\n      <td>NaN</td>\n    </tr>\n    <tr>\n      <th>222025</th>\n      <td>NaN</td>\n      <td>NaN</td>\n      <td>NaN</td>\n      <td>NaN</td>\n      <td>NaN</td>\n      <td>NaN</td>\n      <td>NaN</td>\n      <td>NaN</td>\n      <td>NaN</td>\n      <td>NaN</td>\n      <td>...</td>\n      <td>NaN</td>\n      <td>NaN</td>\n      <td>NaN</td>\n      <td>NaN</td>\n      <td>NaN</td>\n      <td>NaN</td>\n      <td>NaN</td>\n      <td>NaN</td>\n      <td>NaN</td>\n      <td>NaN</td>\n    </tr>\n    <tr>\n      <th>222026</th>\n      <td>NaN</td>\n      <td>NaN</td>\n      <td>NaN</td>\n      <td>NaN</td>\n      <td>NaN</td>\n      <td>NaN</td>\n      <td>NaN</td>\n      <td>NaN</td>\n      <td>NaN</td>\n      <td>NaN</td>\n      <td>...</td>\n      <td>NaN</td>\n      <td>NaN</td>\n      <td>NaN</td>\n      <td>NaN</td>\n      <td>NaN</td>\n      <td>NaN</td>\n      <td>NaN</td>\n      <td>NaN</td>\n      <td>NaN</td>\n      <td>NaN</td>\n    </tr>\n  </tbody>\n</table>\n<p>222027 rows × 245 columns</p>\n</div>"
     },
     "metadata": {},
     "execution_count": 4
    }
   ],
   "source": [
    "dc"
   ]
  },
  {
   "cell_type": "code",
   "execution_count": 36,
   "metadata": {},
   "outputs": [],
   "source": [
    "group = country_df.groupby(df['year'])"
   ]
  },
  {
   "cell_type": "code",
   "execution_count": 38,
   "metadata": {},
   "outputs": [],
   "source": [
    "for group_ix, group_df in group:\n",
    "    break"
   ]
  },
  {
   "cell_type": "code",
   "execution_count": 41,
   "metadata": {},
   "outputs": [
    {
     "output_type": "execute_result",
     "data": {
      "text/plain": [
       "ARG    0\n",
       "BRA    2\n",
       "CHL    3\n",
       "COL    2\n",
       "IDN    0\n",
       "      ..\n",
       "BVT    0\n",
       "CUW    0\n",
       "FRO    0\n",
       "BLM    0\n",
       "SXM    0\n",
       "Length: 245, dtype: int64"
      ]
     },
     "metadata": {},
     "execution_count": 41
    }
   ],
   "source": [
    "(group_df > 0).sum()"
   ]
  },
  {
   "cell_type": "code",
   "execution_count": 53,
   "metadata": {},
   "outputs": [
    {
     "output_type": "stream",
     "name": "stdout",
     "text": [
      "CPU times: user 29.4 s, sys: 884 ms, total: 30.3 s\nWall time: 30.6 s\n"
     ]
    }
   ],
   "source": [
    "%%time\n",
    "d = collection.find(\n",
    "    {'corpus': 'wb'},\n",
    "    projection=['year', 'countries'])  # , sort=[('year', 1)])\n",
    "\n",
    "cdf = pd.DataFrame.from_dict({i['_id']: [i['year']] + [i['countries'].get(c, 0) for c in country_codes] for i in d}, orient='index', columns=['year'] + country_codes)\n",
    "\n",
    "# dd = {i['_id']: [i['year']] + [i['countries'].get(c, 0) for c in country_codes] for i in d}"
   ]
  },
  {
   "cell_type": "code",
   "execution_count": 54,
   "metadata": {},
   "outputs": [
    {
     "output_type": "execute_result",
     "data": {
      "text/plain": [
       "(222027, 246)"
      ]
     },
     "metadata": {},
     "execution_count": 54
    }
   ],
   "source": [
    "cdf.shape"
   ]
  },
  {
   "cell_type": "code",
   "execution_count": null,
   "metadata": {},
   "outputs": [],
   "source": []
  },
  {
   "cell_type": "code",
   "execution_count": 3,
   "metadata": {},
   "outputs": [],
   "source": [
    "## Hints\n",
    "\n",
    "# nlp = spacy.load('en_core_web_sm')"
   ]
  },
  {
   "cell_type": "code",
   "execution_count": null,
   "metadata": {},
   "outputs": [],
   "source": []
  }
 ],
 "metadata": {
  "kernelspec": {
   "display_name": "wb_nlp",
   "language": "python",
   "name": "wb_nlp"
  },
  "language_info": {
   "codemirror_mode": {
    "name": "ipython",
    "version": 3
   },
   "file_extension": ".py",
   "mimetype": "text/x-python",
   "name": "python",
   "nbconvert_exporter": "python",
   "pygments_lexer": "ipython3",
   "version": "3.8.5-final"
  },
  "pycharm": {
   "stem_cell": {
    "cell_type": "raw",
    "metadata": {
     "collapsed": false
    },
    "source": []
   }
  }
 },
 "nbformat": 4,
 "nbformat_minor": 4
}