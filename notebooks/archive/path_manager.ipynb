{
 "cells": [
  {
   "cell_type": "code",
   "execution_count": null,
   "metadata": {
    "collapsed": true,
    "jupyter": {
     "outputs_hidden": true
    }
   },
   "outputs": [],
   "source": [
    "import os\n",
    "from datetime import datetime, timedelta, timezone"
   ]
  },
  {
   "cell_type": "code",
   "execution_count": null,
   "metadata": {
    "collapsed": true,
    "jupyter": {
     "outputs_hidden": true
    }
   },
   "outputs": [],
   "source": [
    "# ./SCRIPTS\n",
    "# ROOT_DIR = os.path.abspath(os.pardir)\n",
    "ROOT_DIR = '/home/wb536061/wb-nlp'\n",
    "CORPUS_DIR = os.path.join(\n",
    "    ROOT_DIR,  # /NLP\n",
    "    'CORPUS'\n",
    ")\n",
    "\n",
    "MODELS_DIR = os.path.join(\n",
    "    ROOT_DIR,  # /NLP\n",
    "    'MODELS'\n",
    ")\n",
    "\n",
    "def get_models_path(model_id):\n",
    "    return os.path.join(MODELS_DIR, model_id)\n",
    "\n",
    "def get_corpus_path(corpus_id):\n",
    "    return os.path.join(CORPUS_DIR, corpus_id)\n",
    "\n",
    "def get_txt_orig_path(corpus_id):\n",
    "    return os.path.join(get_corpus_path(corpus_id), 'TXT_ORIG')\n",
    "\n",
    "def get_txt_clean_path(corpus_id):\n",
    "    return os.path.join(get_corpus_path(corpus_id), 'TXT_CLEAN')\n",
    "\n",
    "def get_txt_clean_pos_path(corpus_id):\n",
    "    return os.path.join(get_corpus_path(corpus_id), 'TXT_CLEAN_POS')"
   ]
  },
  {
   "cell_type": "code",
   "execution_count": null,
   "metadata": {},
   "outputs": [],
   "source": [
    "def notify(fname, message, verbose=True):\n",
    "    message = f'{datetime.now()}: {message}'\n",
    "    with open(fname, 'a+') as fl:\n",
    "        fl.write(message + '\\n')\n",
    "        \n",
    "    if verbose:\n",
    "        print(message)"
   ]
  },
  {
   "cell_type": "code",
   "execution_count": null,
   "metadata": {},
   "outputs": [],
   "source": [
    "def get_workers(workers=None):\n",
    "    if workers is None:\n",
    "        workers = max(1, os.cpu_count() - 4)\n",
    "\n",
    "    return workers"
   ]
  }
 ],
 "metadata": {
  "kernelspec": {
   "display_name": "Python 3",
   "language": "python",
   "name": "python3"
  },
  "language_info": {
   "codemirror_mode": {
    "name": "ipython",
    "version": 3
   },
   "file_extension": ".py",
   "mimetype": "text/x-python",
   "name": "python",
   "nbconvert_exporter": "python",
   "pygments_lexer": "ipython3",
   "version": "3.8.3-final"
  }
 },
 "nbformat": 4,
 "nbformat_minor": 4
}