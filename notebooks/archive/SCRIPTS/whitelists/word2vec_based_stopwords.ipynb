{
 "cells": [
  {
   "cell_type": "code",
   "execution_count": 1,
   "metadata": {},
   "outputs": [],
   "source": [
    "%load_ext autotime"
   ]
  },
  {
   "cell_type": "code",
   "execution_count": 2,
   "metadata": {
    "collapsed": true
   },
   "outputs": [
    {
     "name": "stdout",
     "output_type": "stream",
     "text": [
      "time: 818 ms\n"
     ]
    }
   ],
   "source": [
    "from gensim.models import Word2Vec\n",
    "import pandas as pd"
   ]
  },
  {
   "cell_type": "code",
   "execution_count": 3,
   "metadata": {},
   "outputs": [
    {
     "name": "stdout",
     "output_type": "stream",
     "text": [
      "time: 206 ms\n"
     ]
    }
   ],
   "source": [
    "seed_stopwords = pd.DataFrame([\n",
    " ('apparently', 1.0),\n",
    " ('probably', 0.8390937447547913),\n",
    " ('evidently', 0.8294052481651306),\n",
    " ('presumably', 0.8188023567199707),\n",
    " ('hardly', 0.7875319719314575),\n",
    " ('appear', 0.787378191947937),\n",
    " ('unfortunately', 0.7837868928909302),\n",
    " ('fact', 0.7772772312164307),\n",
    " ('unfortunate', 0.7732532620429993),\n",
    " ('ironically', 0.7705456018447876),\n",
    " ('certainly', 0.7705019116401672),\n",
    " ('understandably', 0.7673231363296509),\n",
    " ('invariably', 0.7580824494361877),\n",
    " ('reportedly', 0.7531940937042236),\n",
    " ('consequently', 0.7490060329437256),\n",
    " ('apparent', 0.7460424900054932),\n",
    " ('spite', 0.7428934574127197),\n",
    " ('doubtless', 0.7419465780258179),\n",
    " ('nonetheless', 0.7400780320167542),\n",
    " ('instance', 0.7390176057815552),\n",
    " ('retrospect', 0.7377359867095947),\n",
    " ('reluctance', 0.7349330186843872),\n",
    " ('partly', 0.7349121570587158),\n",
    " ('undoubtedly', 0.7347872257232666),\n",
    " ('fortunately', 0.7295399904251099),\n",
    " ('seemingly', 0.727957546710968),\n",
    " ('regrettably', 0.7267500162124634),\n",
    " ('somewhat', 0.721666693687439),\n",
    " ('supposedly', 0.7208758592605591),\n",
    " ('surprising', 0.7194303274154663),\n",
    " ('furthermore', 0.7173203229904175),\n",
    " ('lately', 0.717261552810669),\n",
    " ('justifiably', 0.7159839868545532),\n",
    " ('insistence', 0.715480387210846),\n",
    " ('believe', 0.7151108384132385),\n",
    " ('thirdly', 0.7138779163360596),\n",
    " ('inasmuch', 0.7135094404220581),\n",
    " ('frustrate', 0.7133501172065735),\n",
    " ('despite', 0.7101860046386719),\n",
    " ('secondly', 0.7098859548568726),\n",
    " ('obviously', 0.7096436619758606),\n",
    " ('exceedingly', 0.7088456749916077),\n",
    " ('unwise', 0.7081157565116882),\n",
    " ('hesitant', 0.7059129476547241),\n",
    " ('frequently', 0.704648494720459),\n",
    " ('paradoxical', 0.7034616470336914),\n",
    " ('fourthly', 0.7031441330909729),\n",
    " ('hindsight', 0.7031058073043823),\n",
    " ('quite', 0.7013343572616577),\n",
    " ('admittedly', 0.6981176137924194),\n",
    " ('similarly', 0.6971890926361084),\n",
    " ('hesitate', 0.697176456451416),\n",
    " ('paradoxically', 0.6961568593978882),\n",
    " ('disappoint', 0.6960050463676453),\n",
    " ('contend', 0.6950528621673584),\n",
    " ('incidentally', 0.6946284770965576),\n",
    " ('counterproductive', 0.6921879649162292),\n",
    " ('tendency', 0.6918014883995056),\n",
    " ('feel', 0.6903105974197388),\n",
    " ('blame', 0.689503014087677),\n",
    " ('seldom', 0.6866805553436279),\n",
    " ('unwillingness', 0.6859998106956482),\n",
    " ('reluctant', 0.68572998046875),\n",
    " ('questionable', 0.6845988035202026),\n",
    " ('obvious', 0.6844072937965393),\n",
    " ('evident', 0.6828304529190063),\n",
    " ('regrettable', 0.6822127103805542),\n",
    " ('tempt', 0.681695282459259),\n",
    " ('unrealistic', 0.6806047558784485),\n",
    " ('argue', 0.6804105043411255),\n",
    " ('actually', 0.680142879486084),\n",
    " ('repeatedly', 0.6791273355484009),\n",
    " ('definitely', 0.6790086030960083),\n",
    " ('surely', 0.6774123907089233),\n",
    " ('debatable', 0.6770284175872803),\n",
    " ('upshot', 0.6758793592453003),\n",
    " ('belatedly', 0.674808144569397),\n",
    " ('largely', 0.6731097102165222),\n",
    " ('arguable', 0.6723946928977966),\n",
    " ('insist', 0.6718101501464844),\n",
    " ('ostensibly', 0.6716570854187012),\n",
    " ('generally', 0.6683032512664795),\n",
    " ('finally', 0.667681097984314),\n",
    " ('disappointed', 0.6674596667289734),\n",
    " ('hesitancy', 0.667090892791748),\n",
    " ('reason', 0.6667847633361816),\n",
    " ('tend', 0.6649478673934937),\n",
    " ('little', 0.6642776131629944),\n",
    " ('contrary', 0.6641995906829834),\n",
    " ('curiously', 0.6631113886833191),\n",
    " ('exaggerated', 0.6625392436981201),\n",
    " ('simply', 0.6623421907424927),\n",
    " ('conceivably', 0.6618717312812805),\n",
    " ('unwilling', 0.6618508100509644),\n",
    " ('skeptical', 0.6615005731582642),\n",
    " ('possibly', 0.6604959964752197),\n",
    " ('surprisingly', 0.6588937640190125),\n",
    " ('tempting', 0.65784752368927),\n",
    " ('surmise', 0.6570038795471191),\n",
    " ('unrealistically', 0.6555074453353882),\n",
    " ('hesitation', 0.6550709009170532)\n",
    " ]\n",
    ")"
   ]
  },
  {
   "cell_type": "code",
   "execution_count": 4,
   "metadata": {},
   "outputs": [
    {
     "name": "stdout",
     "output_type": "stream",
     "text": [
      "time: 534 ms\n"
     ]
    }
   ],
   "source": [
    "model = Word2Vec.load('../../MODELS/WORD2VEC/wb-w2vec_ALL_100.mm')"
   ]
  },
  {
   "cell_type": "code",
   "execution_count": null,
   "metadata": {},
   "outputs": [],
   "source": [
    "['somebody', 'anybody']"
   ]
  },
  {
   "cell_type": "code",
   "execution_count": 5,
   "metadata": {
    "scrolled": true
   },
   "outputs": [
    {
     "name": "stderr",
     "output_type": "stream",
     "text": [
      "/home/wb536061/anaconda3/lib/python3.7/site-packages/gensim/matutils.py:737: FutureWarning: Conversion of the second argument of issubdtype from `int` to `np.signedinteger` is deprecated. In future, it will be treated as `np.int64 == np.dtype(int).type`.\n",
      "  if np.issubdtype(vec.dtype, np.int):\n"
     ]
    },
    {
     "data": {
      "text/plain": [
       "[('somebody', 0.8846042156219482),\n",
       " ('everybody', 0.8563317060470581),\n",
       " ('afraid', 0.8123350739479065),\n",
       " ('laughter', 0.7998414039611816),\n",
       " ('angry', 0.7886130809783936),\n",
       " ('guess', 0.7841173410415649),\n",
       " ('sorry', 0.7764849662780762),\n",
       " ('okay', 0.7723720073699951),\n",
       " ('forget', 0.7704649567604065),\n",
       " ('ridiculous', 0.7704159021377563)]"
      ]
     },
     "execution_count": 5,
     "metadata": {},
     "output_type": "execute_result"
    },
    {
     "name": "stdout",
     "output_type": "stream",
     "text": [
      "time: 50.1 ms\n"
     ]
    }
   ],
   "source": [
    "model.wv.most_similar('anybody', topn=10)"
   ]
  },
  {
   "cell_type": "code",
   "execution_count": 6,
   "metadata": {},
   "outputs": [
    {
     "name": "stdout",
     "output_type": "stream",
     "text": [
      "time: 252 ms\n"
     ]
    }
   ],
   "source": [
    "words = list(sorted(model.wv.vocab))\n",
    "vectors = model.wv[words]"
   ]
  },
  {
   "cell_type": "markdown",
   "metadata": {},
   "source": [
    "# Perform clustering"
   ]
  },
  {
   "cell_type": "code",
   "execution_count": 7,
   "metadata": {},
   "outputs": [
    {
     "name": "stdout",
     "output_type": "stream",
     "text": [
      "time: 93.7 ms\n"
     ]
    }
   ],
   "source": [
    "from sklearn.cluster import DBSCAN, AgglomerativeClustering\n",
    "from collections import Counter"
   ]
  },
  {
   "cell_type": "code",
   "execution_count": 20,
   "metadata": {},
   "outputs": [
    {
     "data": {
      "text/plain": [
       "AgglomerativeClustering(affinity='cosine', compute_full_tree='auto',\n",
       "            connectivity=None, linkage='average', memory=None,\n",
       "            n_clusters=1000,\n",
       "            pooling_func=<function mean at 0x7f2b004d9f28>)"
      ]
     },
     "execution_count": 20,
     "metadata": {},
     "output_type": "execute_result"
    },
    {
     "name": "stdout",
     "output_type": "stream",
     "text": [
      "time: 4.07 ms\n"
     ]
    }
   ],
   "source": [
    "# dbs = DBSCAN(eps=0.2, metric='cosine')\n",
    "dbs = AgglomerativeClustering(n_clusters=1000, linkage='average', affinity='cosine')\n",
    "dbs"
   ]
  },
  {
   "cell_type": "code",
   "execution_count": 21,
   "metadata": {},
   "outputs": [
    {
     "name": "stdout",
     "output_type": "stream",
     "text": [
      "time: 1min 49s\n"
     ]
    }
   ],
   "source": [
    "c = dbs.fit_predict(vectors)  # [:10000])"
   ]
  },
  {
   "cell_type": "code",
   "execution_count": 10,
   "metadata": {},
   "outputs": [
    {
     "data": {
      "text/plain": [
       "39142"
      ]
     },
     "execution_count": 10,
     "metadata": {},
     "output_type": "execute_result"
    },
    {
     "name": "stdout",
     "output_type": "stream",
     "text": [
      "time: 4.69 ms\n"
     ]
    }
   ],
   "source": [
    "len(c)"
   ]
  },
  {
   "cell_type": "code",
   "execution_count": 11,
   "metadata": {},
   "outputs": [
    {
     "data": {
      "text/plain": [
       "1000"
      ]
     },
     "execution_count": 11,
     "metadata": {},
     "output_type": "execute_result"
    },
    {
     "name": "stdout",
     "output_type": "stream",
     "text": [
      "time: 16.6 ms\n"
     ]
    }
   ],
   "source": [
    "len(Counter(c))"
   ]
  },
  {
   "cell_type": "code",
   "execution_count": 17,
   "metadata": {},
   "outputs": [
    {
     "data": {
      "text/plain": [
       "395"
      ]
     },
     "execution_count": 17,
     "metadata": {},
     "output_type": "execute_result"
    },
    {
     "name": "stdout",
     "output_type": "stream",
     "text": [
      "time: 4.88 ms\n"
     ]
    }
   ],
   "source": [
    "a_c = c[words.index('definitely')]\n",
    "a_c"
   ]
  },
  {
   "cell_type": "code",
   "execution_count": 18,
   "metadata": {},
   "outputs": [
    {
     "data": {
      "text/plain": [
       "49"
      ]
     },
     "execution_count": 18,
     "metadata": {},
     "output_type": "execute_result"
    },
    {
     "name": "stdout",
     "output_type": "stream",
     "text": [
      "time: 8.41 ms\n"
     ]
    }
   ],
   "source": [
    "len([i for i in c if i == a_c])"
   ]
  },
  {
   "cell_type": "code",
   "execution_count": 19,
   "metadata": {},
   "outputs": [
    {
     "name": "stdout",
     "output_type": "stream",
     "text": [
      "absolutely\n",
      "adamant\n",
      "admonish\n",
      "asking\n",
      "beg\n",
      "blame\n",
      "broach\n",
      "condolence\n",
      "definitely\n",
      "disappointed\n",
      "dismay\n",
      "dutifully\n",
      "emphatic\n",
      "feel\n",
      "fervently\n",
      "frustrated\n",
      "gamer\n",
      "gladly\n",
      "happen\n",
      "heartfelt\n",
      "heartily\n",
      "imprimatur\n",
      "incidentally\n",
      "ironic\n",
      "lament\n",
      "maybe\n",
      "platitude\n",
      "poignant\n",
      "ponder\n",
      "questioner\n",
      "really\n",
      "reiteration\n",
      "remiss\n",
      "rhetorically\n",
      "rude\n",
      "shaky\n",
      "shy\n",
      "sincerest\n",
      "sure\n",
      "surprised\n",
      "tease\n",
      "thing\n",
      "think\n",
      "unstinting\n",
      "wane\n",
      "whittle\n",
      "wholehearted\n",
      "wholeheartedly\n",
      "wonder\n",
      "time: 25.8 ms\n"
     ]
    }
   ],
   "source": [
    "for word, cluster_num in zip(words, c):\n",
    "    if cluster_num == a_c:\n",
    "        print(word)"
   ]
  },
  {
   "cell_type": "code",
   "execution_count": 72,
   "metadata": {},
   "outputs": [
    {
     "data": {
      "text/plain": [
       "'abandoned'"
      ]
     },
     "execution_count": 72,
     "metadata": {},
     "output_type": "execute_result"
    }
   ],
   "source": [
    "words[7]"
   ]
  },
  {
   "cell_type": "code",
   "execution_count": 79,
   "metadata": {},
   "outputs": [
    {
     "name": "stderr",
     "output_type": "stream",
     "text": [
      "/home/wb536061/anaconda3/lib/python3.7/site-packages/gensim/matutils.py:737: FutureWarning: Conversion of the second argument of issubdtype from `int` to `np.signedinteger` is deprecated. In future, it will be treated as `np.int64 == np.dtype(int).type`.\n",
      "  if np.issubdtype(vec.dtype, np.int):\n"
     ]
    },
    {
     "data": {
      "text/plain": [
       "[('world', 0.7101852893829346),\n",
       " ('dank', 0.6781506538391113),\n",
       " ('hank', 0.6407009363174438),\n",
       " ('sank', 0.6382498741149902),\n",
       " ('lank', 0.6120572090148926),\n",
       " ('bonk', 0.5930657386779785),\n",
       " ('borrower', 0.5898059010505676),\n",
       " ('banking', 0.5654722452163696),\n",
       " ('lending', 0.5428406596183777),\n",
       " ('international_monetary_fund', 0.5316556692123413)]"
      ]
     },
     "execution_count": 79,
     "metadata": {},
     "output_type": "execute_result"
    }
   ],
   "source": [
    "model.wv.most_similar('bank')"
   ]
  },
  {
   "cell_type": "code",
   "execution_count": 22,
   "metadata": {},
   "outputs": [
    {
     "name": "stdout",
     "output_type": "stream",
     "text": [
      "time: 11.1 ms\n"
     ]
    }
   ],
   "source": [
    "ranks_nl_stopwords = pd.read_csv('ranks_nl_stopwords.csv', index_col=None, header=None)"
   ]
  },
  {
   "cell_type": "code",
   "execution_count": 26,
   "metadata": {},
   "outputs": [
    {
     "name": "stdout",
     "output_type": "stream",
     "text": [
      "time: 2.03 ms\n"
     ]
    }
   ],
   "source": [
    "in_vocab_stops = [i for i in ranks_nl_stopwords[0].values if i in model.wv.vocab]"
   ]
  },
  {
   "cell_type": "code",
   "execution_count": 27,
   "metadata": {},
   "outputs": [
    {
     "data": {
      "text/plain": [
       "275"
      ]
     },
     "execution_count": 27,
     "metadata": {},
     "output_type": "execute_result"
    },
    {
     "name": "stdout",
     "output_type": "stream",
     "text": [
      "time: 3.71 ms\n"
     ]
    }
   ],
   "source": [
    "len(in_vocab_stops)"
   ]
  },
  {
   "cell_type": "code",
   "execution_count": 28,
   "metadata": {},
   "outputs": [
    {
     "data": {
      "text/plain": [
       "['able',\n",
       " 'accordance',\n",
       " 'according',\n",
       " 'accordingly',\n",
       " 'act',\n",
       " 'actually',\n",
       " 'added',\n",
       " 'adj',\n",
       " 'affected',\n",
       " 'affecting']"
      ]
     },
     "execution_count": 28,
     "metadata": {},
     "output_type": "execute_result"
    },
    {
     "name": "stdout",
     "output_type": "stream",
     "text": [
      "time: 4.79 ms\n"
     ]
    }
   ],
   "source": [
    "in_vocab_stops[:10]"
   ]
  },
  {
   "cell_type": "code",
   "execution_count": 32,
   "metadata": {},
   "outputs": [
    {
     "name": "stderr",
     "output_type": "stream",
     "text": [
      "/home/wb536061/anaconda3/lib/python3.7/site-packages/ipykernel_launcher.py:1: DeprecationWarning: Call to deprecated `most_similar` (Method will be removed in 4.0.0, use self.wv.most_similar() instead).\n",
      "  \"\"\"Entry point for launching an IPython kernel.\n",
      "/home/wb536061/anaconda3/lib/python3.7/site-packages/gensim/matutils.py:737: FutureWarning: Conversion of the second argument of issubdtype from `int` to `np.signedinteger` is deprecated. In future, it will be treated as `np.int64 == np.dtype(int).type`.\n",
      "  if np.issubdtype(vec.dtype, np.int):\n"
     ]
    },
    {
     "data": {
      "text/plain": [
       "[('pap', 0.8160226345062256),\n",
       " ('impacted', 0.8012040853500366),\n",
       " ('displaced', 0.7698447704315186),\n",
       " ('resettle', 0.7664699554443359),\n",
       " ('displace', 0.7511543035507202),\n",
       " ('pah', 0.7461246848106384),\n",
       " ('affect', 0.7428274154663086),\n",
       " ('compensation', 0.7303268313407898),\n",
       " ('relocate', 0.7245460748672485),\n",
       " ('relocation', 0.7001446485519409)]"
      ]
     },
     "execution_count": 32,
     "metadata": {},
     "output_type": "execute_result"
    },
    {
     "name": "stdout",
     "output_type": "stream",
     "text": [
      "time: 10.3 ms\n"
     ]
    }
   ],
   "source": [
    "model.most_similar('affected')"
   ]
  },
  {
   "cell_type": "code",
   "execution_count": null,
   "metadata": {},
   "outputs": [],
   "source": []
  }
 ],
 "metadata": {
  "kernelspec": {
   "display_name": "Python 3",
   "language": "python",
   "name": "python3"
  },
  "language_info": {
   "codemirror_mode": {
    "name": "ipython",
    "version": 3
   },
   "file_extension": ".py",
   "mimetype": "text/x-python",
   "name": "python",
   "nbconvert_exporter": "python",
   "pygments_lexer": "ipython3",
   "version": "3.7.0"
  }
 },
 "nbformat": 4,
 "nbformat_minor": 2
}
