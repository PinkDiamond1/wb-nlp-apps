{
 "cells": [
  {
   "cell_type": "code",
   "execution_count": null,
   "metadata": {
    "collapsed": true
   },
   "outputs": [],
   "source": [
    "import os\n",
    "import json\n",
    "\n",
    "import pandas as pd\n",
    "from gensim.corpora import Dictionary\n",
    "from gensim.models.wrappers import LdaMallet"
   ]
  },
  {
   "cell_type": "code",
   "execution_count": null,
   "metadata": {
    "collapsed": true
   },
   "outputs": [],
   "source": [
    "def transform_dt(dt):\n",
    "    # Adapted from prepare-data (https://github.com/agoldst/dfr-browser/blob/master/bin/prepare-data)\n",
    "    # topic x doc matrix\n",
    "\n",
    "    D = len(dt[0])\n",
    "    p = [0]\n",
    "    i = []\n",
    "    x = []\n",
    "    p_cur = 0\n",
    "    for topic_docs in dt:\n",
    "        for d in range(D):\n",
    "            if topic_docs[d] != 0:\n",
    "                i.append(int(d))\n",
    "                x.append(int(topic_docs[d]))\n",
    "                p_cur += 1\n",
    "        p.append(int(p_cur))\n",
    "        \n",
    "    # x -> weight\n",
    "    # i -> document\n",
    "    # p -> bound (p[t+1] - p[t] = # of docs in topic)\n",
    "\n",
    "    return({ \"i\": i, \"p\": p, \"x\": x })\n",
    "\n",
    "\n",
    "def get_tw(model, n=50):\n",
    "    topic_weights = []\n",
    "    \n",
    "    for i in range(model.num_topics):\n",
    "        words, weights = zip(*model.show_topic(i, topn=n))\n",
    "        topic_weights.append(dict(words=list(words), weights=list(weights)))\n",
    "        \n",
    "    alpha = [model.topic_threshold] * model.num_topics\n",
    "\n",
    "    return dict(alpha=alpha, tw=topic_weights)"
   ]
  },
  {
   "cell_type": "code",
   "execution_count": null,
   "metadata": {
    "collapsed": true
   },
   "outputs": [],
   "source": [
    "def get_top_words(word_topics, topic=None, topn=50):\n",
    "    topic = word_topics.index if topic is None else topic\n",
    "    if not hasattr(topic, '__iter__'):\n",
    "        topic = [topic]\n",
    "\n",
    "    top_words = pd.DataFrame()\n",
    "    for i in word_topics.index:\n",
    "        words = word_topics.loc[i].sort_values(ascending=False)\n",
    "        words = words.head(topn).reset_index()\n",
    "        words.columns = ['word', 'weight']\n",
    "        words['topic'] = i\n",
    "        words = words[['topic', 'word', 'weight']]\n",
    "\n",
    "        if top_words.empty:\n",
    "            top_words = words\n",
    "        else:\n",
    "            top_words = pd.concat([top_words, words], axis=0)\n",
    "\n",
    "    top_words.weight = top_words.weight.astype(int)\n",
    "    return top_words"
   ]
  },
  {
   "cell_type": "markdown",
   "metadata": {},
   "source": [
    "# Similarity functions"
   ]
  },
  {
   "cell_type": "code",
   "execution_count": null,
   "metadata": {
    "collapsed": true
   },
   "outputs": [],
   "source": [
    "from sklearn.metrics import euclidean_distances"
   ]
  },
  {
   "cell_type": "code",
   "execution_count": null,
   "metadata": {
    "collapsed": true
   },
   "outputs": [],
   "source": [
    "def print_result_links(docs, id, similarity):\n",
    "    doc = docs.doclist[docs.doclist['id'] == id][['id', 'title', 'txt_url', 'pdf_url']].iloc[0]\n",
    "    p = f'id: {doc[\"id\"]} \\ntitle: {doc.title} \\nurl: {doc.txt_url} \\npdf_url: {doc.pdf_url}\\n'    \n",
    "    sim = f'similarity: {100 * similarity:0.2f}%\\n' if similarity is not None else ''\n",
    "\n",
    "    print(p + sim)\n",
    "    \n",
    "\n",
    "def close_docs(docs, doc_id, num_docs, report=False, **kwargs):\n",
    "    dt = kwargs['dt']\n",
    "    ed = euclidean_distances(dt.loc[doc_id].values.reshape(1, -1), dt.values)\n",
    "    doc_ids = dt.index[ed.argsort()[0, 0:num_docs]]\n",
    "    \n",
    "    if report:\n",
    "        for doc_id in doc_ids:\n",
    "            print_result_links(docs, doc_id, None)\n",
    "            \n",
    "    return doc_ids"
   ]
  }
 ],
 "metadata": {
  "kernelspec": {
   "display_name": "Python 3",
   "language": "python",
   "name": "python3"
  },
  "language_info": {
   "codemirror_mode": {
    "name": "ipython",
    "version": 3
   },
   "file_extension": ".py",
   "mimetype": "text/x-python",
   "name": "python",
   "nbconvert_exporter": "python",
   "pygments_lexer": "ipython3",
   "version": "3.8.3-final"
  }
 },
 "nbformat": 4,
 "nbformat_minor": 2
}