{
 "cells": [
  {
   "cell_type": "code",
   "execution_count": 1,
   "metadata": {},
   "outputs": [],
   "source": [
    "%%capture\n",
    "\n",
    "# get_corpus_path\n",
    "# get_txt_orig_path\n",
    "# get_txt_clean_path\n",
    "%run ../path_manager.ipynb"
   ]
  },
  {
   "cell_type": "code",
   "execution_count": 2,
   "metadata": {},
   "outputs": [
    {
     "name": "stdout",
     "output_type": "stream",
     "text": [
      "importing Jupyter notebook from /home/wb536061/wbes2474/NLP/SCRIPTS/acronyms/AcronymModule.ipynb\n"
     ]
    }
   ],
   "source": [
    "# CorpusCleaner\n",
    "%run ../DataCleanerModule.ipynb\n",
    "\n",
    "## Jupyter.notebook.save_checkpoint()"
   ]
  },
  {
   "cell_type": "code",
   "execution_count": 3,
   "metadata": {},
   "outputs": [],
   "source": [
    "# w = spacy.load('/R/spacy_data/en_core_web_sm/en_core_web_sm-2.0.0', disable=['parser', 'ner', 'textcat'])\n",
    "\n",
    "# from spacy.lemmatizer import Lemmatizer\n",
    "# from nltk.corpus import wordnet\n",
    "# l = Lemmatizer()\n",
    "# lm = l('substantially', 'ADV')\n",
    "\n",
    "# l = WordNetLemmatizer()\n",
    "# l.lemmatize('substantially', wordnet.VERB)\n",
    "# [token.lemma_ for token in w('initial jobless claim fall low level result to substantially lower expectation time.')]"
   ]
  },
  {
   "cell_type": "code",
   "execution_count": 4,
   "metadata": {},
   "outputs": [
    {
     "data": {
      "text/plain": [
       "True"
      ]
     },
     "execution_count": 4,
     "metadata": {},
     "output_type": "execute_result"
    }
   ],
   "source": [
    "ENCHANT_INSTALLED"
   ]
  },
  {
   "cell_type": "markdown",
   "metadata": {},
   "source": [
    "# Misspelling correction"
   ]
  },
  {
   "cell_type": "code",
   "execution_count": 5,
   "metadata": {},
   "outputs": [],
   "source": [
    "CORPUS_ID = 'IDB'"
   ]
  },
  {
   "cell_type": "code",
   "execution_count": 6,
   "metadata": {},
   "outputs": [],
   "source": [
    "TXT_ORIG_DIR = get_txt_orig_path(CORPUS_ID)\n",
    "# TXT_CLEAN_DIR = os.path.join(get_corpus_path(CORPUS_ID), 'TXT_PCLEAN')  # \n",
    "TXT_CLEAN_DIR = get_txt_clean_path(CORPUS_ID)\n"
   ]
  },
  {
   "cell_type": "code",
   "execution_count": 7,
   "metadata": {},
   "outputs": [],
   "source": [
    "metadata_file = pd.read_csv(os.path.join(get_corpus_path(CORPUS_ID), f'{CORPUS_ID.lower()}_metadata.csv'), low_memory=False)"
   ]
  },
  {
   "cell_type": "code",
   "execution_count": 8,
   "metadata": {},
   "outputs": [],
   "source": [
    "#metadata_file['url_txt'] = metadata_file['url_pdf'].map(lambda x: x[0])\n",
    "metadata_file['url_txt'] = metadata_file['url_pdf']"
   ]
  },
  {
   "cell_type": "code",
   "execution_count": 9,
   "metadata": {},
   "outputs": [],
   "source": [
    "metadata_file = metadata_file.dropna(axis=0, subset=['url_txt'])"
   ]
  },
  {
   "cell_type": "code",
   "execution_count": 10,
   "metadata": {},
   "outputs": [
    {
     "data": {
      "text/plain": [
       "(13129, 27)"
      ]
     },
     "execution_count": 10,
     "metadata": {},
     "output_type": "execute_result"
    }
   ],
   "source": [
    "metadata_file.shape"
   ]
  },
  {
   "cell_type": "code",
   "execution_count": 11,
   "metadata": {},
   "outputs": [
    {
     "data": {
      "text/plain": [
       "(13129, 27)"
      ]
     },
     "execution_count": 11,
     "metadata": {},
     "output_type": "execute_result"
    }
   ],
   "source": [
    "metadata_file.shape"
   ]
  },
  {
   "cell_type": "code",
   "execution_count": 12,
   "metadata": {
    "scrolled": true
   },
   "outputs": [
    {
     "data": {
      "text/html": [
       "<div>\n",
       "<style scoped>\n",
       "    .dataframe tbody tr th:only-of-type {\n",
       "        vertical-align: middle;\n",
       "    }\n",
       "\n",
       "    .dataframe tbody tr th {\n",
       "        vertical-align: top;\n",
       "    }\n",
       "\n",
       "    .dataframe thead th {\n",
       "        text-align: right;\n",
       "    }\n",
       "</style>\n",
       "<table border=\"1\" class=\"dataframe\">\n",
       "  <thead>\n",
       "    <tr style=\"text-align: right;\">\n",
       "      <th></th>\n",
       "      <th>Unnamed: 0</th>\n",
       "      <th>title</th>\n",
       "      <th>date_published</th>\n",
       "      <th>idb_pub_description</th>\n",
       "      <th>idb_link</th>\n",
       "      <th>url_pdf</th>\n",
       "      <th>idb_tags</th>\n",
       "      <th>idb_keywords</th>\n",
       "      <th>file_urls</th>\n",
       "      <th>idb_metadata</th>\n",
       "      <th>...</th>\n",
       "      <th>Date</th>\n",
       "      <th>EDITOR</th>\n",
       "      <th>Data</th>\n",
       "      <th>corpus</th>\n",
       "      <th>idb_number_of_files</th>\n",
       "      <th>year</th>\n",
       "      <th>author</th>\n",
       "      <th>_id</th>\n",
       "      <th>id</th>\n",
       "      <th>url_txt</th>\n",
       "    </tr>\n",
       "  </thead>\n",
       "  <tbody>\n",
       "    <tr>\n",
       "      <td>0</td>\n",
       "      <td>0</td>\n",
       "      <td>NaN</td>\n",
       "      <td>Jan 2019</td>\n",
       "      <td>Este reporte macroeconómico para Centroamérica...</td>\n",
       "      <td>https://publications.iadb.org/es/ante-los-desa...</td>\n",
       "      <td>https://publications.iadb.org/publications/eng...</td>\n",
       "      <td>Macroeconomía  ,  , Desarrollo Económico  ,  ,...</td>\n",
       "      <td>Desarrollo Económico, Mercado Financiero, Inve...</td>\n",
       "      <td>https://publications.iadb.org/publications/eng...</td>\n",
       "      <td>{'Autor': ['\\n        ', '\\n              ', '...</td>\n",
       "      <td>...</td>\n",
       "      <td>NaN</td>\n",
       "      <td>NaN</td>\n",
       "      <td>NaN</td>\n",
       "      <td>idb</td>\n",
       "      <td>2</td>\n",
       "      <td>2019.0</td>\n",
       "      <td>['\\n        ', '\\n              ', 'Astudillo,...</td>\n",
       "      <td>idb_e32fad3f8fb20315e087a290a36b296306096391</td>\n",
       "      <td>idb_e32fad3f8fb20315e087a290a36b296306096391</td>\n",
       "      <td>https://publications.iadb.org/publications/eng...</td>\n",
       "    </tr>\n",
       "    <tr>\n",
       "      <td>1</td>\n",
       "      <td>1</td>\n",
       "      <td>NaN</td>\n",
       "      <td>Jan 2019</td>\n",
       "      <td>Este reporte macroeconómico para Centroamérica...</td>\n",
       "      <td>https://publications.iadb.org/es/ante-los-desa...</td>\n",
       "      <td>https://publications.iadb.org/publications/eng...</td>\n",
       "      <td>Macroeconomía  ,  , Desarrollo Económico  ,  ,...</td>\n",
       "      <td>Desarrollo Económico, Mercado Financiero, Inve...</td>\n",
       "      <td>https://publications.iadb.org/publications/eng...</td>\n",
       "      <td>{'Autor': ['\\n        ', '\\n              ', '...</td>\n",
       "      <td>...</td>\n",
       "      <td>NaN</td>\n",
       "      <td>NaN</td>\n",
       "      <td>NaN</td>\n",
       "      <td>idb</td>\n",
       "      <td>2</td>\n",
       "      <td>2019.0</td>\n",
       "      <td>['\\n        ', '\\n              ', 'Astudillo,...</td>\n",
       "      <td>idb_5210db904854f7d79d1078b57209428861518bd4</td>\n",
       "      <td>idb_5210db904854f7d79d1078b57209428861518bd4</td>\n",
       "      <td>https://publications.iadb.org/publications/eng...</td>\n",
       "    </tr>\n",
       "  </tbody>\n",
       "</table>\n",
       "<p>2 rows × 27 columns</p>\n",
       "</div>"
      ],
      "text/plain": [
       "   Unnamed: 0 title date_published  \\\n",
       "0           0   NaN       Jan 2019   \n",
       "1           1   NaN       Jan 2019   \n",
       "\n",
       "                                 idb_pub_description  \\\n",
       "0  Este reporte macroeconómico para Centroamérica...   \n",
       "1  Este reporte macroeconómico para Centroamérica...   \n",
       "\n",
       "                                            idb_link  \\\n",
       "0  https://publications.iadb.org/es/ante-los-desa...   \n",
       "1  https://publications.iadb.org/es/ante-los-desa...   \n",
       "\n",
       "                                             url_pdf  \\\n",
       "0  https://publications.iadb.org/publications/eng...   \n",
       "1  https://publications.iadb.org/publications/eng...   \n",
       "\n",
       "                                            idb_tags  \\\n",
       "0  Macroeconomía  ,  , Desarrollo Económico  ,  ,...   \n",
       "1  Macroeconomía  ,  , Desarrollo Económico  ,  ,...   \n",
       "\n",
       "                                        idb_keywords  \\\n",
       "0  Desarrollo Económico, Mercado Financiero, Inve...   \n",
       "1  Desarrollo Económico, Mercado Financiero, Inve...   \n",
       "\n",
       "                                           file_urls  \\\n",
       "0  https://publications.iadb.org/publications/eng...   \n",
       "1  https://publications.iadb.org/publications/eng...   \n",
       "\n",
       "                                        idb_metadata  ... Date EDITOR  Data  \\\n",
       "0  {'Autor': ['\\n        ', '\\n              ', '...  ...  NaN    NaN   NaN   \n",
       "1  {'Autor': ['\\n        ', '\\n              ', '...  ...  NaN    NaN   NaN   \n",
       "\n",
       "  corpus idb_number_of_files    year  \\\n",
       "0    idb                   2  2019.0   \n",
       "1    idb                   2  2019.0   \n",
       "\n",
       "                                              author  \\\n",
       "0  ['\\n        ', '\\n              ', 'Astudillo,...   \n",
       "1  ['\\n        ', '\\n              ', 'Astudillo,...   \n",
       "\n",
       "                                             _id  \\\n",
       "0   idb_e32fad3f8fb20315e087a290a36b296306096391   \n",
       "1   idb_5210db904854f7d79d1078b57209428861518bd4   \n",
       "\n",
       "                                              id  \\\n",
       "0   idb_e32fad3f8fb20315e087a290a36b296306096391   \n",
       "1   idb_5210db904854f7d79d1078b57209428861518bd4   \n",
       "\n",
       "                                             url_txt  \n",
       "0  https://publications.iadb.org/publications/eng...  \n",
       "1  https://publications.iadb.org/publications/eng...  \n",
       "\n",
       "[2 rows x 27 columns]"
      ]
     },
     "execution_count": 12,
     "metadata": {},
     "output_type": "execute_result"
    }
   ],
   "source": [
    "metadata_file.head(2)"
   ]
  },
  {
   "cell_type": "code",
   "execution_count": 14,
   "metadata": {
    "scrolled": true
   },
   "outputs": [
    {
     "name": "stdout",
     "output_type": "stream",
     "text": [
      "Doclen 18 < 50 = None\n",
      "CPU times: user 105 ms, sys: 8.29 ms, total: 113 ms\n",
      "Wall time: 139 ms\n"
     ]
    }
   ],
   "source": [
    "%%time\n",
    "cleaner=ParallelCorpusCleaner(\n",
    "    use_spellchecker=True, use_respeller=True, use_lemmatizer=True, use_spacy=True,\n",
    "    replacements_plurals_to_singular_file='../whitelists/whitelist_replacements_plurals_to_singular.csv',\n",
    "    acronyms_file='../whitelists/whitelist_acronyms.csv',\n",
    "    num_workers=1\n",
    ")\n",
    "\n",
    "cleaner.set_input_folder(TXT_ORIG_DIR)\n",
    "cleaner.set_output_folder(TXT_CLEAN_DIR)"
   ]
  },
  {
   "cell_type": "code",
   "execution_count": 15,
   "metadata": {},
   "outputs": [
    {
     "name": "stdout",
     "output_type": "stream",
     "text": [
      "/home/wb536061/wb-nlp/CORPUS/IDB/TXT_ORIG\n"
     ]
    }
   ],
   "source": [
    "print(cleaner.input_folder)"
   ]
  },
  {
   "cell_type": "markdown",
   "metadata": {},
   "source": [
    "# Run with subset dataset"
   ]
  },
  {
   "cell_type": "raw",
   "metadata": {},
   "source": [
    "2018-09-14 07:02:22.451123\n",
    "Docset 0\n",
    "Docset 100\n",
    "Set 100: 100 items for 217.14 seconds.\n",
    "Docset 200\n",
    "Set 201: 100 items for 275.97 seconds.\n",
    "Docset 300\n",
    "Empty doc post lemmatizer = wb_30355620"
   ]
  },
  {
   "cell_type": "code",
   "execution_count": 16,
   "metadata": {},
   "outputs": [
    {
     "data": {
      "text/plain": [
       "[]"
      ]
     },
     "execution_count": 16,
     "metadata": {},
     "output_type": "execute_result"
    }
   ],
   "source": [
    "cleaner.spell_cache_dict.keys()"
   ]
  },
  {
   "cell_type": "code",
   "execution_count": 18,
   "metadata": {},
   "outputs": [
    {
     "data": {
      "text/plain": [
       "'/home/wb536061/wb-nlp/CORPUS/IDB/TXT_ORIG'"
      ]
     },
     "execution_count": 18,
     "metadata": {},
     "output_type": "execute_result"
    }
   ],
   "source": [
    "cleaner.input_folder"
   ]
  },
  {
   "cell_type": "code",
   "execution_count": 19,
   "metadata": {},
   "outputs": [
    {
     "data": {
      "text/plain": [
       "'/home/wb536061/wb-nlp/CORPUS/IDB/TXT_CLEAN'"
      ]
     },
     "execution_count": 19,
     "metadata": {},
     "output_type": "execute_result"
    }
   ],
   "source": [
    "cleaner.output_folder"
   ]
  },
  {
   "cell_type": "code",
   "execution_count": 20,
   "metadata": {},
   "outputs": [],
   "source": [
    "# filepath = os.path.join(TXT_ORIG_DIR, 'wb_19431317.txt')\n",
    "# with open(filepath, 'rb') as fl:\n",
    "#     # Use context so that the file will be closed automatically upon exit from the context.\n",
    "#     text = fl.read()\n",
    "#     text = text.decode('utf-8', errors='ignore')\n",
    "#     text = text.lower()\n",
    "    \n",
    "# r = cleaner.clean_text(text, filen='wb_19431317')\n",
    "# l = cleaner.lemmatize_text(text)\n",
    "# print(r['exception'])\n",
    "# lmtzr_spacy = spacy.load('en_core_web_sm', disable=['parser', 'ner', 'textcat'])"
   ]
  },
  {
   "cell_type": "code",
   "execution_count": 21,
   "metadata": {},
   "outputs": [],
   "source": [
    "doclist = ['idb_0030d9b5e94e811312fd73f9eec71b16bd4b6219.txt', 'idb_ffe31f1b83295b9759637d168d15d9a6708c57fa.txt']"
   ]
  },
  {
   "cell_type": "code",
   "execution_count": 23,
   "metadata": {},
   "outputs": [],
   "source": [
    "# r = cleaner.clean_doc('idb_0030d9b5e94e811312fd73f9eec71b16bd4b6219', cleaner.input_folder + '/idb_0030d9b5e94e811312fd73f9eec71b16bd4b6219.txt')"
   ]
  },
  {
   "cell_type": "code",
   "execution_count": 24,
   "metadata": {},
   "outputs": [
    {
     "name": "stdout",
     "output_type": "stream",
     "text": [
      "9\n",
      "6\n",
      "<class 'list'>\n"
     ]
    }
   ],
   "source": [
    "import os\n",
    "import fnmatch\n",
    "\n",
    "doclist =[]\n",
    "# for file_name in os.listdir(r'C:\\Users\\odupr\\Documents\\GitHub\\DR\\decat-nlp-master\\CORPUS\\IDB\\TXT_ORIG'):\n",
    "for file_name in os.listdir(cleaner.input_folder):\n",
    "    if fnmatch.fnmatch(file_name, '*.txt'):\n",
    "        doclist.append(file_name)\n",
    "\n",
    "print(len(doclist))\n",
    "doclist=doclist[:-3]\n",
    "print(len(doclist))\n",
    "print(type(doclist))"
   ]
  },
  {
   "cell_type": "code",
   "execution_count": 25,
   "metadata": {},
   "outputs": [
    {
     "data": {
      "text/plain": [
       "'idb_00b949d5acbfc244df2df04e6a5e319e6e78e71a.txt'"
      ]
     },
     "execution_count": 25,
     "metadata": {},
     "output_type": "execute_result"
    }
   ],
   "source": [
    "doclist[0]"
   ]
  },
  {
   "cell_type": "code",
   "execution_count": 258,
   "metadata": {},
   "outputs": [],
   "source": [
    "#doclist = ['idb_0030d9b5e94e811312fd73f9eec71b16bd4b6219.txt', 'idb_ffe31f1b83295b9759637d168d15d9a6708c57fa.txt']"
   ]
  },
  {
   "cell_type": "code",
   "execution_count": 26,
   "metadata": {},
   "outputs": [],
   "source": [
    "# doclist = [f\"{id}\" for id in metadata_file['id'].sample(n=len(metadata_file), random_state=1029)]"
   ]
  },
  {
   "cell_type": "code",
   "execution_count": 27,
   "metadata": {
    "scrolled": true
   },
   "outputs": [
    {
     "name": "stdout",
     "output_type": "stream",
     "text": [
      "6\n",
      "2020-02-20 12:01:23.783028\n",
      "Exception received: pop from empty list\n",
      "2020-02-20 12:01:35.145392\n"
     ]
    }
   ],
   "source": [
    "# %%time\n",
    "# # doclist=['436966.txt', '2002839.txt']\n",
    "\n",
    "# doclist = [f\"{id}\" for id in metadata_file['id'].sample(n=len(metadata_file), random_state=1029)]\n",
    "\n",
    "print(len(doclist))\n",
    "# wb_8886341\n",
    "print(pd.datetime.now())\n",
    "output=cleaner.batch_clean_docs(\n",
    "    doclist,\n",
    "    #default_docs_per_worker=10,\n",
    "    batch_size=96,  # x4 of num_workers\n",
    "    save_docs=True,\n",
    "    skip_existing=True,\n",
    "    collect_spell_errors=False)\n",
    "print(pd.datetime.now())"
   ]
  },
  {
   "cell_type": "code",
   "execution_count": 28,
   "metadata": {},
   "outputs": [
    {
     "data": {
      "text/plain": [
       "{'lang': {'idb_00b949d5acbfc244df2df04e6a5e319e6e78e71a': ('es',\n",
       "   0.9999949521024909),\n",
       "  'idb_00a0d8179800ec6b8dbddfa5aa81a8cb01ddbb24': ('es', 0.9999950797588617),\n",
       "  'idb_00a443dfcb3aea1767755e2eb5126e5a459ccf0c': ('es', 0.9999939768738031),\n",
       "  'idb_00cfb45af7ec271e4044bac0862f1eec2a4cee3d': ('en', 0.9999969833464495),\n",
       "  'idb_00d8cbf2487b66d438dff17885a5ee66cf60fee1': ('en', 0.9999943138121478),\n",
       "  'idb_00cf6b7509d8f663991b594b84188a5f98047ccb': ('en', 0.9999968443251566)},\n",
       " 'tokens': {'idb_00b949d5acbfc244df2df04e6a5e319e6e78e71a': 0,\n",
       "  'idb_00a0d8179800ec6b8dbddfa5aa81a8cb01ddbb24': 0,\n",
       "  'idb_00a443dfcb3aea1767755e2eb5126e5a459ccf0c': 0,\n",
       "  'idb_00cfb45af7ec271e4044bac0862f1eec2a4cee3d': 20455,\n",
       "  'idb_00d8cbf2487b66d438dff17885a5ee66cf60fee1': 7450,\n",
       "  'idb_00cf6b7509d8f663991b594b84188a5f98047ccb': 9290},\n",
       " 'text': {},\n",
       " 'spell_errors': {},\n",
       " 'skipped': {'idb_00b949d5acbfc244df2df04e6a5e319e6e78e71a': 'Not in english | es:0.9999949521024909',\n",
       "  'idb_00a0d8179800ec6b8dbddfa5aa81a8cb01ddbb24': 'Not in english | es:0.9999950797588617',\n",
       "  'idb_00a443dfcb3aea1767755e2eb5126e5a459ccf0c': 'Not in english | es:0.9999939768738031',\n",
       "  'idb_00cfb45af7ec271e4044bac0862f1eec2a4cee3d': '',\n",
       "  'idb_00d8cbf2487b66d438dff17885a5ee66cf60fee1': '',\n",
       "  'idb_00cf6b7509d8f663991b594b84188a5f98047ccb': ''},\n",
       " 'exception': {'idb_00b949d5acbfc244df2df04e6a5e319e6e78e71a': None,\n",
       "  'idb_00a0d8179800ec6b8dbddfa5aa81a8cb01ddbb24': None,\n",
       "  'idb_00a443dfcb3aea1767755e2eb5126e5a459ccf0c': None,\n",
       "  'idb_00cfb45af7ec271e4044bac0862f1eec2a4cee3d': None,\n",
       "  'idb_00d8cbf2487b66d438dff17885a5ee66cf60fee1': None,\n",
       "  'idb_00cf6b7509d8f663991b594b84188a5f98047ccb': None},\n",
       " 'write_status': {'idb_00b949d5acbfc244df2df04e6a5e319e6e78e71a': False,\n",
       "  'idb_00a0d8179800ec6b8dbddfa5aa81a8cb01ddbb24': False,\n",
       "  'idb_00a443dfcb3aea1767755e2eb5126e5a459ccf0c': False,\n",
       "  'idb_00cfb45af7ec271e4044bac0862f1eec2a4cee3d': True,\n",
       "  'idb_00d8cbf2487b66d438dff17885a5ee66cf60fee1': True,\n",
       "  'idb_00cf6b7509d8f663991b594b84188a5f98047ccb': True}}"
      ]
     },
     "execution_count": 28,
     "metadata": {},
     "output_type": "execute_result"
    }
   ],
   "source": [
    "output"
   ]
  },
  {
   "cell_type": "code",
   "execution_count": null,
   "metadata": {},
   "outputs": [],
   "source": []
  },
  {
   "cell_type": "code",
   "execution_count": null,
   "metadata": {},
   "outputs": [],
   "source": [
    "process_output_manager = multiprocessing.Manager()\n",
    "process_output_dict = process_output_manager.dict()"
   ]
  },
  {
   "cell_type": "code",
   "execution_count": 297,
   "metadata": {},
   "outputs": [],
   "source": [
    "batch = {}\n",
    "fileid = doclist[0]\n",
    "filen = os.path.join(TXT_ORIG_DIR, fileid)\n",
    "save_docs = True\n",
    "process_output_dict = {}\n",
    "\n",
    "p = multiprocessing.Process(target=cleaner.clean_doc, args=(fileid, filen, save_docs, process_output_dict))  # , kwargs=kwargs)\n",
    "batch[fileid] = p"
   ]
  },
  {
   "cell_type": "code",
   "execution_count": 298,
   "metadata": {},
   "outputs": [
    {
     "ename": "TypeError",
     "evalue": "can't pickle module objects",
     "output_type": "error",
     "traceback": [
      "\u001b[1;31m---------------------------------------------------------------------------\u001b[0m",
      "\u001b[1;31mTypeError\u001b[0m                                 Traceback (most recent call last)",
      "\u001b[1;32m<ipython-input-298-6d4bb7ab5275>\u001b[0m in \u001b[0;36m<module>\u001b[1;34m\u001b[0m\n\u001b[1;32m----> 1\u001b[1;33m \u001b[0mp\u001b[0m\u001b[1;33m.\u001b[0m\u001b[0mstart\u001b[0m\u001b[1;33m(\u001b[0m\u001b[1;33m)\u001b[0m\u001b[1;33m\u001b[0m\u001b[1;33m\u001b[0m\u001b[0m\n\u001b[0m",
      "\u001b[1;32m~\\Anaconda3\\envs\\python374\\lib\\multiprocessing\\process.py\u001b[0m in \u001b[0;36mstart\u001b[1;34m(self)\u001b[0m\n\u001b[0;32m    110\u001b[0m                \u001b[1;34m'daemonic processes are not allowed to have children'\u001b[0m\u001b[1;33m\u001b[0m\u001b[1;33m\u001b[0m\u001b[0m\n\u001b[0;32m    111\u001b[0m         \u001b[0m_cleanup\u001b[0m\u001b[1;33m(\u001b[0m\u001b[1;33m)\u001b[0m\u001b[1;33m\u001b[0m\u001b[1;33m\u001b[0m\u001b[0m\n\u001b[1;32m--> 112\u001b[1;33m         \u001b[0mself\u001b[0m\u001b[1;33m.\u001b[0m\u001b[0m_popen\u001b[0m \u001b[1;33m=\u001b[0m \u001b[0mself\u001b[0m\u001b[1;33m.\u001b[0m\u001b[0m_Popen\u001b[0m\u001b[1;33m(\u001b[0m\u001b[0mself\u001b[0m\u001b[1;33m)\u001b[0m\u001b[1;33m\u001b[0m\u001b[1;33m\u001b[0m\u001b[0m\n\u001b[0m\u001b[0;32m    113\u001b[0m         \u001b[0mself\u001b[0m\u001b[1;33m.\u001b[0m\u001b[0m_sentinel\u001b[0m \u001b[1;33m=\u001b[0m \u001b[0mself\u001b[0m\u001b[1;33m.\u001b[0m\u001b[0m_popen\u001b[0m\u001b[1;33m.\u001b[0m\u001b[0msentinel\u001b[0m\u001b[1;33m\u001b[0m\u001b[1;33m\u001b[0m\u001b[0m\n\u001b[0;32m    114\u001b[0m         \u001b[1;31m# Avoid a refcycle if the target function holds an indirect\u001b[0m\u001b[1;33m\u001b[0m\u001b[1;33m\u001b[0m\u001b[1;33m\u001b[0m\u001b[0m\n",
      "\u001b[1;32m~\\Anaconda3\\envs\\python374\\lib\\multiprocessing\\context.py\u001b[0m in \u001b[0;36m_Popen\u001b[1;34m(process_obj)\u001b[0m\n\u001b[0;32m    221\u001b[0m     \u001b[1;33m@\u001b[0m\u001b[0mstaticmethod\u001b[0m\u001b[1;33m\u001b[0m\u001b[1;33m\u001b[0m\u001b[0m\n\u001b[0;32m    222\u001b[0m     \u001b[1;32mdef\u001b[0m \u001b[0m_Popen\u001b[0m\u001b[1;33m(\u001b[0m\u001b[0mprocess_obj\u001b[0m\u001b[1;33m)\u001b[0m\u001b[1;33m:\u001b[0m\u001b[1;33m\u001b[0m\u001b[1;33m\u001b[0m\u001b[0m\n\u001b[1;32m--> 223\u001b[1;33m         \u001b[1;32mreturn\u001b[0m \u001b[0m_default_context\u001b[0m\u001b[1;33m.\u001b[0m\u001b[0mget_context\u001b[0m\u001b[1;33m(\u001b[0m\u001b[1;33m)\u001b[0m\u001b[1;33m.\u001b[0m\u001b[0mProcess\u001b[0m\u001b[1;33m.\u001b[0m\u001b[0m_Popen\u001b[0m\u001b[1;33m(\u001b[0m\u001b[0mprocess_obj\u001b[0m\u001b[1;33m)\u001b[0m\u001b[1;33m\u001b[0m\u001b[1;33m\u001b[0m\u001b[0m\n\u001b[0m\u001b[0;32m    224\u001b[0m \u001b[1;33m\u001b[0m\u001b[0m\n\u001b[0;32m    225\u001b[0m \u001b[1;32mclass\u001b[0m \u001b[0mDefaultContext\u001b[0m\u001b[1;33m(\u001b[0m\u001b[0mBaseContext\u001b[0m\u001b[1;33m)\u001b[0m\u001b[1;33m:\u001b[0m\u001b[1;33m\u001b[0m\u001b[1;33m\u001b[0m\u001b[0m\n",
      "\u001b[1;32m~\\Anaconda3\\envs\\python374\\lib\\multiprocessing\\context.py\u001b[0m in \u001b[0;36m_Popen\u001b[1;34m(process_obj)\u001b[0m\n\u001b[0;32m    320\u001b[0m         \u001b[1;32mdef\u001b[0m \u001b[0m_Popen\u001b[0m\u001b[1;33m(\u001b[0m\u001b[0mprocess_obj\u001b[0m\u001b[1;33m)\u001b[0m\u001b[1;33m:\u001b[0m\u001b[1;33m\u001b[0m\u001b[1;33m\u001b[0m\u001b[0m\n\u001b[0;32m    321\u001b[0m             \u001b[1;32mfrom\u001b[0m \u001b[1;33m.\u001b[0m\u001b[0mpopen_spawn_win32\u001b[0m \u001b[1;32mimport\u001b[0m \u001b[0mPopen\u001b[0m\u001b[1;33m\u001b[0m\u001b[1;33m\u001b[0m\u001b[0m\n\u001b[1;32m--> 322\u001b[1;33m             \u001b[1;32mreturn\u001b[0m \u001b[0mPopen\u001b[0m\u001b[1;33m(\u001b[0m\u001b[0mprocess_obj\u001b[0m\u001b[1;33m)\u001b[0m\u001b[1;33m\u001b[0m\u001b[1;33m\u001b[0m\u001b[0m\n\u001b[0m\u001b[0;32m    323\u001b[0m \u001b[1;33m\u001b[0m\u001b[0m\n\u001b[0;32m    324\u001b[0m     \u001b[1;32mclass\u001b[0m \u001b[0mSpawnContext\u001b[0m\u001b[1;33m(\u001b[0m\u001b[0mBaseContext\u001b[0m\u001b[1;33m)\u001b[0m\u001b[1;33m:\u001b[0m\u001b[1;33m\u001b[0m\u001b[1;33m\u001b[0m\u001b[0m\n",
      "\u001b[1;32m~\\Anaconda3\\envs\\python374\\lib\\multiprocessing\\popen_spawn_win32.py\u001b[0m in \u001b[0;36m__init__\u001b[1;34m(self, process_obj)\u001b[0m\n\u001b[0;32m     87\u001b[0m             \u001b[1;32mtry\u001b[0m\u001b[1;33m:\u001b[0m\u001b[1;33m\u001b[0m\u001b[1;33m\u001b[0m\u001b[0m\n\u001b[0;32m     88\u001b[0m                 \u001b[0mreduction\u001b[0m\u001b[1;33m.\u001b[0m\u001b[0mdump\u001b[0m\u001b[1;33m(\u001b[0m\u001b[0mprep_data\u001b[0m\u001b[1;33m,\u001b[0m \u001b[0mto_child\u001b[0m\u001b[1;33m)\u001b[0m\u001b[1;33m\u001b[0m\u001b[1;33m\u001b[0m\u001b[0m\n\u001b[1;32m---> 89\u001b[1;33m                 \u001b[0mreduction\u001b[0m\u001b[1;33m.\u001b[0m\u001b[0mdump\u001b[0m\u001b[1;33m(\u001b[0m\u001b[0mprocess_obj\u001b[0m\u001b[1;33m,\u001b[0m \u001b[0mto_child\u001b[0m\u001b[1;33m)\u001b[0m\u001b[1;33m\u001b[0m\u001b[1;33m\u001b[0m\u001b[0m\n\u001b[0m\u001b[0;32m     90\u001b[0m             \u001b[1;32mfinally\u001b[0m\u001b[1;33m:\u001b[0m\u001b[1;33m\u001b[0m\u001b[1;33m\u001b[0m\u001b[0m\n\u001b[0;32m     91\u001b[0m                 \u001b[0mset_spawning_popen\u001b[0m\u001b[1;33m(\u001b[0m\u001b[1;32mNone\u001b[0m\u001b[1;33m)\u001b[0m\u001b[1;33m\u001b[0m\u001b[1;33m\u001b[0m\u001b[0m\n",
      "\u001b[1;32m~\\Anaconda3\\envs\\python374\\lib\\multiprocessing\\reduction.py\u001b[0m in \u001b[0;36mdump\u001b[1;34m(obj, file, protocol)\u001b[0m\n\u001b[0;32m     58\u001b[0m \u001b[1;32mdef\u001b[0m \u001b[0mdump\u001b[0m\u001b[1;33m(\u001b[0m\u001b[0mobj\u001b[0m\u001b[1;33m,\u001b[0m \u001b[0mfile\u001b[0m\u001b[1;33m,\u001b[0m \u001b[0mprotocol\u001b[0m\u001b[1;33m=\u001b[0m\u001b[1;32mNone\u001b[0m\u001b[1;33m)\u001b[0m\u001b[1;33m:\u001b[0m\u001b[1;33m\u001b[0m\u001b[1;33m\u001b[0m\u001b[0m\n\u001b[0;32m     59\u001b[0m     \u001b[1;34m'''Replacement for pickle.dump() using ForkingPickler.'''\u001b[0m\u001b[1;33m\u001b[0m\u001b[1;33m\u001b[0m\u001b[0m\n\u001b[1;32m---> 60\u001b[1;33m     \u001b[0mForkingPickler\u001b[0m\u001b[1;33m(\u001b[0m\u001b[0mfile\u001b[0m\u001b[1;33m,\u001b[0m \u001b[0mprotocol\u001b[0m\u001b[1;33m)\u001b[0m\u001b[1;33m.\u001b[0m\u001b[0mdump\u001b[0m\u001b[1;33m(\u001b[0m\u001b[0mobj\u001b[0m\u001b[1;33m)\u001b[0m\u001b[1;33m\u001b[0m\u001b[1;33m\u001b[0m\u001b[0m\n\u001b[0m\u001b[0;32m     61\u001b[0m \u001b[1;33m\u001b[0m\u001b[0m\n\u001b[0;32m     62\u001b[0m \u001b[1;31m#\u001b[0m\u001b[1;33m\u001b[0m\u001b[1;33m\u001b[0m\u001b[1;33m\u001b[0m\u001b[0m\n",
      "\u001b[1;31mTypeError\u001b[0m: can't pickle module objects"
     ]
    }
   ],
   "source": [
    "p.start()"
   ]
  },
  {
   "cell_type": "code",
   "execution_count": null,
   "metadata": {},
   "outputs": [],
   "source": []
  },
  {
   "cell_type": "code",
   "execution_count": 283,
   "metadata": {},
   "outputs": [
    {
     "data": {
      "text/plain": [
       "{'lang': {},\n",
       " 'tokens': {},\n",
       " 'text': {},\n",
       " 'spell_errors': {},\n",
       " 'skipped': {},\n",
       " 'exception': {},\n",
       " 'write_status': {}}"
      ]
     },
     "execution_count": 283,
     "metadata": {},
     "output_type": "execute_result"
    }
   ],
   "source": [
    "output"
   ]
  },
  {
   "cell_type": "code",
   "execution_count": 192,
   "metadata": {},
   "outputs": [
    {
     "name": "stdout",
     "output_type": "stream",
     "text": [
      "['idb_0006b71e45d59762f01c9860c854407efea51d52.txt', 'idb_00111d05b344011bcb613d56af4d3a5570a7dd19.txt', 'idb_0013cb48a5117cb237b45f7cda68423722cd5a76.txt', 'idb_0014a028c18503e532de986ab8ce8cbc19c4e1b2.txt', 'idb_0030d9b5e94e811312fd73f9eec71b16bd4b6219.txt']\n"
     ]
    }
   ],
   "source": [
    "#pineapple\n",
    "import os\n",
    "import fnmatch\n",
    "\n",
    "doclist =[]\n",
    "for file_name in os.listdir(r'C:\\Users\\odupr\\Documents\\GitHub\\DR\\decat-nlp-master\\CORPUS\\IDB\\TXT_ORIG'):\n",
    "    if fnmatch.fnmatch(file_name, '*.txt'):\n",
    "        doclist.append(file_name)\n",
    "\n",
    "print(doclist[0:5])\n",
    "fileid = doclist.pop(0)"
   ]
  },
  {
   "cell_type": "code",
   "execution_count": null,
   "metadata": {},
   "outputs": [],
   "source": []
  },
  {
   "cell_type": "code",
   "execution_count": null,
   "metadata": {},
   "outputs": [],
   "source": []
  },
  {
   "cell_type": "markdown",
   "metadata": {},
   "source": [
    "### Convert the output into a dataframe for easier processing"
   ]
  },
  {
   "cell_type": "code",
   "execution_count": 45,
   "metadata": {},
   "outputs": [
    {
     "data": {
      "text/plain": [
       "(0, 7)"
      ]
     },
     "execution_count": 45,
     "metadata": {},
     "output_type": "execute_result"
    }
   ],
   "source": [
    "misc_metadata = pd.DataFrame(output)\n",
    "misc_metadata.shape"
   ]
  },
  {
   "cell_type": "code",
   "execution_count": 46,
   "metadata": {},
   "outputs": [],
   "source": [
    "misc_metadata.to_csv(os.path.join(get_corpus_path(CORPUS_ID), f'{CORPUS_ID.lower()}_derived_metadata.csv'))"
   ]
  },
  {
   "cell_type": "code",
   "execution_count": 47,
   "metadata": {},
   "outputs": [
    {
     "data": {
      "text/html": [
       "<div>\n",
       "<style scoped>\n",
       "    .dataframe tbody tr th:only-of-type {\n",
       "        vertical-align: middle;\n",
       "    }\n",
       "\n",
       "    .dataframe tbody tr th {\n",
       "        vertical-align: top;\n",
       "    }\n",
       "\n",
       "    .dataframe thead th {\n",
       "        text-align: right;\n",
       "    }\n",
       "</style>\n",
       "<table border=\"1\" class=\"dataframe\">\n",
       "  <thead>\n",
       "    <tr style=\"text-align: right;\">\n",
       "      <th></th>\n",
       "      <th>lang</th>\n",
       "      <th>tokens</th>\n",
       "      <th>text</th>\n",
       "      <th>spell_errors</th>\n",
       "      <th>skipped</th>\n",
       "      <th>exception</th>\n",
       "      <th>write_status</th>\n",
       "    </tr>\n",
       "  </thead>\n",
       "  <tbody>\n",
       "  </tbody>\n",
       "</table>\n",
       "</div>"
      ],
      "text/plain": [
       "Empty DataFrame\n",
       "Columns: [lang, tokens, text, spell_errors, skipped, exception, write_status]\n",
       "Index: []"
      ]
     },
     "execution_count": 47,
     "metadata": {},
     "output_type": "execute_result"
    }
   ],
   "source": [
    "misc_metadata.head(2)"
   ]
  },
  {
   "cell_type": "markdown",
   "metadata": {},
   "source": [
    "Log items that were skipped due to some unexpected errors"
   ]
  },
  {
   "cell_type": "code",
   "execution_count": null,
   "metadata": {},
   "outputs": [],
   "source": [
    "misc_metadata[misc_metadata.skipped != ''].skipped.to_csv(f'{CORPUS_ID.lower()}_skipped-items-{pd.datetime.now()}.log')"
   ]
  },
  {
   "cell_type": "markdown",
   "metadata": {},
   "source": [
    "Generate new attributes based on the `lang` column from `misc_metadata`."
   ]
  },
  {
   "cell_type": "code",
   "execution_count": null,
   "metadata": {},
   "outputs": [],
   "source": [
    "misc_metadata['language_detected'] = misc_metadata.lang.map(lambda x: x[0])\n",
    "misc_metadata['language_score'] = misc_metadata.lang.map(lambda x: x[1])\n",
    "misc_metadata = misc_metadata.drop('lang', axis=1)\n",
    "\n",
    "misc_metadata.index.name = 'id'\n",
    "misc_metadata = misc_metadata.reset_index()"
   ]
  },
  {
   "cell_type": "code",
   "execution_count": null,
   "metadata": {},
   "outputs": [],
   "source": [
    "misc_metadata.head(2)"
   ]
  },
  {
   "cell_type": "code",
   "execution_count": null,
   "metadata": {},
   "outputs": [],
   "source": [
    "misc_metadata[misc_metadata.skipped != ''].head()"
   ]
  },
  {
   "cell_type": "code",
   "execution_count": null,
   "metadata": {},
   "outputs": [],
   "source": [
    "misc_metadata['id'].nunique(), misc_metadata.shape"
   ]
  },
  {
   "cell_type": "code",
   "execution_count": null,
   "metadata": {},
   "outputs": [],
   "source": [
    "valid_processed_ids = misc_metadata[(misc_metadata.skipped == '') & (misc_metadata.write_status == True)].set_index('id').index\n",
    "len(valid_processed_ids)"
   ]
  },
  {
   "cell_type": "code",
   "execution_count": null,
   "metadata": {
    "scrolled": true
   },
   "outputs": [],
   "source": [
    "complete_metadata_file = pd.concat([metadata_file.drop_duplicates('id').set_index('id'), misc_metadata.set_index('id')[['language_detected', 'language_score', 'tokens', 'write_status']]], axis=1)\n",
    "complete_metadata_file = complete_metadata_file.loc[valid_processed_ids]"
   ]
  },
  {
   "cell_type": "code",
   "execution_count": null,
   "metadata": {},
   "outputs": [],
   "source": [
    "complete_metadata_file.shape"
   ]
  },
  {
   "cell_type": "code",
   "execution_count": null,
   "metadata": {},
   "outputs": [],
   "source": [
    "complete_metadata_file.head(2)"
   ]
  },
  {
   "cell_type": "code",
   "execution_count": null,
   "metadata": {},
   "outputs": [],
   "source": [
    "complete_metadata_file.to_csv(os.path.join(get_corpus_path(CORPUS_ID), f'{CORPUS_ID.lower()}_metadata_complete.csv'))\n",
    "complete_metadata_file.head(2)"
   ]
  },
  {
   "cell_type": "code",
   "execution_count": null,
   "metadata": {},
   "outputs": [],
   "source": [
    "# Processing output"
   ]
  },
  {
   "cell_type": "code",
   "execution_count": null,
   "metadata": {},
   "outputs": [],
   "source": [
    "s = '''%%time\n",
    "cleaner = CorpusCleaner(\n",
    "    use_spellchecker=True, use_respeller=True, use_lemmatizer=True, use_spacy=True,\n",
    "    replacements_plurals_to_singular_file='whitelist_replacements_plurals_to_singular.csv',\n",
    ")\n",
    "\n",
    "cleaner.set_input_folder(TXT_ORIG_DIR)\n",
    "cleaner.set_output_folder(TXT_CLEAN_DIR)'''"
   ]
  },
  {
   "cell_type": "code",
   "execution_count": null,
   "metadata": {},
   "outputs": [],
   "source": [
    "%pprint\n",
    "print(s)"
   ]
  },
  {
   "cell_type": "code",
   "execution_count": null,
   "metadata": {},
   "outputs": [],
   "source": []
  }
 ],
 "metadata": {
  "kernelspec": {
   "display_name": "Python 3",
   "language": "python",
   "name": "python3"
  },
  "language_info": {
   "codemirror_mode": {
    "name": "ipython",
    "version": 3
   },
   "file_extension": ".py",
   "mimetype": "text/x-python",
   "name": "python",
   "nbconvert_exporter": "python",
   "pygments_lexer": "ipython3",
   "version": "3.8.3-final"
  }
 },
 "nbformat": 4,
 "nbformat_minor": 4
}