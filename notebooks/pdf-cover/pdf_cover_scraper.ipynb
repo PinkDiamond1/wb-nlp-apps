{
 "cells": [
  {
   "cell_type": "markdown",
   "metadata": {},
   "source": [
    "# KCP Dataset PDF Cover Page Snapshot"
   ]
  },
  {
   "cell_type": "code",
   "execution_count": 1,
   "metadata": {},
   "outputs": [],
   "source": [
    "%load_ext autotime"
   ]
  },
  {
   "cell_type": "code",
   "execution_count": 2,
   "metadata": {},
   "outputs": [
    {
     "name": "stdout",
     "output_type": "stream",
     "text": [
      "time: 135 ms\n"
     ]
    }
   ],
   "source": [
    "from wb_nlp import dir_manager"
   ]
  },
  {
   "cell_type": "code",
   "execution_count": 3,
   "metadata": {},
   "outputs": [
    {
     "name": "stdout",
     "output_type": "stream",
     "text": [
      "time: 3.91 s\n"
     ]
    }
   ],
   "source": [
    "!/home/wb536061/anaconda3/envs/wb_nlp/bin/pip install pdf2image > /dev/null"
   ]
  },
  {
   "cell_type": "code",
   "execution_count": 4,
   "metadata": {},
   "outputs": [
    {
     "name": "stdout",
     "output_type": "stream",
     "text": [
      "time: 1.84 s\n"
     ]
    }
   ],
   "source": [
    "import requests\n",
    "import json\n",
    "import os\n",
    "import time\n",
    "import glob\n",
    "from pathlib import Path\n",
    "import pandas as pd\n",
    "import re\n",
    "from joblib import Parallel, delayed\n",
    "import pdf2image\n",
    "import PIL\n"
   ]
  },
  {
   "cell_type": "code",
   "execution_count": 5,
   "metadata": {},
   "outputs": [
    {
     "name": "stdout",
     "output_type": "stream",
     "text": [
      "time: 1.12 ms\n"
     ]
    }
   ],
   "source": [
    "class DocumentCover:\n",
    "    def __init__(self, doc_id, cover_dir, pdf_path=None, pdf_url=None, fixed_width=200, fixed_height=None):\n",
    "        self.doc_id = doc_id\n",
    "        self.pdf_path = pdf_path\n",
    "        self.pdf_url = pdf_url\n",
    "        self.cover_dir = cover_dir\n",
    "        self.fixed_width = fixed_width\n",
    "        self.fixed_height = fixed_height\n",
    "\n",
    "        # self.fname = os.path.join(self.cover_dir, f'{self.doc_id}.png')\n",
    "        self.fname = self.cover_dir / f'{self.doc_id}.png'\n",
    "\n",
    "        self.orig_cover = None\n",
    "        self.cover = None\n",
    "        self.resized = None\n",
    "\n",
    "    def get_content_from_url(self):\n",
    "        self.resized = False\n",
    "        res = requests.get(self.pdf_url)\n",
    "\n",
    "        try:\n",
    "            pages = pdf2image.convert_from_bytes(res.content, size=(self.fixed_width, self.fixed_height), single_file=True)\n",
    "            self.resized = True\n",
    "        except:\n",
    "            pages = pdf2image.convert_from_bytes(res.content)\n",
    "            \n",
    "        self.orig_cover = pages[0]\n",
    "\n",
    "    def get_content_from_file(self):\n",
    "        self.resized = False\n",
    "        with open(self.pdf_path, \"rb\") as open_file:\n",
    "            content = open_file.read()\n",
    "            try:\n",
    "                pages = pdf2image.convert_from_bytes(content, size=(self.fixed_width, self.fixed_height), single_file=True)\n",
    "                self.resized = True\n",
    "            except:\n",
    "                pages = pdf2image.convert_from_bytes(content)\n",
    "\n",
    "        self.orig_cover = pages[0]\n",
    "\n",
    "    def standardize_size(self):\n",
    "        # Not useful if `size` is set in pdf2image.convert_from_bytes\n",
    "        c = self.orig_cover\n",
    "\n",
    "        if c is None:\n",
    "            if self.pdf_path:\n",
    "                self.get_content_from_file()\n",
    "            elif self.pdf_url:\n",
    "                self.get_content_from_url()\n",
    "            c = self.orig_cover\n",
    "            assert(c)\n",
    "\n",
    "        if not self.resized:\n",
    "            width = self.fixed_width\n",
    "            w0, h0 = c.size\n",
    "            c = c.resize((width, int(h0 * width / w0)), resample=PIL.Image.BICUBIC)\n",
    "\n",
    "        self.cover = c\n",
    "\n",
    "    def save(self):\n",
    "        if not os.path.isfile(self.fname):        \n",
    "            cover = self.cover\n",
    "\n",
    "            if cover is None:\n",
    "                self.standardize_size()\n",
    "                cover = self.cover\n",
    "\n",
    "            cover.save(self.fname)\n",
    "\n",
    "        return self.doc_id\n",
    "\n",
    "    def cleanup(self):\n",
    "        del(self.orig_cover)\n",
    "        del(self.cover)\n",
    "\n",
    "        self.orig_cover = None\n",
    "        self.cover = None"
   ]
  },
  {
   "cell_type": "code",
   "execution_count": 6,
   "metadata": {},
   "outputs": [
    {
     "name": "stdout",
     "output_type": "stream",
     "text": [
      "time: 1.36 ms\n"
     ]
    }
   ],
   "source": [
    "corpus_path = Path(dir_manager.get_data_dir(\"corpus\").replace(\"/home/\", \"/data/\"))\n",
    "CORPUS_DIRS = list(corpus_path.glob(\"*/PDF_ORIG\"))"
   ]
  },
  {
   "cell_type": "code",
   "execution_count": 7,
   "metadata": {},
   "outputs": [
    {
     "name": "stdout",
     "output_type": "stream",
     "text": [
      "time: 423 µs\n"
     ]
    }
   ],
   "source": [
    "def prepare_meta(corpus_dir):\n",
    "    data = []\n",
    "    corpus_id = corpus_dir.parent.name.lower()\n",
    "\n",
    "    for pdf in corpus_dir.glob(\"*.pdf\"):\n",
    "        metadata = {}\n",
    "\n",
    "        if pdf.stem.startswith(f\"{corpus_id}_\"):\n",
    "            doc_id = pdf.stem\n",
    "        else:\n",
    "            doc_id = f\"{corpus_id}_{pdf.stem}\"\n",
    "\n",
    "        metadata[\"id\"] = doc_id\n",
    "        metadata[\"pdf_path\"] = pdf.resolve()\n",
    "        metadata[\"cover_dir\"] = (corpus_dir.parent / \"COVER\").resolve()\n",
    "        metadata[\"corpus_id\"] = corpus_id\n",
    "\n",
    "        data.append(metadata)\n",
    "\n",
    "    return data"
   ]
  },
  {
   "cell_type": "code",
   "execution_count": 8,
   "metadata": {},
   "outputs": [
    {
     "name": "stdout",
     "output_type": "stream",
     "text": [
      "time: 411 µs\n"
     ]
    }
   ],
   "source": [
    "def parallel_process(row):\n",
    "    ret = dict(status='ok', doc_id=row['id'], corpus_id=row[\"corpus_id\"], pdf_path=str(row[\"pdf_path\"]))\n",
    "    try:\n",
    "        dc = DocumentCover(doc_id=row['id'], cover_dir=row[\"cover_dir\"], pdf_path=row[\"pdf_path\"])\n",
    "        r = dc.save()\n",
    "        dc.cleanup()\n",
    "    except Exception as e:\n",
    "        ret['status'] = e.__str__()\n",
    "\n",
    "    return ret"
   ]
  },
  {
   "cell_type": "code",
   "execution_count": 9,
   "metadata": {},
   "outputs": [
    {
     "data": {
      "text/plain": [
       "370588"
      ]
     },
     "execution_count": 9,
     "metadata": {},
     "output_type": "execute_result"
    },
    {
     "name": "stdout",
     "output_type": "stream",
     "text": [
      "time: 42 s\n"
     ]
    }
   ],
   "source": [
    "dataset = []\n",
    "for corpus_dir in CORPUS_DIRS:\n",
    "#     if corpus_dir.parent.name == \"IADB\":\n",
    "#         continue\n",
    "    COVER_DIR = corpus_dir.parent / \"COVER\"\n",
    "    if not COVER_DIR.exists():\n",
    "        COVER_DIR.mkdir(parents=True)\n",
    "\n",
    "    dataset.extend(prepare_meta(corpus_dir))\n",
    "len(dataset)"
   ]
  },
  {
   "cell_type": "code",
   "execution_count": 10,
   "metadata": {},
   "outputs": [
    {
     "name": "stdout",
     "output_type": "stream",
     "text": [
      "{'id': 'wfp_eae9b73830c536c966d9ce33f842bfa82660173b', 'pdf_path': PosixPath('/data/wb536061/wb_nlp/data/corpus/WFP/PDF_ORIG/eae9b73830c536c966d9ce33f842bfa82660173b.pdf'), 'cover_dir': PosixPath('/data/wb536061/wb_nlp/data/corpus/WFP/COVER'), 'corpus_id': 'wfp'}\n"
     ]
    },
    {
     "data": {
      "image/png": "[encoded data removed]",
      "text/plain": [
       "<PIL.PpmImagePlugin.PpmImageFile image mode=RGB size=200x283 at 0x7F16060EB070>"
      ]
     },
     "execution_count": 10,
     "metadata": {},
     "output_type": "execute_result"
    },
    {
     "name": "stdout",
     "output_type": "stream",
     "text": [
      "time: 610 ms\n"
     ]
    }
   ],
   "source": [
    "# Test\n",
    "row = dataset[75000]\n",
    "# row = dataset[0]\n",
    "print(row)\n",
    "dc = DocumentCover(doc_id=row['id'], cover_dir=row[\"cover_dir\"], pdf_path=row['pdf_path'])\n",
    "dc.standardize_size()\n",
    "dc.cover"
   ]
  },
  {
   "cell_type": "code",
   "execution_count": 11,
   "metadata": {},
   "outputs": [
    {
     "name": "stdout",
     "output_type": "stream",
     "text": [
      "time: 22min 57s\n"
     ]
    }
   ],
   "source": [
    "NUM_JOBS = 70\n",
    "\n",
    "pres = Parallel(n_jobs=NUM_JOBS)(delayed(parallel_process)(row) for row in dataset)"
   ]
  },
  {
   "cell_type": "markdown",
   "metadata": {},
   "source": [
    "# Review rate of unprocessed files, if any"
   ]
  },
  {
   "cell_type": "code",
   "execution_count": 12,
   "metadata": {},
   "outputs": [
    {
     "data": {
      "text/html": [
       "<div>\n",
       "<style scoped>\n",
       "    .dataframe tbody tr th:only-of-type {\n",
       "        vertical-align: middle;\n",
       "    }\n",
       "\n",
       "    .dataframe tbody tr th {\n",
       "        vertical-align: top;\n",
       "    }\n",
       "\n",
       "    .dataframe thead th {\n",
       "        text-align: right;\n",
       "    }\n",
       "</style>\n",
       "<table border=\"1\" class=\"dataframe\">\n",
       "  <thead>\n",
       "    <tr style=\"text-align: right;\">\n",
       "      <th></th>\n",
       "      <th>status</th>\n",
       "      <th>doc_id</th>\n",
       "      <th>corpus_id</th>\n",
       "      <th>pdf_path</th>\n",
       "    </tr>\n",
       "  </thead>\n",
       "  <tbody>\n",
       "    <tr>\n",
       "      <th>0</th>\n",
       "      <td>ok</td>\n",
       "      <td>adb_002c7aaec1491e3138ac2223ca65f17733ea42a0</td>\n",
       "      <td>adb</td>\n",
       "      <td>/data/wb536061/wb_nlp/data/corpus/ADB/PDF_ORIG...</td>\n",
       "    </tr>\n",
       "    <tr>\n",
       "      <th>1</th>\n",
       "      <td>ok</td>\n",
       "      <td>adb_00007abd8c05787dba667063e1490f029167c809</td>\n",
       "      <td>adb</td>\n",
       "      <td>/data/wb536061/wb_nlp/data/corpus/ADB/PDF_ORIG...</td>\n",
       "    </tr>\n",
       "    <tr>\n",
       "      <th>2</th>\n",
       "      <td>ok</td>\n",
       "      <td>adb_002f5758d218224edf1a8b8848a05720ce2bc306</td>\n",
       "      <td>adb</td>\n",
       "      <td>/data/wb536061/wb_nlp/data/corpus/ADB/PDF_ORIG...</td>\n",
       "    </tr>\n",
       "    <tr>\n",
       "      <th>3</th>\n",
       "      <td>ok</td>\n",
       "      <td>adb_0000dbf02cf5d1daa980284af565858ffb857912</td>\n",
       "      <td>adb</td>\n",
       "      <td>/data/wb536061/wb_nlp/data/corpus/ADB/PDF_ORIG...</td>\n",
       "    </tr>\n",
       "    <tr>\n",
       "      <th>4</th>\n",
       "      <td>ok</td>\n",
       "      <td>adb_002fe99dbbfc07d5967f99599000e55c25b0c48f</td>\n",
       "      <td>adb</td>\n",
       "      <td>/data/wb536061/wb_nlp/data/corpus/ADB/PDF_ORIG...</td>\n",
       "    </tr>\n",
       "  </tbody>\n",
       "</table>\n",
       "</div>"
      ],
      "text/plain": [
       "  status                                        doc_id corpus_id  \\\n",
       "0     ok  adb_002c7aaec1491e3138ac2223ca65f17733ea42a0       adb   \n",
       "1     ok  adb_00007abd8c05787dba667063e1490f029167c809       adb   \n",
       "2     ok  adb_002f5758d218224edf1a8b8848a05720ce2bc306       adb   \n",
       "3     ok  adb_0000dbf02cf5d1daa980284af565858ffb857912       adb   \n",
       "4     ok  adb_002fe99dbbfc07d5967f99599000e55c25b0c48f       adb   \n",
       "\n",
       "                                            pdf_path  \n",
       "0  /data/wb536061/wb_nlp/data/corpus/ADB/PDF_ORIG...  \n",
       "1  /data/wb536061/wb_nlp/data/corpus/ADB/PDF_ORIG...  \n",
       "2  /data/wb536061/wb_nlp/data/corpus/ADB/PDF_ORIG...  \n",
       "3  /data/wb536061/wb_nlp/data/corpus/ADB/PDF_ORIG...  \n",
       "4  /data/wb536061/wb_nlp/data/corpus/ADB/PDF_ORIG...  "
      ]
     },
     "execution_count": 12,
     "metadata": {},
     "output_type": "execute_result"
    },
    {
     "name": "stdout",
     "output_type": "stream",
     "text": [
      "time: 852 ms\n"
     ]
    }
   ],
   "source": [
    "pres_df = pd.DataFrame(pres)\n",
    "pres_df.head()"
   ]
  },
  {
   "cell_type": "code",
   "execution_count": 13,
   "metadata": {},
   "outputs": [
    {
     "data": {
      "text/plain": [
       "iadb     99.847561\n",
       "oecd     77.714286\n",
       "unpd      1.284797\n",
       "wb        0.600964\n",
       "unhcr     0.114723\n",
       "wfp       0.072701\n",
       "adb       0.001827\n",
       "Name: corpus_id, dtype: float64"
      ]
     },
     "execution_count": 13,
     "metadata": {},
     "output_type": "execute_result"
    },
    {
     "name": "stdout",
     "output_type": "stream",
     "text": [
      "time: 185 ms\n"
     ]
    }
   ],
   "source": [
    "100 * (pres_df[pres_df[\"status\"] != \"ok\"][\"corpus_id\"].value_counts() / pres_df[\"corpus_id\"].value_counts()).dropna().sort_values(ascending=False)"
   ]
  },
  {
   "cell_type": "code",
   "execution_count": 14,
   "metadata": {},
   "outputs": [
    {
     "data": {
      "text/plain": [
       "iadb     8515\n",
       "wb       1775\n",
       "oecd      272\n",
       "unpd        6\n",
       "unhcr       3\n",
       "wfp         2\n",
       "adb         1\n",
       "Name: corpus_id, dtype: int64"
      ]
     },
     "execution_count": 14,
     "metadata": {},
     "output_type": "execute_result"
    },
    {
     "name": "stdout",
     "output_type": "stream",
     "text": [
      "time: 63.6 ms\n"
     ]
    }
   ],
   "source": [
    "pres_df[pres_df[\"status\"] != \"ok\"][\"corpus_id\"].value_counts()"
   ]
  },
  {
   "cell_type": "code",
   "execution_count": 15,
   "metadata": {},
   "outputs": [
    {
     "data": {
      "text/plain": [
       "wb         295359\n",
       "adb         54743\n",
       "iadb         8528\n",
       "eclac        2962\n",
       "wfp          2751\n",
       "unhcr        2615\n",
       "afdb          952\n",
       "unescwa       693\n",
       "uneca         536\n",
       "unpd          467\n",
       "escap         438\n",
       "oecd          350\n",
       "fao            99\n",
       "epdc           57\n",
       "unodc          28\n",
       "who             9\n",
       "ilo             1\n",
       "Name: corpus_id, dtype: int64"
      ]
     },
     "execution_count": 15,
     "metadata": {},
     "output_type": "execute_result"
    },
    {
     "name": "stdout",
     "output_type": "stream",
     "text": [
      "time: 83.6 ms\n"
     ]
    }
   ],
   "source": [
    "pres_df[\"corpus_id\"].value_counts()"
   ]
  },
  {
   "cell_type": "code",
   "execution_count": null,
   "metadata": {},
   "outputs": [],
   "source": [
    "# !ls -l /R/NLP/CORPUS/WB/cover | wc -l"
   ]
  },
  {
   "cell_type": "code",
   "execution_count": 16,
   "metadata": {},
   "outputs": [
    {
     "name": "stdout",
     "output_type": "stream",
     "text": [
      "Filesystem                          Size  Used Avail Use% Mounted on\n",
      "devtmpfs                            126G     0  126G   0% /dev\n",
      "tmpfs                               126G   56K  126G   1% /dev/shm\n",
      "tmpfs                               126G  1.9G  125G   2% /run\n",
      "tmpfs                               126G     0  126G   0% /sys/fs/cgroup\n",
      "/dev/mapper/rhel_w1lxbdatad02-root  669G  312G  358G  47% /\n",
      "/dev/sda1                            20G  253M   20G   2% /boot\n",
      "/dev/sdd1                           5.4T  4.5T  911G  84% /data\n",
      "tmpfs                               126G   87M  126G   1% /tmp\n",
      "/dev/mapper/rhel_w1lxbdatad02-var   300G  262G   39G  88% /var\n",
      "tmpfs                                26G     0   26G   0% /run/user/536061\n",
      "tmpfs                                26G     0   26G   0% /run/user/0\n",
      "time: 795 ms\n"
     ]
    }
   ],
   "source": [
    "!df -h"
   ]
  },
  {
   "cell_type": "code",
   "execution_count": 17,
   "metadata": {},
   "outputs": [
    {
     "name": "stdout",
     "output_type": "stream",
     "text": [
      "Filesystem                          Size  Used Avail Use% Mounted on\n",
      "devtmpfs                            126G     0  126G   0% /dev\n",
      "tmpfs                               126G   56K  126G   1% /dev/shm\n",
      "tmpfs                               126G  1.9G  125G   2% /run\n",
      "tmpfs                               126G     0  126G   0% /sys/fs/cgroup\n",
      "/dev/mapper/rhel_w1lxbdatad02-root  669G  312G  358G  47% /\n",
      "/dev/sda1                            20G  253M   20G   2% /boot\n",
      "/dev/sdd1                           5.4T  4.5T  911G  84% /data\n",
      "tmpfs                               126G   87M  126G   1% /tmp\n",
      "/dev/mapper/rhel_w1lxbdatad02-var   300G  262G   39G  88% /var\n",
      "tmpfs                                26G     0   26G   0% /run/user/536061\n",
      "tmpfs                                26G     0   26G   0% /run/user/0\n",
      "time: 251 ms\n"
     ]
    }
   ],
   "source": [
    "!df -h"
   ]
  },
  {
   "cell_type": "code",
   "execution_count": null,
   "metadata": {},
   "outputs": [],
   "source": [
    "# You can pass it as a build arg. Your Dockerfile can be static:\n",
    "\n",
    "# FROM ubuntu:xenial-20170214\n",
    "# ARG UNAME=testuser\n",
    "# ARG UID=1000\n",
    "# ARG GID=1000\n",
    "# RUN groupadd -g $GID -o $UNAME\n",
    "# RUN useradd -m -u $UID -g $GID -o -s /bin/bash $UNAME\n",
    "# USER $UNAME\n",
    "# CMD /bin/bash\n",
    "# Then you'd pass the options on your build command:\n",
    "\n",
    "# docker build --build-arg UID=$(id -u) --build-arg GID=$(id -g) \\\n",
    "#   -f bb.dockerfile -t testimg ."
   ]
  },
  {
   "cell_type": "code",
   "execution_count": 28,
   "metadata": {},
   "outputs": [
    {
     "name": "stdout",
     "output_type": "stream",
     "text": [
      "time: 210 µs\n"
     ]
    }
   ],
   "source": [
    "from pathlib import Path\n",
    "# corpus_dir = Path('/data/wb536061/wb_nlp/data/corpus')\n",
    "corpus_dir = Path('/workspace/data/corpus')\n",
    "\n",
    "base_dirs_ext = {\n",
    "    \"TXT_ORIG\": \".txt\",\n",
    "    \"PDF_ORIG\": \".pdf\",\n",
    "    \"NON_EN_TXT_ORIG\": \".txt\",\n",
    "    \"EN_TXT_ORIG\": \".txt\",\n",
    "    \"COVER\": \".png\",  # Naming alread fixed.  \n",
    "}\n",
    "\n",
    "for base_dir, ext in base_dirs_ext.items():\n",
    "    print(base_dir)\n",
    "    for path in corpus_dir.glob(f\"*/{base_dir}/*{ext}\"):\n",
    "        if path.is_file():\n",
    "            corpus_id = path.parent.parent.name.lower()\n",
    "            if path.name.startswith(f\"{corpus_id}_\"):\n",
    "                continue\n",
    "            new_name = path.parent / f\"{corpus_id}_{path.name}\"\n",
    "            # print(new_name)\n",
    "            path.rename(new_name)"
   ]
  },
  {
   "cell_type": "code",
   "execution_count": 31,
   "metadata": {},
   "outputs": [
    {
     "name": "stdout",
     "output_type": "stream",
     "text": [
      "/data/wb536061/wb_nlp/data/corpus/WB/COVER/wb_D32658475.png\n",
      "time: 213 ms\n"
     ]
    }
   ],
   "source": [
    "from pathlib import Path\n",
    "# corpus_dir = Path('/data/wb536061/wb_nlp/data/corpus')\n",
    "corpus_dir = Path('/workspace/data/corpus')\n",
    "\n",
    "base_dirs_ext = {\n",
    "    \"TXT_ORIG\": \".txt\",\n",
    "    \"PDF_ORIG\": \".pdf\",\n",
    "    \"NON_EN_TXT_ORIG\": \".txt\",\n",
    "    # \"EN_TXT_ORIG\": \".txt\",\n",
    "    \"COVER\": \".png\",  # Naming alread fixed.  \n",
    "}\n",
    "\n",
    "for path in corpus_dir.glob(f\"WB/COVER/*.png\"):\n",
    "    if path.is_file():\n",
    "        corpus_id = path.parent.parent.name.lower()\n",
    "        if path.name.startswith(f\"{corpus_id}_{corpus_id}_\"):\n",
    "            new_name = path.parent / \"_\".join(path.name.split(\"_\")[1:])\n",
    "#             print(new_name)\n",
    "            path.rename(new_name)\n",
    "#     break"
   ]
  },
  {
   "cell_type": "code",
   "execution_count": 30,
   "metadata": {},
   "outputs": [
    {
     "data": {
      "text/plain": [
       "PosixPath('/data/wb536061/wb_nlp/data/corpus/ADB/TXT_ORIG/002c7aaec1491e3138ac2223ca65f17733ea42a0.txt')"
      ]
     },
     "execution_count": 30,
     "metadata": {},
     "output_type": "execute_result"
    },
    {
     "name": "stdout",
     "output_type": "stream",
     "text": [
      "time: 1.49 ms\n"
     ]
    }
   ],
   "source": [
    "path"
   ]
  },
  {
   "cell_type": "code",
   "execution_count": null,
   "metadata": {},
   "outputs": [],
   "source": []
  }
 ],
 "metadata": {
  "kernelspec": {
   "display_name": "wb_nlp",
   "language": "python",
   "name": "wb_nlp"
  },
  "language_info": {
   "codemirror_mode": {
    "name": "ipython",
    "version": 3
   },
   "file_extension": ".py",
   "mimetype": "text/x-python",
   "name": "python",
   "nbconvert_exporter": "python",
   "pygments_lexer": "ipython3",
   "version": "3.8.5"
  }
 },
 "nbformat": 4,
 "nbformat_minor": 4
}
