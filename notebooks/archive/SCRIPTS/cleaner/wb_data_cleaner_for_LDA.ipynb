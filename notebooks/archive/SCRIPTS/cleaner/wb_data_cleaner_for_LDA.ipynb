{
 "cells": [
  {
   "cell_type": "code",
   "execution_count": 1,
   "metadata": {},
   "outputs": [],
   "source": [
    "%%capture\n",
    "\n",
    "# get_corpus_path\n",
    "# get_txt_orig_path\n",
    "# get_txt_clean_path\n",
    "%run ../path_manager.ipynb\n",
    "\n",
    "\n",
    "# CorpusCleaner\n",
    "%run ../DataCleanerModule.ipynb\n",
    "\n",
    "## Jupyter.notebook.save_checkpoint()"
   ]
  },
  {
   "cell_type": "code",
   "execution_count": 4,
   "metadata": {},
   "outputs": [
    {
     "data": {
      "text/plain": [
       "True"
      ]
     },
     "execution_count": 4,
     "metadata": {},
     "output_type": "execute_result"
    }
   ],
   "source": [
    "ENCHANT_INSTALLED"
   ]
  },
  {
   "cell_type": "markdown",
   "metadata": {},
   "source": [
    "# Misspelling correction"
   ]
  },
  {
   "cell_type": "code",
   "execution_count": 5,
   "metadata": {},
   "outputs": [],
   "source": [
    "CORPUS_ID = 'WB'\n",
    "TXT_ORIG_DIR = get_txt_orig_path(CORPUS_ID)\n",
    "# TXT_CLEAN_DIR = os.path.join(get_corpus_path(CORPUS_ID), 'TXT_PCLEAN')  # \n",
    "TXT_CLEAN_DIR = get_txt_clean_pos_path(CORPUS_ID)\n",
    "\n",
    "metadata_file = pd.read_csv(os.path.join(get_corpus_path(CORPUS_ID), f'{CORPUS_ID.lower()}_metadata.csv'), low_memory=False)\n",
    "metadata_file = metadata_file.dropna(axis=0, subset=['url_txt'])\n",
    "\n",
    "print(metadata_file.shape)\n",
    "metadata_file.head(5)"
   ]
  },
  {
   "cell_type": "code",
   "execution_count": 10,
   "metadata": {
    "scrolled": true
   },
   "outputs": [],
   "source": [
    "# %%time\n",
    "# cleaner=ParallelCorpusCleaner(\n",
    "#     use_spellchecker=True, use_respeller=True, use_lemmatizer=True, use_spacy=True,\n",
    "#     replacements_plurals_to_singular_file='../whitelists/whitelist_replacements_plurals_to_singular.csv',\n",
    "#     acronyms_file='../whitelists/whitelist_acronyms.csv',\n",
    "#     extract_only_pos=('NOUN', 'ADJ'),\n",
    "# )\n",
    "\n",
    "# cleaner.set_input_folder(TXT_ORIG_DIR)\n",
    "# cleaner.set_output_folder(TXT_CLEAN_DIR)"
   ]
  },
  {
   "cell_type": "markdown",
   "metadata": {},
   "source": [
    "# Run with subset dataset"
   ]
  },
  {
   "cell_type": "code",
   "execution_count": 13,
   "metadata": {},
   "outputs": [
    {
     "data": {
      "text/plain": [
       "'/home/wb536061/wb-nlp/CORPUS/WB/TXT_CLEAN_POS/wb_19431317.txt'"
      ]
     },
     "execution_count": 13,
     "metadata": {},
     "output_type": "execute_result"
    }
   ],
   "source": [
    "os.path.join(TXT_CLEAN_DIR, 'wb_19431317.txt')"
   ]
  },
  {
   "cell_type": "code",
   "execution_count": 16,
   "metadata": {},
   "outputs": [],
   "source": [
    "import pickle\n",
    "import joblib\n",
    "from joblib import Parallel, delayed, parallel_backend, wrap_non_picklable_objects\n",
    "\n",
    "# os.environ['LOKY_PICKLER'] = 'pickle'\n",
    "joblib.__version__"
   ]
  },
  {
   "cell_type": "code",
   "execution_count": 17,
   "metadata": {},
   "outputs": [],
   "source": [
    "process_output_manager = None  # multiprocessing.Manager()\n",
    "unprocessed_shuffled_files = doclist = [f\"{id}.txt\" for id in metadata_file['id'].sample(n=len(metadata_file), random_state=1029)]"
   ]
  },
  {
   "cell_type": "code",
   "execution_count": 20,
   "metadata": {},
   "outputs": [
    {
     "name": "stdout",
     "output_type": "stream",
     "text": [
      "Doclen 18 < 50 = None\n",
      "75\n",
      "2020-03-05 01:35:42.256092: Processed 75000 docs for batch 1 with total of 75000 docs...\n",
      "2020-03-05 01:35:42.256593: Stored 75000 docs for batch 1 with total of 75000 docs...\n"
     ]
    },
    {
     "name": "stderr",
     "output_type": "stream",
     "text": [
      "/home/wb536061/anaconda3/envs/wb-nlp/lib/python3.7/site-packages/joblib/externals/loky/process_executor.py:706: UserWarning: A worker stopped while some jobs were given to the executor. This can be caused by a too short worker timeout or by a memory leak.\n",
      "  \"timeout or by a memory leak.\", UserWarning\n"
     ]
    },
    {
     "name": "stdout",
     "output_type": "stream",
     "text": [
      "2020-03-05 03:02:05.080444: Processed 74932 docs for batch 2 with total of 149932 docs...\n",
      "2020-03-05 03:02:05.080798: Stored 74932 docs for batch 2 with total of 149932 docs...\n",
      "2020-03-05 04:29:57.378423: Processed 74850 docs for batch 3 with total of 224782 docs...\n",
      "2020-03-05 04:29:57.378754: Stored 74850 docs for batch 3 with total of 224782 docs...\n",
      "2020-03-05 05:00:33.096132: Processed 19960 docs for batch 4 with total of 244742 docs...\n",
      "2020-03-05 05:00:33.096625: Stored 19960 docs for batch 4 with total of 244742 docs...\n"
     ]
    }
   ],
   "source": [
    "n_jobs = 75\n",
    "num_docs = 500  # 500\n",
    "notify_fname = 'pos_tag_cleaner.log'\n",
    "clean_doc_outputs = []\n",
    "\n",
    "cleaner=ParallelCorpusCleaner(\n",
    "    use_spellchecker=True, use_respeller=True, use_lemmatizer=True, use_spacy=True,\n",
    "    replacements_plurals_to_singular_file='../whitelists/whitelist_replacements_plurals_to_singular.csv',\n",
    "    acronyms_file='../whitelists/whitelist_acronyms.csv',\n",
    "    extract_only_pos=('NOUN', 'ADJ'),\n",
    ")\n",
    "\n",
    "\n",
    "def clean_docs_wrapper(fileids, skip_existing=True):\n",
    "\n",
    "\n",
    "    cleaner.set_input_folder(TXT_ORIG_DIR)\n",
    "    cleaner.set_output_folder(TXT_CLEAN_DIR)\n",
    "\n",
    "    payloads = []\n",
    "\n",
    "    for fileid in fileids:\n",
    "\n",
    "        filen = os.path.join(cleaner.input_folder, fileid)\n",
    "        newfile = os.path.join(cleaner.output_folder, fileid)\n",
    "\n",
    "        if os.path.isfile(newfile) and skip_existing:\n",
    "            payload = cleaner.load_existing_and_extract_metadata(fileid, newfile, save_docs=True, process_output_dict=None)\n",
    "        else:\n",
    "            payload = cleaner.clean_doc(fileid, filen, save_doc=True, process_output_dict=None)\n",
    "\n",
    "        payloads.append(payload)\n",
    "\n",
    "    return payloads\n",
    "\n",
    "\n",
    "print(n_jobs)\n",
    "\n",
    "while True:\n",
    "    \n",
    "    try:        \n",
    "        with Parallel(n_jobs=n_jobs, batch_size='auto', pre_dispatch=2*n_jobs, backend='loky') as parallel:\n",
    "            # batch_size of 10 means that the process will receive 10 list of fnames.\n",
    "            # pre_dispatch of 70 means that joblib will send 70 batches to the queue.\n",
    "            batch = []\n",
    "            batch_count = 0\n",
    "            for fnames in np.array_split(unprocessed_shuffled_files, len(unprocessed_shuffled_files) // num_docs + 1):\n",
    "                if len(batch) and len(batch) % (n_jobs * 2) == 0:\n",
    "                    batch_count += 1\n",
    "                    parsed_datasets = parallel(delayed(clean_docs_wrapper)(fnames, True) for fnames in batch)\n",
    "                    batch = []\n",
    "                    parsed_datasets = [payload for parsed_dataset in parsed_datasets for payload in parsed_dataset]\n",
    "                    clean_doc_outputs.extend(parsed_datasets)\n",
    "                    notify(notify_fname, f'Processed {len(parsed_datasets)} docs for batch {batch_count} with total of {len(clean_doc_outputs)} docs...', verbose=True)\n",
    "                    # store_batch(parsed_datasets, batch_count)\n",
    "                    # insert_result = collection.insert_many(parsed_datasets)\n",
    "                    notify(notify_fname, f'Stored {len(parsed_datasets)} docs for batch {batch_count} with total of {len(clean_doc_outputs)} docs...', verbose=True)\n",
    "                    # notify(notify_fname, f'Stored {len(insert_result.inserted_ids)} docs for batch {batch_count}...', verbose=True)\n",
    "                else:\n",
    "                    batch.append(fnames)\n",
    "\n",
    "            if batch:\n",
    "                batch_count += 1\n",
    "                parsed_datasets = parallel(delayed(clean_docs_wrapper)(fnames, True) for fnames in batch)\n",
    "                batch = []\n",
    "                parsed_datasets = [payload for parsed_dataset in parsed_datasets for payload in parsed_dataset]\n",
    "                clean_doc_outputs.extend(parsed_datasets)\n",
    "                notify(notify_fname, f'Processed {len(parsed_datasets)} docs for batch {batch_count} with total of {len(clean_doc_outputs)} docs...', verbose=True)\n",
    "                # store_batch(parsed_datasets, batch_count)\n",
    "                # insert_result = collection.insert_many(parsed_datasets)\n",
    "                notify(notify_fname, f'Stored {len(parsed_datasets)} docs for batch {batch_count} with total of {len(clean_doc_outputs)} docs...', verbose=True)\n",
    "                # notify(notify_fname, f'Stored {len(insert_result.inserted_ids)} docs for batch {batch_count}...', verbose=True)\n",
    "        break\n",
    "        \n",
    "    except pickle.PicklingError:\n",
    "        notiexcepttify_fname, 'Retrying...', verbose=True)\n",
    "        continue\n",
    "        \n",
    "    except Exception as e:\n",
    "        excep = e\n",
    "        raise(e)\n",
    "        break\n",
    "\n",
    "if len(clean_doc_outputs):\n",
    "    output = {k: {} for k in clean_doc_outputs[0]}\n",
    "\n",
    "    for o in clean_doc_outputs:\n",
    "        for k in output:\n",
    "            output[k].update(o[k])"
   ]
  },
  {
   "cell_type": "code",
   "execution_count": 22,
   "metadata": {},
   "outputs": [
    {
     "data": {
      "text/plain": [
       "(4, 246240, 244742)"
      ]
     },
     "execution_count": 22,
     "metadata": {},
     "output_type": "execute_result"
    }
   ],
   "source": [
    "batch_count, len(unprocessed_shuffled_files), len(output)"
   ]
  },
  {
   "cell_type": "code",
   "execution_count": 72,
   "metadata": {},
   "outputs": [],
   "source": [
    "output = {k: {} for k in clean_doc_outputs[0]}\n",
    "\n",
    "for o in clean_doc_outputs:\n",
    "    for k in output:\n",
    "        output[k].update(o[k])"
   ]
  },
  {
   "cell_type": "code",
   "execution_count": 23,
   "metadata": {
    "scrolled": true
   },
   "outputs": [],
   "source": [
    "# %%time\n",
    "# # # doclist=['436966.txt', '2002839.txt']\n",
    "\n",
    "# doclist = [f\"{id}.txt\" for id in metadata_file['id'].sample(n=len(metadata_file), random_state=1029)]\n",
    "\n",
    "# print(len(doclist))\n",
    "# # wb_8886341\n",
    "# print(pd.datetime.now())\n",
    "# output=cleaner.batch_clean_docs(\n",
    "#     doclist,\n",
    "# #     default_docs_per_worker=10,\n",
    "#     batch_size=96,  # x4 of num_workers\n",
    "#     save_docs=True,\n",
    "#     skip_existing=True,\n",
    "#     collect_spell_errors=False,\n",
    "#     process_output_manager=process_output_manager\n",
    "# )\n",
    "# print(pd.datetime.now())"
   ]
  },
  {
   "cell_type": "code",
   "execution_count": 24,
   "metadata": {},
   "outputs": [],
   "source": [
    "# 246240\n",
    "# 2020-03-03 21:47:20.486896\n",
    "# Doclen 7 < 50 = wb_31422591\n",
    "# Doclen 5 < 50 = wb_24998598\n",
    "# Doclen 40 < 50 = wb_18225021\n",
    "# Exception received: 11\n",
    "# Empty doc post lemmatizer = wb_749898"
   ]
  },
  {
   "cell_type": "markdown",
   "metadata": {},
   "source": [
    "### Convert the output into a dataframe for easier processing"
   ]
  },
  {
   "cell_type": "code",
   "execution_count": 73,
   "metadata": {},
   "outputs": [
    {
     "data": {
      "text/plain": [
       "(243178, 7)"
      ]
     },
     "execution_count": 73,
     "metadata": {},
     "output_type": "execute_result"
    }
   ],
   "source": [
    "misc_metadata = pd.DataFrame(output)\n",
    "misc_metadata.shape"
   ]
  },
  {
   "cell_type": "code",
   "execution_count": 75,
   "metadata": {},
   "outputs": [],
   "source": [
    "misc_metadata.to_csv(os.path.join(get_corpus_path(CORPUS_ID), f'{CORPUS_ID.lower()}_pos_derived_metadata.csv'))"
   ]
  },
  {
   "cell_type": "code",
   "execution_count": 76,
   "metadata": {},
   "outputs": [
    {
     "data": {
      "text/html": [
       "<div>\n",
       "<style scoped>\n",
       "    .dataframe tbody tr th:only-of-type {\n",
       "        vertical-align: middle;\n",
       "    }\n",
       "\n",
       "    .dataframe tbody tr th {\n",
       "        vertical-align: top;\n",
       "    }\n",
       "\n",
       "    .dataframe thead th {\n",
       "        text-align: right;\n",
       "    }\n",
       "</style>\n",
       "<table border=\"1\" class=\"dataframe\">\n",
       "  <thead>\n",
       "    <tr style=\"text-align: right;\">\n",
       "      <th></th>\n",
       "      <th>lang</th>\n",
       "      <th>tokens</th>\n",
       "      <th>text</th>\n",
       "      <th>spell_errors</th>\n",
       "      <th>skipped</th>\n",
       "      <th>exception</th>\n",
       "      <th>write_status</th>\n",
       "    </tr>\n",
       "  </thead>\n",
       "  <tbody>\n",
       "    <tr>\n",
       "      <td>wb_6448332</td>\n",
       "      <td>(en, 0.8571408354492007)</td>\n",
       "      <td>0</td>\n",
       "      <td>page short term consultant project environment...</td>\n",
       "      <td>[]</td>\n",
       "      <td>Not in english | en:0.8571408354492007</td>\n",
       "      <td>None</td>\n",
       "      <td>False</td>\n",
       "    </tr>\n",
       "    <tr>\n",
       "      <td>wb_31189916</td>\n",
       "      <td>(en, 0.9999952109019343)</td>\n",
       "      <td>717</td>\n",
       "      <td>implementation status result climate resilienc...</td>\n",
       "      <td>[subproject, sluicegate, monre, mgmt, undisbur...</td>\n",
       "      <td></td>\n",
       "      <td>None</td>\n",
       "      <td>True</td>\n",
       "    </tr>\n",
       "  </tbody>\n",
       "</table>\n",
       "</div>"
      ],
      "text/plain": [
       "                                 lang  tokens  \\\n",
       "wb_6448332   (en, 0.8571408354492007)       0   \n",
       "wb_31189916  (en, 0.9999952109019343)     717   \n",
       "\n",
       "                                                          text  \\\n",
       "wb_6448332   page short term consultant project environment...   \n",
       "wb_31189916  implementation status result climate resilienc...   \n",
       "\n",
       "                                                  spell_errors  \\\n",
       "wb_6448332                                                  []   \n",
       "wb_31189916  [subproject, sluicegate, monre, mgmt, undisbur...   \n",
       "\n",
       "                                            skipped exception  write_status  \n",
       "wb_6448332   Not in english | en:0.8571408354492007      None         False  \n",
       "wb_31189916                                              None          True  "
      ]
     },
     "execution_count": 76,
     "metadata": {},
     "output_type": "execute_result"
    }
   ],
   "source": [
    "misc_metadata.head(2)"
   ]
  },
  {
   "cell_type": "code",
   "execution_count": 16,
   "metadata": {},
   "outputs": [
    {
     "data": {
      "text/html": [
       "<div>\n",
       "<style scoped>\n",
       "    .dataframe tbody tr th:only-of-type {\n",
       "        vertical-align: middle;\n",
       "    }\n",
       "\n",
       "    .dataframe tbody tr th {\n",
       "        vertical-align: top;\n",
       "    }\n",
       "\n",
       "    .dataframe thead th {\n",
       "        text-align: right;\n",
       "    }\n",
       "</style>\n",
       "<table border=\"1\" class=\"dataframe\">\n",
       "  <thead>\n",
       "    <tr style=\"text-align: right;\">\n",
       "      <th></th>\n",
       "      <th>lang</th>\n",
       "      <th>tokens</th>\n",
       "      <th>text</th>\n",
       "      <th>spell_errors</th>\n",
       "      <th>skipped</th>\n",
       "      <th>exception</th>\n",
       "      <th>write_status</th>\n",
       "    </tr>\n",
       "  </thead>\n",
       "  <tbody>\n",
       "    <tr>\n",
       "      <td>wb_31422591</td>\n",
       "      <td>(ERROR, 0)</td>\n",
       "      <td>0</td>\n",
       "      <td>NaN</td>\n",
       "      <td>NaN</td>\n",
       "      <td>Doclen 7 &lt; 50 = wb_31422591</td>\n",
       "      <td>None</td>\n",
       "      <td>False</td>\n",
       "    </tr>\n",
       "    <tr>\n",
       "      <td>wb_19200456</td>\n",
       "      <td>(en, 0.9999953724491716)</td>\n",
       "      <td>385</td>\n",
       "      <td>NaN</td>\n",
       "      <td>NaN</td>\n",
       "      <td></td>\n",
       "      <td>None</td>\n",
       "      <td>True</td>\n",
       "    </tr>\n",
       "  </tbody>\n",
       "</table>\n",
       "</div>"
      ],
      "text/plain": [
       "                                 lang  tokens  text  spell_errors  \\\n",
       "wb_31422591                (ERROR, 0)       0   NaN           NaN   \n",
       "wb_19200456  (en, 0.9999953724491716)     385   NaN           NaN   \n",
       "\n",
       "                                 skipped exception  write_status  \n",
       "wb_31422591  Doclen 7 < 50 = wb_31422591      None         False  \n",
       "wb_19200456                                   None          True  "
      ]
     },
     "execution_count": 16,
     "metadata": {},
     "output_type": "execute_result"
    }
   ],
   "source": [
    "misc_metadata.head(2)"
   ]
  },
  {
   "cell_type": "markdown",
   "metadata": {},
   "source": [
    "Log items that were skipped due to some unexpected errors"
   ]
  },
  {
   "cell_type": "code",
   "execution_count": 77,
   "metadata": {},
   "outputs": [
    {
     "name": "stderr",
     "output_type": "stream",
     "text": [
      "/home/wb536061/anaconda3/envs/wb-nlp/lib/python3.7/site-packages/ipykernel_launcher.py:1: FutureWarning: The signature of `Series.to_csv` was aligned to that of `DataFrame.to_csv`, and argument 'header' will change its default value from False to True: please pass an explicit value to suppress this warning.\n",
      "  \"\"\"Entry point for launching an IPython kernel.\n"
     ]
    }
   ],
   "source": [
    "misc_metadata[misc_metadata.skipped != ''].skipped.to_csv(f'{CORPUS_ID.lower()}_pos_skipped-items-{pd.datetime.now()}.log')"
   ]
  },
  {
   "cell_type": "markdown",
   "metadata": {},
   "source": [
    "Generate new attributes based on the `lang` column from `misc_metadata`."
   ]
  },
  {
   "cell_type": "code",
   "execution_count": 78,
   "metadata": {},
   "outputs": [],
   "source": [
    "misc_metadata['language_detected'] = misc_metadata.lang.map(lambda x: x[0])\n",
    "misc_metadata['language_score'] = misc_metadata.lang.map(lambda x: x[1])\n",
    "misc_metadata = misc_metadata.drop('lang', axis=1)\n",
    "\n",
    "misc_metadata.index.name = 'id'\n",
    "misc_metadata = misc_metadata.reset_index()"
   ]
  },
  {
   "cell_type": "code",
   "execution_count": 79,
   "metadata": {},
   "outputs": [
    {
     "data": {
      "text/html": [
       "<div>\n",
       "<style scoped>\n",
       "    .dataframe tbody tr th:only-of-type {\n",
       "        vertical-align: middle;\n",
       "    }\n",
       "\n",
       "    .dataframe tbody tr th {\n",
       "        vertical-align: top;\n",
       "    }\n",
       "\n",
       "    .dataframe thead th {\n",
       "        text-align: right;\n",
       "    }\n",
       "</style>\n",
       "<table border=\"1\" class=\"dataframe\">\n",
       "  <thead>\n",
       "    <tr style=\"text-align: right;\">\n",
       "      <th></th>\n",
       "      <th>id</th>\n",
       "      <th>tokens</th>\n",
       "      <th>text</th>\n",
       "      <th>spell_errors</th>\n",
       "      <th>skipped</th>\n",
       "      <th>exception</th>\n",
       "      <th>write_status</th>\n",
       "      <th>language_detected</th>\n",
       "      <th>language_score</th>\n",
       "    </tr>\n",
       "  </thead>\n",
       "  <tbody>\n",
       "    <tr>\n",
       "      <td>0</td>\n",
       "      <td>wb_6448332</td>\n",
       "      <td>0</td>\n",
       "      <td>page short term consultant project environment...</td>\n",
       "      <td>[]</td>\n",
       "      <td>Not in english | en:0.8571408354492007</td>\n",
       "      <td>None</td>\n",
       "      <td>False</td>\n",
       "      <td>en</td>\n",
       "      <td>0.857141</td>\n",
       "    </tr>\n",
       "    <tr>\n",
       "      <td>1</td>\n",
       "      <td>wb_31189916</td>\n",
       "      <td>717</td>\n",
       "      <td>implementation status result climate resilienc...</td>\n",
       "      <td>[subproject, sluicegate, monre, mgmt, undisbur...</td>\n",
       "      <td></td>\n",
       "      <td>None</td>\n",
       "      <td>True</td>\n",
       "      <td>en</td>\n",
       "      <td>0.999995</td>\n",
       "    </tr>\n",
       "  </tbody>\n",
       "</table>\n",
       "</div>"
      ],
      "text/plain": [
       "            id  tokens                                               text  \\\n",
       "0   wb_6448332       0  page short term consultant project environment...   \n",
       "1  wb_31189916     717  implementation status result climate resilienc...   \n",
       "\n",
       "                                        spell_errors  \\\n",
       "0                                                 []   \n",
       "1  [subproject, sluicegate, monre, mgmt, undisbur...   \n",
       "\n",
       "                                  skipped exception  write_status  \\\n",
       "0  Not in english | en:0.8571408354492007      None         False   \n",
       "1                                              None          True   \n",
       "\n",
       "  language_detected  language_score  \n",
       "0                en        0.857141  \n",
       "1                en        0.999995  "
      ]
     },
     "execution_count": 79,
     "metadata": {},
     "output_type": "execute_result"
    }
   ],
   "source": [
    "misc_metadata.head(2)"
   ]
  },
  {
   "cell_type": "code",
   "execution_count": 91,
   "metadata": {},
   "outputs": [
    {
     "data": {
      "text/plain": [
       "[en:0.9999967186647158]"
      ]
     },
     "execution_count": 91,
     "metadata": {},
     "output_type": "execute_result"
    }
   ],
   "source": [
    "detect_langs(misc_metadata.loc[0]['text'])"
   ]
  },
  {
   "cell_type": "code",
   "execution_count": 19,
   "metadata": {},
   "outputs": [
    {
     "data": {
      "text/html": [
       "<div>\n",
       "<style scoped>\n",
       "    .dataframe tbody tr th:only-of-type {\n",
       "        vertical-align: middle;\n",
       "    }\n",
       "\n",
       "    .dataframe tbody tr th {\n",
       "        vertical-align: top;\n",
       "    }\n",
       "\n",
       "    .dataframe thead th {\n",
       "        text-align: right;\n",
       "    }\n",
       "</style>\n",
       "<table border=\"1\" class=\"dataframe\">\n",
       "  <thead>\n",
       "    <tr style=\"text-align: right;\">\n",
       "      <th></th>\n",
       "      <th>id</th>\n",
       "      <th>tokens</th>\n",
       "      <th>text</th>\n",
       "      <th>spell_errors</th>\n",
       "      <th>skipped</th>\n",
       "      <th>exception</th>\n",
       "      <th>write_status</th>\n",
       "      <th>language_detected</th>\n",
       "      <th>language_score</th>\n",
       "    </tr>\n",
       "  </thead>\n",
       "  <tbody>\n",
       "    <tr>\n",
       "      <td>0</td>\n",
       "      <td>wb_31422591</td>\n",
       "      <td>0</td>\n",
       "      <td>NaN</td>\n",
       "      <td>NaN</td>\n",
       "      <td>Doclen 7 &lt; 50 = wb_31422591</td>\n",
       "      <td>None</td>\n",
       "      <td>False</td>\n",
       "      <td>ERROR</td>\n",
       "      <td>0.000000</td>\n",
       "    </tr>\n",
       "    <tr>\n",
       "      <td>1</td>\n",
       "      <td>wb_19200456</td>\n",
       "      <td>385</td>\n",
       "      <td>NaN</td>\n",
       "      <td>NaN</td>\n",
       "      <td></td>\n",
       "      <td>None</td>\n",
       "      <td>True</td>\n",
       "      <td>en</td>\n",
       "      <td>0.999995</td>\n",
       "    </tr>\n",
       "  </tbody>\n",
       "</table>\n",
       "</div>"
      ],
      "text/plain": [
       "            id  tokens  text  spell_errors                      skipped  \\\n",
       "0  wb_31422591       0   NaN           NaN  Doclen 7 < 50 = wb_31422591   \n",
       "1  wb_19200456     385   NaN           NaN                                \n",
       "\n",
       "  exception  write_status language_detected  language_score  \n",
       "0      None         False             ERROR        0.000000  \n",
       "1      None          True                en        0.999995  "
      ]
     },
     "execution_count": 19,
     "metadata": {},
     "output_type": "execute_result"
    }
   ],
   "source": [
    "misc_metadata.head(2)"
   ]
  },
  {
   "cell_type": "code",
   "execution_count": 92,
   "metadata": {},
   "outputs": [
    {
     "data": {
      "text/html": [
       "<div>\n",
       "<style scoped>\n",
       "    .dataframe tbody tr th:only-of-type {\n",
       "        vertical-align: middle;\n",
       "    }\n",
       "\n",
       "    .dataframe tbody tr th {\n",
       "        vertical-align: top;\n",
       "    }\n",
       "\n",
       "    .dataframe thead th {\n",
       "        text-align: right;\n",
       "    }\n",
       "</style>\n",
       "<table border=\"1\" class=\"dataframe\">\n",
       "  <thead>\n",
       "    <tr style=\"text-align: right;\">\n",
       "      <th></th>\n",
       "      <th>id</th>\n",
       "      <th>tokens</th>\n",
       "      <th>text</th>\n",
       "      <th>spell_errors</th>\n",
       "      <th>skipped</th>\n",
       "      <th>exception</th>\n",
       "      <th>write_status</th>\n",
       "      <th>language_detected</th>\n",
       "      <th>language_score</th>\n",
       "    </tr>\n",
       "  </thead>\n",
       "  <tbody>\n",
       "    <tr>\n",
       "      <td>0</td>\n",
       "      <td>wb_6448332</td>\n",
       "      <td>0</td>\n",
       "      <td>page short term consultant project environment...</td>\n",
       "      <td>[]</td>\n",
       "      <td>Not in english | en:0.8571408354492007</td>\n",
       "      <td>None</td>\n",
       "      <td>False</td>\n",
       "      <td>en</td>\n",
       "      <td>0.857141</td>\n",
       "    </tr>\n",
       "    <tr>\n",
       "      <td>13</td>\n",
       "      <td>wb_31422591</td>\n",
       "      <td>0</td>\n",
       "      <td>﻿</td>\n",
       "      <td>[]</td>\n",
       "      <td>Doclen 7 &lt; 50 = wb_31422591</td>\n",
       "      <td>None</td>\n",
       "      <td>False</td>\n",
       "      <td>ERROR</td>\n",
       "      <td>0.000000</td>\n",
       "    </tr>\n",
       "    <tr>\n",
       "      <td>25</td>\n",
       "      <td>wb_30551697</td>\n",
       "      <td>0</td>\n",
       "      <td>procurement plan text font instruction staff f...</td>\n",
       "      <td>[]</td>\n",
       "      <td>Not in english | en:0.7142821602262297</td>\n",
       "      <td>None</td>\n",
       "      <td>False</td>\n",
       "      <td>en</td>\n",
       "      <td>0.714282</td>\n",
       "    </tr>\n",
       "    <tr>\n",
       "      <td>32</td>\n",
       "      <td>wb_9917358</td>\n",
       "      <td>0</td>\n",
       "      <td>page copy number agreement page number financi...</td>\n",
       "      <td>[]</td>\n",
       "      <td>Not in english | en:0.8571380696762061</td>\n",
       "      <td>None</td>\n",
       "      <td>False</td>\n",
       "      <td>en</td>\n",
       "      <td>0.857138</td>\n",
       "    </tr>\n",
       "    <tr>\n",
       "      <td>36</td>\n",
       "      <td>wb_29562458</td>\n",
       "      <td>0</td>\n",
       "      <td>original problem text extraction pdftotext una...</td>\n",
       "      <td>[]</td>\n",
       "      <td>Not in english | ca:0.7142810488487307</td>\n",
       "      <td>None</td>\n",
       "      <td>False</td>\n",
       "      <td>ca</td>\n",
       "      <td>0.714281</td>\n",
       "    </tr>\n",
       "  </tbody>\n",
       "</table>\n",
       "</div>"
      ],
      "text/plain": [
       "             id  tokens                                               text  \\\n",
       "0    wb_6448332       0  page short term consultant project environment...   \n",
       "13  wb_31422591       0                                            ﻿\n",
       "\n",
       "\n",
       "\n",
       "\n",
       "\n",
       "   \n",
       "25  wb_30551697       0  procurement plan text font instruction staff f...   \n",
       "32   wb_9917358       0  page copy number agreement page number financi...   \n",
       "36  wb_29562458       0  original problem text extraction pdftotext una...   \n",
       "\n",
       "   spell_errors                                 skipped exception  \\\n",
       "0            []  Not in english | en:0.8571408354492007      None   \n",
       "13           []             Doclen 7 < 50 = wb_31422591      None   \n",
       "25           []  Not in english | en:0.7142821602262297      None   \n",
       "32           []  Not in english | en:0.8571380696762061      None   \n",
       "36           []  Not in english | ca:0.7142810488487307      None   \n",
       "\n",
       "    write_status language_detected  language_score  \n",
       "0          False                en        0.857141  \n",
       "13         False             ERROR        0.000000  \n",
       "25         False                en        0.714282  \n",
       "32         False                en        0.857138  \n",
       "36         False                ca        0.714281  "
      ]
     },
     "execution_count": 92,
     "metadata": {},
     "output_type": "execute_result"
    }
   ],
   "source": [
    "misc_metadata[misc_metadata.skipped != ''].head()"
   ]
  },
  {
   "cell_type": "code",
   "execution_count": 20,
   "metadata": {},
   "outputs": [
    {
     "data": {
      "text/html": [
       "<div>\n",
       "<style scoped>\n",
       "    .dataframe tbody tr th:only-of-type {\n",
       "        vertical-align: middle;\n",
       "    }\n",
       "\n",
       "    .dataframe tbody tr th {\n",
       "        vertical-align: top;\n",
       "    }\n",
       "\n",
       "    .dataframe thead th {\n",
       "        text-align: right;\n",
       "    }\n",
       "</style>\n",
       "<table border=\"1\" class=\"dataframe\">\n",
       "  <thead>\n",
       "    <tr style=\"text-align: right;\">\n",
       "      <th></th>\n",
       "      <th>id</th>\n",
       "      <th>tokens</th>\n",
       "      <th>text</th>\n",
       "      <th>spell_errors</th>\n",
       "      <th>skipped</th>\n",
       "      <th>exception</th>\n",
       "      <th>write_status</th>\n",
       "      <th>language_detected</th>\n",
       "      <th>language_score</th>\n",
       "    </tr>\n",
       "  </thead>\n",
       "  <tbody>\n",
       "    <tr>\n",
       "      <td>0</td>\n",
       "      <td>wb_31422591</td>\n",
       "      <td>0</td>\n",
       "      <td>NaN</td>\n",
       "      <td>NaN</td>\n",
       "      <td>Doclen 7 &lt; 50 = wb_31422591</td>\n",
       "      <td>None</td>\n",
       "      <td>False</td>\n",
       "      <td>ERROR</td>\n",
       "      <td>0.000000</td>\n",
       "    </tr>\n",
       "    <tr>\n",
       "      <td>6</td>\n",
       "      <td>wb_24998598</td>\n",
       "      <td>0</td>\n",
       "      <td>NaN</td>\n",
       "      <td>NaN</td>\n",
       "      <td>Doclen 5 &lt; 50 = wb_24998598</td>\n",
       "      <td>None</td>\n",
       "      <td>False</td>\n",
       "      <td>ERROR</td>\n",
       "      <td>0.000000</td>\n",
       "    </tr>\n",
       "    <tr>\n",
       "      <td>27</td>\n",
       "      <td>wb_18225021</td>\n",
       "      <td>0</td>\n",
       "      <td>NaN</td>\n",
       "      <td>NaN</td>\n",
       "      <td>Doclen 40 &lt; 50 = wb_18225021</td>\n",
       "      <td>None</td>\n",
       "      <td>False</td>\n",
       "      <td>ERROR</td>\n",
       "      <td>0.000000</td>\n",
       "    </tr>\n",
       "    <tr>\n",
       "      <td>61</td>\n",
       "      <td>wb_749898</td>\n",
       "      <td>0</td>\n",
       "      <td>NaN</td>\n",
       "      <td>NaN</td>\n",
       "      <td>Empty doc post lemmatizer = wb_749898</td>\n",
       "      <td>None</td>\n",
       "      <td>False</td>\n",
       "      <td>ERROR</td>\n",
       "      <td>0.000000</td>\n",
       "    </tr>\n",
       "    <tr>\n",
       "      <td>72</td>\n",
       "      <td>wb_29562458</td>\n",
       "      <td>0</td>\n",
       "      <td>NaN</td>\n",
       "      <td>NaN</td>\n",
       "      <td>Not in english | ca:0.9999942797661113</td>\n",
       "      <td>None</td>\n",
       "      <td>False</td>\n",
       "      <td>ca</td>\n",
       "      <td>0.999994</td>\n",
       "    </tr>\n",
       "  </tbody>\n",
       "</table>\n",
       "</div>"
      ],
      "text/plain": [
       "             id  tokens  text  spell_errors  \\\n",
       "0   wb_31422591       0   NaN           NaN   \n",
       "6   wb_24998598       0   NaN           NaN   \n",
       "27  wb_18225021       0   NaN           NaN   \n",
       "61    wb_749898       0   NaN           NaN   \n",
       "72  wb_29562458       0   NaN           NaN   \n",
       "\n",
       "                                   skipped exception  write_status  \\\n",
       "0              Doclen 7 < 50 = wb_31422591      None         False   \n",
       "6              Doclen 5 < 50 = wb_24998598      None         False   \n",
       "27            Doclen 40 < 50 = wb_18225021      None         False   \n",
       "61   Empty doc post lemmatizer = wb_749898      None         False   \n",
       "72  Not in english | ca:0.9999942797661113      None         False   \n",
       "\n",
       "   language_detected  language_score  \n",
       "0              ERROR        0.000000  \n",
       "6              ERROR        0.000000  \n",
       "27             ERROR        0.000000  \n",
       "61             ERROR        0.000000  \n",
       "72                ca        0.999994  "
      ]
     },
     "execution_count": 20,
     "metadata": {},
     "output_type": "execute_result"
    }
   ],
   "source": [
    "misc_metadata[misc_metadata.skipped != ''].head()"
   ]
  },
  {
   "cell_type": "code",
   "execution_count": 93,
   "metadata": {},
   "outputs": [
    {
     "data": {
      "text/plain": [
       "(243178, (243178, 9))"
      ]
     },
     "execution_count": 93,
     "metadata": {},
     "output_type": "execute_result"
    }
   ],
   "source": [
    "misc_metadata['id'].nunique(), misc_metadata.shape"
   ]
  },
  {
   "cell_type": "code",
   "execution_count": 21,
   "metadata": {},
   "outputs": [
    {
     "data": {
      "text/plain": [
       "(244661, (244661, 9))"
      ]
     },
     "execution_count": 21,
     "metadata": {},
     "output_type": "execute_result"
    }
   ],
   "source": [
    "misc_metadata['id'].nunique(), misc_metadata.shape"
   ]
  },
  {
   "cell_type": "code",
   "execution_count": 94,
   "metadata": {},
   "outputs": [
    {
     "data": {
      "text/plain": [
       "206897"
      ]
     },
     "execution_count": 94,
     "metadata": {},
     "output_type": "execute_result"
    }
   ],
   "source": [
    "valid_processed_ids = misc_metadata[(misc_metadata.skipped == '') & (misc_metadata.write_status == True)].set_index('id').index\n",
    "len(valid_processed_ids)"
   ]
  },
  {
   "cell_type": "code",
   "execution_count": 22,
   "metadata": {},
   "outputs": [
    {
     "data": {
      "text/plain": [
       "217949"
      ]
     },
     "execution_count": 22,
     "metadata": {},
     "output_type": "execute_result"
    }
   ],
   "source": [
    "valid_processed_ids = misc_metadata[(misc_metadata.skipped == '') & (misc_metadata.write_status == True)].set_index('id').index\n",
    "len(valid_processed_ids)"
   ]
  },
  {
   "cell_type": "code",
   "execution_count": 95,
   "metadata": {
    "scrolled": true
   },
   "outputs": [
    {
     "name": "stderr",
     "output_type": "stream",
     "text": [
      "/home/wb536061/anaconda3/envs/wb-nlp/lib/python3.7/site-packages/ipykernel_launcher.py:1: FutureWarning: Sorting because non-concatenation axis is not aligned. A future version\n",
      "of pandas will change to not sort by default.\n",
      "\n",
      "To accept the future behavior, pass 'sort=False'.\n",
      "\n",
      "To retain the current behavior and silence the warning, pass 'sort=True'.\n",
      "\n",
      "  \"\"\"Entry point for launching an IPython kernel.\n"
     ]
    }
   ],
   "source": [
    "complete_metadata_file = pd.concat([metadata_file.drop_duplicates('id').set_index('id'), misc_metadata.set_index('id')[['language_detected', 'language_score', 'tokens', 'write_status']]], axis=1)\n",
    "complete_metadata_file = complete_metadata_file.loc[valid_processed_ids]"
   ]
  },
  {
   "cell_type": "code",
   "execution_count": 96,
   "metadata": {},
   "outputs": [
    {
     "data": {
      "text/plain": [
       "(206897, 32)"
      ]
     },
     "execution_count": 96,
     "metadata": {},
     "output_type": "execute_result"
    }
   ],
   "source": [
    "complete_metadata_file.shape"
   ]
  },
  {
   "cell_type": "code",
   "execution_count": 97,
   "metadata": {},
   "outputs": [
    {
     "data": {
      "text/html": [
       "<div>\n",
       "<style scoped>\n",
       "    .dataframe tbody tr th:only-of-type {\n",
       "        vertical-align: middle;\n",
       "    }\n",
       "\n",
       "    .dataframe tbody tr th {\n",
       "        vertical-align: top;\n",
       "    }\n",
       "\n",
       "    .dataframe thead th {\n",
       "        text-align: right;\n",
       "    }\n",
       "</style>\n",
       "<table border=\"1\" class=\"dataframe\">\n",
       "  <thead>\n",
       "    <tr style=\"text-align: right;\">\n",
       "      <th></th>\n",
       "      <th>corpus</th>\n",
       "      <th>path_original</th>\n",
       "      <th>path_clean</th>\n",
       "      <th>filename_original</th>\n",
       "      <th>year</th>\n",
       "      <th>major_doc_type</th>\n",
       "      <th>doc_type</th>\n",
       "      <th>author</th>\n",
       "      <th>collection</th>\n",
       "      <th>title</th>\n",
       "      <th>...</th>\n",
       "      <th>wb_product_line</th>\n",
       "      <th>wb_major_theme</th>\n",
       "      <th>wb_theme</th>\n",
       "      <th>wb_sector</th>\n",
       "      <th>wb_subtopic_src</th>\n",
       "      <th>wb_project_id</th>\n",
       "      <th>language_detected</th>\n",
       "      <th>language_score</th>\n",
       "      <th>tokens</th>\n",
       "      <th>write_status</th>\n",
       "    </tr>\n",
       "    <tr>\n",
       "      <th>id</th>\n",
       "      <th></th>\n",
       "      <th></th>\n",
       "      <th></th>\n",
       "      <th></th>\n",
       "      <th></th>\n",
       "      <th></th>\n",
       "      <th></th>\n",
       "      <th></th>\n",
       "      <th></th>\n",
       "      <th></th>\n",
       "      <th></th>\n",
       "      <th></th>\n",
       "      <th></th>\n",
       "      <th></th>\n",
       "      <th></th>\n",
       "      <th></th>\n",
       "      <th></th>\n",
       "      <th></th>\n",
       "      <th></th>\n",
       "      <th></th>\n",
       "      <th></th>\n",
       "    </tr>\n",
       "  </thead>\n",
       "  <tbody>\n",
       "    <tr>\n",
       "      <td>wb_31189916</td>\n",
       "      <td>wb</td>\n",
       "      <td>/NLP/CORPUS/WB/TXT_ORIG/wb_31189916.txt</td>\n",
       "      <td>/NLP/CORPUS/WB/TXT_CLEAN/wb_31189916.txt</td>\n",
       "      <td>Disclosable-Version-of-the-ISR-Mekong-Delta-In...</td>\n",
       "      <td>2019.0</td>\n",
       "      <td>Project Documents</td>\n",
       "      <td>Implementation Status and Results Report</td>\n",
       "      <td>NaN</td>\n",
       "      <td>NaN</td>\n",
       "      <td>Disclosable Version of the ISR - Mekong Delta ...</td>\n",
       "      <td>...</td>\n",
       "      <td>NaN</td>\n",
       "      <td>NaN</td>\n",
       "      <td>NaN</td>\n",
       "      <td>NaN</td>\n",
       "      <td>Climate Change Impacts,Labor Markets,Global En...</td>\n",
       "      <td>P153544</td>\n",
       "      <td>en</td>\n",
       "      <td>0.999995</td>\n",
       "      <td>717.0</td>\n",
       "      <td>True</td>\n",
       "    </tr>\n",
       "    <tr>\n",
       "      <td>wb_17220866</td>\n",
       "      <td>wb</td>\n",
       "      <td>/NLP/CORPUS/WB/TXT_ORIG/wb_17220866.txt</td>\n",
       "      <td>/NLP/CORPUS/WB/TXT_CLEAN/wb_17220866.txt</td>\n",
       "      <td>E21050v400HA0N0IC0disclosed02050130.txt</td>\n",
       "      <td>2012.0</td>\n",
       "      <td>Project Documents</td>\n",
       "      <td>Environmental Assessment</td>\n",
       "      <td>NaN</td>\n",
       "      <td>NaN</td>\n",
       "      <td>Vietnam - Additional financing for Second Rura...</td>\n",
       "      <td>...</td>\n",
       "      <td>IBRD/IDA</td>\n",
       "      <td>Rural development</td>\n",
       "      <td>Rural services and infrastructure</td>\n",
       "      <td>Energy and Extractives</td>\n",
       "      <td>Climate Change Mitigation and Green House Gase...</td>\n",
       "      <td>P113495</td>\n",
       "      <td>en</td>\n",
       "      <td>0.999996</td>\n",
       "      <td>5117.0</td>\n",
       "      <td>True</td>\n",
       "    </tr>\n",
       "  </tbody>\n",
       "</table>\n",
       "<p>2 rows × 32 columns</p>\n",
       "</div>"
      ],
      "text/plain": [
       "            corpus                            path_original  \\\n",
       "id                                                            \n",
       "wb_31189916     wb  /NLP/CORPUS/WB/TXT_ORIG/wb_31189916.txt   \n",
       "wb_17220866     wb  /NLP/CORPUS/WB/TXT_ORIG/wb_17220866.txt   \n",
       "\n",
       "                                           path_clean  \\\n",
       "id                                                      \n",
       "wb_31189916  /NLP/CORPUS/WB/TXT_CLEAN/wb_31189916.txt   \n",
       "wb_17220866  /NLP/CORPUS/WB/TXT_CLEAN/wb_17220866.txt   \n",
       "\n",
       "                                             filename_original    year  \\\n",
       "id                                                                       \n",
       "wb_31189916  Disclosable-Version-of-the-ISR-Mekong-Delta-In...  2019.0   \n",
       "wb_17220866            E21050v400HA0N0IC0disclosed02050130.txt  2012.0   \n",
       "\n",
       "                major_doc_type                                  doc_type  \\\n",
       "id                                                                         \n",
       "wb_31189916  Project Documents  Implementation Status and Results Report   \n",
       "wb_17220866  Project Documents                  Environmental Assessment   \n",
       "\n",
       "             author collection  \\\n",
       "id                               \n",
       "wb_31189916     NaN        NaN   \n",
       "wb_17220866     NaN        NaN   \n",
       "\n",
       "                                                         title  ...  \\\n",
       "id                                                              ...   \n",
       "wb_31189916  Disclosable Version of the ISR - Mekong Delta ...  ...   \n",
       "wb_17220866  Vietnam - Additional financing for Second Rura...  ...   \n",
       "\n",
       "             wb_product_line     wb_major_theme  \\\n",
       "id                                                \n",
       "wb_31189916              NaN                NaN   \n",
       "wb_17220866         IBRD/IDA  Rural development   \n",
       "\n",
       "                                      wb_theme               wb_sector  \\\n",
       "id                                                                       \n",
       "wb_31189916                                NaN                     NaN   \n",
       "wb_17220866  Rural services and infrastructure  Energy and Extractives   \n",
       "\n",
       "                                               wb_subtopic_src wb_project_id  \\\n",
       "id                                                                             \n",
       "wb_31189916  Climate Change Impacts,Labor Markets,Global En...       P153544   \n",
       "wb_17220866  Climate Change Mitigation and Green House Gase...       P113495   \n",
       "\n",
       "            language_detected language_score  tokens write_status  \n",
       "id                                                                 \n",
       "wb_31189916                en       0.999995   717.0         True  \n",
       "wb_17220866                en       0.999996  5117.0         True  \n",
       "\n",
       "[2 rows x 32 columns]"
      ]
     },
     "execution_count": 97,
     "metadata": {},
     "output_type": "execute_result"
    }
   ],
   "source": [
    "complete_metadata_file.head(2)"
   ]
  },
  {
   "cell_type": "code",
   "execution_count": 25,
   "metadata": {},
   "outputs": [
    {
     "data": {
      "text/html": [
       "<div>\n",
       "<style scoped>\n",
       "    .dataframe tbody tr th:only-of-type {\n",
       "        vertical-align: middle;\n",
       "    }\n",
       "\n",
       "    .dataframe tbody tr th {\n",
       "        vertical-align: top;\n",
       "    }\n",
       "\n",
       "    .dataframe thead th {\n",
       "        text-align: right;\n",
       "    }\n",
       "</style>\n",
       "<table border=\"1\" class=\"dataframe\">\n",
       "  <thead>\n",
       "    <tr style=\"text-align: right;\">\n",
       "      <th></th>\n",
       "      <th>corpus</th>\n",
       "      <th>path_original</th>\n",
       "      <th>path_clean</th>\n",
       "      <th>filename_original</th>\n",
       "      <th>year</th>\n",
       "      <th>major_doc_type</th>\n",
       "      <th>doc_type</th>\n",
       "      <th>author</th>\n",
       "      <th>collection</th>\n",
       "      <th>title</th>\n",
       "      <th>...</th>\n",
       "      <th>wb_product_line</th>\n",
       "      <th>wb_major_theme</th>\n",
       "      <th>wb_theme</th>\n",
       "      <th>wb_sector</th>\n",
       "      <th>wb_subtopic_src</th>\n",
       "      <th>wb_project_id</th>\n",
       "      <th>language_detected</th>\n",
       "      <th>language_score</th>\n",
       "      <th>tokens</th>\n",
       "      <th>write_status</th>\n",
       "    </tr>\n",
       "    <tr>\n",
       "      <th>id</th>\n",
       "      <th></th>\n",
       "      <th></th>\n",
       "      <th></th>\n",
       "      <th></th>\n",
       "      <th></th>\n",
       "      <th></th>\n",
       "      <th></th>\n",
       "      <th></th>\n",
       "      <th></th>\n",
       "      <th></th>\n",
       "      <th></th>\n",
       "      <th></th>\n",
       "      <th></th>\n",
       "      <th></th>\n",
       "      <th></th>\n",
       "      <th></th>\n",
       "      <th></th>\n",
       "      <th></th>\n",
       "      <th></th>\n",
       "      <th></th>\n",
       "      <th></th>\n",
       "    </tr>\n",
       "  </thead>\n",
       "  <tbody>\n",
       "    <tr>\n",
       "      <td>wb_19200456</td>\n",
       "      <td>wb</td>\n",
       "      <td>/NLP/CORPUS/WB/TXT_ORIG/wb_19200456.txt</td>\n",
       "      <td>/NLP/CORPUS/WB/TXT_CLEAN/wb_19200456.txt</td>\n",
       "      <td>RAD639317460.txt</td>\n",
       "      <td>2014.0</td>\n",
       "      <td>Project Documents</td>\n",
       "      <td>Agreement</td>\n",
       "      <td>NaN</td>\n",
       "      <td>NaN</td>\n",
       "      <td>Official Documents - Amendment to the Suppleme...</td>\n",
       "      <td>...</td>\n",
       "      <td>IBRD/IDA</td>\n",
       "      <td>Public sector governance,Rural development,Tra...</td>\n",
       "      <td>Public sector governance,Rural services and in...</td>\n",
       "      <td>NaN</td>\n",
       "      <td>Rural Roads &amp; Transport,Disease Control &amp; Prev...</td>\n",
       "      <td>P094488</td>\n",
       "      <td>en</td>\n",
       "      <td>0.999995</td>\n",
       "      <td>385.0</td>\n",
       "      <td>True</td>\n",
       "    </tr>\n",
       "    <tr>\n",
       "      <td>wb_6448332</td>\n",
       "      <td>wb</td>\n",
       "      <td>/NLP/CORPUS/WB/TXT_ORIG/wb_6448332.txt</td>\n",
       "      <td>/NLP/CORPUS/WB/TXT_CLEAN/wb_6448332.txt</td>\n",
       "      <td>E12530EMP1Land0Registry.txt</td>\n",
       "      <td>2005.0</td>\n",
       "      <td>Project Documents</td>\n",
       "      <td>Environmental Assessment</td>\n",
       "      <td>NaN</td>\n",
       "      <td>NaN</td>\n",
       "      <td>Bosnia and Herzegovina - Land Registration Pro...</td>\n",
       "      <td>...</td>\n",
       "      <td>IBRD/IDA</td>\n",
       "      <td>NaN</td>\n",
       "      <td>NaN</td>\n",
       "      <td>Agriculture, Fishing and Forestry|Financial Se...</td>\n",
       "      <td>Health Care Services Industry,Urban Solid Wast...</td>\n",
       "      <td>P096200</td>\n",
       "      <td>en</td>\n",
       "      <td>0.999996</td>\n",
       "      <td>2451.0</td>\n",
       "      <td>True</td>\n",
       "    </tr>\n",
       "  </tbody>\n",
       "</table>\n",
       "<p>2 rows × 32 columns</p>\n",
       "</div>"
      ],
      "text/plain": [
       "            corpus                            path_original  \\\n",
       "id                                                            \n",
       "wb_19200456     wb  /NLP/CORPUS/WB/TXT_ORIG/wb_19200456.txt   \n",
       "wb_6448332      wb   /NLP/CORPUS/WB/TXT_ORIG/wb_6448332.txt   \n",
       "\n",
       "                                           path_clean  \\\n",
       "id                                                      \n",
       "wb_19200456  /NLP/CORPUS/WB/TXT_CLEAN/wb_19200456.txt   \n",
       "wb_6448332    /NLP/CORPUS/WB/TXT_CLEAN/wb_6448332.txt   \n",
       "\n",
       "                       filename_original    year     major_doc_type  \\\n",
       "id                                                                    \n",
       "wb_19200456             RAD639317460.txt  2014.0  Project Documents   \n",
       "wb_6448332   E12530EMP1Land0Registry.txt  2005.0  Project Documents   \n",
       "\n",
       "                             doc_type  author collection  \\\n",
       "id                                                         \n",
       "wb_19200456                 Agreement     NaN        NaN   \n",
       "wb_6448332   Environmental Assessment     NaN        NaN   \n",
       "\n",
       "                                                         title  ...  \\\n",
       "id                                                              ...   \n",
       "wb_19200456  Official Documents - Amendment to the Suppleme...  ...   \n",
       "wb_6448332   Bosnia and Herzegovina - Land Registration Pro...  ...   \n",
       "\n",
       "             wb_product_line  \\\n",
       "id                             \n",
       "wb_19200456         IBRD/IDA   \n",
       "wb_6448332          IBRD/IDA   \n",
       "\n",
       "                                                wb_major_theme  \\\n",
       "id                                                               \n",
       "wb_19200456  Public sector governance,Rural development,Tra...   \n",
       "wb_6448332                                                 NaN   \n",
       "\n",
       "                                                      wb_theme  \\\n",
       "id                                                               \n",
       "wb_19200456  Public sector governance,Rural services and in...   \n",
       "wb_6448332                                                 NaN   \n",
       "\n",
       "                                                     wb_sector  \\\n",
       "id                                                               \n",
       "wb_19200456                                                NaN   \n",
       "wb_6448332   Agriculture, Fishing and Forestry|Financial Se...   \n",
       "\n",
       "                                               wb_subtopic_src wb_project_id  \\\n",
       "id                                                                             \n",
       "wb_19200456  Rural Roads & Transport,Disease Control & Prev...       P094488   \n",
       "wb_6448332   Health Care Services Industry,Urban Solid Wast...       P096200   \n",
       "\n",
       "            language_detected language_score  tokens write_status  \n",
       "id                                                                 \n",
       "wb_19200456                en       0.999995   385.0         True  \n",
       "wb_6448332                 en       0.999996  2451.0         True  \n",
       "\n",
       "[2 rows x 32 columns]"
      ]
     },
     "execution_count": 25,
     "metadata": {},
     "output_type": "execute_result"
    }
   ],
   "source": [
    "complete_metadata_file.head(2)"
   ]
  },
  {
   "cell_type": "code",
   "execution_count": 98,
   "metadata": {},
   "outputs": [
    {
     "data": {
      "text/html": [
       "<div>\n",
       "<style scoped>\n",
       "    .dataframe tbody tr th:only-of-type {\n",
       "        vertical-align: middle;\n",
       "    }\n",
       "\n",
       "    .dataframe tbody tr th {\n",
       "        vertical-align: top;\n",
       "    }\n",
       "\n",
       "    .dataframe thead th {\n",
       "        text-align: right;\n",
       "    }\n",
       "</style>\n",
       "<table border=\"1\" class=\"dataframe\">\n",
       "  <thead>\n",
       "    <tr style=\"text-align: right;\">\n",
       "      <th></th>\n",
       "      <th>corpus</th>\n",
       "      <th>path_original</th>\n",
       "      <th>path_clean</th>\n",
       "      <th>filename_original</th>\n",
       "      <th>year</th>\n",
       "      <th>major_doc_type</th>\n",
       "      <th>doc_type</th>\n",
       "      <th>author</th>\n",
       "      <th>collection</th>\n",
       "      <th>title</th>\n",
       "      <th>...</th>\n",
       "      <th>wb_product_line</th>\n",
       "      <th>wb_major_theme</th>\n",
       "      <th>wb_theme</th>\n",
       "      <th>wb_sector</th>\n",
       "      <th>wb_subtopic_src</th>\n",
       "      <th>wb_project_id</th>\n",
       "      <th>language_detected</th>\n",
       "      <th>language_score</th>\n",
       "      <th>tokens</th>\n",
       "      <th>write_status</th>\n",
       "    </tr>\n",
       "    <tr>\n",
       "      <th>id</th>\n",
       "      <th></th>\n",
       "      <th></th>\n",
       "      <th></th>\n",
       "      <th></th>\n",
       "      <th></th>\n",
       "      <th></th>\n",
       "      <th></th>\n",
       "      <th></th>\n",
       "      <th></th>\n",
       "      <th></th>\n",
       "      <th></th>\n",
       "      <th></th>\n",
       "      <th></th>\n",
       "      <th></th>\n",
       "      <th></th>\n",
       "      <th></th>\n",
       "      <th></th>\n",
       "      <th></th>\n",
       "      <th></th>\n",
       "      <th></th>\n",
       "      <th></th>\n",
       "    </tr>\n",
       "  </thead>\n",
       "  <tbody>\n",
       "    <tr>\n",
       "      <td>wb_31189916</td>\n",
       "      <td>wb</td>\n",
       "      <td>/NLP/CORPUS/WB/TXT_ORIG/wb_31189916.txt</td>\n",
       "      <td>/NLP/CORPUS/WB/TXT_CLEAN/wb_31189916.txt</td>\n",
       "      <td>Disclosable-Version-of-the-ISR-Mekong-Delta-In...</td>\n",
       "      <td>2019.0</td>\n",
       "      <td>Project Documents</td>\n",
       "      <td>Implementation Status and Results Report</td>\n",
       "      <td>NaN</td>\n",
       "      <td>NaN</td>\n",
       "      <td>Disclosable Version of the ISR - Mekong Delta ...</td>\n",
       "      <td>...</td>\n",
       "      <td>NaN</td>\n",
       "      <td>NaN</td>\n",
       "      <td>NaN</td>\n",
       "      <td>NaN</td>\n",
       "      <td>Climate Change Impacts,Labor Markets,Global En...</td>\n",
       "      <td>P153544</td>\n",
       "      <td>en</td>\n",
       "      <td>0.999995</td>\n",
       "      <td>717.0</td>\n",
       "      <td>True</td>\n",
       "    </tr>\n",
       "    <tr>\n",
       "      <td>wb_17220866</td>\n",
       "      <td>wb</td>\n",
       "      <td>/NLP/CORPUS/WB/TXT_ORIG/wb_17220866.txt</td>\n",
       "      <td>/NLP/CORPUS/WB/TXT_CLEAN/wb_17220866.txt</td>\n",
       "      <td>E21050v400HA0N0IC0disclosed02050130.txt</td>\n",
       "      <td>2012.0</td>\n",
       "      <td>Project Documents</td>\n",
       "      <td>Environmental Assessment</td>\n",
       "      <td>NaN</td>\n",
       "      <td>NaN</td>\n",
       "      <td>Vietnam - Additional financing for Second Rura...</td>\n",
       "      <td>...</td>\n",
       "      <td>IBRD/IDA</td>\n",
       "      <td>Rural development</td>\n",
       "      <td>Rural services and infrastructure</td>\n",
       "      <td>Energy and Extractives</td>\n",
       "      <td>Climate Change Mitigation and Green House Gase...</td>\n",
       "      <td>P113495</td>\n",
       "      <td>en</td>\n",
       "      <td>0.999996</td>\n",
       "      <td>5117.0</td>\n",
       "      <td>True</td>\n",
       "    </tr>\n",
       "  </tbody>\n",
       "</table>\n",
       "<p>2 rows × 32 columns</p>\n",
       "</div>"
      ],
      "text/plain": [
       "            corpus                            path_original  \\\n",
       "id                                                            \n",
       "wb_31189916     wb  /NLP/CORPUS/WB/TXT_ORIG/wb_31189916.txt   \n",
       "wb_17220866     wb  /NLP/CORPUS/WB/TXT_ORIG/wb_17220866.txt   \n",
       "\n",
       "                                           path_clean  \\\n",
       "id                                                      \n",
       "wb_31189916  /NLP/CORPUS/WB/TXT_CLEAN/wb_31189916.txt   \n",
       "wb_17220866  /NLP/CORPUS/WB/TXT_CLEAN/wb_17220866.txt   \n",
       "\n",
       "                                             filename_original    year  \\\n",
       "id                                                                       \n",
       "wb_31189916  Disclosable-Version-of-the-ISR-Mekong-Delta-In...  2019.0   \n",
       "wb_17220866            E21050v400HA0N0IC0disclosed02050130.txt  2012.0   \n",
       "\n",
       "                major_doc_type                                  doc_type  \\\n",
       "id                                                                         \n",
       "wb_31189916  Project Documents  Implementation Status and Results Report   \n",
       "wb_17220866  Project Documents                  Environmental Assessment   \n",
       "\n",
       "             author collection  \\\n",
       "id                               \n",
       "wb_31189916     NaN        NaN   \n",
       "wb_17220866     NaN        NaN   \n",
       "\n",
       "                                                         title  ...  \\\n",
       "id                                                              ...   \n",
       "wb_31189916  Disclosable Version of the ISR - Mekong Delta ...  ...   \n",
       "wb_17220866  Vietnam - Additional financing for Second Rura...  ...   \n",
       "\n",
       "             wb_product_line     wb_major_theme  \\\n",
       "id                                                \n",
       "wb_31189916              NaN                NaN   \n",
       "wb_17220866         IBRD/IDA  Rural development   \n",
       "\n",
       "                                      wb_theme               wb_sector  \\\n",
       "id                                                                       \n",
       "wb_31189916                                NaN                     NaN   \n",
       "wb_17220866  Rural services and infrastructure  Energy and Extractives   \n",
       "\n",
       "                                               wb_subtopic_src wb_project_id  \\\n",
       "id                                                                             \n",
       "wb_31189916  Climate Change Impacts,Labor Markets,Global En...       P153544   \n",
       "wb_17220866  Climate Change Mitigation and Green House Gase...       P113495   \n",
       "\n",
       "            language_detected language_score  tokens write_status  \n",
       "id                                                                 \n",
       "wb_31189916                en       0.999995   717.0         True  \n",
       "wb_17220866                en       0.999996  5117.0         True  \n",
       "\n",
       "[2 rows x 32 columns]"
      ]
     },
     "execution_count": 98,
     "metadata": {},
     "output_type": "execute_result"
    }
   ],
   "source": [
    "complete_metadata_file.to_csv(os.path.join(get_corpus_path(CORPUS_ID), f'{CORPUS_ID.lower()}_pos_metadata_complete.csv'))\n",
    "complete_metadata_file.head(2)"
   ]
  },
  {
   "cell_type": "code",
   "execution_count": 27,
   "metadata": {},
   "outputs": [],
   "source": [
    "# Processing output"
   ]
  },
  {
   "cell_type": "code",
   "execution_count": 28,
   "metadata": {},
   "outputs": [],
   "source": [
    "s = '''%%time\n",
    "cleaner = CorpusCleaner(\n",
    "    use_spellchecker=True, use_respeller=True, use_lemmatizer=True, use_spacy=True,\n",
    "    replacements_plurals_to_singular_file='whitelist_replacements_plurals_to_singular.csv',\n",
    ")\n",
    "\n",
    "cleaner.set_input_folder(TXT_ORIG_DIR)\n",
    "cleaner.set_output_folder(TXT_CLEAN_DIR)'''"
   ]
  },
  {
   "cell_type": "code",
   "execution_count": 29,
   "metadata": {},
   "outputs": [
    {
     "name": "stdout",
     "output_type": "stream",
     "text": [
      "Pretty printing has been turned OFF\n",
      "%%time\n",
      "cleaner = CorpusCleaner(\n",
      "    use_spellchecker=True, use_respeller=True, use_lemmatizer=True, use_spacy=True,\n",
      "    replacements_plurals_to_singular_file='whitelist_replacements_plurals_to_singular.csv',\n",
      ")\n",
      "\n",
      "cleaner.set_input_folder(TXT_ORIG_DIR)\n",
      "cleaner.set_output_folder(TXT_CLEAN_DIR)\n"
     ]
    }
   ],
   "source": [
    "%pprint\n",
    "print(s)"
   ]
  },
  {
   "cell_type": "code",
   "execution_count": null,
   "metadata": {},
   "outputs": [],
   "source": []
  }
 ],
 "metadata": {
  "kernelspec": {
   "display_name": "Python 3",
   "language": "python",
   "name": "python3"
  },
  "language_info": {
   "codemirror_mode": {
    "name": "ipython",
    "version": 3
   },
   "file_extension": ".py",
   "mimetype": "text/x-python",
   "name": "python",
   "nbconvert_exporter": "python",
   "pygments_lexer": "ipython3",
   "version": "3.8.3-final"
  }
 },
 "nbformat": 4,
 "nbformat_minor": 4
}