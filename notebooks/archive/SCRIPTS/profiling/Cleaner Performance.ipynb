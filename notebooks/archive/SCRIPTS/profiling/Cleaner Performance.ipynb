{
 "cells": [
  {
   "cell_type": "code",
   "execution_count": 1,
   "metadata": {},
   "outputs": [],
   "source": [
    "%load_ext line_profiler\n",
    "%load_ext autotime"
   ]
  },
  {
   "cell_type": "code",
   "execution_count": 2,
   "metadata": {},
   "outputs": [
    {
     "name": "stdout",
     "output_type": "stream",
     "text": [
      "time: 185 ms\n"
     ]
    }
   ],
   "source": [
    "import spacy\n",
    "import requests"
   ]
  },
  {
   "cell_type": "code",
   "execution_count": 3,
   "metadata": {},
   "outputs": [
    {
     "name": "stdout",
     "output_type": "stream",
     "text": [
      "time: 4.14 s\n"
     ]
    }
   ],
   "source": [
    "%%capture\n",
    "\n",
    "%run ../DataCleanerModule.ipynb"
   ]
  },
  {
   "cell_type": "code",
   "execution_count": 4,
   "metadata": {},
   "outputs": [
    {
     "name": "stdout",
     "output_type": "stream",
     "text": [
      "time: 1.9 s\n"
     ]
    }
   ],
   "source": [
    "cleaner_nltk = ParallelCorpusCleaner(\n",
    "    use_spellchecker=True,\n",
    "    use_respeller=True,\n",
    "    use_lemmatizer=True, # use_spacy=True,\n",
    "    replacements_plurals_to_singular_file='../whitelists/whitelist_replacements_plurals_to_singular.csv',\n",
    "    acronyms_file='../whitelists/whitelist_acronyms.csv',\n",
    "    num_workers=4,\n",
    "    ignore_length=0,\n",
    "#     supported_lang=('en', 'it', 'ro', 'fr'),\n",
    "    check_language=True,\n",
    "    use_spacy=False,\n",
    ")\n",
    "\n",
    "cleaner_spacy = ParallelCorpusCleaner(\n",
    "    use_spellchecker=True,\n",
    "    use_respeller=True,\n",
    "    use_lemmatizer=True, # use_spacy=True,\n",
    "    replacements_plurals_to_singular_file='../whitelists/whitelist_replacements_plurals_to_singular.csv',\n",
    "    acronyms_file='../whitelists/whitelist_acronyms.csv',\n",
    "    num_workers=4,\n",
    "    ignore_length=0,\n",
    "#     supported_lang=('en', 'it', 'ro', 'fr'),\n",
    "    check_language=True,\n",
    "    use_spacy=True,\n",
    ")"
   ]
  },
  {
   "cell_type": "code",
   "execution_count": 5,
   "metadata": {},
   "outputs": [
    {
     "name": "stdout",
     "output_type": "stream",
     "text": [
      "time: 1.76 ms\n"
     ]
    }
   ],
   "source": [
    "txt = \"hello world. I'll be playing tonight at the hotel.\"\n",
    "\n",
    "with open('../acronyms/imf_00ae75cce82e5c915d5bead7a7bb2165e9ef215a.txt') as fl:\n",
    "    txt = fl.read()"
   ]
  },
  {
   "cell_type": "code",
   "execution_count": 6,
   "metadata": {},
   "outputs": [
    {
     "data": {
      "text/plain": [
       "(0, 0)"
      ]
     },
     "execution_count": 6,
     "metadata": {},
     "output_type": "execute_result"
    },
    {
     "name": "stdout",
     "output_type": "stream",
     "text": [
      "time: 26.2 ms\n"
     ]
    }
   ],
   "source": [
    "len(cleaner_nltk.spell_cache_dict), len(cleaner_spacy.spell_cache_dict)"
   ]
  },
  {
   "cell_type": "code",
   "execution_count": 7,
   "metadata": {},
   "outputs": [
    {
     "name": "stdout",
     "output_type": "stream",
     "text": [
      "spell errors: 221\n",
      "214 7\n",
      "Spellcheck took 3.8747029192745686 seconds...\n",
      "time: 5.28 s\n"
     ]
    }
   ],
   "source": [
    "c_nltk = cleaner_nltk.clean_text(txt)"
   ]
  },
  {
   "cell_type": "code",
   "execution_count": 8,
   "metadata": {},
   "outputs": [
    {
     "name": "stdout",
     "output_type": "stream",
     "text": [
      "spell errors: 225\n",
      "216 9\n",
      "Spellcheck took 0.7093710792250931 seconds...\n",
      "time: 2.16 s\n"
     ]
    }
   ],
   "source": [
    "c_spacy = cleaner_spacy.clean_text(txt)"
   ]
  },
  {
   "cell_type": "code",
   "execution_count": 9,
   "metadata": {},
   "outputs": [
    {
     "data": {
      "text/plain": [
       "(236, 236)"
      ]
     },
     "execution_count": 9,
     "metadata": {},
     "output_type": "execute_result"
    },
    {
     "name": "stdout",
     "output_type": "stream",
     "text": [
      "time: 6.95 ms\n"
     ]
    }
   ],
   "source": [
    "len(cleaner_nltk.spell_cache_dict), len(cleaner_spacy.spell_cache_dict)"
   ]
  },
  {
   "cell_type": "code",
   "execution_count": 18,
   "metadata": {},
   "outputs": [
    {
     "data": {
      "text/plain": [
       "236"
      ]
     },
     "execution_count": 18,
     "metadata": {},
     "output_type": "execute_result"
    },
    {
     "name": "stdout",
     "output_type": "stream",
     "text": [
      "time: 5.59 ms\n"
     ]
    }
   ],
   "source": [
    "parallel = Parallel(n_jobs=4)(delayed(cleaner_nltk.clean_text)(t) for t in [txt, txt, txt, txt, txt, txt, txt, txt, txt, txt, txt, txt, txt, txt, txt])"
   ]
  },
  {
   "cell_type": "code",
   "execution_count": null,
   "metadata": {},
   "outputs": [],
   "source": [
    "len(parallel[0]['text'])"
   ]
  },
  {
   "cell_type": "markdown",
   "metadata": {},
   "source": [
    "# Parallel Cleaning"
   ]
  },
  {
   "cell_type": "code",
   "execution_count": 5,
   "metadata": {},
   "outputs": [
    {
     "name": "stdout",
     "output_type": "stream",
     "text": [
      "time: 30.6 ms\n"
     ]
    }
   ],
   "source": [
    "doclist = ['29256483.txt', '29264862.txt', '29266161.txt', '29267827.txt',\n",
    "       '29267830.txt', '29267831.txt', '29267969.txt', '29268006.txt',\n",
    "       '29268018.txt', '29268510.txt', '29269193.txt', '29269358.txt',\n",
    "       '29270079.txt', '29270906.txt', '29272259.txt', '29273771.txt',\n",
    "       '29273774.txt', '29273776.txt', '29274137.txt', '29274138.txt',\n",
    "       '29274139.txt', '29274140.txt', '29274141.txt', '29274142.txt',\n",
    "       '29274143.txt', '29274144.txt', '29274145.txt', '29274146.txt',\n",
    "       '29274147.txt', '29274148.txt', '29274149.txt', '29274150.txt',\n",
    "       '29274151.txt', '29274152.txt', '29274153.txt', '29274154.txt',\n",
    "       '29274155.txt', '29274156.txt', '29274157.txt', '29274158.txt',\n",
    "       '29274159.txt', '29274160.txt', '29274163.txt', '29274164.txt',\n",
    "       '29274165.txt', '29274166.txt', '29274168.txt', '29274172.txt',\n",
    "       '29274173.txt', '29274174.txt', '29274175.txt', '29274176.txt',\n",
    "       '29274457.txt', '29274464.txt', '29274465.txt', '29274466.txt',\n",
    "       '29274467.txt', '29274471.txt', '29274472.txt', '29274473.txt',\n",
    "       '29274474.txt', '29274475.txt', '29274476.txt', '29274617.txt',\n",
    "       '29274618.txt', '29274619.txt', '29274620.txt', '29274623.txt',\n",
    "       '29274626.txt', '29274670.txt', '29275158.txt', '29275166.txt',\n",
    "       '29275168.txt', '29275169.txt', '29275238.txt', '29275239.txt',\n",
    "       '29275243.txt', '29275699.txt', '29275704.txt', '29275705.txt',\n",
    "       '29275706.txt', '29275707.txt', '29275708.txt', '29275709.txt',\n",
    "       '29275710.txt', '29275711.txt', '29275712.txt', '29275713.txt',\n",
    "       '29275714.txt', '29275715.txt', '29276101.txt', '29276389.txt',\n",
    "       '29276484.txt', '29276485.txt', '29276487.txt', '29276494.txt',\n",
    "       '29276709.txt', '29276711.txt', '29276715.txt', '29277019.txt']"
   ]
  },
  {
   "cell_type": "code",
   "execution_count": 6,
   "metadata": {},
   "outputs": [
    {
     "name": "stdout",
     "output_type": "stream",
     "text": [
      "time: 3 ms\n"
     ]
    }
   ],
   "source": [
    "cleaner_spacy.set_input_folder('../../data/scraper/eap_files/')\n",
    "cleaner_spacy.set_output_folder('../../data/scraper/cleaned_files/')"
   ]
  },
  {
   "cell_type": "code",
   "execution_count": 9,
   "metadata": {},
   "outputs": [
    {
     "name": "stdout",
     "output_type": "stream",
     "text": [
      "Docset 0\n",
      "Docset 10\n",
      "Set 10: 10 items for 18.82 seconds.\n",
      "Docset 20\n",
      "Set 21: 10 items for 7.32 seconds.\n",
      "Docset 30\n",
      "Set 32: 10 items for 4.28 seconds.\n",
      "Docset 40\n",
      "Set 43: 10 items for 3.27 seconds.\n",
      "Docset 50\n",
      "Set 54: 10 items for 2.26 seconds.\n",
      "Docset 60\n",
      "Set 65: 10 items for 2.75 seconds.\n",
      "Docset 70\n",
      "Set 76: 10 items for 9.88 seconds.\n",
      "Docset 80\n",
      "Empty doc post lemmatizer = 29275710\n",
      "Set 87: 10 items for 2.21 seconds.\n",
      "Docset 90\n",
      "Set 98: 10 items for 2.89 seconds.\n",
      "time: 54.5 s\n"
     ]
    }
   ],
   "source": [
    "cleaned_docs = cleaner_spacy.batch_clean_docs(doclist, batch_size=10, skip_existing=False)"
   ]
  },
  {
   "cell_type": "code",
   "execution_count": 7,
   "metadata": {},
   "outputs": [
    {
     "name": "stdout",
     "output_type": "stream",
     "text": [
      "Docset 10\n",
      "Docset 20\n",
      "Docset 30\n",
      "Docset 40\n",
      "Docset 50\n",
      "Docset 60\n",
      "Docset 70\n",
      "Docset 80\n",
      "Empty doc post lemmatizer = 29275710\n",
      "Docset 90\n",
      "Docset 100\n",
      "Exception received: pop from empty list\n",
      "time: 38.4 s\n"
     ]
    }
   ],
   "source": [
    "cleaned_docs = cleaner_spacy.batch_clean_docs(doclist, batch_size=10, skip_existing=False)"
   ]
  },
  {
   "cell_type": "code",
   "execution_count": 12,
   "metadata": {},
   "outputs": [
    {
     "name": "stdout",
     "output_type": "stream",
     "text": [
      "Docset 10\n",
      "Docset 20\n",
      "Docset 30\n",
      "Docset 40\n",
      "Docset 50\n",
      "Docset 60\n",
      "Docset 70\n",
      "Docset 80\n",
      "Empty doc post lemmatizer = 29275710\n",
      "Docset 90\n",
      "Docset 100\n",
      "Exception received: pop from empty list\n",
      "time: 22.8 s\n"
     ]
    }
   ],
   "source": [
    "cleaned_docs = cleaner_spacy.batch_clean_docs(doclist, batch_size=10, skip_existing=False)"
   ]
  },
  {
   "cell_type": "code",
   "execution_count": null,
   "metadata": {},
   "outputs": [],
   "source": []
  },
  {
   "cell_type": "code",
   "execution_count": null,
   "metadata": {},
   "outputs": [],
   "source": [
    "e = spacy.load('en')\n",
    "e2 = spacy.load('en' , disable=['parser', 'ner', 'textcat']) # 'tagger'])\n",
    "\n",
    "doc = [token.lemma_ for token in e(txt.lower())]\n",
    "doc2 = [token.lemma_ for token in e2(txt.lower())]\n",
    "\n",
    "print(len(doc), len(doc2))\n",
    "\n",
    "q = pd.DataFrame(([(i, j, i == j) for i, j in zip(doc, doc2)]))\n",
    "print(q[2].sum() == len(doc2), q[2].sum() == len(doc))"
   ]
  },
  {
   "cell_type": "code",
   "execution_count": null,
   "metadata": {},
   "outputs": [],
   "source": []
  },
  {
   "cell_type": "code",
   "execution_count": 16,
   "metadata": {},
   "outputs": [
    {
     "name": "stdout",
     "output_type": "stream",
     "text": [
      "time: 36.3 ms\n"
     ]
    }
   ],
   "source": [
    "import time\n",
    "\n",
    "class TestCacheParallel:\n",
    "    cacher = {}\n",
    "    \n",
    "    def funcx(self, c):\n",
    "        self.cacher[c] = c*2\n",
    "        time.sleep(2)\n",
    "        print(self.cacher)\n",
    "        \n",
    "    def parallel_test(self, n):\n",
    "        procs = []\n",
    "        for i in range(n):\n",
    "            p = multiprocessing.Process(target=self.funcx, args=(i,))\n",
    "            p.start()\n",
    "            p.join()\n",
    "#             procs.append(p)\n",
    "            \n",
    "#         for t in procs:\n",
    "#             t.join()\n"
   ]
  },
  {
   "cell_type": "code",
   "execution_count": 17,
   "metadata": {},
   "outputs": [
    {
     "name": "stdout",
     "output_type": "stream",
     "text": [
      "time: 1.99 ms\n"
     ]
    }
   ],
   "source": [
    "tcp = TestCacheParallel()"
   ]
  },
  {
   "cell_type": "code",
   "execution_count": 20,
   "metadata": {},
   "outputs": [
    {
     "name": "stdout",
     "output_type": "stream",
     "text": [
      "{100: 200, 200: 400}\n",
      "time: 2 s\n"
     ]
    }
   ],
   "source": [
    "tcp.funcx(200)"
   ]
  },
  {
   "cell_type": "code",
   "execution_count": 21,
   "metadata": {},
   "outputs": [
    {
     "name": "stdout",
     "output_type": "stream",
     "text": [
      "{100: 200, 200: 400, 0: 0}\n",
      "{100: 200, 200: 400, 1: 2}\n",
      "time: 4.05 s\n"
     ]
    }
   ],
   "source": [
    "tcp.parallel_test(2)"
   ]
  },
  {
   "cell_type": "code",
   "execution_count": null,
   "metadata": {},
   "outputs": [],
   "source": []
  },
  {
   "cell_type": "code",
   "execution_count": null,
   "metadata": {},
   "outputs": [],
   "source": []
  },
  {
   "cell_type": "markdown",
   "metadata": {},
   "source": [
    "# Spacy Server"
   ]
  },
  {
   "cell_type": "code",
   "execution_count": 63,
   "metadata": {},
   "outputs": [
    {
     "name": "stdout",
     "output_type": "stream",
     "text": [
      "CPU times: user 44 ms, sys: 0 ns, total: 44 ms\n",
      "Wall time: 3.8 s\n"
     ]
    }
   ],
   "source": [
    "%%time\n",
    "res = requests.post('http://0.0.0.0:1029/api/spacy/lemmatize', params={'raw_text': txt})"
   ]
  },
  {
   "cell_type": "code",
   "execution_count": 159,
   "metadata": {},
   "outputs": [
    {
     "name": "stdout",
     "output_type": "stream",
     "text": [
      "Failed lemmatization for None\n",
      "CPU times: user 1.03 s, sys: 0 ns, total: 1.03 s\n",
      "Wall time: 1.03 s\n"
     ]
    }
   ],
   "source": []
  },
  {
   "cell_type": "code",
   "execution_count": 64,
   "metadata": {},
   "outputs": [
    {
     "data": {
      "text/plain": [
       "157998"
      ]
     },
     "execution_count": 64,
     "metadata": {},
     "output_type": "execute_result"
    }
   ],
   "source": [
    "len(txt)"
   ]
  },
  {
   "cell_type": "code",
   "execution_count": 77,
   "metadata": {},
   "outputs": [
    {
     "data": {
      "text/plain": [
       "35463"
      ]
     },
     "execution_count": 77,
     "metadata": {},
     "output_type": "execute_result"
    }
   ],
   "source": [
    "len(res.json())"
   ]
  },
  {
   "cell_type": "code",
   "execution_count": 76,
   "metadata": {},
   "outputs": [
    {
     "data": {
      "text/plain": [
       "b', \"of\", \"the\", \"second\", \"review\", \"\\\\n\", \"under\", \"the\", \"prgf\", \"arrangement\", \".\", \" \\\\n\\\\n\\\\n\\\\n\\\\n\"]\\n'"
      ]
     },
     "execution_count": 76,
     "metadata": {},
     "output_type": "execute_result"
    }
   ],
   "source": [
    "res.content[-100:]"
   ]
  },
  {
   "cell_type": "code",
   "execution_count": 73,
   "metadata": {},
   "outputs": [
    {
     "data": {
      "text/plain": [
       "35463"
      ]
     },
     "execution_count": 73,
     "metadata": {},
     "output_type": "execute_result"
    }
   ],
   "source": [
    "len([token.lemma_ for token in doc])"
   ]
  },
  {
   "cell_type": "code",
   "execution_count": null,
   "metadata": {},
   "outputs": [],
   "source": [
    "export XDG_RUNTIME_DIR=\"\"\n",
    "jupyter_lab_id=`pgrep jupyter-lab`\n",
    "jupyter_lab_exit_status=$?\n",
    "if [ $jupyter_lab_exit_status -eq 0 ]; then\n",
    "    echo \"jupyter-lab is running. killing pid $jupyter_lab_id ...\"\n",
    "    kill -15 $jupyter_lab_id\n",
    "    echo \"jupyter-lab killed ...\"\n",
    "fi\n",
    "echo \"running jupyter-lab ...\"\n",
    "source /home/wb536061/anaconda3/bin/activate\n",
    "cd /R/NLP/\n",
    "jupyter lab --ip=\"*\" --port=1029 --NotebookApp.open_browser=False --LabApp.log_datefmt='%Y-%m-%d %H:%M:%S' >> jupyter.log 2>&1  & disown\n",
    "echo \"jupyter-lab now running detached. see jupyter.log for logs\""
   ]
  }
 ],
 "metadata": {
  "kernelspec": {
   "display_name": "Python 3",
   "language": "python",
   "name": "python3"
  },
  "language_info": {
   "codemirror_mode": {
    "name": "ipython",
    "version": 3
   },
   "file_extension": ".py",
   "mimetype": "text/x-python",
   "name": "python",
   "nbconvert_exporter": "python",
   "pygments_lexer": "ipython3",
   "version": "3.8.3-final"
  }
 },
 "nbformat": 4,
 "nbformat_minor": 2
}