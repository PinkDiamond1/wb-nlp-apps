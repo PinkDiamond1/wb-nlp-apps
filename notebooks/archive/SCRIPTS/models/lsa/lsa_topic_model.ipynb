{
 "cells": [
  {
   "cell_type": "raw",
   "metadata": {},
   "source": [
    "sudo apt-get install default-jdk\n",
    "sudo apt-get install ant\n",
    "git clone git@github.com:mimno/Mallet.git\n",
    "cd Mallet/\n",
    "ant"
   ]
  },
  {
   "cell_type": "markdown",
   "metadata": {},
   "source": [
    "Process:\n",
    "\n",
    "1. Download metadata\n",
    "2. Download text documents\n",
    "3. Perform cleaning\n",
    "4. Apply LDA model"
   ]
  },
  {
   "cell_type": "code",
   "execution_count": 1,
   "metadata": {
    "collapsed": true
   },
   "outputs": [],
   "source": [
    "import os\n",
    "import json\n",
    "\n",
    "import pandas as pd"
   ]
  },
  {
   "cell_type": "markdown",
   "metadata": {},
   "source": [
    "## Import the DocsManager notebook\n",
    "\n",
    "Let's import the DocsManager helper class that manages the loading and filtering of documents from the API."
   ]
  },
  {
   "cell_type": "code",
   "execution_count": 2,
   "metadata": {
    "collapsed": true
   },
   "outputs": [],
   "source": [
    "%%capture\n",
    "\n",
    "# LdaMallet\n",
    "# Dictionary (gensim)\n",
    "# build_docs\n",
    "# transform_dt\n",
    "# get_tw\n",
    "# get_top_words\n",
    "# %run ./LDAModule.ipynb\n",
    "\n",
    "# DocsManager\n",
    "# build_docs\n",
    "%run ../../DocsManager.ipynb\n",
    "## Jupyter.notebook.save_checkpoint()\n",
    "\n",
    "# get_corpus_path\n",
    "# get_txt_clean_path\n",
    "%run ../../path_manager.ipynb"
   ]
  },
  {
   "cell_type": "code",
   "execution_count": 3,
   "metadata": {},
   "outputs": [
    {
     "data": {
      "text/plain": [
       "'/R/NLP/CORPUS/IMF'"
      ]
     },
     "execution_count": 3,
     "metadata": {},
     "output_type": "execute_result"
    }
   ],
   "source": [
    "get_corpus_path('IMF')"
   ]
  },
  {
   "cell_type": "markdown",
   "metadata": {},
   "source": [
    "Let's create a DocsManager instance.\n",
    "\n",
    "- `metadata_filename`: path to the metadata file generated after scraping the API\n",
    "- `cleaned_files_dir`: path to the directory where the cleaned files are stored\n",
    "- `model_output_dir`: path to where model related files will be saved\n"
   ]
  },
  {
   "cell_type": "code",
   "execution_count": 4,
   "metadata": {
    "collapsed": true
   },
   "outputs": [],
   "source": [
    "CORPUS_ID = 'IMF'\n",
    "CORPUS_PART = 'ALL'\n",
    "NUM_TOPICS = 50\n",
    "# MALLET_BINARY_PATH = \"../Mallet/bin/mallet\"\n",
    "MODELS_PATH = get_models_path('LSA')\n",
    "NUM_WORKERS = 22\n",
    "\n",
    "MODEL_ID = f\"{CORPUS_PART}_{NUM_TOPICS}\"\n",
    "MODEL_FOLDER = os.path.join(MODELS_PATH, f'{CORPUS_ID}-{MODEL_ID}')"
   ]
  },
  {
   "cell_type": "code",
   "execution_count": 5,
   "metadata": {
    "collapsed": true
   },
   "outputs": [],
   "source": [
    "MODEL_DATA_FOLDER = os.path.join(MODEL_FOLDER, 'data')\n",
    "\n",
    "if not os.path.isdir(MODEL_DATA_FOLDER):\n",
    "    os.makedirs(MODEL_DATA_FOLDER)"
   ]
  },
  {
   "cell_type": "code",
   "execution_count": 6,
   "metadata": {},
   "outputs": [
    {
     "name": "stdout",
     "output_type": "stream",
     "text": [
      "CPU times: user 188 ms, sys: 39 ms, total: 227 ms\n",
      "Wall time: 232 ms\n"
     ]
    }
   ],
   "source": [
    "%%time\n",
    "docs = build_docs(\n",
    "    metadata_filename=os.path.join(get_corpus_path(CORPUS_ID), f'{CORPUS_ID.lower()}_metadata_complete.csv'),\n",
    "    cleaned_files_dir=get_txt_clean_path(CORPUS_ID),\n",
    "    model_output_dir=MODEL_FOLDER  # Use flat directory as discussed...\n",
    ")"
   ]
  },
  {
   "cell_type": "markdown",
   "metadata": {},
   "source": [
    "Given a `CORPUS_PART`, let's extract the filtered documents. Please check the `DocsManager.ipynb` notebook for additional filter options."
   ]
  },
  {
   "cell_type": "code",
   "execution_count": null,
   "metadata": {
    "collapsed": true
   },
   "outputs": [],
   "source": [
    "docs.set_min_token_count(100)"
   ]
  },
  {
   "cell_type": "code",
   "execution_count": 7,
   "metadata": {},
   "outputs": [
    {
     "name": "stdout",
     "output_type": "stream",
     "text": [
      "CPU times: user 2.46 s, sys: 2.79 s, total: 5.25 s\n",
      "Wall time: 1min 32s\n"
     ]
    }
   ],
   "source": [
    "%%time\n",
    "docs_filtered, meta = docs.filter_doclist(CORPUS_PART, save=True, return_meta=True, pool_workers=22)"
   ]
  },
  {
   "cell_type": "code",
   "execution_count": 8,
   "metadata": {},
   "outputs": [
    {
     "data": {
      "text/html": [
       "<div>\n",
       "<style scoped>\n",
       "    .dataframe tbody tr th:only-of-type {\n",
       "        vertical-align: middle;\n",
       "    }\n",
       "\n",
       "    .dataframe tbody tr th {\n",
       "        vertical-align: top;\n",
       "    }\n",
       "\n",
       "    .dataframe thead th {\n",
       "        text-align: right;\n",
       "    }\n",
       "</style>\n",
       "<table border=\"1\" class=\"dataframe\">\n",
       "  <thead>\n",
       "    <tr style=\"text-align: right;\">\n",
       "      <th></th>\n",
       "      <th>id</th>\n",
       "      <th>title</th>\n",
       "      <th>author</th>\n",
       "      <th>digital_identifier</th>\n",
       "      <th>language_detected</th>\n",
       "      <th>year</th>\n",
       "      <th>pages</th>\n",
       "    </tr>\n",
       "  </thead>\n",
       "  <tbody>\n",
       "    <tr>\n",
       "      <th>0</th>\n",
       "      <td>imf_000169111a90a98ac66bb6d07e4682d6be8b6ac3</td>\n",
       "      <td>Indonesia : Selected Issues</td>\n",
       "      <td>International Monetary Fund</td>\n",
       "      <td>9781475510775/1934-7685</td>\n",
       "      <td>en</td>\n",
       "      <td>2012</td>\n",
       "      <td></td>\n",
       "    </tr>\n",
       "    <tr>\n",
       "      <th>1</th>\n",
       "      <td>imf_0004fdded18df40f3680c5a2f343f773d8f18d6f</td>\n",
       "      <td>United States : Staff Report for the 2000 Arti...</td>\n",
       "      <td>International Monetary Fund</td>\n",
       "      <td>9781451839524/1934-7685</td>\n",
       "      <td>en</td>\n",
       "      <td>2000</td>\n",
       "      <td></td>\n",
       "    </tr>\n",
       "  </tbody>\n",
       "</table>\n",
       "</div>"
      ],
      "text/plain": [
       "                                             id  \\\n",
       "0  imf_000169111a90a98ac66bb6d07e4682d6be8b6ac3   \n",
       "1  imf_0004fdded18df40f3680c5a2f343f773d8f18d6f   \n",
       "\n",
       "                                               title  \\\n",
       "0                        Indonesia : Selected Issues   \n",
       "1  United States : Staff Report for the 2000 Arti...   \n",
       "\n",
       "                        author       digital_identifier language_detected  \\\n",
       "0  International Monetary Fund  9781475510775/1934-7685                en   \n",
       "1  International Monetary Fund  9781451839524/1934-7685                en   \n",
       "\n",
       "   year pages  \n",
       "0  2012        \n",
       "1  2000        "
      ]
     },
     "execution_count": 8,
     "metadata": {},
     "output_type": "execute_result"
    }
   ],
   "source": [
    "meta.head(2)"
   ]
  },
  {
   "cell_type": "code",
   "execution_count": 9,
   "metadata": {},
   "outputs": [
    {
     "data": {
      "text/html": [
       "<div>\n",
       "<style scoped>\n",
       "    .dataframe tbody tr th:only-of-type {\n",
       "        vertical-align: middle;\n",
       "    }\n",
       "\n",
       "    .dataframe tbody tr th {\n",
       "        vertical-align: top;\n",
       "    }\n",
       "\n",
       "    .dataframe thead th {\n",
       "        text-align: right;\n",
       "    }\n",
       "</style>\n",
       "<table border=\"1\" class=\"dataframe\">\n",
       "  <thead>\n",
       "    <tr style=\"text-align: right;\">\n",
       "      <th></th>\n",
       "      <th>id</th>\n",
       "      <th>filename</th>\n",
       "      <th>text</th>\n",
       "    </tr>\n",
       "  </thead>\n",
       "  <tbody>\n",
       "    <tr>\n",
       "      <th>0</th>\n",
       "      <td>imf_000169111a90a98ac66bb6d07e4682d6be8b6ac3</td>\n",
       "      <td>/R/NLP/CORPUS/IMF/TXT_CLEAN/imf_000169111a90a9...</td>\n",
       "      <td>select issue country report august internation...</td>\n",
       "    </tr>\n",
       "    <tr>\n",
       "      <th>1</th>\n",
       "      <td>imf_0004fdded18df40f3680c5a2f343f773d8f18d6f</td>\n",
       "      <td>/R/NLP/CORPUS/IMF/TXT_CLEAN/imf_0004fdded18df4...</td>\n",
       "      <td>international monetary fund staff country repo...</td>\n",
       "    </tr>\n",
       "  </tbody>\n",
       "</table>\n",
       "</div>"
      ],
      "text/plain": [
       "                                             id  \\\n",
       "0  imf_000169111a90a98ac66bb6d07e4682d6be8b6ac3   \n",
       "1  imf_0004fdded18df40f3680c5a2f343f773d8f18d6f   \n",
       "\n",
       "                                            filename  \\\n",
       "0  /R/NLP/CORPUS/IMF/TXT_CLEAN/imf_000169111a90a9...   \n",
       "1  /R/NLP/CORPUS/IMF/TXT_CLEAN/imf_0004fdded18df4...   \n",
       "\n",
       "                                                text  \n",
       "0  select issue country report august internation...  \n",
       "1  international monetary fund staff country repo...  "
      ]
     },
     "execution_count": 9,
     "metadata": {},
     "output_type": "execute_result"
    }
   ],
   "source": [
    "docs_filtered.head(2)"
   ]
  },
  {
   "cell_type": "markdown",
   "metadata": {},
   "source": [
    "# LSA model"
   ]
  },
  {
   "cell_type": "markdown",
   "metadata": {},
   "source": [
    "### Generate gensim dictionary"
   ]
  },
  {
   "cell_type": "code",
   "execution_count": 10,
   "metadata": {},
   "outputs": [
    {
     "name": "stdout",
     "output_type": "stream",
     "text": [
      "CPU times: user 1min 41s, sys: 4.69 s, total: 1min 46s\n",
      "Wall time: 3min 29s\n"
     ]
    }
   ],
   "source": [
    "%%time\n",
    "g_dict = Dictionary(docs_filtered.text.str.split())\n",
    "g_dict.id2token = {id: token for token, id in g_dict.token2id.items()}"
   ]
  },
  {
   "cell_type": "markdown",
   "metadata": {},
   "source": [
    "### Train LDA model using Gensim's Mallet wrapper"
   ]
  },
  {
   "cell_type": "code",
   "execution_count": 11,
   "metadata": {
    "collapsed": true
   },
   "outputs": [],
   "source": [
    "corpus = [g_dict.doc2bow(text.split()) for text in docs_filtered.text]"
   ]
  },
  {
   "cell_type": "code",
   "execution_count": 13,
   "metadata": {
    "collapsed": true
   },
   "outputs": [],
   "source": [
    "MODEL_DATA_FOLDER = os.path.join(MODELS_PATH, f'{CORPUS_ID}-{MODEL_ID}', 'data')\n",
    "\n",
    "if not os.path.isdir(MODEL_DATA_FOLDER):\n",
    "    os.makedirs(MODEL_DATA_FOLDER)"
   ]
  },
  {
   "cell_type": "code",
   "execution_count": 14,
   "metadata": {},
   "outputs": [
    {
     "data": {
      "text/plain": [
       "'/R/NLP/MODELS/LDA/IMF-ALL_50/data'"
      ]
     },
     "execution_count": 14,
     "metadata": {},
     "output_type": "execute_result"
    }
   ],
   "source": [
    "MODEL_DATA_FOLDER"
   ]
  },
  {
   "cell_type": "markdown",
   "metadata": {},
   "source": [
    "# WARNING! Mallet files will be stored in the user home directory.\n",
    "\n",
    "Ideally, this should be in the /tmp directory but the allocated space is not enough"
   ]
  },
  {
   "cell_type": "code",
   "execution_count": 15,
   "metadata": {
    "collapsed": true
   },
   "outputs": [],
   "source": [
    "import logging\n",
    "\n",
    "logging.basicConfig(filename=f'{CORPUS_ID.lower()}-{MODEL_ID}.log', format='%(asctime)s - %(levelname)s - %(message)s', level=logging.INFO)\n"
   ]
  },
  {
   "cell_type": "code",
   "execution_count": 17,
   "metadata": {},
   "outputs": [
    {
     "name": "stdout",
     "output_type": "stream",
     "text": [
      "./corpus.txt\n",
      "./state.mallet.gz\n",
      "CPU times: user 19min 24s, sys: 2.99 s, total: 19min 27s\n",
      "Wall time: 1h 35min 6s\n"
     ]
    }
   ],
   "source": [
    "%%time\n",
    "\n",
    "model = LdaMallet(\n",
    "    MALLET_BINARY_PATH, corpus=corpus, num_topics=NUM_TOPICS, prefix='./{CORPUS_ID}-{MODEL_ID}_', \n",
    "    id2word=g_dict.id2token, workers=NUM_WORKERS\n",
    ")"
   ]
  },
  {
   "cell_type": "code",
   "execution_count": 19,
   "metadata": {},
   "outputs": [
    {
     "data": {
      "text/plain": [
       "('~/IMF-ALL_50_doctopics.txt', 50)"
      ]
     },
     "execution_count": 19,
     "metadata": {},
     "output_type": "execute_result"
    }
   ],
   "source": [
    "model.fdoctopics(), model.num_topics"
   ]
  },
  {
   "cell_type": "markdown",
   "metadata": {},
   "source": [
    "### Load doc topics"
   ]
  },
  {
   "cell_type": "code",
   "execution_count": 19,
   "metadata": {
    "collapsed": true
   },
   "outputs": [],
   "source": [
    "dt = pd.read_csv(\n",
    "    model.fdoctopics(), delimiter='\\t', header=None,\n",
    "    names=[i for i in range(model.num_topics)], index_col=None,\n",
    "    usecols=[i + 2 for i in range(model.num_topics)],\n",
    ")\n",
    "\n",
    "dt.index = docs_filtered['id']\n",
    "dt = dt.divide(dt.min(axis=1), axis=0).astype(int) - 1"
   ]
  },
  {
   "cell_type": "code",
   "execution_count": 20,
   "metadata": {
    "scrolled": true
   },
   "outputs": [
    {
     "data": {
      "text/html": [
       "<div>\n",
       "<style scoped>\n",
       "    .dataframe tbody tr th:only-of-type {\n",
       "        vertical-align: middle;\n",
       "    }\n",
       "\n",
       "    .dataframe tbody tr th {\n",
       "        vertical-align: top;\n",
       "    }\n",
       "\n",
       "    .dataframe thead th {\n",
       "        text-align: right;\n",
       "    }\n",
       "</style>\n",
       "<table border=\"1\" class=\"dataframe\">\n",
       "  <thead>\n",
       "    <tr style=\"text-align: right;\">\n",
       "      <th></th>\n",
       "      <th>0</th>\n",
       "      <th>1</th>\n",
       "      <th>2</th>\n",
       "      <th>3</th>\n",
       "      <th>4</th>\n",
       "      <th>5</th>\n",
       "      <th>6</th>\n",
       "      <th>7</th>\n",
       "      <th>8</th>\n",
       "      <th>9</th>\n",
       "      <th>...</th>\n",
       "      <th>40</th>\n",
       "      <th>41</th>\n",
       "      <th>42</th>\n",
       "      <th>43</th>\n",
       "      <th>44</th>\n",
       "      <th>45</th>\n",
       "      <th>46</th>\n",
       "      <th>47</th>\n",
       "      <th>48</th>\n",
       "      <th>49</th>\n",
       "    </tr>\n",
       "    <tr>\n",
       "      <th>id</th>\n",
       "      <th></th>\n",
       "      <th></th>\n",
       "      <th></th>\n",
       "      <th></th>\n",
       "      <th></th>\n",
       "      <th></th>\n",
       "      <th></th>\n",
       "      <th></th>\n",
       "      <th></th>\n",
       "      <th></th>\n",
       "      <th></th>\n",
       "      <th></th>\n",
       "      <th></th>\n",
       "      <th></th>\n",
       "      <th></th>\n",
       "      <th></th>\n",
       "      <th></th>\n",
       "      <th></th>\n",
       "      <th></th>\n",
       "      <th></th>\n",
       "      <th></th>\n",
       "    </tr>\n",
       "  </thead>\n",
       "  <tbody>\n",
       "    <tr>\n",
       "      <th>imf_000169111a90a98ac66bb6d07e4682d6be8b6ac3</th>\n",
       "      <td>0</td>\n",
       "      <td>240</td>\n",
       "      <td>1</td>\n",
       "      <td>3</td>\n",
       "      <td>158</td>\n",
       "      <td>67</td>\n",
       "      <td>1</td>\n",
       "      <td>25</td>\n",
       "      <td>4</td>\n",
       "      <td>1</td>\n",
       "      <td>...</td>\n",
       "      <td>1</td>\n",
       "      <td>691</td>\n",
       "      <td>0</td>\n",
       "      <td>3</td>\n",
       "      <td>427</td>\n",
       "      <td>3</td>\n",
       "      <td>162</td>\n",
       "      <td>7</td>\n",
       "      <td>12</td>\n",
       "      <td>3</td>\n",
       "    </tr>\n",
       "    <tr>\n",
       "      <th>imf_0004fdded18df40f3680c5a2f343f773d8f18d6f</th>\n",
       "      <td>191</td>\n",
       "      <td>46</td>\n",
       "      <td>14</td>\n",
       "      <td>16</td>\n",
       "      <td>215</td>\n",
       "      <td>178</td>\n",
       "      <td>15</td>\n",
       "      <td>146</td>\n",
       "      <td>43</td>\n",
       "      <td>128</td>\n",
       "      <td>...</td>\n",
       "      <td>267</td>\n",
       "      <td>290</td>\n",
       "      <td>17</td>\n",
       "      <td>4</td>\n",
       "      <td>681</td>\n",
       "      <td>80</td>\n",
       "      <td>25</td>\n",
       "      <td>4147</td>\n",
       "      <td>17</td>\n",
       "      <td>111</td>\n",
       "    </tr>\n",
       "  </tbody>\n",
       "</table>\n",
       "<p>2 rows × 50 columns</p>\n",
       "</div>"
      ],
      "text/plain": [
       "                                               0    1   2   3    4    5   6   \\\n",
       "id                                                                             \n",
       "imf_000169111a90a98ac66bb6d07e4682d6be8b6ac3    0  240   1   3  158   67   1   \n",
       "imf_0004fdded18df40f3680c5a2f343f773d8f18d6f  191   46  14  16  215  178  15   \n",
       "\n",
       "                                               7   8    9  ...    40   41  42  \\\n",
       "id                                                         ...                  \n",
       "imf_000169111a90a98ac66bb6d07e4682d6be8b6ac3   25   4    1 ...     1  691   0   \n",
       "imf_0004fdded18df40f3680c5a2f343f773d8f18d6f  146  43  128 ...   267  290  17   \n",
       "\n",
       "                                              43   44  45   46    47  48   49  \n",
       "id                                                                             \n",
       "imf_000169111a90a98ac66bb6d07e4682d6be8b6ac3   3  427   3  162     7  12    3  \n",
       "imf_0004fdded18df40f3680c5a2f343f773d8f18d6f   4  681  80   25  4147  17  111  \n",
       "\n",
       "[2 rows x 50 columns]"
      ]
     },
     "execution_count": 20,
     "metadata": {},
     "output_type": "execute_result"
    }
   ],
   "source": [
    "dt.head(2)"
   ]
  },
  {
   "cell_type": "code",
   "execution_count": 19,
   "metadata": {
    "scrolled": true
   },
   "outputs": [
    {
     "data": {
      "text/html": [
       "<div>\n",
       "<style scoped>\n",
       "    .dataframe tbody tr th:only-of-type {\n",
       "        vertical-align: middle;\n",
       "    }\n",
       "\n",
       "    .dataframe tbody tr th {\n",
       "        vertical-align: top;\n",
       "    }\n",
       "\n",
       "    .dataframe thead th {\n",
       "        text-align: right;\n",
       "    }\n",
       "</style>\n",
       "<table border=\"1\" class=\"dataframe\">\n",
       "  <thead>\n",
       "    <tr style=\"text-align: right;\">\n",
       "      <th></th>\n",
       "      <th>0</th>\n",
       "      <th>1</th>\n",
       "      <th>2</th>\n",
       "      <th>3</th>\n",
       "      <th>4</th>\n",
       "      <th>5</th>\n",
       "      <th>6</th>\n",
       "      <th>7</th>\n",
       "      <th>8</th>\n",
       "      <th>9</th>\n",
       "      <th>...</th>\n",
       "      <th>40</th>\n",
       "      <th>41</th>\n",
       "      <th>42</th>\n",
       "      <th>43</th>\n",
       "      <th>44</th>\n",
       "      <th>45</th>\n",
       "      <th>46</th>\n",
       "      <th>47</th>\n",
       "      <th>48</th>\n",
       "      <th>49</th>\n",
       "    </tr>\n",
       "    <tr>\n",
       "      <th>uid</th>\n",
       "      <th></th>\n",
       "      <th></th>\n",
       "      <th></th>\n",
       "      <th></th>\n",
       "      <th></th>\n",
       "      <th></th>\n",
       "      <th></th>\n",
       "      <th></th>\n",
       "      <th></th>\n",
       "      <th></th>\n",
       "      <th></th>\n",
       "      <th></th>\n",
       "      <th></th>\n",
       "      <th></th>\n",
       "      <th></th>\n",
       "      <th></th>\n",
       "      <th></th>\n",
       "      <th></th>\n",
       "      <th></th>\n",
       "      <th></th>\n",
       "      <th></th>\n",
       "    </tr>\n",
       "  </thead>\n",
       "  <tbody>\n",
       "    <tr>\n",
       "      <th>20140580</th>\n",
       "      <td>2</td>\n",
       "      <td>0</td>\n",
       "      <td>0</td>\n",
       "      <td>33</td>\n",
       "      <td>3</td>\n",
       "      <td>4</td>\n",
       "      <td>1</td>\n",
       "      <td>0</td>\n",
       "      <td>1</td>\n",
       "      <td>3</td>\n",
       "      <td>...</td>\n",
       "      <td>20</td>\n",
       "      <td>2</td>\n",
       "      <td>2</td>\n",
       "      <td>0</td>\n",
       "      <td>2</td>\n",
       "      <td>181</td>\n",
       "      <td>0</td>\n",
       "      <td>0</td>\n",
       "      <td>0</td>\n",
       "      <td>0</td>\n",
       "    </tr>\n",
       "    <tr>\n",
       "      <th>25715555</th>\n",
       "      <td>0</td>\n",
       "      <td>131</td>\n",
       "      <td>0</td>\n",
       "      <td>0</td>\n",
       "      <td>1136</td>\n",
       "      <td>0</td>\n",
       "      <td>46</td>\n",
       "      <td>10</td>\n",
       "      <td>25</td>\n",
       "      <td>702</td>\n",
       "      <td>...</td>\n",
       "      <td>222</td>\n",
       "      <td>0</td>\n",
       "      <td>0</td>\n",
       "      <td>861</td>\n",
       "      <td>3</td>\n",
       "      <td>3</td>\n",
       "      <td>156</td>\n",
       "      <td>0</td>\n",
       "      <td>3</td>\n",
       "      <td>43</td>\n",
       "    </tr>\n",
       "  </tbody>\n",
       "</table>\n",
       "<p>2 rows × 50 columns</p>\n",
       "</div>"
      ],
      "text/plain": [
       "          0    1   2   3     4   5   6   7   8    9  ...   40  41  42   43  \\\n",
       "uid                                                  ...                     \n",
       "20140580   2    0   0  33     3   4   1   0   1    3 ...   20   2   2    0   \n",
       "25715555   0  131   0   0  1136   0  46  10  25  702 ...  222   0   0  861   \n",
       "\n",
       "          44   45   46  47  48  49  \n",
       "uid                                 \n",
       "20140580   2  181    0   0   0   0  \n",
       "25715555   3    3  156   0   3  43  \n",
       "\n",
       "[2 rows x 50 columns]"
      ]
     },
     "execution_count": 19,
     "metadata": {},
     "output_type": "execute_result"
    }
   ],
   "source": [
    "dt.head(2)"
   ]
  },
  {
   "cell_type": "markdown",
   "metadata": {},
   "source": [
    "### Generate dfr data"
   ]
  },
  {
   "cell_type": "code",
   "execution_count": 21,
   "metadata": {
    "collapsed": true
   },
   "outputs": [],
   "source": [
    "ddt = transform_dt(dt.as_matrix().T)"
   ]
  },
  {
   "cell_type": "code",
   "execution_count": 22,
   "metadata": {
    "collapsed": true
   },
   "outputs": [],
   "source": [
    "ttw = get_tw(model)"
   ]
  },
  {
   "cell_type": "markdown",
   "metadata": {},
   "source": [
    "### Store data"
   ]
  },
  {
   "cell_type": "code",
   "execution_count": 23,
   "metadata": {
    "collapsed": true
   },
   "outputs": [],
   "source": [
    "with open(os.path.join(MODEL_DATA_FOLDER, 'tw.json'), 'w') as fl:\n",
    "    json.dump(ttw, fl)"
   ]
  },
  {
   "cell_type": "code",
   "execution_count": 24,
   "metadata": {
    "collapsed": true,
    "scrolled": true
   },
   "outputs": [],
   "source": [
    "with open(os.path.join(MODEL_DATA_FOLDER, 'dt.json'), 'w') as fl:\n",
    "    json.dump(ddt, fl)"
   ]
  },
  {
   "cell_type": "code",
   "execution_count": 25,
   "metadata": {
    "collapsed": true
   },
   "outputs": [],
   "source": [
    "info_json = {\n",
    "    \"title\": \"Topics in <em>WB Documents and Reports API<\\/em>\",\n",
    "    \"meta_info\": \"This site is the working demo for <a href=\\\"/\\\">dfr-browser</a>, a browsing interface for topic models of journal articles or other text.\",\n",
    "    \"VIS\": {\n",
    "        \"condition\": {\n",
    "            \"type\": \"time\",\n",
    "            \"spec\": {\n",
    "                \"unit\": \"year\",\n",
    "                \"n\": 1\n",
    "            }\n",
    "        },\n",
    "        \"bib_sort\": {\n",
    "            \"major\": \"year\",\n",
    "            \"minor\": \"alpha\"\n",
    "        },\n",
    "        \"model_view\": {\n",
    "            \"plot\": {\n",
    "                \"words\": 6,\n",
    "                \"size_range\": [6, 14]\n",
    "            } \n",
    "        }\n",
    "    }\n",
    "}\n",
    "\n",
    "with open(os.path.join(MODEL_DATA_FOLDER, 'info.json'), 'w') as fl:\n",
    "    json.dump(info_json, fl)"
   ]
  },
  {
   "cell_type": "markdown",
   "metadata": {},
   "source": [
    "# Generation of key LDA files\n",
    "\n",
    "### doc_topics"
   ]
  },
  {
   "cell_type": "code",
   "execution_count": 26,
   "metadata": {
    "collapsed": true
   },
   "outputs": [],
   "source": [
    "dt.to_csv(\n",
    "    os.path.join(MODEL_DATA_FOLDER, f'doc_topics_{MODEL_ID}.csv'), \n",
    "    header=False,  # Change to True if topic id should be present as the header\n",
    "    index=False  # Change to True if the uid should be present as the index\n",
    ")"
   ]
  },
  {
   "cell_type": "markdown",
   "metadata": {},
   "source": [
    "### topic_words"
   ]
  },
  {
   "cell_type": "code",
   "execution_count": 27,
   "metadata": {
    "collapsed": true
   },
   "outputs": [],
   "source": [
    "word_topics = pd.DataFrame(model.word_topics, columns=range(model.word_topics.shape[1]), index=range(1, model.word_topics.shape[0] + 1))\n",
    "word_topics = word_topics.rename(columns=model.id2word)"
   ]
  },
  {
   "cell_type": "code",
   "execution_count": 28,
   "metadata": {},
   "outputs": [
    {
     "data": {
      "text/html": [
       "<div>\n",
       "<style scoped>\n",
       "    .dataframe tbody tr th:only-of-type {\n",
       "        vertical-align: middle;\n",
       "    }\n",
       "\n",
       "    .dataframe tbody tr th {\n",
       "        vertical-align: top;\n",
       "    }\n",
       "\n",
       "    .dataframe thead th {\n",
       "        text-align: right;\n",
       "    }\n",
       "</style>\n",
       "<table border=\"1\" class=\"dataframe\">\n",
       "  <thead>\n",
       "    <tr style=\"text-align: right;\">\n",
       "      <th></th>\n",
       "      <th>ability</th>\n",
       "      <th>able</th>\n",
       "      <th>absence</th>\n",
       "      <th>absolute</th>\n",
       "      <th>absorb</th>\n",
       "      <th>accelerate</th>\n",
       "      <th>accelerator</th>\n",
       "      <th>accept</th>\n",
       "      <th>access</th>\n",
       "      <th>accommodate</th>\n",
       "      <th>...</th>\n",
       "      <th>stapler</th>\n",
       "      <th>nonfreezing</th>\n",
       "      <th>gruel</th>\n",
       "      <th>armpit</th>\n",
       "      <th>convector</th>\n",
       "      <th>dingo</th>\n",
       "      <th>famish</th>\n",
       "      <th>outshining</th>\n",
       "      <th>monomer</th>\n",
       "      <th>telesale</th>\n",
       "    </tr>\n",
       "  </thead>\n",
       "  <tbody>\n",
       "    <tr>\n",
       "      <th>1</th>\n",
       "      <td>709.0</td>\n",
       "      <td>0.0</td>\n",
       "      <td>203.0</td>\n",
       "      <td>0.0</td>\n",
       "      <td>0.0</td>\n",
       "      <td>0.0</td>\n",
       "      <td>0.0</td>\n",
       "      <td>1.0</td>\n",
       "      <td>4325.0</td>\n",
       "      <td>0.0</td>\n",
       "      <td>...</td>\n",
       "      <td>0.0</td>\n",
       "      <td>0.0</td>\n",
       "      <td>0.0</td>\n",
       "      <td>0.0</td>\n",
       "      <td>0.0</td>\n",
       "      <td>0.0</td>\n",
       "      <td>0.0</td>\n",
       "      <td>0.0</td>\n",
       "      <td>0.0</td>\n",
       "      <td>0.0</td>\n",
       "    </tr>\n",
       "    <tr>\n",
       "      <th>2</th>\n",
       "      <td>843.0</td>\n",
       "      <td>0.0</td>\n",
       "      <td>116.0</td>\n",
       "      <td>0.0</td>\n",
       "      <td>217.0</td>\n",
       "      <td>0.0</td>\n",
       "      <td>0.0</td>\n",
       "      <td>0.0</td>\n",
       "      <td>1103.0</td>\n",
       "      <td>0.0</td>\n",
       "      <td>...</td>\n",
       "      <td>0.0</td>\n",
       "      <td>0.0</td>\n",
       "      <td>0.0</td>\n",
       "      <td>0.0</td>\n",
       "      <td>0.0</td>\n",
       "      <td>0.0</td>\n",
       "      <td>0.0</td>\n",
       "      <td>0.0</td>\n",
       "      <td>0.0</td>\n",
       "      <td>0.0</td>\n",
       "    </tr>\n",
       "    <tr>\n",
       "      <th>3</th>\n",
       "      <td>3217.0</td>\n",
       "      <td>0.0</td>\n",
       "      <td>607.0</td>\n",
       "      <td>188.0</td>\n",
       "      <td>222.0</td>\n",
       "      <td>0.0</td>\n",
       "      <td>0.0</td>\n",
       "      <td>1213.0</td>\n",
       "      <td>2239.0</td>\n",
       "      <td>57.0</td>\n",
       "      <td>...</td>\n",
       "      <td>0.0</td>\n",
       "      <td>0.0</td>\n",
       "      <td>0.0</td>\n",
       "      <td>0.0</td>\n",
       "      <td>0.0</td>\n",
       "      <td>0.0</td>\n",
       "      <td>0.0</td>\n",
       "      <td>0.0</td>\n",
       "      <td>0.0</td>\n",
       "      <td>0.0</td>\n",
       "    </tr>\n",
       "    <tr>\n",
       "      <th>4</th>\n",
       "      <td>188.0</td>\n",
       "      <td>0.0</td>\n",
       "      <td>0.0</td>\n",
       "      <td>98.0</td>\n",
       "      <td>0.0</td>\n",
       "      <td>850.0</td>\n",
       "      <td>0.0</td>\n",
       "      <td>0.0</td>\n",
       "      <td>0.0</td>\n",
       "      <td>0.0</td>\n",
       "      <td>...</td>\n",
       "      <td>0.0</td>\n",
       "      <td>0.0</td>\n",
       "      <td>0.0</td>\n",
       "      <td>0.0</td>\n",
       "      <td>0.0</td>\n",
       "      <td>0.0</td>\n",
       "      <td>0.0</td>\n",
       "      <td>0.0</td>\n",
       "      <td>0.0</td>\n",
       "      <td>0.0</td>\n",
       "    </tr>\n",
       "    <tr>\n",
       "      <th>5</th>\n",
       "      <td>510.0</td>\n",
       "      <td>0.0</td>\n",
       "      <td>207.0</td>\n",
       "      <td>461.0</td>\n",
       "      <td>0.0</td>\n",
       "      <td>0.0</td>\n",
       "      <td>0.0</td>\n",
       "      <td>0.0</td>\n",
       "      <td>0.0</td>\n",
       "      <td>113.0</td>\n",
       "      <td>...</td>\n",
       "      <td>0.0</td>\n",
       "      <td>0.0</td>\n",
       "      <td>2.0</td>\n",
       "      <td>0.0</td>\n",
       "      <td>0.0</td>\n",
       "      <td>0.0</td>\n",
       "      <td>0.0</td>\n",
       "      <td>0.0</td>\n",
       "      <td>0.0</td>\n",
       "      <td>0.0</td>\n",
       "    </tr>\n",
       "  </tbody>\n",
       "</table>\n",
       "<p>5 rows × 29411 columns</p>\n",
       "</div>"
      ],
      "text/plain": [
       "   ability  able  absence  absolute  absorb  accelerate  accelerator  accept  \\\n",
       "1    709.0   0.0    203.0       0.0     0.0         0.0          0.0     1.0   \n",
       "2    843.0   0.0    116.0       0.0   217.0         0.0          0.0     0.0   \n",
       "3   3217.0   0.0    607.0     188.0   222.0         0.0          0.0  1213.0   \n",
       "4    188.0   0.0      0.0      98.0     0.0       850.0          0.0     0.0   \n",
       "5    510.0   0.0    207.0     461.0     0.0         0.0          0.0     0.0   \n",
       "\n",
       "   access  accommodate    ...     stapler  nonfreezing  gruel  armpit  \\\n",
       "1  4325.0          0.0    ...         0.0          0.0    0.0     0.0   \n",
       "2  1103.0          0.0    ...         0.0          0.0    0.0     0.0   \n",
       "3  2239.0         57.0    ...         0.0          0.0    0.0     0.0   \n",
       "4     0.0          0.0    ...         0.0          0.0    0.0     0.0   \n",
       "5     0.0        113.0    ...         0.0          0.0    2.0     0.0   \n",
       "\n",
       "   convector  dingo  famish  outshining  monomer  telesale  \n",
       "1        0.0    0.0     0.0         0.0      0.0       0.0  \n",
       "2        0.0    0.0     0.0         0.0      0.0       0.0  \n",
       "3        0.0    0.0     0.0         0.0      0.0       0.0  \n",
       "4        0.0    0.0     0.0         0.0      0.0       0.0  \n",
       "5        0.0    0.0     0.0         0.0      0.0       0.0  \n",
       "\n",
       "[5 rows x 29411 columns]"
      ]
     },
     "execution_count": 28,
     "metadata": {},
     "output_type": "execute_result"
    }
   ],
   "source": [
    "word_topics.head()"
   ]
  },
  {
   "cell_type": "code",
   "execution_count": 29,
   "metadata": {
    "collapsed": true
   },
   "outputs": [],
   "source": [
    "word_topics.astype(int).to_csv(\n",
    "    os.path.join(MODEL_DATA_FOLDER, f'topic_words_{MODEL_ID}.csv'), \n",
    "    header=False,  # Change to True if actual word should be present as the header\n",
    "    index=False  # Change to True if the topic id should be present as the index\n",
    ")"
   ]
  },
  {
   "cell_type": "markdown",
   "metadata": {},
   "source": [
    "### top_words"
   ]
  },
  {
   "cell_type": "code",
   "execution_count": 30,
   "metadata": {
    "collapsed": true
   },
   "outputs": [],
   "source": [
    "top_words = get_top_words(word_topics, topic=None, topn=50)"
   ]
  },
  {
   "cell_type": "code",
   "execution_count": 31,
   "metadata": {},
   "outputs": [
    {
     "data": {
      "text/html": [
       "<div>\n",
       "<style scoped>\n",
       "    .dataframe tbody tr th:only-of-type {\n",
       "        vertical-align: middle;\n",
       "    }\n",
       "\n",
       "    .dataframe tbody tr th {\n",
       "        vertical-align: top;\n",
       "    }\n",
       "\n",
       "    .dataframe thead th {\n",
       "        text-align: right;\n",
       "    }\n",
       "</style>\n",
       "<table border=\"1\" class=\"dataframe\">\n",
       "  <thead>\n",
       "    <tr style=\"text-align: right;\">\n",
       "      <th></th>\n",
       "      <th>topic</th>\n",
       "      <th>word</th>\n",
       "      <th>weight</th>\n",
       "    </tr>\n",
       "  </thead>\n",
       "  <tbody>\n",
       "    <tr>\n",
       "      <th>0</th>\n",
       "      <td>1</td>\n",
       "      <td>debt</td>\n",
       "      <td>339300</td>\n",
       "    </tr>\n",
       "    <tr>\n",
       "      <th>1</th>\n",
       "      <td>1</td>\n",
       "      <td>country</td>\n",
       "      <td>30594</td>\n",
       "    </tr>\n",
       "  </tbody>\n",
       "</table>\n",
       "</div>"
      ],
      "text/plain": [
       "   topic     word  weight\n",
       "0      1     debt  339300\n",
       "1      1  country   30594"
      ]
     },
     "execution_count": 31,
     "metadata": {},
     "output_type": "execute_result"
    }
   ],
   "source": [
    "top_words.head(2)"
   ]
  },
  {
   "cell_type": "code",
   "execution_count": 32,
   "metadata": {
    "collapsed": true
   },
   "outputs": [],
   "source": [
    "top_words.to_csv(\n",
    "    os.path.join(MODEL_DATA_FOLDER, f'top_words_{MODEL_ID}.csv'), \n",
    "    index=False  # Change to True if the topic id should be present as the index\n",
    ")"
   ]
  },
  {
   "cell_type": "code",
   "execution_count": 33,
   "metadata": {},
   "outputs": [
    {
     "name": "stdout",
     "output_type": "stream",
     "text": [
      "/R/NLP/MODELS/LDA/IMF-ALL_50/data/IMF_lda_model_ALL_50.lda\n",
      "CPU times: user 50 ms, sys: 33 ms, total: 83 ms\n",
      "Wall time: 453 ms\n"
     ]
    }
   ],
   "source": [
    "%%time\n",
    "model.save(os.path.join(MODEL_DATA_FOLDER, f'{CORPUS_ID}_lda_model_{MODEL_ID}.lda'))"
   ]
  },
  {
   "cell_type": "code",
   "execution_count": 34,
   "metadata": {
    "collapsed": true
   },
   "outputs": [],
   "source": [
    "# ls -lh saved_lda_model.lda"
   ]
  },
  {
   "cell_type": "markdown",
   "metadata": {},
   "source": [
    "# Find closest document by Euclidean distance\n",
    "\n",
    "Use functions defined in `LDAModule.ipynb`: `close_docs`"
   ]
  },
  {
   "cell_type": "code",
   "execution_count": 84,
   "metadata": {
    "collapsed": true
   },
   "outputs": [],
   "source": [
    "# # We generate a function that will find and list the N documents closest to a selected one\n",
    "# close_docs <- function(docid, numclose) {\n",
    "#   indx <- which(s$uid == docid)\n",
    "#   mxcol = 24 + as.numeric(model)\n",
    "#   x1 <- s[indx, 25:mxcol]\n",
    "#   neighbors <- s[, 25:mxcol]\n",
    "#   dist <- pdist(neighbors, x1)\n",
    "#   similar <- cbind(s, dist@dist)\n",
    "#   similar <- similar[order(dist@dist),]\n",
    "#   head(similar[, c(1,5,6,8,9,11,15)], numclose) # The first in the list is the document itself\n",
    "# }\n",
    "\n",
    "# close_docs(10575832, 21)\n",
    "# close_docs(27761347, 21)"
   ]
  },
  {
   "cell_type": "code",
   "execution_count": 87,
   "metadata": {},
   "outputs": [
    {
     "name": "stdout",
     "output_type": "stream",
     "text": [
      "uid: 20140580 \n",
      "title: SABER in Action: An Overview - -ln-             Strengthening Education Systems to Achieve Learning for All \n",
      "url: http://documents.worldbank.org/curated/en/866881468323335358/SABER-in-Action-An-Overview-Strengthening-Education-Systems-to-Achieve-Learning-for-All \n",
      "pdf_url: http://documents.worldbank.org/curated/en/866881468323335358/pdf/80059-REVISED-SABER-in-Action-An-Overview.pdf\n",
      "\n",
      "uid: 29839318 \n",
      "title: Statement by Mr. Johan Van -ln-             Overtveldt at the 97th meeting of the Development Committee -ln-             held on April 21, 2018 \n",
      "url: http://documents.worldbank.org/curated/en/805751524690768770/Statement-by-Mr-Johan-Van-Overtveldt-at-the-97th-meeting-of-the-Development-Committee-held-on-April-21-2018 \n",
      "pdf_url: http://documents.worldbank.org/curated/en/805751524690768770/pdf/DCS2018-0031-Belgium-04212018.pdf\n",
      "\n",
      "uid: 29839299 \n",
      "title: Statement by Rt. Hon. Penny -ln-             Mordaunt at the 97th meeting of the Development Committee -ln-             held on April 21, 2018 \n",
      "url: http://documents.worldbank.org/curated/en/376391524690404485/Statement-by-Rt-Hon-Penny-Mordaunt-at-the-97th-meeting-of-the-Development-Committee-held-on-April-21-2018 \n",
      "pdf_url: http://documents.worldbank.org/curated/en/376391524690404485/pdf/DCS2018-0027-UnitedKingdom-04212018.pdf\n",
      "\n",
      "uid: 29837475 \n",
      "title: Statement by H.E. Gerd Muller at -ln-             the 97th meeting of the Development Committee held on April -ln-             21, 2018 \n",
      "url: http://documents.worldbank.org/curated/en/866601524663030153/Statement-by-H-E-Gerd-Muller-at-the-97th-meeting-of-the-Development-Committee-held-on-April-21-2018 \n",
      "pdf_url: http://documents.worldbank.org/curated/en/866601524663030153/pdf/DCS2018-0008-Germany-04212018.pdf\n",
      "\n",
      "uid: 29839155 \n",
      "title: Statement by Mr. Mohammed -ln-             Boussaid at the 97th meeting of the Development Committee -ln-             held on April 21, 2018 \n",
      "url: http://documents.worldbank.org/curated/en/751851524689746701/Statement-by-Mr-Mohammed-Boussaid-at-the-97th-meeting-of-the-Development-Committee-held-on-April-21-2018 \n",
      "pdf_url: http://documents.worldbank.org/curated/en/751851524689746701/pdf/DCS2018-0021-E-Morocco-04212018.pdf\n",
      "\n",
      "uid: 29839007 \n",
      "title: Statement by Hon. Mathias Cormann -ln-             at the 97th meeting of the Development Committee held on -ln-             April 21, 2018 \n",
      "url: http://documents.worldbank.org/curated/en/751181524687950491/Statement-by-Hon-Mathias-Cormann-at-the-97th-meeting-of-the-Development-Committee-held-on-April-21-2018 \n",
      "pdf_url: http://documents.worldbank.org/curated/en/751181524687950491/pdf/DCS2018-0014-Australia-04212018.pdf\n",
      "\n",
      "uid: 29856030 \n",
      "title: SABER in action : Training -ln-             Provider Assessment Project (TAP) \n",
      "url: http://documents.worldbank.org/curated/en/535421525236361073/SABER-in-action-Training-Provider-Assessment-Project-TAP \n",
      "pdf_url: http://documents.worldbank.org/curated/en/535421525236361073/pdf/125887-WP-PUBLIC-SABER-TrainingProviderAssessment-InAction.pdf\n",
      "\n",
      "uid: 29496101 \n",
      "title: Sri Lanka - Climate investment -ln-             opportunities in South Asia \n",
      "url: http://documents.worldbank.org/curated/en/871191515564244935/Sri-Lanka-Climate-investment-opportunities-in-South-Asia \n",
      "pdf_url: http://documents.worldbank.org/curated/en/871191515564244935/pdf/122325-WP-LK-IFC-SriLanka-Factsheet-v2-PUBLIC.pdf\n",
      "\n",
      "uid: 29566915 \n",
      "title: Improving student outcomes for -ln-             only twenty cents \n",
      "url: http://documents.worldbank.org/curated/en/866351517954088018/Improving-student-outcomes-for-only-twenty-cents \n",
      "pdf_url: http://documents.worldbank.org/curated/en/866351517954088018/pdf/123251-REVISED-PUBLIC-eMBeD-Peru-Mindsets-Brief.pdf\n",
      "\n",
      "uid: 29870822 \n",
      "title: Invest in early childhood to -ln-             ensure the future of Africa \n",
      "url: http://documents.worldbank.org/curated/en/489641525703248777/Invest-in-early-childhood-to-ensure-the-future-of-Africa \n",
      "pdf_url: http://documents.worldbank.org/curated/en/489641525703248777/pdf/125494-English-PUBLIC.pdf\n",
      "\n"
     ]
    }
   ],
   "source": [
    "doc_ids = close_docs(docs, doc_id=20140580, num_docs=10, report=True, dt=dt)"
   ]
  },
  {
   "cell_type": "code",
   "execution_count": null,
   "metadata": {
    "collapsed": true
   },
   "outputs": [],
   "source": []
  },
  {
   "cell_type": "code",
   "execution_count": null,
   "metadata": {
    "collapsed": true
   },
   "outputs": [],
   "source": []
  },
  {
   "cell_type": "markdown",
   "metadata": {},
   "source": [
    "# Scratch"
   ]
  },
  {
   "cell_type": "raw",
   "metadata": {},
   "source": [
    "\n",
    "topic_docs_conditional = function (t, v, key, n) {\n",
    "    var p0 = my.dt.p[t],\n",
    "        p1 = my.dt.p[t + 1],\n",
    "        p,\n",
    "        docs = [ ],\n",
    "        bisect,\n",
    "        insert,\n",
    "        i,\n",
    "        result = [];\n",
    "\n",
    "    // column slice\n",
    "    // TODO speed bottleneck: all that row-summing gets slooow\n",
    "    // because row-slicing is slow on the col-compressed matrix\n",
    "    for (p = p0; p < p1; p += 1) {\n",
    "        if (v === undefined // then: unconditional top docs\n",
    "                || my.doc_categories[v][my.dt.i[p]] === key) {\n",
    "            docs.push({\n",
    "                doc: my.dt.i[p],\n",
    "                frac: my.dt.x[p] / my.dt.row_sum(my.dt.i[p]),\n",
    "                weight: my.dt.x[p]\n",
    "            });\n",
    "        }\n",
    "    }\n",
    "\n",
    "    // return them all, sorted, if there are fewer than n hits\n",
    "    if (n >= docs.length) {\n",
    "        docs.sort(function (a, b) {\n",
    "            return utils.desc(a.frac, b.frac) ||\n",
    "                utils.desc(a.doc, b.doc); // stabilize sort\n",
    "        });\n",
    "        return docs;\n",
    "    }\n",
    "\n",
    "\n",
    "    // initial guess. simplifies the conditionals below to do it this way,\n",
    "    // and sorting n elements is no biggie\n",
    "\n",
    "    result = docs.slice(0, n).sort(function (a, b) {\n",
    "        return utils.asc(a.frac, b.frac) ||\n",
    "            utils.asc(a.doc, b.doc); // stabilize sort\n",
    "    });\n",
    "\n",
    "    bisect = utils.bisector_left(function (d) { return d.frac; });\n",
    "\n",
    "    for (i = n; i < docs.length; i += 1) {\n",
    "        insert = bisect(result, docs[i].frac);\n",
    "        if (insert > 0) {\n",
    "            result.splice(insert, 0, docs[i]);\n",
    "            result.shift();\n",
    "        } else if (result[0].frac === docs[i].frac) {\n",
    "            // insert = 0 but a tie\n",
    "            result.unshift(docs[i]);\n",
    "        }\n",
    "    }\n",
    "\n",
    "    // biggest first\n",
    "    return utils.shorten(result.reverse(), n, function (xs, i) {\n",
    "        return xs[i].frac;\n",
    "    });\n",
    "};"
   ]
  },
  {
   "cell_type": "code",
   "execution_count": 178,
   "metadata": {},
   "outputs": [
    {
     "data": {
      "text/plain": [
       "[0, 3533]"
      ]
     },
     "execution_count": 178,
     "metadata": {},
     "output_type": "execute_result"
    }
   ],
   "source": [
    "ddt['p'][0:2]"
   ]
  },
  {
   "cell_type": "code",
   "execution_count": 174,
   "metadata": {},
   "outputs": [
    {
     "data": {
      "text/plain": [
       "5959"
      ]
     },
     "execution_count": 174,
     "metadata": {},
     "output_type": "execute_result"
    }
   ],
   "source": [
    "ddt['i'][10000]"
   ]
  },
  {
   "cell_type": "code",
   "execution_count": 175,
   "metadata": {},
   "outputs": [
    {
     "data": {
      "text/plain": [
       "232"
      ]
     },
     "execution_count": 175,
     "metadata": {},
     "output_type": "execute_result"
    }
   ],
   "source": [
    "ddt['x'][10000]"
   ]
  },
  {
   "cell_type": "code",
   "execution_count": 161,
   "metadata": {},
   "outputs": [
    {
     "data": {
      "text/plain": [
       "array([[ 0,  0, 18, ...,  0,  0,  3],\n",
       "       [ 0,  0, 10, ...,  0,  0,  2],\n",
       "       [ 2,  0,  6, ...,  2,  4,  0],\n",
       "       ...,\n",
       "       [ 0,  0,  0, ...,  0,  0,  0],\n",
       "       [ 0,  6, 30, ...,  0,  0,  0],\n",
       "       [ 2,  6,  6, ...,  6,  4,  2]], dtype=int64)"
      ]
     },
     "execution_count": 161,
     "metadata": {},
     "output_type": "execute_result"
    }
   ],
   "source": [
    "dt.as_matrix().T"
   ]
  },
  {
   "cell_type": "code",
   "execution_count": null,
   "metadata": {
    "collapsed": true
   },
   "outputs": [],
   "source": []
  },
  {
   "cell_type": "code",
   "execution_count": 179,
   "metadata": {
    "collapsed": true
   },
   "outputs": [],
   "source": [
    "import requests\n",
    "dfr_dt = 'http://microdatahub.com/topicsmodeling/dfr/topic_browser/model.php?type=dt&model=data50_SAR'\n",
    "dfr_dt = requests.get(dfr_dt)"
   ]
  },
  {
   "cell_type": "code",
   "execution_count": 234,
   "metadata": {
    "collapsed": true
   },
   "outputs": [],
   "source": [
    "dfr_dt = ddt  # dfr_dt.json()"
   ]
  },
  {
   "cell_type": "code",
   "execution_count": 235,
   "metadata": {
    "collapsed": true
   },
   "outputs": [],
   "source": [
    "# http://microdatahub.com/topicsmodeling/dfr/topic_browser/browser.php?model=data50_SAR&type=SAR&topic_count=50#/doc/9622\n"
   ]
  },
  {
   "cell_type": "code",
   "execution_count": 248,
   "metadata": {},
   "outputs": [
    {
     "name": "stdout",
     "output_type": "stream",
     "text": [
      "0 3 0.0008880994671403197\n",
      "1 2 0.0005920663114268798\n",
      "3 2 0.0005920663114268798\n",
      "6 5 0.0014801657785671995\n",
      "10 2 0.0005920663114268798\n",
      "11 5 0.0014801657785671995\n",
      "12 900 0.2664298401420959\n",
      "16 18 0.0053285968028419185\n",
      "20 240 0.07104795737122557\n",
      "21 5 0.0014801657785671995\n",
      "23 2 0.0005920663114268798\n",
      "27 10 0.002960331557134399\n",
      "28 3 0.0008880994671403197\n",
      "29 289 0.08555358200118414\n",
      "34 2 0.0005920663114268798\n",
      "37 8 0.002368265245707519\n",
      "40 61 0.018058022498519833\n",
      "41 2 0.0005920663114268798\n",
      "42 16 0.004736530491415038\n",
      "45 609 0.1802841918294849\n",
      "46 2 0.0005920663114268798\n",
      "47 3 0.0008880994671403197\n",
      "48 50 0.014801657785671996\n",
      "49 64 0.018946121965660152\n"
     ]
    }
   ],
   "source": [
    "did = 8130\n",
    "ps_9622 = [p for p in range(0, dfr_dt['p'][-1]) if dfr_dt['i'][p] == did]\n",
    "\n",
    "for t in range(50):\n",
    "    p0 = dfr_dt['p'][t]\n",
    "    p1 = dfr_dt['p'][t + 1]\n",
    "\n",
    "    pt_9622 = [p for p in range(p0, p1) if dfr_dt['i'][p] == did]\n",
    "    try:\n",
    "        raw = dfr_dt['x'][pt_9622[0]]\n",
    "        w =  raw / sum(dfr_dt['x'][p] for p in ps_9622)\n",
    "        print(t, raw, w)\n",
    "    except:\n",
    "        continue"
   ]
  },
  {
   "cell_type": "code",
   "execution_count": 249,
   "metadata": {
    "scrolled": true
   },
   "outputs": [
    {
     "data": {
      "text/plain": [
       "uid\n",
       "20140580      1080\n",
       "25715555     21191\n",
       "25715556     16486\n",
       "25715559     22112\n",
       "25715564     22201\n",
       "26063310     28187\n",
       "26063311     86580\n",
       "26527953     75725\n",
       "26527971     76887\n",
       "27100106    137258\n",
       "27164047      4331\n",
       "27279530     19752\n",
       "27556198     18284\n",
       "27556933    196106\n",
       "27563729      4124\n",
       "27666842     74554\n",
       "27678201     30339\n",
       "27873493      4271\n",
       "27998406      8498\n",
       "28022007     57133\n",
       "28024406     21622\n",
       "28078923     82664\n",
       "28097873     80300\n",
       "28097875     79557\n",
       "28135063     53546\n",
       "28138284     15789\n",
       "28170915     33635\n",
       "28397832     12005\n",
       "28397833     34754\n",
       "28645758    101015\n",
       "             ...  \n",
       "29934340     17483\n",
       "29934571      1166\n",
       "29934572     10604\n",
       "29934576      3477\n",
       "29934577      1058\n",
       "29934810     23777\n",
       "29934811      6585\n",
       "29935000      1666\n",
       "29935012     19639\n",
       "29935017     10680\n",
       "29935018     19224\n",
       "29935028      3498\n",
       "29935030     10039\n",
       "29935031     29335\n",
       "29935035     14365\n",
       "29935179      4293\n",
       "29935213      1246\n",
       "29935218      4780\n",
       "29935220      5114\n",
       "29935221      1958\n",
       "29935314       488\n",
       "29935339      1913\n",
       "29935340      1597\n",
       "29935341      2514\n",
       "29935443      3435\n",
       "29935445      1885\n",
       "29935447     12005\n",
       "29935499      1516\n",
       "29935502      1201\n",
       "29935714      3378\n",
       "Length: 8131, dtype: int64"
      ]
     },
     "execution_count": 249,
     "metadata": {},
     "output_type": "execute_result"
    }
   ],
   "source": [
    "dt.T.sum()"
   ]
  },
  {
   "cell_type": "code",
   "execution_count": 231,
   "metadata": {},
   "outputs": [
    {
     "data": {
      "text/plain": [
       "[32432, 58929, 92858, 134291]"
      ]
     },
     "execution_count": 231,
     "metadata": {},
     "output_type": "execute_result"
    }
   ],
   "source": [
    "[p for p in range(0, dfr_dt['p'][-1]) if dfr_dt['i'][p] == 10490]"
   ]
  },
  {
   "cell_type": "code",
   "execution_count": 227,
   "metadata": {},
   "outputs": [
    {
     "data": {
      "text/plain": [
       "10    3262.0\n",
       "Name: tokens, dtype: float64"
      ]
     },
     "execution_count": 227,
     "metadata": {},
     "output_type": "execute_result"
    }
   ],
   "source": [
    "wbdocs.doclist[wbdocs.doclist.uid == 27164047].tokens"
   ]
  },
  {
   "cell_type": "code",
   "execution_count": 251,
   "metadata": {},
   "outputs": [
    {
     "data": {
      "text/plain": [
       "10499    1963.0\n",
       "Name: tokens, dtype: float64"
      ]
     },
     "execution_count": 251,
     "metadata": {},
     "output_type": "execute_result"
    }
   ],
   "source": [
    "wbdocs.doclist[wbdocs.doclist.uid == 29935714].tokens"
   ]
  },
  {
   "cell_type": "code",
   "execution_count": 238,
   "metadata": {},
   "outputs": [
    {
     "data": {
      "text/plain": [
       "(7896, 3)"
      ]
     },
     "execution_count": 238,
     "metadata": {},
     "output_type": "execute_result"
    }
   ],
   "source": [
    "WBdocs_filtered.shape"
   ]
  },
  {
   "cell_type": "code",
   "execution_count": 239,
   "metadata": {},
   "outputs": [
    {
     "data": {
      "text/plain": [
       "389113"
      ]
     },
     "execution_count": 239,
     "metadata": {},
     "output_type": "execute_result"
    }
   ],
   "source": [
    "dfr_dt['p'][-1]"
   ]
  },
  {
   "cell_type": "code",
   "execution_count": 246,
   "metadata": {},
   "outputs": [
    {
     "data": {
      "text/plain": [
       "(8131, 100)"
      ]
     },
     "execution_count": 246,
     "metadata": {},
     "output_type": "execute_result"
    }
   ],
   "source": [
    "dt.shape"
   ]
  },
  {
   "cell_type": "code",
   "execution_count": null,
   "metadata": {
    "collapsed": true
   },
   "outputs": [],
   "source": []
  }
 ],
 "metadata": {
  "kernelspec": {
   "display_name": "Python 3",
   "language": "python",
   "name": "python3"
  },
  "language_info": {
   "codemirror_mode": {
    "name": "ipython",
    "version": 3
   },
   "file_extension": ".py",
   "mimetype": "text/x-python",
   "name": "python",
   "nbconvert_exporter": "python",
   "pygments_lexer": "ipython3",
   "version": "3.8.3-final"
  }
 },
 "nbformat": 4,
 "nbformat_minor": 2
}