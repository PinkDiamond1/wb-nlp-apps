{
 "cells": [
  {
   "cell_type": "markdown",
   "metadata": {},
   "source": [
    "# Generation of mappings from whitelist\n",
    "\n",
    "This notebook demonstrates how a mapping can be generated using a whitelist. A mapping is a data with a key corresponding to a non-standard version of an entity and mapped to a normalized value, and optionally a `code`.\n",
    "\n",
    "The mapping is an essential input to the `wb_nlp.extraction.extractor` module."
   ]
  },
  {
   "cell_type": "code",
   "execution_count": 1,
   "metadata": {},
   "outputs": [],
   "source": [
    "import pandas as pd\n",
    "from wb_nlp.extraction.whitelist import mappings"
   ]
  },
  {
   "cell_type": "code",
   "execution_count": 4,
   "metadata": {},
   "outputs": [
    {
     "output_type": "stream",
     "text": "\u001b[0;31mSignature:\u001b[0m \u001b[0mmappings\u001b[0m\u001b[0;34m.\u001b[0m\u001b[0mget_countries_mapping\u001b[0m\u001b[0;34m(\u001b[0m\u001b[0;34m)\u001b[0m\u001b[0;34m\u001b[0m\u001b[0;34m\u001b[0m\u001b[0m\n\u001b[0;31mDocstring:\u001b[0m <no docstring>\n\u001b[0;31mSource:\u001b[0m   \n\u001b[0;32mdef\u001b[0m \u001b[0mget_countries_mapping\u001b[0m\u001b[0;34m(\u001b[0m\u001b[0;34m)\u001b[0m\u001b[0;34m:\u001b[0m\u001b[0;34m\u001b[0m\n\u001b[0;34m\u001b[0m    \u001b[0mcountry_df\u001b[0m \u001b[0;34m=\u001b[0m \u001b[0mpd\u001b[0m\u001b[0;34m.\u001b[0m\u001b[0mread_csv\u001b[0m\u001b[0;34m(\u001b[0m\u001b[0mwhitelist\u001b[0m\u001b[0;34m.\u001b[0m\u001b[0mget_country_csv\u001b[0m\u001b[0;34m(\u001b[0m\u001b[0;34m)\u001b[0m\u001b[0;34m,\u001b[0m \u001b[0mindex_col\u001b[0m\u001b[0;34m=\u001b[0m\u001b[0;36m0\u001b[0m\u001b[0;34m,\u001b[0m \u001b[0mheader\u001b[0m\u001b[0;34m=\u001b[0m\u001b[0;32mNone\u001b[0m\u001b[0;34m)\u001b[0m\u001b[0;34m\u001b[0m\n\u001b[0;34m\u001b[0m\u001b[0;34m\u001b[0m\n\u001b[0;34m\u001b[0m    \u001b[0mcountry_mapping\u001b[0m \u001b[0;34m=\u001b[0m \u001b[0;34m{\u001b[0m\u001b[0;34m}\u001b[0m\u001b[0;34m\u001b[0m\n\u001b[0;34m\u001b[0m    \u001b[0;32mfor\u001b[0m \u001b[0mcountry_code\u001b[0m\u001b[0;34m,\u001b[0m \u001b[0mnames\u001b[0m \u001b[0;32min\u001b[0m \u001b[0mcountry_df\u001b[0m\u001b[0;34m.\u001b[0m\u001b[0miterrows\u001b[0m\u001b[0;34m(\u001b[0m\u001b[0;34m)\u001b[0m\u001b[0;34m:\u001b[0m\u001b[0;34m\u001b[0m\n\u001b[0;34m\u001b[0m        \u001b[0mnames\u001b[0m \u001b[0;34m=\u001b[0m \u001b[0mnames\u001b[0m\u001b[0;34m.\u001b[0m\u001b[0mdropna\u001b[0m\u001b[0;34m(\u001b[0m\u001b[0;34m)\u001b[0m\u001b[0;34m.\u001b[0m\u001b[0mvalues\u001b[0m\u001b[0;34m\u001b[0m\n\u001b[0;34m\u001b[0m        \u001b[0;32mfor\u001b[0m \u001b[0mname\u001b[0m \u001b[0;32min\u001b[0m \u001b[0mnames\u001b[0m\u001b[0;34m:\u001b[0m\u001b[0;34m\u001b[0m\n\u001b[0;34m\u001b[0m            \u001b[0mcountry_mapping\u001b[0m\u001b[0;34m[\u001b[0m\u001b[0mname\u001b[0m\u001b[0;34m]\u001b[0m \u001b[0;34m=\u001b[0m \u001b[0;34m{\u001b[0m\u001b[0;34m'code'\u001b[0m\u001b[0;34m:\u001b[0m \u001b[0mcountry_code\u001b[0m\u001b[0;34m,\u001b[0m \u001b[0;34m'normalized'\u001b[0m\u001b[0;34m:\u001b[0m \u001b[0mnames\u001b[0m\u001b[0;34m[\u001b[0m\u001b[0;36m0\u001b[0m\u001b[0;34m]\u001b[0m\u001b[0;34m}\u001b[0m\u001b[0;34m\u001b[0m\n\u001b[0;34m\u001b[0m\u001b[0;34m\u001b[0m\n\u001b[0;34m\u001b[0m    \u001b[0;32mreturn\u001b[0m \u001b[0mcountry_mapping\u001b[0m\u001b[0;34m\u001b[0m\u001b[0;34m\u001b[0m\u001b[0m\n\u001b[0;31mFile:\u001b[0m      ~/WBG/wb_nlp/src/wb_nlp/extraction/whitelist/mappings.py\n\u001b[0;31mType:\u001b[0m      function\n"
    }
   ],
   "source": [
    "??mappings.get_countries_mapping"
   ]
  },
  {
   "cell_type": "code",
   "execution_count": 11,
   "metadata": {
    "tags": []
   },
   "outputs": [
    {
     "output_type": "stream",
     "name": "stdout",
     "text": "Prototypes for PHL\n----------\nPhilippines\nPhilippine Islands\nPilipinas\nFilipinas\n\nPrototypes for USA\n----------\nUnited States of America\nUSA\nU.S.A.\nEtats-Unis\nEstados Unidos\n\nPrototypes for FRA\n----------\nFrance\nFrancia\nFrança\n\n"
    }
   ],
   "source": [
    "country_codes = ['PHL', 'USA', 'FRA']\n",
    "country_mapping = mappings.get_countries_mapping()\n",
    "\n",
    "for country_code in country_codes:\n",
    "    print(f'Prototypes for {country_code}')\n",
    "    print('-' * 10)\n",
    "    for c, cm in country_mapping.items():\n",
    "        if cm['code'] == country_code:\n",
    "            print(c)\n",
    "    print()"
   ]
  },
  {
   "cell_type": "markdown",
   "metadata": {},
   "source": [
    "# Names of World Bank presidents "
   ]
  },
  {
   "cell_type": "code",
   "execution_count": 12,
   "metadata": {},
   "outputs": [
    {
     "output_type": "stream",
     "text": "\u001b[0;31mSignature:\u001b[0m \u001b[0mmappings\u001b[0m\u001b[0;34m.\u001b[0m\u001b[0mget_wb_presidents_mapping\u001b[0m\u001b[0;34m(\u001b[0m\u001b[0;34m)\u001b[0m\u001b[0;34m\u001b[0m\u001b[0;34m\u001b[0m\u001b[0m\n\u001b[0;31mDocstring:\u001b[0m <no docstring>\n\u001b[0;31mSource:\u001b[0m   \n\u001b[0;32mdef\u001b[0m \u001b[0mget_wb_presidents_mapping\u001b[0m\u001b[0;34m(\u001b[0m\u001b[0;34m)\u001b[0m\u001b[0;34m:\u001b[0m\u001b[0;34m\u001b[0m\n\u001b[0;34m\u001b[0m    \u001b[0mwb_presidents_df\u001b[0m \u001b[0;34m=\u001b[0m \u001b[0mpd\u001b[0m\u001b[0;34m.\u001b[0m\u001b[0mread_csv\u001b[0m\u001b[0;34m(\u001b[0m\u001b[0mwhitelist\u001b[0m\u001b[0;34m.\u001b[0m\u001b[0mget_wb_presidents_csv\u001b[0m\u001b[0;34m(\u001b[0m\u001b[0;34m)\u001b[0m\u001b[0;34m,\u001b[0m \u001b[0mindex_col\u001b[0m\u001b[0;34m=\u001b[0m\u001b[0;32mNone\u001b[0m\u001b[0;34m,\u001b[0m \u001b[0mheader\u001b[0m\u001b[0;34m=\u001b[0m\u001b[0;32mNone\u001b[0m\u001b[0;34m)\u001b[0m\u001b[0;34m\u001b[0m\n\u001b[0;34m\u001b[0m\u001b[0;34m\u001b[0m\n\u001b[0;34m\u001b[0m    \u001b[0mwb_presidents_mapping\u001b[0m \u001b[0;34m=\u001b[0m \u001b[0;34m{\u001b[0m\u001b[0;34m}\u001b[0m\u001b[0;34m\u001b[0m\n\u001b[0;34m\u001b[0m    \u001b[0;32mfor\u001b[0m \u001b[0m_\u001b[0m\u001b[0;34m,\u001b[0m \u001b[0mnames\u001b[0m \u001b[0;32min\u001b[0m \u001b[0mwb_presidents_df\u001b[0m\u001b[0;34m.\u001b[0m\u001b[0miterrows\u001b[0m\u001b[0;34m(\u001b[0m\u001b[0;34m)\u001b[0m\u001b[0;34m:\u001b[0m\u001b[0;34m\u001b[0m\n\u001b[0;34m\u001b[0m        \u001b[0mnames\u001b[0m \u001b[0;34m=\u001b[0m \u001b[0mnames\u001b[0m\u001b[0;34m.\u001b[0m\u001b[0mdropna\u001b[0m\u001b[0;34m(\u001b[0m\u001b[0;34m)\u001b[0m\u001b[0;34m.\u001b[0m\u001b[0mvalues\u001b[0m\u001b[0;34m\u001b[0m\n\u001b[0;34m\u001b[0m        \u001b[0;32mfor\u001b[0m \u001b[0mname\u001b[0m \u001b[0;32min\u001b[0m \u001b[0mnames\u001b[0m\u001b[0;34m:\u001b[0m\u001b[0;34m\u001b[0m\n\u001b[0;34m\u001b[0m            \u001b[0mwb_presidents_mapping\u001b[0m\u001b[0;34m[\u001b[0m\u001b[0mname\u001b[0m\u001b[0;34m]\u001b[0m \u001b[0;34m=\u001b[0m \u001b[0;34m{\u001b[0m\u001b[0;34m'code'\u001b[0m\u001b[0;34m:\u001b[0m \u001b[0;34m''\u001b[0m\u001b[0;34m,\u001b[0m \u001b[0;34m'normalized'\u001b[0m\u001b[0;34m:\u001b[0m \u001b[0mnames\u001b[0m\u001b[0;34m[\u001b[0m\u001b[0;36m0\u001b[0m\u001b[0;34m]\u001b[0m\u001b[0;34m}\u001b[0m\u001b[0;34m\u001b[0m\n\u001b[0;34m\u001b[0m\u001b[0;34m\u001b[0m\n\u001b[0;34m\u001b[0m    \u001b[0;32mreturn\u001b[0m \u001b[0mwb_presidents_mapping\u001b[0m\u001b[0;34m\u001b[0m\u001b[0;34m\u001b[0m\u001b[0m\n\u001b[0;31mFile:\u001b[0m      ~/WBG/wb_nlp/src/wb_nlp/extraction/whitelist/mappings.py\n\u001b[0;31mType:\u001b[0m      function\n"
    }
   ],
   "source": [
    "??mappings.get_wb_presidents_mapping"
   ]
  },
  {
   "cell_type": "code",
   "execution_count": 13,
   "metadata": {},
   "outputs": [
    {
     "output_type": "execute_result",
     "data": {
      "text/plain": "{'Eugene Meyer': {'code': '', 'normalized': 'Eugene Meyer'},\n 'E. Meyer': {'code': '', 'normalized': 'Eugene Meyer'},\n 'John J. McCloy': {'code': '', 'normalized': 'John J. McCloy'},\n 'J.J. McCloy': {'code': '', 'normalized': 'John J. McCloy'},\n 'J. J. McCloy': {'code': '', 'normalized': 'John J. McCloy'},\n 'J. McCloy': {'code': '', 'normalized': 'John J. McCloy'},\n 'John McCloy': {'code': '', 'normalized': 'John J. McCloy'},\n 'Eugene R. Black': {'code': '', 'normalized': 'Eugene R. Black'},\n 'E. R. Black': {'code': '', 'normalized': 'Eugene R. Black'},\n 'Eugene Black': {'code': '', 'normalized': 'Eugene R. Black'},\n 'Eugene Robert Black': {'code': '', 'normalized': 'Eugene R. Black'},\n 'Gene Black': {'code': '', 'normalized': 'Eugene R. Black'},\n 'George David Woods': {'code': '', 'normalized': 'George David Woods'},\n 'G. D. Woods': {'code': '', 'normalized': 'George David Woods'},\n 'George D. Woods': {'code': '', 'normalized': 'George David Woods'},\n 'G. Woods': {'code': '', 'normalized': 'George David Woods'},\n 'George Woods': {'code': '', 'normalized': 'George David Woods'},\n 'Robert McNamara': {'code': '', 'normalized': 'Robert McNamara'},\n 'R. McNamara': {'code': '', 'normalized': 'Robert McNamara'},\n 'Bob McNamara': {'code': '', 'normalized': 'Robert McNamara'},\n 'Alden W. Clausen': {'code': '', 'normalized': 'Alden W. Clausen'},\n 'A. W. Clausen': {'code': '', 'normalized': 'Alden W. Clausen'},\n 'Alden Clausen': {'code': '', 'normalized': 'Alden W. Clausen'},\n 'Alden Winship Clausen': {'code': '', 'normalized': 'Alden W. Clausen'},\n 'Tom Clausen': {'code': '', 'normalized': 'Alden W. Clausen'},\n 'Barber Conable': {'code': '', 'normalized': 'Barber Conable'},\n 'B. Conable': {'code': '', 'normalized': 'Barber Conable'},\n 'Lewis Thompson Preston': {'code': '',\n  'normalized': 'Lewis Thompson Preston'},\n 'Lewis T. Preston': {'code': '', 'normalized': 'Lewis Thompson Preston'},\n 'Lewis Preston': {'code': '', 'normalized': 'Lewis Thompson Preston'},\n 'L. T. Preston': {'code': '', 'normalized': 'Lewis Thompson Preston'},\n 'L.T. Preston': {'code': '', 'normalized': 'Lewis Thompson Preston'},\n 'Preston auditorium': {'code': '', 'normalized': 'Lewis Thompson Preston'},\n 'James Wolfensohn': {'code': '', 'normalized': 'James Wolfensohn'},\n 'J. Wolfensohn': {'code': '', 'normalized': 'James Wolfensohn'},\n 'Jim Wolfensohn': {'code': '', 'normalized': 'James Wolfensohn'},\n 'Wolfenshom atrium': {'code': '', 'normalized': 'James Wolfensohn'},\n 'Paul Wolfowitz': {'code': '', 'normalized': 'Paul Wolfowitz'},\n 'P. Wolfowitz': {'code': '', 'normalized': 'Paul Wolfowitz'},\n 'Robert Zoellick': {'code': '', 'normalized': 'Robert Zoellick'},\n 'R. Zoellick': {'code': '', 'normalized': 'Robert Zoellick'},\n 'Bob Zoellick': {'code': '', 'normalized': 'Robert Zoellick'},\n 'Robert Bruce Zoellick': {'code': '', 'normalized': 'Robert Zoellick'},\n 'Robert B. Zoellick': {'code': '', 'normalized': 'Robert Zoellick'},\n 'R. B. Zoellick': {'code': '', 'normalized': 'Robert Zoellick'},\n 'R.B. Zoellick': {'code': '', 'normalized': 'Robert Zoellick'},\n 'Jim Yong Kim': {'code': '', 'normalized': 'Jim Yong Kim'},\n 'Jim Kim': {'code': '', 'normalized': 'Jim Yong Kim'},\n 'Jim Y. Kim': {'code': '', 'normalized': 'Jim Yong Kim'},\n 'J. kim': {'code': '', 'normalized': 'Jim Yong Kim'},\n 'J. Yong Kim': {'code': '', 'normalized': 'Jim Yong Kim'},\n 'J. Y. Kim': {'code': '', 'normalized': 'Jim Yong Kim'},\n 'J.Y. Kim': {'code': '', 'normalized': 'Jim Yong Kim'},\n 'David Malpass': {'code': '', 'normalized': 'David Malpass'},\n 'D. Malpass': {'code': '', 'normalized': 'David Malpass'},\n 'McNamara foundation': {'code': '', 'normalized': 'McNamara foundation'}}"
     },
     "metadata": {},
     "execution_count": 13
    }
   ],
   "source": [
    "wb_presidents_mapping = mappings.get_wb_presidents_mapping()\n",
    "wb_presidents_mapping"
   ]
  },
  {
   "cell_type": "code",
   "execution_count": null,
   "metadata": {},
   "outputs": [],
   "source": []
  }
 ],
 "metadata": {
  "kernelspec": {
   "display_name": "wb_nlp",
   "language": "python",
   "name": "wb_nlp"
  },
  "language_info": {
   "codemirror_mode": {
    "name": "ipython",
    "version": 3
   },
   "file_extension": ".py",
   "mimetype": "text/x-python",
   "name": "python",
   "nbconvert_exporter": "python",
   "pygments_lexer": "ipython3",
   "version": "3.8.3"
  },
  "pycharm": {
   "stem_cell": {
    "cell_type": "raw",
    "metadata": {
     "collapsed": false
    },
    "source": []
   }
  }
 },
 "nbformat": 4,
 "nbformat_minor": 4
}