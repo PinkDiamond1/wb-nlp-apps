{
 "cells": [
  {
   "cell_type": "code",
   "execution_count": 1,
   "metadata": {},
   "outputs": [],
   "source": [
    "import glob\n",
    "import pickle\n",
    "import spacy\n",
    "import pandas as pd\n",
    "\n",
    "from wb_nlp import dir_manager\n",
    "from wb_nlp.cleaning import cleaner"
   ]
  },
  {
   "cell_type": "code",
   "execution_count": 2,
   "metadata": {},
   "outputs": [
    {
     "output_type": "execute_result",
     "data": {
      "text/plain": "(107, '/workspace/data/preprocessed/sample_data/TXT_SAMPLE/wb_13720575.txt')"
     },
     "metadata": {},
     "execution_count": 2
    }
   ],
   "source": [
    "SOURCE_DIR = dir_manager.get_data_dir('raw', 'sample_data', 'TXT_SAMPLE')\n",
    "TARGET_DIR = dir_manager.get_data_dir('preprocessed', 'sample_data', 'TXT_SAMPLE')\n",
    "\n",
    "# Create TARGET_DIR if not available\n",
    "if not os.path.isdir(TARGET_DIR):\n",
    "    os.makedirs(TARGET_DIR)\n",
    "\n",
    "f = [f for f in glob.glob(os.path.join(SOURCE_DIR, '*.txt'))]\n",
    "len(f), f[0].replace(SOURCE_DIR, TARGET_DIR)"
   ]
  },
  {
   "cell_type": "code",
   "execution_count": 3,
   "metadata": {},
   "outputs": [],
   "source": [
    "from joblib import Parallel, delayed\n",
    "from collections import Counter\n",
    "import logging\n",
    "import time\n",
    "import json\n",
    "\n",
    "FORMAT = '%(asctime)-15s\\t%(source_file)s\\t%(elapsed_time)-8s\\t%(message)s'\n",
    "logging.basicConfig(format=FORMAT, filename='./adverbs_log_file.log', level=logging.INFO)\n",
    "\n",
    "nlp = spacy.load('en_core_web_sm', disable=[\"ner\", \"parser\"])\n",
    "# Fine to increase max_length since we're not using the NER and the parser.\n",
    "nlp.max_length = int(1e9)\n",
    "\n",
    "\n",
    "def joblib_get_adverbs(f):\n",
    "    logger = logging.getLogger('corpus_adverbs')\n",
    "    logger.setLevel(logging.NOTSET)\n",
    "\n",
    "    start = time.time()\n",
    "\n",
    "    with open(f, \"rb\") as fl:\n",
    "        text = fl.read().decode(\"utf-8\", errors=\"ignore\")\n",
    "\n",
    "    doc = nlp(text.lower())\n",
    "\n",
    "    adv = Counter([token.lemma_ for token in doc if token.pos_ == \"ADV\"])\n",
    "    end = time.time()\n",
    "\n",
    "    payload = dict(\n",
    "        source_file=f.split('/')[-1],\n",
    "        elapsed_time=end-start,\n",
    "    )\n",
    "\n",
    "    logger.info(json.dumps(adv), extra=payload)\n",
    "\n",
    "    return True"
   ]
  },
  {
   "cell_type": "code",
   "execution_count": 4,
   "metadata": {
    "tags": []
   },
   "outputs": [
    {
     "output_type": "stream",
     "name": "stdout",
     "text": "CPU times: user 149 ms, sys: 74.2 ms, total: 223 ms\nWall time: 30.1 s\n"
    },
    {
     "output_type": "execute_result",
     "data": {
      "text/plain": "50"
     },
     "metadata": {},
     "execution_count": 4
    }
   ],
   "source": [
    "%%time\n",
    "\n",
    "with Parallel(n_jobs=4, backend='multiprocessing') as parallel:\n",
    "    res = parallel(delayed(joblib_get_adverbs)(i) for i in f[:50])\n",
    "\n",
    "# res = set([i for i in itertools.chain.from_iterable(res)])\n",
    "len(res)"
   ]
  },
  {
   "cell_type": "markdown",
   "metadata": {},
   "source": [
    "# Process log file"
   ]
  },
  {
   "cell_type": "code",
   "execution_count": 5,
   "metadata": {},
   "outputs": [],
   "source": [
    "with open('./adverbs_log_file.log') as fl:\n",
    "    log = fl.read()"
   ]
  },
  {
   "cell_type": "code",
   "execution_count": 6,
   "metadata": {},
   "outputs": [],
   "source": [
    "adverbs = [json.loads(l.split('\\t')[-1]) for l in log.split('\\n') if l]"
   ]
  },
  {
   "cell_type": "code",
   "execution_count": 7,
   "metadata": {},
   "outputs": [
    {
     "output_type": "execute_result",
     "data": {
      "text/plain": "{'entirely': 2,\n 'directly': 4,\n 'previously': 2,\n 'exactly': 1,\n 'well': 26,\n 'that': 2,\n 'is': 2,\n 'as': 18,\n 'more': 41,\n 'easily': 3,\n 'effectively': 9,\n 'also': 35,\n 'how': 7,\n 'why': 5,\n 'increasingly': 3,\n 'clearly': 2,\n 'currently': 5,\n 'here': 1,\n 'just': 1,\n 'greatly': 2,\n 'particularly': 11,\n 'significantly': 3,\n 'gratefully': 1,\n 'exclusively': 1,\n 'implicitly': 1,\n 'intimately': 1,\n 'fairly': 1,\n 'conversely': 1,\n 'improperly': 1,\n 'most': 10,\n 'rarely': 8,\n 'recently': 2,\n 'furthermore': 4,\n 'below': 1,\n 'e.g.': 13,\n 'equitably': 2,\n 'twice': 2,\n 'about': 4,\n 'dramatically': 4,\n 'then': 6,\n 'once': 2,\n 'again': 2,\n 'near': 3,\n 'medically': 2,\n 'overall': 1,\n 'slightly': 2,\n 'at': 1,\n 'least': 1,\n 'nevertheless': 2,\n 'however': 24,\n 'even': 12,\n 'when': 20,\n 'only': 13,\n 'very': 6,\n 'where': 15,\n 'moderately': 8,\n 'severely': 8,\n 'almost': 3,\n 'thus': 8,\n 'additionally': 1,\n 'now': 3,\n 'economically': 1,\n 'possibly': 1,\n 'less': 9,\n 'high': 1,\n 'aggressively': 2,\n 'first': 6,\n 'considerably': 1,\n 'geographically': 5,\n 'usually': 4,\n 'therefore': 2,\n 'indeed': 1,\n 'especially': 7,\n 'often': 30,\n 'rather': 3,\n 'properly': 2,\n 'out': 1,\n 'normally': 1,\n 'similarly': 3,\n 'sexually': 2,\n 'physically': 1,\n 'thereby': 2,\n 'too': 2,\n 'together': 1,\n 'negatively': 2,\n 'freely': 1,\n 'commonly': 2,\n 'strongly': 1,\n 'substantially': 3,\n 'much': 2,\n 'still': 2,\n 'adequately': 3,\n 'yet': 1,\n 'disproportionately': 4,\n 'nearly': 2,\n 'ago': 1,\n 'initially': 1,\n 'instead': 4,\n 'always': 2,\n 'promptly': 1,\n 'poorly': 1,\n 'generally': 1,\n 'successfully': 3,\n 'closely': 1,\n 'mainly': 2,\n 'home': 1,\n 'necessarily': 1,\n 'somewhat': 1,\n 'carefully': 3,\n 'equally': 2,\n 'up': 1,\n 'saadah': 2,\n 'further': 1,\n 'lower': 1,\n 'completely': 2,\n 'long': 2,\n 'immediately': 1,\n 'virtually': 1,\n 'ever': 1,\n 'away': 2,\n 'seasonally': 1,\n 'highly': 1,\n 'infrequently': 1,\n 'seldom': 1,\n 'probably': 1,\n 'enough': 2,\n 'in': 1,\n 'so': 2,\n 'really': 1,\n 'close': 2,\n 'centrally': 1,\n 'already': 1,\n 'early': 2,\n 'potentially': 1,\n 'easier': 1,\n 'solely': 1,\n 'mknelly': 3,\n 'politically': 1,\n 'fully': 1,\n 'nationally': 1,\n 'worldwide': 1,\n 'better': 1,\n 'progressively': 2,\n 'elsewhere': 1,\n 'top': 2,\n 'before': 1,\n 'down': 2,\n 'favin': 1,\n 'whiteford': 1,\n 'daily': 1}"
     },
     "metadata": {},
     "execution_count": 7
    }
   ],
   "source": [
    "adverbs[0]"
   ]
  },
  {
   "cell_type": "code",
   "execution_count": null,
   "metadata": {},
   "outputs": [],
   "source": []
  }
 ],
 "metadata": {
  "kernelspec": {
   "display_name": "wb_nlp",
   "language": "python",
   "name": "wb_nlp"
  },
  "language_info": {
   "codemirror_mode": {
    "name": "ipython",
    "version": 3
   },
   "file_extension": ".py",
   "mimetype": "text/x-python",
   "name": "python",
   "nbconvert_exporter": "python",
   "pygments_lexer": "ipython3",
   "version": "3.8.5-final"
  },
  "pycharm": {
   "stem_cell": {
    "cell_type": "raw",
    "metadata": {
     "collapsed": false
    },
    "source": []
   }
  }
 },
 "nbformat": 4,
 "nbformat_minor": 4
}